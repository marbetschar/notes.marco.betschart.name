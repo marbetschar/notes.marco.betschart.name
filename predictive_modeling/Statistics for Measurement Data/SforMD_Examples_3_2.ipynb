{
 "cells": [
  {
   "cell_type": "markdown",
   "metadata": {},
   "source": [
    "### Statistics for Measurement Data Example 3.2\n",
    "The following data set consists of normally distributed data points $x_1,\\dotsc,x_{20}$ \n",
    "\n",
    "x = Series([5.9, 3.4, 6.6, 6.3, 4.2, 2.0, 6.0,\n",
    "            4.8, 4.2, 2.1, 8.7, 4.4, 5.1, 2.7,\n",
    "            8.5, 5.8, 4.9, 5.3, 5.5, 7.9])\n",
    "\n",
    "We assume that our measurements $x_1,x_2,\\dotsc,x_{20}$ are realizations of\n",
    "\\begin{equation*}\n",
    "X_i\\sim\\mathcal{N}(5,\\sigma_X)\n",
    "\\end{equation*} \n",
    "where  $\\sigma_X$ is unknown. Therefore, we must estimate $\\sigma_X$ on the \n",
    "basis of the data. The null hypothesis is $\\mu_0=5$. What is the probability \n",
    "that the mean value of a data set with distribution\n",
    "\\begin{equation*}\n",
    "X_i\\sim\\mathcal{N}(5,\\widehat{\\sigma}_X) \n",
    "\\end{equation*} \n",
    "is smaller than the mean value of our data set, where $\\widehat{\\sigma}_X$ denotes the estimate of the standard deviation? In other words, we would like to\n",
    "determine the probability\n",
    "\\begin{equation*}\n",
    "P(\\overline{X}_{20}\\leq \\overline{x}_{20}) \n",
    "\\end{equation*} \n",
    "\n",
    "where\n",
    "\\begin{equation*}\n",
    "  \\overline{X}_{20}\\sim\\mathcal{N}(5,\\widehat{\\sigma}_X/\\sqrt{20}) \n",
    "\\end{equation*} \n",
    "\n",
    "$\\overline{x}_{20}$ denotes the empirical mean and $\\widehat{\\sigma}_X$ is the estimated empirical standard deviation of the data set. \n",
    "\n",
    "To calculate the probability \n",
    "\\begin{equation*}\n",
    "P(\\overline{X}_{20}\\leq \\overline{x}_{20})\n",
    "\\end{equation*}\n",
    "we standardize the sample mean $\\overline{X}_{20}$ by subtracting the assumed mean value $\\mu_0=5$ from it  and then divide by the estimated standard error \n",
    "$\\widehat{\\sigma}_X/\\sqrt{n}$. Thus,\n",
    "\n",
    "\\begin{align*}\n",
    "P\\left(\\frac{\\overline{X}_n-5}{\\widehat{\\sigma}_X/\\sqrt{n}}\\leq\\frac{\\overline{x}_{20}-5}{\\widehat{\\sigma}_X/\\sqrt{n}}\\right) & =P\\left(T\\leq \\frac{5.2-5}{1.9/\\sqrt{20}}\\right)\\\\[1ex]\n",
    "& =P(T\\leq 0.51)\\\\[1ex]\n",
    "& =0.69\n",
    "\\end{align*}\n",
    "where we have used the fact that $T$ follows a $t_{20-1}$-distribution."
   ]
  },
  {
   "cell_type": "code",
   "execution_count": 1,
   "metadata": {},
   "outputs": [
    {
     "name": "stdout",
     "output_type": "stream",
     "text": [
      "0.6921780567888249\n"
     ]
    }
   ],
   "source": [
    "from scipy.stats import t\n",
    "import numpy as np\n",
    "from pandas import Series\n",
    "\n",
    "# Normally distributed data points: (n=20)\n",
    "x = Series([5.9, 3.4, 6.6, 6.3, 4.2, 2.0, 6.0,\n",
    "            4.8, 4.2, 2.1, 8.7, 4.4, 5.1, 2.7,\n",
    "            8.5, 5.8, 4.9, 5.3, 5.5, 7.9])\n",
    "\n",
    "# Mean and standard deviation from sample\n",
    "mean_x = x.mean()\n",
    "std_x = x.std()\n",
    "\n",
    "# t test statistic\n",
    "t_x = (mean_x - 5 ) / (std_x / np.sqrt(x.size))\n",
    "\n",
    "# P(T =< t), probability that T ist smaller or equal t\n",
    "p_T_t = t.cdf(x=t_x, df=x.size-1)\n",
    "\n",
    "print(p_T_t)\n"
   ]
  }
 ],
 "metadata": {
  "kernelspec": {
   "display_name": "Python 3",
   "language": "python",
   "name": "python3"
  },
  "language_info": {
   "codemirror_mode": {
    "name": "ipython",
    "version": 3
   },
   "file_extension": ".py",
   "mimetype": "text/x-python",
   "name": "python",
   "nbconvert_exporter": "python",
   "pygments_lexer": "ipython3",
   "version": "3.7.6"
  }
 },
 "nbformat": 4,
 "nbformat_minor": 4
}
