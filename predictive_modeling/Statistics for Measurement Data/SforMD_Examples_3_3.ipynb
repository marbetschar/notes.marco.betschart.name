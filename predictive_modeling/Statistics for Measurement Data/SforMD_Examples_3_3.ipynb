{
 "cells": [
  {
   "cell_type": "markdown",
   "metadata": {},
   "source": [
    "### Statistics for Measurement Data Example 3.3\n",
    "We take another look at example 3.1. However, we will now estimate the standard deviation $\\sigma_X$ on the basis of the data. We thus perform a $t$-test at the 5% significance level:\n",
    "\n",
    "1. **Model:** $X_i$ is a continuous measurement variable; \n",
    "\\begin{equation*}\n",
    "  X_1,\\ldots ,X_n\\ \\iid\\ \\mathcal{N}(\\mu,\\sigma_X^2), \\quad\\sigma_X \\text{ is estimated},\\;\\widehat{\\sigma_X} = 0.024 \n",
    "\\end{equation*} \n",
    "\n",
    "\n",
    "2. **Null hypothesis:**\n",
    "\\begin{equation*}\n",
    "  H_0:\\quad\\mu = \\mu_0 = 80.00 \n",
    "\\end{equation*} \n",
    "\n",
    "**Alternative:**\n",
    "\\begin{equation*}\n",
    "  H_A:\\quad\\mu \\neq \\mu_0 \n",
    "\\end{equation*} \n",
    "\n",
    "\n",
    "3. **Test statistic:**\n",
    "\\begin{equation*} \n",
    "T \n",
    "= \\frac{\\sqrt{n}(\\overline{X}_n-\\mu_0)}{\\widehat{\\sigma}_X} \n",
    "\\end{equation*} \n",
    "**Null distribution assuming $H_0$ is true:**\n",
    "\\begin{equation*} \n",
    "T \\sim\\ t_{n-1}\n",
    "\\end{equation*}\n",
    "  \n",
    "4. **Significance level:**\n",
    "\\begin{equation*}\n",
    "  \\alpha = 0.05 \n",
    "\\end{equation*} \n",
    "\n",
    "5. **Rejection region for the test statistic:**\n",
    "\\begin{equation*} \n",
    "K \n",
    "= (-\\infty, t_{n-1; \\frac{\\alpha}{2}}] \\cup[t_{n-1;1-\\frac{\\alpha}{2}}, \\infty)\\quad \\text{ with } H_A\\negthinspace:\\mu \\neq \\mu_0, \n",
    "\\end{equation*} \n",
    "\n",
    "We determine the value\n",
    "\\begin{equation*}\n",
    "t_{n-1; 1 -\\frac{\\alpha}{2}} = t_{12; 0.975} = 2.179 \n",
    "\\end{equation*} \n",
    "by means of **Python**, where $\\alpha = 0.05$ and $n=13$ "
   ]
  },
  {
   "cell_type": "code",
   "execution_count": 1,
   "metadata": {},
   "outputs": [
    {
     "name": "stdout",
     "output_type": "stream",
     "text": [
      "5% quantile 2.1788128296634177\n"
     ]
    }
   ],
   "source": [
    "from scipy.stats import t\n",
    "\n",
    "# 5% quantile on t distribution with n = 13\n",
    "q_5 = t.ppf(q=0.975, df=12)\n",
    "print(\"5% quantile\", q_5)"
   ]
  },
  {
   "cell_type": "markdown",
   "metadata": {},
   "source": [
    "The rejection region of the test statistic thus is given by\n",
    "\\begin{align*} \n",
    "K &= (-\\infty, -2.179] \\cup [2.179, \\infty) \n",
    "\\end{align*} \n",
    "\n",
    "6. **Test decision:**\n",
    "\n",
    "On the basis of $n=13$ measurements, we find \n",
    "\\begin{equation*}\n",
    "\\overline{x} = 80.02 \\quad\\text{and}\\quad \\widehat{\\sigma_X} = 0.024\n",
    "\\end{equation*} \n",
    "\n",
    "Hence, the realized value of the test statistic is\n",
    "\\begin{equation*}\n",
    " t =\\frac{\\sqrt{n}(\\overline{x}_n-\\mu_0)}{\\widehat{\\sigma}_X} =\\frac{\\sqrt{13}(80.02-80.00)}{0.024} \n",
    "  = 3.00 \n",
    "\\end{equation*} \n",
    "\n",
    "The observed value of the test statistic falls into the rejection region. \n",
    "Therefore, the null hypothesis is rejected at the 5% level."
   ]
  },
  {
   "cell_type": "markdown",
   "metadata": {},
   "source": [
    "We can perform the $t$-test directly in **Python** by using the **scipy.stats** function **ttest\\_1samp()**"
   ]
  },
  {
   "cell_type": "code",
   "execution_count": 2,
   "metadata": {},
   "outputs": [
    {
     "name": "stdout",
     "output_type": "stream",
     "text": [
      "t value 3.1246428367325474 \n",
      "p value 0.008778778818391179\n",
      "95% interval confidence interval (80.00628685027753, 80.03525161126093)\n"
     ]
    }
   ],
   "source": [
    "import numpy as np\n",
    "import scipy.stats as st\n",
    "from pandas import Series\n",
    "\n",
    "# Fusion heat data: n-=13\n",
    "x = Series([79.98, 80.04, 80.02, 80.04, 80.03,\n",
    "            80.03, 80.04, 79.97, 80.05, 80.03,\n",
    "            80.02, 80.00, 80.02])\n",
    "\n",
    "# t-test directly\n",
    "ttest = st.ttest_1samp(a=x, popmean=80)\n",
    "print(\"t value\", ttest.statistic, \"\\np value\", ttest.pvalue)\n",
    "\n",
    "int_5 = t.interval(alpha=0.95, df=12, loc=x.mean(), \n",
    "                   scale=x.std()/np.sqrt(13))\n",
    "print(\"95% interval confidence interval\", int_5)"
   ]
  }
 ],
 "metadata": {
  "kernelspec": {
   "display_name": "Python 3",
   "language": "python",
   "name": "python3"
  },
  "language_info": {
   "codemirror_mode": {
    "name": "ipython",
    "version": 3
   },
   "file_extension": ".py",
   "mimetype": "text/x-python",
   "name": "python",
   "nbconvert_exporter": "python",
   "pygments_lexer": "ipython3",
   "version": "3.7.6"
  }
 },
 "nbformat": 4,
 "nbformat_minor": 4
}
