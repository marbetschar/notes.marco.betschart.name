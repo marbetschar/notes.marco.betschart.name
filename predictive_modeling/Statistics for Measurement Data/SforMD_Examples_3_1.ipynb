{
 "cells": [
  {
   "cell_type": "markdown",
   "metadata": {},
   "source": [
    "### Statistics for Measurement Data Example 3.1\n",
    "We measure the fusion heat with a particular method and find for the empirical mean value of the $ n= 13 $ measurements $ 80.02 $.\n",
    "Let us assume that we know from previous studies that the standard deviation of our measuring instrument is $\\sigma_X = 0.01$. Is it plausible that the fusion heat is exactly $80.00{cal/gram}$? We perform a $z$-test for this purpose: "
   ]
  },
  {
   "cell_type": "markdown",
   "metadata": {},
   "source": [
    "1. **Model:** $X_i$ is a continuous measurement variable; \n",
    "\\begin{equation*} \n",
    "  X_1,\\ldots ,X_n\\ i.i.d. \\sim\\mathcal{N}(\\mu,\\sigma_X^2), \\quad \\sigma_X=0.01\\textrm{ known}, \\quad n=13\n",
    "\\end{equation*} \n",
    "\n",
    "2. **Null hypothesis:**\n",
    "\\begin{equation*} \n",
    "  H_0:\\quad \\mu = \\mu_0 = 80.00 \n",
    "\\end{equation*} \n",
    "\n",
    "**Alternative:**\n",
    "\\begin{equation*} \n",
    "  H_A:\\quad\\mu \\neq \\mu_0 \n",
    "\\end{equation*} \n",
    "\n",
    "3. **Test statistic:**\n",
    "\\begin{equation*} \n",
    "Z \n",
    "= \\frac{\\sqrt{n}(\\overline{X}_n-\\mu_0)}{\\sigma_X} \n",
    "\\end{equation*} \n",
    "Null distribution (assuming $H_0$ is true): \n",
    "\\begin{equation*} \n",
    "  Z \\sim\\mathcal{N}(0,1) \n",
    "\\end{equation*} \n",
    "\n",
    "4. **Significance level:**\n",
    "\\begin{equation*} \n",
    "  \\alpha = 0.05 \n",
    "\\end{equation*} \n",
    "\n",
    "5. **Rejection region for the test statistic:**\n",
    "\\begin{equation*} \n",
    "K \n",
    "= (-\\infty, z_{\\frac{\\alpha}{2}}] \\cup [z_{1-\\frac{\\alpha}{2}}, \\infty) \\quad \\text{with}\\quad H_A:\\ \\mu \\neq \\mu_0, \n",
    "\\end{equation*} \n",
    "\n",
    "Given $ \\alpha=0.05 $, **Python** yields the following 2.5% quantile of the standard normal distribution."
   ]
  },
  {
   "cell_type": "code",
   "execution_count": 1,
   "metadata": {},
   "outputs": [
    {
     "name": "stdout",
     "output_type": "stream",
     "text": [
      "-1.9599639845400545\n"
     ]
    }
   ],
   "source": [
    "from scipy.stats import norm\n",
    "\n",
    "q_25 = norm.ppf(0.025)\n",
    "print(q_25)"
   ]
  },
  {
   "cell_type": "markdown",
   "metadata": {},
   "source": [
    "\\begin{equation*} \n",
    "z_{\\frac{\\alpha}{2}} =\\Phi^{-1}\\left (\\frac{\\alpha}{2}\\right )  = \\Phi^{-1}(0.025)  = -1.96 \n",
    "\\end{equation*} \n",
    "The following rejection region for the test statistic results\n",
    "\\begin{equation*} \n",
    "K = (-\\infty, -1.96] \\cup [1.96, \\infty) \n",
    "\\end{equation*} \n",
    "\n",
    "6. **Test decision:** \n",
    "\n",
    "On the basis of the $n=13$ measurements we find for the empirical mean  \n",
    "\\begin{equation*} \n",
    "\\overline{x}_n =80.02 \n",
    "\\end{equation*} \n",
    "Hence the value for the test statistic is \n",
    "\\begin{equation*} \n",
    "  z =\\frac{\\sqrt{13}(80.02 - 80.00)}{0.01} = 7.211 \n",
    "\\end{equation*} \n",
    "Since the observed value of the test statistic falls into the rejection region, we reject the null hypothesis at the 5% significance level."
   ]
  },
  {
   "cell_type": "markdown",
   "metadata": {},
   "source": [
    "\n",
    "\n",
    "1. **Model:** $X_i$ is a continuous measured variable; \n",
    "\\begin{equation*}\n",
    "  X_1,\\ldots ,X_n\\ iid \\sim\\mathcal{N}(\\mu,\\sigma_X^2), \\quad \\sigma_X=0.01\\textrm{ known}, n=13\n",
    "\\end{equation*} \n",
    "\n",
    "2. **Null hypothesis:**\n",
    "\\begin{equation*}\n",
    "  H_0:\\quad \\mu = \\mu_0 = 80.00 \n",
    "\\end{equation*} \n",
    "\n",
    "\n",
    "**Alternative:**\n",
    "\\begin{equation*}\n",
    "  H_A:\\quad\\mu \\neq \\mu_0 \n",
    "\\end{equation*} \n",
    "\n",
    "3. **Test statistic:**\n",
    "\n",
    "The mean value of the measurements\n",
    "\\begin{equation*}\n",
    "  T:\\quad \\overline{X}_{n} \n",
    "\\end{equation*} \n",
    "\n",
    "**Null distribution (assuming $H_0$ is true):**\n",
    "\\begin{equation*}\n",
    "  T \\sim\\mathcal{N}\\left (\\mu_{0},\\dfrac{\\sigma_{X}^{2}}{n}\\right ) =\\mathcal{N}\\left (80,\\dfrac{0.01^{2}}{13}\\right ) \n",
    "\\end{equation*} \n",
    "\n",
    "4. **Significance level:**\n",
    "\\begin{equation*}\n",
    "  \\alpha  = 0.05 \n",
    "\\end{equation*} \n",
    "\n",
    "\n",
    "5. **Rejection region for the test statistic:**\n",
    "\\begin{equation*} \n",
    "K \n",
    "= (-\\infty, c_{u}] \\cup [c_{o}, \\infty) \\quad \\text{with}\\quad H_A:\\ \\mu \\neq \\mu_0, \n",
    "\\end{equation*} "
   ]
  },
  {
   "cell_type": "code",
   "execution_count": 3,
   "metadata": {},
   "outputs": [
    {
     "name": "stdout",
     "output_type": "stream",
     "text": [
      "(79.9945640379659, 80.0054359620341)\n"
     ]
    }
   ],
   "source": [
    "import numpy as np\n",
    "\n",
    "rej_reg_5 = norm.interval(alpha=0.95, loc=80, scale=0.01/np.sqrt(13))\n",
    "print(rej_reg_5)"
   ]
  },
  {
   "cell_type": "markdown",
   "metadata": {},
   "source": [
    "In this way, we obtain the rejection region for the test statistic:\n",
    "\\begin{equation*}\n",
    "K = (-\\infty, 79.99] \\cup [80.01, \\infty) \n",
    "\\end{equation*} \n",
    "\n",
    "\n",
    "6. **Test decision:**\n",
    "\n",
    "On the basis of the $n=13$ measurements, we calculate \n",
    "\\begin{equation*}\n",
    "\\overline{x}_n =80.02 \n",
    "\\end{equation*} \n",
    "The observed value falls into the rejection region of the test statistic. Hence, the null hypothesis at the 5% significance level is rejected. "
   ]
  }
 ],
 "metadata": {
  "kernelspec": {
   "display_name": "Python 3",
   "language": "python",
   "name": "python3"
  },
  "language_info": {
   "codemirror_mode": {
    "name": "ipython",
    "version": 3
   },
   "file_extension": ".py",
   "mimetype": "text/x-python",
   "name": "python",
   "nbconvert_exporter": "python",
   "pygments_lexer": "ipython3",
   "version": "3.7.6"
  }
 },
 "nbformat": 4,
 "nbformat_minor": 4
}
