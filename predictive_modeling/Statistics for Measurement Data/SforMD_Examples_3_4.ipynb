{
 "cells": [
  {
   "cell_type": "markdown",
   "metadata": {},
   "source": [
    "### Statistics for Measurement Data Example 3.4\n",
    "We take another look at example 3.1. We estimate the standard deviation $\\sigma_X$ on the basis of the data. We thus perform a $t$-test.\n",
    " \n",
    "If $X_i$ is a continuous measurement variable and if we assume \n",
    "\\begin{equation*}\n",
    "  X_1,\\ldots ,X_n\\ iid\\ \\mathcal{N}(\\mu,\\sigma_X^2)\n",
    "\\end{equation*} \n",
    "then the estimate of $\\sigma_X$ is $\\widehat{\\sigma_X} = 0.024$. \n",
    " \n",
    "The null hypothesis in our example can be formulated as\n",
    "\\begin{equation*}\n",
    "  H_0:\\quad\\mu = \\mu_0 = 80.00 \n",
    "\\end{equation*} \n",
    "\n",
    "Let us first consider the one-sided alternative hypothesis\n",
    "\\begin{equation*}\n",
    "  H_A:\\quad\\mu > \\mu_0 \n",
    "\\end{equation*} \n",
    "\n",
    "The test statistic is given by\n",
    "\\begin{equation*} \n",
    "T \n",
    "= \\frac{\\sqrt{n}(\\overline{X}_n-\\mu_0)}{\\widehat{\\sigma}_X} \n",
    "\\end{equation*} \n",
    "and under the null distribution assuming $H_0$ is true, we have  \n",
    "\n",
    "\\begin{equation*} \n",
    "T \\sim\\ t_{n-1}\n",
    "\\end{equation*}\n",
    "\n",
    "For the one-sided alternative hypothesis $H_A\\negthinspace:\\mu > \\mu_0$, the $p$-value can be calculated as follows - the observed value of the test statistic is $t = \\frac{\\sqrt{n}(\\overline{x}_n - \\mu_0)}{\\widehat{\\sigma}_X} = 3.1246$: \n",
    "\n",
    "\\begin{equation*} \n",
    "p\\text{-}\\textrm{value} = P(T > t) = P(T > 3.1246) = 0.00439\n",
    "\\end{equation*} \n",
    "\n",
    "In **Python** we compute the one-sided $ p $-value as follows"
   ]
  },
  {
   "cell_type": "code",
   "execution_count": 2,
   "metadata": {},
   "outputs": [
    {
     "name": "stdout",
     "output_type": "stream",
     "text": [
      "p-value one-sided:  0.004389738679399069\n"
     ]
    }
   ],
   "source": [
    "from scipy.stats import t\n",
    "\n",
    "df=12\n",
    "# P-value one sided test:\n",
    "p_one = 1-t.cdf(3.1246,df)\n",
    "\n",
    "print(\"p-value one-sided: \", p_one)"
   ]
  },
  {
   "cell_type": "markdown",
   "metadata": {},
   "source": [
    "We thus have evidence against the null hypothesis at the 5% level. \n",
    "\n",
    "Let us now consider the two-sided alternative hypothesis\n",
    "\\begin{equation*}\n",
    "  H_A:\\quad\\mu \\neq \\mu_0 \n",
    "\\end{equation*} \n",
    "For the two-sided alternative hypothesis $H_A\\negthinspace:\\mu\\neq \\mu_0$, the $p$-value can be calculated as follows (the observed value of the test statistic is $t = \\frac{\\sqrt{n}|\\overline{x}_n - \\mu_0|}{\\widehat{\\sigma}_X}$): \n",
    "\n",
    "\\begin{align*} \n",
    "p\\text{-}\\textrm{value} &= P(|T| > |t|)\\\\ \n",
    "& = P(T < -|t|) + P(T > |t|)\\\\ \n",
    "& = 2\\cdot P(T>|t|) \n",
    "\\end{align*} \n",
    "\n",
    "In **Python** we compute the two-sided $ p $-value as follows:"
   ]
  },
  {
   "cell_type": "code",
   "execution_count": 3,
   "metadata": {},
   "outputs": [
    {
     "name": "stdout",
     "output_type": "stream",
     "text": [
      "p-value two-sided:  0.008779477358798138\n"
     ]
    }
   ],
   "source": [
    "# P-value two sided test:\n",
    "p_two = 2*(1-t.cdf(3.1246,df))\n",
    "\n",
    "print(\"p-value two-sided: \", p_two)"
   ]
  },
  {
   "cell_type": "markdown",
   "metadata": {},
   "source": [
    "For a two-sided alternative hypothesis the $p$-value is given by 0.008779 and thus, it is statistically significant at the 5% \n",
    "significance level. "
   ]
  }
 ],
 "metadata": {
  "kernelspec": {
   "display_name": "Python 3",
   "language": "python",
   "name": "python3"
  },
  "language_info": {
   "codemirror_mode": {
    "name": "ipython",
    "version": 3
   },
   "file_extension": ".py",
   "mimetype": "text/x-python",
   "name": "python",
   "nbconvert_exporter": "python",
   "pygments_lexer": "ipython3",
   "version": "3.7.6"
  }
 },
 "nbformat": 4,
 "nbformat_minor": 4
}
