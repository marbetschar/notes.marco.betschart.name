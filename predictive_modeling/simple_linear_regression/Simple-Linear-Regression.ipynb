{
 "cells": [
  {
   "cell_type": "markdown",
   "metadata": {
    "editable": true,
    "slideshow": {
     "slide_type": ""
    },
    "tags": []
   },
   "source": [
    "# Simple Linear Regression"
   ]
  },
  {
   "cell_type": "markdown",
   "metadata": {
    "editable": true,
    "slideshow": {
     "slide_type": ""
    },
    "tags": []
   },
   "source": [
    "## Least Squares Method $^{2.4}$\n",
    "\n",
    "### Using statsmodels\n",
    "\n",
    "We are interested in the values of $ \\hat{\\beta}_{0} $ and $ \\hat{\\beta}_{1} $ for the **Advertising** data. By means of the **Python**-function **OLS()**, we can easily determine those values:"
   ]
  },
  {
   "cell_type": "code",
   "metadata": {
    "editable": true,
    "slideshow": {
     "slide_type": ""
    },
    "tags": [],
    "ExecuteTime": {
     "end_time": "2025-10-26T19:10:22.175360Z",
     "start_time": "2025-10-26T19:10:21.487385Z"
    }
   },
   "source": [
    "import pandas as pd\n",
    "import statsmodels.api as sm\n",
    "\n",
    "# Load data\n",
    "df = pd.read_csv('./data/Advertising.csv')\n",
    "x = df['TV']\n",
    "y = df['sales']\n",
    "\n",
    "# Linear Regression using statsmodels.api\n",
    "x_sm = sm.add_constant(x)\n",
    "model = sm.OLS(y, x_sm).fit()\n",
    "\n",
    "# Now we can print a summary, \n",
    "print(model.summary())"
   ],
   "outputs": [
    {
     "name": "stdout",
     "output_type": "stream",
     "text": [
      "                            OLS Regression Results                            \n",
      "==============================================================================\n",
      "Dep. Variable:                  sales   R-squared:                       0.612\n",
      "Model:                            OLS   Adj. R-squared:                  0.610\n",
      "Method:                 Least Squares   F-statistic:                     312.1\n",
      "Date:                Sun, 26 Oct 2025   Prob (F-statistic):           1.47e-42\n",
      "Time:                        20:10:22   Log-Likelihood:                -519.05\n",
      "No. Observations:                 200   AIC:                             1042.\n",
      "Df Residuals:                     198   BIC:                             1049.\n",
      "Df Model:                           1                                         \n",
      "Covariance Type:            nonrobust                                         \n",
      "==============================================================================\n",
      "                 coef    std err          t      P>|t|      [0.025      0.975]\n",
      "------------------------------------------------------------------------------\n",
      "const          7.0326      0.458     15.360      0.000       6.130       7.935\n",
      "TV             0.0475      0.003     17.668      0.000       0.042       0.053\n",
      "==============================================================================\n",
      "Omnibus:                        0.531   Durbin-Watson:                   1.935\n",
      "Prob(Omnibus):                  0.767   Jarque-Bera (JB):                0.669\n",
      "Skew:                          -0.089   Prob(JB):                        0.716\n",
      "Kurtosis:                       2.779   Cond. No.                         338.\n",
      "==============================================================================\n",
      "\n",
      "Notes:\n",
      "[1] Standard Errors assume that the covariance matrix of the errors is correctly specified.\n"
     ]
    }
   ],
   "execution_count": 2
  },
  {
   "cell_type": "markdown",
   "metadata": {},
   "source": [
    "The coefficients are listed under **(coef)**. Here **const** corresponds to $ \\hat{\\beta}_{0} $, thus to the intercept with the $ y $-axis, and the **TV** corresponds to the slope of the regression line, thus to $ \\hat{\\beta}_{1} $."
   ]
  },
  {
   "cell_type": "markdown",
   "metadata": {
    "editable": true,
    "slideshow": {
     "slide_type": ""
    },
    "tags": []
   },
   "source": [
    "###  Using sklearn"
   ]
  },
  {
   "cell_type": "code",
   "metadata": {
    "editable": true,
    "slideshow": {
     "slide_type": ""
    },
    "tags": [],
    "ExecuteTime": {
     "end_time": "2025-10-26T19:10:22.321636Z",
     "start_time": "2025-10-26T19:10:22.180188Z"
    }
   },
   "source": [
    "import numpy as np\n",
    "from sklearn.linear_model import LinearRegression\n",
    "\n",
    "x = [[x[i]] for i in range(len(x))]\n",
    "\n",
    "# Linear Regression using sklearn\n",
    "linreg = LinearRegression()\n",
    "linreg.fit(x, y)\n",
    "\n",
    "print('Coefficients: \\n', np.round(linreg.coef_, 4),\n",
    "      '\\nIntercept: \\n', np.round(linreg.intercept_, 4))"
   ],
   "outputs": [
    {
     "name": "stdout",
     "output_type": "stream",
     "text": [
      "Coefficients: \n",
      " [0.0475] \n",
      "Intercept: \n",
      " 7.0326\n"
     ]
    }
   ],
   "execution_count": 3
  },
  {
   "cell_type": "markdown",
   "metadata": {},
   "source": [
    "Our regression model then is given by\n",
    "\\begin{equation*}\n",
    "Y\n",
    "\\approx 7.03+0.0475X\n",
    "\\end{equation*}\n",
    "According to this approximation, an additional CHF 1000 spent on TV advertising is associated with selling approximately 47.5 additional units of the product. \n"
   ]
  },
  {
   "cell_type": "code",
   "metadata": {
    "ExecuteTime": {
     "end_time": "2025-10-26T19:10:22.562123Z",
     "start_time": "2025-10-26T19:10:22.326040Z"
    }
   },
   "source": [
    "import matplotlib.pyplot as plt\n",
    "\n",
    "# Predicted y\n",
    "y_pred = model.predict(x_sm)\n",
    "\n",
    "# Create figure and plot\n",
    "fig = plt.figure(figsize=(6, 6))\n",
    "ax = fig.add_subplot(1, 1, 1)\n",
    "plt.plot(df['TV'], y, marker='o', linestyle='None', \n",
    "         color='darkcyan', markersize='3', label=\"Data\")\n",
    "plt.plot(df['TV'], y_pred, 'b-', label=\"Predction\")\n",
    "# Set labels and Legend\n",
    "ax.set_xlabel('TV')\n",
    "ax.set_ylabel('Sales')\n",
    "plt.legend()\n",
    "plt.show()"
   ],
   "outputs": [
    {
     "data": {
      "text/plain": [
       "<Figure size 600x600 with 1 Axes>"
      ],
      "image/png": "[encoded data removed]"
     },
     "metadata": {},
     "output_type": "display_data",
     "jetTransient": {
      "display_id": null
     }
    }
   ],
   "execution_count": 4
  },
  {
   "cell_type": "markdown",
   "metadata": {},
   "source": [
    "1. The **Python**-function **statsmodels.api.OLS()** uses Ordinary Least Squares to fit the *linear model*.\n",
    "1. Be aware of the (default) order of the function parameters **x** and **y** in **sm.OLS(y, x)**.\n",
    "1. If **x** is a one-dimensional vector, it needs to be preprocessed using **sm.add\\_constant(x)**."
   ]
  },
  {
   "cell_type": "code",
   "metadata": {
    "editable": true,
    "slideshow": {
     "slide_type": ""
    },
    "tags": [],
    "ExecuteTime": {
     "end_time": "2025-10-26T19:10:22.621673Z",
     "start_time": "2025-10-26T19:10:22.598411Z"
    }
   },
   "source": [
    "np.sqrt(model.mse_resid)"
   ],
   "outputs": [
    {
     "data": {
      "text/plain": [
       "3.258656368650462"
      ]
     },
     "execution_count": 5,
     "metadata": {},
     "output_type": "execute_result"
    }
   ],
   "execution_count": 5
  },
  {
   "cell_type": "markdown",
   "metadata": {
    "editable": true,
    "slideshow": {
     "slide_type": ""
    },
    "tags": []
   },
   "source": [
    "## Standard Error  $^{3.1}$\n",
    "\n",
    "In this example we assume that we know the *true* relationship between \n",
    "$X$ and $Y$, which is \n",
    "\\begin{equation}\n",
    "f(X) =2+3X \n",
    "\\end{equation}\n",
    "\n",
    "However, in practice we will never observe this perfect relationship, but \n",
    "\\begin{equation}\n",
    "Y=f(X)+\\epsilon =2+3X +\\epsilon\n",
    "\\end{equation}\n",
    "\n",
    "We call $f(X)=2+3x$ the *population regression line*, which is the best linear approximation to the true relationship between $X$ and $Y$. If we now observe realizations of $X$ and $Y$, we can determine the *least squares line*\n",
    "\\begin{equation*}\n",
    "Y=\\beta_0 + \\beta_1 X + \\epsilon\n",
    "\\end{equation*}\n",
    "\n",
    "by estimating $\\beta_0$ and $\\beta_1$ according to the equation. \n",
    "\n",
    "Let us simulate the observed data $X$ and $Y$  from the model\n",
    "\\begin{equation*}\n",
    "Y=2+3X+\\epsilon\n",
    "\\end{equation*}\n",
    "\n",
    "where $ \\epsilon $ is normally distributed with mean 0, thus $ \\epsilon\\sim\\mathcal{N}(0,\\sigma^{2}) $. We create 100 random values of $ X $, and generate 100 corresponding values of $Y$ from the model $Y=2+3X+\\epsilon$"
   ]
  },
  {
   "cell_type": "code",
   "metadata": {
    "editable": true,
    "slideshow": {
     "slide_type": ""
    },
    "tags": [],
    "ExecuteTime": {
     "end_time": "2025-10-26T19:10:22.674302Z",
     "start_time": "2025-10-26T19:10:22.668372Z"
    }
   },
   "source": [
    "import numpy as np\n",
    "\n",
    "n = 100  # number of datapoints\n",
    "\n",
    "# crate data around y=ax+b\n",
    "a, b = 3, 2\n",
    "x = np.sort(np.random.uniform(low=-2, high=2, size=(n)))\n",
    "\n",
    "y = b + a*x + np.random.normal(loc=0.0, scale=4, size=n)\n",
    "\n",
    "\n",
    "x_true = np.linspace(-2, 2, n)\n",
    "y_true = b + a*x_true"
   ],
   "outputs": [],
   "execution_count": 6
  },
  {
   "cell_type": "markdown",
   "metadata": {},
   "source": [
    "We can now plot a number of randomly generated datapoints and the found regression line. "
   ]
  },
  {
   "cell_type": "code",
   "metadata": {
    "ExecuteTime": {
     "end_time": "2025-10-26T19:10:22.872485Z",
     "start_time": "2025-10-26T19:10:22.682148Z"
    }
   },
   "source": [
    "import matplotlib.pyplot as plt\n",
    "import statsmodels.api as sm\n",
    "\n",
    "# Create figure and plot\n",
    "fig = plt.figure(figsize=(14, 4))\n",
    "for i in range(3):\n",
    "    ax = fig.add_subplot(1, 3, i+1)\n",
    "    \n",
    "    # Random data along known function:\n",
    "    x = np.sort(np.random.uniform(low=-2, high=2, size=n))\n",
    "    x_sm = sm.add_constant(x)\n",
    "    y = 2 + 3*x + np.random.normal(loc=0.0, scale=4, size=n)\n",
    "    # Linear Regression and prediction:\n",
    "    model = sm.OLS(y, x_sm).fit()\n",
    "    y_pred = model.predict(x_sm)\n",
    "    \n",
    "    # Data points:\n",
    "    plt.plot(x, y, marker='o', linestyle='None', \n",
    "             color='darkcyan', markersize='3', label=\"Data\")\n",
    "    # True line:\n",
    "    plt.plot(x_true, y_true, 'r-', label=\"True\")\n",
    "    # Predicted line:\n",
    "    plt.plot(x, y_pred, 'b-', label=\"Prediction\")\n",
    "\n",
    "    # Set labels and Legend\n",
    "    ax.set_xlabel('x'), ax.set_ylabel('y')\n",
    "    ax.set_xlim(-2, 2), ax.set_ylim(-10, 10)\n",
    "    plt.legend()\n",
    "\n",
    "plt.tight_layout()\n",
    "plt.show()"
   ],
   "outputs": [
    {
     "data": {
      "text/plain": [
       "<Figure size 1400x400 with 3 Axes>"
      ],
      "image/png": "[encoded data removed]"
     },
     "metadata": {},
     "output_type": "display_data",
     "jetTransient": {
      "display_id": null
     }
    }
   ],
   "execution_count": 7
  },
  {
   "cell_type": "markdown",
   "metadata": {},
   "source": [
    "The red line represents the plot of the function  $ f(X)=2+3X $, which remains identical in all three simulations. The blue line is the least squares line that was constructed by means of the least squares estimates for the simulated data.  Each least squares line is different, but on average, the least squares lines are quite close to the population regression line.\n",
    "\n",
    "In the next figure we have generated ten different data sets from the model given by $Y  = 2+3X +\\epsilon$ and plotted the corresponding ten least squares lines. Notice that different data sets generated from the same true model result in slightly different least squares lines, but the unobserved population regression line does not change. "
   ]
  },
  {
   "cell_type": "code",
   "metadata": {
    "editable": true,
    "slideshow": {
     "slide_type": ""
    },
    "tags": [],
    "ExecuteTime": {
     "end_time": "2025-10-26T19:10:22.944258Z",
     "start_time": "2025-10-26T19:10:22.877602Z"
    }
   },
   "source": [
    "n_lines = 100 # number of iterations\n",
    "\n",
    "# Create figure and plot\n",
    "fig = plt.figure(figsize=(6,4))\n",
    "ax = fig.add_subplot(1, 1, 1)\n",
    "\n",
    "for i in range(n_lines):\n",
    "    # Random data allong known function:\n",
    "    x = np.sort(np.random.uniform(low=-2, high=2, size=n))\n",
    "    x_sm = sm.add_constant(x)\n",
    "    y = 2 + 3*x + np.random.normal(loc=0.0, scale=4, size=n)\n",
    "    # Linear Regression and prediction:\n",
    "    model = sm.OLS(y, x_sm).fit()\n",
    "    y_pred = model.predict(x_sm)\n",
    "\n",
    "    # Predicted line:\n",
    "    plt.plot(x, y_pred, 'b-', alpha=0.7)\n",
    "# True line:\n",
    "plt.plot(x_true, y_true, 'r-', label=\"True\")\n",
    "# Set labels and Legend\n",
    "ax.set_xlabel('x'), ax.set_ylabel('y')\n",
    "ax.set_xlim(-2, 2), ax.set_ylim(-10, 10)\n",
    "\n",
    "plt.show()"
   ],
   "outputs": [
    {
     "data": {
      "text/plain": [
       "<Figure size 600x400 with 1 Axes>"
      ],
      "image/png": "[encoded data removed]"
     },
     "metadata": {},
     "output_type": "display_data",
     "jetTransient": {
      "display_id": null
     }
    }
   ],
   "execution_count": 8
  },
  {
   "cell_type": "markdown",
   "metadata": {
    "editable": true,
    "slideshow": {
     "slide_type": ""
    },
    "tags": []
   },
   "source": [
    "## Residual Standard Error $^{3.3}$\n",
    "\n",
    "For the **Advertising** data we can determine the standard errors of the estimated coefficients with the help of **Python**:"
   ]
  },
  {
   "cell_type": "code",
   "metadata": {
    "editable": true,
    "slideshow": {
     "slide_type": ""
    },
    "tags": [],
    "ExecuteTime": {
     "end_time": "2025-10-26T19:10:22.957038Z",
     "start_time": "2025-10-26T19:10:22.949729Z"
    }
   },
   "source": [
    "import pandas as pd\n",
    "import statsmodels.api as sm\n",
    "\n",
    "# Load data\n",
    "df = pd.read_csv('./data/Advertising.csv')\n",
    "x = df['TV']\n",
    "y = df['sales']\n",
    "\n",
    "# Linear Regression using statsmodels.api\n",
    "x_sm = sm.add_constant(x)\n",
    "model = sm.OLS(y, x_sm).fit()\n",
    "\n",
    "# Now we can print a summary, \n",
    "print(model.summary())"
   ],
   "outputs": [
    {
     "name": "stdout",
     "output_type": "stream",
     "text": [
      "                            OLS Regression Results                            \n",
      "==============================================================================\n",
      "Dep. Variable:                  sales   R-squared:                       0.612\n",
      "Model:                            OLS   Adj. R-squared:                  0.610\n",
      "Method:                 Least Squares   F-statistic:                     312.1\n",
      "Date:                Sun, 26 Oct 2025   Prob (F-statistic):           1.47e-42\n",
      "Time:                        20:10:22   Log-Likelihood:                -519.05\n",
      "No. Observations:                 200   AIC:                             1042.\n",
      "Df Residuals:                     198   BIC:                             1049.\n",
      "Df Model:                           1                                         \n",
      "Covariance Type:            nonrobust                                         \n",
      "==============================================================================\n",
      "                 coef    std err          t      P>|t|      [0.025      0.975]\n",
      "------------------------------------------------------------------------------\n",
      "const          7.0326      0.458     15.360      0.000       6.130       7.935\n",
      "TV             0.0475      0.003     17.668      0.000       0.042       0.053\n",
      "==============================================================================\n",
      "Omnibus:                        0.531   Durbin-Watson:                   1.935\n",
      "Prob(Omnibus):                  0.767   Jarque-Bera (JB):                0.669\n",
      "Skew:                          -0.089   Prob(JB):                        0.716\n",
      "Kurtosis:                       2.779   Cond. No.                         338.\n",
      "==============================================================================\n",
      "\n",
      "Notes:\n",
      "[1] Standard Errors assume that the covariance matrix of the errors is correctly specified.\n"
     ]
    }
   ],
   "execution_count": 9
  },
  {
   "cell_type": "markdown",
   "metadata": {},
   "source": [
    "In the table under **coef**, the listed values are $\\hat{\\beta}_{0} $ and $ \\hat{\\beta}_{1} $. In the column **Std.\\,Error** we find the values $ 0.457843 $  and $ 0.002691 $ for the two standard errors $ se (\\hat{\\beta}_{0}) $ and  $ se (\\hat{\\beta}_{1}) $. They correspond to the average deviations of the estimated values of $\\hat{\\beta}_{0} $ and $ \\hat{\\beta}_{1} $ which are $ 7.0326 $ and $ 0.04754 $.\n",
    "In the right top part, we find some constants describing the fit, for example **R-squared** which is the portion of variance explained by the fit. "
   ]
  },
  {
   "cell_type": "markdown",
   "metadata": {
    "editable": true,
    "slideshow": {
     "slide_type": ""
    },
    "tags": []
   },
   "source": [
    "## t-Test in Linear Regression $^{3.4}$\n",
    "\n",
    "For the **Advertising** data, we want to compute the p-value of  $\\beta_1$  of the least squares model for the regression of number of units sold on TV advertising budget.\n",
    "\n",
    "The least squares estimate for $\\beta_1$ is 0.047537 and the standard error of $\\hat{\\beta}_1$.\n",
    "\n",
    "Hence, we find for the realization of the statistic $T$\n",
    "\\begin{equation*}\n",
    "t\n",
    "=\\dfrac{\\hat{\\beta}_{1}-0}{se (\\hat{\\beta}_{1})}\n",
    "=\\dfrac{0.047537-0}{0.002691}\n",
    "=17.66518\n",
    "\\end{equation*}\n",
    "\n",
    "\n",
    "Furthermore, we find in the **Python**-output, that the number of degrees of freedom is $198$, which is listed under **Df Residuals**. The number of degrees of freedom is given by  $n-2$, it follows that in total there are $n=200$ data points. This number corresponds to the number of markets in the data set **Advertising**.\n",
    "\n",
    "Since the coefficient for $\\hat{\\beta}_1$ is very large relative to its standard error, so the t-statistic is also large. The probability of seeing such a value if $H_{0}$ is true is virtually zero. Hence we can conclude that $\\beta_{1}\\neq 0$. \n",
    "\n",
    "We now will compute the p-value, that is, the probability of observing a value of the t-statistic larger than $|t|=17.66518$. Assuming $\\beta_1=0$, $T$ will follow a t-distribution with  $n-2=198$ degrees of freedom. Then the (two-sided) p-value can be determined with the help of **Python**"
   ]
  },
  {
   "cell_type": "code",
   "metadata": {
    "editable": true,
    "slideshow": {
     "slide_type": ""
    },
    "tags": [],
    "ExecuteTime": {
     "end_time": "2025-10-26T19:10:22.968975Z",
     "start_time": "2025-10-26T19:10:22.966614Z"
    }
   },
   "source": [
    "from scipy.stats import t\n",
    "\n",
    "p_two_sided = 2 * (1 - t.cdf(17.66518, 198))\n",
    "print(p_two_sided)"
   ],
   "outputs": [
    {
     "name": "stdout",
     "output_type": "stream",
     "text": [
      "0.0\n"
     ]
    }
   ],
   "execution_count": 10
  },
  {
   "cell_type": "markdown",
   "metadata": {},
   "source": [
    "Since the alternative hypothesis is two-sided, we need to multiply the one-sided p-value by two in order to obtain the two-sided p-value. \n",
    "The corresponding  p-value : $0.000$ is listed under **P(>|t|)**. Since it is zero, hence smaller than a siginificance level of $ 0.05 $ , we *reject* the null hypothesis  $\\beta_{1}=0$ in favor of the alternative hypothesis $\\beta_{1}\\neq 0 $. We therefore find that there clearly is a relationship between **TV** and **sales**."
   ]
  },
  {
   "cell_type": "markdown",
   "metadata": {
    "editable": true,
    "slideshow": {
     "slide_type": ""
    },
    "tags": []
   },
   "source": [
    "## Confidence Intervals for Regression Coefficients $^{3.5}$\n",
    "\n",
    "In the case of the **Advertising** data, the 95% confidence interval can be found with the help of the **conf\\_int**-function: "
   ]
  },
  {
   "cell_type": "code",
   "metadata": {
    "editable": true,
    "slideshow": {
     "slide_type": ""
    },
    "tags": [],
    "ExecuteTime": {
     "end_time": "2025-10-26T19:10:22.987227Z",
     "start_time": "2025-10-26T19:10:22.982994Z"
    }
   },
   "source": [
    "import numpy as np\n",
    "# Confidence interval found using conf_int method\n",
    "print(np.round(model.conf_int(alpha=0.05), 4))"
   ],
   "outputs": [
    {
     "name": "stdout",
     "output_type": "stream",
     "text": [
      "            0       1\n",
      "const  6.1297  7.9355\n",
      "TV     0.0422  0.0528\n"
     ]
    }
   ],
   "execution_count": 11
  },
  {
   "cell_type": "markdown",
   "metadata": {},
   "source": [
    "The 95%-confidence interval for $\\beta_{0}$ thus is\n",
    "\\begin{equation*}\n",
    "[6.130,7.935]\n",
    "\\end{equation*}\n",
    "and the 95%-confidence interval for $\\beta_{1}$\n",
    "\\begin{equation*}\n",
    "[0.042,0.053]\n",
    "\\end{equation*}\n",
    "Therefore, we can conclude that in the absence of any advertising, sales will, on average, fall somewhere between $ 6130 $ and $ 7935 $ units. Furthermore, for each  CHF 1000 increase in television advertising, there will be an average increase in sales of between 42 and 53 units. "
   ]
  },
  {
   "cell_type": "markdown",
   "metadata": {},
   "source": [
    "1. The exact formula for the 95% confidence interval for the regression coefficient $\\beta_i$ is\n",
    "\n",
    "\\begin{equation*}\n",
    "\\left [\n",
    "\\hat{\\beta}_i- t_{0.975;n-2}\\cdot se (\\hat{\\beta}_{i}),\\hat{\\beta}_{i}+ t_{0.975;n-2}\\cdot se (\\hat{\\beta}_{i})\n",
    "\\right ]\n",
    "\\end{equation*}\n",
    "\n",
    "where $t_{0.975;n-1}$ is the 97.5% quantile of a t-distribution with  $n-2$ degrees of freedom. \n",
    "\n",
    "2. With **Python** we determine the  97.5% quantile of a t-distribution as follows"
   ]
  },
  {
   "cell_type": "code",
   "metadata": {
    "ExecuteTime": {
     "end_time": "2025-10-26T19:10:23.001661Z",
     "start_time": "2025-10-26T19:10:22.999532Z"
    }
   },
   "source": [
    "# the 97.5% quantile of a t-distribution:\n",
    "q_975 = t.ppf(0.975, 18)\n",
    "print(np.round(q_975, 4))"
   ],
   "outputs": [
    {
     "name": "stdout",
     "output_type": "stream",
     "text": [
      "2.1009\n"
     ]
    }
   ],
   "execution_count": 12
  },
  {
   "cell_type": "markdown",
   "metadata": {},
   "source": [
    "which is approximately 2."
   ]
  },
  {
   "cell_type": "markdown",
   "metadata": {
    "editable": true,
    "slideshow": {
     "slide_type": ""
    },
    "tags": []
   },
   "source": [
    "## Confidence Interval for the True Predicted Value $^{4.2}$\n",
    "For the **Advertising** data set we determine the 95% confidence intervals for the following values of **TV** : $ 3 $, $ 100 $ and $ 275 $"
   ]
  },
  {
   "cell_type": "code",
   "metadata": {
    "editable": true,
    "slideshow": {
     "slide_type": ""
    },
    "tags": [],
    "ExecuteTime": {
     "end_time": "2025-10-26T19:10:23.019944Z",
     "start_time": "2025-10-26T19:10:23.014103Z"
    }
   },
   "source": [
    "import numpy as np\n",
    "import pandas as pd\n",
    "import statsmodels.api as sm\n",
    "\n",
    "# Load data\n",
    "df = pd.read_csv('./data/Advertising.csv')\n",
    "x = df['TV']\n",
    "y = df['sales']\n",
    "\n",
    "# Fit Linear Model\n",
    "x = sm.add_constant(x)\n",
    "model = sm.OLS(y,x).fit()\n",
    "\n",
    "# Prediction at points 3, 100 and 270\n",
    "x0 = [3, 100, 275]\n",
    "x0 = sm.add_constant(x0)\n",
    "\n",
    "predictionsx0 = model.get_prediction(x0)\n",
    "predictionsx0 = predictionsx0.summary_frame(alpha=0.05)\n",
    "predictionsx0 = np.round(predictionsx0, 4)\n",
    "print(predictionsx0)"
   ],
   "outputs": [
    {
     "name": "stdout",
     "output_type": "stream",
     "text": [
      "      mean  mean_se  mean_ci_lower  mean_ci_upper  obs_ci_lower  obs_ci_upper\n",
      "0   7.1752   0.4509         6.2860         8.0644        0.6879       13.6626\n",
      "1  11.7863   0.2629        11.2678        12.3047        5.3393       18.2333\n",
      "2  20.1052   0.4143        19.2882        20.9221       13.6273       26.5830\n"
     ]
    }
   ],
   "execution_count": 13
  },
  {
   "cell_type": "markdown",
   "metadata": {},
   "source": [
    "In the **Python**-output, the values \n",
    "\\begin{equation*}\n",
    "\\hat{y}_{0}\n",
    "=\\hat{\\beta}_{0}+\\hat{\\beta}_{1}x_{0}\n",
    "\\end{equation*} \n",
    "\n",
    "can be found under **mean**; they correspond to the $y$-values on the regression line, thus to the predicted response given a predictor value. \n",
    "Under **mean ci lower** the lower limits, under **mean ci upper** the upper limits of the corresponding confidence intervals can be found. \n",
    "\n",
    "For the value $ x_{0}=100 $ the 95% confidence interval is given by\n",
    "\\begin{equation*}\n",
    "[11.268,12.305]\n",
    "\\end{equation*}\n",
    "The expected value of $\\hat{y}_0$ given the predictor value $ x_{0}=100 $ is contained in this interval with a probability of  95%. \n",
    "\n",
    "We can visualize confidence intervals for the expected response variable given an intervall of predictor values. In the next figure the regression line is plotted in blue. The green curves correspond to the lower and upper limits of the confidence intervals given a $ x_{0} $. The red lines represent the 95% confidence intervals for the values $ x_{0}=3, 100$ and $ 275 $. These intervals contain with a probability of 95% the corresponding expected values of $\\hat{y}_{0} $.  "
   ]
  },
  {
   "cell_type": "code",
   "metadata": {
    "ExecuteTime": {
     "end_time": "2025-10-26T19:10:23.070089Z",
     "start_time": "2025-10-26T19:10:23.032384Z"
    }
   },
   "source": [
    "import matplotlib.pyplot as plt\n",
    "\n",
    "x = np.linspace(0, 300)\n",
    "x_sm = sm.add_constant(x)\n",
    "\n",
    "# Predictions\n",
    "predictionsx = model.get_prediction(x_sm)\n",
    "# at 95% confidence:\n",
    "predictionsx = predictionsx.summary_frame(alpha=0.05)\n",
    "\n",
    "# Create figure and plot\n",
    "fig = plt.figure(figsize=(8, 6))\n",
    "ax = fig.add_subplot(1, 1, 1)\n",
    "# prediction\n",
    "plt.plot(x, predictionsx.loc[:,'mean'], 'b-')\n",
    "# upper and lower boundaries at 95%\n",
    "plt.plot(x, predictionsx.loc[:,'mean_ci_lower'], 'c-')\n",
    "plt.plot(x, predictionsx.loc[:,'mean_ci_upper'], 'c-')\n",
    "# lines of the three points in x0:\n",
    "for i in range(len(x0)):\n",
    "    plt.plot([x0[i, 1], x0[i, 1]], \n",
    "             [0, predictionsx0.loc[:,'mean_ci_lower'][i]], 'k:' )\n",
    "    plt.plot([x0[i, 1], x0[i, 1]], \n",
    "             [predictionsx0.loc[:,'mean_ci_lower'][i], \n",
    "              predictionsx0.loc[:,'mean_ci_upper'][i]], 'r-' )\n",
    "\n",
    "# Set labels and Legend\n",
    "ax.set_xlabel('TV')\n",
    "ax.set_ylabel('Sales')\n",
    "\n",
    "plt.show()"
   ],
   "outputs": [
    {
     "data": {
      "text/plain": [
       "<Figure size 800x600 with 1 Axes>"
      ],
      "image/png": "[encoded data removed]"
     },
     "metadata": {},
     "output_type": "display_data",
     "jetTransient": {
      "display_id": null
     }
    }
   ],
   "execution_count": 14
  },
  {
   "cell_type": "markdown",
   "metadata": {
    "editable": true,
    "slideshow": {
     "slide_type": ""
    },
    "tags": []
   },
   "source": [
    "## Prediction Interval  $^{4.4}$\n",
    "\n",
    "In the case of the **Advertising** data we determine the 95% prediction intervals for the $x$-values $ 3 $, $ 100 $ and $ 225 $ from the same results as provided in the previous example. "
   ]
  },
  {
   "cell_type": "markdown",
   "metadata": {
    "editable": true,
    "slideshow": {
     "slide_type": ""
    },
    "tags": []
   },
   "source": [
    "Under **mean** the predicted $y$-values on the regression line \n",
    "\\begin{equation*}\n",
    "\\hat{y}_{0}\n",
    "=\\hat{\\beta}_{0}+\\hat{\\beta}_{1}x_{0}\n",
    "\\end{equation*} \n",
    "can be found.\n",
    "\n",
    "**obs ci lower** displays the lower limits and **obs ci upper** the upper limits of the prediction intervals for the given $x$-values.\n",
    "\n",
    "For the predictor value $ x_{0}=100 $ the 95% prediction interval is given by\n",
    "\\begin{equation*}\n",
    "[5.339,18.233]\n",
    "\\end{equation*}\n",
    "A future observation $y_0 $ for given $ x_{0}=100 $ will fall with a probability of 95% into this interval. As we can observe, the prediction interval thus is clearly larger than the confidence interval for the expected value of $\\hat{y}_0=\\hat{\\beta}_0+\\hat{\\beta}_1 x_{0}$.   \n",
    "\n",
    "It is again very instructive to visualize the point-wise prediction intervals. The following figure displays the regression line in blue. The green curves represent the upper and lower limits of the prediction intervals for future observations. The red lines correspond to 95% prediction intervals for  $ x_{0}=3, 100 ,275 $. These intervals contain with a probability of  95% the true values of the corresponding future observations $ y_{0} $."
   ]
  },
  {
   "cell_type": "code",
   "metadata": {
    "ExecuteTime": {
     "end_time": "2025-10-26T19:10:23.113900Z",
     "start_time": "2025-10-26T19:10:23.074616Z"
    }
   },
   "source": [
    "x = np.linspace(0, 300)\n",
    "x_sm = sm.add_constant(x)\n",
    "\n",
    "# Predictions\n",
    "predictionsx = model.get_prediction(x_sm)\n",
    "# at 95% confidence:\n",
    "predictionsx = predictionsx.summary_frame(alpha=0.05)\n",
    "\n",
    "# Create figure and plot\n",
    "fig = plt.figure(figsize=(8, 6))\n",
    "ax = fig.add_subplot(1, 1, 1)\n",
    "# prediction\n",
    "plt.plot(x, predictionsx.loc[:,'mean'], 'b-')\n",
    "# upper and lower boundaries at 95%\n",
    "plt.plot(x, predictionsx.loc[:,'obs_ci_lower'], 'c-')\n",
    "plt.plot(x, predictionsx.loc[:,'obs_ci_upper'], 'c-')\n",
    "# lines of the three points in x0:\n",
    "for i in range(len(x0)):\n",
    "    plt.plot([x0[i, 1], x0[i, 1]], \n",
    "             [0, predictionsx0.loc[:,'obs_ci_lower'][i]], 'k:' )\n",
    "    plt.plot([x0[i, 1], x0[i, 1]], \n",
    "             [predictionsx0.loc[:,'obs_ci_lower'][i], \n",
    "              predictionsx0.loc[:,'obs_ci_upper'][i]], 'r-' )\n",
    "\n",
    "# Set labels and Legend\n",
    "ax.set_xlabel('TV')\n",
    "ax.set_ylabel('Sales')\n",
    "\n",
    "plt.show()"
   ],
   "outputs": [
    {
     "data": {
      "text/plain": [
       "<Figure size 800x600 with 1 Axes>"
      ],
      "image/png": "[encoded data removed]"
     },
     "metadata": {},
     "output_type": "display_data",
     "jetTransient": {
      "display_id": null
     }
    }
   ],
   "execution_count": 15
  },
  {
   "cell_type": "code",
   "metadata": {
    "tags": [
     "remove-cell"
    ],
    "ExecuteTime": {
     "end_time": "2025-10-26T19:10:23.564100Z",
     "start_time": "2025-10-26T19:10:23.118614Z"
    }
   },
   "source": [
    "%pip install pandas numpy statsmodels matplotlib"
   ],
   "outputs": [
    {
     "name": "stdout",
     "output_type": "stream",
     "text": [
      "Requirement already satisfied: pandas in /Users/marbetschar/Development/marbetschar/notes/.venv/lib/python3.9/site-packages (2.3.3)\r\n",
      "Requirement already satisfied: numpy in /Users/marbetschar/Development/marbetschar/notes/.venv/lib/python3.9/site-packages (1.26.4)\r\n",
      "Requirement already satisfied: statsmodels in /Users/marbetschar/Development/marbetschar/notes/.venv/lib/python3.9/site-packages (0.14.5)\r\n",
      "Requirement already satisfied: matplotlib in /Users/marbetschar/Development/marbetschar/notes/.venv/lib/python3.9/site-packages (3.9.4)\r\n",
      "Requirement already satisfied: python-dateutil>=2.8.2 in /Users/marbetschar/Development/marbetschar/notes/.venv/lib/python3.9/site-packages (from pandas) (2.9.0.post0)\r\n",
      "Requirement already satisfied: pytz>=2020.1 in /Users/marbetschar/Development/marbetschar/notes/.venv/lib/python3.9/site-packages (from pandas) (2025.2)\r\n",
      "Requirement already satisfied: tzdata>=2022.7 in /Users/marbetschar/Development/marbetschar/notes/.venv/lib/python3.9/site-packages (from pandas) (2025.2)\r\n",
      "Requirement already satisfied: scipy!=1.9.2,>=1.8 in /Users/marbetschar/Development/marbetschar/notes/.venv/lib/python3.9/site-packages (from statsmodels) (1.12.0)\r\n",
      "Requirement already satisfied: patsy>=0.5.6 in /Users/marbetschar/Development/marbetschar/notes/.venv/lib/python3.9/site-packages (from statsmodels) (1.0.2)\r\n",
      "Requirement already satisfied: packaging>=21.3 in /Users/marbetschar/Development/marbetschar/notes/.venv/lib/python3.9/site-packages (from statsmodels) (25.0)\r\n",
      "Requirement already satisfied: contourpy>=1.0.1 in /Users/marbetschar/Development/marbetschar/notes/.venv/lib/python3.9/site-packages (from matplotlib) (1.3.0)\r\n",
      "Requirement already satisfied: cycler>=0.10 in /Users/marbetschar/Development/marbetschar/notes/.venv/lib/python3.9/site-packages (from matplotlib) (0.12.1)\r\n",
      "Requirement already satisfied: fonttools>=4.22.0 in /Users/marbetschar/Development/marbetschar/notes/.venv/lib/python3.9/site-packages (from matplotlib) (4.60.1)\r\n",
      "Requirement already satisfied: kiwisolver>=1.3.1 in /Users/marbetschar/Development/marbetschar/notes/.venv/lib/python3.9/site-packages (from matplotlib) (1.4.7)\r\n",
      "Requirement already satisfied: pillow>=8 in /Users/marbetschar/Development/marbetschar/notes/.venv/lib/python3.9/site-packages (from matplotlib) (11.3.0)\r\n",
      "Requirement already satisfied: pyparsing>=2.3.1 in /Users/marbetschar/Development/marbetschar/notes/.venv/lib/python3.9/site-packages (from matplotlib) (3.2.5)\r\n",
      "Requirement already satisfied: importlib-resources>=3.2.0 in /Users/marbetschar/Development/marbetschar/notes/.venv/lib/python3.9/site-packages (from matplotlib) (6.5.2)\r\n",
      "Requirement already satisfied: zipp>=3.1.0 in /Users/marbetschar/Development/marbetschar/notes/.venv/lib/python3.9/site-packages (from importlib-resources>=3.2.0->matplotlib) (3.23.0)\r\n",
      "Requirement already satisfied: six>=1.5 in /Users/marbetschar/Development/marbetschar/notes/.venv/lib/python3.9/site-packages (from python-dateutil>=2.8.2->pandas) (1.17.0)\r\n",
      "Note: you may need to restart the kernel to use updated packages.\n"
     ]
    }
   ],
   "execution_count": 16
  },
  {
   "cell_type": "markdown",
   "metadata": {},
   "source": [
    "## Exercises\n",
    "\n",
    "### Exercise 1.1\n",
    "\n",
    "This exercise aims at carrying out a simple regression analysis for the data set constructed by Frank Anscombe."
   ]
  },
  {
   "cell_type": "code",
   "metadata": {
    "collapsed": true,
    "ExecuteTime": {
     "end_time": "2025-10-26T19:10:23.569896Z",
     "start_time": "2025-10-26T19:10:23.568006Z"
    }
   },
   "source": [
    "import pandas as pd\n",
    "import numpy as np\n",
    "import statsmodels.api as sm\n",
    "import matplotlib.pyplot as plt"
   ],
   "outputs": [],
   "execution_count": 17
  },
  {
   "cell_type": "code",
   "metadata": {
    "ExecuteTime": {
     "end_time": "2025-10-26T19:10:23.582204Z",
     "start_time": "2025-10-26T19:10:23.574645Z"
    }
   },
   "source": [
    "anscombe = pd.read_csv('../data/anscombe.csv')\n",
    "anscombe.head()"
   ],
   "outputs": [
    {
     "data": {
      "text/plain": [
       "   Unnamed: 0  x1  x2  x3  x4    y1    y2     y3    y4\n",
       "0           1  10  10  10   8  8.04  9.14   7.46  6.58\n",
       "1           2   8   8   8   8  6.95  8.14   6.77  5.76\n",
       "2           3  13  13  13   8  7.58  8.74  12.74  7.71\n",
       "3           4   9   9   9   8  8.81  8.77   7.11  8.84\n",
       "4           5  11  11  11   8  8.33  9.26   7.81  8.47"
      ],
      "text/html": [
       "<div>\n",
       "<style scoped>\n",
       "    .dataframe tbody tr th:only-of-type {\n",
       "        vertical-align: middle;\n",
       "    }\n",
       "\n",
       "    .dataframe tbody tr th {\n",
       "        vertical-align: top;\n",
       "    }\n",
       "\n",
       "    .dataframe thead th {\n",
       "        text-align: right;\n",
       "    }\n",
       "</style>\n",
       "<table border=\"1\" class=\"dataframe\">\n",
       "  <thead>\n",
       "    <tr style=\"text-align: right;\">\n",
       "      <th></th>\n",
       "      <th>Unnamed: 0</th>\n",
       "      <th>x1</th>\n",
       "      <th>x2</th>\n",
       "      <th>x3</th>\n",
       "      <th>x4</th>\n",
       "      <th>y1</th>\n",
       "      <th>y2</th>\n",
       "      <th>y3</th>\n",
       "      <th>y4</th>\n",
       "    </tr>\n",
       "  </thead>\n",
       "  <tbody>\n",
       "    <tr>\n",
       "      <th>0</th>\n",
       "      <td>1</td>\n",
       "      <td>10</td>\n",
       "      <td>10</td>\n",
       "      <td>10</td>\n",
       "      <td>8</td>\n",
       "      <td>8.04</td>\n",
       "      <td>9.14</td>\n",
       "      <td>7.46</td>\n",
       "      <td>6.58</td>\n",
       "    </tr>\n",
       "    <tr>\n",
       "      <th>1</th>\n",
       "      <td>2</td>\n",
       "      <td>8</td>\n",
       "      <td>8</td>\n",
       "      <td>8</td>\n",
       "      <td>8</td>\n",
       "      <td>6.95</td>\n",
       "      <td>8.14</td>\n",
       "      <td>6.77</td>\n",
       "      <td>5.76</td>\n",
       "    </tr>\n",
       "    <tr>\n",
       "      <th>2</th>\n",
       "      <td>3</td>\n",
       "      <td>13</td>\n",
       "      <td>13</td>\n",
       "      <td>13</td>\n",
       "      <td>8</td>\n",
       "      <td>7.58</td>\n",
       "      <td>8.74</td>\n",
       "      <td>12.74</td>\n",
       "      <td>7.71</td>\n",
       "    </tr>\n",
       "    <tr>\n",
       "      <th>3</th>\n",
       "      <td>4</td>\n",
       "      <td>9</td>\n",
       "      <td>9</td>\n",
       "      <td>9</td>\n",
       "      <td>8</td>\n",
       "      <td>8.81</td>\n",
       "      <td>8.77</td>\n",
       "      <td>7.11</td>\n",
       "      <td>8.84</td>\n",
       "    </tr>\n",
       "    <tr>\n",
       "      <th>4</th>\n",
       "      <td>5</td>\n",
       "      <td>11</td>\n",
       "      <td>11</td>\n",
       "      <td>11</td>\n",
       "      <td>8</td>\n",
       "      <td>8.33</td>\n",
       "      <td>9.26</td>\n",
       "      <td>7.81</td>\n",
       "      <td>8.47</td>\n",
       "    </tr>\n",
       "  </tbody>\n",
       "</table>\n",
       "</div>"
      ]
     },
     "execution_count": 18,
     "metadata": {},
     "output_type": "execute_result"
    }
   ],
   "execution_count": 18
  },
  {
   "cell_type": "code",
   "metadata": {
    "ExecuteTime": {
     "end_time": "2025-10-26T19:10:23.626294Z",
     "start_time": "2025-10-26T19:10:23.608152Z"
    }
   },
   "source": [
    "x1 = anscombe[['x1']]\n",
    "y1 = anscombe[['y1']]\n",
    "\n",
    "x_set = sm.add_constant(x1)\n",
    "\n",
    "model = sm.OLS(y1, x_set).fit()\n",
    "print(model.params)\n",
    "model.summary()"
   ],
   "outputs": [
    {
     "name": "stdout",
     "output_type": "stream",
     "text": [
      "const    3.000091\n",
      "x1       0.500091\n",
      "dtype: float64\n"
     ]
    },
    {
     "name": "stderr",
     "output_type": "stream",
     "text": [
      "/Users/marbetschar/Development/marbetschar/notes/.venv/lib/python3.9/site-packages/scipy/stats/_stats_py.py:1971: UserWarning: kurtosistest only valid for n>=20 ... continuing anyway, n=11\n",
      "  k, _ = kurtosistest(a, axis)\n"
     ]
    },
    {
     "data": {
      "text/plain": [
       "<class 'statsmodels.iolib.summary.Summary'>\n",
       "\"\"\"\n",
       "                            OLS Regression Results                            \n",
       "==============================================================================\n",
       "Dep. Variable:                     y1   R-squared:                       0.667\n",
       "Model:                            OLS   Adj. R-squared:                  0.629\n",
       "Method:                 Least Squares   F-statistic:                     17.99\n",
       "Date:                Sun, 26 Oct 2025   Prob (F-statistic):            0.00217\n",
       "Time:                        20:10:23   Log-Likelihood:                -16.841\n",
       "No. Observations:                  11   AIC:                             37.68\n",
       "Df Residuals:                       9   BIC:                             38.48\n",
       "Df Model:                           1                                         \n",
       "Covariance Type:            nonrobust                                         \n",
       "==============================================================================\n",
       "                 coef    std err          t      P>|t|      [0.025      0.975]\n",
       "------------------------------------------------------------------------------\n",
       "const          3.0001      1.125      2.667      0.026       0.456       5.544\n",
       "x1             0.5001      0.118      4.241      0.002       0.233       0.767\n",
       "==============================================================================\n",
       "Omnibus:                        0.082   Durbin-Watson:                   3.212\n",
       "Prob(Omnibus):                  0.960   Jarque-Bera (JB):                0.289\n",
       "Skew:                          -0.122   Prob(JB):                        0.865\n",
       "Kurtosis:                       2.244   Cond. No.                         29.1\n",
       "==============================================================================\n",
       "\n",
       "Notes:\n",
       "[1] Standard Errors assume that the covariance matrix of the errors is correctly specified.\n",
       "\"\"\""
      ],
      "text/html": [
       "<table class=\"simpletable\">\n",
       "<caption>OLS Regression Results</caption>\n",
       "<tr>\n",
       "  <th>Dep. Variable:</th>           <td>y1</td>        <th>  R-squared:         </th> <td>   0.667</td>\n",
       "</tr>\n",
       "<tr>\n",
       "  <th>Model:</th>                   <td>OLS</td>       <th>  Adj. R-squared:    </th> <td>   0.629</td>\n",
       "</tr>\n",
       "<tr>\n",
       "  <th>Method:</th>             <td>Least Squares</td>  <th>  F-statistic:       </th> <td>   17.99</td>\n",
       "</tr>\n",
       "<tr>\n",
       "  <th>Date:</th>             <td>Sun, 26 Oct 2025</td> <th>  Prob (F-statistic):</th>  <td>0.00217</td>\n",
       "</tr>\n",
       "<tr>\n",
       "  <th>Time:</th>                 <td>20:10:23</td>     <th>  Log-Likelihood:    </th> <td> -16.841</td>\n",
       "</tr>\n",
       "<tr>\n",
       "  <th>No. Observations:</th>      <td>    11</td>      <th>  AIC:               </th> <td>   37.68</td>\n",
       "</tr>\n",
       "<tr>\n",
       "  <th>Df Residuals:</th>          <td>     9</td>      <th>  BIC:               </th> <td>   38.48</td>\n",
       "</tr>\n",
       "<tr>\n",
       "  <th>Df Model:</th>              <td>     1</td>      <th>                     </th>     <td> </td>   \n",
       "</tr>\n",
       "<tr>\n",
       "  <th>Covariance Type:</th>      <td>nonrobust</td>    <th>                     </th>     <td> </td>   \n",
       "</tr>\n",
       "</table>\n",
       "<table class=\"simpletable\">\n",
       "<tr>\n",
       "    <td></td>       <th>coef</th>     <th>std err</th>      <th>t</th>      <th>P>|t|</th>  <th>[0.025</th>    <th>0.975]</th>  \n",
       "</tr>\n",
       "<tr>\n",
       "  <th>const</th> <td>    3.0001</td> <td>    1.125</td> <td>    2.667</td> <td> 0.026</td> <td>    0.456</td> <td>    5.544</td>\n",
       "</tr>\n",
       "<tr>\n",
       "  <th>x1</th>    <td>    0.5001</td> <td>    0.118</td> <td>    4.241</td> <td> 0.002</td> <td>    0.233</td> <td>    0.767</td>\n",
       "</tr>\n",
       "</table>\n",
       "<table class=\"simpletable\">\n",
       "<tr>\n",
       "  <th>Omnibus:</th>       <td> 0.082</td> <th>  Durbin-Watson:     </th> <td>   3.212</td>\n",
       "</tr>\n",
       "<tr>\n",
       "  <th>Prob(Omnibus):</th> <td> 0.960</td> <th>  Jarque-Bera (JB):  </th> <td>   0.289</td>\n",
       "</tr>\n",
       "<tr>\n",
       "  <th>Skew:</th>          <td>-0.122</td> <th>  Prob(JB):          </th> <td>   0.865</td>\n",
       "</tr>\n",
       "<tr>\n",
       "  <th>Kurtosis:</th>      <td> 2.244</td> <th>  Cond. No.          </th> <td>    29.1</td>\n",
       "</tr>\n",
       "</table><br/><br/>Notes:<br/>[1] Standard Errors assume that the covariance matrix of the errors is correctly specified."
      ],
      "text/latex": "\\begin{center}\n\\begin{tabular}{lclc}\n\\toprule\n\\textbf{Dep. Variable:}    &        y1        & \\textbf{  R-squared:         } &     0.667   \\\\\n\\textbf{Model:}            &       OLS        & \\textbf{  Adj. R-squared:    } &     0.629   \\\\\n\\textbf{Method:}           &  Least Squares   & \\textbf{  F-statistic:       } &     17.99   \\\\\n\\textbf{Date:}             & Sun, 26 Oct 2025 & \\textbf{  Prob (F-statistic):} &  0.00217    \\\\\n\\textbf{Time:}             &     20:10:23     & \\textbf{  Log-Likelihood:    } &   -16.841   \\\\\n\\textbf{No. Observations:} &          11      & \\textbf{  AIC:               } &     37.68   \\\\\n\\textbf{Df Residuals:}     &           9      & \\textbf{  BIC:               } &     38.48   \\\\\n\\textbf{Df Model:}         &           1      & \\textbf{                     } &             \\\\\n\\textbf{Covariance Type:}  &    nonrobust     & \\textbf{                     } &             \\\\\n\\bottomrule\n\\end{tabular}\n\\begin{tabular}{lcccccc}\n               & \\textbf{coef} & \\textbf{std err} & \\textbf{t} & \\textbf{P$> |$t$|$} & \\textbf{[0.025} & \\textbf{0.975]}  \\\\\n\\midrule\n\\textbf{const} &       3.0001  &        1.125     &     2.667  &         0.026        &        0.456    &        5.544     \\\\\n\\textbf{x1}    &       0.5001  &        0.118     &     4.241  &         0.002        &        0.233    &        0.767     \\\\\n\\bottomrule\n\\end{tabular}\n\\begin{tabular}{lclc}\n\\textbf{Omnibus:}       &  0.082 & \\textbf{  Durbin-Watson:     } &    3.212  \\\\\n\\textbf{Prob(Omnibus):} &  0.960 & \\textbf{  Jarque-Bera (JB):  } &    0.289  \\\\\n\\textbf{Skew:}          & -0.122 & \\textbf{  Prob(JB):          } &    0.865  \\\\\n\\textbf{Kurtosis:}      &  2.244 & \\textbf{  Cond. No.          } &     29.1  \\\\\n\\bottomrule\n\\end{tabular}\n%\\caption{OLS Regression Results}\n\\end{center}\n\nNotes: \\newline\n [1] Standard Errors assume that the covariance matrix of the errors is correctly specified."
     },
     "execution_count": 19,
     "metadata": {},
     "output_type": "execute_result"
    }
   ],
   "execution_count": 19
  },
  {
   "cell_type": "code",
   "metadata": {
    "ExecuteTime": {
     "end_time": "2025-10-26T19:10:23.658960Z",
     "start_time": "2025-10-26T19:10:23.655014Z"
    }
   },
   "source": [
    "intercept = model.params.iloc[0]\n",
    "slope = model.params.iloc[1]\n",
    "\n",
    "y_pred = x1 * slope + intercept\n",
    "\n",
    "r = y1 - y_pred # residuals\n",
    "rss = np.sum(np.square(r), axis = 0) # residual sum of squares\n",
    "rse = np.sqrt(rss / (r.shape[0] - 2)) # residual standard error = approximation of variance\n",
    "\n",
    "print(f\"Residuals Shape = {r.shape}\")\n",
    "print(f\"RSS = {rss}\")\n",
    "print(f\"RSE = {rse}\")"
   ],
   "outputs": [
    {
     "name": "stdout",
     "output_type": "stream",
     "text": [
      "Residuals Shape = (11, 2)\n",
      "RSS = x1    0.0\n",
      "y1    0.0\n",
      "dtype: float64\n",
      "RSE = x1    0.0\n",
      "y1    0.0\n",
      "dtype: float64\n"
     ]
    }
   ],
   "execution_count": 20
  },
  {
   "cell_type": "code",
   "metadata": {
    "ExecuteTime": {
     "end_time": "2025-10-26T19:10:23.718773Z",
     "start_time": "2025-10-26T19:10:23.708472Z"
    }
   },
   "source": [
    "x = anscombe[['x1', 'x2', 'x3', 'x4']]\n",
    "y = anscombe[['y1', 'y2', 'y3', 'y4']]\n",
    "\n",
    "results = np.zeros((5, 4))\n",
    "models = []\n",
    "for i in range(4):\n",
    "    xi = x.iloc[:, i]\n",
    "    yi = y.iloc[:, i]\n",
    "\n",
    "    x_set = sm.add_constant(xi)\n",
    "    model = sm.OLS(yi, x_set).fit() # OLS = Ordinary Least Squares\n",
    "    models.append(model)\n",
    "\n",
    "    intercept = model.params.iloc[0]\n",
    "    slope = model.params.iloc[1]\n",
    "    y_pred = xi * slope + intercept\n",
    "\n",
    "    r = yi - y_pred # residuals\n",
    "    rss = np.sum(np.square(r), axis = 0) # residual sum of squares\n",
    "    rse = np.sqrt(rss / (r.shape[0] - 2)) # residual standard error = approximation of variance\n",
    "\n",
    "    xi_mean = np.mean(xi)\n",
    "    xi_dist_sum = np.sum(np.square(xi - xi_mean))\n",
    "\n",
    "    rse_squared = np.square(rse)\n",
    "    slope_stderr = np.sqrt(rse_squared / xi_dist_sum)\n",
    "    intercept_stderr = np.sqrt(rse_squared * (1 / xi.shape[0] + np.square(xi_mean) / xi_dist_sum))\n",
    "\n",
    "    results[0, i] = intercept\n",
    "    results[1, i] = slope\n",
    "    results[2, i] = rse\n",
    "    results[3, i] = intercept_stderr\n",
    "    results[4, i] = slope_stderr\n",
    "\n",
    "results_df = pd.DataFrame(\n",
    "    results,\n",
    "    columns=['model1', 'model2', 'model3', 'model4'],\n",
    "    index=['intercept', 'slope', 'variance', 'intercept std. error', 'slope std. error']\n",
    "    )\n",
    "\n",
    "results_df"
   ],
   "outputs": [
    {
     "data": {
      "text/plain": [
       "                        model1    model2    model3    model4\n",
       "intercept             3.000091  3.000909  3.002455  3.001727\n",
       "slope                 0.500091  0.500000  0.499727  0.499909\n",
       "variance              1.236603  1.237214  1.236311  1.235695\n",
       "intercept std. error  1.124747  1.125302  1.124481  1.123921\n",
       "slope std. error      0.117906  0.117964  0.117878  0.117819"
      ],
      "text/html": [
       "<div>\n",
       "<style scoped>\n",
       "    .dataframe tbody tr th:only-of-type {\n",
       "        vertical-align: middle;\n",
       "    }\n",
       "\n",
       "    .dataframe tbody tr th {\n",
       "        vertical-align: top;\n",
       "    }\n",
       "\n",
       "    .dataframe thead th {\n",
       "        text-align: right;\n",
       "    }\n",
       "</style>\n",
       "<table border=\"1\" class=\"dataframe\">\n",
       "  <thead>\n",
       "    <tr style=\"text-align: right;\">\n",
       "      <th></th>\n",
       "      <th>model1</th>\n",
       "      <th>model2</th>\n",
       "      <th>model3</th>\n",
       "      <th>model4</th>\n",
       "    </tr>\n",
       "  </thead>\n",
       "  <tbody>\n",
       "    <tr>\n",
       "      <th>intercept</th>\n",
       "      <td>3.000091</td>\n",
       "      <td>3.000909</td>\n",
       "      <td>3.002455</td>\n",
       "      <td>3.001727</td>\n",
       "    </tr>\n",
       "    <tr>\n",
       "      <th>slope</th>\n",
       "      <td>0.500091</td>\n",
       "      <td>0.500000</td>\n",
       "      <td>0.499727</td>\n",
       "      <td>0.499909</td>\n",
       "    </tr>\n",
       "    <tr>\n",
       "      <th>variance</th>\n",
       "      <td>1.236603</td>\n",
       "      <td>1.237214</td>\n",
       "      <td>1.236311</td>\n",
       "      <td>1.235695</td>\n",
       "    </tr>\n",
       "    <tr>\n",
       "      <th>intercept std. error</th>\n",
       "      <td>1.124747</td>\n",
       "      <td>1.125302</td>\n",
       "      <td>1.124481</td>\n",
       "      <td>1.123921</td>\n",
       "    </tr>\n",
       "    <tr>\n",
       "      <th>slope std. error</th>\n",
       "      <td>0.117906</td>\n",
       "      <td>0.117964</td>\n",
       "      <td>0.117878</td>\n",
       "      <td>0.117819</td>\n",
       "    </tr>\n",
       "  </tbody>\n",
       "</table>\n",
       "</div>"
      ]
     },
     "execution_count": 21,
     "metadata": {},
     "output_type": "execute_result"
    }
   ],
   "execution_count": 21
  },
  {
   "cell_type": "code",
   "metadata": {
    "ExecuteTime": {
     "end_time": "2025-10-26T19:10:23.790864Z",
     "start_time": "2025-10-26T19:10:23.774907Z"
    }
   },
   "source": [
    "for i, model in enumerate(models):\n",
    "    print(f\"\\n#################################### Model {i} #################################\")\n",
    "    print(model.summary())"
   ],
   "outputs": [
    {
     "name": "stdout",
     "output_type": "stream",
     "text": [
      "\n",
      "#################################### Model 0 #################################\n",
      "                            OLS Regression Results                            \n",
      "==============================================================================\n",
      "Dep. Variable:                     y1   R-squared:                       0.667\n",
      "Model:                            OLS   Adj. R-squared:                  0.629\n",
      "Method:                 Least Squares   F-statistic:                     17.99\n",
      "Date:                Sun, 26 Oct 2025   Prob (F-statistic):            0.00217\n",
      "Time:                        20:10:23   Log-Likelihood:                -16.841\n",
      "No. Observations:                  11   AIC:                             37.68\n",
      "Df Residuals:                       9   BIC:                             38.48\n",
      "Df Model:                           1                                         \n",
      "Covariance Type:            nonrobust                                         \n",
      "==============================================================================\n",
      "                 coef    std err          t      P>|t|      [0.025      0.975]\n",
      "------------------------------------------------------------------------------\n",
      "const          3.0001      1.125      2.667      0.026       0.456       5.544\n",
      "x1             0.5001      0.118      4.241      0.002       0.233       0.767\n",
      "==============================================================================\n",
      "Omnibus:                        0.082   Durbin-Watson:                   3.212\n",
      "Prob(Omnibus):                  0.960   Jarque-Bera (JB):                0.289\n",
      "Skew:                          -0.122   Prob(JB):                        0.865\n",
      "Kurtosis:                       2.244   Cond. No.                         29.1\n",
      "==============================================================================\n",
      "\n",
      "Notes:\n",
      "[1] Standard Errors assume that the covariance matrix of the errors is correctly specified.\n",
      "\n",
      "#################################### Model 1 #################################\n",
      "                            OLS Regression Results                            \n",
      "==============================================================================\n",
      "Dep. Variable:                     y2   R-squared:                       0.666\n",
      "Model:                            OLS   Adj. R-squared:                  0.629\n",
      "Method:                 Least Squares   F-statistic:                     17.97\n",
      "Date:                Sun, 26 Oct 2025   Prob (F-statistic):            0.00218\n",
      "Time:                        20:10:23   Log-Likelihood:                -16.846\n",
      "No. Observations:                  11   AIC:                             37.69\n",
      "Df Residuals:                       9   BIC:                             38.49\n",
      "Df Model:                           1                                         \n",
      "Covariance Type:            nonrobust                                         \n",
      "==============================================================================\n",
      "                 coef    std err          t      P>|t|      [0.025      0.975]\n",
      "------------------------------------------------------------------------------\n",
      "const          3.0009      1.125      2.667      0.026       0.455       5.547\n",
      "x2             0.5000      0.118      4.239      0.002       0.233       0.767\n",
      "==============================================================================\n",
      "Omnibus:                        1.594   Durbin-Watson:                   2.188\n",
      "Prob(Omnibus):                  0.451   Jarque-Bera (JB):                1.108\n",
      "Skew:                          -0.567   Prob(JB):                        0.575\n",
      "Kurtosis:                       1.936   Cond. No.                         29.1\n",
      "==============================================================================\n",
      "\n",
      "Notes:\n",
      "[1] Standard Errors assume that the covariance matrix of the errors is correctly specified.\n",
      "\n",
      "#################################### Model 2 #################################\n",
      "                            OLS Regression Results                            \n",
      "==============================================================================\n",
      "Dep. Variable:                     y3   R-squared:                       0.666\n",
      "Model:                            OLS   Adj. R-squared:                  0.629\n",
      "Method:                 Least Squares   F-statistic:                     17.97\n",
      "Date:                Sun, 26 Oct 2025   Prob (F-statistic):            0.00218\n",
      "Time:                        20:10:23   Log-Likelihood:                -16.838\n",
      "No. Observations:                  11   AIC:                             37.68\n",
      "Df Residuals:                       9   BIC:                             38.47\n",
      "Df Model:                           1                                         \n",
      "Covariance Type:            nonrobust                                         \n",
      "==============================================================================\n",
      "                 coef    std err          t      P>|t|      [0.025      0.975]\n",
      "------------------------------------------------------------------------------\n",
      "const          3.0025      1.124      2.670      0.026       0.459       5.546\n",
      "x3             0.4997      0.118      4.239      0.002       0.233       0.766\n",
      "==============================================================================\n",
      "Omnibus:                       19.540   Durbin-Watson:                   2.144\n",
      "Prob(Omnibus):                  0.000   Jarque-Bera (JB):               13.478\n",
      "Skew:                           2.041   Prob(JB):                      0.00118\n",
      "Kurtosis:                       6.571   Cond. No.                         29.1\n",
      "==============================================================================\n",
      "\n",
      "Notes:\n",
      "[1] Standard Errors assume that the covariance matrix of the errors is correctly specified.\n",
      "\n",
      "#################################### Model 3 #################################\n",
      "                            OLS Regression Results                            \n",
      "==============================================================================\n",
      "Dep. Variable:                     y4   R-squared:                       0.667\n",
      "Model:                            OLS   Adj. R-squared:                  0.630\n",
      "Method:                 Least Squares   F-statistic:                     18.00\n",
      "Date:                Sun, 26 Oct 2025   Prob (F-statistic):            0.00216\n",
      "Time:                        20:10:23   Log-Likelihood:                -16.833\n",
      "No. Observations:                  11   AIC:                             37.67\n",
      "Df Residuals:                       9   BIC:                             38.46\n",
      "Df Model:                           1                                         \n",
      "Covariance Type:            nonrobust                                         \n",
      "==============================================================================\n",
      "                 coef    std err          t      P>|t|      [0.025      0.975]\n",
      "------------------------------------------------------------------------------\n",
      "const          3.0017      1.124      2.671      0.026       0.459       5.544\n",
      "x4             0.4999      0.118      4.243      0.002       0.233       0.766\n",
      "==============================================================================\n",
      "Omnibus:                        0.555   Durbin-Watson:                   1.662\n",
      "Prob(Omnibus):                  0.758   Jarque-Bera (JB):                0.524\n",
      "Skew:                           0.010   Prob(JB):                        0.769\n",
      "Kurtosis:                       1.931   Cond. No.                         29.1\n",
      "==============================================================================\n",
      "\n",
      "Notes:\n",
      "[1] Standard Errors assume that the covariance matrix of the errors is correctly specified.\n"
     ]
    },
    {
     "name": "stderr",
     "output_type": "stream",
     "text": [
      "/Users/marbetschar/Development/marbetschar/notes/.venv/lib/python3.9/site-packages/scipy/stats/_stats_py.py:1971: UserWarning: kurtosistest only valid for n>=20 ... continuing anyway, n=11\n",
      "  k, _ = kurtosistest(a, axis)\n",
      "/Users/marbetschar/Development/marbetschar/notes/.venv/lib/python3.9/site-packages/scipy/stats/_stats_py.py:1971: UserWarning: kurtosistest only valid for n>=20 ... continuing anyway, n=11\n",
      "  k, _ = kurtosistest(a, axis)\n",
      "/Users/marbetschar/Development/marbetschar/notes/.venv/lib/python3.9/site-packages/scipy/stats/_stats_py.py:1971: UserWarning: kurtosistest only valid for n>=20 ... continuing anyway, n=11\n",
      "  k, _ = kurtosistest(a, axis)\n",
      "/Users/marbetschar/Development/marbetschar/notes/.venv/lib/python3.9/site-packages/scipy/stats/_stats_py.py:1971: UserWarning: kurtosistest only valid for n>=20 ... continuing anyway, n=11\n",
      "  k, _ = kurtosistest(a, axis)\n"
     ]
    }
   ],
   "execution_count": 22
  },
  {
   "cell_type": "code",
   "metadata": {
    "ExecuteTime": {
     "end_time": "2025-10-26T19:10:24.174193Z",
     "start_time": "2025-10-26T19:10:23.847165Z"
    }
   },
   "source": [
    "for i in range(4):\n",
    "    fig = plt.figure(figsize=(12, 12))\n",
    "    ax = fig.add_subplot(2, 2, i + 1)\n",
    "\n",
    "    intercept = results[0, i]\n",
    "    slope = results[1, i]\n",
    "\n",
    "    xi = x.iloc[:, i]\n",
    "    yi = y.iloc[:, i]\n",
    "\n",
    "    ax.plot(xi, xi * slope + intercept, label='regression')\n",
    "    ax.plot(xi, yi, 'ok', label='ground truth')\n",
    "\n",
    "    ax.legend(loc='best')\n",
    "\n",
    "plt.show()"
   ],
   "outputs": [
    {
     "data": {
      "text/plain": [
       "<Figure size 1200x1200 with 1 Axes>"
      ],
      "image/png": "[encoded data removed]"
     },
     "metadata": {},
     "output_type": "display_data",
     "jetTransient": {
      "display_id": null
     }
    },
    {
     "data": {
      "text/plain": [
       "<Figure size 1200x1200 with 1 Axes>"
      ],
      "image/png": "[encoded data removed]"
     },
     "metadata": {},
     "output_type": "display_data",
     "jetTransient": {
      "display_id": null
     }
    },
    {
     "data": {
      "text/plain": [
       "<Figure size 1200x1200 with 1 Axes>"
      ],
      "image/png": "[encoded data removed]"
     },
     "metadata": {},
     "output_type": "display_data",
     "jetTransient": {
      "display_id": null
     }
    },
    {
     "data": {
      "text/plain": [
       "<Figure size 1200x1200 with 1 Axes>"
      ],
      "image/png": "[encoded data removed]"
     },
     "metadata": {},
     "output_type": "display_data",
     "jetTransient": {
      "display_id": null
     }
    }
   ],
   "execution_count": 23
  },
  {
   "cell_type": "markdown",
   "metadata": {},
   "source": "### Exercise 1.2"
  },
  {
   "cell_type": "code",
   "metadata": {
    "ExecuteTime": {
     "end_time": "2025-10-26T19:11:08.675693Z",
     "start_time": "2025-10-26T19:11:08.671758Z"
    }
   },
   "source": [
    "clocks = pd.read_csv('./../Data/antique_clocks.csv')\n",
    "clocks.head()"
   ],
   "outputs": [
    {
     "data": {
      "text/plain": [
       "   Unnamed: 0  age  price\n",
       "0           1  108    729\n",
       "1           2  108   1055\n",
       "2           3  111    785\n",
       "3           4  111   1175\n",
       "4           5  113    946"
      ],
      "text/html": [
       "<div>\n",
       "<style scoped>\n",
       "    .dataframe tbody tr th:only-of-type {\n",
       "        vertical-align: middle;\n",
       "    }\n",
       "\n",
       "    .dataframe tbody tr th {\n",
       "        vertical-align: top;\n",
       "    }\n",
       "\n",
       "    .dataframe thead th {\n",
       "        text-align: right;\n",
       "    }\n",
       "</style>\n",
       "<table border=\"1\" class=\"dataframe\">\n",
       "  <thead>\n",
       "    <tr style=\"text-align: right;\">\n",
       "      <th></th>\n",
       "      <th>Unnamed: 0</th>\n",
       "      <th>age</th>\n",
       "      <th>price</th>\n",
       "    </tr>\n",
       "  </thead>\n",
       "  <tbody>\n",
       "    <tr>\n",
       "      <th>0</th>\n",
       "      <td>1</td>\n",
       "      <td>108</td>\n",
       "      <td>729</td>\n",
       "    </tr>\n",
       "    <tr>\n",
       "      <th>1</th>\n",
       "      <td>2</td>\n",
       "      <td>108</td>\n",
       "      <td>1055</td>\n",
       "    </tr>\n",
       "    <tr>\n",
       "      <th>2</th>\n",
       "      <td>3</td>\n",
       "      <td>111</td>\n",
       "      <td>785</td>\n",
       "    </tr>\n",
       "    <tr>\n",
       "      <th>3</th>\n",
       "      <td>4</td>\n",
       "      <td>111</td>\n",
       "      <td>1175</td>\n",
       "    </tr>\n",
       "    <tr>\n",
       "      <th>4</th>\n",
       "      <td>5</td>\n",
       "      <td>113</td>\n",
       "      <td>946</td>\n",
       "    </tr>\n",
       "  </tbody>\n",
       "</table>\n",
       "</div>"
      ]
     },
     "execution_count": 36,
     "metadata": {},
     "output_type": "execute_result"
    }
   ],
   "execution_count": 36
  },
  {
   "cell_type": "code",
   "metadata": {
    "ExecuteTime": {
     "end_time": "2025-10-26T19:10:24.364364Z",
     "start_time": "2025-10-26T19:10:24.330627Z"
    }
   },
   "source": [
    "fig = plt.figure(figsize=(12, 12))\n",
    "ax = fig.add_subplot(2, 2, 1)\n",
    "ax.plot(clocks.price, clocks.age, 'ok')\n",
    "ax.set_xlabel('Price')\n",
    "ax.set_ylabel('Age')\n",
    "plt.show()"
   ],
   "outputs": [
    {
     "data": {
      "text/plain": [
       "<Figure size 1200x1200 with 1 Axes>"
      ],
      "image/png": "[encoded data removed]"
     },
     "metadata": {},
     "output_type": "display_data",
     "jetTransient": {
      "display_id": null
     }
    }
   ],
   "execution_count": 25
  },
  {
   "cell_type": "code",
   "metadata": {
    "ExecuteTime": {
     "end_time": "2025-10-26T19:10:24.401446Z",
     "start_time": "2025-10-26T19:10:24.397085Z"
    }
   },
   "source": [
    "x_set = sm.add_constant(clocks.price)\n",
    "y = clocks.age\n",
    "\n",
    "model = sm.OLS(y, x_set).fit()\n",
    "model.params"
   ],
   "outputs": [
    {
     "data": {
      "text/plain": [
       "const    77.403660\n",
       "price     0.050886\n",
       "dtype: float64"
      ]
     },
     "execution_count": 26,
     "metadata": {},
     "output_type": "execute_result"
    }
   ],
   "execution_count": 26
  },
  {
   "cell_type": "code",
   "metadata": {
    "ExecuteTime": {
     "end_time": "2025-10-26T19:10:24.466148Z",
     "start_time": "2025-10-26T19:10:24.455252Z"
    }
   },
   "source": [
    "model.summary()"
   ],
   "outputs": [
    {
     "data": {
      "text/plain": [
       "<class 'statsmodels.iolib.summary.Summary'>\n",
       "\"\"\"\n",
       "                            OLS Regression Results                            \n",
       "==============================================================================\n",
       "Dep. Variable:                    age   R-squared:                       0.533\n",
       "Model:                            OLS   Adj. R-squared:                  0.518\n",
       "Method:                 Least Squares   F-statistic:                     34.27\n",
       "Date:                Sun, 26 Oct 2025   Prob (F-statistic):           2.10e-06\n",
       "Time:                        20:10:24   Log-Likelihood:                -138.64\n",
       "No. Observations:                  32   AIC:                             281.3\n",
       "Df Residuals:                      30   BIC:                             284.2\n",
       "Df Model:                           1                                         \n",
       "Covariance Type:            nonrobust                                         \n",
       "==============================================================================\n",
       "                 coef    std err          t      P>|t|      [0.025      0.975]\n",
       "------------------------------------------------------------------------------\n",
       "const         77.4037     12.016      6.442      0.000      52.864     101.944\n",
       "price          0.0509      0.009      5.854      0.000       0.033       0.069\n",
       "==============================================================================\n",
       "Omnibus:                        2.513   Durbin-Watson:                   1.457\n",
       "Prob(Omnibus):                  0.285   Jarque-Bera (JB):                2.239\n",
       "Skew:                           0.616   Prob(JB):                        0.326\n",
       "Kurtosis:                       2.600   Cond. No.                     4.94e+03\n",
       "==============================================================================\n",
       "\n",
       "Notes:\n",
       "[1] Standard Errors assume that the covariance matrix of the errors is correctly specified.\n",
       "[2] The condition number is large, 4.94e+03. This might indicate that there are\n",
       "strong multicollinearity or other numerical problems.\n",
       "\"\"\""
      ],
      "text/html": [
       "<table class=\"simpletable\">\n",
       "<caption>OLS Regression Results</caption>\n",
       "<tr>\n",
       "  <th>Dep. Variable:</th>           <td>age</td>       <th>  R-squared:         </th> <td>   0.533</td>\n",
       "</tr>\n",
       "<tr>\n",
       "  <th>Model:</th>                   <td>OLS</td>       <th>  Adj. R-squared:    </th> <td>   0.518</td>\n",
       "</tr>\n",
       "<tr>\n",
       "  <th>Method:</th>             <td>Least Squares</td>  <th>  F-statistic:       </th> <td>   34.27</td>\n",
       "</tr>\n",
       "<tr>\n",
       "  <th>Date:</th>             <td>Sun, 26 Oct 2025</td> <th>  Prob (F-statistic):</th> <td>2.10e-06</td>\n",
       "</tr>\n",
       "<tr>\n",
       "  <th>Time:</th>                 <td>20:10:24</td>     <th>  Log-Likelihood:    </th> <td> -138.64</td>\n",
       "</tr>\n",
       "<tr>\n",
       "  <th>No. Observations:</th>      <td>    32</td>      <th>  AIC:               </th> <td>   281.3</td>\n",
       "</tr>\n",
       "<tr>\n",
       "  <th>Df Residuals:</th>          <td>    30</td>      <th>  BIC:               </th> <td>   284.2</td>\n",
       "</tr>\n",
       "<tr>\n",
       "  <th>Df Model:</th>              <td>     1</td>      <th>                     </th>     <td> </td>   \n",
       "</tr>\n",
       "<tr>\n",
       "  <th>Covariance Type:</th>      <td>nonrobust</td>    <th>                     </th>     <td> </td>   \n",
       "</tr>\n",
       "</table>\n",
       "<table class=\"simpletable\">\n",
       "<tr>\n",
       "    <td></td>       <th>coef</th>     <th>std err</th>      <th>t</th>      <th>P>|t|</th>  <th>[0.025</th>    <th>0.975]</th>  \n",
       "</tr>\n",
       "<tr>\n",
       "  <th>const</th> <td>   77.4037</td> <td>   12.016</td> <td>    6.442</td> <td> 0.000</td> <td>   52.864</td> <td>  101.944</td>\n",
       "</tr>\n",
       "<tr>\n",
       "  <th>price</th> <td>    0.0509</td> <td>    0.009</td> <td>    5.854</td> <td> 0.000</td> <td>    0.033</td> <td>    0.069</td>\n",
       "</tr>\n",
       "</table>\n",
       "<table class=\"simpletable\">\n",
       "<tr>\n",
       "  <th>Omnibus:</th>       <td> 2.513</td> <th>  Durbin-Watson:     </th> <td>   1.457</td>\n",
       "</tr>\n",
       "<tr>\n",
       "  <th>Prob(Omnibus):</th> <td> 0.285</td> <th>  Jarque-Bera (JB):  </th> <td>   2.239</td>\n",
       "</tr>\n",
       "<tr>\n",
       "  <th>Skew:</th>          <td> 0.616</td> <th>  Prob(JB):          </th> <td>   0.326</td>\n",
       "</tr>\n",
       "<tr>\n",
       "  <th>Kurtosis:</th>      <td> 2.600</td> <th>  Cond. No.          </th> <td>4.94e+03</td>\n",
       "</tr>\n",
       "</table><br/><br/>Notes:<br/>[1] Standard Errors assume that the covariance matrix of the errors is correctly specified.<br/>[2] The condition number is large, 4.94e+03. This might indicate that there are<br/>strong multicollinearity or other numerical problems."
      ],
      "text/latex": "\\begin{center}\n\\begin{tabular}{lclc}\n\\toprule\n\\textbf{Dep. Variable:}    &       age        & \\textbf{  R-squared:         } &     0.533   \\\\\n\\textbf{Model:}            &       OLS        & \\textbf{  Adj. R-squared:    } &     0.518   \\\\\n\\textbf{Method:}           &  Least Squares   & \\textbf{  F-statistic:       } &     34.27   \\\\\n\\textbf{Date:}             & Sun, 26 Oct 2025 & \\textbf{  Prob (F-statistic):} &  2.10e-06   \\\\\n\\textbf{Time:}             &     20:10:24     & \\textbf{  Log-Likelihood:    } &   -138.64   \\\\\n\\textbf{No. Observations:} &          32      & \\textbf{  AIC:               } &     281.3   \\\\\n\\textbf{Df Residuals:}     &          30      & \\textbf{  BIC:               } &     284.2   \\\\\n\\textbf{Df Model:}         &           1      & \\textbf{                     } &             \\\\\n\\textbf{Covariance Type:}  &    nonrobust     & \\textbf{                     } &             \\\\\n\\bottomrule\n\\end{tabular}\n\\begin{tabular}{lcccccc}\n               & \\textbf{coef} & \\textbf{std err} & \\textbf{t} & \\textbf{P$> |$t$|$} & \\textbf{[0.025} & \\textbf{0.975]}  \\\\\n\\midrule\n\\textbf{const} &      77.4037  &       12.016     &     6.442  &         0.000        &       52.864    &      101.944     \\\\\n\\textbf{price} &       0.0509  &        0.009     &     5.854  &         0.000        &        0.033    &        0.069     \\\\\n\\bottomrule\n\\end{tabular}\n\\begin{tabular}{lclc}\n\\textbf{Omnibus:}       &  2.513 & \\textbf{  Durbin-Watson:     } &    1.457  \\\\\n\\textbf{Prob(Omnibus):} &  0.285 & \\textbf{  Jarque-Bera (JB):  } &    2.239  \\\\\n\\textbf{Skew:}          &  0.616 & \\textbf{  Prob(JB):          } &    0.326  \\\\\n\\textbf{Kurtosis:}      &  2.600 & \\textbf{  Cond. No.          } & 4.94e+03  \\\\\n\\bottomrule\n\\end{tabular}\n%\\caption{OLS Regression Results}\n\\end{center}\n\nNotes: \\newline\n [1] Standard Errors assume that the covariance matrix of the errors is correctly specified. \\newline\n [2] The condition number is large, 4.94e+03. This might indicate that there are \\newline\n strong multicollinearity or other numerical problems."
     },
     "execution_count": 27,
     "metadata": {},
     "output_type": "execute_result"
    }
   ],
   "execution_count": 27
  },
  {
   "cell_type": "code",
   "metadata": {
    "ExecuteTime": {
     "end_time": "2025-10-26T19:10:24.572845Z",
     "start_time": "2025-10-26T19:10:24.541040Z"
    }
   },
   "source": [
    "fig = plt.figure(figsize=(8, 8))\n",
    "ax = fig.add_subplot(2, 2, 1)\n",
    "\n",
    "ax.plot(clocks.price, clocks.age, 'ok')\n",
    "ax.plot(clocks.price, clocks.price * model.params.iloc[1] + model.params.iloc[0])\n",
    "\n",
    "ax.set_xlabel('Price')\n",
    "ax.set_ylabel('Age')\n",
    "plt.show()"
   ],
   "outputs": [
    {
     "data": {
      "text/plain": [
       "<Figure size 800x800 with 1 Axes>"
      ],
      "image/png": "[encoded data removed]"
     },
     "metadata": {},
     "output_type": "display_data",
     "jetTransient": {
      "display_id": null
     }
    }
   ],
   "execution_count": 28
  },
  {
   "cell_type": "markdown",
   "metadata": {},
   "source": [
    "Even though the line seem to be placed correctly, there is a lot of variance. That said, it doesn't seem to be a good idea to use a linear model to describe the relationship between the age and the price of a clock."
   ]
  },
  {
   "cell_type": "markdown",
   "metadata": {},
   "source": "### Exercise 1.3"
  },
  {
   "cell_type": "code",
   "metadata": {
    "ExecuteTime": {
     "end_time": "2025-10-26T19:10:24.595232Z",
     "start_time": "2025-10-26T19:10:24.589831Z"
    }
   },
   "source": [
    "windmill = pd.read_csv('./../Data/windmill.csv')\n",
    "windmill.head()"
   ],
   "outputs": [
    {
     "data": {
      "text/plain": [
       "   wind_speed  current\n",
       "0   11.187073    1.582\n",
       "1   13.424487    1.822\n",
       "2    7.607209    1.057\n",
       "3    6.041019    0.500\n",
       "4   22.374145    2.236"
      ],
      "text/html": [
       "<div>\n",
       "<style scoped>\n",
       "    .dataframe tbody tr th:only-of-type {\n",
       "        vertical-align: middle;\n",
       "    }\n",
       "\n",
       "    .dataframe tbody tr th {\n",
       "        vertical-align: top;\n",
       "    }\n",
       "\n",
       "    .dataframe thead th {\n",
       "        text-align: right;\n",
       "    }\n",
       "</style>\n",
       "<table border=\"1\" class=\"dataframe\">\n",
       "  <thead>\n",
       "    <tr style=\"text-align: right;\">\n",
       "      <th></th>\n",
       "      <th>wind_speed</th>\n",
       "      <th>current</th>\n",
       "    </tr>\n",
       "  </thead>\n",
       "  <tbody>\n",
       "    <tr>\n",
       "      <th>0</th>\n",
       "      <td>11.187073</td>\n",
       "      <td>1.582</td>\n",
       "    </tr>\n",
       "    <tr>\n",
       "      <th>1</th>\n",
       "      <td>13.424487</td>\n",
       "      <td>1.822</td>\n",
       "    </tr>\n",
       "    <tr>\n",
       "      <th>2</th>\n",
       "      <td>7.607209</td>\n",
       "      <td>1.057</td>\n",
       "    </tr>\n",
       "    <tr>\n",
       "      <th>3</th>\n",
       "      <td>6.041019</td>\n",
       "      <td>0.500</td>\n",
       "    </tr>\n",
       "    <tr>\n",
       "      <th>4</th>\n",
       "      <td>22.374145</td>\n",
       "      <td>2.236</td>\n",
       "    </tr>\n",
       "  </tbody>\n",
       "</table>\n",
       "</div>"
      ]
     },
     "execution_count": 29,
     "metadata": {},
     "output_type": "execute_result"
    }
   ],
   "execution_count": 29
  },
  {
   "cell_type": "code",
   "metadata": {
    "ExecuteTime": {
     "end_time": "2025-10-26T19:10:24.689758Z",
     "start_time": "2025-10-26T19:10:24.636207Z"
    }
   },
   "source": [
    "fig = plt.figure(figsize=(8, 4))\n",
    "\n",
    "ax = fig.add_subplot(1, 2, 1)\n",
    "ax.plot(windmill.wind_speed, windmill.current, 'ok')\n",
    "ax.set_xlabel('Wind Speed [m/s]')\n",
    "ax.set_ylabel('Current [A]')\n",
    "\n",
    "ax = fig.add_subplot(1, 2, 2)\n",
    "ax.plot(1. / windmill.wind_speed, windmill.current, 'ok')\n",
    "ax.set_xlabel('1 / Wind Speed [m/s]')\n",
    "ax.set_ylabel('Current [A]')\n",
    "\n",
    "plt.show()"
   ],
   "outputs": [
    {
     "data": {
      "text/plain": [
       "<Figure size 800x400 with 2 Axes>"
      ],
      "image/png": "[encoded data removed]"
     },
     "metadata": {},
     "output_type": "display_data",
     "jetTransient": {
      "display_id": null
     }
    }
   ],
   "execution_count": 30
  },
  {
   "cell_type": "markdown",
   "metadata": {},
   "source": [
    "The relationship of current vs. 1 / wind-speed is pretty much the inversion of current vs wind-speed."
   ]
  },
  {
   "cell_type": "code",
   "metadata": {
    "ExecuteTime": {
     "end_time": "2025-10-26T19:10:24.743841Z",
     "start_time": "2025-10-26T19:10:24.732249Z"
    }
   },
   "source": [
    "x_set = sm.add_constant(1 / windmill.wind_speed)\n",
    "\n",
    "model = sm.OLS(windmill.current, x_set).fit()\n",
    "model.summary()"
   ],
   "outputs": [
    {
     "data": {
      "text/plain": [
       "<class 'statsmodels.iolib.summary.Summary'>\n",
       "\"\"\"\n",
       "                            OLS Regression Results                            \n",
       "==============================================================================\n",
       "Dep. Variable:                current   R-squared:                       0.980\n",
       "Model:                            OLS   Adj. R-squared:                  0.979\n",
       "Method:                 Least Squares   F-statistic:                     1128.\n",
       "Date:                Sun, 26 Oct 2025   Prob (F-statistic):           4.74e-21\n",
       "Time:                        20:10:24   Log-Likelihood:                 24.635\n",
       "No. Observations:                  25   AIC:                            -45.27\n",
       "Df Residuals:                      23   BIC:                            -42.83\n",
       "Df Model:                           1                                         \n",
       "Covariance Type:            nonrobust                                         \n",
       "==============================================================================\n",
       "                 coef    std err          t      P>|t|      [0.025      0.975]\n",
       "------------------------------------------------------------------------------\n",
       "const          2.9789      0.045     66.341      0.000       2.886       3.072\n",
       "wind_speed   -15.5155      0.462    -33.592      0.000     -16.471     -14.560\n",
       "==============================================================================\n",
       "Omnibus:                        2.768   Durbin-Watson:                   1.567\n",
       "Prob(Omnibus):                  0.251   Jarque-Bera (JB):                2.287\n",
       "Skew:                          -0.720   Prob(JB):                        0.319\n",
       "Kurtosis:                       2.646   Cond. No.                         24.7\n",
       "==============================================================================\n",
       "\n",
       "Notes:\n",
       "[1] Standard Errors assume that the covariance matrix of the errors is correctly specified.\n",
       "\"\"\""
      ],
      "text/html": [
       "<table class=\"simpletable\">\n",
       "<caption>OLS Regression Results</caption>\n",
       "<tr>\n",
       "  <th>Dep. Variable:</th>         <td>current</td>     <th>  R-squared:         </th> <td>   0.980</td>\n",
       "</tr>\n",
       "<tr>\n",
       "  <th>Model:</th>                   <td>OLS</td>       <th>  Adj. R-squared:    </th> <td>   0.979</td>\n",
       "</tr>\n",
       "<tr>\n",
       "  <th>Method:</th>             <td>Least Squares</td>  <th>  F-statistic:       </th> <td>   1128.</td>\n",
       "</tr>\n",
       "<tr>\n",
       "  <th>Date:</th>             <td>Sun, 26 Oct 2025</td> <th>  Prob (F-statistic):</th> <td>4.74e-21</td>\n",
       "</tr>\n",
       "<tr>\n",
       "  <th>Time:</th>                 <td>20:10:24</td>     <th>  Log-Likelihood:    </th> <td>  24.635</td>\n",
       "</tr>\n",
       "<tr>\n",
       "  <th>No. Observations:</th>      <td>    25</td>      <th>  AIC:               </th> <td>  -45.27</td>\n",
       "</tr>\n",
       "<tr>\n",
       "  <th>Df Residuals:</th>          <td>    23</td>      <th>  BIC:               </th> <td>  -42.83</td>\n",
       "</tr>\n",
       "<tr>\n",
       "  <th>Df Model:</th>              <td>     1</td>      <th>                     </th>     <td> </td>   \n",
       "</tr>\n",
       "<tr>\n",
       "  <th>Covariance Type:</th>      <td>nonrobust</td>    <th>                     </th>     <td> </td>   \n",
       "</tr>\n",
       "</table>\n",
       "<table class=\"simpletable\">\n",
       "<tr>\n",
       "       <td></td>         <th>coef</th>     <th>std err</th>      <th>t</th>      <th>P>|t|</th>  <th>[0.025</th>    <th>0.975]</th>  \n",
       "</tr>\n",
       "<tr>\n",
       "  <th>const</th>      <td>    2.9789</td> <td>    0.045</td> <td>   66.341</td> <td> 0.000</td> <td>    2.886</td> <td>    3.072</td>\n",
       "</tr>\n",
       "<tr>\n",
       "  <th>wind_speed</th> <td>  -15.5155</td> <td>    0.462</td> <td>  -33.592</td> <td> 0.000</td> <td>  -16.471</td> <td>  -14.560</td>\n",
       "</tr>\n",
       "</table>\n",
       "<table class=\"simpletable\">\n",
       "<tr>\n",
       "  <th>Omnibus:</th>       <td> 2.768</td> <th>  Durbin-Watson:     </th> <td>   1.567</td>\n",
       "</tr>\n",
       "<tr>\n",
       "  <th>Prob(Omnibus):</th> <td> 0.251</td> <th>  Jarque-Bera (JB):  </th> <td>   2.287</td>\n",
       "</tr>\n",
       "<tr>\n",
       "  <th>Skew:</th>          <td>-0.720</td> <th>  Prob(JB):          </th> <td>   0.319</td>\n",
       "</tr>\n",
       "<tr>\n",
       "  <th>Kurtosis:</th>      <td> 2.646</td> <th>  Cond. No.          </th> <td>    24.7</td>\n",
       "</tr>\n",
       "</table><br/><br/>Notes:<br/>[1] Standard Errors assume that the covariance matrix of the errors is correctly specified."
      ],
      "text/latex": "\\begin{center}\n\\begin{tabular}{lclc}\n\\toprule\n\\textbf{Dep. Variable:}    &     current      & \\textbf{  R-squared:         } &     0.980   \\\\\n\\textbf{Model:}            &       OLS        & \\textbf{  Adj. R-squared:    } &     0.979   \\\\\n\\textbf{Method:}           &  Least Squares   & \\textbf{  F-statistic:       } &     1128.   \\\\\n\\textbf{Date:}             & Sun, 26 Oct 2025 & \\textbf{  Prob (F-statistic):} &  4.74e-21   \\\\\n\\textbf{Time:}             &     20:10:24     & \\textbf{  Log-Likelihood:    } &    24.635   \\\\\n\\textbf{No. Observations:} &          25      & \\textbf{  AIC:               } &    -45.27   \\\\\n\\textbf{Df Residuals:}     &          23      & \\textbf{  BIC:               } &    -42.83   \\\\\n\\textbf{Df Model:}         &           1      & \\textbf{                     } &             \\\\\n\\textbf{Covariance Type:}  &    nonrobust     & \\textbf{                     } &             \\\\\n\\bottomrule\n\\end{tabular}\n\\begin{tabular}{lcccccc}\n                     & \\textbf{coef} & \\textbf{std err} & \\textbf{t} & \\textbf{P$> |$t$|$} & \\textbf{[0.025} & \\textbf{0.975]}  \\\\\n\\midrule\n\\textbf{const}       &       2.9789  &        0.045     &    66.341  &         0.000        &        2.886    &        3.072     \\\\\n\\textbf{wind\\_speed} &     -15.5155  &        0.462     &   -33.592  &         0.000        &      -16.471    &      -14.560     \\\\\n\\bottomrule\n\\end{tabular}\n\\begin{tabular}{lclc}\n\\textbf{Omnibus:}       &  2.768 & \\textbf{  Durbin-Watson:     } &    1.567  \\\\\n\\textbf{Prob(Omnibus):} &  0.251 & \\textbf{  Jarque-Bera (JB):  } &    2.287  \\\\\n\\textbf{Skew:}          & -0.720 & \\textbf{  Prob(JB):          } &    0.319  \\\\\n\\textbf{Kurtosis:}      &  2.646 & \\textbf{  Cond. No.          } &     24.7  \\\\\n\\bottomrule\n\\end{tabular}\n%\\caption{OLS Regression Results}\n\\end{center}\n\nNotes: \\newline\n [1] Standard Errors assume that the covariance matrix of the errors is correctly specified."
     },
     "execution_count": 31,
     "metadata": {},
     "output_type": "execute_result"
    }
   ],
   "execution_count": 31
  },
  {
   "cell_type": "code",
   "metadata": {
    "ExecuteTime": {
     "end_time": "2025-10-26T19:10:24.810598Z",
     "start_time": "2025-10-26T19:10:24.807389Z"
    }
   },
   "source": [
    "model.params"
   ],
   "outputs": [
    {
     "data": {
      "text/plain": [
       "const          2.978860\n",
       "wind_speed   -15.515457\n",
       "dtype: float64"
      ]
     },
     "execution_count": 32,
     "metadata": {},
     "output_type": "execute_result"
    }
   ],
   "execution_count": 32
  },
  {
   "cell_type": "code",
   "metadata": {
    "ExecuteTime": {
     "end_time": "2025-10-26T19:10:24.867618Z",
     "start_time": "2025-10-26T19:10:24.864073Z"
    }
   },
   "source": [
    "model.conf_int(alpha = 0.01)"
   ],
   "outputs": [
    {
     "data": {
      "text/plain": [
       "                    0          1\n",
       "const        2.852804   3.104916\n",
       "wind_speed -16.812102 -14.218812"
      ],
      "text/html": [
       "<div>\n",
       "<style scoped>\n",
       "    .dataframe tbody tr th:only-of-type {\n",
       "        vertical-align: middle;\n",
       "    }\n",
       "\n",
       "    .dataframe tbody tr th {\n",
       "        vertical-align: top;\n",
       "    }\n",
       "\n",
       "    .dataframe thead th {\n",
       "        text-align: right;\n",
       "    }\n",
       "</style>\n",
       "<table border=\"1\" class=\"dataframe\">\n",
       "  <thead>\n",
       "    <tr style=\"text-align: right;\">\n",
       "      <th></th>\n",
       "      <th>0</th>\n",
       "      <th>1</th>\n",
       "    </tr>\n",
       "  </thead>\n",
       "  <tbody>\n",
       "    <tr>\n",
       "      <th>const</th>\n",
       "      <td>2.852804</td>\n",
       "      <td>3.104916</td>\n",
       "    </tr>\n",
       "    <tr>\n",
       "      <th>wind_speed</th>\n",
       "      <td>-16.812102</td>\n",
       "      <td>-14.218812</td>\n",
       "    </tr>\n",
       "  </tbody>\n",
       "</table>\n",
       "</div>"
      ]
     },
     "execution_count": 33,
     "metadata": {},
     "output_type": "execute_result"
    }
   ],
   "execution_count": 33
  },
  {
   "cell_type": "code",
   "metadata": {
    "ExecuteTime": {
     "end_time": "2025-10-26T19:10:25.033164Z",
     "start_time": "2025-10-26T19:10:24.992806Z"
    }
   },
   "source": [
    "fig = plt.figure(figsize=(6, 6))\n",
    "\n",
    "ax = fig.add_subplot(1, 1, 1)\n",
    "ax.plot(1. / windmill.wind_speed, windmill.current, 'ok')\n",
    "ax.plot(1. / windmill.wind_speed, 1 / windmill.wind_speed * model.params.iloc[1] + model.params.iloc[0])\n",
    "ax.set_xlabel('1 / Wind Speed [m/s]')\n",
    "ax.set_ylabel('Current [A]')\n",
    "\n",
    "plt.show()"
   ],
   "outputs": [
    {
     "data": {
      "text/plain": [
       "<Figure size 600x600 with 1 Axes>"
      ],
      "image/png": "[encoded data removed]"
     },
     "metadata": {},
     "output_type": "display_data",
     "jetTransient": {
      "display_id": null
     }
    }
   ],
   "execution_count": 34
  },
  {
   "cell_type": "code",
   "metadata": {
    "ExecuteTime": {
     "end_time": "2025-10-26T19:10:25.052994Z",
     "start_time": "2025-10-26T19:10:25.045206Z"
    }
   },
   "source": [
    "x0 = [1/1,1/10]\n",
    "x0 = sm.add_constant(x0)\n",
    "\n",
    "model.get_prediction(x0).summary_frame(alpha=0.05)"
   ],
   "outputs": [
    {
     "data": {
      "text/plain": [
       "        mean   mean_se  mean_ci_lower  mean_ci_upper  obs_ci_lower  \\\n",
       "0 -12.536597  0.421537     -13.408613     -11.664581    -13.430108   \n",
       "1   1.427314  0.019600       1.386768       1.467861      1.228331   \n",
       "\n",
       "   obs_ci_upper  \n",
       "0    -11.643086  \n",
       "1      1.626298  "
      ],
      "text/html": [
       "<div>\n",
       "<style scoped>\n",
       "    .dataframe tbody tr th:only-of-type {\n",
       "        vertical-align: middle;\n",
       "    }\n",
       "\n",
       "    .dataframe tbody tr th {\n",
       "        vertical-align: top;\n",
       "    }\n",
       "\n",
       "    .dataframe thead th {\n",
       "        text-align: right;\n",
       "    }\n",
       "</style>\n",
       "<table border=\"1\" class=\"dataframe\">\n",
       "  <thead>\n",
       "    <tr style=\"text-align: right;\">\n",
       "      <th></th>\n",
       "      <th>mean</th>\n",
       "      <th>mean_se</th>\n",
       "      <th>mean_ci_lower</th>\n",
       "      <th>mean_ci_upper</th>\n",
       "      <th>obs_ci_lower</th>\n",
       "      <th>obs_ci_upper</th>\n",
       "    </tr>\n",
       "  </thead>\n",
       "  <tbody>\n",
       "    <tr>\n",
       "      <th>0</th>\n",
       "      <td>-12.536597</td>\n",
       "      <td>0.421537</td>\n",
       "      <td>-13.408613</td>\n",
       "      <td>-11.664581</td>\n",
       "      <td>-13.430108</td>\n",
       "      <td>-11.643086</td>\n",
       "    </tr>\n",
       "    <tr>\n",
       "      <th>1</th>\n",
       "      <td>1.427314</td>\n",
       "      <td>0.019600</td>\n",
       "      <td>1.386768</td>\n",
       "      <td>1.467861</td>\n",
       "      <td>1.228331</td>\n",
       "      <td>1.626298</td>\n",
       "    </tr>\n",
       "  </tbody>\n",
       "</table>\n",
       "</div>"
      ]
     },
     "execution_count": 35,
     "metadata": {},
     "output_type": "execute_result"
    }
   ],
   "execution_count": 35
  }
 ],
 "metadata": {
  "kernelspec": {
   "display_name": "Python 3 (ipykernel)",
   "language": "python",
   "name": "python3"
  },
  "language_info": {
   "codemirror_mode": {
    "name": "ipython",
    "version": 3
   },
   "file_extension": ".py",
   "mimetype": "text/x-python",
   "name": "python",
   "nbconvert_exporter": "python",
   "pygments_lexer": "ipython3",
   "version": "3.9.6"
  }
 },
 "nbformat": 4,
 "nbformat_minor": 4
}
