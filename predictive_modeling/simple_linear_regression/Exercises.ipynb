{
 "cells": [
  {
   "metadata": {
    "tags": []
   },
   "cell_type": "markdown",
   "source": "# Exercises",
   "id": "5f99df73c86a0e4b"
  },
  {
   "metadata": {
    "ExecuteTime": {
     "end_time": "2025-10-26T12:29:13.852605Z",
     "start_time": "2025-10-26T12:29:13.421310Z"
    },
    "tags": [
     "remove-cell"
    ]
   },
   "cell_type": "code",
   "outputs": [
    {
     "name": "stdout",
     "output_type": "stream",
     "text": [
      "Requirement already satisfied: pandas in /Users/marbetschar/Development/marbetschar/notes/.venv/lib/python3.9/site-packages (2.3.3)\r\n",
      "Requirement already satisfied: numpy in /Users/marbetschar/Development/marbetschar/notes/.venv/lib/python3.9/site-packages (1.26.4)\r\n",
      "Requirement already satisfied: statsmodels in /Users/marbetschar/Development/marbetschar/notes/.venv/lib/python3.9/site-packages (0.14.5)\r\n",
      "Requirement already satisfied: matplotlib in /Users/marbetschar/Development/marbetschar/notes/.venv/lib/python3.9/site-packages (3.9.4)\r\n",
      "Requirement already satisfied: python-dateutil>=2.8.2 in /Users/marbetschar/Development/marbetschar/notes/.venv/lib/python3.9/site-packages (from pandas) (2.9.0.post0)\r\n",
      "Requirement already satisfied: pytz>=2020.1 in /Users/marbetschar/Development/marbetschar/notes/.venv/lib/python3.9/site-packages (from pandas) (2025.2)\r\n",
      "Requirement already satisfied: tzdata>=2022.7 in /Users/marbetschar/Development/marbetschar/notes/.venv/lib/python3.9/site-packages (from pandas) (2025.2)\r\n",
      "Requirement already satisfied: scipy!=1.9.2,>=1.8 in /Users/marbetschar/Development/marbetschar/notes/.venv/lib/python3.9/site-packages (from statsmodels) (1.12.0)\r\n",
      "Requirement already satisfied: patsy>=0.5.6 in /Users/marbetschar/Development/marbetschar/notes/.venv/lib/python3.9/site-packages (from statsmodels) (1.0.2)\r\n",
      "Requirement already satisfied: packaging>=21.3 in /Users/marbetschar/Development/marbetschar/notes/.venv/lib/python3.9/site-packages (from statsmodels) (25.0)\r\n",
      "Requirement already satisfied: contourpy>=1.0.1 in /Users/marbetschar/Development/marbetschar/notes/.venv/lib/python3.9/site-packages (from matplotlib) (1.3.0)\r\n",
      "Requirement already satisfied: cycler>=0.10 in /Users/marbetschar/Development/marbetschar/notes/.venv/lib/python3.9/site-packages (from matplotlib) (0.12.1)\r\n",
      "Requirement already satisfied: fonttools>=4.22.0 in /Users/marbetschar/Development/marbetschar/notes/.venv/lib/python3.9/site-packages (from matplotlib) (4.60.1)\r\n",
      "Requirement already satisfied: kiwisolver>=1.3.1 in /Users/marbetschar/Development/marbetschar/notes/.venv/lib/python3.9/site-packages (from matplotlib) (1.4.7)\r\n",
      "Requirement already satisfied: pillow>=8 in /Users/marbetschar/Development/marbetschar/notes/.venv/lib/python3.9/site-packages (from matplotlib) (11.3.0)\r\n",
      "Requirement already satisfied: pyparsing>=2.3.1 in /Users/marbetschar/Development/marbetschar/notes/.venv/lib/python3.9/site-packages (from matplotlib) (3.2.5)\r\n",
      "Requirement already satisfied: importlib-resources>=3.2.0 in /Users/marbetschar/Development/marbetschar/notes/.venv/lib/python3.9/site-packages (from matplotlib) (6.5.2)\r\n",
      "Requirement already satisfied: zipp>=3.1.0 in /Users/marbetschar/Development/marbetschar/notes/.venv/lib/python3.9/site-packages (from importlib-resources>=3.2.0->matplotlib) (3.23.0)\r\n",
      "Requirement already satisfied: six>=1.5 in /Users/marbetschar/Development/marbetschar/notes/.venv/lib/python3.9/site-packages (from python-dateutil>=2.8.2->pandas) (1.17.0)\r\n",
      "Note: you may need to restart the kernel to use updated packages.\n"
     ]
    }
   ],
   "execution_count": 4,
   "source": "%pip install pandas numpy statsmodels matplotlib",
   "id": "36eeeef712fc9e3f"
  },
  {
   "metadata": {},
   "cell_type": "markdown",
   "source": [
    "## Exercise 1.1\n",
    "\n",
    "This exercise aims at carrying out a simple regression analysis for the data set constructed by Frank Anscombe."
   ],
   "id": "b4a13ed7a659ee55"
  },
  {
   "cell_type": "code",
   "id": "initial_id",
   "metadata": {
    "collapsed": true,
    "ExecuteTime": {
     "end_time": "2025-10-26T12:29:44.401219Z",
     "start_time": "2025-10-26T12:29:43.611029Z"
    }
   },
   "source": [
    "import pandas as pd\n",
    "import numpy as np\n",
    "import statsmodels.api as sm\n",
    "import matplotlib.pyplot as plt"
   ],
   "outputs": [],
   "execution_count": 1
  },
  {
   "metadata": {
    "ExecuteTime": {
     "end_time": "2025-10-26T12:31:39.445137Z",
     "start_time": "2025-10-26T12:31:39.435137Z"
    }
   },
   "cell_type": "code",
   "source": [
    "anscombe = pd.read_csv('../data/anscombe.csv')\n",
    "anscombe.head()"
   ],
   "id": "60e6de81cccc272e",
   "outputs": [
    {
     "data": {
      "text/plain": [
       "   Unnamed: 0  x1  x2  x3  x4    y1    y2     y3    y4\n",
       "0           1  10  10  10   8  8.04  9.14   7.46  6.58\n",
       "1           2   8   8   8   8  6.95  8.14   6.77  5.76\n",
       "2           3  13  13  13   8  7.58  8.74  12.74  7.71\n",
       "3           4   9   9   9   8  8.81  8.77   7.11  8.84\n",
       "4           5  11  11  11   8  8.33  9.26   7.81  8.47"
      ],
      "text/html": [
       "<div>\n",
       "<style scoped>\n",
       "    .dataframe tbody tr th:only-of-type {\n",
       "        vertical-align: middle;\n",
       "    }\n",
       "\n",
       "    .dataframe tbody tr th {\n",
       "        vertical-align: top;\n",
       "    }\n",
       "\n",
       "    .dataframe thead th {\n",
       "        text-align: right;\n",
       "    }\n",
       "</style>\n",
       "<table border=\"1\" class=\"dataframe\">\n",
       "  <thead>\n",
       "    <tr style=\"text-align: right;\">\n",
       "      <th></th>\n",
       "      <th>Unnamed: 0</th>\n",
       "      <th>x1</th>\n",
       "      <th>x2</th>\n",
       "      <th>x3</th>\n",
       "      <th>x4</th>\n",
       "      <th>y1</th>\n",
       "      <th>y2</th>\n",
       "      <th>y3</th>\n",
       "      <th>y4</th>\n",
       "    </tr>\n",
       "  </thead>\n",
       "  <tbody>\n",
       "    <tr>\n",
       "      <th>0</th>\n",
       "      <td>1</td>\n",
       "      <td>10</td>\n",
       "      <td>10</td>\n",
       "      <td>10</td>\n",
       "      <td>8</td>\n",
       "      <td>8.04</td>\n",
       "      <td>9.14</td>\n",
       "      <td>7.46</td>\n",
       "      <td>6.58</td>\n",
       "    </tr>\n",
       "    <tr>\n",
       "      <th>1</th>\n",
       "      <td>2</td>\n",
       "      <td>8</td>\n",
       "      <td>8</td>\n",
       "      <td>8</td>\n",
       "      <td>8</td>\n",
       "      <td>6.95</td>\n",
       "      <td>8.14</td>\n",
       "      <td>6.77</td>\n",
       "      <td>5.76</td>\n",
       "    </tr>\n",
       "    <tr>\n",
       "      <th>2</th>\n",
       "      <td>3</td>\n",
       "      <td>13</td>\n",
       "      <td>13</td>\n",
       "      <td>13</td>\n",
       "      <td>8</td>\n",
       "      <td>7.58</td>\n",
       "      <td>8.74</td>\n",
       "      <td>12.74</td>\n",
       "      <td>7.71</td>\n",
       "    </tr>\n",
       "    <tr>\n",
       "      <th>3</th>\n",
       "      <td>4</td>\n",
       "      <td>9</td>\n",
       "      <td>9</td>\n",
       "      <td>9</td>\n",
       "      <td>8</td>\n",
       "      <td>8.81</td>\n",
       "      <td>8.77</td>\n",
       "      <td>7.11</td>\n",
       "      <td>8.84</td>\n",
       "    </tr>\n",
       "    <tr>\n",
       "      <th>4</th>\n",
       "      <td>5</td>\n",
       "      <td>11</td>\n",
       "      <td>11</td>\n",
       "      <td>11</td>\n",
       "      <td>8</td>\n",
       "      <td>8.33</td>\n",
       "      <td>9.26</td>\n",
       "      <td>7.81</td>\n",
       "      <td>8.47</td>\n",
       "    </tr>\n",
       "  </tbody>\n",
       "</table>\n",
       "</div>"
      ]
     },
     "execution_count": 5,
     "metadata": {},
     "output_type": "execute_result"
    }
   ],
   "execution_count": 5
  },
  {
   "metadata": {
    "ExecuteTime": {
     "end_time": "2025-10-26T12:31:42.846478Z",
     "start_time": "2025-10-26T12:31:42.828851Z"
    }
   },
   "cell_type": "code",
   "source": [
    "x1 = anscombe[['x1']]\n",
    "y1 = anscombe[['y1']]\n",
    "\n",
    "x_set = sm.add_constant(x1)\n",
    "\n",
    "model = sm.OLS(y1, x_set).fit()\n",
    "print(model.params)\n",
    "model.summary()"
   ],
   "id": "e4a8278b49f13253",
   "outputs": [
    {
     "name": "stdout",
     "output_type": "stream",
     "text": [
      "const    3.000091\n",
      "x1       0.500091\n",
      "dtype: float64\n"
     ]
    },
    {
     "name": "stderr",
     "output_type": "stream",
     "text": [
      "/Users/marbetschar/Development/marbetschar/notes/.venv/lib/python3.9/site-packages/scipy/stats/_stats_py.py:1971: UserWarning: kurtosistest only valid for n>=20 ... continuing anyway, n=11\n",
      "  k, _ = kurtosistest(a, axis)\n"
     ]
    },
    {
     "data": {
      "text/plain": [
       "<class 'statsmodels.iolib.summary.Summary'>\n",
       "\"\"\"\n",
       "                            OLS Regression Results                            \n",
       "==============================================================================\n",
       "Dep. Variable:                     y1   R-squared:                       0.667\n",
       "Model:                            OLS   Adj. R-squared:                  0.629\n",
       "Method:                 Least Squares   F-statistic:                     17.99\n",
       "Date:                Sun, 26 Oct 2025   Prob (F-statistic):            0.00217\n",
       "Time:                        13:31:42   Log-Likelihood:                -16.841\n",
       "No. Observations:                  11   AIC:                             37.68\n",
       "Df Residuals:                       9   BIC:                             38.48\n",
       "Df Model:                           1                                         \n",
       "Covariance Type:            nonrobust                                         \n",
       "==============================================================================\n",
       "                 coef    std err          t      P>|t|      [0.025      0.975]\n",
       "------------------------------------------------------------------------------\n",
       "const          3.0001      1.125      2.667      0.026       0.456       5.544\n",
       "x1             0.5001      0.118      4.241      0.002       0.233       0.767\n",
       "==============================================================================\n",
       "Omnibus:                        0.082   Durbin-Watson:                   3.212\n",
       "Prob(Omnibus):                  0.960   Jarque-Bera (JB):                0.289\n",
       "Skew:                          -0.122   Prob(JB):                        0.865\n",
       "Kurtosis:                       2.244   Cond. No.                         29.1\n",
       "==============================================================================\n",
       "\n",
       "Notes:\n",
       "[1] Standard Errors assume that the covariance matrix of the errors is correctly specified.\n",
       "\"\"\""
      ],
      "text/html": [
       "<table class=\"simpletable\">\n",
       "<caption>OLS Regression Results</caption>\n",
       "<tr>\n",
       "  <th>Dep. Variable:</th>           <td>y1</td>        <th>  R-squared:         </th> <td>   0.667</td>\n",
       "</tr>\n",
       "<tr>\n",
       "  <th>Model:</th>                   <td>OLS</td>       <th>  Adj. R-squared:    </th> <td>   0.629</td>\n",
       "</tr>\n",
       "<tr>\n",
       "  <th>Method:</th>             <td>Least Squares</td>  <th>  F-statistic:       </th> <td>   17.99</td>\n",
       "</tr>\n",
       "<tr>\n",
       "  <th>Date:</th>             <td>Sun, 26 Oct 2025</td> <th>  Prob (F-statistic):</th>  <td>0.00217</td>\n",
       "</tr>\n",
       "<tr>\n",
       "  <th>Time:</th>                 <td>13:31:42</td>     <th>  Log-Likelihood:    </th> <td> -16.841</td>\n",
       "</tr>\n",
       "<tr>\n",
       "  <th>No. Observations:</th>      <td>    11</td>      <th>  AIC:               </th> <td>   37.68</td>\n",
       "</tr>\n",
       "<tr>\n",
       "  <th>Df Residuals:</th>          <td>     9</td>      <th>  BIC:               </th> <td>   38.48</td>\n",
       "</tr>\n",
       "<tr>\n",
       "  <th>Df Model:</th>              <td>     1</td>      <th>                     </th>     <td> </td>   \n",
       "</tr>\n",
       "<tr>\n",
       "  <th>Covariance Type:</th>      <td>nonrobust</td>    <th>                     </th>     <td> </td>   \n",
       "</tr>\n",
       "</table>\n",
       "<table class=\"simpletable\">\n",
       "<tr>\n",
       "    <td></td>       <th>coef</th>     <th>std err</th>      <th>t</th>      <th>P>|t|</th>  <th>[0.025</th>    <th>0.975]</th>  \n",
       "</tr>\n",
       "<tr>\n",
       "  <th>const</th> <td>    3.0001</td> <td>    1.125</td> <td>    2.667</td> <td> 0.026</td> <td>    0.456</td> <td>    5.544</td>\n",
       "</tr>\n",
       "<tr>\n",
       "  <th>x1</th>    <td>    0.5001</td> <td>    0.118</td> <td>    4.241</td> <td> 0.002</td> <td>    0.233</td> <td>    0.767</td>\n",
       "</tr>\n",
       "</table>\n",
       "<table class=\"simpletable\">\n",
       "<tr>\n",
       "  <th>Omnibus:</th>       <td> 0.082</td> <th>  Durbin-Watson:     </th> <td>   3.212</td>\n",
       "</tr>\n",
       "<tr>\n",
       "  <th>Prob(Omnibus):</th> <td> 0.960</td> <th>  Jarque-Bera (JB):  </th> <td>   0.289</td>\n",
       "</tr>\n",
       "<tr>\n",
       "  <th>Skew:</th>          <td>-0.122</td> <th>  Prob(JB):          </th> <td>   0.865</td>\n",
       "</tr>\n",
       "<tr>\n",
       "  <th>Kurtosis:</th>      <td> 2.244</td> <th>  Cond. No.          </th> <td>    29.1</td>\n",
       "</tr>\n",
       "</table><br/><br/>Notes:<br/>[1] Standard Errors assume that the covariance matrix of the errors is correctly specified."
      ],
      "text/latex": "\\begin{center}\n\\begin{tabular}{lclc}\n\\toprule\n\\textbf{Dep. Variable:}    &        y1        & \\textbf{  R-squared:         } &     0.667   \\\\\n\\textbf{Model:}            &       OLS        & \\textbf{  Adj. R-squared:    } &     0.629   \\\\\n\\textbf{Method:}           &  Least Squares   & \\textbf{  F-statistic:       } &     17.99   \\\\\n\\textbf{Date:}             & Sun, 26 Oct 2025 & \\textbf{  Prob (F-statistic):} &  0.00217    \\\\\n\\textbf{Time:}             &     13:31:42     & \\textbf{  Log-Likelihood:    } &   -16.841   \\\\\n\\textbf{No. Observations:} &          11      & \\textbf{  AIC:               } &     37.68   \\\\\n\\textbf{Df Residuals:}     &           9      & \\textbf{  BIC:               } &     38.48   \\\\\n\\textbf{Df Model:}         &           1      & \\textbf{                     } &             \\\\\n\\textbf{Covariance Type:}  &    nonrobust     & \\textbf{                     } &             \\\\\n\\bottomrule\n\\end{tabular}\n\\begin{tabular}{lcccccc}\n               & \\textbf{coef} & \\textbf{std err} & \\textbf{t} & \\textbf{P$> |$t$|$} & \\textbf{[0.025} & \\textbf{0.975]}  \\\\\n\\midrule\n\\textbf{const} &       3.0001  &        1.125     &     2.667  &         0.026        &        0.456    &        5.544     \\\\\n\\textbf{x1}    &       0.5001  &        0.118     &     4.241  &         0.002        &        0.233    &        0.767     \\\\\n\\bottomrule\n\\end{tabular}\n\\begin{tabular}{lclc}\n\\textbf{Omnibus:}       &  0.082 & \\textbf{  Durbin-Watson:     } &    3.212  \\\\\n\\textbf{Prob(Omnibus):} &  0.960 & \\textbf{  Jarque-Bera (JB):  } &    0.289  \\\\\n\\textbf{Skew:}          & -0.122 & \\textbf{  Prob(JB):          } &    0.865  \\\\\n\\textbf{Kurtosis:}      &  2.244 & \\textbf{  Cond. No.          } &     29.1  \\\\\n\\bottomrule\n\\end{tabular}\n%\\caption{OLS Regression Results}\n\\end{center}\n\nNotes: \\newline\n [1] Standard Errors assume that the covariance matrix of the errors is correctly specified."
     },
     "execution_count": 6,
     "metadata": {},
     "output_type": "execute_result"
    }
   ],
   "execution_count": 6
  },
  {
   "metadata": {
    "ExecuteTime": {
     "end_time": "2025-09-22T21:50:02.197827Z",
     "start_time": "2025-09-22T21:50:02.194659Z"
    }
   },
   "cell_type": "code",
   "source": [
    "intercept = model.params.iloc[0]\n",
    "slope = model.params.iloc[1]\n",
    "\n",
    "y_pred = x1 * slope + intercept\n",
    "\n",
    "r = y1 - y_pred # residuals\n",
    "rss = np.sum(np.square(r), axis = 0) # residual sum of squares\n",
    "rse = np.sqrt(rss / (r.shape[0] - 2)) # residual standard error = approximation of variance\n",
    "\n",
    "print(f\"Residuals Shape = {r.shape}\")\n",
    "print(f\"RSS = {rss}\")\n",
    "print(f\"RSE = {rse}\")"
   ],
   "id": "46d71479aa3cb4d7",
   "outputs": [
    {
     "name": "stdout",
     "output_type": "stream",
     "text": [
      "Residuals Shape = (11, 2)\n",
      "RSS = x1   0.00000\n",
      "y1   0.00000\n",
      "dtype: float64\n",
      "RSE = x1   0.00000\n",
      "y1   0.00000\n",
      "dtype: float64\n"
     ]
    }
   ],
   "execution_count": 348
  },
  {
   "metadata": {
    "ExecuteTime": {
     "end_time": "2025-09-22T21:50:02.232176Z",
     "start_time": "2025-09-22T21:50:02.224078Z"
    }
   },
   "cell_type": "code",
   "source": [
    "x = anscombe[['x1', 'x2', 'x3', 'x4']]\n",
    "y = anscombe[['y1', 'y2', 'y3', 'y4']]\n",
    "\n",
    "results = np.zeros((5, 4))\n",
    "models = []\n",
    "for i in range(4):\n",
    "    xi = x.iloc[:, i]\n",
    "    yi = y.iloc[:, i]\n",
    "\n",
    "    x_set = sm.add_constant(xi)\n",
    "    model = sm.OLS(yi, x_set).fit() # OLS = Ordinary Least Squares\n",
    "    models.append(model)\n",
    "\n",
    "    intercept = model.params.iloc[0]\n",
    "    slope = model.params.iloc[1]\n",
    "    y_pred = xi * slope + intercept\n",
    "\n",
    "    r = yi - y_pred # residuals\n",
    "    rss = np.sum(np.square(r), axis = 0) # residual sum of squares\n",
    "    rse = np.sqrt(rss / (r.shape[0] - 2)) # residual standard error = approximation of variance\n",
    "\n",
    "    xi_mean = np.mean(xi)\n",
    "    xi_dist_sum = np.sum(np.square(xi - xi_mean))\n",
    "\n",
    "    rse_squared = np.square(rse)\n",
    "    slope_stderr = np.sqrt(rse_squared / xi_dist_sum)\n",
    "    intercept_stderr = np.sqrt(rse_squared * (1 / xi.shape[0] + np.square(xi_mean) / xi_dist_sum))\n",
    "\n",
    "    results[0, i] = intercept\n",
    "    results[1, i] = slope\n",
    "    results[2, i] = rse\n",
    "    results[3, i] = intercept_stderr\n",
    "    results[4, i] = slope_stderr\n",
    "\n",
    "results_df = pd.DataFrame(\n",
    "    results,\n",
    "    columns=['model1', 'model2', 'model3', 'model4'],\n",
    "    index=['intercept', 'slope', 'variance', 'intercept std. error', 'slope std. error']\n",
    "    )\n",
    "\n",
    "results_df"
   ],
   "id": "3ff4d65ec6656fb3",
   "outputs": [
    {
     "data": {
      "text/plain": [
       "                      model1  model2  model3  model4\n",
       "intercept            3.00009 3.00091 3.00245 3.00173\n",
       "slope                0.50009 0.50000 0.49973 0.49991\n",
       "variance             1.23660 1.23721 1.23631 1.23570\n",
       "intercept std. error 1.12475 1.12530 1.12448 1.12392\n",
       "slope std. error     0.11791 0.11796 0.11788 0.11782"
      ],
      "text/html": [
       "<div>\n",
       "<style scoped>\n",
       "    .dataframe tbody tr th:only-of-type {\n",
       "        vertical-align: middle;\n",
       "    }\n",
       "\n",
       "    .dataframe tbody tr th {\n",
       "        vertical-align: top;\n",
       "    }\n",
       "\n",
       "    .dataframe thead th {\n",
       "        text-align: right;\n",
       "    }\n",
       "</style>\n",
       "<table border=\"1\" class=\"dataframe\">\n",
       "  <thead>\n",
       "    <tr style=\"text-align: right;\">\n",
       "      <th></th>\n",
       "      <th>model1</th>\n",
       "      <th>model2</th>\n",
       "      <th>model3</th>\n",
       "      <th>model4</th>\n",
       "    </tr>\n",
       "  </thead>\n",
       "  <tbody>\n",
       "    <tr>\n",
       "      <th>intercept</th>\n",
       "      <td>3.00009</td>\n",
       "      <td>3.00091</td>\n",
       "      <td>3.00245</td>\n",
       "      <td>3.00173</td>\n",
       "    </tr>\n",
       "    <tr>\n",
       "      <th>slope</th>\n",
       "      <td>0.50009</td>\n",
       "      <td>0.50000</td>\n",
       "      <td>0.49973</td>\n",
       "      <td>0.49991</td>\n",
       "    </tr>\n",
       "    <tr>\n",
       "      <th>variance</th>\n",
       "      <td>1.23660</td>\n",
       "      <td>1.23721</td>\n",
       "      <td>1.23631</td>\n",
       "      <td>1.23570</td>\n",
       "    </tr>\n",
       "    <tr>\n",
       "      <th>intercept std. error</th>\n",
       "      <td>1.12475</td>\n",
       "      <td>1.12530</td>\n",
       "      <td>1.12448</td>\n",
       "      <td>1.12392</td>\n",
       "    </tr>\n",
       "    <tr>\n",
       "      <th>slope std. error</th>\n",
       "      <td>0.11791</td>\n",
       "      <td>0.11796</td>\n",
       "      <td>0.11788</td>\n",
       "      <td>0.11782</td>\n",
       "    </tr>\n",
       "  </tbody>\n",
       "</table>\n",
       "</div>"
      ]
     },
     "execution_count": 349,
     "metadata": {},
     "output_type": "execute_result"
    }
   ],
   "execution_count": 349
  },
  {
   "metadata": {
    "ExecuteTime": {
     "end_time": "2025-09-22T21:50:02.268153Z",
     "start_time": "2025-09-22T21:50:02.257889Z"
    }
   },
   "cell_type": "code",
   "source": [
    "for i, model in enumerate(models):\n",
    "    print(f\"\\n#################################### Model {i} #################################\")\n",
    "    print(model.summary())"
   ],
   "id": "f427b59ae211e04b",
   "outputs": [
    {
     "name": "stdout",
     "output_type": "stream",
     "text": [
      "\n",
      "#################################### Model 0 #################################\n",
      "                            OLS Regression Results                            \n",
      "==============================================================================\n",
      "Dep. Variable:                     y1   R-squared:                       0.667\n",
      "Model:                            OLS   Adj. R-squared:                  0.629\n",
      "Method:                 Least Squares   F-statistic:                     17.99\n",
      "Date:                Mon, 22 Sep 2025   Prob (F-statistic):            0.00217\n",
      "Time:                        23:50:02   Log-Likelihood:                -16.841\n",
      "No. Observations:                  11   AIC:                             37.68\n",
      "Df Residuals:                       9   BIC:                             38.48\n",
      "Df Model:                           1                                         \n",
      "Covariance Type:            nonrobust                                         \n",
      "==============================================================================\n",
      "                 coef    std err          t      P>|t|      [0.025      0.975]\n",
      "------------------------------------------------------------------------------\n",
      "const          3.0001      1.125      2.667      0.026       0.456       5.544\n",
      "x1             0.5001      0.118      4.241      0.002       0.233       0.767\n",
      "==============================================================================\n",
      "Omnibus:                        0.082   Durbin-Watson:                   3.212\n",
      "Prob(Omnibus):                  0.960   Jarque-Bera (JB):                0.289\n",
      "Skew:                          -0.122   Prob(JB):                        0.865\n",
      "Kurtosis:                       2.244   Cond. No.                         29.1\n",
      "==============================================================================\n",
      "\n",
      "Notes:\n",
      "[1] Standard Errors assume that the covariance matrix of the errors is correctly specified.\n",
      "\n",
      "#################################### Model 1 #################################\n",
      "                            OLS Regression Results                            \n",
      "==============================================================================\n",
      "Dep. Variable:                     y2   R-squared:                       0.666\n",
      "Model:                            OLS   Adj. R-squared:                  0.629\n",
      "Method:                 Least Squares   F-statistic:                     17.97\n",
      "Date:                Mon, 22 Sep 2025   Prob (F-statistic):            0.00218\n",
      "Time:                        23:50:02   Log-Likelihood:                -16.846\n",
      "No. Observations:                  11   AIC:                             37.69\n",
      "Df Residuals:                       9   BIC:                             38.49\n",
      "Df Model:                           1                                         \n",
      "Covariance Type:            nonrobust                                         \n",
      "==============================================================================\n",
      "                 coef    std err          t      P>|t|      [0.025      0.975]\n",
      "------------------------------------------------------------------------------\n",
      "const          3.0009      1.125      2.667      0.026       0.455       5.547\n",
      "x2             0.5000      0.118      4.239      0.002       0.233       0.767\n",
      "==============================================================================\n",
      "Omnibus:                        1.594   Durbin-Watson:                   2.188\n",
      "Prob(Omnibus):                  0.451   Jarque-Bera (JB):                1.108\n",
      "Skew:                          -0.567   Prob(JB):                        0.575\n",
      "Kurtosis:                       1.936   Cond. No.                         29.1\n",
      "==============================================================================\n",
      "\n",
      "Notes:\n",
      "[1] Standard Errors assume that the covariance matrix of the errors is correctly specified.\n",
      "\n",
      "#################################### Model 2 #################################\n",
      "                            OLS Regression Results                            \n",
      "==============================================================================\n",
      "Dep. Variable:                     y3   R-squared:                       0.666\n",
      "Model:                            OLS   Adj. R-squared:                  0.629\n",
      "Method:                 Least Squares   F-statistic:                     17.97\n",
      "Date:                Mon, 22 Sep 2025   Prob (F-statistic):            0.00218\n",
      "Time:                        23:50:02   Log-Likelihood:                -16.838\n",
      "No. Observations:                  11   AIC:                             37.68\n",
      "Df Residuals:                       9   BIC:                             38.47\n",
      "Df Model:                           1                                         \n",
      "Covariance Type:            nonrobust                                         \n",
      "==============================================================================\n",
      "                 coef    std err          t      P>|t|      [0.025      0.975]\n",
      "------------------------------------------------------------------------------\n",
      "const          3.0025      1.124      2.670      0.026       0.459       5.546\n",
      "x3             0.4997      0.118      4.239      0.002       0.233       0.766\n",
      "==============================================================================\n",
      "Omnibus:                       19.540   Durbin-Watson:                   2.144\n",
      "Prob(Omnibus):                  0.000   Jarque-Bera (JB):               13.478\n",
      "Skew:                           2.041   Prob(JB):                      0.00118\n",
      "Kurtosis:                       6.571   Cond. No.                         29.1\n",
      "==============================================================================\n",
      "\n",
      "Notes:\n",
      "[1] Standard Errors assume that the covariance matrix of the errors is correctly specified.\n",
      "\n",
      "#################################### Model 3 #################################\n",
      "                            OLS Regression Results                            \n",
      "==============================================================================\n",
      "Dep. Variable:                     y4   R-squared:                       0.667\n",
      "Model:                            OLS   Adj. R-squared:                  0.630\n",
      "Method:                 Least Squares   F-statistic:                     18.00\n",
      "Date:                Mon, 22 Sep 2025   Prob (F-statistic):            0.00216\n",
      "Time:                        23:50:02   Log-Likelihood:                -16.833\n",
      "No. Observations:                  11   AIC:                             37.67\n",
      "Df Residuals:                       9   BIC:                             38.46\n",
      "Df Model:                           1                                         \n",
      "Covariance Type:            nonrobust                                         \n",
      "==============================================================================\n",
      "                 coef    std err          t      P>|t|      [0.025      0.975]\n",
      "------------------------------------------------------------------------------\n",
      "const          3.0017      1.124      2.671      0.026       0.459       5.544\n",
      "x4             0.4999      0.118      4.243      0.002       0.233       0.766\n",
      "==============================================================================\n",
      "Omnibus:                        0.555   Durbin-Watson:                   1.662\n",
      "Prob(Omnibus):                  0.758   Jarque-Bera (JB):                0.524\n",
      "Skew:                           0.010   Prob(JB):                        0.769\n",
      "Kurtosis:                       1.931   Cond. No.                         29.1\n",
      "==============================================================================\n",
      "\n",
      "Notes:\n",
      "[1] Standard Errors assume that the covariance matrix of the errors is correctly specified.\n"
     ]
    }
   ],
   "execution_count": 350
  },
  {
   "metadata": {
    "ExecuteTime": {
     "end_time": "2025-09-22T21:50:02.438784Z",
     "start_time": "2025-09-22T21:50:02.307784Z"
    }
   },
   "cell_type": "code",
   "source": [
    "for i in range(4):\n",
    "    fig = plt.figure(figsize=(12, 12))\n",
    "    ax = fig.add_subplot(2, 2, i + 1)\n",
    "\n",
    "    intercept = results[0, i]\n",
    "    slope = results[1, i]\n",
    "\n",
    "    xi = x.iloc[:, i]\n",
    "    yi = y.iloc[:, i]\n",
    "\n",
    "    ax.plot(xi, xi * slope + intercept, label='regression')\n",
    "    ax.plot(xi, yi, 'ok', label='ground truth')\n",
    "\n",
    "    ax.legend(loc='best')\n",
    "\n",
    "plt.show()"
   ],
   "id": "febef39cf8d9848b",
   "outputs": [
    {
     "data": {
      "text/plain": [
       "<Figure size 1200x1200 with 1 Axes>"
      ],
      "image/png": "[encoded data removed]"
     },
     "metadata": {},
     "output_type": "display_data",
     "jetTransient": {
      "display_id": null
     }
    },
    {
     "data": {
      "text/plain": [
       "<Figure size 1200x1200 with 1 Axes>"
      ],
      "image/png": "[encoded data removed]"
     },
     "metadata": {},
     "output_type": "display_data",
     "jetTransient": {
      "display_id": null
     }
    },
    {
     "data": {
      "text/plain": [
       "<Figure size 1200x1200 with 1 Axes>"
      ],
      "image/png": "[encoded data removed]"
     },
     "metadata": {},
     "output_type": "display_data",
     "jetTransient": {
      "display_id": null
     }
    },
    {
     "data": {
      "text/plain": [
       "<Figure size 1200x1200 with 1 Axes>"
      ],
      "image/png": "[encoded data removed]"
     },
     "metadata": {},
     "output_type": "display_data",
     "jetTransient": {
      "display_id": null
     }
    }
   ],
   "execution_count": 351
  },
  {
   "metadata": {},
   "cell_type": "markdown",
   "source": "# Exercise 1.2",
   "id": "839ea2b300ca007c"
  },
  {
   "metadata": {
    "ExecuteTime": {
     "end_time": "2025-09-22T21:50:02.452334Z",
     "start_time": "2025-09-22T21:50:02.448188Z"
    }
   },
   "cell_type": "code",
   "source": [
    "clocks = pd.read_csv('./../Data/antique_clocks.csv')\n",
    "clocks"
   ],
   "id": "5971ce4e5d52c7d3",
   "outputs": [
    {
     "data": {
      "text/plain": [
       "    Unnamed: 0  age  price\n",
       "0            1  108    729\n",
       "1            2  108   1055\n",
       "2            3  111    785\n",
       "3            4  111   1175\n",
       "4            5  113    946\n",
       "5            6  115    744\n",
       "6            7  115   1080\n",
       "7            8  117   1024\n",
       "8            9  117   1152\n",
       "9           10  126   1336\n",
       "10          11  127   1235\n",
       "11          12  127    845\n",
       "12          13  132   1253\n",
       "13          14  137   1147\n",
       "14          15  137   1713\n",
       "15          16  137   1297\n",
       "16          17  143    854\n",
       "17          18  150   1522\n",
       "18          19  153   1092\n",
       "19          20  156   1822\n",
       "20          21  156   1047\n",
       "21          22  159   1483\n",
       "22          23  162   1884\n",
       "23          24  168   1262\n",
       "24          25  170   2131\n",
       "25          26  175   1545\n",
       "26          27  179   1792\n",
       "27          28  182   1979\n",
       "28          29  182   1550\n",
       "29          30  184   2041\n",
       "30          31  187   1593\n",
       "31          32  194   1356"
      ],
      "text/html": [
       "<div>\n",
       "<style scoped>\n",
       "    .dataframe tbody tr th:only-of-type {\n",
       "        vertical-align: middle;\n",
       "    }\n",
       "\n",
       "    .dataframe tbody tr th {\n",
       "        vertical-align: top;\n",
       "    }\n",
       "\n",
       "    .dataframe thead th {\n",
       "        text-align: right;\n",
       "    }\n",
       "</style>\n",
       "<table border=\"1\" class=\"dataframe\">\n",
       "  <thead>\n",
       "    <tr style=\"text-align: right;\">\n",
       "      <th></th>\n",
       "      <th>Unnamed: 0</th>\n",
       "      <th>age</th>\n",
       "      <th>price</th>\n",
       "    </tr>\n",
       "  </thead>\n",
       "  <tbody>\n",
       "    <tr>\n",
       "      <th>0</th>\n",
       "      <td>1</td>\n",
       "      <td>108</td>\n",
       "      <td>729</td>\n",
       "    </tr>\n",
       "    <tr>\n",
       "      <th>1</th>\n",
       "      <td>2</td>\n",
       "      <td>108</td>\n",
       "      <td>1055</td>\n",
       "    </tr>\n",
       "    <tr>\n",
       "      <th>2</th>\n",
       "      <td>3</td>\n",
       "      <td>111</td>\n",
       "      <td>785</td>\n",
       "    </tr>\n",
       "    <tr>\n",
       "      <th>3</th>\n",
       "      <td>4</td>\n",
       "      <td>111</td>\n",
       "      <td>1175</td>\n",
       "    </tr>\n",
       "    <tr>\n",
       "      <th>4</th>\n",
       "      <td>5</td>\n",
       "      <td>113</td>\n",
       "      <td>946</td>\n",
       "    </tr>\n",
       "    <tr>\n",
       "      <th>5</th>\n",
       "      <td>6</td>\n",
       "      <td>115</td>\n",
       "      <td>744</td>\n",
       "    </tr>\n",
       "    <tr>\n",
       "      <th>6</th>\n",
       "      <td>7</td>\n",
       "      <td>115</td>\n",
       "      <td>1080</td>\n",
       "    </tr>\n",
       "    <tr>\n",
       "      <th>7</th>\n",
       "      <td>8</td>\n",
       "      <td>117</td>\n",
       "      <td>1024</td>\n",
       "    </tr>\n",
       "    <tr>\n",
       "      <th>8</th>\n",
       "      <td>9</td>\n",
       "      <td>117</td>\n",
       "      <td>1152</td>\n",
       "    </tr>\n",
       "    <tr>\n",
       "      <th>9</th>\n",
       "      <td>10</td>\n",
       "      <td>126</td>\n",
       "      <td>1336</td>\n",
       "    </tr>\n",
       "    <tr>\n",
       "      <th>10</th>\n",
       "      <td>11</td>\n",
       "      <td>127</td>\n",
       "      <td>1235</td>\n",
       "    </tr>\n",
       "    <tr>\n",
       "      <th>11</th>\n",
       "      <td>12</td>\n",
       "      <td>127</td>\n",
       "      <td>845</td>\n",
       "    </tr>\n",
       "    <tr>\n",
       "      <th>12</th>\n",
       "      <td>13</td>\n",
       "      <td>132</td>\n",
       "      <td>1253</td>\n",
       "    </tr>\n",
       "    <tr>\n",
       "      <th>13</th>\n",
       "      <td>14</td>\n",
       "      <td>137</td>\n",
       "      <td>1147</td>\n",
       "    </tr>\n",
       "    <tr>\n",
       "      <th>14</th>\n",
       "      <td>15</td>\n",
       "      <td>137</td>\n",
       "      <td>1713</td>\n",
       "    </tr>\n",
       "    <tr>\n",
       "      <th>15</th>\n",
       "      <td>16</td>\n",
       "      <td>137</td>\n",
       "      <td>1297</td>\n",
       "    </tr>\n",
       "    <tr>\n",
       "      <th>16</th>\n",
       "      <td>17</td>\n",
       "      <td>143</td>\n",
       "      <td>854</td>\n",
       "    </tr>\n",
       "    <tr>\n",
       "      <th>17</th>\n",
       "      <td>18</td>\n",
       "      <td>150</td>\n",
       "      <td>1522</td>\n",
       "    </tr>\n",
       "    <tr>\n",
       "      <th>18</th>\n",
       "      <td>19</td>\n",
       "      <td>153</td>\n",
       "      <td>1092</td>\n",
       "    </tr>\n",
       "    <tr>\n",
       "      <th>19</th>\n",
       "      <td>20</td>\n",
       "      <td>156</td>\n",
       "      <td>1822</td>\n",
       "    </tr>\n",
       "    <tr>\n",
       "      <th>20</th>\n",
       "      <td>21</td>\n",
       "      <td>156</td>\n",
       "      <td>1047</td>\n",
       "    </tr>\n",
       "    <tr>\n",
       "      <th>21</th>\n",
       "      <td>22</td>\n",
       "      <td>159</td>\n",
       "      <td>1483</td>\n",
       "    </tr>\n",
       "    <tr>\n",
       "      <th>22</th>\n",
       "      <td>23</td>\n",
       "      <td>162</td>\n",
       "      <td>1884</td>\n",
       "    </tr>\n",
       "    <tr>\n",
       "      <th>23</th>\n",
       "      <td>24</td>\n",
       "      <td>168</td>\n",
       "      <td>1262</td>\n",
       "    </tr>\n",
       "    <tr>\n",
       "      <th>24</th>\n",
       "      <td>25</td>\n",
       "      <td>170</td>\n",
       "      <td>2131</td>\n",
       "    </tr>\n",
       "    <tr>\n",
       "      <th>25</th>\n",
       "      <td>26</td>\n",
       "      <td>175</td>\n",
       "      <td>1545</td>\n",
       "    </tr>\n",
       "    <tr>\n",
       "      <th>26</th>\n",
       "      <td>27</td>\n",
       "      <td>179</td>\n",
       "      <td>1792</td>\n",
       "    </tr>\n",
       "    <tr>\n",
       "      <th>27</th>\n",
       "      <td>28</td>\n",
       "      <td>182</td>\n",
       "      <td>1979</td>\n",
       "    </tr>\n",
       "    <tr>\n",
       "      <th>28</th>\n",
       "      <td>29</td>\n",
       "      <td>182</td>\n",
       "      <td>1550</td>\n",
       "    </tr>\n",
       "    <tr>\n",
       "      <th>29</th>\n",
       "      <td>30</td>\n",
       "      <td>184</td>\n",
       "      <td>2041</td>\n",
       "    </tr>\n",
       "    <tr>\n",
       "      <th>30</th>\n",
       "      <td>31</td>\n",
       "      <td>187</td>\n",
       "      <td>1593</td>\n",
       "    </tr>\n",
       "    <tr>\n",
       "      <th>31</th>\n",
       "      <td>32</td>\n",
       "      <td>194</td>\n",
       "      <td>1356</td>\n",
       "    </tr>\n",
       "  </tbody>\n",
       "</table>\n",
       "</div>"
      ]
     },
     "execution_count": 352,
     "metadata": {},
     "output_type": "execute_result"
    }
   ],
   "execution_count": 352
  },
  {
   "metadata": {
    "ExecuteTime": {
     "end_time": "2025-09-22T21:50:02.511393Z",
     "start_time": "2025-09-22T21:50:02.477589Z"
    }
   },
   "cell_type": "code",
   "source": [
    "fig = plt.figure(figsize=(12, 12))\n",
    "ax = fig.add_subplot(2, 2, 1)\n",
    "ax.plot(clocks.price, clocks.age, 'ok')\n",
    "ax.set_xlabel('Price')\n",
    "ax.set_ylabel('Age')\n",
    "plt.show()"
   ],
   "id": "7675afb2a33bfb9d",
   "outputs": [
    {
     "data": {
      "text/plain": [
       "<Figure size 1200x1200 with 1 Axes>"
      ],
      "image/png": "[encoded data removed]"
     },
     "metadata": {},
     "output_type": "display_data",
     "jetTransient": {
      "display_id": null
     }
    }
   ],
   "execution_count": 353
  },
  {
   "metadata": {
    "ExecuteTime": {
     "end_time": "2025-09-22T21:50:02.535531Z",
     "start_time": "2025-09-22T21:50:02.532008Z"
    }
   },
   "cell_type": "code",
   "source": [
    "x_set = sm.add_constant(clocks.price)\n",
    "y = clocks.age\n",
    "\n",
    "model = sm.OLS(y, x_set).fit()\n",
    "model.params"
   ],
   "id": "786504a77b147760",
   "outputs": [
    {
     "data": {
      "text/plain": [
       "const   77.40366\n",
       "price    0.05089\n",
       "dtype: float64"
      ]
     },
     "execution_count": 354,
     "metadata": {},
     "output_type": "execute_result"
    }
   ],
   "execution_count": 354
  },
  {
   "metadata": {
    "ExecuteTime": {
     "end_time": "2025-09-22T21:50:02.566858Z",
     "start_time": "2025-09-22T21:50:02.560060Z"
    }
   },
   "cell_type": "code",
   "source": "model.summary()",
   "id": "65e0162161e76f0c",
   "outputs": [
    {
     "data": {
      "text/plain": [
       "<class 'statsmodels.iolib.summary.Summary'>\n",
       "\"\"\"\n",
       "                            OLS Regression Results                            \n",
       "==============================================================================\n",
       "Dep. Variable:                    age   R-squared:                       0.533\n",
       "Model:                            OLS   Adj. R-squared:                  0.518\n",
       "Method:                 Least Squares   F-statistic:                     34.27\n",
       "Date:                Mon, 22 Sep 2025   Prob (F-statistic):           2.10e-06\n",
       "Time:                        23:50:02   Log-Likelihood:                -138.64\n",
       "No. Observations:                  32   AIC:                             281.3\n",
       "Df Residuals:                      30   BIC:                             284.2\n",
       "Df Model:                           1                                         \n",
       "Covariance Type:            nonrobust                                         \n",
       "==============================================================================\n",
       "                 coef    std err          t      P>|t|      [0.025      0.975]\n",
       "------------------------------------------------------------------------------\n",
       "const         77.4037     12.016      6.442      0.000      52.864     101.944\n",
       "price          0.0509      0.009      5.854      0.000       0.033       0.069\n",
       "==============================================================================\n",
       "Omnibus:                        2.513   Durbin-Watson:                   1.457\n",
       "Prob(Omnibus):                  0.285   Jarque-Bera (JB):                2.239\n",
       "Skew:                           0.616   Prob(JB):                        0.326\n",
       "Kurtosis:                       2.600   Cond. No.                     4.94e+03\n",
       "==============================================================================\n",
       "\n",
       "Notes:\n",
       "[1] Standard Errors assume that the covariance matrix of the errors is correctly specified.\n",
       "[2] The condition number is large, 4.94e+03. This might indicate that there are\n",
       "strong multicollinearity or other numerical problems.\n",
       "\"\"\""
      ],
      "text/html": [
       "<table class=\"simpletable\">\n",
       "<caption>OLS Regression Results</caption>\n",
       "<tr>\n",
       "  <th>Dep. Variable:</th>           <td>age</td>       <th>  R-squared:         </th> <td>   0.533</td>\n",
       "</tr>\n",
       "<tr>\n",
       "  <th>Model:</th>                   <td>OLS</td>       <th>  Adj. R-squared:    </th> <td>   0.518</td>\n",
       "</tr>\n",
       "<tr>\n",
       "  <th>Method:</th>             <td>Least Squares</td>  <th>  F-statistic:       </th> <td>   34.27</td>\n",
       "</tr>\n",
       "<tr>\n",
       "  <th>Date:</th>             <td>Mon, 22 Sep 2025</td> <th>  Prob (F-statistic):</th> <td>2.10e-06</td>\n",
       "</tr>\n",
       "<tr>\n",
       "  <th>Time:</th>                 <td>23:50:02</td>     <th>  Log-Likelihood:    </th> <td> -138.64</td>\n",
       "</tr>\n",
       "<tr>\n",
       "  <th>No. Observations:</th>      <td>    32</td>      <th>  AIC:               </th> <td>   281.3</td>\n",
       "</tr>\n",
       "<tr>\n",
       "  <th>Df Residuals:</th>          <td>    30</td>      <th>  BIC:               </th> <td>   284.2</td>\n",
       "</tr>\n",
       "<tr>\n",
       "  <th>Df Model:</th>              <td>     1</td>      <th>                     </th>     <td> </td>   \n",
       "</tr>\n",
       "<tr>\n",
       "  <th>Covariance Type:</th>      <td>nonrobust</td>    <th>                     </th>     <td> </td>   \n",
       "</tr>\n",
       "</table>\n",
       "<table class=\"simpletable\">\n",
       "<tr>\n",
       "    <td></td>       <th>coef</th>     <th>std err</th>      <th>t</th>      <th>P>|t|</th>  <th>[0.025</th>    <th>0.975]</th>  \n",
       "</tr>\n",
       "<tr>\n",
       "  <th>const</th> <td>   77.4037</td> <td>   12.016</td> <td>    6.442</td> <td> 0.000</td> <td>   52.864</td> <td>  101.944</td>\n",
       "</tr>\n",
       "<tr>\n",
       "  <th>price</th> <td>    0.0509</td> <td>    0.009</td> <td>    5.854</td> <td> 0.000</td> <td>    0.033</td> <td>    0.069</td>\n",
       "</tr>\n",
       "</table>\n",
       "<table class=\"simpletable\">\n",
       "<tr>\n",
       "  <th>Omnibus:</th>       <td> 2.513</td> <th>  Durbin-Watson:     </th> <td>   1.457</td>\n",
       "</tr>\n",
       "<tr>\n",
       "  <th>Prob(Omnibus):</th> <td> 0.285</td> <th>  Jarque-Bera (JB):  </th> <td>   2.239</td>\n",
       "</tr>\n",
       "<tr>\n",
       "  <th>Skew:</th>          <td> 0.616</td> <th>  Prob(JB):          </th> <td>   0.326</td>\n",
       "</tr>\n",
       "<tr>\n",
       "  <th>Kurtosis:</th>      <td> 2.600</td> <th>  Cond. No.          </th> <td>4.94e+03</td>\n",
       "</tr>\n",
       "</table><br/><br/>Notes:<br/>[1] Standard Errors assume that the covariance matrix of the errors is correctly specified.<br/>[2] The condition number is large, 4.94e+03. This might indicate that there are<br/>strong multicollinearity or other numerical problems."
      ],
      "text/latex": "\\begin{center}\n\\begin{tabular}{lclc}\n\\toprule\n\\textbf{Dep. Variable:}    &       age        & \\textbf{  R-squared:         } &     0.533   \\\\\n\\textbf{Model:}            &       OLS        & \\textbf{  Adj. R-squared:    } &     0.518   \\\\\n\\textbf{Method:}           &  Least Squares   & \\textbf{  F-statistic:       } &     34.27   \\\\\n\\textbf{Date:}             & Mon, 22 Sep 2025 & \\textbf{  Prob (F-statistic):} &  2.10e-06   \\\\\n\\textbf{Time:}             &     23:50:02     & \\textbf{  Log-Likelihood:    } &   -138.64   \\\\\n\\textbf{No. Observations:} &          32      & \\textbf{  AIC:               } &     281.3   \\\\\n\\textbf{Df Residuals:}     &          30      & \\textbf{  BIC:               } &     284.2   \\\\\n\\textbf{Df Model:}         &           1      & \\textbf{                     } &             \\\\\n\\textbf{Covariance Type:}  &    nonrobust     & \\textbf{                     } &             \\\\\n\\bottomrule\n\\end{tabular}\n\\begin{tabular}{lcccccc}\n               & \\textbf{coef} & \\textbf{std err} & \\textbf{t} & \\textbf{P$> |$t$|$} & \\textbf{[0.025} & \\textbf{0.975]}  \\\\\n\\midrule\n\\textbf{const} &      77.4037  &       12.016     &     6.442  &         0.000        &       52.864    &      101.944     \\\\\n\\textbf{price} &       0.0509  &        0.009     &     5.854  &         0.000        &        0.033    &        0.069     \\\\\n\\bottomrule\n\\end{tabular}\n\\begin{tabular}{lclc}\n\\textbf{Omnibus:}       &  2.513 & \\textbf{  Durbin-Watson:     } &    1.457  \\\\\n\\textbf{Prob(Omnibus):} &  0.285 & \\textbf{  Jarque-Bera (JB):  } &    2.239  \\\\\n\\textbf{Skew:}          &  0.616 & \\textbf{  Prob(JB):          } &    0.326  \\\\\n\\textbf{Kurtosis:}      &  2.600 & \\textbf{  Cond. No.          } & 4.94e+03  \\\\\n\\bottomrule\n\\end{tabular}\n%\\caption{OLS Regression Results}\n\\end{center}\n\nNotes: \\newline\n [1] Standard Errors assume that the covariance matrix of the errors is correctly specified. \\newline\n [2] The condition number is large, 4.94e+03. This might indicate that there are \\newline\n strong multicollinearity or other numerical problems."
     },
     "execution_count": 355,
     "metadata": {},
     "output_type": "execute_result"
    }
   ],
   "execution_count": 355
  },
  {
   "metadata": {
    "ExecuteTime": {
     "end_time": "2025-09-22T21:50:02.631690Z",
     "start_time": "2025-09-22T21:50:02.602296Z"
    }
   },
   "cell_type": "code",
   "source": [
    "fig = plt.figure(figsize=(8, 8))\n",
    "ax = fig.add_subplot(2, 2, 1)\n",
    "\n",
    "ax.plot(clocks.price, clocks.age, 'ok')\n",
    "ax.plot(clocks.price, clocks.price * model.params.iloc[1] + model.params.iloc[0])\n",
    "\n",
    "ax.set_xlabel('Price')\n",
    "ax.set_ylabel('Age')\n",
    "plt.show()"
   ],
   "id": "c16481083dda088e",
   "outputs": [
    {
     "data": {
      "text/plain": [
       "<Figure size 800x800 with 1 Axes>"
      ],
      "image/png": "[encoded data removed]"
     },
     "metadata": {},
     "output_type": "display_data",
     "jetTransient": {
      "display_id": null
     }
    }
   ],
   "execution_count": 356
  },
  {
   "metadata": {},
   "cell_type": "markdown",
   "source": "Even though the line seem to be placed correctly, there is a lot of variance. That said, it doesn't seem to be a good idea to use a linear model to describe the relationship between the age and the price of a clock.",
   "id": "50989579b27d737e"
  },
  {
   "metadata": {},
   "cell_type": "markdown",
   "source": "# Exercise 1.3",
   "id": "273ddc62a5ec538a"
  },
  {
   "metadata": {
    "ExecuteTime": {
     "end_time": "2025-09-22T21:50:02.640544Z",
     "start_time": "2025-09-22T21:50:02.636308Z"
    }
   },
   "cell_type": "code",
   "source": [
    "windmill = pd.read_csv('./../Data/windmill.csv')\n",
    "windmill"
   ],
   "id": "9fbf6dea4211e2d3",
   "outputs": [
    {
     "data": {
      "text/plain": [
       "    wind_speed  current\n",
       "0     11.18707  1.58200\n",
       "1     13.42449  1.82200\n",
       "2      7.60721  1.05700\n",
       "3      6.04102  0.50000\n",
       "4     22.37414  2.23600\n",
       "5     21.70292  2.38600\n",
       "6     21.36731  2.29400\n",
       "7      6.82411  0.55800\n",
       "8     18.23493  2.16600\n",
       "9     13.87197  1.86600\n",
       "10     6.48850  0.65300\n",
       "11    14.20758  1.93000\n",
       "12    10.29211  1.56200\n",
       "13    12.97700  1.73700\n",
       "14    16.55687  2.08800\n",
       "15     8.05469  1.13700\n",
       "16    17.56370  2.17900\n",
       "17    19.68925  2.11200\n",
       "18    15.66190  1.80000\n",
       "19    12.19391  1.50100\n",
       "20    20.36047  2.30300\n",
       "21    22.82163  2.31000\n",
       "22     9.17340  1.19400\n",
       "23     8.83779  1.14400\n",
       "24     5.48167  0.12300"
      ],
      "text/html": [
       "<div>\n",
       "<style scoped>\n",
       "    .dataframe tbody tr th:only-of-type {\n",
       "        vertical-align: middle;\n",
       "    }\n",
       "\n",
       "    .dataframe tbody tr th {\n",
       "        vertical-align: top;\n",
       "    }\n",
       "\n",
       "    .dataframe thead th {\n",
       "        text-align: right;\n",
       "    }\n",
       "</style>\n",
       "<table border=\"1\" class=\"dataframe\">\n",
       "  <thead>\n",
       "    <tr style=\"text-align: right;\">\n",
       "      <th></th>\n",
       "      <th>wind_speed</th>\n",
       "      <th>current</th>\n",
       "    </tr>\n",
       "  </thead>\n",
       "  <tbody>\n",
       "    <tr>\n",
       "      <th>0</th>\n",
       "      <td>11.18707</td>\n",
       "      <td>1.58200</td>\n",
       "    </tr>\n",
       "    <tr>\n",
       "      <th>1</th>\n",
       "      <td>13.42449</td>\n",
       "      <td>1.82200</td>\n",
       "    </tr>\n",
       "    <tr>\n",
       "      <th>2</th>\n",
       "      <td>7.60721</td>\n",
       "      <td>1.05700</td>\n",
       "    </tr>\n",
       "    <tr>\n",
       "      <th>3</th>\n",
       "      <td>6.04102</td>\n",
       "      <td>0.50000</td>\n",
       "    </tr>\n",
       "    <tr>\n",
       "      <th>4</th>\n",
       "      <td>22.37414</td>\n",
       "      <td>2.23600</td>\n",
       "    </tr>\n",
       "    <tr>\n",
       "      <th>5</th>\n",
       "      <td>21.70292</td>\n",
       "      <td>2.38600</td>\n",
       "    </tr>\n",
       "    <tr>\n",
       "      <th>6</th>\n",
       "      <td>21.36731</td>\n",
       "      <td>2.29400</td>\n",
       "    </tr>\n",
       "    <tr>\n",
       "      <th>7</th>\n",
       "      <td>6.82411</td>\n",
       "      <td>0.55800</td>\n",
       "    </tr>\n",
       "    <tr>\n",
       "      <th>8</th>\n",
       "      <td>18.23493</td>\n",
       "      <td>2.16600</td>\n",
       "    </tr>\n",
       "    <tr>\n",
       "      <th>9</th>\n",
       "      <td>13.87197</td>\n",
       "      <td>1.86600</td>\n",
       "    </tr>\n",
       "    <tr>\n",
       "      <th>10</th>\n",
       "      <td>6.48850</td>\n",
       "      <td>0.65300</td>\n",
       "    </tr>\n",
       "    <tr>\n",
       "      <th>11</th>\n",
       "      <td>14.20758</td>\n",
       "      <td>1.93000</td>\n",
       "    </tr>\n",
       "    <tr>\n",
       "      <th>12</th>\n",
       "      <td>10.29211</td>\n",
       "      <td>1.56200</td>\n",
       "    </tr>\n",
       "    <tr>\n",
       "      <th>13</th>\n",
       "      <td>12.97700</td>\n",
       "      <td>1.73700</td>\n",
       "    </tr>\n",
       "    <tr>\n",
       "      <th>14</th>\n",
       "      <td>16.55687</td>\n",
       "      <td>2.08800</td>\n",
       "    </tr>\n",
       "    <tr>\n",
       "      <th>15</th>\n",
       "      <td>8.05469</td>\n",
       "      <td>1.13700</td>\n",
       "    </tr>\n",
       "    <tr>\n",
       "      <th>16</th>\n",
       "      <td>17.56370</td>\n",
       "      <td>2.17900</td>\n",
       "    </tr>\n",
       "    <tr>\n",
       "      <th>17</th>\n",
       "      <td>19.68925</td>\n",
       "      <td>2.11200</td>\n",
       "    </tr>\n",
       "    <tr>\n",
       "      <th>18</th>\n",
       "      <td>15.66190</td>\n",
       "      <td>1.80000</td>\n",
       "    </tr>\n",
       "    <tr>\n",
       "      <th>19</th>\n",
       "      <td>12.19391</td>\n",
       "      <td>1.50100</td>\n",
       "    </tr>\n",
       "    <tr>\n",
       "      <th>20</th>\n",
       "      <td>20.36047</td>\n",
       "      <td>2.30300</td>\n",
       "    </tr>\n",
       "    <tr>\n",
       "      <th>21</th>\n",
       "      <td>22.82163</td>\n",
       "      <td>2.31000</td>\n",
       "    </tr>\n",
       "    <tr>\n",
       "      <th>22</th>\n",
       "      <td>9.17340</td>\n",
       "      <td>1.19400</td>\n",
       "    </tr>\n",
       "    <tr>\n",
       "      <th>23</th>\n",
       "      <td>8.83779</td>\n",
       "      <td>1.14400</td>\n",
       "    </tr>\n",
       "    <tr>\n",
       "      <th>24</th>\n",
       "      <td>5.48167</td>\n",
       "      <td>0.12300</td>\n",
       "    </tr>\n",
       "  </tbody>\n",
       "</table>\n",
       "</div>"
      ]
     },
     "execution_count": 357,
     "metadata": {},
     "output_type": "execute_result"
    }
   ],
   "execution_count": 357
  },
  {
   "metadata": {
    "ExecuteTime": {
     "end_time": "2025-09-22T21:50:02.713521Z",
     "start_time": "2025-09-22T21:50:02.666904Z"
    }
   },
   "cell_type": "code",
   "source": [
    "fig = plt.figure(figsize=(8, 4))\n",
    "\n",
    "ax = fig.add_subplot(1, 2, 1)\n",
    "ax.plot(windmill.wind_speed, windmill.current, 'ok')\n",
    "ax.set_xlabel('Wind Speed [m/s]')\n",
    "ax.set_ylabel('Current [A]')\n",
    "\n",
    "ax = fig.add_subplot(1, 2, 2)\n",
    "ax.plot(1. / windmill.wind_speed, windmill.current, 'ok')\n",
    "ax.set_xlabel('1 / Wind Speed [m/s]')\n",
    "ax.set_ylabel('Current [A]')\n",
    "\n",
    "plt.show()"
   ],
   "id": "93ad5f1fbbf87844",
   "outputs": [
    {
     "data": {
      "text/plain": [
       "<Figure size 800x400 with 2 Axes>"
      ],
      "image/png": "[encoded data removed]"
     },
     "metadata": {},
     "output_type": "display_data",
     "jetTransient": {
      "display_id": null
     }
    }
   ],
   "execution_count": 358
  },
  {
   "metadata": {},
   "cell_type": "markdown",
   "source": "The relationship of current vs. 1 / wind-speed is pretty much the inversion of current vs wind-speed.",
   "id": "abd29b2668faec8a"
  },
  {
   "metadata": {
    "ExecuteTime": {
     "end_time": "2025-09-22T21:50:02.741467Z",
     "start_time": "2025-09-22T21:50:02.732994Z"
    }
   },
   "cell_type": "code",
   "source": [
    "x_set = sm.add_constant(1 / windmill.wind_speed)\n",
    "\n",
    "model = sm.OLS(windmill.current, x_set).fit()\n",
    "model.summary()"
   ],
   "id": "17258daf782efbf5",
   "outputs": [
    {
     "data": {
      "text/plain": [
       "<class 'statsmodels.iolib.summary.Summary'>\n",
       "\"\"\"\n",
       "                            OLS Regression Results                            \n",
       "==============================================================================\n",
       "Dep. Variable:                current   R-squared:                       0.980\n",
       "Model:                            OLS   Adj. R-squared:                  0.979\n",
       "Method:                 Least Squares   F-statistic:                     1128.\n",
       "Date:                Mon, 22 Sep 2025   Prob (F-statistic):           4.74e-21\n",
       "Time:                        23:50:02   Log-Likelihood:                 24.635\n",
       "No. Observations:                  25   AIC:                            -45.27\n",
       "Df Residuals:                      23   BIC:                            -42.83\n",
       "Df Model:                           1                                         \n",
       "Covariance Type:            nonrobust                                         \n",
       "==============================================================================\n",
       "                 coef    std err          t      P>|t|      [0.025      0.975]\n",
       "------------------------------------------------------------------------------\n",
       "const          2.9789      0.045     66.341      0.000       2.886       3.072\n",
       "wind_speed   -15.5155      0.462    -33.592      0.000     -16.471     -14.560\n",
       "==============================================================================\n",
       "Omnibus:                        2.768   Durbin-Watson:                   1.567\n",
       "Prob(Omnibus):                  0.251   Jarque-Bera (JB):                2.287\n",
       "Skew:                          -0.720   Prob(JB):                        0.319\n",
       "Kurtosis:                       2.646   Cond. No.                         24.7\n",
       "==============================================================================\n",
       "\n",
       "Notes:\n",
       "[1] Standard Errors assume that the covariance matrix of the errors is correctly specified.\n",
       "\"\"\""
      ],
      "text/html": [
       "<table class=\"simpletable\">\n",
       "<caption>OLS Regression Results</caption>\n",
       "<tr>\n",
       "  <th>Dep. Variable:</th>         <td>current</td>     <th>  R-squared:         </th> <td>   0.980</td>\n",
       "</tr>\n",
       "<tr>\n",
       "  <th>Model:</th>                   <td>OLS</td>       <th>  Adj. R-squared:    </th> <td>   0.979</td>\n",
       "</tr>\n",
       "<tr>\n",
       "  <th>Method:</th>             <td>Least Squares</td>  <th>  F-statistic:       </th> <td>   1128.</td>\n",
       "</tr>\n",
       "<tr>\n",
       "  <th>Date:</th>             <td>Mon, 22 Sep 2025</td> <th>  Prob (F-statistic):</th> <td>4.74e-21</td>\n",
       "</tr>\n",
       "<tr>\n",
       "  <th>Time:</th>                 <td>23:50:02</td>     <th>  Log-Likelihood:    </th> <td>  24.635</td>\n",
       "</tr>\n",
       "<tr>\n",
       "  <th>No. Observations:</th>      <td>    25</td>      <th>  AIC:               </th> <td>  -45.27</td>\n",
       "</tr>\n",
       "<tr>\n",
       "  <th>Df Residuals:</th>          <td>    23</td>      <th>  BIC:               </th> <td>  -42.83</td>\n",
       "</tr>\n",
       "<tr>\n",
       "  <th>Df Model:</th>              <td>     1</td>      <th>                     </th>     <td> </td>   \n",
       "</tr>\n",
       "<tr>\n",
       "  <th>Covariance Type:</th>      <td>nonrobust</td>    <th>                     </th>     <td> </td>   \n",
       "</tr>\n",
       "</table>\n",
       "<table class=\"simpletable\">\n",
       "<tr>\n",
       "       <td></td>         <th>coef</th>     <th>std err</th>      <th>t</th>      <th>P>|t|</th>  <th>[0.025</th>    <th>0.975]</th>  \n",
       "</tr>\n",
       "<tr>\n",
       "  <th>const</th>      <td>    2.9789</td> <td>    0.045</td> <td>   66.341</td> <td> 0.000</td> <td>    2.886</td> <td>    3.072</td>\n",
       "</tr>\n",
       "<tr>\n",
       "  <th>wind_speed</th> <td>  -15.5155</td> <td>    0.462</td> <td>  -33.592</td> <td> 0.000</td> <td>  -16.471</td> <td>  -14.560</td>\n",
       "</tr>\n",
       "</table>\n",
       "<table class=\"simpletable\">\n",
       "<tr>\n",
       "  <th>Omnibus:</th>       <td> 2.768</td> <th>  Durbin-Watson:     </th> <td>   1.567</td>\n",
       "</tr>\n",
       "<tr>\n",
       "  <th>Prob(Omnibus):</th> <td> 0.251</td> <th>  Jarque-Bera (JB):  </th> <td>   2.287</td>\n",
       "</tr>\n",
       "<tr>\n",
       "  <th>Skew:</th>          <td>-0.720</td> <th>  Prob(JB):          </th> <td>   0.319</td>\n",
       "</tr>\n",
       "<tr>\n",
       "  <th>Kurtosis:</th>      <td> 2.646</td> <th>  Cond. No.          </th> <td>    24.7</td>\n",
       "</tr>\n",
       "</table><br/><br/>Notes:<br/>[1] Standard Errors assume that the covariance matrix of the errors is correctly specified."
      ],
      "text/latex": "\\begin{center}\n\\begin{tabular}{lclc}\n\\toprule\n\\textbf{Dep. Variable:}    &     current      & \\textbf{  R-squared:         } &     0.980   \\\\\n\\textbf{Model:}            &       OLS        & \\textbf{  Adj. R-squared:    } &     0.979   \\\\\n\\textbf{Method:}           &  Least Squares   & \\textbf{  F-statistic:       } &     1128.   \\\\\n\\textbf{Date:}             & Mon, 22 Sep 2025 & \\textbf{  Prob (F-statistic):} &  4.74e-21   \\\\\n\\textbf{Time:}             &     23:50:02     & \\textbf{  Log-Likelihood:    } &    24.635   \\\\\n\\textbf{No. Observations:} &          25      & \\textbf{  AIC:               } &    -45.27   \\\\\n\\textbf{Df Residuals:}     &          23      & \\textbf{  BIC:               } &    -42.83   \\\\\n\\textbf{Df Model:}         &           1      & \\textbf{                     } &             \\\\\n\\textbf{Covariance Type:}  &    nonrobust     & \\textbf{                     } &             \\\\\n\\bottomrule\n\\end{tabular}\n\\begin{tabular}{lcccccc}\n                     & \\textbf{coef} & \\textbf{std err} & \\textbf{t} & \\textbf{P$> |$t$|$} & \\textbf{[0.025} & \\textbf{0.975]}  \\\\\n\\midrule\n\\textbf{const}       &       2.9789  &        0.045     &    66.341  &         0.000        &        2.886    &        3.072     \\\\\n\\textbf{wind\\_speed} &     -15.5155  &        0.462     &   -33.592  &         0.000        &      -16.471    &      -14.560     \\\\\n\\bottomrule\n\\end{tabular}\n\\begin{tabular}{lclc}\n\\textbf{Omnibus:}       &  2.768 & \\textbf{  Durbin-Watson:     } &    1.567  \\\\\n\\textbf{Prob(Omnibus):} &  0.251 & \\textbf{  Jarque-Bera (JB):  } &    2.287  \\\\\n\\textbf{Skew:}          & -0.720 & \\textbf{  Prob(JB):          } &    0.319  \\\\\n\\textbf{Kurtosis:}      &  2.646 & \\textbf{  Cond. No.          } &     24.7  \\\\\n\\bottomrule\n\\end{tabular}\n%\\caption{OLS Regression Results}\n\\end{center}\n\nNotes: \\newline\n [1] Standard Errors assume that the covariance matrix of the errors is correctly specified."
     },
     "execution_count": 359,
     "metadata": {},
     "output_type": "execute_result"
    }
   ],
   "execution_count": 359
  },
  {
   "metadata": {
    "ExecuteTime": {
     "end_time": "2025-09-22T21:50:02.753972Z",
     "start_time": "2025-09-22T21:50:02.751573Z"
    }
   },
   "cell_type": "code",
   "source": "model.params",
   "id": "59be40c7113efb79",
   "outputs": [
    {
     "data": {
      "text/plain": [
       "const          2.97886\n",
       "wind_speed   -15.51546\n",
       "dtype: float64"
      ]
     },
     "execution_count": 360,
     "metadata": {},
     "output_type": "execute_result"
    }
   ],
   "execution_count": 360
  },
  {
   "metadata": {
    "ExecuteTime": {
     "end_time": "2025-09-22T21:50:02.781546Z",
     "start_time": "2025-09-22T21:50:02.778319Z"
    }
   },
   "cell_type": "code",
   "source": "model.conf_int(alpha = 0.01)",
   "id": "ebeaea203f75bf13",
   "outputs": [
    {
     "data": {
      "text/plain": [
       "                   0         1\n",
       "const        2.85280   3.10492\n",
       "wind_speed -16.81210 -14.21881"
      ],
      "text/html": [
       "<div>\n",
       "<style scoped>\n",
       "    .dataframe tbody tr th:only-of-type {\n",
       "        vertical-align: middle;\n",
       "    }\n",
       "\n",
       "    .dataframe tbody tr th {\n",
       "        vertical-align: top;\n",
       "    }\n",
       "\n",
       "    .dataframe thead th {\n",
       "        text-align: right;\n",
       "    }\n",
       "</style>\n",
       "<table border=\"1\" class=\"dataframe\">\n",
       "  <thead>\n",
       "    <tr style=\"text-align: right;\">\n",
       "      <th></th>\n",
       "      <th>0</th>\n",
       "      <th>1</th>\n",
       "    </tr>\n",
       "  </thead>\n",
       "  <tbody>\n",
       "    <tr>\n",
       "      <th>const</th>\n",
       "      <td>2.85280</td>\n",
       "      <td>3.10492</td>\n",
       "    </tr>\n",
       "    <tr>\n",
       "      <th>wind_speed</th>\n",
       "      <td>-16.81210</td>\n",
       "      <td>-14.21881</td>\n",
       "    </tr>\n",
       "  </tbody>\n",
       "</table>\n",
       "</div>"
      ]
     },
     "execution_count": 361,
     "metadata": {},
     "output_type": "execute_result"
    }
   ],
   "execution_count": 361
  },
  {
   "metadata": {
    "ExecuteTime": {
     "end_time": "2025-09-22T21:50:02.880685Z",
     "start_time": "2025-09-22T21:50:02.842334Z"
    }
   },
   "cell_type": "code",
   "source": [
    "fig = plt.figure(figsize=(6, 6))\n",
    "\n",
    "ax = fig.add_subplot(1, 1, 1)\n",
    "ax.plot(1. / windmill.wind_speed, windmill.current, 'ok')\n",
    "ax.plot(1. / windmill.wind_speed, 1 / windmill.wind_speed * model.params.iloc[1] + model.params.iloc[0])\n",
    "ax.set_xlabel('1 / Wind Speed [m/s]')\n",
    "ax.set_ylabel('Current [A]')\n",
    "\n",
    "plt.show()"
   ],
   "id": "7e7487ca03db0bba",
   "outputs": [
    {
     "data": {
      "text/plain": [
       "<Figure size 600x600 with 1 Axes>"
      ],
      "image/png": "[encoded data removed]"
     },
     "metadata": {},
     "output_type": "display_data",
     "jetTransient": {
      "display_id": null
     }
    }
   ],
   "execution_count": 362
  },
  {
   "metadata": {
    "ExecuteTime": {
     "end_time": "2025-09-22T21:50:02.889894Z",
     "start_time": "2025-09-22T21:50:02.885376Z"
    }
   },
   "cell_type": "code",
   "source": [
    "x0 = [1/1,1/10]\n",
    "x0 = sm.add_constant(x0)\n",
    "\n",
    "model.get_prediction(x0).summary_frame(alpha=0.05)"
   ],
   "id": "30885c73dcedb41c",
   "outputs": [
    {
     "data": {
      "text/plain": [
       "       mean  mean_se  mean_ci_lower  mean_ci_upper  obs_ci_lower  obs_ci_upper\n",
       "0 -12.53660  0.42154      -13.40861      -11.66458     -13.43011     -11.64309\n",
       "1   1.42731  0.01960        1.38677        1.46786       1.22833       1.62630"
      ],
      "text/html": [
       "<div>\n",
       "<style scoped>\n",
       "    .dataframe tbody tr th:only-of-type {\n",
       "        vertical-align: middle;\n",
       "    }\n",
       "\n",
       "    .dataframe tbody tr th {\n",
       "        vertical-align: top;\n",
       "    }\n",
       "\n",
       "    .dataframe thead th {\n",
       "        text-align: right;\n",
       "    }\n",
       "</style>\n",
       "<table border=\"1\" class=\"dataframe\">\n",
       "  <thead>\n",
       "    <tr style=\"text-align: right;\">\n",
       "      <th></th>\n",
       "      <th>mean</th>\n",
       "      <th>mean_se</th>\n",
       "      <th>mean_ci_lower</th>\n",
       "      <th>mean_ci_upper</th>\n",
       "      <th>obs_ci_lower</th>\n",
       "      <th>obs_ci_upper</th>\n",
       "    </tr>\n",
       "  </thead>\n",
       "  <tbody>\n",
       "    <tr>\n",
       "      <th>0</th>\n",
       "      <td>-12.53660</td>\n",
       "      <td>0.42154</td>\n",
       "      <td>-13.40861</td>\n",
       "      <td>-11.66458</td>\n",
       "      <td>-13.43011</td>\n",
       "      <td>-11.64309</td>\n",
       "    </tr>\n",
       "    <tr>\n",
       "      <th>1</th>\n",
       "      <td>1.42731</td>\n",
       "      <td>0.01960</td>\n",
       "      <td>1.38677</td>\n",
       "      <td>1.46786</td>\n",
       "      <td>1.22833</td>\n",
       "      <td>1.62630</td>\n",
       "    </tr>\n",
       "  </tbody>\n",
       "</table>\n",
       "</div>"
      ]
     },
     "execution_count": 363,
     "metadata": {},
     "output_type": "execute_result"
    }
   ],
   "execution_count": 363
  },
  {
   "metadata": {
    "ExecuteTime": {
     "end_time": "2025-09-22T21:50:02.919822Z",
     "start_time": "2025-09-22T21:50:02.918516Z"
    }
   },
   "cell_type": "code",
   "source": "",
   "id": "ac650debaa7c2391",
   "outputs": [],
   "execution_count": null
  }
 ],
 "metadata": {
  "kernelspec": {
   "display_name": "Python 3",
   "language": "python",
   "name": "python3"
  },
  "language_info": {
   "codemirror_mode": {
    "name": "ipython",
    "version": 2
   },
   "file_extension": ".py",
   "mimetype": "text/x-python",
   "name": "python",
   "nbconvert_exporter": "python",
   "pygments_lexer": "ipython2",
   "version": "2.7.6"
  }
 },
 "nbformat": 4,
 "nbformat_minor": 5
}
