{
 "cells": [
  {
   "cell_type": "markdown",
   "metadata": {},
   "source": [
    "### Probality Models for Measurement Data Example 4.4\n",
    "What is the probability that among 10000 tosses of a fair coin, heads would appear in maximum 5100 cases? \n",
    "\n",
    "The number of tosses of a coin in which heads appear follows a Bin$(10000, 0.5)$ distribution. We approximate \n",
    "this distribution as a normal distribution, i.e., \n",
    "\\begin{equation}\n",
    "X\\sim\\mathcal{N}(\\mu,\\sigma^2) \n",
    "\\end{equation}\n",
    "\n",
    "with\n",
    "\\begin{equation}\n",
    "\\mu \n",
    "=10000\\cdot 0.5 \n",
    "=5000 \n",
    "\\quad\\text{and}\\quad \n",
    "\\sigma^2 \n",
    "=10000\\cdot0.5\\cdot(1-0.5) \n",
    "=2500 \n",
    "\\end{equation} \n",
    "\n",
    "And we obtain\n",
    "\\begin{equation}\n",
    "X \n",
    "\\sim\\mathrm{Bin}(10000, 0.5) \n",
    "\\approx \\mathcal{N}(5000, 2500) \n",
    "\\end{equation} \n",
    "\n",
    "We are interested in the probability\n",
    "\\begin{equation}\n",
    "P(X\\leq5100) \n",
    "=\\Phi\\left(\\frac{5100-5000}{\\sqrt{2500}} \\right) \n",
    "=\\Phi(2)\\approx 0.98 \n",
    "\\end{equation}\n",
    "\n",
    "In **Python** the calculation proceeds as follows "
   ]
  },
  {
   "cell_type": "code",
   "execution_count": 1,
   "metadata": {},
   "outputs": [
    {
     "name": "stdout",
     "output_type": "stream",
     "text": [
      "0.9772498680518208\n"
     ]
    }
   ],
   "source": [
    "import math\n",
    "from scipy.stats import norm\n",
    "\n",
    "p_norm_5100 = norm.cdf(x=5100, loc=5000, scale = math.sqrt(2500))\n",
    "print(p_norm_5100)"
   ]
  },
  {
   "cell_type": "markdown",
   "metadata": {},
   "source": [
    "If we compare this previous approximate result with the *true* result, then we need to consider the distribution\n",
    "\\begin{equation}\n",
    "X \n",
    "\\sim\\mathrm{Bin}(10000,0.5) \n",
    "\\end{equation}\n",
    "with\n",
    "\\begin{equation}\n",
    "P(X\\leq5100) \n",
    "\\approx 0.98 \n",
    "\\end{equation}"
   ]
  },
  {
   "cell_type": "code",
   "execution_count": 4,
   "metadata": {},
   "outputs": [
    {
     "name": "stdout",
     "output_type": "stream",
     "text": [
      "0.9777871004771368\n"
     ]
    }
   ],
   "source": [
    "from scipy.stats import binom\n",
    "\n",
    "p_binon_5100 = binom.cdf(k=5100, n=10000, p=.5)\n",
    "print(p_binon_5100)"
   ]
  },
  {
   "cell_type": "markdown",
   "metadata": {},
   "source": [
    "We conclude that the agreement between true and approximated values is very good. \n"
   ]
  },
  {
   "cell_type": "code",
   "execution_count": null,
   "metadata": {},
   "outputs": [],
   "source": []
  }
 ],
 "metadata": {
  "kernelspec": {
   "display_name": "Python 3",
   "language": "python",
   "name": "python3"
  },
  "language_info": {
   "codemirror_mode": {
    "name": "ipython",
    "version": 3
   },
   "file_extension": ".py",
   "mimetype": "text/x-python",
   "name": "python",
   "nbconvert_exporter": "python",
   "pygments_lexer": "ipython3",
   "version": "3.7.6"
  },
  "widgets": {
   "application/vnd.jupyter.widget-state+json": {
    "state": {},
    "version_major": 2,
    "version_minor": 0
   }
  }
 },
 "nbformat": 4,
 "nbformat_minor": 4
}
