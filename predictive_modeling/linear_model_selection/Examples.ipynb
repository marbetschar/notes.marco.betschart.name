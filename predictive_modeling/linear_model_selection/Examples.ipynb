{
 "cells": [
  {
   "cell_type": "markdown",
   "metadata": {},
   "source": "# Examples"
  },
  {
   "cell_type": "markdown",
   "metadata": {},
   "source": [
    "### Example 2.1\n",
    "For the  **Credit** example, we begin with the so-called *null model* $ \\mathcal{M}_{0} $, which contains no predictors:\n",
    "\\begin{equation*}\n",
    "balance\n",
    "=\\beta_{0}+\\epsilon\n",
    "\\end{equation*}\n",
    "Then, we add a predictor variable to the null model. \n",
    "For this example, we will write two **Python**-functions, one to fit a linear model and return important scoring metrics and one to add one predictor to a model, based on the returned scores. "
   ]
  },
  {
   "cell_type": "code",
   "execution_count": 1,
   "metadata": {},
   "outputs": [
    {
     "name": "stdout",
     "output_type": "stream",
     "text": [
      "               Predictor          AIC        R2           RSS\n",
      "0             Unnamed: 0  6042.696603  0.000037  8.433681e+07\n",
      "1                 Income  5945.894250  0.214977  6.620874e+07\n",
      "2                  Limit  5499.982633  0.742522  2.171566e+07\n",
      "3                 Rating  5494.781548  0.745848  2.143512e+07\n",
      "4                  Cards  6039.710202  0.007475  8.370950e+07\n",
      "5                    Age  6042.709965  0.000003  8.433963e+07\n",
      "6              Education  6042.685316  0.000065  8.433443e+07\n",
      "7         Gender__Female  6042.526817  0.000461  8.430102e+07\n",
      "8           Student__Yes  6014.932656  0.067090  7.868154e+07\n",
      "9           Married__Yes  6042.698437  0.000032  8.433720e+07\n",
      "10      Ethnicity__Asian  6042.672799  0.000096  8.433179e+07\n",
      "11  Ethnicity__Caucasian  6042.706987  0.000011  8.433900e+07 \n",
      "\n",
      "Best predictor is: Rating\n"
     ]
    }
   ],
   "source": [
    "import pandas as pd\n",
    "import numpy as np\n",
    "import statsmodels.api as sm\n",
    "\n",
    "# Load data\n",
    "df = pd.read_csv('./data/Credit.csv')\n",
    "\n",
    "# Convert Categorical variables\n",
    "df = pd.get_dummies(data=df, drop_first=True, \n",
    "                    prefix=('Gender_', 'Student_', \n",
    "                            'Married_', 'Ethnicity_'))\n",
    "\n",
    "x_full = df.drop(columns='Balance')\n",
    "y = df['Balance']\n",
    "\n",
    "\n",
    "def fit_linear_reg(x, y):\n",
    "    '''Fit Linear model with predictors x on y \n",
    "    return AIC, BIC, R2 and R2 adjusted '''\n",
    "    x = sm.add_constant(x)\n",
    "    # Create and fit model\n",
    "    model_k = sm.OLS(y, x).fit()\n",
    "    \n",
    "    # Find scores\n",
    "    BIC = model_k.bic\n",
    "    AIC = model_k.aic\n",
    "    R2 = model_k.rsquared\n",
    "    R2_adj = model_k.rsquared_adj\n",
    "    RSS = model_k.ssr\n",
    "    \n",
    "    # Return result in Series\n",
    "    results = pd.Series(data={'BIC': BIC, 'AIC': AIC, 'R2': R2,\n",
    "                              'R2_adj': R2_adj, 'RSS': RSS})\n",
    "    \n",
    "    return results\n",
    "\n",
    "\n",
    "def add_one(x_full, x, y, scoreby='RSS'):\n",
    "    ''' Add possible predictors from x_full to x, \n",
    "    Fit a linear model on y using fit_linear_reg\n",
    "    Returns Dataframe showing scores as well as best model '''\n",
    "    # Predefine DataFrame\n",
    "    x_labels = x_full.columns\n",
    "    zeros = np.zeros(len(x_labels))\n",
    "    results = pd.DataFrame(\n",
    "        data={'Predictor': x_labels.values, 'BIC': zeros, \n",
    "               'AIC': zeros, 'R2': zeros, \n",
    "               'R2_adj': zeros, 'RSS': zeros})\n",
    "\n",
    "    # For every predictor find R^2, RSS, and AIC\n",
    "    for i in range(len(x_labels)):\n",
    "        x_i = np.concatenate((x, [np.array(x_full[x_labels[i]])]))\n",
    "        results.iloc[i, 1:] = fit_linear_reg(x_i.T, y)\n",
    "        \n",
    "    # Depending on where we scoreby, we select the highest or lowest\n",
    "    if scoreby in ['RSS', 'AIC', 'BIC']:\n",
    "        best = x_labels[results[scoreby].argmin()]\n",
    "    elif scoreby in ['R2', 'R2_adj']:\n",
    "        best = x_labels[results[scoreby].argmax()]\n",
    "        \n",
    "    return results, best \n",
    "\n",
    "\n",
    "# Define the empty predictor\n",
    "x_empty = [np.zeros(len(y))]\n",
    "\n",
    "results, best1 = add_one(x_full, x_empty, y)\n",
    "\n",
    "print(results[['Predictor', 'AIC', 'R2', 'RSS']], \n",
    "      '\\n\\nBest predictor is:',  best1)"
   ]
  },
  {
   "cell_type": "markdown",
   "metadata": {},
   "source": [
    "We will save the definition used in a helper file, **LMS_def.py**.\n",
    "\n",
    "We now choose the *best* variable in the sense that adding this variable leads to the regression model with the lowest RSS or the highest $ R^2 $. The variable that results in the model with the lowest RSS is in this case **rating**. \n",
    "\n",
    "Thus, we have found the model $ \\mathcal{M}_{1} $\n",
    "\\begin{equation*}\n",
    "balance\n",
    "=\\beta_{0}+\\beta_{1}\\cdot rating +\\epsilon\n",
    "\\end{equation*}\n",
    "\n",
    "\n",
    "We now add a further predictor variable to this model by first updating the reference model and removing the chosen predictor from the set of possible predictors. Subsequently, we can run the same procedure and decide which predictor variable to add next."
   ]
  },
  {
   "cell_type": "code",
   "execution_count": 2,
   "metadata": {},
   "outputs": [
    {
     "name": "stdout",
     "output_type": "stream",
     "text": [
      "               Predictor          AIC        R2           RSS\n",
      "0             Unnamed: 0  5496.518489  0.746016  2.142103e+07\n",
      "1                 Income  5212.557085  0.875118  1.053254e+07\n",
      "2                  Limit  5496.632982  0.745943  2.142716e+07\n",
      "3                  Cards  5494.187124  0.747492  2.129654e+07\n",
      "4                    Age  5484.481339  0.753545  2.078601e+07\n",
      "5              Education  5496.272851  0.746171  2.140788e+07\n",
      "6         Gender__Female  5496.481640  0.746039  2.141906e+07\n",
      "7           Student__Yes  5372.232473  0.813849  1.569996e+07\n",
      "8           Married__Yes  5494.569548  0.747250  2.131691e+07\n",
      "9       Ethnicity__Asian  5496.067431  0.746302  2.139689e+07\n",
      "10  Ethnicity__Caucasian  5496.772749  0.745854  2.143465e+07 \n",
      "\n",
      "Best predictor is: Income\n"
     ]
    }
   ],
   "source": [
    "# Update the empty predictor with the best predictor\n",
    "x_1 = [df[best1]]\n",
    "# Remove the chosen predictor from the list of options\n",
    "x_red = x_full.drop(columns=best1, errors='ignore')\n",
    "\n",
    "results, best2 = add_one(x_red, x_1, y)\n",
    "\n",
    "print(results[['Predictor', 'AIC', 'R2', 'RSS']], \n",
    "      '\\n\\nBest predictor is:',  best2)"
   ]
  },
  {
   "cell_type": "markdown",
   "metadata": {},
   "source": [
    "We select again the variable that leads when added to the reference model to the lowest RSS. In this case, we select the predictor variable **income** which gives us the model $ \\mathcal{M}_2 $:\n",
    "\\begin{equation*}\n",
    "balance\n",
    "=\\beta_{0}+\\beta_{1}\\cdot rating+\\beta_{2}\\cdot income +\\epsilon\n",
    "\\end{equation*}\n",
    "\n",
    "This procedure will be repeated. In particular, we will add one variable among the \n",
    "remaining $ p - 2 $ variables to the model $ \\mathcal{M}_{2} $. The resulting model with the lowest RSS will become model $ \\mathcal{M}_{3} $."
   ]
  },
  {
   "cell_type": "code",
   "execution_count": 3,
   "metadata": {},
   "outputs": [
    {
     "name": "stdout",
     "output_type": "stream",
     "text": [
      "              Predictor          AIC        R2           RSS\n",
      "0            Unnamed: 0  5214.551863  0.875120  1.053240e+07\n",
      "1                 Limit  5210.950291  0.876239  1.043800e+07\n",
      "2                 Cards  5214.477534  0.875143  1.053045e+07\n",
      "3                   Age  5211.113461  0.876188  1.044226e+07\n",
      "4             Education  5213.765645  0.875365  1.051172e+07\n",
      "5        Gender__Female  5214.521087  0.875129  1.053159e+07\n",
      "6          Student__Yes  4849.386992  0.949879  4.227219e+06\n",
      "7          Married__Yes  5210.930247  0.876245  1.043747e+07\n",
      "8      Ethnicity__Asian  5212.042074  0.875901  1.046653e+07\n",
      "9  Ethnicity__Caucasian  5213.976405  0.875299  1.051726e+07 \n",
      "\n",
      "Best predictor is: Student__Yes\n"
     ]
    }
   ],
   "source": [
    "# Update the empty predictor with the best predictor\n",
    "x_2 = np.concatenate((x_1, [df[best2]]))\n",
    "# Remove the chosen predictor from the list of options\n",
    "x_red = x_red.drop(columns=best2, errors='ignore')\n",
    "\n",
    "results, best3 = add_one(x_red, x_2, y)\n",
    "\n",
    "print(results[['Predictor', 'AIC', 'R2', 'RSS']], \n",
    "      '\\n\\nBest predictor is:',  best3)"
   ]
  },
  {
   "cell_type": "markdown",
   "metadata": {},
   "source": [
    "We can automatically select the n-best predictors using SequentialFeatureSelector from **sklearn.feature_selection**. Therfore, we need to define the Linear model with **sklearn.linear_model.LinearRegression**. \n",
    "The chosen predictors are returned in the support_ attribute.\n",
    "**Note**: If *None* features are selected, the algorithm automatically choses half number of features given. \n",
    "\n",
    "In this case, the predictor **student** turns out to be the variable that we add to model $ \\mathcal{M}_{2} $ to obtain model $ \\mathcal{M}_{3} $:\n",
    "\\begin{equation*}\n",
    "balance\n",
    "=\\beta_{0}+\\beta_{1}\\cdot rating+\\beta_{2}\\cdot income +\\beta_{3}\\cdot student+\\epsilon\n",
    "\\end{equation*}\n",
    "We will end up with the following models: \n",
    " $\\mathcal{M}_{0},\\mathcal{M}_{1},\\ldots,\\mathcal{M}_{10}$. \n",
    "\n",
    "But how are we going to identify the *best* model among these 11 models? We may base our decision on the value of the AIC which is listed in the **Python** output. This statistic allows us to compare different models with each other. We will later discuss the AIC in greater detail. \n",
    "\n",
    "The procedure we have followed can also be automated using **sklear.feature\\_selection**. However, this is a relatively new package, which is not as flexible or extensive yet. "
   ]
  },
  {
   "cell_type": "code",
   "execution_count": 4,
   "metadata": {},
   "outputs": [
    {
     "name": "stdout",
     "output_type": "stream",
     "text": [
      "['Income' 'Rating' 'Student__Yes']\n"
     ]
    }
   ],
   "source": [
    "from sklearn.feature_selection import SequentialFeatureSelector\n",
    "from sklearn.linear_model import LinearRegression\n",
    "\n",
    "# define Linear Regression Model in sklearn\n",
    "linearmodel = LinearRegression()\n",
    "# Sequential Feature Selection using sklearn\n",
    "sfs = SequentialFeatureSelector(linearmodel, n_features_to_select=3, \n",
    "                                direction='forward')\n",
    "sfs.fit(x_full, y)\n",
    "\n",
    "# Print Chosen variables\n",
    "print(x_full.columns[sfs.support_].values)\n"
   ]
  },
  {
   "cell_type": "markdown",
   "metadata": {},
   "source": [
    "The model with three predictor variables includes the variables **income**, **rating** and **student**."
   ]
  },
  {
   "cell_type": "code",
   "execution_count": null,
   "metadata": {},
   "outputs": [],
   "source": []
  },
  {
   "cell_type": "markdown",
   "metadata": {},
   "source": [
    "### Example 2.2\n",
    "We begin with the *full model}, that is $ \\mathcal{M}_{10} $, which contains all $ p $ predictors of the \\data{Credit} data set\n",
    "\\begin{align*}\n",
    "balance\n",
    "&=\\beta_{0}+\\beta_{1}\\cdot income +\\beta_{2}\\cdot limit +\\beta_{3}\\cdot rating +\\beta_{4}\\cdot cards\\\\\n",
    "&\\quad+\\beta_{5}\\cdot age +\\beta_{6}\\cdot education +\\beta_{7}\\cdot gender +\\beta_{8}\\cdot student \\\\\n",
    "&\\quad +\\beta_{9}\\cdot married +\\beta_{10}\\cdot ethnicity +\\epsilon\n",
    "\\end{align*}\n",
    "Then we remove one predictor variable from the model.\n",
    "\n",
    "We create a new function, similar to the **add\\_one** function, which removes each predictor separately from the full model. All created functions will be saved in **LMS\\_def**, and imported when needed. "
   ]
  },
  {
   "cell_type": "code",
   "execution_count": 1,
   "metadata": {},
   "outputs": [
    {
     "name": "stdout",
     "output_type": "stream",
     "text": [
      "               Predictor          AIC        R2           RSS\n",
      "0             Unnamed: 0  4821.370391  0.955102  3.786730e+06\n",
      "1                 Income  5361.643903  0.826689  1.461702e+07\n",
      "2                  Limit  4853.911857  0.951296  4.107672e+06\n",
      "3                 Rating  4826.005381  0.954578  3.830864e+06\n",
      "4                  Cards  4837.510427  0.953253  3.942650e+06\n",
      "5                    Age  4825.143746  0.954676  3.822621e+06\n",
      "6              Education  4820.935924  0.955150  3.782619e+06\n",
      "7         Gender__Female  4821.391825  0.955099  3.786933e+06\n",
      "8           Student__Yes  5214.259751  0.880104  1.011204e+07\n",
      "9           Married__Yes  4821.188761  0.955122  3.785011e+06\n",
      "10      Ethnicity__Asian  4821.918353  0.955040  3.791921e+06\n",
      "11  Ethnicity__Caucasian  4821.043224  0.955138  3.783634e+06 \n",
      "\n",
      "Worst predictor is: Education\n"
     ]
    }
   ],
   "source": [
    "import pandas as pd\n",
    "import numpy as np\n",
    "from LMS_def import *\n",
    "\n",
    "# Load data\n",
    "df = pd.read_csv('./data/Credit.csv')\n",
    "\n",
    "# Convert Categorical variables\n",
    "df = pd.get_dummies(data=df, drop_first=True, \n",
    "                    prefix=('Gender_', 'Student_', \n",
    "                            'Married_', 'Ethnicity_'))\n",
    "\n",
    "x_full = df.drop(columns='Balance')\n",
    "y = df['Balance']\n",
    "\n",
    "def drop_one(x, y, scoreby='RSS'):\n",
    "    ''' Remove possible predictors from x, \n",
    "    Fit a linear model on y using fit_linear_reg\n",
    "    Returns Dataframe showing scores as well as predictor \n",
    "    to drop in order to keep the best model '''\n",
    "    # Predefine DataFrame\n",
    "    x_labels = x.columns\n",
    "    zeros = np.zeros(len(x_labels))\n",
    "    results = pd.DataFrame(\n",
    "        data={'Predictor': x_labels.values, 'BIC': zeros, \n",
    "               'AIC': zeros, 'R2': zeros, \n",
    "               'R2_adj': zeros, 'RSS': zeros})\n",
    "\n",
    "    # For every predictor find RSS and R^2\n",
    "    for i in range(len(x_labels)):\n",
    "        x_i = x.drop(columns=x_labels[i])\n",
    "        results.iloc[i, 1:] = fit_linear_reg(x_i, y)\n",
    "    \n",
    "    # Depending on where we scoreby, we select the highest or lowest\n",
    "    if scoreby in ['RSS', 'AIC', 'BIC']:\n",
    "        worst = x_labels[results[scoreby].argmin()]\n",
    "    elif scoreby in ['R2', 'R2_adj']:\n",
    "        worst = x_labels[results[scoreby].argmax()]\n",
    "    \n",
    "    return results, worst \n",
    "\n",
    "results, worst1 = drop_one(x_full, y)\n",
    "\n",
    "print(results[['Predictor', 'AIC', 'R2', 'RSS']], \n",
    "      '\\n\\nWorst predictor is:',  worst1)"
   ]
  },
  {
   "cell_type": "markdown",
   "metadata": {},
   "source": [
    "Now we remove the  *least useful* variable which is the one that yields the reduced regression model with the lowest RSS or the highest $ R^2 $. This predictor represents the most *redundant* variable because its removal improves the model most significantly with respect to the RSS. In this case, this is the predictor **education**. \n",
    "\n",
    "Thus, we obtain the model $ \\mathcal{M}_{9} $ which is given by\n",
    "\\begin{align*}\n",
    "balance\n",
    "&=\\beta_{0}+\\beta_{1}\\cdot income +\\beta_{2}\\cdot limit +\\beta_{3}\\cdot rating +\\beta_{4}\\cdot cards \\\\\n",
    "&\\quad+\\beta_{5}\\cdot age +\\beta_{6}\\cdot gender +\\beta_{7}\\cdot student +\\beta_{8}\\cdot married \\\\\n",
    "&\\quad +\\beta_{9}\\cdot ethnicity +\\epsilon\n",
    "\\end{align*}\n",
    "\n",
    "We now remove another variable from this model. To do so we first need to update the reference model which means dropping the selected predictor from the full set. Subsequently, we run the same procedure again."
   ]
  },
  {
   "cell_type": "code",
   "execution_count": 2,
   "metadata": {},
   "outputs": [
    {
     "name": "stdout",
     "output_type": "stream",
     "text": [
      "               Predictor          AIC        R2           RSS\n",
      "0             Unnamed: 0  4819.857603  0.955047  3.791345e+06\n",
      "1                 Income  5359.644014  0.826689  1.461703e+07\n",
      "2                  Limit  4851.966157  0.951290  4.108230e+06\n",
      "3                 Rating  4824.775477  0.954491  3.838246e+06\n",
      "4                  Cards  4835.976056  0.953198  3.947242e+06\n",
      "5                    Age  4823.685440  0.954615  3.827801e+06\n",
      "6         Gender__Female  4819.862964  0.955046  3.791396e+06\n",
      "7           Student__Yes  5213.014039  0.879877  1.013112e+07\n",
      "8           Married__Yes  4819.758863  0.955058  3.790410e+06\n",
      "9       Ethnicity__Asian  4820.411139  0.954985  3.796596e+06\n",
      "10  Ethnicity__Caucasian  4819.562597  0.955080  3.788550e+06 \n",
      "\n",
      "Worst predictor is: Ethnicity__Caucasian\n"
     ]
    }
   ],
   "source": [
    "# Remove the chosen predictor from the list of options\n",
    "x_red1 = x_full.drop(columns=worst1, errors='ignore')\n",
    "\n",
    "results, worst2 = drop_one(x_red1, y)\n",
    "\n",
    "print(results[['Predictor', 'AIC', 'R2', 'RSS']], \n",
    "      '\\n\\nWorst predictor is:',  worst2)"
   ]
  },
  {
   "cell_type": "markdown",
   "metadata": {},
   "source": [
    "#### Optional:\n",
    "We could again repeat this procedure until one 1 predictor is left."
   ]
  },
  {
   "cell_type": "code",
   "execution_count": 3,
   "metadata": {},
   "outputs": [
    {
     "name": "stdout",
     "output_type": "stream",
     "text": [
      "          Predictor          BIC          AIC        R2    R2_adj  \\\n",
      "0        Unnamed: 0  4858.512384  4818.597738  0.954964  0.953924   \n",
      "1            Income  5398.135774  5358.221128  0.826439  0.822434   \n",
      "2             Limit  4890.496911  4850.582266  0.951215  0.950089   \n",
      "3            Rating  4863.290746  4823.376101  0.954422  0.953371   \n",
      "4             Cards  4874.514290  4834.599645  0.953125  0.952044   \n",
      "5               Age  4862.350937  4822.436291  0.954529  0.953480   \n",
      "6    Gender__Female  4858.381505  4818.466860  0.954978  0.953939   \n",
      "7      Student__Yes  5251.005635  5211.090990  0.879854  0.877082   \n",
      "8      Married__Yes  4858.201340  4818.286694  0.954999  0.953960   \n",
      "9  Ethnicity__Asian  4858.336298  4818.421652  0.954983  0.953945   \n",
      "\n",
      "            RSS  \n",
      "0  3.798367e+06  \n",
      "1  1.463813e+07  \n",
      "2  4.114563e+06  \n",
      "3  3.844014e+06  \n",
      "4  3.953400e+06  \n",
      "5  3.834993e+06  \n",
      "6  3.797125e+06  \n",
      "7  1.013307e+07  \n",
      "8  3.795415e+06  \n",
      "9  3.796695e+06   \n",
      "\n",
      "Worst predictor is: Married__Yes\n"
     ]
    }
   ],
   "source": [
    "# Remove the chosen predictor from the list of options\n",
    "x_red2 = x_red1.drop(columns=worst2, errors='ignore')\n",
    "\n",
    "results, worst3 = drop_one(x_red2, y)\n",
    "\n",
    "print(results, '\\n\\nWorst predictor is:',  worst3)"
   ]
  },
  {
   "cell_type": "markdown",
   "metadata": {},
   "source": [
    "Analogue to Example 2.1, We can automatically drop the n-worst predictors using SequentialFeatureSelector from **sklearn.feature_selection**, setting *direction='backward'*. \n",
    "The chosen predictors are returned in the support_ attribute.\n",
    "**Note**: If *None* features are selected, the algorithm automatically choses half number of features given. \n",
    "\n",
    "We choose the model that has the smallest RSS. This turns out to be the \n",
    "case when we remove the predictor variable **Ethnicity\\_Caucasian** from the reference model. We then obtain the model $ \\mathcal{M}_8 $:\n",
    "\\begin{align*}\n",
    "balance\n",
    "&=\\beta_{0}+\\beta_{1}\\cdot income +\\beta_{2}\\cdot limit +\\beta_{3}\\cdot rating +\\beta_{4}\\cdot cards \\\\\n",
    "&\\quad+\\beta_{5}\\cdot age +\\beta_{6}\\cdot gender +\\beta_{7}\\cdot student \\\\\n",
    "&\\quad +\n",
    "\\beta_{8}\\cdot Married\n",
    "+\\epsilon\n",
    "\\end{align*}\n",
    "\n",
    "We iterate this procedure until *no* predictor variable is left in the regression model. This iterative procedure yields 11 different models $\\mathcal{M}_{0},\\mathcal{M}_{1},\\ldots,\\mathcal{M}_{10}$. We identify the *best* among these models on the basis of the AIC, which we will discuss later. \n",
    " \n",
    "The selection procedure can also be performed using **sklearn.feature\\_selector**"
   ]
  },
  {
   "cell_type": "code",
   "execution_count": 4,
   "metadata": {},
   "outputs": [
    {
     "name": "stdout",
     "output_type": "stream",
     "text": [
      "['Income' 'Limit' 'Student__Yes']\n"
     ]
    }
   ],
   "source": [
    "from sklearn.feature_selection import SequentialFeatureSelector \n",
    "from sklearn.linear_model import LinearRegression\n",
    "\n",
    "# define Linear Regression Model in sklearn\n",
    "linearmodel = LinearRegression()\n",
    "# Sequential Feature Selection using sklearn\n",
    "sfs = SequentialFeatureSelector(linearmodel, n_features_to_select=3, \n",
    "                          direction='backward')\n",
    "sfs.fit(x_full, y)\n",
    "\n",
    "# Print Chosen variables\n",
    "print(x_full.columns[sfs.support_].values)\n"
   ]
  },
  {
   "cell_type": "markdown",
   "metadata": {},
   "source": [
    "The regression model with three predictors contains the variables **income**, **limit** and **student**. This model differs from the model we obtained by forward stepwise selection. In this model the variable **rating** appears instead of the variable **limit**. "
   ]
  },
  {
   "cell_type": "code",
   "execution_count": null,
   "metadata": {},
   "outputs": [],
   "source": []
  },
  {
   "cell_type": "markdown",
   "metadata": {},
   "source": [
    "### Example 2.3\n",
    "Unfortunately, at the time of writing, **SequentialFeatureSelector()** does not return model scores. However, we can still use the function to iteratively find the best model. \n",
    "\n",
    "The below figure displays the  $ \\mbox{R}^2 $ and the adjusted $ \\mbox{R}^2 $ for the best model of each size produced by forward stepwise selection on the **Credit** data set. Using the adjusted $ \\mbox{R}^2 $ we select a model that contains seven variables - which however is not easy to detect by eye in the plot.\n",
    "\n",
    "If we compare the $ \\mbox{R}^{2} $ for the best model of each size as a function of the number of predictors then we observe that the values of $ \\mbox{R}^2 $ are steadily increasing."
   ]
  },
  {
   "cell_type": "code",
   "execution_count": 1,
   "metadata": {},
   "outputs": [
    {
     "name": "stdout",
     "output_type": "stream",
     "text": [
      "            BIC          AIC        R2    R2_adj           RSS\n",
      "1   5502.764477  5494.781548  0.745848  0.745210  2.143512e+07\n",
      "2   5224.531479  5212.557085  0.875118  0.874489  1.053254e+07\n",
      "3   4865.352851  4849.386992  0.949879  0.949499  4.227219e+06\n",
      "4   4852.481331  4832.524008  0.952188  0.951703  4.032502e+06\n",
      "5   4841.615607  4817.666820  0.954161  0.953579  3.866091e+06\n",
      "6   4842.979215  4815.038963  0.954688  0.953996  3.821620e+06\n",
      "7   4847.838075  4815.906359  0.954816  0.954009  3.810814e+06\n",
      "8   4852.927218  4817.004037  0.954918  0.953995  3.802227e+06\n",
      "9   4858.908583  4818.993938  0.954919  0.953879  3.802131e+06\n",
      "10  4864.338343  4820.432233  0.954982  0.953825  3.796796e+06\n",
      "11  4869.086336  4821.188761  0.955122  0.953850  3.785011e+06\n"
     ]
    }
   ],
   "source": [
    "import pandas as pd\n",
    "import numpy as np\n",
    "from sklearn.feature_selection import SequentialFeatureSelector\n",
    "from sklearn.linear_model import LinearRegression\n",
    "import statsmodels.api as sm\n",
    "from LMS_def import *\n",
    "\n",
    "# Load data\n",
    "df = pd.read_csv('./data/Credit.csv')\n",
    "\n",
    "# Convert Categorical variables\n",
    "df = pd.get_dummies(data=df, drop_first=True, \n",
    "                    prefix=('Gender_', 'Student_', \n",
    "                            'Married_', 'Ethnicity_'))\n",
    "\n",
    "x_full = df.drop(columns='Balance')\n",
    "y = df['Balance']\n",
    "\n",
    "# define Linear Regression Model in sklearn\n",
    "linearmodel = LinearRegression()\n",
    "\n",
    "# Predefine DataFrame\n",
    "results = pd.DataFrame(data={'BIC': [], 'AIC': [], 'R2': [],\n",
    "                             'R2_adj': [], 'RSS': []})\n",
    "\n",
    "# For each number of selected features:\n",
    "for i in range(1, x_full.shape[1]):\n",
    "    # Sequential Feature Selection using sklearn\n",
    "    sfs = SequentialFeatureSelector(linearmodel, n_features_to_select=i, \n",
    "                              direction='forward')\n",
    "    sfs.fit(x_full, y)\n",
    "    chosen_predictors = x_full.columns[sfs.support_].values\n",
    "    \n",
    "    # Fit a linear model using the chosen predictors:\n",
    "    results_i = fit_linear_reg(x_full[chosen_predictors], y)\n",
    "    results_i = results_i.rename(str(i))\n",
    "    # Save results \n",
    "    results = results.append(results_i)\n",
    "\n",
    "print(results)"
   ]
  },
  {
   "cell_type": "code",
   "execution_count": 2,
   "metadata": {},
   "outputs": [
    {
     "data": {
      "image/png": "[encoded data removed]",
      "text/plain": [
       "<Figure size 864x360 with 2 Axes>"
      ]
     },
     "metadata": {
      "needs_background": "light"
     },
     "output_type": "display_data"
    }
   ],
   "source": [
    "import matplotlib.pyplot as plt\n",
    "\n",
    "# Create figure\n",
    "fig = plt.figure(figsize=(12, 5))\n",
    "\n",
    "# Plot R^2, including maximum \n",
    "ax1 = fig.add_subplot(1, 2, 1)\n",
    "ax1.plot(results.loc[:, 'R2'], 'b-',  \n",
    "         marker='o', markerfacecolor='black')\n",
    "ax1.plot(np.argmax(results.loc[:, 'R2']), \n",
    "         np.max(results.loc[:, 'R2']), \n",
    "         'r^', markersize=15)\n",
    "ax1.set_xlabel('Number of Predictors')\n",
    "ax1.set_ylabel('R squared')\n",
    "\n",
    "# Plot R^2 adjusted, including maximum \n",
    "ax2 = fig.add_subplot(1, 2, 2)\n",
    "ax2.plot(results.loc[:, 'R2_adj'], 'b-',  \n",
    "         marker='o', markerfacecolor='black')\n",
    "ax2.plot(np.argmax(results.loc[:, 'R2_adj']), \n",
    "         np.max(results.loc[:, 'R2_adj']), \n",
    "         'r^', markersize=15)\n",
    "ax2.set_xlabel('Number of Predictors')\n",
    "ax2.set_ylabel('Adjusted R squared')\n",
    "\n",
    "plt.show()"
   ]
  },
  {
   "cell_type": "markdown",
   "metadata": {},
   "source": [
    "This is not the case for the values of the adjusted $ \\mbox{R}^{2} $. As the **Python**-output reveals, the adjusted $ \\mbox{R}^2 $ reaches a maximum for seven predictors, after that the values start decreasing. \n",
    "\n",
    "Using the adjusted $ \\mbox{R}^2 $ results in the selection of the following regression model that was produced by forward selection \n",
    "\n",
    "\\begin{align*}\n",
    "balance\n",
    "&=\\beta_{0}+\\beta_{1}\\cdot income +\\beta_{2}\\cdot limit +\\beta_{3}\\cdot rating +\\beta_{4}\\cdot cards \\\\\n",
    "&\\quad+\\beta_{5}\\cdot age +\\beta_{6}\\cdot gender +\\beta_{7}\\cdot student +\\epsilon\n",
    "\\end{align*}"
   ]
  },
  {
   "cell_type": "markdown",
   "metadata": {},
   "source": [
    "### Example 2.4\n",
    "The left-hand panel displays the AIC, the right hand panel the BIC."
   ]
  },
  {
   "cell_type": "code",
   "execution_count": 3,
   "metadata": {},
   "outputs": [
    {
     "data": {
      "image/png": "[encoded data removed]",
      "text/plain": [
       "<Figure size 864x360 with 2 Axes>"
      ]
     },
     "metadata": {
      "needs_background": "light"
     },
     "output_type": "display_data"
    }
   ],
   "source": [
    "# Create figure\n",
    "fig = plt.figure(figsize = (12, 5))\n",
    "\n",
    "# Plot AIC\n",
    "ax1 = fig.add_subplot(1, 2, 1)\n",
    "ax1.plot(results.loc[:, 'AIC'], 'b-', \n",
    "         marker='o', markerfacecolor='black')\n",
    "ax1.plot(np.argmin(results.loc[:, 'AIC']), \n",
    "         np.min(results.loc[:, 'AIC']), \n",
    "         'r^', markersize=15)\n",
    "ax1.set_ylabel('AIC')\n",
    "ax1.set_xlabel('Number of Predictors')\n",
    "\n",
    "\n",
    "# Plot BIC\n",
    "ax2 = fig.add_subplot(1, 2, 2)\n",
    "ax2.plot(results.loc[:, 'BIC'], 'b-',  \n",
    "         marker='o', markerfacecolor='black')\n",
    "ax2.plot(np.argmin(results.loc[:, 'BIC']), \n",
    "         np.min(results.loc[:, 'BIC']), \n",
    "         'r^', markersize=15)\n",
    "ax2.set_xlabel('Number of Predictors')\n",
    "ax2.set_ylabel('BIC')\n",
    "\n",
    "plt.tight_layout()\n",
    "plt.show()"
   ]
  },
  {
   "cell_type": "markdown",
   "metadata": {},
   "source": [
    "Note that we have to add 1 to the index of the minimum value, as the index starts at 0, whereas the number of predictors starts at 1.\n",
    "\n",
    "According to the AIC criterion, the best among all models produced by forward stepwise selection contains six predictor variables. "
   ]
  },
  {
   "cell_type": "code",
   "execution_count": 4,
   "metadata": {},
   "outputs": [
    {
     "name": "stdout",
     "output_type": "stream",
     "text": [
      "6\n"
     ]
    }
   ],
   "source": [
    "print(np.argmin(results.loc[:, 'AIC']) + 1)"
   ]
  },
  {
   "cell_type": "markdown",
   "metadata": {},
   "source": [
    "The (last) **Python**-output of displays the six predictors of the best model produced by forward selection.\n",
    "\\begin{align*}\n",
    "balance\n",
    "&=\\beta_{0}+\\beta_{1}\\cdot income +\\beta_{2}\\cdot limit +\\beta_{3}\\cdot rating +\\beta_{4}\\cdot cards \\\\\n",
    "&\\quad+\\beta_{5}\\cdot age +\\beta_{6}\\cdot student +\\epsilon\n",
    "\\end{align*}\n"
   ]
  },
  {
   "cell_type": "code",
   "execution_count": null,
   "metadata": {},
   "outputs": [],
   "source": []
  },
  {
   "cell_type": "markdown",
   "metadata": {},
   "source": [
    "### Example 2.5\n",
    "\n",
    "If we want to find the best among all models  produced by stepwise forward selection, that is, if we want to identify the most appropriate number of predictors on the basis of the AIC, we only have to repeat the known procedure, for the number of Predictors. Note that the parameter *scoreby* is now set to AIC."
   ]
  },
  {
   "cell_type": "code",
   "execution_count": 1,
   "metadata": {},
   "outputs": [
    {
     "name": "stdout",
     "output_type": "stream",
     "text": [
      "Best Predictors and corresponding AIC:\n",
      "                Best_Pred          AIC\n",
      "0                 Rating  5494.781548\n",
      "1                 Income  5212.557085\n",
      "2           Student__Yes  4849.386992\n",
      "3                  Limit  4832.524008\n",
      "4                  Cards  4817.666820\n",
      "5                    Age  4815.038963\n",
      "6         Gender__Female  4815.900560\n",
      "7             Unnamed: 0  4817.004037\n",
      "8       Ethnicity__Asian  4818.286694\n",
      "9           Married__Yes  4819.562597\n",
      "10  Ethnicity__Caucasian  4820.935924\n",
      "11             Education  4822.448073 \n",
      "\n",
      "The best model thus contains 6  predictors\n"
     ]
    }
   ],
   "source": [
    "import pandas as pd\n",
    "import numpy as np\n",
    "from LMS_def import *\n",
    "\n",
    "# Load data\n",
    "df = pd.read_csv('./data/Credit.csv')\n",
    "\n",
    "# Convert Categorical variables\n",
    "df = pd.get_dummies(data=df, drop_first=True, \n",
    "                    prefix=('Gender_', 'Student_', \n",
    "                            'Married_', 'Ethnicity_'))\n",
    "\n",
    "x_full = df.drop(columns='Balance')\n",
    "y = df['Balance']\n",
    "\n",
    "results = pd.DataFrame(data={'Best_Pred': [], 'AIC':[]})\n",
    "\n",
    "# Define the empty predictor\n",
    "x0 = [np.zeros(len(y))]\n",
    "\n",
    "x = x0\n",
    "x_red = x_full.copy()\n",
    "\n",
    "for i in range(x_full.shape[1]):\n",
    "    results_i, best_i = add_one(x_red, x, y, scoreby='AIC')\n",
    "    \n",
    "    # Update the empty predictor with the best predictor\n",
    "    x = np.concatenate((x, [df[best_i]]))\n",
    "\n",
    "    # Remove the chosen predictor from the list of options\n",
    "    x_red = x_red.drop(columns=best_i)\n",
    "\n",
    "    # Save results \n",
    "    results.loc[i, 'Best_Pred'] = best_i\n",
    "    results.loc[i, 'AIC'] = results_i['AIC'].min()\n",
    "    \n",
    "print('Best Predictors and corresponding AIC:\\n', results, \n",
    "      '\\n\\nThe best model thus contains', \n",
    "      results['AIC'].argmin() + 1, ' predictors')"
   ]
  },
  {
   "cell_type": "markdown",
   "metadata": {},
   "source": [
    "### Linear Model Selection Example 2.6\n",
    "\n",
    "The right-hand panel displays the BIC for the **Credit** data set. For instance, the BIC values result from subtracting the BIC of the null model. \n",
    "\n",
    "Based on the BIC values displayed in the **Python**-output, we conclude that the best model produced by forward stepwise selection contains five predictor variables. \n"
   ]
  },
  {
   "cell_type": "markdown",
   "metadata": {},
   "source": [
    "The **Python**-output in the previous example shows that the best model produced by forward stepwise selection and containing five predictors is given by\n",
    "\\begin{align*}\n",
    " balance\n",
    "&=\\beta_{0}+\\beta_{1}\\cdot income +\\beta_{2}\\cdot limit +\\beta_{3}\\cdot rating +\\beta_{4}\\cdot cards \\\\\n",
    "&\\quad+\\beta_{5}\\cdot student +epsilon\n",
    "\\end{align*}"
   ]
  },
  {
   "cell_type": "code",
   "execution_count": 1,
   "metadata": {},
   "outputs": [
    {
     "name": "stdout",
     "output_type": "stream",
     "text": [
      "Best Predictors and corresponding BIC:\n",
      "                Best_Pred          BIC\n",
      "0                 Rating  5502.764477\n",
      "1                 Income  5224.531479\n",
      "2           Student__Yes  4865.352851\n",
      "3                  Limit  4852.481331\n",
      "4                  Cards  4841.615607\n",
      "5                    Age  4842.979215\n",
      "6         Gender__Female  4847.832276\n",
      "7             Unnamed: 0  4852.927218\n",
      "8       Ethnicity__Asian  4858.201340\n",
      "9           Married__Yes  4863.468707\n",
      "10  Ethnicity__Caucasian  4868.833498\n",
      "11             Education  4874.337112 \n",
      "\n",
      "The best model thus contains 5  predictors\n"
     ]
    }
   ],
   "source": [
    "import pandas as pd\n",
    "import numpy as np\n",
    "from LMS_def import *\n",
    "\n",
    "# Load data\n",
    "df = pd.read_csv('./data/Credit.csv')\n",
    "\n",
    "# Convert Categorical variables\n",
    "df = pd.get_dummies(data=df, drop_first=True, \n",
    "                    prefix=('Gender_', 'Student_', \n",
    "                            'Married_', 'Ethnicity_'))\n",
    "\n",
    "x_full = df.drop(columns='Balance')\n",
    "y = df['Balance']\n",
    "\n",
    "results = pd.DataFrame(data={'Best_Pred': [], 'BIC':[]})\n",
    "\n",
    "# Define the empty predictor\n",
    "x0 = [np.zeros(len(y))]\n",
    "\n",
    "x = x0\n",
    "x_red = x_full.copy()\n",
    "\n",
    "for i in range(x_full.shape[1]):\n",
    "    results_i, best_i = add_one(x_red, x, y, scoreby='BIC')\n",
    "    \n",
    "    # Update the empty predictor with the best predictor\n",
    "    x = np.concatenate((x, [df[best_i]]))\n",
    "\n",
    "    # Remove the chosen predictor from the list of options\n",
    "    x_red = x_red.drop(columns=best_i)\n",
    "\n",
    "    # Save results \n",
    "    results.loc[i, 'Best_Pred'] = best_i\n",
    "    results.loc[i, 'BIC'] = results_i['BIC'].min()\n",
    "    \n",
    "print('Best Predictors and corresponding BIC:\\n', results, \n",
    "      '\\n\\nThe best model thus contains', \n",
    "      results['BIC'].argmin() + 1, ' predictors')"
   ]
  },
  {
   "cell_type": "markdown",
   "metadata": {},
   "source": [
    "If we want to identify the best model  by *backward stepwise selection*, then we can use the same procedure as before:"
   ]
  },
  {
   "cell_type": "code",
   "execution_count": 2,
   "metadata": {},
   "outputs": [
    {
     "name": "stdout",
     "output_type": "stream",
     "text": [
      "Worst Predictors and corresponding BIC:\n",
      "               Worst_Pred          BIC\n",
      "0              Education  4868.833498\n",
      "1   Ethnicity__Caucasian  4863.468707\n",
      "2           Married__Yes  4858.201340\n",
      "3       Ethnicity__Asian  4852.927218\n",
      "4             Unnamed: 0  4847.832276\n",
      "5         Gender__Female  4842.979215\n",
      "6                    Age  4841.615607\n",
      "7                 Rating  4840.658660\n",
      "8                  Cards  4873.759072\n",
      "9           Student__Yes  5237.176925\n",
      "10                Income  5507.965562\n",
      "11                 Limit  6044.702777 \n",
      "\n",
      "The best model thus contains 5  predictors\n"
     ]
    }
   ],
   "source": [
    "results = pd.DataFrame(data={'Worst_Pred': [], 'BIC':[]})\n",
    "\n",
    "# Define the full predictor\n",
    "x = x_full.copy()\n",
    "\n",
    "for i in range(x_full.shape[1]):\n",
    "    results_i, worst_i = drop_one(x, y, scoreby='BIC')\n",
    "    \n",
    "    # Update the empty predictor with the best predictor\n",
    "    x = x.drop(columns=worst_i)\n",
    "\n",
    "    # Save results \n",
    "    results.loc[i, 'Worst_Pred'] = worst_i\n",
    "    results.loc[i, 'BIC'] = results_i['BIC'].min()\n",
    "    \n",
    "print('Worst Predictors and corresponding BIC:\\n', results, \n",
    "      '\\n\\nThe best model thus contains', \n",
    "      x_full.shape[1] - results['BIC'].argmin(), ' predictors')"
   ]
  }
 ],
 "metadata": {
  "kernelspec": {
   "display_name": "Python 3 (ipykernel)",
   "language": "python",
   "name": "python3"
  },
  "language_info": {
   "codemirror_mode": {
    "name": "ipython",
    "version": 3
   },
   "file_extension": ".py",
   "mimetype": "text/x-python",
   "name": "python",
   "nbconvert_exporter": "python",
   "pygments_lexer": "ipython3",
   "version": "3.9.6"
  },
  "widgets": {
   "application/vnd.jupyter.widget-state+json": {
    "state": {},
    "version_major": 2,
    "version_minor": 0
   }
  }
 },
 "nbformat": 4,
 "nbformat_minor": 4
}
