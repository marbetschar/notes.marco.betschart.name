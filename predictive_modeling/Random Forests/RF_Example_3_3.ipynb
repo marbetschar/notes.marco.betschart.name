{
 "cells": [
  {
   "cell_type": "markdown",
   "metadata": {},
   "source": [
    "### Random Forests Example 3.1\n",
    "We again study the **heart** data but only consider the two predictors **age** and **maxHR**. We compute a random forest model and an ordinary tree and compare the partition of the two-dimensional predictor space according to where the models predit **AHD=yes** and **AHD=no**. We start by computing the models and defining a grid in the predictor space where we evaluate the resulting models. In fact, since we have only two predictors, we use a bagged model.  \n",
    "\n",
    "We define the variables, Tree-controls and create and fit the Decision-Tree and Random Forest model."
   ]
  },
  {
   "cell_type": "code",
   "execution_count": 1,
   "metadata": {},
   "outputs": [
    {
     "data": {
      "text/plain": [
       "DecisionTreeClassifier(criterion='entropy', min_impurity_decrease=0.01,\n",
       "                       min_samples_leaf=5, min_samples_split=10,\n",
       "                       random_state=1)"
      ]
     },
     "execution_count": 1,
     "metadata": {},
     "output_type": "execute_result"
    }
   ],
   "source": [
    "import numpy as np\n",
    "import pandas as pd\n",
    "from sklearn.ensemble import RandomForestClassifier\n",
    "from sklearn import tree\n",
    "import matplotlib.pyplot as plt\n",
    "\n",
    "# Load data\n",
    "df = pd.read_csv('./data/Heart.csv')\n",
    "\n",
    "# Replace Categorical Variable with dummies\n",
    "df = pd.get_dummies(data=df, columns=['AHD'], drop_first=True)\n",
    "df['ChestPain'], ChestPain_codes = pd.factorize(df['ChestPain'])\n",
    "df['Thal'], Thal_codes = pd.factorize(df['Thal'])\n",
    "# Drop NA rows:\n",
    "df.dropna(inplace=True)\n",
    "\n",
    "X = df[['Age', 'MaxHR']]\n",
    "y = df['AHD_Yes']\n",
    "\n",
    "n_features = X.shape[1]\n",
    "\n",
    "# Tree controlls for RF\n",
    "rfc_settings = {'oob_score': True, \n",
    "                'max_features': np.sqrt(n_features)/n_features,\n",
    "                'random_state': 1, \n",
    "                'n_estimators': 200}\n",
    "tree_settings = {'criterion': 'entropy',\n",
    "                 'min_samples_split': 10,\n",
    "                 'min_samples_leaf': 5,\n",
    "                 'min_impurity_decrease': 0.01,\n",
    "                 'random_state': 1}\n",
    "\n",
    "rfc = RandomForestClassifier().set_params(**rfc_settings)\n",
    "tree = tree.DecisionTreeClassifier().set_params(**tree_settings)\n",
    "rfc.fit(X, y)\n",
    "tree.fit(X, y)"
   ]
  },
  {
   "cell_type": "markdown",
   "metadata": {},
   "source": [
    "Now a grid is created, and each point on the grid is predicted using the classifiers. The class predicted by each classifier is visualised in a plot. "
   ]
  },
  {
   "cell_type": "code",
   "execution_count": 2,
   "metadata": {},
   "outputs": [
    {
     "data": {
      "image/png": "[encoded data removed]",
      "text/plain": [
       "<Figure size 1008x432 with 2 Axes>"
      ]
     },
     "metadata": {
      "needs_background": "light"
     },
     "output_type": "display_data"
    }
   ],
   "source": [
    "# Create grid\n",
    "margin, n = 2, 400\n",
    "xx = np.linspace(min(X['Age']) - margin, max(X['Age']) + margin, n)\n",
    "yy = np.linspace(min(X['MaxHR']) - margin, max(X['MaxHR']) + margin, n)\n",
    "yy, xx = np.meshgrid(yy, xx)\n",
    "\n",
    "# Predict\n",
    "Ztree = tree.predict(np.c_[xx.ravel(), yy.ravel()])\n",
    "Zrfc = rfc.predict(np.c_[xx.ravel(), yy.ravel()])\n",
    "Ztree = Ztree.reshape(xx.shape)\n",
    "Zrfc = Zrfc.reshape(xx.shape)\n",
    "\n",
    "# Plots\n",
    "fig, ax = plt.subplots(nrows=1, ncols=2, figsize=(14, 6))\n",
    "\n",
    "# Plot surface\n",
    "ax[0].contourf(xx, yy, Ztree,\n",
    "               colors=['green', 'black', 'red', 'black'], alpha=0.4)\n",
    "ax[1].contourf(xx, yy, Zrfc,\n",
    "               colors=['green', 'black', 'red', 'black'], alpha=0.4)\n",
    "\n",
    "ax[0].set_xlabel('Age'), ax[1].set_xlabel('Age')\n",
    "ax[0].set_ylabel('MaxHR'), ax[1].set_ylabel('MaxHR')\n",
    "plt.tight_layout(h_pad=0.5, w_pad=0.5, pad=2.5)    \n",
    "plt.show()"
   ]
  },
  {
   "cell_type": "markdown",
   "metadata": {},
   "source": [
    "As it can be seen, the partition due to the random forest is much more complicated and harder to interpret as the simple binary partition of the tree. The predictive power, however, is larger for the random forest model.  "
   ]
  }
 ],
 "metadata": {
  "kernelspec": {
   "display_name": "Python 3",
   "language": "python",
   "name": "python3"
  },
  "language_info": {
   "codemirror_mode": {
    "name": "ipython",
    "version": 3
   },
   "file_extension": ".py",
   "mimetype": "text/x-python",
   "name": "python",
   "nbconvert_exporter": "python",
   "pygments_lexer": "ipython3",
   "version": "3.7.6"
  },
  "widgets": {
   "application/vnd.jupyter.widget-state+json": {
    "state": {},
    "version_major": 2,
    "version_minor": 0
   }
  }
 },
 "nbformat": 4,
 "nbformat_minor": 5
}
