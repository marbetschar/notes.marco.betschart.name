{
 "cells": [
  {
   "cell_type": "markdown",
   "metadata": {},
   "source": [
    "### Random Forests Example 1.1\n"
   ]
  },
  {
   "cell_type": "markdown",
   "metadata": {},
   "source": [
    "We illustrate the basic idea of the bootstrap method above by means of an example. Consider the following **Python**-code. We generate $2000$ samples from a two-dimensional Gaussian normal distribution $(X,Y)$, where the variances $s_X^2$ and $s_Y^2$ of the individual variables are $1$ and the covariance $s_{XY}$ equals $0.7$. We estimate these quantities by means of the sample variance and covariance and get the following result"
   ]
  },
  {
   "cell_type": "code",
   "execution_count": 4,
   "metadata": {},
   "outputs": [
    {
     "name": "stdout",
     "output_type": "stream",
     "text": [
      "[[0.96109765 0.67805094]\n",
      " [0.67805094 0.9716846 ]]\n"
     ]
    }
   ],
   "source": [
    "import numpy as np\n",
    "import random\n",
    "\n",
    "# set random seed\n",
    "np.random.seed(0)\n",
    "\n",
    "# Sample from 2D normal distribution\n",
    "n_samples = 2000\n",
    "cov = [[1, 0.7], [0.7, 1]]\n",
    "\n",
    "mean_dist = [0, 1.1]\n",
    "\n",
    "samp_data = np.random.multivariate_normal(mean_dist, cov, size=n_samples)\n",
    "\n",
    "cov_est = np.cov(samp_data.T)\n",
    "print(cov_est)"
   ]
  },
  {
   "cell_type": "markdown",
   "metadata": {},
   "source": [
    "Since we know the underlying truth, we can assess the quality of the estimate. In practice, however, the true values are unknown and we have to find other means to measure the quality of e.g. the estimate $\\hat s_{XY} = 0.678$.\n",
    "\n",
    "To estimate the accuracy of $\\hat s_{XY}$ we now repeat the process of sampling data from the joint normal distribution and for each sample we compute $\\hat s_{XY}$ such that after some time we end up with many (say $B$) estimates $\\hat s_{XY,1},\\dots, \\hat s_{XY, B}$. The empirical distribution $\\hat F$ of these values approximates the true distribution $F$ of $\\hat s_{XY}$."
   ]
  },
  {
   "cell_type": "code",
   "execution_count": 4,
   "metadata": {},
   "outputs": [
    {
     "name": "stdout",
     "output_type": "stream",
     "text": [
      "0.698324093930985\n"
     ]
    }
   ],
   "source": [
    "B = 1000\n",
    "\n",
    "# Define procedure in a definition\n",
    "def cov_resample_dist(mean_dist, cov, n_sampl=n_samples):\n",
    "    \"\"\" Take n_sampl samples from normal distribution with \n",
    "    given mean and covariance and return estimated covariance\"\"\"\n",
    "    samp_data = np.random.multivariate_normal(mean_dist, cov, \n",
    "                                              size=n_sampl)\n",
    "    s_est = np.cov(samp_data.T)[0][1]\n",
    "    return s_est\n",
    "\n",
    "# Repeat procedure B times\n",
    "hat_s = []\n",
    "for i in range(B):\n",
    "    hat_s.append(cov_resample_dist(mean_dist, cov, \n",
    "                                   n_sampl=n_samples))\n",
    "\n",
    "# Print mean\n",
    "print(np.mean(hat_s))"
   ]
  },
  {
   "cell_type": "markdown",
   "metadata": {},
   "source": [
    "Until now we have been using the underlying Method (`random.multivariate_normal()`), instead of a dataset. We will now use a dataset and sample with replacement. \n",
    "\n",
    "Of course the problem here is again the fact, that we use the true underlying distribution of $X$ and $Y$ to simulate the data. Put differently, this method is not applicable in practice. What can be done, however, is to successively sample from the data *with replacement* and computing the corresponding estimators. These are then called the *bootstrap estimators* and their distribution $\\hat F^*$ approximates the true underlying distribution of $\\hat s_{XY}$. The following code-chunk implements the bootstrap method explicitely."
   ]
  },
  {
   "cell_type": "code",
   "execution_count": 5,
   "metadata": {},
   "outputs": [
    {
     "name": "stdout",
     "output_type": "stream",
     "text": [
      "0.6778391598165159\n"
     ]
    }
   ],
   "source": [
    "# Define procedure in definition:\n",
    "def cov_resample_data(data, n_sampl=n_samples):\n",
    "    \"\"\" Take n_sampl samples(with replacement) from \n",
    "    given dataset and return estimated covariance\"\"\"\n",
    "    samp_data_i = np.random.choice(range(len(data)), \n",
    "                                   replace=True, \n",
    "                                   size=n_samples)\n",
    "    samp_data = data[samp_data_i]\n",
    "    s_boots = np.cov(samp_data.T)[0][1]\n",
    "    return s_boots\n",
    "\n",
    "# Repeat procedure B times\n",
    "hat_s_boot = []\n",
    "for i in range(B):\n",
    "    hat_s_boot.append(cov_resample_data(samp_data, n_sampl=n_samples))\n",
    "\n",
    "# Print mean\n",
    "print(np.mean(hat_s_boot))"
   ]
  },
  {
   "cell_type": "code",
   "execution_count": 23,
   "metadata": {},
   "outputs": [
    {
     "data": {
      "image/png": "[encoded data removed]",
      "text/plain": [
       "<Figure size 1008x432 with 2 Axes>"
      ]
     },
     "metadata": {
      "needs_background": "light"
     },
     "output_type": "display_data"
    }
   ],
   "source": [
    "import seaborn as sns\n",
    "import matplotlib.pyplot as plt\n",
    "\n",
    "fig = plt.figure(figsize=(14, 6))\n",
    "\n",
    "ax1 = fig.add_subplot(1, 2, 1)\n",
    "sns.histplot(hat_s, bins=50, kde=False)\n",
    "ax1.set_xlabel('Estimators from Simulated data')\n",
    "ax1.set_ylabel('Frequency')\n",
    "\n",
    "ax2 = fig.add_subplot(1, 2, 2)\n",
    "sns.histplot(hat_s_boot, bins=50, kde=False)\n",
    "ax2.set_xlabel('Estimators from bootstrapped data')\n",
    "ax2.set_ylabel('Frequency')\n",
    "\n",
    "plt.tight_layout()\n",
    "plt.show()"
   ]
  },
  {
   "cell_type": "markdown",
   "metadata": {},
   "source": [
    "The histograms of the estimated covariances can be seen. On the left we have the distribution, when new samples are generated in each run. On the right the bootstrapped samples are shown. The histograms look very similar, but note again that the left picture is not available in practice, because new samples are required. In contrast, the right histogram can be computed by resampling the original data set.\n",
    "\n",
    "Now, let $\\hat s_{XY,1}^*,\\dots, \\hat s_{XY,B}^*$ be the bootstrapped estimators for the covariance of $X$ and $Y$. Then, we can estimate the standard error of the estimated covariance $\\hat s_{XY}$ by the bootstrap estimate\n",
    "\\begin{align*}\n",
    "\\text{se}_B(\\hat s_{XY}) & = \\sqrt{\\frac{1}{B-1}\\sum_{i=1}^B \\left(\\hat s_{XY,i}^* - \\bar s_{XY}^*\\right)^2},\\quad \\text{with}\\\\\n",
    "\\bar s_{XY}^* & = \\frac{1}{B} \\sum_{i=1}^B \\hat s_{XY,i}^*.\n",
    "\\end{align*}\n",
    "\n",
    "In our example this gives a value of $\\text{se}_B(\\hat s_{XY}) = 0.028$. With this we can for instance give a $95\\%$-confidence interval for the covariance:\n",
    "\\begin{equation}\n",
    "\\bar s_{XY}^* \\pm 2\\cdot \\text{se}_B(\\hat s_{XY}) = [0.65, 0.76 ].\n",
    "\\end{equation}\n",
    "\n",
    "In **Python** the function **sklearn.utils.resample()** implements the resampling routines. The computation of the bootstrapped covariances then reads as follows:"
   ]
  },
  {
   "cell_type": "code",
   "execution_count": 24,
   "metadata": {},
   "outputs": [
    {
     "name": "stdout",
     "output_type": "stream",
     "text": [
      "0.6851533851754641\n"
     ]
    }
   ],
   "source": [
    "from sklearn.utils import resample\n",
    "\n",
    "hat_s_sklearn = []\n",
    "for i in range(B):\n",
    "    samp_data = resample(samp_data, n_samples=n_samples)\n",
    "    hat_s_sklearn.append(np.cov(samp_data.T)[0][1])\n",
    "    \n",
    "print(np.mean(hat_s_sklearn))"
   ]
  }
 ],
 "metadata": {
  "kernelspec": {
   "display_name": "Python 3",
   "language": "python",
   "name": "python3"
  },
  "language_info": {
   "codemirror_mode": {
    "name": "ipython",
    "version": 3
   },
   "file_extension": ".py",
   "mimetype": "text/x-python",
   "name": "python",
   "nbconvert_exporter": "python",
   "pygments_lexer": "ipython3",
   "version": "3.7.6"
  },
  "widgets": {
   "application/vnd.jupyter.widget-state+json": {
    "state": {},
    "version_major": 2,
    "version_minor": 0
   }
  }
 },
 "nbformat": 4,
 "nbformat_minor": 5
}
