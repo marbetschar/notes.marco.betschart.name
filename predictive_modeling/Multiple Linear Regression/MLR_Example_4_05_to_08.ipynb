{
 "cells": [
  {
   "cell_type": "markdown",
   "metadata": {},
   "source": [
    "### Example Multiple Linear Regression 4.5"
   ]
  },
  {
   "cell_type": "markdown",
   "metadata": {},
   "source": [
    "For example, based on the **gender** variable, we can create a new variable that takes the form\n",
    "\\begin{equation*}\n",
    "x_{i}\n",
    "=\n",
    "\\begin{cases}\n",
    "1&\\text{if $ i $th person is female}\\\\\n",
    "0&\\text{if $ i $th person is male}\n",
    "\\end{cases}\n",
    "\\end{equation*}\n",
    "\n",
    "and use this variable as a predictor in the regression equation. This results in the model\n",
    "\\begin{equation}\\label{eq:regr_dummy_credit}\n",
    "y_{i}\n",
    "=\\beta_{0}+\\beta_{1}x_{i}+\\epsilon_{i}\n",
    "=\n",
    "\\begin{cases}\n",
    "\\beta_{0}+\\beta_{1}+\\epsilon_{i}&\\text{if $ i $th person is female}\\\\\n",
    "\\beta_{0}+\\epsilon_{1}&\\text{if $ i $th person is male}\n",
    "\\end{cases}\n",
    "\\end{equation}\n",
    "\n",
    "Now, $ \\beta_{0} $ can be interpreted as the average credit card balance among males, $\\beta_{0} + \\beta_{1} $ as the average credit card balance among females, and $ \\beta_{1} $ as the average difference in credit card balance between females and males. "
   ]
  },
  {
   "cell_type": "code",
   "metadata": {
    "ExecuteTime": {
     "end_time": "2025-10-02T08:39:25.656559Z",
     "start_time": "2025-10-02T08:39:25.361564Z"
    }
   },
   "source": [
    "import pandas as pd\n",
    "import numpy as np\n",
    "import statsmodels.api as sm\n",
    "\n",
    "# Load data\n",
    "df = pd.read_csv('./data/Credit.csv')\n",
    "\n",
    "balance = df['Balance']\n",
    "\n",
    "# Initiate dummy variable with zeros:\n",
    "gender = np.zeros(len(balance))\n",
    "# Make 1 for Female:\n",
    "indices_Fem = df[df['Gender']=='Female'].index.values\n",
    "gender[indices_Fem] = 1\n",
    "\n",
    "# Fit model\n",
    "gender_sm = sm.add_constant(gender)\n",
    "model = sm.OLS(balance, gender_sm).fit()\n",
    "\n",
    "# Print summary:\n",
    "print(model.summary())"
   ],
   "outputs": [
    {
     "name": "stdout",
     "output_type": "stream",
     "text": [
      "                            OLS Regression Results                            \n",
      "==============================================================================\n",
      "Dep. Variable:                Balance   R-squared:                       0.000\n",
      "Model:                            OLS   Adj. R-squared:                 -0.002\n",
      "Method:                 Least Squares   F-statistic:                    0.1836\n",
      "Date:                Thu, 02 Oct 2025   Prob (F-statistic):              0.669\n",
      "Time:                        10:39:25   Log-Likelihood:                -3019.3\n",
      "No. Observations:                 400   AIC:                             6043.\n",
      "Df Residuals:                     398   BIC:                             6051.\n",
      "Df Model:                           1                                         \n",
      "Covariance Type:            nonrobust                                         \n",
      "==============================================================================\n",
      "                 coef    std err          t      P>|t|      [0.025      0.975]\n",
      "------------------------------------------------------------------------------\n",
      "const        509.8031     33.128     15.389      0.000     444.675     574.931\n",
      "x1            19.7331     46.051      0.429      0.669     -70.801     110.267\n",
      "==============================================================================\n",
      "Omnibus:                       28.438   Durbin-Watson:                   1.940\n",
      "Prob(Omnibus):                  0.000   Jarque-Bera (JB):               27.346\n",
      "Skew:                           0.583   Prob(JB):                     1.15e-06\n",
      "Kurtosis:                       2.471   Cond. No.                         2.66\n",
      "==============================================================================\n",
      "\n",
      "Notes:\n",
      "[1] Standard Errors assume that the covariance matrix of the errors is correctly specified.\n"
     ]
    }
   ],
   "execution_count": 2
  },
  {
   "cell_type": "markdown",
   "metadata": {},
   "source": [
    "The **.summary()** method of a fitted model shows the encoding of the *dummy variable* associated with **gender**. The average credit card debt for males is estimated to be $509.80$, whereas females are estimated to carry 19.73 in additional debt for a total of  $ \\;509.80+ \\; 19.73 = \\;529.53 $. \n",
    "\n",
    "However, we notice that the p-value for the dummy variable $ \\beta_{1} $ is $ 0.6690 $, hence it is very high. This indicates that there is no statistical evidence of a difference in average credit card balance between the genders. "
   ]
  },
  {
   "cell_type": "markdown",
   "metadata": {},
   "source": [
    "### Example Multiple Linear Regression 4.6\n",
    "If we had coded males as 1 and females as 0, then the estimates for $ \\beta_{0} $ and $ \\beta_{1} $ would have been 529.53 and -19.73 respectively, leading once again to a prediction of credit card debt of $\\;529.73- \\;19.73= \\; 509.80 $ for males and a prediction of 529.53 for females. This is the same result we obtained with the **default** coding scheme.\n",
    "\n",
    "If we wish to change the coding scheme for the dummy variable, we can change it in **Python** by changing the coding scheme."
   ]
  },
  {
   "cell_type": "code",
   "metadata": {
    "ExecuteTime": {
     "end_time": "2025-10-02T08:39:28.637134Z",
     "start_time": "2025-10-02T08:39:28.630238Z"
    }
   },
   "source": [
    "# Following Example 4.5\n",
    "# Initiate dummy variable with zeros:\n",
    "gender = np.zeros(len(balance))\n",
    "# Make 1 for Male:\n",
    "indices_Mal = df[df['Gender'] == ' Male'].index.values\n",
    "gender[indices_Mal] = 1\n",
    "\n",
    "# Fit model\n",
    "gender_sm = sm.add_constant(gender)\n",
    "model = sm.OLS(balance, gender_sm).fit()\n",
    "\n",
    "# Print summary:\n",
    "print(model.summary())"
   ],
   "outputs": [
    {
     "name": "stdout",
     "output_type": "stream",
     "text": [
      "                            OLS Regression Results                            \n",
      "==============================================================================\n",
      "Dep. Variable:                Balance   R-squared:                       0.000\n",
      "Model:                            OLS   Adj. R-squared:                 -0.002\n",
      "Method:                 Least Squares   F-statistic:                    0.1836\n",
      "Date:                Thu, 02 Oct 2025   Prob (F-statistic):              0.669\n",
      "Time:                        10:39:28   Log-Likelihood:                -3019.3\n",
      "No. Observations:                 400   AIC:                             6043.\n",
      "Df Residuals:                     398   BIC:                             6051.\n",
      "Df Model:                           1                                         \n",
      "Covariance Type:            nonrobust                                         \n",
      "==============================================================================\n",
      "                 coef    std err          t      P>|t|      [0.025      0.975]\n",
      "------------------------------------------------------------------------------\n",
      "const        529.5362     31.988     16.554      0.000     466.649     592.423\n",
      "x1           -19.7331     46.051     -0.429      0.669    -110.267      70.801\n",
      "==============================================================================\n",
      "Omnibus:                       28.438   Durbin-Watson:                   1.940\n",
      "Prob(Omnibus):                  0.000   Jarque-Bera (JB):               27.346\n",
      "Skew:                           0.583   Prob(JB):                     1.15e-06\n",
      "Kurtosis:                       2.471   Cond. No.                         2.58\n",
      "==============================================================================\n",
      "\n",
      "Notes:\n",
      "[1] Standard Errors assume that the covariance matrix of the errors is correctly specified.\n"
     ]
    }
   ],
   "execution_count": 3
  },
  {
   "cell_type": "markdown",
   "metadata": {},
   "source": [
    "### Example Multiple Linear Regression 4.7\n",
    "Alternatively, instead of a $ 0/1 $ coding scheme, we could create a dummy variable \n",
    "\\begin{equation*}\n",
    "x_{i}\n",
    "=\n",
    "\\begin{cases}\n",
    "1&\\text{if $ i $th person is female}\\\\\n",
    "-1&\\text{if $ i $th person is male}\n",
    "\\end{cases}\n",
    "\\end{equation*}\n",
    "\n",
    "and use this variable in the regression equation. This results in the model\n",
    "\\begin{equation*}\n",
    "y_{i}\n",
    "=\\beta_{0}+\\beta_{1}x_{i}+\\epsilon_{i}\n",
    "=\n",
    "\\begin{cases}\n",
    "\\beta_{0}+\\beta_{1}+\\epsilon_{i}&\\text{if $ i $th person is male}\\\\\n",
    "\\beta_{0}-\\beta_{1}+\\epsilon_{1}&\\text{if $ i $th person is female}\n",
    "\\end{cases}\n",
    "\\end{equation*}\n",
    "\n",
    "Now $ \\beta_{0} $ can be interpreted as the overall credit card balance (ignoring the gender effect), and $ \\beta_{1} $ is the amount that females are above the average and males are below the average."
   ]
  },
  {
   "cell_type": "code",
   "metadata": {
    "ExecuteTime": {
     "end_time": "2025-10-02T08:39:35.077166Z",
     "start_time": "2025-10-02T08:39:35.069591Z"
    }
   },
   "source": [
    "# Following Example 4.6\n",
    "# Initiate dummy variable with ones:\n",
    "gender = np.ones(len(balance))\n",
    "# Make -1 for Male:\n",
    "indices_Mal = df[df['Gender'] == ' Male'].index.values\n",
    "gender[indices_Mal] = -1\n",
    "\n",
    "# Fit model\n",
    "gender_sm = sm.add_constant(gender)\n",
    "model = sm.OLS(balance, gender_sm).fit()\n",
    "\n",
    "# Print summary:\n",
    "print(model.summary())"
   ],
   "outputs": [
    {
     "name": "stdout",
     "output_type": "stream",
     "text": [
      "                            OLS Regression Results                            \n",
      "==============================================================================\n",
      "Dep. Variable:                Balance   R-squared:                       0.000\n",
      "Model:                            OLS   Adj. R-squared:                 -0.002\n",
      "Method:                 Least Squares   F-statistic:                    0.1836\n",
      "Date:                Thu, 02 Oct 2025   Prob (F-statistic):              0.669\n",
      "Time:                        10:39:35   Log-Likelihood:                -3019.3\n",
      "No. Observations:                 400   AIC:                             6043.\n",
      "Df Residuals:                     398   BIC:                             6051.\n",
      "Df Model:                           1                                         \n",
      "Covariance Type:            nonrobust                                         \n",
      "==============================================================================\n",
      "                 coef    std err          t      P>|t|      [0.025      0.975]\n",
      "------------------------------------------------------------------------------\n",
      "const        519.6697     23.026     22.569      0.000     474.403     564.937\n",
      "x1             9.8666     23.026      0.429      0.669     -35.400      55.134\n",
      "==============================================================================\n",
      "Omnibus:                       28.438   Durbin-Watson:                   1.940\n",
      "Prob(Omnibus):                  0.000   Jarque-Bera (JB):               27.346\n",
      "Skew:                           0.583   Prob(JB):                     1.15e-06\n",
      "Kurtosis:                       2.471   Cond. No.                         1.04\n",
      "==============================================================================\n",
      "\n",
      "Notes:\n",
      "[1] Standard Errors assume that the covariance matrix of the errors is correctly specified.\n"
     ]
    }
   ],
   "execution_count": 4
  },
  {
   "cell_type": "markdown",
   "metadata": {},
   "source": [
    "In this example, the estimate for $ \\beta_{0} $ \n",
    "would be 519.67 , halfway between the male and female averages of 509.80 and 529.53. The estimate for $ \\beta_{1} $ would be 9.87, which is half of 19.73, the average difference between females and males. "
   ]
  },
  {
   "cell_type": "markdown",
   "metadata": {},
   "source": [
    "### Example Multiple Linear Regression 4.8\n",
    "For example, for the **ethnicity** variable which has *three* levels we create *two* dummy variables. The first could be\n",
    "\\begin{equation*}\n",
    "x_{i1}\n",
    "=\n",
    "\\begin{cases}\n",
    "1&\\text{if $ i $th person is Asian}\\\\\n",
    "0&\\text{if $ i $th person is not Asian}\n",
    "\\end{cases}\n",
    "\\end{equation*}\n",
    "and the second could be\n",
    "\\begin{equation*}\n",
    "x_{i2}\n",
    "=\n",
    "\\begin{cases}\n",
    "1&\\text{if $ i $th person is Caucasian}\\\\\n",
    "0&\\text{if $ i $th person is not Caucasian}\n",
    "\\end{cases}\n",
    "\\end{equation*}\n",
    "Then both of these variables can be used in the regression equation, in \n",
    "order to obtain the model\n",
    "\\begin{equation}\\label{eq:two_dummy_variables}\n",
    "y_{i}\n",
    "=\\beta_{0}+\\beta_{1}x_{i1}+\\beta_{2}x_{i2}+\\epsilon_{i}\n",
    "=\n",
    "\\begin{cases}\n",
    "\\beta_{0}+\\beta_{1}+\\epsilon_{i}&\\text{if $ i $th person is Asian}\\\\\n",
    "\\beta_{0}+\\beta_{2}+\\epsilon_{i}&\\text{if $ i $th person is Caucasian}\\\\\n",
    "\\beta_{0}+\\epsilon_{i}&\\text{if $ i $th person is Afro-American}\n",
    "\\end{cases}\n",
    "\\end{equation}\n",
    "\n",
    "Now $ \\beta_{0} $ can be interpreted as the average credit card balance for African Americans, $ \\beta_{1} $ can be interpreted as the difference in the average balance between the Asian and African American categories, and $ \\beta_{2} $ can be interpreted as the difference in the average balance between the Caucasian and African American categories. \n",
    "\n",
    "- There will always be one fewer dummy variable than the number of levels.\n",
    "- The level with no dummy variable African American in the example - is known as the *baseline*.\n",
    "- The equation \n",
    "    \\begin{equation*}\n",
    "    y_{i}\n",
    "    =\\beta_{0}+\\beta_{1}+\\beta_{2}+\\epsilon_{i}\n",
    "    \\end{equation*}\n",
    "\n",
    "    does not make sense, since this person would be Asian *and* Caucasian.\n",
    "\n",
    "From the summary below, we see that the estimated **balance** for the baseline, African American, is   531.00. "
   ]
  },
  {
   "cell_type": "code",
   "metadata": {
    "ExecuteTime": {
     "end_time": "2025-10-02T08:44:07.787152Z",
     "start_time": "2025-10-02T08:44:07.779249Z"
    }
   },
   "source": [
    "# Following Example 4.7\n",
    "# Initiate dummy variable with zeros:\n",
    "ethnicity = np.zeros((len(balance),2))\n",
    "# Find indices \n",
    "indices_Asi = df[df['Ethnicity'] == 'Asian'].index.values\n",
    "indices_Cau = df[df['Ethnicity'] == 'Caucasian'].index.values\n",
    "# Set values\n",
    "ethnicity[indices_Asi, 0] = 1\n",
    "ethnicity[indices_Cau, 1] = 1\n",
    "\n",
    "# Fit model\n",
    "ethnicity_sm = sm.add_constant(ethnicity)\n",
    "model = sm.OLS(balance, ethnicity_sm).fit()\n",
    "\n",
    "# Print summary:\n",
    "print(model.summary())"
   ],
   "outputs": [
    {
     "name": "stdout",
     "output_type": "stream",
     "text": [
      "                            OLS Regression Results                            \n",
      "==============================================================================\n",
      "Dep. Variable:                Balance   R-squared:                       0.000\n",
      "Model:                            OLS   Adj. R-squared:                 -0.005\n",
      "Method:                 Least Squares   F-statistic:                   0.04344\n",
      "Date:                Thu, 02 Oct 2025   Prob (F-statistic):              0.957\n",
      "Time:                        10:44:07   Log-Likelihood:                -3019.3\n",
      "No. Observations:                 400   AIC:                             6045.\n",
      "Df Residuals:                     397   BIC:                             6057.\n",
      "Df Model:                           2                                         \n",
      "Covariance Type:            nonrobust                                         \n",
      "==============================================================================\n",
      "                 coef    std err          t      P>|t|      [0.025      0.975]\n",
      "------------------------------------------------------------------------------\n",
      "const        531.0000     46.319     11.464      0.000     439.939     622.061\n",
      "x1           -18.6863     65.021     -0.287      0.774    -146.515     109.142\n",
      "x2           -12.5025     56.681     -0.221      0.826    -123.935      98.930\n",
      "==============================================================================\n",
      "Omnibus:                       28.829   Durbin-Watson:                   1.946\n",
      "Prob(Omnibus):                  0.000   Jarque-Bera (JB):               27.395\n",
      "Skew:                           0.581   Prob(JB):                     1.13e-06\n",
      "Kurtosis:                       2.460   Cond. No.                         4.39\n",
      "==============================================================================\n",
      "\n",
      "Notes:\n",
      "[1] Standard Errors assume that the covariance matrix of the errors is correctly specified.\n"
     ]
    }
   ],
   "execution_count": 5
  },
  {
   "cell_type": "markdown",
   "metadata": {},
   "source": [
    "It is estimated that the Asian category will have $ 18.69 $ less debt than the African American category, and that the Caucasian category will have 12.50 less debt than the African American category. However, the p-values associated with the coefficient estimates for the two dummy variables are very large, suggesting no statistical evidence of a real difference in credit card balance between the ethnicities. Once again, the level selected as the baseline category is arbitrary, and the final predictions for each group will be the same regardless of this choice. However, the coefficients and their p-values do depend on the choice of dummy variable coding. Rather than rely on the individual coefficients, we can use an F-test to test \n",
    "\\begin{equation*}\n",
    "H_{0}:\\quad\n",
    "\\beta_{1}\n",
    "=\\beta_{2}\n",
    "=0\n",
    "\\end{equation*}\n",
    "\n",
    "The p-value does not depend on the coding. This F-test has a p-value of 0.96, indicating that we cannot reject the null hypothesis that there is *no* relationship between **balance** and **ethnicity**. "
   ]
  },
  {
   "cell_type": "code",
   "execution_count": null,
   "metadata": {},
   "outputs": [],
   "source": []
  }
 ],
 "metadata": {
  "kernelspec": {
   "display_name": "Python 3",
   "language": "python",
   "name": "python3"
  },
  "language_info": {
   "codemirror_mode": {
    "name": "ipython",
    "version": 3
   },
   "file_extension": ".py",
   "mimetype": "text/x-python",
   "name": "python",
   "nbconvert_exporter": "python",
   "pygments_lexer": "ipython3",
   "version": "3.7.6"
  }
 },
 "nbformat": 4,
 "nbformat_minor": 4
}
