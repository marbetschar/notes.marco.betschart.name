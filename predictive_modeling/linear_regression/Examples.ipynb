{
 "cells": [
  {
   "cell_type": "markdown",
   "metadata": {
    "editable": true,
    "slideshow": {
     "slide_type": ""
    },
    "tags": []
   },
   "source": [
    "# Linear Regression Examples"
   ]
  },
  {
   "cell_type": "markdown",
   "metadata": {
    "editable": true,
    "slideshow": {
     "slide_type": ""
    },
    "tags": []
   },
   "source": [
    "### Example 2.4\n",
    "\n",
    "#### Using statsmodels\n",
    "\n",
    "We are interested in the values of $ \\hat{\\beta}_{0} $ and $ \\hat{\\beta}_{1} $ for the **Advertising** data. By means of the **Python**-function **OLS()**, we can easily determine those values:"
   ]
  },
  {
   "cell_type": "code",
   "execution_count": 6,
   "metadata": {
    "editable": true,
    "slideshow": {
     "slide_type": ""
    },
    "tags": []
   },
   "outputs": [
    {
     "name": "stdout",
     "output_type": "stream",
     "text": [
      "                            OLS Regression Results                            \n",
      "==============================================================================\n",
      "Dep. Variable:                  sales   R-squared:                       0.612\n",
      "Model:                            OLS   Adj. R-squared:                  0.610\n",
      "Method:                 Least Squares   F-statistic:                     312.1\n",
      "Date:                Wed, 02 Mar 2022   Prob (F-statistic):           1.47e-42\n",
      "Time:                        08:34:12   Log-Likelihood:                -519.05\n",
      "No. Observations:                 200   AIC:                             1042.\n",
      "Df Residuals:                     198   BIC:                             1049.\n",
      "Df Model:                           1                                         \n",
      "Covariance Type:            nonrobust                                         \n",
      "==============================================================================\n",
      "                 coef    std err          t      P>|t|      [0.025      0.975]\n",
      "------------------------------------------------------------------------------\n",
      "const          7.0326      0.458     15.360      0.000       6.130       7.935\n",
      "TV             0.0475      0.003     17.668      0.000       0.042       0.053\n",
      "==============================================================================\n",
      "Omnibus:                        0.531   Durbin-Watson:                   1.935\n",
      "Prob(Omnibus):                  0.767   Jarque-Bera (JB):                0.669\n",
      "Skew:                          -0.089   Prob(JB):                        0.716\n",
      "Kurtosis:                       2.779   Cond. No.                         338.\n",
      "==============================================================================\n",
      "\n",
      "Notes:\n",
      "[1] Standard Errors assume that the covariance matrix of the errors is correctly specified.\n"
     ]
    }
   ],
   "source": [
    "import pandas as pd\n",
    "import statsmodels.api as sm\n",
    "\n",
    "# Load data\n",
    "df = pd.read_csv('./data/Advertising.csv')\n",
    "x = df['TV']\n",
    "y = df['sales']\n",
    "\n",
    "# Linear Regression using statsmodels.api\n",
    "x_sm = sm.add_constant(x)\n",
    "model = sm.OLS(y, x_sm).fit()\n",
    "\n",
    "# Now we can print a summary, \n",
    "print(model.summary())"
   ]
  },
  {
   "cell_type": "markdown",
   "metadata": {},
   "source": [
    "The coefficients are listed under **(coef)**. Here **const** corresponds to $ \\hat{\\beta}_{0} $, thus to the intercept with the $ y $-axis, and the **TV** corresponds to the slope of the regression line, thus to $ \\hat{\\beta}_{1} $."
   ]
  },
  {
   "cell_type": "markdown",
   "metadata": {
    "editable": true,
    "slideshow": {
     "slide_type": ""
    },
    "tags": []
   },
   "source": [
    "####  Using sklearn"
   ]
  },
  {
   "cell_type": "code",
   "execution_count": 2,
   "metadata": {
    "editable": true,
    "slideshow": {
     "slide_type": ""
    },
    "tags": []
   },
   "outputs": [
    {
     "name": "stdout",
     "output_type": "stream",
     "text": [
      "Coefficients: \n",
      " [0.0475] \n",
      "Intercept: \n",
      " 7.0326\n"
     ]
    }
   ],
   "source": [
    "import numpy as np\n",
    "from sklearn.linear_model import LinearRegression\n",
    "\n",
    "x = [[x[i]] for i in range(len(x))]\n",
    "\n",
    "# Linear Regression using sklearn\n",
    "linreg = LinearRegression()\n",
    "linreg.fit(x, y)\n",
    "\n",
    "print('Coefficients: \\n', np.round(linreg.coef_, 4),\n",
    "      '\\nIntercept: \\n', np.round(linreg.intercept_, 4))"
   ]
  },
  {
   "cell_type": "markdown",
   "metadata": {},
   "source": [
    "Our regression model then is given by\n",
    "\\begin{equation*}\n",
    "Y\n",
    "\\approx 7.03+0.0475X\n",
    "\\end{equation*}\n",
    "According to this approximation, an additional CHF 1000 spent on TV advertising is associated with selling approximately 47.5 additional units of the product. \n"
   ]
  },
  {
   "cell_type": "code",
   "execution_count": 3,
   "metadata": {},
   "outputs": [
    {
     "data": {
      "image/png": "[encoded data removed]",
      "text/plain": [
       "<Figure size 432x432 with 1 Axes>"
      ]
     },
     "metadata": {
      "needs_background": "light"
     },
     "output_type": "display_data"
    }
   ],
   "source": [
    "import matplotlib.pyplot as plt\n",
    "\n",
    "# Predicted y\n",
    "y_pred = model.predict(x_sm)\n",
    "\n",
    "# Create figure and plot\n",
    "fig = plt.figure(figsize=(6, 6))\n",
    "ax = fig.add_subplot(1, 1, 1)\n",
    "plt.plot(df['TV'], y, marker='o', linestyle='None', \n",
    "         color='darkcyan', markersize='3', label=\"Data\")\n",
    "plt.plot(df['TV'], y_pred, 'b-', label=\"Predction\")\n",
    "# Set labels and Legend\n",
    "ax.set_xlabel('TV')\n",
    "ax.set_ylabel('Sales')\n",
    "plt.legend()\n",
    "plt.show()"
   ]
  },
  {
   "cell_type": "markdown",
   "metadata": {},
   "source": [
    "1. The **Python**-function **statsmodels.api.OLS()** uses Ordinary Least Squares to fit the *linear model*.\n",
    "1. Be aware of the (default) order of the function parameters **x** and **y** in **sm.OLS(y, x)**.\n",
    "1. If **x** is a one-dimensional vector, it needs to be preprocessed using **sm.add\\_constant(x)**."
   ]
  },
  {
   "cell_type": "code",
   "execution_count": 5,
   "metadata": {
    "editable": true,
    "slideshow": {
     "slide_type": ""
    },
    "tags": []
   },
   "outputs": [
    {
     "data": {
      "text/plain": [
       "3.258656368650463"
      ]
     },
     "execution_count": 5,
     "metadata": {},
     "output_type": "execute_result"
    }
   ],
   "source": [
    "np.sqrt(model.mse_resid)"
   ]
  },
  {
   "cell_type": "markdown",
   "metadata": {
    "editable": true,
    "slideshow": {
     "slide_type": ""
    },
    "tags": []
   },
   "source": [
    "### Example 3.1\n",
    "\n",
    "In this example we assume that we know the *true* relationship between \n",
    "$X$ and $Y$, which is \n",
    "\\begin{equation}\n",
    "f(X) =2+3X \n",
    "\\end{equation}\n",
    "\n",
    "However, in practice we will never observe this perfect relationship, but \n",
    "\\begin{equation}\n",
    "Y=f(X)+\\epsilon =2+3X +\\epsilon\n",
    "\\end{equation}\n",
    "\n",
    "We call $f(X)=2+3x$ the *population regression line*, which is the best linear approximation to the true relationship between $X$ and $Y$. If we now observe realizations of $X$ and $Y$, we can determine the *least squares line*\n",
    "\\begin{equation*}\n",
    "Y=\\beta_0 + \\beta_1 X + \\epsilon\n",
    "\\end{equation*}\n",
    "\n",
    "by estimating $\\beta_0$ and $\\beta_1$ according to the equation. \n",
    "\n",
    "Let us simulate the observed data $X$ and $Y$  from the model\n",
    "\\begin{equation*}\n",
    "Y=2+3X+\\epsilon\n",
    "\\end{equation*}\n",
    "\n",
    "where $ \\epsilon $ is normally distributed with mean 0, thus $ \\epsilon\\sim\\mathcal{N}(0,\\sigma^{2}) $. We create 100 random values of $ X $, and generate 100 corresponding values of $Y$ from the model $Y=2+3X+\\epsilon$"
   ]
  },
  {
   "cell_type": "code",
   "execution_count": 4,
   "metadata": {
    "editable": true,
    "slideshow": {
     "slide_type": ""
    },
    "tags": []
   },
   "outputs": [],
   "source": [
    "import numpy as np\n",
    "\n",
    "n = 100  # number of datapoints\n",
    "\n",
    "# crate data around y=ax+b\n",
    "a, b = 3, 2\n",
    "x = np.sort(np.random.uniform(low=-2, high=2, size=(n)))\n",
    "\n",
    "y = b + a*x + np.random.normal(loc=0.0, scale=4, size=n)\n",
    "\n",
    "\n",
    "x_true = np.linspace(-2, 2, n)\n",
    "y_true = b + a*x_true"
   ]
  },
  {
   "cell_type": "markdown",
   "metadata": {},
   "source": [
    "We can now plot a number of randomly generated datapoints and the found regression line. "
   ]
  },
  {
   "cell_type": "code",
   "execution_count": 5,
   "metadata": {},
   "outputs": [
    {
     "data": {
      "image/png": "[encoded data removed]",
      "text/plain": [
       "<Figure size 1008x288 with 3 Axes>"
      ]
     },
     "metadata": {
      "needs_background": "light"
     },
     "output_type": "display_data"
    }
   ],
   "source": [
    "import matplotlib.pyplot as plt\n",
    "import statsmodels.api as sm\n",
    "\n",
    "# Create figure and plot\n",
    "fig = plt.figure(figsize=(14, 4))\n",
    "for i in range(3):\n",
    "    ax = fig.add_subplot(1, 3, i+1)\n",
    "    \n",
    "    # Random data along known function:\n",
    "    x = np.sort(np.random.uniform(low=-2, high=2, size=n))\n",
    "    x_sm = sm.add_constant(x)\n",
    "    y = 2 + 3*x + np.random.normal(loc=0.0, scale=4, size=n)\n",
    "    # Linear Regression and prediction:\n",
    "    model = sm.OLS(y, x_sm).fit()\n",
    "    y_pred = model.predict(x_sm)\n",
    "    \n",
    "    # Data points:\n",
    "    plt.plot(x, y, marker='o', linestyle='None', \n",
    "             color='darkcyan', markersize='3', label=\"Data\")\n",
    "    # True line:\n",
    "    plt.plot(x_true, y_true, 'r-', label=\"True\")\n",
    "    # Predicted line:\n",
    "    plt.plot(x, y_pred, 'b-', label=\"Prediction\")\n",
    "\n",
    "    # Set labels and Legend\n",
    "    ax.set_xlabel('x'), ax.set_ylabel('y')\n",
    "    ax.set_xlim(-2, 2), ax.set_ylim(-10, 10)\n",
    "    plt.legend()\n",
    "\n",
    "plt.tight_layout()\n",
    "plt.show()"
   ]
  },
  {
   "cell_type": "markdown",
   "metadata": {},
   "source": [
    "The red line represents the plot of the function  $ f(X)=2+3X $, which remains identical in all three simulations. The blue line is the least squares line that was constructed by means of the least squares estimates for the simulated data.  Each least squares line is different, but on average, the least squares lines are quite close to the population regression line.\n",
    "\n",
    "In the next figure we have generated ten different data sets from the model given by $Y  = 2+3X +\\epsilon$ and plotted the corresponding ten least squares lines. Notice that different data sets generated from the same true model result in slightly different least squares lines, but the unobserved population regression line does not change. "
   ]
  },
  {
   "cell_type": "code",
   "execution_count": 13,
   "metadata": {
    "editable": true,
    "slideshow": {
     "slide_type": ""
    },
    "tags": []
   },
   "outputs": [
    {
     "data": {
      "image/png": "[encoded data removed]",
      "text/plain": [
       "<Figure size 432x288 with 1 Axes>"
      ]
     },
     "metadata": {
      "needs_background": "light"
     },
     "output_type": "display_data"
    }
   ],
   "source": [
    "n_lines = 100 # number of iterations\n",
    "\n",
    "# Create figure and plot\n",
    "fig = plt.figure(figsize=(6,4))\n",
    "ax = fig.add_subplot(1, 1, 1)\n",
    "\n",
    "for i in range(n_lines):\n",
    "    # Random data allong known function:\n",
    "    x = np.sort(np.random.uniform(low=-2, high=2, size=n))\n",
    "    x_sm = sm.add_constant(x)\n",
    "    y = 2 + 3*x + np.random.normal(loc=0.0, scale=4, size=n)\n",
    "    # Linear Regression and prediction:\n",
    "    model = sm.OLS(y, x_sm).fit()\n",
    "    y_pred = model.predict(x_sm)\n",
    "\n",
    "    # Predicted line:\n",
    "    plt.plot(x, y_pred, 'b-', alpha=0.7)\n",
    "# True line:\n",
    "plt.plot(x_true, y_true, 'r-', label=\"True\")\n",
    "# Set labels and Legend\n",
    "ax.set_xlabel('x'), ax.set_ylabel('y')\n",
    "ax.set_xlim(-2, 2), ax.set_ylim(-10, 10)\n",
    "\n",
    "plt.show()"
   ]
  },
  {
   "cell_type": "markdown",
   "metadata": {
    "editable": true,
    "slideshow": {
     "slide_type": ""
    },
    "tags": []
   },
   "source": [
    "### Example 3.3\n",
    "For the **Advertising** data we can determine the standard errors of the estimated coefficients with the help of **Python**:"
   ]
  },
  {
   "cell_type": "code",
   "execution_count": 1,
   "metadata": {
    "editable": true,
    "slideshow": {
     "slide_type": ""
    },
    "tags": []
   },
   "outputs": [
    {
     "name": "stdout",
     "output_type": "stream",
     "text": [
      "                            OLS Regression Results                            \n",
      "==============================================================================\n",
      "Dep. Variable:                  sales   R-squared:                       0.612\n",
      "Model:                            OLS   Adj. R-squared:                  0.610\n",
      "Method:                 Least Squares   F-statistic:                     312.1\n",
      "Date:                Fri, 25 Feb 2022   Prob (F-statistic):           1.47e-42\n",
      "Time:                        17:56:43   Log-Likelihood:                -519.05\n",
      "No. Observations:                 200   AIC:                             1042.\n",
      "Df Residuals:                     198   BIC:                             1049.\n",
      "Df Model:                           1                                         \n",
      "Covariance Type:            nonrobust                                         \n",
      "==============================================================================\n",
      "                 coef    std err          t      P>|t|      [0.025      0.975]\n",
      "------------------------------------------------------------------------------\n",
      "const          7.0326      0.458     15.360      0.000       6.130       7.935\n",
      "TV             0.0475      0.003     17.668      0.000       0.042       0.053\n",
      "==============================================================================\n",
      "Omnibus:                        0.531   Durbin-Watson:                   1.935\n",
      "Prob(Omnibus):                  0.767   Jarque-Bera (JB):                0.669\n",
      "Skew:                          -0.089   Prob(JB):                        0.716\n",
      "Kurtosis:                       2.779   Cond. No.                         338.\n",
      "==============================================================================\n",
      "\n",
      "Notes:\n",
      "[1] Standard Errors assume that the covariance matrix of the errors is correctly specified.\n"
     ]
    }
   ],
   "source": [
    "import pandas as pd\n",
    "import statsmodels.api as sm\n",
    "\n",
    "# Load data\n",
    "df = pd.read_csv('./data/Advertising.csv')\n",
    "x = df['TV']\n",
    "y = df['sales']\n",
    "\n",
    "# Linear Regression using statsmodels.api\n",
    "x_sm = sm.add_constant(x)\n",
    "model = sm.OLS(y, x_sm).fit()\n",
    "\n",
    "# Now we can print a summary, \n",
    "print(model.summary())"
   ]
  },
  {
   "cell_type": "markdown",
   "metadata": {},
   "source": [
    "In the table under **coef**, the listed values are $\\hat{\\beta}_{0} $ and $ \\hat{\\beta}_{1} $. In the column **Std.\\,Error** we find the values $ 0.457843 $  and $ 0.002691 $ for the two standard errors $ se (\\hat{\\beta}_{0}) $ and  $ se (\\hat{\\beta}_{1}) $. They correspond to the average deviations of the estimated values of $\\hat{\\beta}_{0} $ and $ \\hat{\\beta}_{1} $ which are $ 7.0326 $ and $ 0.04754 $.\n",
    "In the right top part, we find some constants describing the fit, for example **R-squared** which is the portion of variance explained by the fit. "
   ]
  },
  {
   "cell_type": "markdown",
   "metadata": {
    "editable": true,
    "slideshow": {
     "slide_type": ""
    },
    "tags": []
   },
   "source": [
    "### Example 3.4\n",
    "For the **Advertising** data, we want to compute the p-value of  $\\beta_1$  of the least squares model for the regression of number of units sold on TV advertising budget.\n",
    "\n",
    "The least squares estimate for $\\beta_1$ is 0.047537 and the standard error of $\\hat{\\beta}_1$.\n",
    "\n",
    "Hence, we find for the realization of the statistic $T$\n",
    "\\begin{equation*}\n",
    "t\n",
    "=\\dfrac{\\hat{\\beta}_{1}-0}{se (\\hat{\\beta}_{1})}\n",
    "=\\dfrac{0.047537-0}{0.002691}\n",
    "=17.66518\n",
    "\\end{equation*}\n",
    "\n",
    "\n",
    "Furthermore, we find in the **Python**-output, that the number of degrees of freedom is $198$, which is listed under **Df Residuals**. The number of degrees of freedom is given by  $n-2$, it follows that in total there are $n=200$ data points. This number corresponds to the number of markets in the data set **Advertising**.\n",
    "\n",
    "Since the coefficient for $\\hat{\\beta}_1$ is very large relative to its standard error, so the t-statistic is also large. The probability of seeing such a value if $H_{0}$ is true is virtually zero. Hence we can conclude that $\\beta_{1}\\neq 0$. \n",
    "\n",
    "We now will compute the p-value, that is, the probability of observing a value of the t-statistic larger than $|t|=17.66518$. Assuming $\\beta_1=0$, $T$ will follow a t-distribution with  $n-2=198$ degrees of freedom. Then the (two-sided) p-value can be determined with the help of **Python**"
   ]
  },
  {
   "cell_type": "code",
   "execution_count": 5,
   "metadata": {
    "editable": true,
    "slideshow": {
     "slide_type": ""
    },
    "tags": []
   },
   "outputs": [
    {
     "name": "stdout",
     "output_type": "stream",
     "text": [
      "0.0\n"
     ]
    }
   ],
   "source": [
    "from scipy.stats import t\n",
    "\n",
    "p_two_sided = 2 * (1 - t.cdf(17.66518, 198))\n",
    "print(p_two_sided)"
   ]
  },
  {
   "cell_type": "markdown",
   "metadata": {},
   "source": [
    "Since the alternative hypothesis is two-sided, we need to multiply the one-sided p-value by two in order to obtain the two-sided p-value. \n",
    "The corresponding  p-value : $0.000$ is listed under **P(>|t|)**. Since it is zero, hence smaller than a siginificance level of $ 0.05 $ , we *reject* the null hypothesis  $\\beta_{1}=0$ in favor of the alternative hypothesis $\\beta_{1}\\neq 0 $. We therefore find that there clearly is a relationship between **TV** and **sales**."
   ]
  },
  {
   "cell_type": "markdown",
   "metadata": {
    "editable": true,
    "slideshow": {
     "slide_type": ""
    },
    "tags": []
   },
   "source": [
    "### Example 3.5\n",
    "\n",
    "In the case of the **Advertising** data, the 95% confidence interval can be found with the help of the **conf\\_int**-function: "
   ]
  },
  {
   "cell_type": "code",
   "execution_count": 6,
   "metadata": {
    "editable": true,
    "slideshow": {
     "slide_type": ""
    },
    "tags": []
   },
   "outputs": [
    {
     "name": "stdout",
     "output_type": "stream",
     "text": [
      "            0       1\n",
      "const  6.1297  7.9355\n",
      "TV     0.0422  0.0528\n"
     ]
    }
   ],
   "source": [
    "import numpy as np\n",
    "# Confidence interval found using conf_int method\n",
    "print(np.round(model.conf_int(alpha=0.05), 4))"
   ]
  },
  {
   "cell_type": "markdown",
   "metadata": {},
   "source": [
    "The 95%-confidence interval for $\\beta_{0}$ thus is\n",
    "\\begin{equation*}\n",
    "[6.130,7.935]\n",
    "\\end{equation*}\n",
    "and the 95%-confidence interval for $\\beta_{1}$\n",
    "\\begin{equation*}\n",
    "[0.042,0.053]\n",
    "\\end{equation*}\n",
    "Therefore, we can conclude that in the absence of any advertising, sales will, on average, fall somewhere between $ 6130 $ and $ 7935 $ units. Furthermore, for each  CHF 1000 increase in television advertising, there will be an average increase in sales of between 42 and 53 units. "
   ]
  },
  {
   "cell_type": "markdown",
   "metadata": {},
   "source": [
    "1. The exact formula for the 95% confidence interval for the regression coefficient $\\beta_i$ is\n",
    "\n",
    "\\begin{equation*}\n",
    "\\left [\n",
    "\\hat{\\beta}_i- t_{0.975;n-2}\\cdot se (\\hat{\\beta}_{i}),\\hat{\\beta}_{i}+ t_{0.975;n-2}\\cdot se (\\hat{\\beta}_{i})\n",
    "\\right ]\n",
    "\\end{equation*}\n",
    "\n",
    "where $t_{0.975;n-1}$ is the 97.5% quantile of a t-distribution with  $n-2$ degrees of freedom. \n",
    "\n",
    "2. With **Python** we determine the  97.5% quantile of a t-distribution as follows"
   ]
  },
  {
   "cell_type": "code",
   "execution_count": 7,
   "metadata": {},
   "outputs": [
    {
     "name": "stdout",
     "output_type": "stream",
     "text": [
      "2.1009\n"
     ]
    }
   ],
   "source": [
    "# the 97.5% quantile of a t-distribution:\n",
    "q_975 = t.ppf(0.975, 18)\n",
    "print(np.round(q_975, 4))"
   ]
  },
  {
   "cell_type": "markdown",
   "metadata": {},
   "source": [
    "which is approximately 2."
   ]
  },
  {
   "cell_type": "markdown",
   "metadata": {
    "editable": true,
    "slideshow": {
     "slide_type": ""
    },
    "tags": []
   },
   "source": [
    "### Example 4.2 \n",
    "For the **Advertising** data set we determine the 95% confidence intervals for the following values of **TV** : $ 3 $, $ 100 $ and $ 275 $"
   ]
  },
  {
   "cell_type": "code",
   "execution_count": 1,
   "metadata": {
    "editable": true,
    "slideshow": {
     "slide_type": ""
    },
    "tags": []
   },
   "outputs": [
    {
     "name": "stdout",
     "output_type": "stream",
     "text": [
      "      mean  mean_se  mean_ci_lower  mean_ci_upper  obs_ci_lower  obs_ci_upper\n",
      "0   7.1752   0.4509         6.2860         8.0644        0.6879       13.6626\n",
      "1  11.7863   0.2629        11.2678        12.3047        5.3393       18.2333\n",
      "2  20.1052   0.4143        19.2882        20.9221       13.6273       26.5830\n"
     ]
    }
   ],
   "source": [
    "import numpy as np\n",
    "import pandas as pd\n",
    "import statsmodels.api as sm\n",
    "\n",
    "# Load data\n",
    "df = pd.read_csv('./data/Advertising.csv')\n",
    "x = df['TV']\n",
    "y = df['sales']\n",
    "\n",
    "# Fit Linear Model\n",
    "x = sm.add_constant(x)\n",
    "model = sm.OLS(y,x).fit()\n",
    "\n",
    "# Prediction at points 3, 100 and 270\n",
    "x0 = [3, 100, 275]\n",
    "x0 = sm.add_constant(x0)\n",
    "\n",
    "predictionsx0 = model.get_prediction(x0)\n",
    "predictionsx0 = predictionsx0.summary_frame(alpha=0.05)\n",
    "predictionsx0 = np.round(predictionsx0, 4)\n",
    "print(predictionsx0)"
   ]
  },
  {
   "cell_type": "markdown",
   "metadata": {},
   "source": [
    "In the **Python**-output, the values \n",
    "\\begin{equation*}\n",
    "\\hat{y}_{0}\n",
    "=\\hat{\\beta}_{0}+\\hat{\\beta}_{1}x_{0}\n",
    "\\end{equation*} \n",
    "\n",
    "can be found under **mean**; they correspond to the $y$-values on the regression line, thus to the predicted response given a predictor value. \n",
    "Under **mean ci lower** the lower limits, under **mean ci upper** the upper limits of the corresponding confidence intervals can be found. \n",
    "\n",
    "For the value $ x_{0}=100 $ the 95% confidence interval is given by\n",
    "\\begin{equation*}\n",
    "[11.268,12.305]\n",
    "\\end{equation*}\n",
    "The expected value of $\\hat{y}_0$ given the predictor value $ x_{0}=100 $ is contained in this interval with a probability of  95%. \n",
    "\n",
    "We can visualize confidence intervals for the expected response variable given an intervall of predictor values. In the next figure the regression line is plotted in blue. The green curves correspond to the lower and upper limits of the confidence intervals given a $ x_{0} $. The red lines represent the 95% confidence intervals for the values $ x_{0}=3, 100$ and $ 275 $. These intervals contain with a probability of 95% the corresponding expected values of $\\hat{y}_{0} $.  "
   ]
  },
  {
   "cell_type": "code",
   "execution_count": 5,
   "metadata": {},
   "outputs": [
    {
     "data": {
      "image/png": "[encoded data removed]",
      "text/plain": [
       "<Figure size 576x432 with 1 Axes>"
      ]
     },
     "metadata": {
      "needs_background": "light"
     },
     "output_type": "display_data"
    }
   ],
   "source": [
    "import matplotlib.pyplot as plt\n",
    "\n",
    "x = np.linspace(0, 300)\n",
    "x_sm = sm.add_constant(x)\n",
    "\n",
    "# Predictions\n",
    "predictionsx = model.get_prediction(x_sm)\n",
    "# at 95% confidence:\n",
    "predictionsx = predictionsx.summary_frame(alpha=0.05)\n",
    "\n",
    "# Create figure and plot\n",
    "fig = plt.figure(figsize=(8, 6))\n",
    "ax = fig.add_subplot(1, 1, 1)\n",
    "# prediction\n",
    "plt.plot(x, predictionsx.loc[:,'mean'], 'b-')\n",
    "# upper and lower boundaries at 95%\n",
    "plt.plot(x, predictionsx.loc[:,'mean_ci_lower'], 'c-')\n",
    "plt.plot(x, predictionsx.loc[:,'mean_ci_upper'], 'c-')\n",
    "# lines of the three points in x0:\n",
    "for i in range(len(x0)):\n",
    "    plt.plot([x0[i, 1], x0[i, 1]], \n",
    "             [0, predictionsx0.loc[:,'mean_ci_lower'][i]], 'k:' )\n",
    "    plt.plot([x0[i, 1], x0[i, 1]], \n",
    "             [predictionsx0.loc[:,'mean_ci_lower'][i], \n",
    "              predictionsx0.loc[:,'mean_ci_upper'][i]], 'r-' )\n",
    "\n",
    "# Set labels and Legend\n",
    "ax.set_xlabel('TV')\n",
    "ax.set_ylabel('Sales')\n",
    "\n",
    "plt.show()"
   ]
  },
  {
   "cell_type": "markdown",
   "metadata": {
    "editable": true,
    "slideshow": {
     "slide_type": ""
    },
    "tags": []
   },
   "source": [
    "### Example 4.4\n",
    "In the case of the **Advertising** data we determine the 95% prediction intervals for the $x$-values $ 3 $, $ 100 $ and $ 225 $ from the same results as provided in the previous example. "
   ]
  },
  {
   "cell_type": "markdown",
   "metadata": {
    "editable": true,
    "slideshow": {
     "slide_type": ""
    },
    "tags": []
   },
   "source": [
    "Under **mean** the predicted $y$-values on the regression line \n",
    "\\begin{equation*}\n",
    "\\hat{y}_{0}\n",
    "=\\hat{\\beta}_{0}+\\hat{\\beta}_{1}x_{0}\n",
    "\\end{equation*} \n",
    "can be found.\n",
    "\n",
    "**obs ci lower** displays the lower limits and **obs ci upper** the upper limits of the prediction intervals for the given $x$-values.\n",
    "\n",
    "For the predictor value $ x_{0}=100 $ the 95% prediction interval is given by\n",
    "\\begin{equation*}\n",
    "[5.339,18.233]\n",
    "\\end{equation*}\n",
    "A future observation $y_0 $ for given $ x_{0}=100 $ will fall with a probability of 95% into this interval. As we can observe, the prediction interval thus is clearly larger than the confidence interval for the expected value of $\\hat{y}_0=\\hat{\\beta}_0+\\hat{\\beta}_1 x_{0}$.   \n",
    "\n",
    "It is again very instructive to visualize the point-wise prediction intervals. The following figure displays the regression line in blue. The green curves represent the upper and lower limits of the prediction intervals for future observations. The red lines correspond to 95% prediction intervals for  $ x_{0}=3, 100 ,275 $. These intervals contain with a probability of  95% the true values of the corresponding future observations $ y_{0} $."
   ]
  },
  {
   "cell_type": "code",
   "execution_count": 3,
   "metadata": {},
   "outputs": [
    {
     "data": {
      "image/png": "[encoded data removed]",
      "text/plain": [
       "<Figure size 576x432 with 1 Axes>"
      ]
     },
     "metadata": {
      "needs_background": "light"
     },
     "output_type": "display_data"
    }
   ],
   "source": [
    "x = np.linspace(0, 300)\n",
    "x_sm = sm.add_constant(x)\n",
    "\n",
    "# Predictions\n",
    "predictionsx = model.get_prediction(x_sm)\n",
    "# at 95% confidence:\n",
    "predictionsx = predictionsx.summary_frame(alpha=0.05)\n",
    "\n",
    "# Create figure and plot\n",
    "fig = plt.figure(figsize=(8, 6))\n",
    "ax = fig.add_subplot(1, 1, 1)\n",
    "# prediction\n",
    "plt.plot(x, predictionsx.loc[:,'mean'], 'b-')\n",
    "# upper and lower boundaries at 95%\n",
    "plt.plot(x, predictionsx.loc[:,'obs_ci_lower'], 'c-')\n",
    "plt.plot(x, predictionsx.loc[:,'obs_ci_upper'], 'c-')\n",
    "# lines of the three points in x0:\n",
    "for i in range(len(x0)):\n",
    "    plt.plot([x0[i, 1], x0[i, 1]], \n",
    "             [0, predictionsx0.loc[:,'obs_ci_lower'][i]], 'k:' )\n",
    "    plt.plot([x0[i, 1], x0[i, 1]], \n",
    "             [predictionsx0.loc[:,'obs_ci_lower'][i], \n",
    "              predictionsx0.loc[:,'obs_ci_upper'][i]], 'r-' )\n",
    "\n",
    "# Set labels and Legend\n",
    "ax.set_xlabel('TV')\n",
    "ax.set_ylabel('Sales')\n",
    "\n",
    "plt.show()"
   ]
  }
 ],
 "metadata": {
  "kernelspec": {
   "display_name": "Python 3 (ipykernel)",
   "language": "python",
   "name": "python3"
  },
  "language_info": {
   "codemirror_mode": {
    "name": "ipython",
    "version": 3
   },
   "file_extension": ".py",
   "mimetype": "text/x-python",
   "name": "python",
   "nbconvert_exporter": "python",
   "pygments_lexer": "ipython3",
   "version": "3.9.6"
  }
 },
 "nbformat": 4,
 "nbformat_minor": 4
}
