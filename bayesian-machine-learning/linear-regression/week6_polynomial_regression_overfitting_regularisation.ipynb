{
 "cells": [
  {
   "cell_type": "markdown",
   "id": "bbf92c91-9247-48c0-9089-9469a923475d",
   "metadata": {},
   "source": [
    "# Polynomial Regression, Overfitting and Regularisation"
   ]
  },
  {
   "cell_type": "markdown",
   "id": "8b9559dd-feee-4f3b-9192-8eb6d3ef21b6",
   "metadata": {},
   "source": [
    "Import necessary modules:"
   ]
  },
  {
   "cell_type": "code",
   "execution_count": 1,
   "id": "c888abab-71e7-464c-9a74-d066560fc64e",
   "metadata": {},
   "outputs": [],
   "source": [
    "import numpy as np\n",
    "import arviz as az\n",
    "import matplotlib.pyplot as plt\n",
    "import pandas as pd\n",
    "import seaborn as sns\n",
    "from scipy import stats\n",
    "from scipy.special import gamma\n",
    "import preliz as pz\n",
    "import matplotlib as mpl\n",
    "import pymc as pm\n",
    "import bambi as bmb"
   ]
  },
  {
   "cell_type": "code",
   "execution_count": 2,
   "id": "e2d8c1e3-2e5e-4f20-876c-0a8b17dd15d7",
   "metadata": {},
   "outputs": [],
   "source": [
    "plt.style.use('ggplot')\n",
    "plt.rcParams[\"figure.figsize\"] = (12,3)"
   ]
  },
  {
   "cell_type": "markdown",
   "id": "7f32beff-ccf9-4d6d-81eb-2f67d0cc0566",
   "metadata": {},
   "source": [
    "## Create small sample"
   ]
  },
  {
   "cell_type": "code",
   "execution_count": 3,
   "id": "472eac87-129a-4612-a1da-3b967e380281",
   "metadata": {},
   "outputs": [
    {
     "data": {
      "text/plain": [
       "<Axes: xlabel='BMI', ylabel='BodyFat'>"
      ]
     },
     "execution_count": 3,
     "metadata": {},
     "output_type": "execute_result"
    },
    {
     "data": {
      "image/png": "[encoded data removed]",
      "text/plain": [
       "<Figure size 1200x300 with 1 Axes>"
      ]
     },
     "metadata": {},
     "output_type": "display_data"
    }
   ],
   "source": [
    "data = pd.read_csv(\"bodyfat.csv\")\n",
    "data_simple = data[data.BMI<35] # remove outliers to avoid using a robust model\n",
    "data_10points = data_simple.sample(10, random_state=3)\n",
    "sns.scatterplot( data=data_10points, x=\"BMI\", y=\"BodyFat\" )"
   ]
  },
  {
   "cell_type": "markdown",
   "id": "fb0b0fda-7331-4153-8596-90d29ed97468",
   "metadata": {},
   "source": [
    "## Fit a linear model"
   ]
  },
  {
   "cell_type": "code",
   "execution_count": 4,
   "id": "8a370695-5e88-4ddf-85b4-fc36993b91b4",
   "metadata": {},
   "outputs": [
    {
     "name": "stderr",
     "output_type": "stream",
     "text": [
      "Initializing NUTS using jitter+adapt_diag...\n",
      "Multiprocess sampling (4 chains in 4 jobs)\n",
      "NUTS: [sigma, Intercept, BMI]\n"
     ]
    },
    {
     "data": {
      "application/vnd.jupyter.widget-view+json": {
       "model_id": "6f722a022f6a4a23a3685eed2b096c37",
       "version_major": 2,
       "version_minor": 0
      },
      "text/plain": [
       "Output()"
      ]
     },
     "metadata": {},
     "output_type": "display_data"
    },
    {
     "data": {
      "text/html": [
       "<pre style=\"white-space:pre;overflow-x:auto;line-height:normal;font-family:Menlo,'DejaVu Sans Mono',consolas,'Courier New',monospace\"></pre>\n"
      ],
      "text/plain": []
     },
     "metadata": {},
     "output_type": "display_data"
    },
    {
     "name": "stderr",
     "output_type": "stream",
     "text": [
      "Sampling 4 chains for 2_000 tune and 2_000 draw iterations (8_000 + 8_000 draws total) took 3 seconds.\n"
     ]
    }
   ],
   "source": [
    "linear_model = bmb.Model(\"BodyFat ~ BMI\", data_10points, family=\"gaussian\")\n",
    "linear_trace = linear_model.fit(draws=2000, tune=2000)"
   ]
  },
  {
   "cell_type": "markdown",
   "id": "1df795a3-f4d7-4e37-b4df-50744c3c0f58",
   "metadata": {},
   "source": [
    "## Fit a polynomial model"
   ]
  },
  {
   "cell_type": "code",
   "execution_count": 5,
   "id": "fd1ae703-24ac-410f-b751-4479e9755528",
   "metadata": {},
   "outputs": [
    {
     "name": "stderr",
     "output_type": "stream",
     "text": [
      "Initializing NUTS using jitter+adapt_diag...\n",
      "Multiprocess sampling (4 chains in 4 jobs)\n",
      "NUTS: [sigma, Intercept, BMI, I(BMI ** 2), I(BMI ** 3)]\n"
     ]
    },
    {
     "data": {
      "application/vnd.jupyter.widget-view+json": {
       "model_id": "7d00d9c433a14a18a56f62feb86c2fe1",
       "version_major": 2,
       "version_minor": 0
      },
      "text/plain": [
       "Output()"
      ]
     },
     "metadata": {},
     "output_type": "display_data"
    },
    {
     "data": {
      "text/html": [
       "<pre style=\"white-space:pre;overflow-x:auto;line-height:normal;font-family:Menlo,'DejaVu Sans Mono',consolas,'Courier New',monospace\"></pre>\n"
      ],
      "text/plain": []
     },
     "metadata": {},
     "output_type": "display_data"
    },
    {
     "name": "stderr",
     "output_type": "stream",
     "text": [
      "Sampling 4 chains for 2_000 tune and 2_000 draw iterations (8_000 + 8_000 draws total) took 11 seconds.\n",
      "There were 177 divergences after tuning. Increase `target_accept` or reparameterize.\n"
     ]
    }
   ],
   "source": [
    "poly_model = bmb.Model(\"BodyFat ~ BMI + I(BMI**2) + I(BMI**3)\", data_10points, family=\"gaussian\")\n",
    "poly_trace = poly_model.fit(draws=2000, tune=2000)"
   ]
  },
  {
   "cell_type": "markdown",
   "id": "8f0f33c2-9c23-4221-944c-c414055f0d22",
   "metadata": {},
   "source": [
    "Slow and full of divergences! Better use orthogonal polynoms using the `poly()` function:"
   ]
  },
  {
   "cell_type": "code",
   "execution_count": 6,
   "id": "4e004b3a-f894-4a26-8d28-efcdcb5aefde",
   "metadata": {},
   "outputs": [
    {
     "name": "stderr",
     "output_type": "stream",
     "text": [
      "Initializing NUTS using jitter+adapt_diag...\n",
      "Multiprocess sampling (4 chains in 4 jobs)\n",
      "NUTS: [sigma, Intercept, poly(BMI, 3)]\n"
     ]
    },
    {
     "data": {
      "application/vnd.jupyter.widget-view+json": {
       "model_id": "2d8e62805fda49b5862425d14db3e242",
       "version_major": 2,
       "version_minor": 0
      },
      "text/plain": [
       "Output()"
      ]
     },
     "metadata": {},
     "output_type": "display_data"
    },
    {
     "data": {
      "text/html": [
       "<pre style=\"white-space:pre;overflow-x:auto;line-height:normal;font-family:Menlo,'DejaVu Sans Mono',consolas,'Courier New',monospace\"></pre>\n"
      ],
      "text/plain": []
     },
     "metadata": {},
     "output_type": "display_data"
    },
    {
     "name": "stderr",
     "output_type": "stream",
     "text": [
      "Sampling 4 chains for 2_000 tune and 2_000 draw iterations (8_000 + 8_000 draws total) took 3 seconds.\n"
     ]
    }
   ],
   "source": [
    "poly_model = bmb.Model(\"BodyFat ~ poly( BMI, 3 )\", data_10points, family=\"gaussian\")\n",
    "poly_trace = poly_model.fit(draws=2000, tune=2000)"
   ]
  },
  {
   "cell_type": "markdown",
   "id": "60194d21-be0c-4e17-a3cc-8939d8c7abd5",
   "metadata": {},
   "source": [
    "## Compare models"
   ]
  },
  {
   "cell_type": "code",
   "execution_count": 7,
   "id": "b4b80577-d81d-48c2-b31a-21c867399818",
   "metadata": {},
   "outputs": [
    {
     "name": "stderr",
     "output_type": "stream",
     "text": [
      "Default computed for conditional variable: BMI\n",
      "Default computed for conditional variable: BMI\n"
     ]
    },
    {
     "data": {
      "text/plain": [
       "Text(0.5, 1.0, 'BodyFat ~ poly(BMI, 3)')"
      ]
     },
     "execution_count": 7,
     "metadata": {},
     "output_type": "execute_result"
    },
    {
     "data": {
      "image/png": "[encoded data removed]",
      "text/plain": [
       "<Figure size 800x400 with 2 Axes>"
      ]
     },
     "metadata": {},
     "output_type": "display_data"
    }
   ],
   "source": [
    "fig, ax = plt.subplots(1, 2, sharey=True, figsize=(8,4) )\n",
    "data_10points.plot.scatter( x=\"BMI\", y=\"BodyFat\", ax=ax[0] )\n",
    "bmb.interpret.plot_predictions( linear_model, linear_trace, \"BMI\", prob=0.9, ax=ax[0] )\n",
    "ax[0].set_title(\"BodyFat ~ BMI\", fontsize=12)\n",
    "data_10points.plot.scatter( x=\"BMI\", y=\"BodyFat\", ax=ax[1] )\n",
    "bmb.interpret.plot_predictions( poly_model, poly_trace, \"BMI\", prob=0.9, ax=ax[1] )\n",
    "ax[1].set_title(\"BodyFat ~ poly(BMI, 3)\", fontsize=12)"
   ]
  },
  {
   "cell_type": "markdown",
   "id": "10b247f1-742a-4bfd-b590-24d7f2c4271e",
   "metadata": {},
   "source": [
    "The polynomial model is clearly overfitting to the noise in the data points."
   ]
  },
  {
   "cell_type": "markdown",
   "id": "037d27fb-2d7a-468f-ae15-bc1df56a6c6e",
   "metadata": {},
   "source": [
    "## Regularisation"
   ]
  },
  {
   "cell_type": "markdown",
   "id": "99c42d71-bbf8-4775-96a1-8490f24cba9b",
   "metadata": {},
   "source": [
    "Look at the model:"
   ]
  },
  {
   "cell_type": "code",
   "execution_count": 8,
   "id": "b5e5d28e-619c-46c3-bce7-a76c5ec8402f",
   "metadata": {},
   "outputs": [
    {
     "data": {
      "text/plain": [
       "       Formula: BodyFat ~ poly( BMI, 3 )\n",
       "        Family: gaussian\n",
       "          Link: mu = identity\n",
       "  Observations: 10\n",
       "        Priors: \n",
       "    target = mu\n",
       "        Common-level effects\n",
       "            Intercept ~ Normal(mu: 19.18, sigma: 13.0928)\n",
       "            poly(BMI, 3) ~ Normal(mu: [0. 0. 0.], sigma: [41.4032 41.4032 41.4032])\n",
       "        \n",
       "        Auxiliary parameters\n",
       "            sigma ~ HalfStudentT(nu: 4.0, sigma: 5.2371)\n",
       "------\n",
       "* To see a plot of the priors call the .plot_priors() method.\n",
       "* To see a summary or plot of the posterior pass the object returned by .fit() to az.summary() or az.plot_trace()"
      ]
     },
     "execution_count": 8,
     "metadata": {},
     "output_type": "execute_result"
    }
   ],
   "source": [
    "poly_model"
   ]
  },
  {
   "cell_type": "markdown",
   "id": "33cb4cd8-6663-49a8-9a9c-24b3e0cc00ea",
   "metadata": {},
   "source": [
    "Weak priors used for all coefficients! Instead shrink the higher order coefficients towards zero with stronger priors:"
   ]
  },
  {
   "cell_type": "code",
   "execution_count": 9,
   "id": "d37e0fc9-4ff9-44e3-a083-1908848fce68",
   "metadata": {},
   "outputs": [
    {
     "name": "stderr",
     "output_type": "stream",
     "text": [
      "Initializing NUTS using jitter+adapt_diag...\n",
      "Multiprocess sampling (4 chains in 4 jobs)\n",
      "NUTS: [sigma, Intercept, poly(BMI, 3)]\n"
     ]
    },
    {
     "data": {
      "application/vnd.jupyter.widget-view+json": {
       "model_id": "f302a81342e149f78aa7dc4d6f0c9ef7",
       "version_major": 2,
       "version_minor": 0
      },
      "text/plain": [
       "Output()"
      ]
     },
     "metadata": {},
     "output_type": "display_data"
    },
    {
     "data": {
      "text/html": [
       "<pre style=\"white-space:pre;overflow-x:auto;line-height:normal;font-family:Menlo,'DejaVu Sans Mono',consolas,'Courier New',monospace\"></pre>\n"
      ],
      "text/plain": []
     },
     "metadata": {},
     "output_type": "display_data"
    },
    {
     "name": "stderr",
     "output_type": "stream",
     "text": [
      "Sampling 4 chains for 2_000 tune and 2_000 draw iterations (8_000 + 8_000 draws total) took 3 seconds.\n"
     ]
    }
   ],
   "source": [
    "priors = {\n",
    "    \"poly(BMI, 3)\": bmb.Prior(\"Normal\", mu=[0,0,0], sigma=[41.4,1,1]),\n",
    "}\n",
    "\n",
    "poly_model2 = bmb.Model(\"BodyFat ~ poly(BMI, 3)\", data_10points, priors=priors, family=\"gaussian\")\n",
    "poly_trace2 = poly_model2.fit(draws=2000, tune=2000)"
   ]
  },
  {
   "cell_type": "code",
   "execution_count": 10,
   "id": "a90e78d4-225b-4f89-9608-3c9c9db168a1",
   "metadata": {},
   "outputs": [
    {
     "name": "stderr",
     "output_type": "stream",
     "text": [
      "Default computed for conditional variable: BMI\n",
      "Default computed for conditional variable: BMI\n"
     ]
    },
    {
     "data": {
      "text/plain": [
       "Text(0.5, 1.0, '$\\\\sigma$ = [41.4, 1, 1] (strong)')"
      ]
     },
     "execution_count": 10,
     "metadata": {},
     "output_type": "execute_result"
    },
    {
     "data": {
      "image/png": "[encoded data removed]",
      "text/plain": [
       "<Figure size 800x400 with 2 Axes>"
      ]
     },
     "metadata": {},
     "output_type": "display_data"
    }
   ],
   "source": [
    "fig, ax = plt.subplots(1, 2, sharey=True, figsize=(8,4) )\n",
    "data_10points.plot.scatter( x=\"BMI\", y=\"BodyFat\", ax=ax[0] )\n",
    "bmb.interpret.plot_predictions( poly_model, poly_trace, \"BMI\", prob=0.9, ax=ax[0] )\n",
    "ax[0].set_title(\"$\\sigma$ = [41.4, 41.4, 41.4] (weak)\", fontsize=12)\n",
    "data_10points.plot.scatter( x=\"BMI\", y=\"BodyFat\", ax=ax[1] )\n",
    "bmb.interpret.plot_predictions( poly_model2, poly_trace2, \"BMI\", prob=0.9, ax=ax[1] )\n",
    "ax[1].set_title(\"$\\sigma$ = [41.4, 1, 1] (strong)\", fontsize=12)"
   ]
  },
  {
   "cell_type": "markdown",
   "id": "b661e42d-0afc-4597-b0ef-2fed2b1b23a4",
   "metadata": {},
   "source": [
    "The model with stronger priors is almost linear!"
   ]
  },
  {
   "cell_type": "markdown",
   "id": "e49b16f6-e843-459f-a3e1-4dbe7539a5cc",
   "metadata": {},
   "source": [
    "## Model Selection"
   ]
  },
  {
   "cell_type": "markdown",
   "id": "43e22073-1625-4eba-b99c-21bc1d2825f2",
   "metadata": {},
   "source": [
    "Model selection should also help us to choose the best polynomial degree!"
   ]
  },
  {
   "cell_type": "markdown",
   "id": "5fc4e316-4292-4581-bdef-00273f378377",
   "metadata": {},
   "source": [
    "### Marginal Likelihood\n",
    "\n",
    "We would expect here that the marginal likelihood is lower for more complex model. Bambi does not have a native option yet to use SMC for training (to get the log marginal likelihood), but we can easily achieve this by accessing the backend:"
   ]
  },
  {
   "cell_type": "code",
   "execution_count": 11,
   "id": "6c474454-1425-4213-a643-9d7c618fd342",
   "metadata": {},
   "outputs": [],
   "source": [
    "def fit_with_smc( bambi_model, **kwargs ):\n",
    "    bambi_model.build()\n",
    "    with bambi_model.backend.model:\n",
    "        trace = pm.sample_smc( **kwargs )\n",
    "    return trace"
   ]
  },
  {
   "cell_type": "markdown",
   "id": "0fbb082d-497c-40c9-a8d7-9bebd4625d6c",
   "metadata": {},
   "source": [
    "Fit all the models with SMC:"
   ]
  },
  {
   "cell_type": "code",
   "execution_count": 12,
   "id": "06f1d66d-0fa3-4c73-bca4-4cdb2aa193ae",
   "metadata": {},
   "outputs": [
    {
     "name": "stderr",
     "output_type": "stream",
     "text": [
      "Initializing SMC sampler...\n",
      "Sampling 4 chains in 4 jobs\n"
     ]
    },
    {
     "data": {
      "application/vnd.jupyter.widget-view+json": {
       "model_id": "b429844a4cfe44078c99e4b4bc169eb0",
       "version_major": 2,
       "version_minor": 0
      },
      "text/plain": [
       "Output()"
      ]
     },
     "metadata": {},
     "output_type": "display_data"
    },
    {
     "data": {
      "text/html": [
       "<pre style=\"white-space:pre;overflow-x:auto;line-height:normal;font-family:Menlo,'DejaVu Sans Mono',consolas,'Courier New',monospace\"></pre>\n"
      ],
      "text/plain": []
     },
     "metadata": {},
     "output_type": "display_data"
    }
   ],
   "source": [
    "linear_model = bmb.Model(\"BodyFat ~ BMI\", data_10points, family=\"gaussian\")\n",
    "linear_trace = fit_with_smc( linear_model, draws=2000, chains=4 )"
   ]
  },
  {
   "cell_type": "code",
   "execution_count": 13,
   "id": "539cdd7e-9f34-4d81-ba88-e96bdfc9246c",
   "metadata": {},
   "outputs": [
    {
     "name": "stderr",
     "output_type": "stream",
     "text": [
      "Initializing SMC sampler...\n",
      "Sampling 4 chains in 4 jobs\n"
     ]
    },
    {
     "data": {
      "application/vnd.jupyter.widget-view+json": {
       "model_id": "06325101f0c34d17a3849ac239897027",
       "version_major": 2,
       "version_minor": 0
      },
      "text/plain": [
       "Output()"
      ]
     },
     "metadata": {},
     "output_type": "display_data"
    },
    {
     "data": {
      "text/html": [
       "<pre style=\"white-space:pre;overflow-x:auto;line-height:normal;font-family:Menlo,'DejaVu Sans Mono',consolas,'Courier New',monospace\"></pre>\n"
      ],
      "text/plain": []
     },
     "metadata": {},
     "output_type": "display_data"
    }
   ],
   "source": [
    "quadratic_model = bmb.Model(\"BodyFat ~ poly(BMI, 2)\", data_10points, family=\"gaussian\")\n",
    "quadratic_trace = fit_with_smc( quadratic_model, draws=2000, chains=4 )"
   ]
  },
  {
   "cell_type": "code",
   "execution_count": 14,
   "id": "640ac8da-6de9-43c5-864c-0d82a74d134f",
   "metadata": {},
   "outputs": [
    {
     "name": "stderr",
     "output_type": "stream",
     "text": [
      "Initializing SMC sampler...\n",
      "Sampling 4 chains in 4 jobs\n"
     ]
    },
    {
     "data": {
      "application/vnd.jupyter.widget-view+json": {
       "model_id": "57d20cd496b54aaa855e2d43de114252",
       "version_major": 2,
       "version_minor": 0
      },
      "text/plain": [
       "Output()"
      ]
     },
     "metadata": {},
     "output_type": "display_data"
    },
    {
     "data": {
      "text/html": [
       "<pre style=\"white-space:pre;overflow-x:auto;line-height:normal;font-family:Menlo,'DejaVu Sans Mono',consolas,'Courier New',monospace\"></pre>\n"
      ],
      "text/plain": []
     },
     "metadata": {},
     "output_type": "display_data"
    }
   ],
   "source": [
    "cubic_model = bmb.Model(\"BodyFat ~ poly(BMI, 3)\", data_10points, family=\"gaussian\")\n",
    "cubic_trace = fit_with_smc( cubic_model, draws=2000, chains=4 )"
   ]
  },
  {
   "cell_type": "markdown",
   "id": "3d376f42-c525-4e44-bc8d-69e7b89c1b63",
   "metadata": {},
   "source": [
    "Extract marginal likelihoods:"
   ]
  },
  {
   "cell_type": "code",
   "execution_count": 15,
   "id": "58013db1-bf32-44bf-aad1-90fa6aadc906",
   "metadata": {},
   "outputs": [
    {
     "data": {
      "text/plain": [
       "(array(-33.98044302), array(-33.91725078), array(-35.7118078))"
      ]
     },
     "execution_count": 15,
     "metadata": {},
     "output_type": "execute_result"
    }
   ],
   "source": [
    "log_ml_linear = linear_trace.sample_stats.log_marginal_likelihood.mean()\n",
    "log_ml_quadratic = quadratic_trace.sample_stats.log_marginal_likelihood.mean()\n",
    "log_ml_cubic = cubic_trace.sample_stats.log_marginal_likelihood.mean()\n",
    "log_ml_linear.values, log_ml_quadratic.values, log_ml_cubic.values"
   ]
  },
  {
   "cell_type": "markdown",
   "id": "0ee22f23-7064-48f7-8e5f-45e23f7ef745",
   "metadata": {},
   "source": [
    "Bayes factors:"
   ]
  },
  {
   "cell_type": "code",
   "execution_count": 16,
   "id": "84b38d49-1c0b-41b7-8873-b8041ea4df06",
   "metadata": {},
   "outputs": [
    {
     "data": {
      "text/plain": [
       "array(1.0652316)"
      ]
     },
     "execution_count": 16,
     "metadata": {},
     "output_type": "execute_result"
    }
   ],
   "source": [
    "BF_quadratic_linear = np.exp( log_ml_quadratic - log_ml_linear )\n",
    "BF_quadratic_linear.values"
   ]
  },
  {
   "cell_type": "code",
   "execution_count": 17,
   "id": "533cf29f-0965-4779-a9e5-5c9c0f0014bb",
   "metadata": {},
   "outputs": [
    {
     "data": {
      "text/plain": [
       "array(0.17704262)"
      ]
     },
     "execution_count": 17,
     "metadata": {},
     "output_type": "execute_result"
    }
   ],
   "source": [
    "BF_cubic_linear = np.exp( log_ml_cubic - log_ml_linear )\n",
    "BF_cubic_linear.values"
   ]
  },
  {
   "cell_type": "code",
   "execution_count": 18,
   "id": "532288aa-6836-4882-bae0-e9ff56bdb801",
   "metadata": {},
   "outputs": [
    {
     "data": {
      "text/plain": [
       "array(0.16620106)"
      ]
     },
     "execution_count": 18,
     "metadata": {},
     "output_type": "execute_result"
    }
   ],
   "source": [
    "BF_cubic_quadratic = np.exp( log_ml_cubic - log_ml_quadratic )\n",
    "BF_cubic_quadratic.values"
   ]
  },
  {
   "cell_type": "markdown",
   "id": "ce0c1cc0-f3b6-4717-8a41-7b20c76450b9",
   "metadata": {},
   "source": [
    "No model is convincingly better than the linear model! The Bayes factor is slightly in favor of the quadratic model, but not in a decisive way, keep the simplest model!"
   ]
  },
  {
   "cell_type": "markdown",
   "id": "3bac9094-71de-4f1f-900b-e0af0d3b2374",
   "metadata": {},
   "source": [
    "### ELPD"
   ]
  },
  {
   "cell_type": "markdown",
   "id": "ccfe0739-5887-477d-8bcd-8c159cb792fa",
   "metadata": {},
   "source": [
    "Compute ELPD for linear model:"
   ]
  },
  {
   "cell_type": "code",
   "execution_count": 19,
   "id": "28832fa1-6ad8-4cc9-b968-6574b2b659c4",
   "metadata": {},
   "outputs": [
    {
     "name": "stderr",
     "output_type": "stream",
     "text": [
      "Initializing NUTS using jitter+adapt_diag...\n",
      "Multiprocess sampling (4 chains in 4 jobs)\n",
      "NUTS: [sigma, Intercept, BMI]\n"
     ]
    },
    {
     "data": {
      "application/vnd.jupyter.widget-view+json": {
       "model_id": "35d01bef44dd4eeea7ef9f66e091035b",
       "version_major": 2,
       "version_minor": 0
      },
      "text/plain": [
       "Output()"
      ]
     },
     "metadata": {},
     "output_type": "display_data"
    },
    {
     "data": {
      "text/html": [
       "<pre style=\"white-space:pre;overflow-x:auto;line-height:normal;font-family:Menlo,'DejaVu Sans Mono',consolas,'Courier New',monospace\"></pre>\n"
      ],
      "text/plain": []
     },
     "metadata": {},
     "output_type": "display_data"
    },
    {
     "name": "stderr",
     "output_type": "stream",
     "text": [
      "Sampling 4 chains for 2_000 tune and 2_000 draw iterations (8_000 + 8_000 draws total) took 3 seconds.\n"
     ]
    }
   ],
   "source": [
    "linear_model = bmb.Model(\"BodyFat ~ BMI\", data_10points, priors=priors, family=\"gaussian\")\n",
    "linear_trace = linear_model.fit(draws=2000, tune=2000)"
   ]
  },
  {
   "cell_type": "code",
   "execution_count": 20,
   "id": "1d27b505-56c9-41ec-bec7-e66dd64b2d90",
   "metadata": {},
   "outputs": [
    {
     "data": {
      "application/vnd.jupyter.widget-view+json": {
       "model_id": "21feb51c0495400a88a90cb08b8827c8",
       "version_major": 2,
       "version_minor": 0
      },
      "text/plain": [
       "Output()"
      ]
     },
     "metadata": {},
     "output_type": "display_data"
    },
    {
     "data": {
      "text/html": [
       "<pre style=\"white-space:pre;overflow-x:auto;line-height:normal;font-family:Menlo,'DejaVu Sans Mono',consolas,'Courier New',monospace\"></pre>\n"
      ],
      "text/plain": []
     },
     "metadata": {},
     "output_type": "display_data"
    },
    {
     "name": "stderr",
     "output_type": "stream",
     "text": [
      "/home/chuwyler/miniconda3/envs/bayesian-machine-learning/lib/python3.11/site-packages/arviz/stats/stats.py:797: UserWarning: Estimated shape parameter of Pareto distribution is greater than 0.70 for one or more samples. You should consider using a more robust model, this is because importance sampling is less likely to work well if the marginal posterior and LOO posterior are very different. This is more likely to happen with a non-robust model and highly influential observations.\n",
      "  warnings.warn(\n"
     ]
    }
   ],
   "source": [
    "with linear_model.backend.model:\n",
    "    pm.compute_log_likelihood(linear_trace)\n",
    "loo_linear = pm.loo( linear_trace )"
   ]
  },
  {
   "cell_type": "markdown",
   "id": "bb110afb-81d9-42a9-a000-be86f3cbb1a9",
   "metadata": {},
   "source": [
    "The PSIS approximation breaks down for a low number of samples. Our principal reason to use PSIS was that in leave-one-out CV we would have to run n MCMC simulations (might be very expensive!). We stop here, but in principal we could now run our own 10 MCMCs and visualize the resulting log likelihoods."
   ]
  }
 ],
 "metadata": {
  "kernelspec": {
   "display_name": "bayesianmachinelearning",
   "language": "python",
   "name": "bayesianmachinelearning"
  },
  "language_info": {
   "codemirror_mode": {
    "name": "ipython",
    "version": 3
   },
   "file_extension": ".py",
   "mimetype": "text/x-python",
   "name": "python",
   "nbconvert_exporter": "python",
   "pygments_lexer": "ipython3",
   "version": "3.11.13"
  }
 },
 "nbformat": 4,
 "nbformat_minor": 5
}
