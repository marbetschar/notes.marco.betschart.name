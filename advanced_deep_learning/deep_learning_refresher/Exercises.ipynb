{
 "cells": [
  {
   "attachments": {},
   "cell_type": "markdown",
   "id": "189cc004-14b3-4258-b78b-303f409da889",
   "metadata": {},
   "source": [
    "# Exercises\n",
    "\n",
    "## Tutorial and home work 1: Classification and encoder for MNIST\n",
    "\n",
    "### Installation\n",
    "\n",
    "We will be using torch for the exercises. It is recommended to install a seperate conda environment for the course and install torch, torchvision, python 3.12 and matplotlib there. Check the online manuals for the installation on your computer.\n",
    "\n",
    "We also use two other packages, torchinfo and torcheval that can be installed using pip.\n",
    "\n",
    "The following imports all the packages used, if there are any error messages, check your installation.\n",
    "\n",
    "### Tutorial outline \n",
    "\n",
    "The tutorial recaps how to do design and train a neural network using pytorch. As an exercise, the tutorial should be augmented by designing and training a different network that encodes and decodes the input image and does the classification."
   ]
  },
  {
   "cell_type": "code",
   "id": "6631cd0d-7fd6-4ba9-88b0-9468fa8a91b1",
   "metadata": {
    "ExecuteTime": {
     "end_time": "2025-09-22T15:28:58.158786Z",
     "start_time": "2025-09-22T15:28:58.156380Z"
    }
   },
   "source": [
    "import random\n",
    "\n",
    "import torch\n",
    "import torch.nn as nn\n",
    "import torch.optim as optim\n",
    "import torchvision\n",
    "from torchinfo import summary\n",
    "from torcheval.metrics import MulticlassAccuracy, MeanSquaredError\n",
    "\n",
    "import numpy as np\n",
    "import matplotlib.pyplot as plt\n",
    "\n",
    "import wandb"
   ],
   "outputs": [],
   "execution_count": 225
  },
  {
   "cell_type": "markdown",
   "id": "8f7fcce1-f6cb-4d8e-a37c-4c5c87632022",
   "metadata": {},
   "source": [
    "### Data preparation\n",
    "We will use data sets from torchvision. These data sets have to be transformed into a tensor for torch and also must be normalized if they are not already. We will use 1-channel (intensity) images from the (probably too well known :-) ) MNIST data set for this tutorial."
   ]
  },
  {
   "cell_type": "code",
   "id": "b37ac2b4-dc0f-47db-a3c6-c0f46f9bd6c0",
   "metadata": {
    "ExecuteTime": {
     "end_time": "2025-09-22T15:28:58.171183Z",
     "start_time": "2025-09-22T15:28:58.169152Z"
    }
   },
   "source": [
    "transform = torchvision.transforms.Compose(\n",
    "    [torchvision.transforms.ToTensor()])"
   ],
   "outputs": [],
   "execution_count": 226
  },
  {
   "cell_type": "markdown",
   "id": "254eff06-4ee6-48d7-98a7-9ec59321c256",
   "metadata": {},
   "source": [
    "Generate the train and test data sets. Download the data if necessary."
   ]
  },
  {
   "cell_type": "code",
   "id": "d8bd52d1-38bd-40f1-8536-1e26e81a4a75",
   "metadata": {
    "ExecuteTime": {
     "end_time": "2025-09-22T15:28:58.189456Z",
     "start_time": "2025-09-22T15:28:58.174738Z"
    }
   },
   "source": [
    "data_train = torchvision.datasets.MNIST(root='data/mnist', download=True, transform=transform)"
   ],
   "outputs": [],
   "execution_count": 227
  },
  {
   "cell_type": "code",
   "id": "1a8e4c9f-7560-441d-8dd4-80d7e2374e2b",
   "metadata": {
    "ExecuteTime": {
     "end_time": "2025-09-22T15:28:58.197272Z",
     "start_time": "2025-09-22T15:28:58.192792Z"
    }
   },
   "source": [
    "data_test = torchvision.datasets.MNIST(root='data/mnist', train=False, download=True, transform=transform)"
   ],
   "outputs": [],
   "execution_count": 228
  },
  {
   "cell_type": "code",
   "id": "4a4099d9-92bc-4763-9aab-cc146d967b65",
   "metadata": {
    "ExecuteTime": {
     "end_time": "2025-09-22T15:28:58.203085Z",
     "start_time": "2025-09-22T15:28:58.201351Z"
    }
   },
   "source": [
    "print (f'train: {len(data_train)}')"
   ],
   "outputs": [
    {
     "name": "stdout",
     "output_type": "stream",
     "text": [
      "train: 60000\n"
     ]
    }
   ],
   "execution_count": 229
  },
  {
   "cell_type": "markdown",
   "id": "51876199-3114-4662-836c-06bc514bc3e9",
   "metadata": {},
   "source": [
    "### Train and validation data sets\n",
    "\n",
    "The train data set should be further split into train and validation. We can use random split here as the data set is balanced."
   ]
  },
  {
   "cell_type": "code",
   "id": "71cf868e-72ad-485d-a2ef-373c7f399769",
   "metadata": {
    "ExecuteTime": {
     "end_time": "2025-09-22T15:28:58.223021Z",
     "start_time": "2025-09-22T15:28:58.219790Z"
    }
   },
   "source": [
    "len_train = (int)(0.8 * len(data_train))\n",
    "len_val = len(data_train) - len_train\n",
    "\n",
    "print(len_train, len_val, len(data_train))\n",
    "\n",
    "data_train_subset, data_val_subset = torch.utils.data.random_split(\n",
    "        data_train, [len_train, len_val])"
   ],
   "outputs": [
    {
     "name": "stdout",
     "output_type": "stream",
     "text": [
      "48000 12000 60000\n"
     ]
    }
   ],
   "execution_count": 230
  },
  {
   "cell_type": "markdown",
   "id": "89e3887e-7a21-4afc-bf93-709be638385f",
   "metadata": {},
   "source": [
    "Construct data loaders for the 3 data sets.\n",
    "                  "
   ]
  },
  {
   "cell_type": "code",
   "id": "6f62dda5-0b1e-49b8-9725-585c81d08a9c",
   "metadata": {
    "ExecuteTime": {
     "end_time": "2025-09-22T15:28:58.234690Z",
     "start_time": "2025-09-22T15:28:58.232669Z"
    }
   },
   "source": [
    "BATCH_SIZE = 64\n",
    "\n",
    "data_train_loader = torch.utils.data.DataLoader(dataset=data_train_subset, shuffle=True, batch_size=BATCH_SIZE)\n",
    "data_val_loader = torch.utils.data.DataLoader(dataset=data_val_subset, shuffle=False, batch_size=BATCH_SIZE)\n",
    "data_test_loader = torch.utils.data.DataLoader(data_test, batch_size=64)"
   ],
   "outputs": [],
   "execution_count": 231
  },
  {
   "cell_type": "markdown",
   "id": "a54bcc7d-2e93-4b13-a1b5-e555d302c9a4",
   "metadata": {},
   "source": [
    "### Verify the images in the data set\n",
    "Verify the images and also check that the range is correct"
   ]
  },
  {
   "cell_type": "code",
   "id": "3bfce049-d7da-4829-b4f9-3187929fbb7b",
   "metadata": {
    "ExecuteTime": {
     "end_time": "2025-09-22T15:28:58.285892Z",
     "start_time": "2025-09-22T15:28:58.249336Z"
    }
   },
   "source": [
    "train_iter = iter(data_train_loader)\n",
    "images, labels = next(train_iter)\n",
    "\n",
    "image = images[0].numpy().squeeze()\n",
    "print(f'max: {np.max(image)}, min: {np.min(image)}')\n",
    "plt.imshow(image, cmap='gray')\n",
    "plt.show()"
   ],
   "outputs": [
    {
     "name": "stdout",
     "output_type": "stream",
     "text": [
      "max: 1.0, min: 0.0\n"
     ]
    },
    {
     "data": {
      "text/plain": [
       "<Figure size 640x480 with 1 Axes>"
      ],
      "image/png": "[encoded data removed]"
     },
     "metadata": {},
     "output_type": "display_data",
     "jetTransient": {
      "display_id": null
     }
    }
   ],
   "execution_count": 232
  },
  {
   "cell_type": "code",
   "id": "4a55829d-af2c-4cc8-8c0c-1f591178b261",
   "metadata": {
    "ExecuteTime": {
     "end_time": "2025-09-22T15:28:58.333197Z",
     "start_time": "2025-09-22T15:28:58.292579Z"
    }
   },
   "source": [
    "plt.imshow(np.transpose(torchvision.utils.make_grid(images), (1, 2, 0)))"
   ],
   "outputs": [
    {
     "data": {
      "text/plain": [
       "<matplotlib.image.AxesImage at 0x30dd0f750>"
      ]
     },
     "execution_count": 233,
     "metadata": {},
     "output_type": "execute_result"
    },
    {
     "data": {
      "text/plain": [
       "<Figure size 640x480 with 1 Axes>"
      ],
      "image/png": "[encoded data removed]"
     },
     "metadata": {},
     "output_type": "display_data",
     "jetTransient": {
      "display_id": null
     }
    }
   ],
   "execution_count": 233
  },
  {
   "cell_type": "markdown",
   "id": "e5fc6a8e-b0c0-4e2c-8c3f-d5312bdd98c0",
   "metadata": {},
   "source": [
    "## Define a CNN for classification\n",
    "Define a convolutional neural network for classification. \n",
    "\n",
    "We will use a simple network for this example. This should be refined in the exercise.\n"
   ]
  },
  {
   "cell_type": "code",
   "id": "120ba401-f209-4702-b813-30b2801752ca",
   "metadata": {
    "ExecuteTime": {
     "end_time": "2025-09-22T15:28:58.342463Z",
     "start_time": "2025-09-22T15:28:58.338908Z"
    }
   },
   "source": [
    "class MyCNN(nn.Module):\n",
    "    def __init__(self):\n",
    "        super().__init__()\n",
    "        self.layers = nn.Sequential(\n",
    "            nn.Conv2d(1, out_channels=4, kernel_size=3),\n",
    "            nn.ReLU(),\n",
    "            nn.MaxPool2d(2, 2),\n",
    "            nn.Conv2d(4, 8, 3),\n",
    "            nn.ReLU(),\n",
    "            nn.MaxPool2d(2, 2),\n",
    "            nn.Conv2d(8, 8, 3),\n",
    "            nn.ReLU(),\n",
    "            nn.Flatten(),\n",
    "            nn.Linear(72, 120),\n",
    "            nn.ReLU(),\n",
    "            nn.Linear(120, 10)\n",
    "        )\n",
    "        \n",
    "\n",
    "    def forward(self, x):\n",
    "        return self.layers.forward(x)\n",
    "\n",
    "\n",
    "my_cnn = MyCNN()\n",
    "print(my_cnn)"
   ],
   "outputs": [
    {
     "name": "stdout",
     "output_type": "stream",
     "text": [
      "MyCNN(\n",
      "  (layers): Sequential(\n",
      "    (0): Conv2d(1, 4, kernel_size=(3, 3), stride=(1, 1))\n",
      "    (1): ReLU()\n",
      "    (2): MaxPool2d(kernel_size=2, stride=2, padding=0, dilation=1, ceil_mode=False)\n",
      "    (3): Conv2d(4, 8, kernel_size=(3, 3), stride=(1, 1))\n",
      "    (4): ReLU()\n",
      "    (5): MaxPool2d(kernel_size=2, stride=2, padding=0, dilation=1, ceil_mode=False)\n",
      "    (6): Conv2d(8, 8, kernel_size=(3, 3), stride=(1, 1))\n",
      "    (7): ReLU()\n",
      "    (8): Flatten(start_dim=1, end_dim=-1)\n",
      "    (9): Linear(in_features=72, out_features=120, bias=True)\n",
      "    (10): ReLU()\n",
      "    (11): Linear(in_features=120, out_features=10, bias=True)\n",
      "  )\n",
      ")\n"
     ]
    }
   ],
   "execution_count": 234
  },
  {
   "cell_type": "markdown",
   "id": "93d1c211-abf1-414c-973e-c316b12b290a",
   "metadata": {},
   "source": [
    "### Displaying the network\n",
    "The print function does not display the resulting sizes and number of parameters. The summary function from torchinfo provides similar output as the function in keras "
   ]
  },
  {
   "cell_type": "code",
   "id": "e4e2f189-2d38-4081-9a1c-78c2caec56ca",
   "metadata": {
    "ExecuteTime": {
     "end_time": "2025-09-22T15:28:58.378604Z",
     "start_time": "2025-09-22T15:28:58.372675Z"
    }
   },
   "source": [
    "summary(my_cnn, input_size=(64, 1, 28, 28))"
   ],
   "outputs": [
    {
     "data": {
      "text/plain": [
       "==========================================================================================\n",
       "Layer (type:depth-idx)                   Output Shape              Param #\n",
       "==========================================================================================\n",
       "MyCNN                                    [64, 10]                  --\n",
       "├─Sequential: 1-1                        --                        --\n",
       "│    └─Conv2d: 2-1                       [64, 4, 26, 26]           40\n",
       "│    └─ReLU: 2-2                         [64, 4, 26, 26]           --\n",
       "│    └─MaxPool2d: 2-3                    [64, 4, 13, 13]           --\n",
       "│    └─Conv2d: 2-4                       [64, 8, 11, 11]           296\n",
       "│    └─ReLU: 2-5                         [64, 8, 11, 11]           --\n",
       "│    └─MaxPool2d: 2-6                    [64, 8, 5, 5]             --\n",
       "│    └─Conv2d: 2-7                       [64, 8, 3, 3]             584\n",
       "│    └─ReLU: 2-8                         [64, 8, 3, 3]             --\n",
       "│    └─Flatten: 2-9                      [64, 72]                  --\n",
       "│    └─Linear: 2-10                      [64, 120]                 8,760\n",
       "│    └─ReLU: 2-11                        [64, 120]                 --\n",
       "│    └─Linear: 2-12                      [64, 10]                  1,210\n",
       "==========================================================================================\n",
       "Total params: 10,890\n",
       "Trainable params: 10,890\n",
       "Non-trainable params: 0\n",
       "Total mult-adds (Units.MEGABYTES): 5.00\n",
       "==========================================================================================\n",
       "Input size (MB): 0.20\n",
       "Forward/backward pass size (MB): 1.98\n",
       "Params size (MB): 0.04\n",
       "Estimated Total Size (MB): 2.23\n",
       "=========================================================================================="
      ]
     },
     "execution_count": 235,
     "metadata": {},
     "output_type": "execute_result"
    }
   ],
   "execution_count": 235
  },
  {
   "cell_type": "markdown",
   "id": "06ee0e0e-c12c-4b44-b6dd-1325069f5ebc",
   "metadata": {},
   "source": [
    "### Loss function and optimizer\n",
    "We next define the loss function and the optimizer to use. We will use a simple optimizer for the moment"
   ]
  },
  {
   "cell_type": "code",
   "id": "c130f8fc-30e9-4261-bf46-96b4686bd6a6",
   "metadata": {
    "ExecuteTime": {
     "end_time": "2025-09-22T15:28:58.404340Z",
     "start_time": "2025-09-22T15:28:58.401993Z"
    }
   },
   "source": [
    "criterion = nn.CrossEntropyLoss()\n",
    "optimizer = optim.SGD(my_cnn.parameters(), lr=0.001, momentum=0.9)"
   ],
   "outputs": [],
   "execution_count": 236
  },
  {
   "cell_type": "markdown",
   "id": "b4c2266d-c30a-4d00-8eb9-7670630693de",
   "metadata": {},
   "source": [
    "### Device\n",
    "\n",
    "In pytorch, we must specify which device to use and move the input and the model to the device. Lets first have a simple function to get the device"
   ]
  },
  {
   "cell_type": "code",
   "id": "7a3ec064-1ad0-46dc-a5eb-8c24dd6e6727",
   "metadata": {
    "ExecuteTime": {
     "end_time": "2025-09-22T15:28:58.416067Z",
     "start_time": "2025-09-22T15:28:58.414143Z"
    }
   },
   "source": [
    "def get_device():\n",
    "    if torch.cuda.is_available():\n",
    "        device = torch.device('cuda')\n",
    "        # test if it worked\n",
    "        x = torch.ones(1, device=device)\n",
    "        print('Using CUDA device')\n",
    "\n",
    "    elif torch.backends.mps.is_available():\n",
    "        device = torch.device('mps')\n",
    "        x = torch.ones(1, device=device)\n",
    "        print('Using MPS device')\n",
    "    else:\n",
    "        print('Using CPU')\n",
    "        device = torch.device('cpu')\n",
    "    return device"
   ],
   "outputs": [],
   "execution_count": 237
  },
  {
   "cell_type": "code",
   "id": "f1e198f6-0f3d-41c3-a342-99fe7fe542f2",
   "metadata": {
    "ExecuteTime": {
     "end_time": "2025-09-22T15:28:58.425004Z",
     "start_time": "2025-09-22T15:28:58.423011Z"
    }
   },
   "source": [
    "device = get_device()"
   ],
   "outputs": [
    {
     "name": "stdout",
     "output_type": "stream",
     "text": [
      "Using MPS device\n"
     ]
    }
   ],
   "execution_count": 238
  },
  {
   "cell_type": "markdown",
   "id": "63e0e32f-82ce-44e6-bb33-f41d29419be3",
   "metadata": {},
   "source": [
    "### Simple train function\n",
    "Lets define a simple train function for one epoch."
   ]
  },
  {
   "cell_type": "code",
   "id": "5ac5ed5f-1b2c-4803-8650-c4ef298880ab",
   "metadata": {
    "ExecuteTime": {
     "end_time": "2025-09-22T15:28:58.457243Z",
     "start_time": "2025-09-22T15:28:58.454374Z"
    }
   },
   "source": [
    "def train_one_epoch(epoch_index, model, loss_function, optimizer, device):\n",
    "    model.to(device)\n",
    "    model.train(True)\n",
    "    running_loss = 0.\n",
    "    last_loss = 0.\n",
    "\n",
    "    # Here, we use enumerate(training_loader) instead of\n",
    "    # iter(training_loader) so that we can track the batch\n",
    "    # index and do some intra-epoch reporting\n",
    "    for i, data in enumerate(data_train_loader):\n",
    "        # Every data instance is an input + label pair\n",
    "        inputs, labels = data\n",
    "        inputs = inputs.to(device)\n",
    "        labels = labels.to(device)\n",
    "\n",
    "        # Zero your gradients for every batch!\n",
    "        optimizer.zero_grad()\n",
    "\n",
    "        # Make predictions for this batch\n",
    "        outputs = model(inputs)\n",
    "\n",
    "        # Compute the loss and its gradients\n",
    "        loss = loss_function(outputs, labels)\n",
    "        loss.backward()\n",
    "\n",
    "        # Adjust learning weights\n",
    "        optimizer.step()\n",
    "\n",
    "        # Gather data and report\n",
    "        running_loss += loss.item()\n",
    "        if i % 100 == 99:\n",
    "            last_loss = running_loss / 1000 # loss per batch\n",
    "            print(f'  batch {i+1} loss: {last_loss:.5f}'.format(i + 1, last_loss))\n",
    "            running_loss = 0.\n",
    "\n",
    "    return last_loss"
   ],
   "outputs": [],
   "execution_count": 239
  },
  {
   "cell_type": "code",
   "id": "efc2ec51-9e68-4070-9742-ff74022b4386",
   "metadata": {
    "ExecuteTime": {
     "end_time": "2025-09-22T15:29:03.825066Z",
     "start_time": "2025-09-22T15:28:58.478063Z"
    }
   },
   "source": [
    "EPOCHS = 2\n",
    "for epoch in range(EPOCHS):\n",
    "    print(f'EPOCH {epoch + 1}')\n",
    "\n",
    "    # Make sure gradient tracking is on, and do a pass over the data\n",
    "    my_cnn.train(True)\n",
    "    avg_loss = train_one_epoch(epoch, my_cnn, criterion, optimizer, device)\n",
    "    print(f'EPOCH {epoch + 1} Loss: {avg_loss:.5f}')\n"
   ],
   "outputs": [
    {
     "name": "stdout",
     "output_type": "stream",
     "text": [
      "EPOCH 1\n",
      "  batch 100 loss: 0.23016\n",
      "  batch 200 loss: 0.22976\n",
      "  batch 300 loss: 0.22949\n",
      "  batch 400 loss: 0.22921\n",
      "  batch 500 loss: 0.22904\n",
      "  batch 600 loss: 0.22860\n",
      "  batch 700 loss: 0.22807\n",
      "EPOCH 1 Loss: 0.22807\n",
      "EPOCH 2\n",
      "  batch 100 loss: 0.22673\n",
      "  batch 200 loss: 0.22491\n",
      "  batch 300 loss: 0.22093\n",
      "  batch 400 loss: 0.20791\n",
      "  batch 500 loss: 0.15852\n",
      "  batch 600 loss: 0.09497\n",
      "  batch 700 loss: 0.07143\n",
      "EPOCH 2 Loss: 0.07143\n"
     ]
    }
   ],
   "execution_count": 240
  },
  {
   "cell_type": "markdown",
   "id": "c57c0ce2-93e9-4f45-bdb9-6f5a6f185bd8",
   "metadata": {},
   "source": [
    "## Training and evaluation\n",
    "\n",
    "The code above works, however there are a couple of things missing:\n",
    "- first it would be more interesting to calculate some metrics in addition to the loss function\n",
    "- then, we should evaluate the loss and the metrics on the evaluation set\n",
    "- and thirdly, we would like to monitor the loss and metrics using graphics representation specially for longer training time\n",
    "\n",
    "We will use weights and biases (wandb) for the display. Another option is to use tensorboard."
   ]
  },
  {
   "cell_type": "code",
   "id": "f98d5b0d-16a6-4673-8cef-b79b33acd29f",
   "metadata": {
    "ExecuteTime": {
     "end_time": "2025-09-22T15:29:03.943249Z",
     "start_time": "2025-09-22T15:29:03.940705Z"
    }
   },
   "source": [
    "wandb.login()"
   ],
   "outputs": [
    {
     "data": {
      "text/plain": [
       "True"
      ]
     },
     "execution_count": 241,
     "metadata": {},
     "output_type": "execute_result"
    }
   ],
   "execution_count": 241
  },
  {
   "cell_type": "markdown",
   "id": "04896827-f8fc-47b3-9d4c-f131d1c35edf",
   "metadata": {},
   "source": [
    "### Training and evalution loop\n",
    "\n",
    "We define our a training loop that receives the model, loss function, optimizer, metrics and the device as parameters.\n",
    "\n",
    "There are different possibilities to do this, with wandb I find it easier to do training and evaluation in the same loop."
   ]
  },
  {
   "cell_type": "code",
   "id": "5bf1aff5-b600-4d37-bfc4-74db25bb4d10",
   "metadata": {
    "ExecuteTime": {
     "end_time": "2025-09-22T15:29:03.961709Z",
     "start_time": "2025-09-22T15:29:03.958044Z"
    }
   },
   "source": [
    "def train(epochs: int, model, loss_function, optimizer, metrics, device):\n",
    "    # define the project and store some setting for the projects to compare results later.\n",
    "    run = wandb.init(project=\"mnist-example\", config={'epochs': epochs, \n",
    "                                                       'batch_size': data_train_loader.batch_size}\n",
    "                                                       )\n",
    "    input_count = 0\n",
    "    step_count = 0\n",
    "    model = model.to(device)\n",
    "    \n",
    "    for epoch in range(epochs):\n",
    "        model.train()\n",
    "        metrics.reset()\n",
    "        for step, (inputs, labels) in enumerate(data_train_loader):\n",
    "            inputs = inputs.to(device)\n",
    "            labels = labels.to(device)\n",
    "            \n",
    "            # Zero your gradients for every batch!\n",
    "            optimizer.zero_grad()\n",
    "            # calculate results\n",
    "            outputs = model(inputs)\n",
    "            _, predicted = torch.max(outputs, 1)\n",
    "\n",
    "            train_loss = loss_function(outputs, labels)\n",
    "            train_loss.backward()\n",
    "            optimizer.step()\n",
    "\n",
    "            metrics.update(predicted, labels)\n",
    "            train_acc = metrics.compute()\n",
    "\n",
    "            # wandb will store the matrics with the step across x, so we also store the epoch\n",
    "            train_metrics = {'train/train_loss:': train_loss,\n",
    "                       'train/train_acc': train_acc,\n",
    "                       'train/epoch': epoch}\n",
    "\n",
    "            step_count += 1\n",
    "\n",
    "            wandb.log(train_metrics, step=step_count)\n",
    "\n",
    "        model.eval()\n",
    "        metrics.reset()\n",
    "        val_loss = []\n",
    "        val_steps = 0\n",
    "        for step, (inputs, labels) in enumerate(data_val_loader):\n",
    "            inputs = inputs.to(device)\n",
    "            labels = labels.to(device)\n",
    "            with torch.no_grad():\n",
    "                outputs = model(inputs)\n",
    "                _, predicted = torch.max(outputs, 1)\n",
    "\n",
    "                val_loss.append(loss_function(outputs, labels).item())\n",
    "                metrics.update(predicted, labels)\n",
    "\n",
    "        val_acc = metrics.compute()\n",
    "        val_loss_mean = np.mean(val_loss)\n",
    "        val_metrics = {'val/val_loss': val_loss_mean,\n",
    "                       'val/val_acc' : val_acc}\n",
    "        # log both metrics\n",
    "        wandb.log(val_metrics, step=step_count)\n",
    "\n",
    "        print(f\"Epoch {epoch:02} Train Loss: {train_loss:.3f}, Valid Loss: {val_loss_mean:.3f}, Train Accuracy: {train_acc:.2f} Valid Acc: {val_acc:.2f}\")\n",
    "    wandb.finish()\n",
    "                       \n",
    "            "
   ],
   "outputs": [],
   "execution_count": 242
  },
  {
   "cell_type": "code",
   "id": "b2812110-504d-4731-8c0f-7dfa20641d8c",
   "metadata": {
    "scrolled": true,
    "ExecuteTime": {
     "end_time": "2025-09-22T15:29:47.712172Z",
     "start_time": "2025-09-22T15:29:03.968729Z"
    }
   },
   "source": [
    "my_cnn = MyCNN()\n",
    "my_metrics = MulticlassAccuracy(num_classes=10)\n",
    "my_optimizer = optim.Adam(my_cnn.parameters(), lr=0.001)\n",
    "my_loss = nn.CrossEntropyLoss()\n",
    "\n",
    "train(10, my_cnn, criterion, my_optimizer, my_metrics, device)"
   ],
   "outputs": [
    {
     "data": {
      "text/plain": [
       "<IPython.core.display.HTML object>"
      ],
      "text/html": []
     },
     "metadata": {},
     "output_type": "display_data",
     "jetTransient": {
      "display_id": "e46350b60680dda6e2700ea4f4c560b1"
     }
    },
    {
     "data": {
      "text/plain": [
       "<IPython.core.display.HTML object>"
      ],
      "text/html": [
       "Tracking run with wandb version 0.21.4"
      ]
     },
     "metadata": {},
     "output_type": "display_data",
     "jetTransient": {
      "display_id": null
     }
    },
    {
     "data": {
      "text/plain": [
       "<IPython.core.display.HTML object>"
      ],
      "text/html": [
       "Run data is saved locally in <code>/Users/marbetschar/Development/zhaw/ZHAW-Advanced-Deep-Learning/Week 1/wandb/run-20250922_172903-l7gl8g2k</code>"
      ]
     },
     "metadata": {},
     "output_type": "display_data",
     "jetTransient": {
      "display_id": null
     }
    },
    {
     "data": {
      "text/plain": [
       "<IPython.core.display.HTML object>"
      ],
      "text/html": [
       "Syncing run <strong><a href='https://wandb.ai/marbetschar-zhaw/mnist-example/runs/l7gl8g2k' target=\"_blank\">toasty-disco-60</a></strong> to <a href='https://wandb.ai/marbetschar-zhaw/mnist-example' target=\"_blank\">Weights & Biases</a> (<a href='https://wandb.me/developer-guide' target=\"_blank\">docs</a>)<br>"
      ]
     },
     "metadata": {},
     "output_type": "display_data",
     "jetTransient": {
      "display_id": null
     }
    },
    {
     "data": {
      "text/plain": [
       "<IPython.core.display.HTML object>"
      ],
      "text/html": [
       " View project at <a href='https://wandb.ai/marbetschar-zhaw/mnist-example' target=\"_blank\">https://wandb.ai/marbetschar-zhaw/mnist-example</a>"
      ]
     },
     "metadata": {},
     "output_type": "display_data",
     "jetTransient": {
      "display_id": null
     }
    },
    {
     "data": {
      "text/plain": [
       "<IPython.core.display.HTML object>"
      ],
      "text/html": [
       " View run at <a href='https://wandb.ai/marbetschar-zhaw/mnist-example/runs/l7gl8g2k' target=\"_blank\">https://wandb.ai/marbetschar-zhaw/mnist-example/runs/l7gl8g2k</a>"
      ]
     },
     "metadata": {},
     "output_type": "display_data",
     "jetTransient": {
      "display_id": null
     }
    },
    {
     "name": "stdout",
     "output_type": "stream",
     "text": [
      "Epoch 00 Train Loss: 0.185, Valid Loss: 0.191, Train Accuracy: 0.84 Valid Acc: 0.94\n",
      "Epoch 01 Train Loss: 0.051, Valid Loss: 0.121, Train Accuracy: 0.95 Valid Acc: 0.96\n",
      "Epoch 02 Train Loss: 0.044, Valid Loss: 0.093, Train Accuracy: 0.97 Valid Acc: 0.97\n",
      "Epoch 03 Train Loss: 0.013, Valid Loss: 0.084, Train Accuracy: 0.97 Valid Acc: 0.97\n",
      "Epoch 04 Train Loss: 0.068, Valid Loss: 0.071, Train Accuracy: 0.98 Valid Acc: 0.98\n",
      "Epoch 05 Train Loss: 0.014, Valid Loss: 0.077, Train Accuracy: 0.98 Valid Acc: 0.97\n",
      "Epoch 06 Train Loss: 0.027, Valid Loss: 0.074, Train Accuracy: 0.98 Valid Acc: 0.98\n",
      "Epoch 07 Train Loss: 0.031, Valid Loss: 0.060, Train Accuracy: 0.98 Valid Acc: 0.98\n",
      "Epoch 08 Train Loss: 0.004, Valid Loss: 0.062, Train Accuracy: 0.98 Valid Acc: 0.98\n",
      "Epoch 09 Train Loss: 0.114, Valid Loss: 0.052, Train Accuracy: 0.99 Valid Acc: 0.98\n"
     ]
    },
    {
     "data": {
      "text/plain": [
       "<IPython.core.display.HTML object>"
      ],
      "text/html": []
     },
     "metadata": {},
     "output_type": "display_data",
     "jetTransient": {
      "display_id": "9fae43d07750698090830a458d00bd1a"
     }
    },
    {
     "data": {
      "text/plain": [
       "<IPython.core.display.HTML object>"
      ],
      "text/html": [
       "<br>    <style><br>        .wandb-row {<br>            display: flex;<br>            flex-direction: row;<br>            flex-wrap: wrap;<br>            justify-content: flex-start;<br>            width: 100%;<br>        }<br>        .wandb-col {<br>            display: flex;<br>            flex-direction: column;<br>            flex-basis: 100%;<br>            flex: 1;<br>            padding: 10px;<br>        }<br>    </style><br><div class=\"wandb-row\"><div class=\"wandb-col\"><h3>Run history:</h3><br/><table class=\"wandb\"><tr><td>train/epoch</td><td>▁▁▁▁▂▂▂▃▃▃▃▃▃▃▃▃▄▄▄▄▅▅▆▆▆▆▆▆▆▆▆▆▆▆▇▇▇███</td></tr><tr><td>train/train_acc</td><td>▁▁▆▆▆███████████████████████████████████</td></tr><tr><td>train/train_loss:</td><td>█▇▃▄▃▂▂▃▂▂▂▄▅▁▂▂▁▂▁▂▁▂▁▂▁▂▁▂▂▂▁▂▂▃▁▁▃▃▂▂</td></tr><tr><td>val/val_acc</td><td>▁▅▆▆▇▇▇███</td></tr><tr><td>val/val_loss</td><td>█▄▃▃▂▂▂▁▁▁</td></tr></table><br/></div><div class=\"wandb-col\"><h3>Run summary:</h3><br/><table class=\"wandb\"><tr><td>train/epoch</td><td>9</td></tr><tr><td>train/train_acc</td><td>0.9851</td></tr><tr><td>train/train_loss:</td><td>0.11383</td></tr><tr><td>val/val_acc</td><td>0.98217</td></tr><tr><td>val/val_loss</td><td>0.0521</td></tr></table><br/></div></div>"
      ]
     },
     "metadata": {},
     "output_type": "display_data",
     "jetTransient": {
      "display_id": null
     }
    },
    {
     "data": {
      "text/plain": [
       "<IPython.core.display.HTML object>"
      ],
      "text/html": [
       " View run <strong style=\"color:#cdcd00\">toasty-disco-60</strong> at: <a href='https://wandb.ai/marbetschar-zhaw/mnist-example/runs/l7gl8g2k' target=\"_blank\">https://wandb.ai/marbetschar-zhaw/mnist-example/runs/l7gl8g2k</a><br> View project at: <a href='https://wandb.ai/marbetschar-zhaw/mnist-example' target=\"_blank\">https://wandb.ai/marbetschar-zhaw/mnist-example</a><br>Synced 5 W&B file(s), 0 media file(s), 0 artifact file(s) and 0 other file(s)"
      ]
     },
     "metadata": {},
     "output_type": "display_data",
     "jetTransient": {
      "display_id": null
     }
    },
    {
     "data": {
      "text/plain": [
       "<IPython.core.display.HTML object>"
      ],
      "text/html": [
       "Find logs at: <code>./wandb/run-20250922_172903-l7gl8g2k/logs</code>"
      ]
     },
     "metadata": {},
     "output_type": "display_data",
     "jetTransient": {
      "display_id": null
     }
    }
   ],
   "execution_count": 243
  },
  {
   "cell_type": "markdown",
   "id": "c26d6cd2-e2bf-418c-9506-45bb9617b38a",
   "metadata": {},
   "source": [
    "## Exercise 1.1: Autoencoder\n",
    "\n",
    "In exercise 1.1, you should implement an autoencoder. In an autoencoder, we would like to compress the input image into a small representation, this is the encoder part and then decode this representation again into an image.\n",
    "\n",
    "The resulting image should be similar to the input image.\n",
    "\n",
    "The size of the encoded representation, the so called latent variables should be a parameter to the class."
   ]
  },
  {
   "metadata": {
    "ExecuteTime": {
     "end_time": "2025-09-22T15:29:47.893618Z",
     "start_time": "2025-09-22T15:29:47.888199Z"
    }
   },
   "cell_type": "code",
   "source": [
    "class LinearAutoencoder(nn.Module):\n",
    "    def __init__(self, latent_dim: int, input_dim: int = 28, input_channels: int = 1):\n",
    "        super(LinearAutoencoder,self).__init__()\n",
    "\n",
    "        self.input_dim = input_dim\n",
    "        self.input_channels = input_channels\n",
    "\n",
    "        self.encoder = nn.Sequential(\n",
    "            nn.Linear(input_dim * input_dim, 128),\n",
    "            nn.ReLU(),\n",
    "            nn.Linear(128, latent_dim),\n",
    "\n",
    "            # alternative: conv3d,relu,conv3d,relu,flatten,linear\n",
    "            )\n",
    "\n",
    "        self.decoder = nn.Sequential(\n",
    "            nn.Linear(latent_dim, 128),\n",
    "            nn.ReLU(),\n",
    "            nn.Linear(128, input_dim * input_dim),\n",
    "            nn.Sigmoid()\n",
    "            # alternative: linear, relu, unflatten, convTranspose2d, ConvTranspose2d, conv2d, sigmoid\n",
    "            )\n",
    "\n",
    "    def forward(self, x):\n",
    "        # Flatten (batch, input_channels, input_dim, input_dim) → (batch, input_channels * input_dim * input_dim)\n",
    "        x = x.view(x.size(0), -1)\n",
    "\n",
    "        enc = self.encoder(x)\n",
    "        dec = self.decoder(enc)\n",
    "\n",
    "        # Reshape back to image (batch, input_channels, input_dim, input_dim)\n",
    "        dec = dec.view(-1, self.input_channels, self.input_dim, self.input_dim)\n",
    "\n",
    "        return dec\n",
    "\n",
    "linear_autoencoder = LinearAutoencoder(latent_dim=10, input_dim=28, input_channels=1)\n",
    "print(linear_autoencoder)\n",
    "summary(linear_autoencoder)"
   ],
   "id": "d68dcb53d6cac118",
   "outputs": [
    {
     "name": "stdout",
     "output_type": "stream",
     "text": [
      "LinearAutoencoder(\n",
      "  (encoder): Sequential(\n",
      "    (0): Linear(in_features=784, out_features=128, bias=True)\n",
      "    (1): ReLU()\n",
      "    (2): Linear(in_features=128, out_features=10, bias=True)\n",
      "  )\n",
      "  (decoder): Sequential(\n",
      "    (0): Linear(in_features=10, out_features=128, bias=True)\n",
      "    (1): ReLU()\n",
      "    (2): Linear(in_features=128, out_features=784, bias=True)\n",
      "    (3): Sigmoid()\n",
      "  )\n",
      ")\n"
     ]
    },
    {
     "data": {
      "text/plain": [
       "=================================================================\n",
       "Layer (type:depth-idx)                   Param #\n",
       "=================================================================\n",
       "LinearAutoencoder                        --\n",
       "├─Sequential: 1-1                        --\n",
       "│    └─Linear: 2-1                       100,480\n",
       "│    └─ReLU: 2-2                         --\n",
       "│    └─Linear: 2-3                       1,290\n",
       "├─Sequential: 1-2                        --\n",
       "│    └─Linear: 2-4                       1,408\n",
       "│    └─ReLU: 2-5                         --\n",
       "│    └─Linear: 2-6                       101,136\n",
       "│    └─Sigmoid: 2-7                      --\n",
       "=================================================================\n",
       "Total params: 204,314\n",
       "Trainable params: 204,314\n",
       "Non-trainable params: 0\n",
       "================================================================="
      ]
     },
     "execution_count": 244,
     "metadata": {},
     "output_type": "execute_result"
    }
   ],
   "execution_count": 244
  },
  {
   "cell_type": "markdown",
   "id": "dbe2d449-05ba-49a0-8607-fee8e406e625",
   "metadata": {},
   "source": [
    "Next steps:\n",
    "\n",
    "- Adapt the training loop above for the autoencoder\n",
    "- Train the autoencoder, adjusting hyper parameters if necessary\n",
    "- Visualize the results, i.e. the decoded image\n",
    "- Try different number of latent variables, for example 2 and 10\n",
    "- Visualize the latent variables (for 2)"
   ]
  },
  {
   "metadata": {
    "ExecuteTime": {
     "end_time": "2025-09-22T15:29:47.907349Z",
     "start_time": "2025-09-22T15:29:47.903268Z"
    }
   },
   "cell_type": "code",
   "source": [
    "def train_autoencoder(epochs: int, model: nn.Module, loss_function, optimizer, metrics, device):\n",
    "    # define the project and store some setting for the projects to compare results later.\n",
    "    run = wandb.init(project=\"autoencoder\", config={'epochs': epochs,\n",
    "                                                       'batch_size': data_train_loader.batch_size}\n",
    "                                                       )\n",
    "\n",
    "    step_count = 0\n",
    "    model = model.to(device)\n",
    "    loss_function = loss_function.to(device)\n",
    "    metrics = metrics.to(device)\n",
    "\n",
    "    for epoch in range(epochs):\n",
    "        model.train()\n",
    "        metrics.reset()\n",
    "\n",
    "        for step, (inputs, _) in enumerate(data_train_loader):\n",
    "            inputs = inputs.to(device)\n",
    "\n",
    "            optimizer.zero_grad()\n",
    "            outputs = model(inputs)\n",
    "\n",
    "            train_loss = loss_function(outputs, inputs)\n",
    "            train_loss.backward()\n",
    "            optimizer.step()\n",
    "\n",
    "            metrics.update(torch.flatten(outputs), torch.flatten(inputs))\n",
    "            train_acc = metrics.compute()\n",
    "\n",
    "            # wandb will store the metrics with the step across x, so we also store the epoch\n",
    "            train_metrics = {'train/train_loss:': train_loss,\n",
    "                       'train/train_acc': train_acc,\n",
    "                       'train/epoch': epoch}\n",
    "\n",
    "            step_count += 1\n",
    "\n",
    "            wandb.log(train_metrics, step=step_count)\n",
    "\n",
    "        model.eval()\n",
    "        metrics.reset()\n",
    "        val_loss = []\n",
    "\n",
    "        for step, (inputs, _) in enumerate(data_val_loader):\n",
    "            inputs = inputs.to(device)\n",
    "\n",
    "            with torch.no_grad():\n",
    "                outputs = model(inputs)\n",
    "\n",
    "                val_loss.append(loss_function(outputs, inputs).item())\n",
    "                metrics.update(torch.flatten(outputs), torch.flatten(inputs))\n",
    "\n",
    "        val_acc = metrics.compute()\n",
    "        val_loss_mean = np.mean(val_loss)\n",
    "        val_metrics = {'val/val_loss': val_loss_mean,\n",
    "                       'val/val_acc' : val_acc}\n",
    "        # log both metrics\n",
    "        wandb.log(val_metrics, step=step_count)\n",
    "\n",
    "        print(f\"Epoch {epoch:02} Train Loss: {train_loss:.3f}, Valid Loss: {val_loss_mean:.3f}, Train Accuracy: {train_acc:.2f} Valid Acc: {val_acc:.2f}\")\n",
    "\n",
    "    wandb.finish()"
   ],
   "id": "2e514035503f1b74",
   "outputs": [],
   "execution_count": 245
  },
  {
   "metadata": {
    "ExecuteTime": {
     "end_time": "2025-09-22T15:29:47.917971Z",
     "start_time": "2025-09-22T15:29:47.915189Z"
    }
   },
   "cell_type": "code",
   "source": [
    "model = LinearAutoencoder(latent_dim=10, input_dim=28, input_channels=1)\n",
    "metrics = MeanSquaredError()\n",
    "optimizer = optim.Adam(model.parameters(), lr=0.001)\n",
    "loss = nn.MSELoss()"
   ],
   "id": "5e505e21f252604d",
   "outputs": [],
   "execution_count": 246
  },
  {
   "metadata": {
    "ExecuteTime": {
     "end_time": "2025-09-22T15:30:23.375688Z",
     "start_time": "2025-09-22T15:29:47.922195Z"
    }
   },
   "cell_type": "code",
   "source": [
    "train_autoencoder(\n",
    "    epochs=10,\n",
    "    model=model,\n",
    "    loss_function=loss,\n",
    "    optimizer=optimizer,\n",
    "    metrics=metrics,\n",
    "    device=device\n",
    "    )"
   ],
   "id": "2d07018e599452e4",
   "outputs": [
    {
     "data": {
      "text/plain": [
       "<IPython.core.display.HTML object>"
      ],
      "text/html": []
     },
     "metadata": {},
     "output_type": "display_data",
     "jetTransient": {
      "display_id": "df2baba27069c2f645f4672da23b9688"
     }
    },
    {
     "data": {
      "text/plain": [
       "<IPython.core.display.HTML object>"
      ],
      "text/html": [
       "Tracking run with wandb version 0.21.4"
      ]
     },
     "metadata": {},
     "output_type": "display_data",
     "jetTransient": {
      "display_id": null
     }
    },
    {
     "data": {
      "text/plain": [
       "<IPython.core.display.HTML object>"
      ],
      "text/html": [
       "Run data is saved locally in <code>/Users/marbetschar/Development/zhaw/ZHAW-Advanced-Deep-Learning/Week 1/wandb/run-20250922_172947-ofjqar84</code>"
      ]
     },
     "metadata": {},
     "output_type": "display_data",
     "jetTransient": {
      "display_id": null
     }
    },
    {
     "data": {
      "text/plain": [
       "<IPython.core.display.HTML object>"
      ],
      "text/html": [
       "Syncing run <strong><a href='https://wandb.ai/marbetschar-zhaw/autoencoder/runs/ofjqar84' target=\"_blank\">fresh-violet-4</a></strong> to <a href='https://wandb.ai/marbetschar-zhaw/autoencoder' target=\"_blank\">Weights & Biases</a> (<a href='https://wandb.me/developer-guide' target=\"_blank\">docs</a>)<br>"
      ]
     },
     "metadata": {},
     "output_type": "display_data",
     "jetTransient": {
      "display_id": null
     }
    },
    {
     "data": {
      "text/plain": [
       "<IPython.core.display.HTML object>"
      ],
      "text/html": [
       " View project at <a href='https://wandb.ai/marbetschar-zhaw/autoencoder' target=\"_blank\">https://wandb.ai/marbetschar-zhaw/autoencoder</a>"
      ]
     },
     "metadata": {},
     "output_type": "display_data",
     "jetTransient": {
      "display_id": null
     }
    },
    {
     "data": {
      "text/plain": [
       "<IPython.core.display.HTML object>"
      ],
      "text/html": [
       " View run at <a href='https://wandb.ai/marbetschar-zhaw/autoencoder/runs/ofjqar84' target=\"_blank\">https://wandb.ai/marbetschar-zhaw/autoencoder/runs/ofjqar84</a>"
      ]
     },
     "metadata": {},
     "output_type": "display_data",
     "jetTransient": {
      "display_id": null
     }
    },
    {
     "name": "stdout",
     "output_type": "stream",
     "text": [
      "Epoch 00 Train Loss: 0.026, Valid Loss: 0.027, Train Accuracy: 0.04 Valid Acc: 0.03\n",
      "Epoch 01 Train Loss: 0.023, Valid Loss: 0.023, Train Accuracy: 0.02 Valid Acc: 0.02\n",
      "Epoch 02 Train Loss: 0.022, Valid Loss: 0.022, Train Accuracy: 0.02 Valid Acc: 0.02\n",
      "Epoch 03 Train Loss: 0.022, Valid Loss: 0.021, Train Accuracy: 0.02 Valid Acc: 0.02\n",
      "Epoch 04 Train Loss: 0.019, Valid Loss: 0.020, Train Accuracy: 0.02 Valid Acc: 0.02\n",
      "Epoch 05 Train Loss: 0.020, Valid Loss: 0.020, Train Accuracy: 0.02 Valid Acc: 0.02\n",
      "Epoch 06 Train Loss: 0.019, Valid Loss: 0.019, Train Accuracy: 0.02 Valid Acc: 0.02\n",
      "Epoch 07 Train Loss: 0.018, Valid Loss: 0.019, Train Accuracy: 0.02 Valid Acc: 0.02\n",
      "Epoch 08 Train Loss: 0.022, Valid Loss: 0.019, Train Accuracy: 0.02 Valid Acc: 0.02\n",
      "Epoch 09 Train Loss: 0.017, Valid Loss: 0.018, Train Accuracy: 0.02 Valid Acc: 0.02\n"
     ]
    },
    {
     "data": {
      "text/plain": [
       "<IPython.core.display.HTML object>"
      ],
      "text/html": []
     },
     "metadata": {},
     "output_type": "display_data",
     "jetTransient": {
      "display_id": "f552e07bf7aca8387338450fd00bbd60"
     }
    },
    {
     "data": {
      "text/plain": [
       "<IPython.core.display.HTML object>"
      ],
      "text/html": [
       "<br>    <style><br>        .wandb-row {<br>            display: flex;<br>            flex-direction: row;<br>            flex-wrap: wrap;<br>            justify-content: flex-start;<br>            width: 100%;<br>        }<br>        .wandb-col {<br>            display: flex;<br>            flex-direction: column;<br>            flex-basis: 100%;<br>            flex: 1;<br>            padding: 10px;<br>        }<br>    </style><br><div class=\"wandb-row\"><div class=\"wandb-col\"><h3>Run history:</h3><br/><table class=\"wandb\"><tr><td>train/epoch</td><td>▁▁▁▁▁▁▁▁▂▂▃▃▃▃▃▃▃▃▃▃▄▄▄▄▅▆▆▆▆▆▇▇▇▇██████</td></tr><tr><td>train/train_acc</td><td>█▆▅▄▄▂▁▁▁▁▁▁▁▁▁▁▁▁▁▁▁▁▁▁▁▁▁▁▁▁▁▁▁▁▁▁▁▁▁▁</td></tr><tr><td>train/train_loss:</td><td>█▅▄▃▂▂▂▃▂▂▂▂▂▂▂▂▁▂▂▁▁▁▂▁▁▁▁▁▁▂▂▁▂▂▁▁▁▁▁▂</td></tr><tr><td>val/val_acc</td><td>█▅▄▃▃▂▂▁▁▁</td></tr><tr><td>val/val_loss</td><td>█▅▄▃▃▂▂▁▁▁</td></tr></table><br/></div><div class=\"wandb-col\"><h3>Run summary:</h3><br/><table class=\"wandb\"><tr><td>train/epoch</td><td>9</td></tr><tr><td>train/train_acc</td><td>0.01839</td></tr><tr><td>train/train_loss:</td><td>0.01706</td></tr><tr><td>val/val_acc</td><td>0.0184</td></tr><tr><td>val/val_loss</td><td>0.0184</td></tr></table><br/></div></div>"
      ]
     },
     "metadata": {},
     "output_type": "display_data",
     "jetTransient": {
      "display_id": null
     }
    },
    {
     "data": {
      "text/plain": [
       "<IPython.core.display.HTML object>"
      ],
      "text/html": [
       " View run <strong style=\"color:#cdcd00\">fresh-violet-4</strong> at: <a href='https://wandb.ai/marbetschar-zhaw/autoencoder/runs/ofjqar84' target=\"_blank\">https://wandb.ai/marbetschar-zhaw/autoencoder/runs/ofjqar84</a><br> View project at: <a href='https://wandb.ai/marbetschar-zhaw/autoencoder' target=\"_blank\">https://wandb.ai/marbetschar-zhaw/autoencoder</a><br>Synced 5 W&B file(s), 0 media file(s), 0 artifact file(s) and 0 other file(s)"
      ]
     },
     "metadata": {},
     "output_type": "display_data",
     "jetTransient": {
      "display_id": null
     }
    },
    {
     "data": {
      "text/plain": [
       "<IPython.core.display.HTML object>"
      ],
      "text/html": [
       "Find logs at: <code>./wandb/run-20250922_172947-ofjqar84/logs</code>"
      ]
     },
     "metadata": {},
     "output_type": "display_data",
     "jetTransient": {
      "display_id": null
     }
    }
   ],
   "execution_count": 247
  },
  {
   "metadata": {
    "ExecuteTime": {
     "end_time": "2025-09-22T15:31:00.257330Z",
     "start_time": "2025-09-22T15:31:00.255245Z"
    }
   },
   "cell_type": "code",
   "source": [
    "def visualize(model):\n",
    "    # Visualize some of the decoded images:\n",
    "    n = 5\n",
    "    truths = np.random.randint(0, data_test.data.shape[0], size=n)\n",
    "\n",
    "    model.to(device)\n",
    "    model.eval()\n",
    "\n",
    "    f, ax = plt.subplots(n, 2)\n",
    "    ax[0][0].title.set_text(\"Truths\")\n",
    "    ax[0][1].title.set_text(\"Predictions\")\n",
    "\n",
    "    for i in range(n):\n",
    "        truth = data_test.data[truths[i]].type(torch.float).to(device)\n",
    "        decoded = model(truth.reshape(-1, 28*28)).reshape(28, 28)\n",
    "\n",
    "        ax[i][0].imshow(truth.reshape(28, 28).detach().cpu())\n",
    "        ax[i][1].imshow(decoded.detach().cpu())\n",
    "\n",
    "    plt.show()"
   ],
   "id": "aa991f481243dd06",
   "outputs": [],
   "execution_count": 252
  },
  {
   "metadata": {
    "ExecuteTime": {
     "end_time": "2025-09-22T15:31:37.758724Z",
     "start_time": "2025-09-22T15:31:37.589608Z"
    }
   },
   "cell_type": "code",
   "source": "visualize(model)",
   "id": "bae2a094be9e8ebb",
   "outputs": [
    {
     "data": {
      "text/plain": [
       "<Figure size 640x480 with 10 Axes>"
      ],
      "image/png": "[encoded data removed]"
     },
     "metadata": {},
     "output_type": "display_data",
     "jetTransient": {
      "display_id": null
     }
    }
   ],
   "execution_count": 257
  },
  {
   "metadata": {},
   "cell_type": "markdown",
   "source": "# Visualize Decoded Images using `latent_dim = 2`",
   "id": "ec89811dfa70c937"
  },
  {
   "metadata": {
    "ExecuteTime": {
     "end_time": "2025-09-22T15:32:18.946114Z",
     "start_time": "2025-09-22T15:31:42.989949Z"
    }
   },
   "cell_type": "code",
   "source": [
    "model = LinearAutoencoder(latent_dim=2, input_dim=28, input_channels=1)\n",
    "metrics = MeanSquaredError()\n",
    "optimizer = optim.Adam(model.parameters(), lr=0.001)\n",
    "loss = nn.MSELoss()\n",
    "\n",
    "train_autoencoder(epochs=10, model=model, loss_function=loss, optimizer=optimizer, metrics=metrics, device=device)\n",
    "visualize(model)"
   ],
   "id": "bf486be81a7287d4",
   "outputs": [
    {
     "data": {
      "text/plain": [
       "<IPython.core.display.HTML object>"
      ],
      "text/html": [
       "Finishing previous runs because reinit is set to 'default'."
      ]
     },
     "metadata": {},
     "output_type": "display_data",
     "jetTransient": {
      "display_id": null
     }
    },
    {
     "data": {
      "text/plain": [
       "<IPython.core.display.HTML object>"
      ],
      "text/html": []
     },
     "metadata": {},
     "output_type": "display_data",
     "jetTransient": {
      "display_id": "ee13a0c650b136e0ec945f1c60da1023"
     }
    },
    {
     "data": {
      "text/plain": [
       "<IPython.core.display.HTML object>"
      ],
      "text/html": [
       "<br>    <style><br>        .wandb-row {<br>            display: flex;<br>            flex-direction: row;<br>            flex-wrap: wrap;<br>            justify-content: flex-start;<br>            width: 100%;<br>        }<br>        .wandb-col {<br>            display: flex;<br>            flex-direction: column;<br>            flex-basis: 100%;<br>            flex: 1;<br>            padding: 10px;<br>        }<br>    </style><br><div class=\"wandb-row\"><div class=\"wandb-col\"><h3>Run history:</h3><br/><table class=\"wandb\"><tr><td>train/epoch</td><td>▁▁▁▁▁▁▁▁▁▁▁▁▁▁▁▁▅▅▅▅▅▅▅▅▅▅▅▅▅▅██████████</td></tr><tr><td>train/train_acc</td><td>█▅▅▄▄▃▃▃▃▃▂▂▂▂▂▂▂▂▁▁▁▁▁▁▁▁▁▁▁▁▁▁▁▁▁▁▁▁▁▁</td></tr><tr><td>train/train_loss:</td><td>█▄▅▂▂▃▂▃▂▂▂▂▁▂▂▂▂▂▂▂▂▂▂▁▂▂▁▁▁▁▂▂▂▁▂▂▂▂▁▂</td></tr><tr><td>val/val_acc</td><td>█▁</td></tr><tr><td>val/val_loss</td><td>█▁</td></tr></table><br/></div><div class=\"wandb-col\"><h3>Run summary:</h3><br/><table class=\"wandb\"><tr><td>train/epoch</td><td>2</td></tr><tr><td>train/train_acc</td><td>0.04834</td></tr><tr><td>train/train_loss:</td><td>0.04586</td></tr><tr><td>val/val_acc</td><td>0.049</td></tr><tr><td>val/val_loss</td><td>0.049</td></tr></table><br/></div></div>"
      ]
     },
     "metadata": {},
     "output_type": "display_data",
     "jetTransient": {
      "display_id": null
     }
    },
    {
     "data": {
      "text/plain": [
       "<IPython.core.display.HTML object>"
      ],
      "text/html": [
       " View run <strong style=\"color:#cdcd00\">cool-voice-6</strong> at: <a href='https://wandb.ai/marbetschar-zhaw/autoencoder/runs/7nenb6eh' target=\"_blank\">https://wandb.ai/marbetschar-zhaw/autoencoder/runs/7nenb6eh</a><br> View project at: <a href='https://wandb.ai/marbetschar-zhaw/autoencoder' target=\"_blank\">https://wandb.ai/marbetschar-zhaw/autoencoder</a><br>Synced 5 W&B file(s), 0 media file(s), 0 artifact file(s) and 0 other file(s)"
      ]
     },
     "metadata": {},
     "output_type": "display_data",
     "jetTransient": {
      "display_id": null
     }
    },
    {
     "data": {
      "text/plain": [
       "<IPython.core.display.HTML object>"
      ],
      "text/html": [
       "Find logs at: <code>./wandb/run-20250922_173111-7nenb6eh/logs</code>"
      ]
     },
     "metadata": {},
     "output_type": "display_data",
     "jetTransient": {
      "display_id": null
     }
    },
    {
     "data": {
      "text/plain": [
       "<IPython.core.display.HTML object>"
      ],
      "text/html": []
     },
     "metadata": {},
     "output_type": "display_data",
     "jetTransient": {
      "display_id": "678c715b45f25e236afa63cae9efc7f2"
     }
    },
    {
     "data": {
      "text/plain": [
       "<IPython.core.display.HTML object>"
      ],
      "text/html": [
       "Tracking run with wandb version 0.21.4"
      ]
     },
     "metadata": {},
     "output_type": "display_data",
     "jetTransient": {
      "display_id": null
     }
    },
    {
     "data": {
      "text/plain": [
       "<IPython.core.display.HTML object>"
      ],
      "text/html": [
       "Run data is saved locally in <code>/Users/marbetschar/Development/zhaw/ZHAW-Advanced-Deep-Learning/Week 1/wandb/run-20250922_173143-jqgzsftc</code>"
      ]
     },
     "metadata": {},
     "output_type": "display_data",
     "jetTransient": {
      "display_id": null
     }
    },
    {
     "data": {
      "text/plain": [
       "<IPython.core.display.HTML object>"
      ],
      "text/html": [
       "Syncing run <strong><a href='https://wandb.ai/marbetschar-zhaw/autoencoder/runs/jqgzsftc' target=\"_blank\">unique-moon-7</a></strong> to <a href='https://wandb.ai/marbetschar-zhaw/autoencoder' target=\"_blank\">Weights & Biases</a> (<a href='https://wandb.me/developer-guide' target=\"_blank\">docs</a>)<br>"
      ]
     },
     "metadata": {},
     "output_type": "display_data",
     "jetTransient": {
      "display_id": null
     }
    },
    {
     "data": {
      "text/plain": [
       "<IPython.core.display.HTML object>"
      ],
      "text/html": [
       " View project at <a href='https://wandb.ai/marbetschar-zhaw/autoencoder' target=\"_blank\">https://wandb.ai/marbetschar-zhaw/autoencoder</a>"
      ]
     },
     "metadata": {},
     "output_type": "display_data",
     "jetTransient": {
      "display_id": null
     }
    },
    {
     "data": {
      "text/plain": [
       "<IPython.core.display.HTML object>"
      ],
      "text/html": [
       " View run at <a href='https://wandb.ai/marbetschar-zhaw/autoencoder/runs/jqgzsftc' target=\"_blank\">https://wandb.ai/marbetschar-zhaw/autoencoder/runs/jqgzsftc</a>"
      ]
     },
     "metadata": {},
     "output_type": "display_data",
     "jetTransient": {
      "display_id": null
     }
    },
    {
     "name": "stdout",
     "output_type": "stream",
     "text": [
      "Epoch 00 Train Loss: 0.049, Valid Loss: 0.051, Train Accuracy: 0.06 Valid Acc: 0.05\n",
      "Epoch 01 Train Loss: 0.050, Valid Loss: 0.048, Train Accuracy: 0.05 Valid Acc: 0.05\n",
      "Epoch 02 Train Loss: 0.046, Valid Loss: 0.047, Train Accuracy: 0.05 Valid Acc: 0.05\n",
      "Epoch 03 Train Loss: 0.042, Valid Loss: 0.046, Train Accuracy: 0.05 Valid Acc: 0.05\n",
      "Epoch 04 Train Loss: 0.043, Valid Loss: 0.045, Train Accuracy: 0.05 Valid Acc: 0.05\n",
      "Epoch 05 Train Loss: 0.044, Valid Loss: 0.045, Train Accuracy: 0.04 Valid Acc: 0.04\n",
      "Epoch 06 Train Loss: 0.044, Valid Loss: 0.044, Train Accuracy: 0.04 Valid Acc: 0.04\n",
      "Epoch 07 Train Loss: 0.043, Valid Loss: 0.044, Train Accuracy: 0.04 Valid Acc: 0.04\n",
      "Epoch 08 Train Loss: 0.042, Valid Loss: 0.044, Train Accuracy: 0.04 Valid Acc: 0.04\n",
      "Epoch 09 Train Loss: 0.045, Valid Loss: 0.044, Train Accuracy: 0.04 Valid Acc: 0.04\n"
     ]
    },
    {
     "data": {
      "text/plain": [
       "<IPython.core.display.HTML object>"
      ],
      "text/html": []
     },
     "metadata": {},
     "output_type": "display_data",
     "jetTransient": {
      "display_id": "85a7ea16bd98a4cfababc1f2bf748001"
     }
    },
    {
     "data": {
      "text/plain": [
       "<IPython.core.display.HTML object>"
      ],
      "text/html": [
       "<br>    <style><br>        .wandb-row {<br>            display: flex;<br>            flex-direction: row;<br>            flex-wrap: wrap;<br>            justify-content: flex-start;<br>            width: 100%;<br>        }<br>        .wandb-col {<br>            display: flex;<br>            flex-direction: column;<br>            flex-basis: 100%;<br>            flex: 1;<br>            padding: 10px;<br>        }<br>    </style><br><div class=\"wandb-row\"><div class=\"wandb-col\"><h3>Run history:</h3><br/><table class=\"wandb\"><tr><td>train/epoch</td><td>▁▁▁▁▁▁▁▁▂▂▃▃▃▃▃▃▃▄▄▄▄▄▄▄▅▅▆▆▆▆▆▆▆▆▇▇▇███</td></tr><tr><td>train/train_acc</td><td>█▇▆▆▅▃▃▃▃▃▃▂▂▂▂▂▂▂▂▂▂▁▁▁▁▁▁▁▁▁▁▁▁▁▁▁▁▁▁▁</td></tr><tr><td>train/train_loss:</td><td>█▇█▆▆▃▅▂▂▄▂▃▄▄▃▅▁▂▄▃▃▄▄▃▃▂▂▂▂▄▃▁▃▅▁▂▂▃▃▂</td></tr><tr><td>val/val_acc</td><td>█▅▄▃▂▂▂▁▁▁</td></tr><tr><td>val/val_loss</td><td>█▅▄▃▂▂▂▁▁▁</td></tr></table><br/></div><div class=\"wandb-col\"><h3>Run summary:</h3><br/><table class=\"wandb\"><tr><td>train/epoch</td><td>9</td></tr><tr><td>train/train_acc</td><td>0.04338</td></tr><tr><td>train/train_loss:</td><td>0.04503</td></tr><tr><td>val/val_acc</td><td>0.04359</td></tr><tr><td>val/val_loss</td><td>0.04358</td></tr></table><br/></div></div>"
      ]
     },
     "metadata": {},
     "output_type": "display_data",
     "jetTransient": {
      "display_id": null
     }
    },
    {
     "data": {
      "text/plain": [
       "<IPython.core.display.HTML object>"
      ],
      "text/html": [
       " View run <strong style=\"color:#cdcd00\">unique-moon-7</strong> at: <a href='https://wandb.ai/marbetschar-zhaw/autoencoder/runs/jqgzsftc' target=\"_blank\">https://wandb.ai/marbetschar-zhaw/autoencoder/runs/jqgzsftc</a><br> View project at: <a href='https://wandb.ai/marbetschar-zhaw/autoencoder' target=\"_blank\">https://wandb.ai/marbetschar-zhaw/autoencoder</a><br>Synced 5 W&B file(s), 0 media file(s), 0 artifact file(s) and 0 other file(s)"
      ]
     },
     "metadata": {},
     "output_type": "display_data",
     "jetTransient": {
      "display_id": null
     }
    },
    {
     "data": {
      "text/plain": [
       "<IPython.core.display.HTML object>"
      ],
      "text/html": [
       "Find logs at: <code>./wandb/run-20250922_173143-jqgzsftc/logs</code>"
      ]
     },
     "metadata": {},
     "output_type": "display_data",
     "jetTransient": {
      "display_id": null
     }
    },
    {
     "data": {
      "text/plain": [
       "<Figure size 640x480 with 10 Axes>"
      ],
      "image/png": "[encoded data removed]"
     },
     "metadata": {},
     "output_type": "display_data",
     "jetTransient": {
      "display_id": null
     }
    }
   ],
   "execution_count": 258
  },
  {
   "cell_type": "markdown",
   "id": "5064bd79-f92a-4f4d-bbed-6525e4334995",
   "metadata": {},
   "source": [
    "## Exercise 1.2: Two headed network with autoencoder and classificator\n",
    "\n",
    "Next we want to train a model that can do both the autoencoder and the classification. One idea of this approach is to force the model to learn a representation that works well for reconstruction and classification. The classification head should branch off after the encoding part."
   ]
  },
  {
   "cell_type": "code",
   "id": "e5d8d957-fba8-4f2c-b923-0d21f823a8c8",
   "metadata": {
    "ExecuteTime": {
     "end_time": "2025-09-22T17:01:49.844878Z",
     "start_time": "2025-09-22T17:01:49.840669Z"
    }
   },
   "source": [
    "class EncoderAndClassificator(nn.Module):\n",
    "    def __init__(self, latent_dim: int, num_classes: int):\n",
    "        super(EncoderAndClassificator,self).__init__()\n",
    "        self.latent_dim = latent_dim\n",
    "        self.encoder = nn.Sequential(\n",
    "            nn.Linear(28 * 28, 128),\n",
    "            nn.ReLU(),\n",
    "            nn.Linear(128, latent_dim),\n",
    "            )\n",
    "\n",
    "        self.decoder = nn.Sequential(\n",
    "            nn.Linear(latent_dim, 128),\n",
    "            nn.ReLU(),\n",
    "            nn.Linear(128, 28 * 28),\n",
    "            nn.Sigmoid()\n",
    "            )\n",
    "        self.classifier = nn.Sequential (\n",
    "            nn.Linear(latent_dim, num_classes),\n",
    "            nn.ReLU(),\n",
    "            nn.Softmax(dim=1)\n",
    "        )\n",
    "    def forward(self, x):\n",
    "        # Flatten (batch, input_channels, input_dim, input_dim) → (batch, input_channels * input_dim * input_dim)\n",
    "        x = x.view(x.size(0), -1)\n",
    "\n",
    "        enc = self.encoder(x)\n",
    "\n",
    "        dec = self.decoder(enc)\n",
    "        # Reshape back to image (batch, input_channels, input_dim, input_dim)\n",
    "        dec = dec.view(-1, 1, 28, 28)\n",
    "\n",
    "        logits = self.classifier(enc)\n",
    "        return dec, logits"
   ],
   "outputs": [],
   "execution_count": 391
  },
  {
   "cell_type": "markdown",
   "id": "ad74fa1c-13f0-4cd9-be8b-e449564e751e",
   "metadata": {},
   "source": [
    "Next steps:\n",
    "- Adapt the training loop, how is the loss calculated?\n",
    "- Train the model and compare it to the two seperate models above"
   ]
  },
  {
   "metadata": {
    "ExecuteTime": {
     "end_time": "2025-09-22T17:01:50.906890Z",
     "start_time": "2025-09-22T17:01:50.904130Z"
    }
   },
   "cell_type": "code",
   "source": [
    "model = EncoderAndClassificator(latent_dim=2, num_classes = 10)\n",
    "metrics = MeanSquaredError(), MulticlassAccuracy(num_classes=10)\n",
    "optimizer = optim.Adam(model.parameters(), lr=0.001)\n",
    "loss = nn.MSELoss(), nn.CrossEntropyLoss()"
   ],
   "id": "97303882cca4d96e",
   "outputs": [],
   "execution_count": 392
  },
  {
   "metadata": {
    "ExecuteTime": {
     "end_time": "2025-09-22T17:01:52.089415Z",
     "start_time": "2025-09-22T17:01:52.084214Z"
    }
   },
   "cell_type": "code",
   "source": [
    "def train_encoder_and_classifier(epochs: int, model: nn.Module, loss_function, optimizer, metrics, device):\n",
    "    # define the project and store some setting for the projects to compare results later.\n",
    "    run = wandb.init(project=\"encoder_and_classifier\", config={'epochs': epochs,\n",
    "                                                       'batch_size': data_train_loader.batch_size}\n",
    "                                                       )\n",
    "\n",
    "    step_count = 0\n",
    "    model = model.to(device)\n",
    "\n",
    "    loss_dec, loss_logits = loss_function\n",
    "    metrics_dec, metrics_logits = metrics\n",
    "\n",
    "    loss_dec = loss_dec.to(device)\n",
    "    loss_logits = loss_logits.to(device)\n",
    "    metrics_dec = metrics_dec.to(device)\n",
    "    metrics_logits = metrics_logits.to(device)\n",
    "\n",
    "    for epoch in range(epochs):\n",
    "        model.train()\n",
    "\n",
    "        metrics_dec.reset()\n",
    "        metrics_logits.reset()\n",
    "\n",
    "        for step, (inputs, labels) in enumerate(data_train_loader):\n",
    "            inputs = inputs.to(device)\n",
    "            labels = labels.to(device)\n",
    "\n",
    "            optimizer.zero_grad()\n",
    "            outputs_dec, outputs_logits = model(inputs)\n",
    "\n",
    "            train_loss_dec, train_loss_logits = loss_dec(outputs_dec, inputs), loss_logits(outputs_logits, labels)\n",
    "\n",
    "            # TODO: The loss values should be weighted (or normalized if possible) because their scale can differ dramatically\n",
    "            total_loss = train_loss_logits + train_loss_dec\n",
    "            total_loss.backward()\n",
    "            optimizer.step()\n",
    "\n",
    "            outputs_logits_max = torch.max(outputs_logits, dim = 1).values\n",
    "\n",
    "            metrics_dec.update(torch.flatten(outputs_dec), torch.flatten(inputs))\n",
    "            metrics_logits.update(outputs_logits_max, labels)\n",
    "\n",
    "            train_acc_dec = metrics_dec.compute()\n",
    "            train_acc_logits = metrics_logits.compute()\n",
    "\n",
    "            # wandb will store the metrics with the step across x, so we also store the epoch\n",
    "            train_metrics = {'train/train_loss_dec:': train_loss_dec,\n",
    "                       'train/train_acc_dec': train_acc_dec,\n",
    "                       'train/train_loss_logits:': train_loss_logits,\n",
    "                       'train/train_acc_logits': train_acc_logits,\n",
    "                       'train/epoch': epoch}\n",
    "\n",
    "            step_count += 1\n",
    "\n",
    "            wandb.log(train_metrics, step=step_count)\n",
    "\n",
    "        model.eval()\n",
    "        metrics_dec.reset()\n",
    "        metrics_logits.reset()\n",
    "        val_loss_dec = []\n",
    "        val_loss_logits = []\n",
    "\n",
    "        for step, (inputs, labels) in enumerate(data_val_loader):\n",
    "            inputs = inputs.to(device)\n",
    "            labels = labels.to(device)\n",
    "\n",
    "            with torch.no_grad():\n",
    "                outputs_dec, outputs_logits = model(inputs)\n",
    "\n",
    "                outputs_logits_max = torch.max(outputs_logits, dim = 1).values\n",
    "\n",
    "                val_loss_dec.append(loss_dec(outputs_dec, inputs).item())\n",
    "                val_loss_logits.append(loss_logits(outputs_logits, labels).item())\n",
    "\n",
    "                metrics_dec.update(torch.flatten(outputs_dec), torch.flatten(inputs))\n",
    "                metrics_logits.update(outputs_logits_max, labels)\n",
    "\n",
    "        val_acc_dec = metrics_dec.compute()\n",
    "        val_acc_logits = metrics_dec.compute()\n",
    "\n",
    "        val_loss_mean_dec = np.mean(val_loss_dec)\n",
    "        val_loss_mean_logits = np.mean(val_loss_logits)\n",
    "        val_metrics = {'val/val_loss_dec': val_loss_mean_dec,\n",
    "                       'val/val_acc_dec' : val_acc_dec,\n",
    "                       'val/val_loss_logits': val_loss_mean_logits,\n",
    "                       'val/val_acc_logits' : val_acc_logits}\n",
    "        # log both metrics\n",
    "        wandb.log(val_metrics, step=step_count)\n",
    "\n",
    "        print(f\"Epoch {epoch:02} Train Loss Dec: {train_loss_dec:.3f}, Valid Loss Dec: {val_loss_mean_dec:.3f}, Train Accuracy Dec: {train_acc_dec:.2f} Valid Acc Dec: {val_acc_dec:.2f}\")\n",
    "\n",
    "    wandb.finish()"
   ],
   "id": "b293dd09541dcedd",
   "outputs": [],
   "execution_count": 393
  },
  {
   "metadata": {
    "ExecuteTime": {
     "end_time": "2025-09-22T17:02:33.330993Z",
     "start_time": "2025-09-22T17:01:53.291076Z"
    }
   },
   "cell_type": "code",
   "source": "train_encoder_and_classifier(epochs=10, model=model, loss_function=loss, optimizer=optimizer, metrics=metrics, device=device)",
   "id": "9b5729d337e87f6d",
   "outputs": [
    {
     "data": {
      "text/plain": [
       "<IPython.core.display.HTML object>"
      ],
      "text/html": []
     },
     "metadata": {},
     "output_type": "display_data",
     "jetTransient": {
      "display_id": "8299f164288e5c360ee4087350309038"
     }
    },
    {
     "data": {
      "text/plain": [
       "<IPython.core.display.HTML object>"
      ],
      "text/html": [
       "Tracking run with wandb version 0.21.4"
      ]
     },
     "metadata": {},
     "output_type": "display_data",
     "jetTransient": {
      "display_id": null
     }
    },
    {
     "data": {
      "text/plain": [
       "<IPython.core.display.HTML object>"
      ],
      "text/html": [
       "Run data is saved locally in <code>/Users/marbetschar/Development/zhaw/ZHAW-Advanced-Deep-Learning/Week 1/wandb/run-20250922_190153-70zgzfhw</code>"
      ]
     },
     "metadata": {},
     "output_type": "display_data",
     "jetTransient": {
      "display_id": null
     }
    },
    {
     "data": {
      "text/plain": [
       "<IPython.core.display.HTML object>"
      ],
      "text/html": [
       "Syncing run <strong><a href='https://wandb.ai/marbetschar-zhaw/encoder_and_classifier/runs/70zgzfhw' target=\"_blank\">classic-snowflake-12</a></strong> to <a href='https://wandb.ai/marbetschar-zhaw/encoder_and_classifier' target=\"_blank\">Weights & Biases</a> (<a href='https://wandb.me/developer-guide' target=\"_blank\">docs</a>)<br>"
      ]
     },
     "metadata": {},
     "output_type": "display_data",
     "jetTransient": {
      "display_id": null
     }
    },
    {
     "data": {
      "text/plain": [
       "<IPython.core.display.HTML object>"
      ],
      "text/html": [
       " View project at <a href='https://wandb.ai/marbetschar-zhaw/encoder_and_classifier' target=\"_blank\">https://wandb.ai/marbetschar-zhaw/encoder_and_classifier</a>"
      ]
     },
     "metadata": {},
     "output_type": "display_data",
     "jetTransient": {
      "display_id": null
     }
    },
    {
     "data": {
      "text/plain": [
       "<IPython.core.display.HTML object>"
      ],
      "text/html": [
       " View run at <a href='https://wandb.ai/marbetschar-zhaw/encoder_and_classifier/runs/70zgzfhw' target=\"_blank\">https://wandb.ai/marbetschar-zhaw/encoder_and_classifier/runs/70zgzfhw</a>"
      ]
     },
     "metadata": {},
     "output_type": "display_data",
     "jetTransient": {
      "display_id": null
     }
    },
    {
     "name": "stdout",
     "output_type": "stream",
     "text": [
      "Epoch 00 Train Loss Dec: 0.058, Valid Loss Dec: 0.056, Train Accuracy Dec: 0.06 Valid Acc Dec: 0.06\n",
      "Epoch 01 Train Loss Dec: 0.056, Valid Loss Dec: 0.055, Train Accuracy Dec: 0.06 Valid Acc Dec: 0.05\n",
      "Epoch 02 Train Loss Dec: 0.055, Valid Loss Dec: 0.054, Train Accuracy Dec: 0.05 Valid Acc Dec: 0.05\n",
      "Epoch 03 Train Loss Dec: 0.057, Valid Loss Dec: 0.054, Train Accuracy Dec: 0.05 Valid Acc Dec: 0.05\n",
      "Epoch 04 Train Loss Dec: 0.056, Valid Loss Dec: 0.053, Train Accuracy Dec: 0.05 Valid Acc Dec: 0.05\n",
      "Epoch 05 Train Loss Dec: 0.054, Valid Loss Dec: 0.053, Train Accuracy Dec: 0.05 Valid Acc Dec: 0.05\n",
      "Epoch 06 Train Loss Dec: 0.051, Valid Loss Dec: 0.052, Train Accuracy Dec: 0.05 Valid Acc Dec: 0.05\n",
      "Epoch 07 Train Loss Dec: 0.053, Valid Loss Dec: 0.052, Train Accuracy Dec: 0.05 Valid Acc Dec: 0.05\n",
      "Epoch 08 Train Loss Dec: 0.054, Valid Loss Dec: 0.051, Train Accuracy Dec: 0.05 Valid Acc Dec: 0.05\n",
      "Epoch 09 Train Loss Dec: 0.051, Valid Loss Dec: 0.051, Train Accuracy Dec: 0.05 Valid Acc Dec: 0.05\n"
     ]
    },
    {
     "data": {
      "text/plain": [
       "<IPython.core.display.HTML object>"
      ],
      "text/html": []
     },
     "metadata": {},
     "output_type": "display_data",
     "jetTransient": {
      "display_id": "712b6d28fdf3b673f94ab8a72c0e74bb"
     }
    },
    {
     "data": {
      "text/plain": [
       "<IPython.core.display.HTML object>"
      ],
      "text/html": [
       "<br>    <style><br>        .wandb-row {<br>            display: flex;<br>            flex-direction: row;<br>            flex-wrap: wrap;<br>            justify-content: flex-start;<br>            width: 100%;<br>        }<br>        .wandb-col {<br>            display: flex;<br>            flex-direction: column;<br>            flex-basis: 100%;<br>            flex: 1;<br>            padding: 10px;<br>        }<br>    </style><br><div class=\"wandb-row\"><div class=\"wandb-col\"><h3>Run history:</h3><br/><table class=\"wandb\"><tr><td>train/epoch</td><td>▁▁▁▁▂▂▂▂▃▃▃▃▃▃▃▃▃▄▄▄▄▄▅▅▆▆▆▆▆▆▆▆▇▇▇▇▇▇▇█</td></tr><tr><td>train/train_acc_dec</td><td>█▃▂▂▁▁▁▁▁▁▁▁▁▁▁▁▁▁▁▁▁▁▁▁▁▁▁▁▁▁▁▁▁▁▁▁▁▁▁▁</td></tr><tr><td>train/train_acc_logits</td><td>▁▁▁▁▁▁▁▃▁▁█▅▅▁▁▆▆▁▁▁▃▂▄▄▅▁▆▆▆▅▄▃▃▁▁▄▃▁▁▃</td></tr><tr><td>train/train_loss_dec:</td><td>▇▅█▆▆▇▅▇▇▆▆▂█▅▆▅▆▇▇█▇▅▅▇█▇▆▅▆▄▅▃▄█▅▄▁▇▃▅</td></tr><tr><td>train/train_loss_logits:</td><td>▆█▇▆▆▆▅▆▅▅▄▃▄▂▄▃▄▃▄▃▃▂▃▂▃▂▃▃▃▂▂▂▁▁▁▂▁▁▃▂</td></tr><tr><td>val/val_acc_dec</td><td>█▆▅▄▄▃▂▂▁▁</td></tr><tr><td>val/val_acc_logits</td><td>█▆▅▄▄▃▂▂▁▁</td></tr><tr><td>val/val_loss_dec</td><td>█▆▅▄▄▃▂▂▁▁</td></tr><tr><td>val/val_loss_logits</td><td>█▅▄▄▃▂▂▁▁▁</td></tr></table><br/></div><div class=\"wandb-col\"><h3>Run summary:</h3><br/><table class=\"wandb\"><tr><td>train/epoch</td><td>9</td></tr><tr><td>train/train_acc_dec</td><td>0.05138</td></tr><tr><td>train/train_acc_logits</td><td>2e-05</td></tr><tr><td>train/train_loss_dec:</td><td>0.05142</td></tr><tr><td>train/train_loss_logits:</td><td>1.51239</td></tr><tr><td>val/val_acc_dec</td><td>0.05108</td></tr><tr><td>val/val_acc_logits</td><td>0.05108</td></tr><tr><td>val/val_loss_dec</td><td>0.05107</td></tr><tr><td>val/val_loss_logits</td><td>1.55191</td></tr></table><br/></div></div>"
      ]
     },
     "metadata": {},
     "output_type": "display_data",
     "jetTransient": {
      "display_id": null
     }
    },
    {
     "data": {
      "text/plain": [
       "<IPython.core.display.HTML object>"
      ],
      "text/html": [
       " View run <strong style=\"color:#cdcd00\">classic-snowflake-12</strong> at: <a href='https://wandb.ai/marbetschar-zhaw/encoder_and_classifier/runs/70zgzfhw' target=\"_blank\">https://wandb.ai/marbetschar-zhaw/encoder_and_classifier/runs/70zgzfhw</a><br> View project at: <a href='https://wandb.ai/marbetschar-zhaw/encoder_and_classifier' target=\"_blank\">https://wandb.ai/marbetschar-zhaw/encoder_and_classifier</a><br>Synced 5 W&B file(s), 0 media file(s), 0 artifact file(s) and 0 other file(s)"
      ]
     },
     "metadata": {},
     "output_type": "display_data",
     "jetTransient": {
      "display_id": null
     }
    },
    {
     "data": {
      "text/plain": [
       "<IPython.core.display.HTML object>"
      ],
      "text/html": [
       "Find logs at: <code>./wandb/run-20250922_190153-70zgzfhw/logs</code>"
      ]
     },
     "metadata": {},
     "output_type": "display_data",
     "jetTransient": {
      "display_id": null
     }
    }
   ],
   "execution_count": 394
  },
  {
   "metadata": {
    "ExecuteTime": {
     "end_time": "2025-09-22T17:02:37.429681Z",
     "start_time": "2025-09-22T17:02:37.328536Z"
    }
   },
   "cell_type": "code",
   "source": [
    "# Visualize some of the decoded images:\n",
    "n = 5\n",
    "truths = np.random.randint(0, data_test.data.shape[0], size=n)\n",
    "\n",
    "model.to(device)\n",
    "model.eval()\n",
    "\n",
    "f, ax = plt.subplots(n, 3)\n",
    "ax[0][0].title.set_text(\"Truth\")\n",
    "ax[0][1].title.set_text(\"Decoded\")\n",
    "ax[0][2].title.set_text(\"Label\")\n",
    "\n",
    "for i in range(n):\n",
    "    truth = data_test.data[truths[i]].type(torch.float).to(device)\n",
    "    decoded, logits = model(truth.reshape(-1, 28*28))\n",
    "\n",
    "    decoded = decoded.reshape(28, 28)\n",
    "    logit_idx = torch.max(logits, dim=1).indices.cpu()\n",
    "    logit_label = labels.cpu()[logit_idx]\n",
    "\n",
    "    ax[i][0].axis('off')\n",
    "    ax[i][1].axis('off')\n",
    "    ax[i][2].axis('off')\n",
    "\n",
    "    ax[i][0].imshow(truth.reshape(28, 28).detach().cpu())\n",
    "    ax[i][1].imshow(decoded.detach().cpu())\n",
    "    ax[i][2].text(0.5, 0.5, logit_label.item(), ha='center', va='center')\n",
    "\n",
    "plt.show()"
   ],
   "id": "48822d55e5ea7c91",
   "outputs": [
    {
     "data": {
      "text/plain": [
       "<Figure size 640x480 with 15 Axes>"
      ],
      "image/png": "[encoded data removed]"
     },
     "metadata": {},
     "output_type": "display_data",
     "jetTransient": {
      "display_id": null
     }
    }
   ],
   "execution_count": 395
  },
  {
   "metadata": {},
   "cell_type": "code",
   "outputs": [],
   "execution_count": null,
   "source": "",
   "id": "514b1ef057d944c"
  }
 ],
 "metadata": {
  "kernelspec": {
   "display_name": "Python 3 (ipykernel)",
   "language": "python",
   "name": "python3"
  },
  "language_info": {
   "codemirror_mode": {
    "name": "ipython",
    "version": 3
   },
   "file_extension": ".py",
   "mimetype": "text/x-python",
   "name": "python",
   "nbconvert_exporter": "python",
   "pygments_lexer": "ipython3",
   "version": "3.12.4"
  }
 },
 "nbformat": 4,
 "nbformat_minor": 5
}
