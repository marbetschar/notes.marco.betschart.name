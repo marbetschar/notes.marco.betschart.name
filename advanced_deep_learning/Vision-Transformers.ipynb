{
 "cells": [
  {
   "cell_type": "markdown",
   "id": "e1f28de0",
   "metadata": {},
   "source": "# Vision Transformers"
  },
  {
   "metadata": {
    "tags": [
     "remove-cell"
    ],
    "ExecuteTime": {
     "end_time": "2025-10-27T19:49:17.682149Z",
     "start_time": "2025-10-27T19:49:17.246270Z"
    }
   },
   "cell_type": "code",
   "source": "%pip install matplotlib torch",
   "id": "e684815beb91a374",
   "outputs": [
    {
     "name": "stdout",
     "output_type": "stream",
     "text": [
      "Requirement already satisfied: matplotlib in /Users/marbetschar/Development/marbetschar/notes/.venv/lib/python3.9/site-packages (3.9.4)\r\n",
      "Requirement already satisfied: torch in /Users/marbetschar/Development/marbetschar/notes/.venv/lib/python3.9/site-packages (2.8.0)\r\n",
      "Requirement already satisfied: contourpy>=1.0.1 in /Users/marbetschar/Development/marbetschar/notes/.venv/lib/python3.9/site-packages (from matplotlib) (1.3.0)\r\n",
      "Requirement already satisfied: cycler>=0.10 in /Users/marbetschar/Development/marbetschar/notes/.venv/lib/python3.9/site-packages (from matplotlib) (0.12.1)\r\n",
      "Requirement already satisfied: fonttools>=4.22.0 in /Users/marbetschar/Development/marbetschar/notes/.venv/lib/python3.9/site-packages (from matplotlib) (4.60.1)\r\n",
      "Requirement already satisfied: kiwisolver>=1.3.1 in /Users/marbetschar/Development/marbetschar/notes/.venv/lib/python3.9/site-packages (from matplotlib) (1.4.7)\r\n",
      "Requirement already satisfied: numpy>=1.23 in /Users/marbetschar/Development/marbetschar/notes/.venv/lib/python3.9/site-packages (from matplotlib) (1.26.4)\r\n",
      "Requirement already satisfied: packaging>=20.0 in /Users/marbetschar/Development/marbetschar/notes/.venv/lib/python3.9/site-packages (from matplotlib) (25.0)\r\n",
      "Requirement already satisfied: pillow>=8 in /Users/marbetschar/Development/marbetschar/notes/.venv/lib/python3.9/site-packages (from matplotlib) (11.3.0)\r\n",
      "Requirement already satisfied: pyparsing>=2.3.1 in /Users/marbetschar/Development/marbetschar/notes/.venv/lib/python3.9/site-packages (from matplotlib) (3.2.5)\r\n",
      "Requirement already satisfied: python-dateutil>=2.7 in /Users/marbetschar/Development/marbetschar/notes/.venv/lib/python3.9/site-packages (from matplotlib) (2.9.0.post0)\r\n",
      "Requirement already satisfied: importlib-resources>=3.2.0 in /Users/marbetschar/Development/marbetschar/notes/.venv/lib/python3.9/site-packages (from matplotlib) (6.5.2)\r\n",
      "Requirement already satisfied: filelock in /Users/marbetschar/Development/marbetschar/notes/.venv/lib/python3.9/site-packages (from torch) (3.19.1)\r\n",
      "Requirement already satisfied: typing-extensions>=4.10.0 in /Users/marbetschar/Development/marbetschar/notes/.venv/lib/python3.9/site-packages (from torch) (4.15.0)\r\n",
      "Requirement already satisfied: sympy>=1.13.3 in /Users/marbetschar/Development/marbetschar/notes/.venv/lib/python3.9/site-packages (from torch) (1.14.0)\r\n",
      "Requirement already satisfied: networkx in /Users/marbetschar/Development/marbetschar/notes/.venv/lib/python3.9/site-packages (from torch) (3.2.1)\r\n",
      "Requirement already satisfied: jinja2 in /Users/marbetschar/Development/marbetschar/notes/.venv/lib/python3.9/site-packages (from torch) (3.1.6)\r\n",
      "Requirement already satisfied: fsspec in /Users/marbetschar/Development/marbetschar/notes/.venv/lib/python3.9/site-packages (from torch) (2025.9.0)\r\n",
      "Requirement already satisfied: zipp>=3.1.0 in /Users/marbetschar/Development/marbetschar/notes/.venv/lib/python3.9/site-packages (from importlib-resources>=3.2.0->matplotlib) (3.23.0)\r\n",
      "Requirement already satisfied: six>=1.5 in /Users/marbetschar/Development/marbetschar/notes/.venv/lib/python3.9/site-packages (from python-dateutil>=2.7->matplotlib) (1.17.0)\r\n",
      "Requirement already satisfied: mpmath<1.4,>=1.1.0 in /Users/marbetschar/Development/marbetschar/notes/.venv/lib/python3.9/site-packages (from sympy>=1.13.3->torch) (1.3.0)\r\n",
      "Requirement already satisfied: MarkupSafe>=2.0 in /Users/marbetschar/Development/marbetschar/notes/.venv/lib/python3.9/site-packages (from jinja2->torch) (3.0.3)\r\n",
      "Note: you may need to restart the kernel to use updated packages.\n"
     ]
    }
   ],
   "execution_count": 2
  },
  {
   "cell_type": "code",
   "id": "1dba4ed4",
   "metadata": {
    "ExecuteTime": {
     "end_time": "2025-10-27T19:49:17.869284Z",
     "start_time": "2025-10-27T19:49:17.685812Z"
    },
    "tags": [
     "remove-cell"
    ]
   },
   "source": [
    "import math, random\n",
    "import torch, numpy as np\n",
    "import torch.nn as nn\n",
    "import torch.nn.functional as F\n",
    "from torch import optim\n",
    "\n",
    "# Optional: plotting for attention maps\n",
    "import matplotlib.pyplot as plt\n",
    "\n",
    "torch.manual_seed(0)\n",
    "torch.__version__"
   ],
   "outputs": [
    {
     "data": {
      "text/plain": [
       "'2.8.0'"
      ]
     },
     "execution_count": 3,
     "metadata": {},
     "output_type": "execute_result"
    }
   ],
   "execution_count": 3
  },
  {
   "cell_type": "markdown",
   "id": "63726490",
   "metadata": {},
   "source": [
    "## From images to sequences: patchifying\n",
    "\n",
    "A Vision Transformer (ViT) treats an image as a **sequence of patches**. For an image of size $H\\times W$ and a square patch size $P$, the number of patches is\n",
    "$$\n",
    "N = \\frac{H}{P}\\cdot\\frac{W}{P}.\n",
    "$$\n",
    "\n",
    "Each $P\\times P$ patch is flattened and linearly projected to a $D$-dimensional embedding. We then add a learnable **class token** and **position embeddings** (1D over patches)."
   ]
  },
  {
   "cell_type": "markdown",
   "id": "5a1975e2",
   "metadata": {},
   "source": [
    "## Patch embedding layer\n",
    "\n",
    "A compact way to implement patchifying + linear projection is a strided convolution with kernel size $P$ and stride $P$ producing $D$ channels:\n",
    "$$\n",
    "\\text{PatchEmbed}(x) = \\text{Conv2d}(C\\rightarrow D,\\ \\text{kernel}=P,\\ \\text{stride}=P).\n",
    "$$\n"
   ]
  },
  {
   "cell_type": "code",
   "id": "d9630828",
   "metadata": {
    "ExecuteTime": {
     "end_time": "2025-10-27T19:49:17.888751Z",
     "start_time": "2025-10-27T19:49:17.884121Z"
    }
   },
   "source": [
    "class PatchEmbed(nn.Module):\n",
    "    def __init__(self, img_size=32, patch_size=4, in_chans=3, embed_dim=64):\n",
    "        super().__init__()\n",
    "        assert img_size % patch_size == 0, \"Image size must be divisible by patch size\"\n",
    "        self.img_size = img_size\n",
    "        self.patch_size = patch_size\n",
    "        self.grid = img_size // patch_size\n",
    "        self.proj = nn.Conv2d(in_chans, embed_dim, kernel_size=patch_size, stride=patch_size)\n",
    "    def forward(self, x):\n",
    "        # x: [B, C, H, W] -> [B, N, D]\n",
    "        x = self.proj(x)                     # [B, D, H/P, W/P]\n",
    "        x = x.flatten(2).transpose(1, 2)     # [B, N, D]\n",
    "        return x\n",
    "\n",
    "# Shape demo\n",
    "x = torch.randn(2, 3, 32, 32)\n",
    "pe = PatchEmbed(32, 4, 3, 64)\n",
    "pe(x).shape"
   ],
   "outputs": [
    {
     "data": {
      "text/plain": [
       "torch.Size([2, 64, 64])"
      ]
     },
     "execution_count": 4,
     "metadata": {},
     "output_type": "execute_result"
    }
   ],
   "execution_count": 4
  },
  {
   "cell_type": "markdown",
   "id": "d494c83f",
   "metadata": {},
   "source": [
    "## Class token and positional encodings\n",
    "\n",
    "We prepend a learned **[CLS]** embedding to the patch sequence. The transformer's output at this position is used for classification via an MLP **head**. We also add **learned** position embeddings $E_{pos}\\in\\mathbb{R}^{(N+1)\\times D}$:\n",
    "$$\n",
    "Z_0 = \\big[ x_{\\text{cls}};\\ X E \\big] + E_{pos}.\n",
    "$$\n"
   ]
  },
  {
   "cell_type": "code",
   "id": "eff21521",
   "metadata": {
    "ExecuteTime": {
     "end_time": "2025-10-27T19:49:17.901813Z",
     "start_time": "2025-10-27T19:49:17.897668Z"
    }
   },
   "source": [
    "class AddClassTokenAndPos(nn.Module):\n",
    "    def __init__(self, seq_len, embed_dim):\n",
    "        super().__init__()\n",
    "        self.cls = nn.Parameter(torch.zeros(1, 1, embed_dim))\n",
    "        self.pos = nn.Parameter(torch.zeros(1, seq_len + 1, embed_dim))\n",
    "        nn.init.trunc_normal_(self.cls, std=0.02)\n",
    "        nn.init.trunc_normal_(self.pos, std=0.02)\n",
    "    def forward(self, x):\n",
    "        B, N, D = x.shape\n",
    "        cls = self.cls.expand(B, -1, -1)\n",
    "        x = torch.cat([cls, x], dim=1)         # [B, N+1, D]\n",
    "        return x + self.pos[:, :N+1, :]\n",
    "\n",
    "x = torch.randn(2, 64, 128)  # [B,N,D]\n",
    "wrapper = AddClassTokenAndPos(seq_len=64, embed_dim=128)\n",
    "wrapper(x).shape"
   ],
   "outputs": [
    {
     "data": {
      "text/plain": [
       "torch.Size([2, 65, 128])"
      ]
     },
     "execution_count": 5,
     "metadata": {},
     "output_type": "execute_result"
    }
   ],
   "execution_count": 5
  },
  {
   "cell_type": "markdown",
   "id": "c93af5f1",
   "metadata": {},
   "source": [
    "## Multi-Head Self-Attention (MHSA)\n",
    "\n",
    "Given $X\\in\\mathbb{R}^{B\\times N\\times D}$, we compute queries, keys and values, split into $h$ heads of size $d_h=D/h$:\n",
    "\n",
    "$$\n",
    "Q = XW_Q,\\quad K = XW_K,\\quad V = XW_V,\\qquad\n",
    "\\text{Attn}(Q,K,V)=\\mathrm{softmax}\\!\\left(\\frac{QK^\\top}{\\sqrt{d_h}}\\right)V.\n",
    "$$\n",
    "\n",
    "Concatenate head outputs and project with $W_O$.\n"
   ]
  },
  {
   "cell_type": "code",
   "id": "211e2f3a",
   "metadata": {
    "ExecuteTime": {
     "end_time": "2025-10-27T19:49:17.915680Z",
     "start_time": "2025-10-27T19:49:17.909427Z"
    }
   },
   "source": [
    "class MultiHeadSelfAttention(nn.Module):\n",
    "    def __init__(self, dim=128, num_heads=4, attn_drop=0.0, proj_drop=0.0):\n",
    "        super().__init__()\n",
    "        assert dim % num_heads == 0\n",
    "        self.h = num_heads\n",
    "        self.dh = dim // num_heads\n",
    "        self.qkv = nn.Linear(dim, dim * 3, bias=False)\n",
    "        self.attn_drop = nn.Dropout(attn_drop)\n",
    "        self.proj = nn.Linear(dim, dim, bias=False)\n",
    "        self.proj_drop = nn.Dropout(proj_drop)\n",
    "        # for visualization\n",
    "        self.last_attn = None\n",
    "\n",
    "    def forward(self, x, mask=None):\n",
    "        B,N,D = x.shape\n",
    "        qkv = self.qkv(x).view(B, N, 3, self.h, self.dh).permute(2,0,3,1,4)  # 3, B, H, N, Dh\n",
    "        Q,K,V = qkv[0], qkv[1], qkv[2]                                       # [B,H,N,Dh]\n",
    "        scores = (Q @ K.transpose(-2, -1)) / math.sqrt(self.dh)              # [B,H,N,N]\n",
    "        if mask is not None:\n",
    "            scores = scores.masked_fill(mask==0, float('-inf'))\n",
    "        A = scores.softmax(dim=-1)\n",
    "        self.last_attn = A.detach()  # store for later inspection\n",
    "        A = self.attn_drop(A)\n",
    "        y = A @ V                                                         # [B,H,N,Dh]\n",
    "        y = y.transpose(1,2).contiguous().view(B, N, D)                   # [B,N,D]\n",
    "        y = self.proj_drop(self.proj(y))                                  # [B,N,D]\n",
    "        return y\n",
    "\n",
    "# Quick shape check\n",
    "mha = MultiHeadSelfAttention(dim=128, num_heads=8)\n",
    "tok = torch.randn(2, 65, 128)  # include [CLS]\n",
    "mha(tok).shape"
   ],
   "outputs": [
    {
     "data": {
      "text/plain": [
       "torch.Size([2, 65, 128])"
      ]
     },
     "execution_count": 6,
     "metadata": {},
     "output_type": "execute_result"
    }
   ],
   "execution_count": 6
  },
  {
   "cell_type": "markdown",
   "id": "e5497e5a",
   "metadata": {},
   "source": [
    "## Transformer encoder block (Pre-LN)\n",
    "\n",
    "Each block uses residual connections and layer normalization:\n",
    "$$\n",
    "X \\leftarrow X + \\mathrm{MHSA}(\\mathrm{LN}(X)),\\qquad\n",
    "X \\leftarrow X + \\mathrm{MLP}(\\mathrm{LN}(X)),\n",
    "$$\n",
    "where the MLP is a position-wise 2-layer network with expansion ratio $r$ (e.g., $r=4$).\n"
   ]
  },
  {
   "cell_type": "code",
   "id": "b95a56a8",
   "metadata": {
    "ExecuteTime": {
     "end_time": "2025-10-27T19:49:17.929673Z",
     "start_time": "2025-10-27T19:49:17.924054Z"
    }
   },
   "source": [
    "class TransformerEncoderBlock(nn.Module):\n",
    "    def __init__(self, dim=128, num_heads=4, mlp_ratio=4, pdrop=0.0):\n",
    "        super().__init__()\n",
    "        self.ln1 = nn.LayerNorm(dim)\n",
    "        self.attn = MultiHeadSelfAttention(dim, num_heads, proj_drop=pdrop)\n",
    "        self.ln2 = nn.LayerNorm(dim)\n",
    "        self.mlp = nn.Sequential(\n",
    "            nn.Linear(dim, dim*mlp_ratio),\n",
    "            nn.GELU(),\n",
    "            nn.Linear(dim*mlp_ratio, dim),\n",
    "        )\n",
    "        self.drop = nn.Dropout(pdrop)\n",
    "    def forward(self, x):\n",
    "        x = x + self.drop(self.attn(self.ln1(x)))\n",
    "        x = x + self.drop(self.mlp(self.ln2(x)))\n",
    "        return x\n",
    "\n",
    "blk = TransformerEncoderBlock(dim=128, num_heads=8, mlp_ratio=4, pdrop=0.1)\n",
    "blk(torch.randn(2, 65, 128)).shape"
   ],
   "outputs": [
    {
     "data": {
      "text/plain": [
       "torch.Size([2, 65, 128])"
      ]
     },
     "execution_count": 7,
     "metadata": {},
     "output_type": "execute_result"
    }
   ],
   "execution_count": 7
  },
  {
   "cell_type": "markdown",
   "id": "484149a9",
   "metadata": {},
   "source": [
    "## Minimal Vision Transformer (ViT)\n",
    "\n",
    "We combine **PatchEmbed**, **[CLS]+Position**, a stack of encoder blocks, and a **classification head** using the [CLS] output:\n"
   ]
  },
  {
   "cell_type": "code",
   "id": "f88ace8a",
   "metadata": {
    "ExecuteTime": {
     "end_time": "2025-10-27T19:49:17.947297Z",
     "start_time": "2025-10-27T19:49:17.937465Z"
    }
   },
   "source": [
    "class MiniViT(nn.Module):\n",
    "    def __init__(self, img_size=32, patch_size=4, in_chans=3, num_classes=10,\n",
    "                 embed_dim=128, depth=4, num_heads=4, mlp_ratio=4, pdrop=0.0):\n",
    "        super().__init__()\n",
    "        self.patch = PatchEmbed(img_size, patch_size, in_chans, embed_dim)\n",
    "        seq_len = (img_size // patch_size) ** 2\n",
    "        self.add_tokens = AddClassTokenAndPos(seq_len, embed_dim)\n",
    "        self.blocks = nn.ModuleList([\n",
    "            TransformerEncoderBlock(embed_dim, num_heads, mlp_ratio, pdrop)\n",
    "            for _ in range(depth)\n",
    "        ])\n",
    "        self.norm = nn.LayerNorm(embed_dim)\n",
    "        self.head = nn.Linear(embed_dim, num_classes)\n",
    "\n",
    "    def forward(self, x):\n",
    "        x = self.patch(x)             # [B,N,D]\n",
    "        x = self.add_tokens(x)        # [B,N+1,D]\n",
    "        for blk in self.blocks:\n",
    "            x = blk(x)\n",
    "        x = self.norm(x)\n",
    "        cls = x[:, 0]                 # [B,D]\n",
    "        return self.head(cls)         # [B,num_classes]\n",
    "\n",
    "# Shape demo\n",
    "model = MiniViT(img_size=32, patch_size=4, embed_dim=128, depth=3, num_heads=4, num_classes=5)\n",
    "demo = torch.randn(4,3,32,32)\n",
    "model(demo).shape"
   ],
   "outputs": [
    {
     "data": {
      "text/plain": [
       "torch.Size([4, 5])"
      ]
     },
     "execution_count": 8,
     "metadata": {},
     "output_type": "execute_result"
    }
   ],
   "execution_count": 8
  },
  {
   "cell_type": "markdown",
   "id": "1ee17ae4",
   "metadata": {},
   "source": [
    "## Toy example: learn to classify simple synthetic patterns\n",
    "\n",
    "We create tiny $32\\times 32$ images with two classes:\n",
    "- Class 0: a bright square in the **top-left** quadrant.\n",
    "- Class 1: a bright square in the **bottom-right** quadrant.\n",
    "\n",
    "This shows the ViT can learn spatial patterns from patches.\n"
   ]
  },
  {
   "cell_type": "code",
   "id": "397c77fa",
   "metadata": {
    "ExecuteTime": {
     "end_time": "2025-10-27T19:49:36.418304Z",
     "start_time": "2025-10-27T19:49:17.955234Z"
    }
   },
   "source": [
    "def make_synthetic_dataset(N=512, img_size=32, square=6):\n",
    "    X = torch.zeros(N, 3, img_size, img_size)\n",
    "    y = torch.zeros(N, dtype=torch.long)\n",
    "    for i in range(N):\n",
    "        cls = random.randint(0,1)\n",
    "        y[i] = cls\n",
    "        if cls == 0:\n",
    "            r0, c0 = 3, 3\n",
    "        else:\n",
    "            r0, c0 = img_size - square - 3, img_size - square - 3\n",
    "        X[i,:, r0:r0+square, c0:c0+square] = 1.0\n",
    "        # add tiny noise\n",
    "        X[i] += 0.05*torch.randn_like(X[i])\n",
    "        X[i].clamp_(0,1)\n",
    "    return X, y\n",
    "\n",
    "Xtr, ytr = make_synthetic_dataset(512, 32, square=6)\n",
    "Xte, yte = make_synthetic_dataset(128, 32, square=6)\n",
    "\n",
    "model = MiniViT(img_size=32, patch_size=4, embed_dim=128, depth=4, num_heads=4, num_classes=2, pdrop=0.1)\n",
    "opt = optim.Adam(model.parameters(), lr=3e-3)\n",
    "for step in range(200):\n",
    "    idx = torch.randint(0, Xtr.size(0), (64,))\n",
    "    xb, yb = Xtr[idx], ytr[idx]\n",
    "    logits = model(xb)\n",
    "    loss = F.cross_entropy(logits, yb)\n",
    "    opt.zero_grad(); loss.backward(); opt.step()\n",
    "\n",
    "with torch.no_grad():\n",
    "    pred = model(Xte).argmax(-1)\n",
    "    acc = (pred == yte).float().mean().item()\n",
    "acc"
   ],
   "outputs": [
    {
     "data": {
      "text/plain": [
       "1.0"
      ]
     },
     "execution_count": 9,
     "metadata": {},
     "output_type": "execute_result"
    }
   ],
   "execution_count": 9
  },
  {
   "cell_type": "markdown",
   "id": "f876b74a",
   "metadata": {},
   "source": [
    "## Visualizing an attention map\n",
    "\n",
    "We grab the last attention matrix from the first block to see how the **[CLS]** token attends to patches.\n"
   ]
  },
  {
   "cell_type": "code",
   "id": "70935220",
   "metadata": {
    "ExecuteTime": {
     "end_time": "2025-10-27T19:49:36.580145Z",
     "start_time": "2025-10-27T19:49:36.438222Z"
    }
   },
   "source": [
    "# Forward a small batch and capture attention from the first block\n",
    "_ = model(Xte[:1])\n",
    "attn = model.blocks[0].attn.last_attn  # [B,H,N+1,N+1]\n",
    "attn_cls = attn[0,0,0]                 # head 0, from CLS: [N+1]\n",
    "L = int(math.sqrt(attn_cls.numel()))   # includes CLS; rough grid viz\n",
    "# Plot as a square, ignoring the CLS element for nicer layout\n",
    "fig = plt.figure()\n",
    "grid = int(math.sqrt(attn_cls.numel()-1))\n",
    "plt.imshow(attn_cls[1:].view(grid, grid).cpu().numpy())\n",
    "plt.title(\"Head 0 attention from [CLS] to patches\")\n",
    "plt.colorbar()\n",
    "plt.show()"
   ],
   "outputs": [
    {
     "data": {
      "text/plain": [
       "<Figure size 640x480 with 2 Axes>"
      ],
      "image/png": "[encoded data removed]"
     },
     "metadata": {},
     "output_type": "display_data",
     "jetTransient": {
      "display_id": null
     }
    }
   ],
   "execution_count": 10
  },
  {
   "cell_type": "markdown",
   "id": "34ea108b",
   "metadata": {},
   "source": [
    "## Effect of patch size on compute\n",
    "\n",
    "Self-attention cost scales as $\\mathcal{O}(N^2)$ with sequence length $N$ (number of patches). For fixed $H,W$:\n",
    "$$\n",
    "N = \\left(\\frac{H}{P}\\right)\\left(\\frac{W}{P}\\right)\\ \\Rightarrow\\ \\text{cost}\\propto N^2 \\propto \\left(\\frac{HW}{P^2}\\right)^2.\n",
    "$$\n",
    "\n",
    "Below we compare sequence lengths and a proxy for attention cost across patch sizes.\n"
   ]
  },
  {
   "cell_type": "code",
   "id": "5ca8776c",
   "metadata": {
    "ExecuteTime": {
     "end_time": "2025-10-27T19:49:36.618533Z",
     "start_time": "2025-10-27T19:49:36.603556Z"
    }
   },
   "source": [
    "def seq_len_and_cost(img_size=224, patch_sizes=(32,16,14,8)):\n",
    "    rows = []\n",
    "    HW = img_size*img_size\n",
    "    for P in patch_sizes:\n",
    "        N = (img_size//P)*(img_size//P)\n",
    "        proxy = (HW/(P*P))**2\n",
    "        rows.append((P, int(N), int(proxy)))\n",
    "    return rows\n",
    "\n",
    "rows = seq_len_and_cost(224, (32,16,14,8))\n",
    "rows"
   ],
   "outputs": [
    {
     "data": {
      "text/plain": [
       "[(32, 49, 2401), (16, 196, 38416), (14, 256, 65536), (8, 784, 614656)]"
      ]
     },
     "execution_count": 11,
     "metadata": {},
     "output_type": "execute_result"
    }
   ],
   "execution_count": 11
  },
  {
   "cell_type": "markdown",
   "id": "7ed5ba4f",
   "metadata": {},
   "source": [
    "## Parameter scaling and common variants\n",
    "\n",
    "A rough parameter estimate for a ViT-like model with depth $L$, hidden size $D$, MLP ratio $r$, and heads $h$ is dominated by **QKV/O** and **MLP** weights per block:\n",
    "$$\n",
    "\\text{per-block} \\approx 4D^2 \\ (\\text{Q,K,V,O}) \\ + \\ 2DrD \\ (\\text{MLP}).\n",
    "$$\n",
    "\n",
    "We add patch projection and classifier head for a coarse total. This helps relate **ViT-Base/Large/Huge** configurations.\n"
   ]
  },
  {
   "cell_type": "code",
   "id": "326c4692",
   "metadata": {
    "ExecuteTime": {
     "end_time": "2025-10-27T19:49:36.647317Z",
     "start_time": "2025-10-27T19:49:36.632045Z"
    }
   },
   "source": [
    "def vit_param_estimate(img_size=224, patch=16, in_chans=3, D=768, L=12, r=4, heads=12, num_classes=1000):\n",
    "    # Patch projection\n",
    "    patch_params = (in_chans * patch * patch) * D + D  # conv weights + bias\n",
    "    # Per block: QKV/O ~ 4*D^2, MLP ~ 2*D*r*D\n",
    "    per_block = 4*D*D + 2*D*r*D\n",
    "    enc_params = L * per_block\n",
    "    head_params = D * num_classes + num_classes\n",
    "    total = patch_params + enc_params + head_params\n",
    "    return {\"patch\": patch_params, \"encoder_blocks\": enc_params, \"head\": head_params, \"total_approx\": total}\n",
    "\n",
    "est_B16 = vit_param_estimate(D=768, L=12, heads=12, patch=16)\n",
    "est_L16 = vit_param_estimate(D=1024, L=24, heads=16, patch=16)\n",
    "est_H14 = vit_param_estimate(D=1280, L=32, heads=16, patch=14)\n",
    "est_B16, est_L16, est_H14"
   ],
   "outputs": [
    {
     "data": {
      "text/plain": [
       "({'patch': 590592,\n",
       "  'encoder_blocks': 84934656,\n",
       "  'head': 769000,\n",
       "  'total_approx': 86294248},\n",
       " {'patch': 787456,\n",
       "  'encoder_blocks': 301989888,\n",
       "  'head': 1025000,\n",
       "  'total_approx': 303802344},\n",
       " {'patch': 753920,\n",
       "  'encoder_blocks': 629145600,\n",
       "  'head': 1281000,\n",
       "  'total_approx': 631180520})"
      ]
     },
     "execution_count": 12,
     "metadata": {},
     "output_type": "execute_result"
    }
   ],
   "execution_count": 12
  },
  {
   "cell_type": "markdown",
   "id": "8c8add65",
   "metadata": {},
   "source": [
    "## Mixing CNNs and Attention (CoAt-style sketch)\n",
    "\n",
    "Depthwise convolutions excel at local, translation-invariant patterns; attention is **input-adaptive** with global receptive fields. A simple hybrid stacks a few **conv stages** (downsample + depthwise separable conv) followed by **transformer stages**.\n",
    "\n",
    "Below is a tiny hybrid block showing how you might combine them.\n"
   ]
  },
  {
   "cell_type": "code",
   "id": "f4a1d173",
   "metadata": {
    "ExecuteTime": {
     "end_time": "2025-10-27T19:49:36.683416Z",
     "start_time": "2025-10-27T19:49:36.660116Z"
    }
   },
   "source": [
    "class DepthwiseSeparableConv(nn.Module):\n",
    "    def __init__(self, C, expand=4):\n",
    "        super().__init__()\n",
    "        self.pw1 = nn.Conv2d(C, C*expand, 1)\n",
    "        self.dw  = nn.Conv2d(C*expand, C*expand, 3, padding=1, groups=C*expand)\n",
    "        self.pw2 = nn.Conv2d(C*expand, C, 1)\n",
    "        self.bn = nn.BatchNorm2d(C)\n",
    "        self.act = nn.GELU()\n",
    "    def forward(self, x):\n",
    "        x = self.pw1(x); x = self.act(self.dw(x)); x = self.pw2(x)\n",
    "        return self.bn(x)\n",
    "\n",
    "class TinyHybridStage(nn.Module):\n",
    "    def __init__(self, C=32, embed_dim=128, num_heads=4, grid=8):\n",
    "        super().__init__()\n",
    "        self.down = nn.Conv2d(C, C, 3, stride=2, padding=1)  # downsample\n",
    "        self.conv = DepthwiseSeparableConv(C)\n",
    "        self.to_seq = nn.Conv2d(C, embed_dim, 1)\n",
    "        self.blk = TransformerEncoderBlock(embed_dim, num_heads)\n",
    "        self.grid = grid//2\n",
    "    def forward(self, x):\n",
    "        x = self.down(x)\n",
    "        x = self.conv(x)\n",
    "        x = self.to_seq(x)          # [B, D, H', W']\n",
    "        B,D,H,W = x.shape\n",
    "        x = x.flatten(2).transpose(1,2)           # [B, N, D]\n",
    "        x = torch.cat([torch.zeros(B,1,D, device=x.device), x], dim=1)  # add a fake CLS (zero) for demo\n",
    "        x = self.blk(x)\n",
    "        return x\n",
    "\n",
    "hyb = TinyHybridStage(C=16, embed_dim=64, num_heads=4, grid=8)\n",
    "hyb(torch.randn(2,16,16,16)).shape"
   ],
   "outputs": [
    {
     "data": {
      "text/plain": [
       "torch.Size([2, 65, 64])"
      ]
     },
     "execution_count": 13,
     "metadata": {},
     "output_type": "execute_result"
    }
   ],
   "execution_count": 13
  },
  {
   "cell_type": "markdown",
   "id": "a3a076e5",
   "metadata": {},
   "source": [
    "## Where to go next\n",
    "\n",
    "- Swap the synthetic task for a small real dataset and compare patch sizes ($P{=}$8 vs 16).\n",
    "- Visualize multiple heads/layers to see **attention distance** patterns.\n",
    "- Try a hybrid: 3 convolutional stages followed by 2 transformer stages.\n",
    "- Experiment with **relative position bias** in attention (replace absolute positions).\n",
    "\n",
    "This notebook is designed as a compact **practice companion** to the slides.\n"
   ]
  }
 ],
 "metadata": {
  "kernelspec": {
   "name": "python3",
   "language": "python",
   "display_name": "Python 3 (ipykernel)"
  }
 },
 "nbformat": 4,
 "nbformat_minor": 5
}
