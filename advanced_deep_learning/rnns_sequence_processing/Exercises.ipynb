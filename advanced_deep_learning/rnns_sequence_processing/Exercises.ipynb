{
 "cells": [
  {
   "cell_type": "markdown",
   "id": "e4291daa-e8ea-4475-a1bf-96833fa13a82",
   "metadata": {},
   "source": [
    "# Exercises\n",
    "\n",
    "## Tutorial and homework 1: Sentiment Analysis\n",
    "\n",
    "We will look at a simple example of sequence processing in sentiment analysis. Sentiment analysis is used to determine the emotion in a text. \n",
    "\n",
    "We will use a data set from IMDB consisting of movie reviews and are only interested if they are positive or negative (http://ai.stanford.edu/~amaas/data/sentiment/)\n",
    "\n",
    "In addition to the libraries installed last time, we will also neet torchtext and datasets: \n",
    "\n",
    "pip install torchtext\n",
    "pip install datasets"
   ]
  },
  {
   "cell_type": "code",
   "id": "ffb3bca6-8711-4bd1-a54c-eae0a4966c19",
   "metadata": {
    "ExecuteTime": {
     "end_time": "2025-09-29T14:07:58.952565Z",
     "start_time": "2025-09-29T14:07:58.949446Z"
    }
   },
   "source": [
    "import collections\n",
    "\n",
    "import datasets\n",
    "import matplotlib.pyplot as plt\n",
    "import numpy as np\n",
    "import torch\n",
    "import torch.nn as nn\n",
    "import torch.optim as optim\n",
    "import tqdm\n",
    "import os\n",
    "import re\n",
    "from collections import Counter"
   ],
   "outputs": [],
   "execution_count": 108
  },
  {
   "cell_type": "code",
   "id": "71c9077d-ddea-4a6c-9a65-4f45814e2295",
   "metadata": {
    "ExecuteTime": {
     "end_time": "2025-09-29T13:52:13.927948Z",
     "start_time": "2025-09-29T13:52:13.918568Z"
    }
   },
   "source": [
    "seed = 1234\n",
    "\n",
    "np.random.seed(seed)\n",
    "torch.manual_seed(seed)\n",
    "torch.cuda.manual_seed(seed)\n",
    "torch.backends.cudnn.deterministic = True"
   ],
   "outputs": [],
   "execution_count": 52
  },
  {
   "cell_type": "markdown",
   "id": "d5969ca5-546f-4b87-b0fe-59caa38f2e80",
   "metadata": {},
   "source": [
    "### Loading and Preprocessing the IMDb Dataset\n",
    "\n",
    "We’ll use datasets to load and preprocess the IMDb dataset (it is also available from torchtext)\n",
    "- TorchText makes it easy to handle text data, including tokenization, padding, and batch generation.\n",
    "- IMDB Dataset consists of movie reviews labeled as positive or negative."
   ]
  },
  {
   "cell_type": "code",
   "id": "cbb8a673-db3f-4a5b-bb24-35d98aafe6af",
   "metadata": {
    "ExecuteTime": {
     "end_time": "2025-09-29T13:52:16.037912Z",
     "start_time": "2025-09-29T13:52:13.933075Z"
    }
   },
   "source": [
    "train_data, test_data = datasets.load_dataset(\"imdb\", split=[\"train\", \"test\"])\n",
    "train_data"
   ],
   "outputs": [
    {
     "data": {
      "text/plain": [
       "Dataset({\n",
       "    features: ['text', 'label'],\n",
       "    num_rows: 25000\n",
       "})"
      ]
     },
     "execution_count": 53,
     "metadata": {},
     "output_type": "execute_result"
    }
   ],
   "execution_count": 53
  },
  {
   "cell_type": "markdown",
   "id": "f344b68f-b677-494c-9cae-bf066f0d401a",
   "metadata": {},
   "source": [
    "### Tokenizer\n",
    "We will use a tokinizer to split the sentences in words. This tokenizer will normalize english text first and then extract the words."
   ]
  },
  {
   "cell_type": "code",
   "id": "4645d12b-a223-433f-94be-5dfb6f6db617",
   "metadata": {
    "ExecuteTime": {
     "end_time": "2025-09-29T13:52:16.119159Z",
     "start_time": "2025-09-29T13:52:16.117475Z"
    }
   },
   "source": [
    "# Replacement for torchtext.data.utils.get_tokenizer(\"basic_english\")\n",
    "def basic_english_tokenizer(text: str):\n",
    "    text = text.lower()\n",
    "    # Unify HTML breaks etc.\n",
    "    text = text.replace(\"<br />\", \" \")\n",
    "    # Separate punctuation (keep apostrophes for contractions)\n",
    "    text = re.sub(r\"([.,!?;:()\\\"“”‘’\\-])\", r\" \\1 \", text)\n",
    "    # Collapse multiple spaces\n",
    "    text = re.sub(r\"\\s+\", \" \", text).strip()\n",
    "    return text.split()\n",
    "\n",
    "tokenizer = basic_english_tokenizer"
   ],
   "outputs": [],
   "execution_count": 54
  },
  {
   "cell_type": "code",
   "id": "d5a90d26-54cc-4020-ac4c-7a454d84723b",
   "metadata": {
    "ExecuteTime": {
     "end_time": "2025-09-29T13:52:16.136114Z",
     "start_time": "2025-09-29T13:52:16.134674Z"
    }
   },
   "source": [
    "def tokenize_example(example, tokenizer, max_length):\n",
    "    tokens = tokenizer(example[\"text\"])[:max_length]\n",
    "    length = len(tokens)\n",
    "    return {\"tokens\": tokens, \"length\": length}"
   ],
   "outputs": [],
   "execution_count": 55
  },
  {
   "cell_type": "markdown",
   "id": "60ffea7b-20d1-41e4-a3f9-e0e2283d6079",
   "metadata": {},
   "source": [
    "### Token sequence\n",
    "This will transfer the input data into sequences of words of a maximal length. While the model does not require the sequences to have the same length, it is needed for batch processing later.\n",
    "\n",
    "We then split the data sets."
   ]
  },
  {
   "cell_type": "code",
   "id": "e4ddde67-d79b-4dab-b7e1-b0b1d07b5e03",
   "metadata": {
    "ExecuteTime": {
     "end_time": "2025-09-29T13:52:16.183338Z",
     "start_time": "2025-09-29T13:52:16.144988Z"
    }
   },
   "source": [
    "max_length = 256\n",
    "\n",
    "train_data = train_data.map(\n",
    "    tokenize_example, fn_kwargs={\"tokenizer\": tokenizer, \"max_length\": max_length}\n",
    ")\n",
    "test_data = test_data.map(\n",
    "    tokenize_example, fn_kwargs={\"tokenizer\": tokenizer, \"max_length\": max_length}\n",
    ")"
   ],
   "outputs": [],
   "execution_count": 56
  },
  {
   "cell_type": "code",
   "id": "2244709b-2255-409a-ad96-812d7dcf6230",
   "metadata": {
    "ExecuteTime": {
     "end_time": "2025-09-29T13:52:16.191252Z",
     "start_time": "2025-09-29T13:52:16.186216Z"
    }
   },
   "source": [
    "test_size = 0.25\n",
    "\n",
    "train_valid_data = train_data.train_test_split(test_size=test_size)\n",
    "train_data = train_valid_data[\"train\"]\n",
    "valid_data = train_valid_data[\"test\"]"
   ],
   "outputs": [],
   "execution_count": 57
  },
  {
   "cell_type": "markdown",
   "id": "2d8c86b2-84da-485f-8aea-4320a151ce36",
   "metadata": {},
   "source": [
    "### Vocabulary\n",
    "\n",
    "Next we build the vocabulary of all words in the set and add two special \"words\" for unknown and padding."
   ]
  },
  {
   "cell_type": "code",
   "id": "da1ac450-e307-4c44-91c1-1355a12c91d7",
   "metadata": {
    "ExecuteTime": {
     "end_time": "2025-09-29T13:52:17.158728Z",
     "start_time": "2025-09-29T13:52:16.195042Z"
    }
   },
   "source": [
    "# Replacement for torchtext.vocab.build_vocab_from_iterator and torchtext.vocab.Vocab\n",
    "class Vocab:\n",
    "    def __init__(self, counter: Counter, min_freq: int = 1, specials=None):\n",
    "        if specials is None:\n",
    "            specials = []\n",
    "        # Ensure special tokens are at the beginning\n",
    "        self.itos = list(specials)\n",
    "        # Filter tokens by min_freq and exclude specials duplicates\n",
    "        tokens = [tok for tok, freq in counter.items() if freq >= min_freq and tok not in specials]\n",
    "        tokens.sort()\n",
    "        self.itos.extend(tokens)\n",
    "        self.stoi = {tok: idx for idx, tok in enumerate(self.itos)}\n",
    "        self.default_index = 0  # default to first special (e.g., <unk>)\n",
    "\n",
    "    def __len__(self):\n",
    "        return len(self.itos)\n",
    "\n",
    "    def __getitem__(self, token: str) -> int:\n",
    "        return self.stoi.get(token, self.default_index)\n",
    "\n",
    "    def set_default_index(self, idx: int):\n",
    "        self.default_index = idx\n",
    "\n",
    "    def get_itos(self):\n",
    "        return self.itos\n",
    "\n",
    "    def lookup_indices(self, tokens):\n",
    "        return [self.stoi.get(t, self.default_index) for t in tokens]\n",
    "\n",
    "min_freq = 5\n",
    "special_tokens = [\"<unk>\", \"<pad>\"]\n",
    "\n",
    "token_counter = Counter()\n",
    "for tokens in train_data[\"tokens\"]:\n",
    "    token_counter.update(tokens)\n",
    "\n",
    "vocab = Vocab(token_counter, min_freq=min_freq, specials=special_tokens)\n",
    "\n",
    "unk_index = vocab[\"<unk>\"]\n",
    "pad_index = vocab[\"<pad>\"]\n",
    "\n",
    "vocab.set_default_index(unk_index)"
   ],
   "outputs": [],
   "execution_count": 58
  },
  {
   "cell_type": "code",
   "id": "6a89ad0c-521d-406c-b657-2b457795b73a",
   "metadata": {
    "ExecuteTime": {
     "end_time": "2025-09-29T13:52:17.187819Z",
     "start_time": "2025-09-29T13:52:17.186415Z"
    }
   },
   "source": [
    "def numericalize_example(example, vocab):\n",
    "    ids = vocab.lookup_indices(example[\"tokens\"])\n",
    "    return {\"ids\": ids}"
   ],
   "outputs": [],
   "execution_count": 59
  },
  {
   "cell_type": "code",
   "id": "ac783c13-40ef-49e5-873d-2030eceb5429",
   "metadata": {
    "ExecuteTime": {
     "end_time": "2025-09-29T13:52:17.304724Z",
     "start_time": "2025-09-29T13:52:17.191045Z"
    }
   },
   "source": [
    "train_data = train_data.map(numericalize_example, fn_kwargs={\"vocab\": vocab})\n",
    "valid_data = valid_data.map(numericalize_example, fn_kwargs={\"vocab\": vocab})\n",
    "test_data = test_data.map(numericalize_example, fn_kwargs={\"vocab\": vocab})"
   ],
   "outputs": [],
   "execution_count": 60
  },
  {
   "cell_type": "code",
   "id": "8323344c-4c4b-4970-b503-85bbec3bcfb4",
   "metadata": {
    "ExecuteTime": {
     "end_time": "2025-09-29T13:52:17.309787Z",
     "start_time": "2025-09-29T13:52:17.307735Z"
    }
   },
   "source": [
    "train_data = train_data.with_format(type=\"torch\", columns=[\"ids\", \"label\", \"length\"])\n",
    "valid_data = valid_data.with_format(type=\"torch\", columns=[\"ids\", \"label\", \"length\"])\n",
    "test_data = test_data.with_format(type=\"torch\", columns=[\"ids\", \"label\", \"length\"])"
   ],
   "outputs": [],
   "execution_count": 61
  },
  {
   "cell_type": "code",
   "id": "4cfc2446-cff7-4f44-bc23-08570a39ec31",
   "metadata": {
    "ExecuteTime": {
     "end_time": "2025-09-29T13:52:17.315232Z",
     "start_time": "2025-09-29T13:52:17.312840Z"
    }
   },
   "source": "train_data[0]",
   "outputs": [
    {
     "data": {
      "text/plain": [
       "{'label': tensor(1),\n",
       " 'length': tensor(133),\n",
       " 'ids': tensor([11758,   161, 19698, 10538, 15596, 14963, 13794, 13713, 19614,  2263,\n",
       "         13028,  1108,  9153, 19862, 13727, 19614, 16319, 13713, 19614, 21668,\n",
       "           163, 19862,  9169, 19698, 13023, 10538, 19862,  9169,  8059, 10584,\n",
       "           163,  9826, 16127, 19605, 19614,  6433,   445, 21374,   490, 19816,\n",
       "         13713, 20413,   163, 19614,  6481, 21236, 21294,   161,  4215, 19729,\n",
       "         20763,  1000,   161,  1173, 13576,  5601, 21236,  1036,   490,  3496,\n",
       "           163, 13941, 13713, 19605,  4399,  3146,   490,  9381,   161,     0,\n",
       "           617,   163, 13289,  2106, 14459, 10033, 19698, 13023, 17675,  9221,\n",
       "         21236, 13358,   855, 19862,  2075, 20343,  3373,  1528,   490, 13794,\n",
       "          5752, 20943, 10033, 19614, 21497,   163,  9487, 20215, 10538,  1148,\n",
       "         10301, 19862,  1000,   163, 19614, 13792,   162, 17167,  3659,  2285,\n",
       "          3030,  1173, 11756,  6211, 13678,  4235, 19862,  2726,  1173, 10695,\n",
       "           163, 10735, 13168, 10538,   490, 14823,   163,  8552, 17264, 19698,\n",
       "         13023, 19918,     2])}"
      ]
     },
     "execution_count": 62,
     "metadata": {},
     "output_type": "execute_result"
    }
   ],
   "execution_count": 62
  },
  {
   "cell_type": "markdown",
   "id": "512352f1-7b44-4d98-92b3-4d3bc1f3a89c",
   "metadata": {},
   "source": [
    "### Creating Batches\n",
    "\n",
    "Next we create batches out of the data with the same length and store the indices, actual length and label in the batch."
   ]
  },
  {
   "cell_type": "code",
   "id": "56911a3d-9224-45e4-8885-b802954e274e",
   "metadata": {
    "ExecuteTime": {
     "end_time": "2025-09-29T13:52:17.326121Z",
     "start_time": "2025-09-29T13:52:17.324372Z"
    }
   },
   "source": [
    "def get_collate_fn(pad_index):\n",
    "    def collate_fn(batch):\n",
    "        batch_ids = [i[\"ids\"] for i in batch]\n",
    "        batch_ids = nn.utils.rnn.pad_sequence(\n",
    "            batch_ids, padding_value=pad_index, batch_first=True\n",
    "        )\n",
    "        batch_length = [i[\"length\"] for i in batch]\n",
    "        batch_length = torch.stack(batch_length)\n",
    "        batch_label = [i[\"label\"] for i in batch]\n",
    "        batch_label = torch.stack(batch_label)\n",
    "        batch = {\"ids\": batch_ids, \"length\": batch_length, \"label\": batch_label}\n",
    "        return batch\n",
    "\n",
    "    return collate_fn"
   ],
   "outputs": [],
   "execution_count": 63
  },
  {
   "cell_type": "code",
   "id": "fc932aea-0a2d-4a22-a655-59bbe048027b",
   "metadata": {
    "ExecuteTime": {
     "end_time": "2025-09-29T13:52:17.335078Z",
     "start_time": "2025-09-29T13:52:17.333638Z"
    }
   },
   "source": [
    "def get_data_loader(dataset, batch_size, pad_index, shuffle=False):\n",
    "    collate_fn = get_collate_fn(pad_index)\n",
    "    data_loader = torch.utils.data.DataLoader(\n",
    "        dataset=dataset,\n",
    "        batch_size=batch_size,\n",
    "        collate_fn=collate_fn,\n",
    "        shuffle=shuffle,\n",
    "    )\n",
    "    return data_loader"
   ],
   "outputs": [],
   "execution_count": 64
  },
  {
   "cell_type": "code",
   "id": "a1293e9a-2682-4cd8-9bf2-9bebcfa9edf9",
   "metadata": {
    "ExecuteTime": {
     "end_time": "2025-09-29T13:52:17.339594Z",
     "start_time": "2025-09-29T13:52:17.337271Z"
    }
   },
   "source": [
    "batch_size = 512\n",
    "\n",
    "train_data_loader = get_data_loader(train_data, batch_size, pad_index, shuffle=True)\n",
    "valid_data_loader = get_data_loader(valid_data, batch_size, pad_index)\n",
    "test_data_loader = get_data_loader(test_data, batch_size, pad_index)"
   ],
   "outputs": [],
   "execution_count": 65
  },
  {
   "cell_type": "markdown",
   "id": "ff3247b2-ec26-43ee-9506-83676edff0ed",
   "metadata": {},
   "source": [
    "### RNN Model\n",
    "\n",
    "Now we can build a model, we will use a RNN Model first. It includes\n",
    "\n",
    "- Embedding Layer: Turns words into dense vectors.\n",
    "- RNN Layer: A simple recurrent layer to capture sequence information.\n",
    "- Fully Connected Layer: To classify the output."
   ]
  },
  {
   "cell_type": "code",
   "id": "0ec9c695-3f42-474d-952b-8e56cfa1d299",
   "metadata": {
    "ExecuteTime": {
     "end_time": "2025-09-29T13:52:17.343949Z",
     "start_time": "2025-09-29T13:52:17.341930Z"
    }
   },
   "source": [
    "class RNN(nn.Module):\n",
    "    def __init__(self, vocab_size, embedding_dim, hidden_dim, output_dim, n_layers, \n",
    "                 bidirectional, dropout, pad_idx):\n",
    "        super().__init__()\n",
    "\n",
    "        self.embedding = nn.Embedding(vocab_size, embedding_dim, padding_idx=pad_idx)\n",
    "        self.rnn = nn.RNN(embedding_dim, hidden_dim, num_layers=n_layers, \n",
    "                          bidirectional=bidirectional, dropout=dropout, batch_first=True)\n",
    "        self.fc = nn.Linear(hidden_dim * 2 if bidirectional else hidden_dim, output_dim)\n",
    "        self.dropout = nn.Dropout(dropout)\n",
    "\n",
    "    def forward(self, ids, length):\n",
    "        # ids = [batch size, seq len]\n",
    "        # length = [batch size]\n",
    "        embedded = self.dropout(self.embedding(ids))\n",
    "        # embedded = [batch size, seq len, embedding dim]\n",
    "        packed_embedded = nn.utils.rnn.pack_padded_sequence(\n",
    "            embedded, length, batch_first=True, enforce_sorted=False\n",
    "        )\n",
    "        packed_output, hidden = self.rnn(packed_embedded)\n",
    "        # hidden = [n layers * n directions, batch size, hidden dim]\n",
    "\n",
    "        output, output_length = nn.utils.rnn.pad_packed_sequence(packed_output)\n",
    "        # output = [batch size, seq len, hidden dim * n directions]\n",
    "        if self.rnn.bidirectional:\n",
    "            hidden = self.dropout(torch.cat([hidden[-1], hidden[-2]], dim=-1))\n",
    "            # hidden = [batch size, hidden dim * 2]\n",
    "        else:\n",
    "            hidden = self.dropout(hidden[-1])\n",
    "            # hidden = [batch size, hidden dim]\n",
    "        prediction = self.fc(hidden)\n",
    "        # prediction = [batch size, output dim]\n",
    "        return prediction\n",
    "  "
   ],
   "outputs": [],
   "execution_count": 66
  },
  {
   "cell_type": "code",
   "id": "f04f6041-9a3a-45b2-9f74-096205180508",
   "metadata": {
    "ExecuteTime": {
     "end_time": "2025-09-29T13:52:17.390553Z",
     "start_time": "2025-09-29T13:52:17.345848Z"
    }
   },
   "source": [
    "vocab_size = len(vocab)\n",
    "embedding_dim = 300\n",
    "hidden_dim = 300\n",
    "output_dim = len(train_data.unique(\"label\"))\n",
    "n_layers = 2\n",
    "bidirectional = True\n",
    "dropout_rate = 0.5\n",
    "\n",
    "model = RNN(\n",
    "    vocab_size,\n",
    "    embedding_dim,\n",
    "    hidden_dim,\n",
    "    output_dim,\n",
    "    n_layers,\n",
    "    bidirectional,\n",
    "    dropout_rate,\n",
    "    pad_index,\n",
    ")"
   ],
   "outputs": [],
   "execution_count": 67
  },
  {
   "cell_type": "code",
   "id": "815bd833-5744-4562-8300-a528502b2698",
   "metadata": {
    "ExecuteTime": {
     "end_time": "2025-09-29T13:52:17.396075Z",
     "start_time": "2025-09-29T13:52:17.394461Z"
    }
   },
   "source": [
    "def count_parameters(model):\n",
    "    return sum(p.numel() for p in model.parameters() if p.requires_grad)\n",
    "\n",
    "\n",
    "print(f\"The model has {count_parameters(model):,} trainable parameters\")"
   ],
   "outputs": [
    {
     "name": "stdout",
     "output_type": "stream",
     "text": [
      "The model has 7,484,102 trainable parameters\n"
     ]
    }
   ],
   "execution_count": 68
  },
  {
   "cell_type": "markdown",
   "id": "7b443ae8-14b2-4d83-b1ed-6f24c0eb41aa",
   "metadata": {},
   "source": [
    "### Pretrained embeddings\n",
    "\n",
    "The model will learn the embeddings too, which is a bit difficult from the limited data. Results will be much better if a pretrained model is used for that.\n",
    "\n",
    "We will use glove (https://nlp.stanford.edu/projects/glove/)\n",
    "\n",
    "The following code will download and cache the vectors. The data set is quite large so you can also omit this first..."
   ]
  },
  {
   "cell_type": "code",
   "id": "00a7bb71-a00e-48cf-8d5e-3c317c372d7f",
   "metadata": {
    "ExecuteTime": {
     "end_time": "2025-09-29T13:52:17.408332Z",
     "start_time": "2025-09-29T13:52:17.405781Z"
    }
   },
   "source": [
    "# Replacement for torchtext.vocab.GloVe()\n",
    "def _find_glove_file(embedding_dim: int = 300):\n",
    "    candidates = [\n",
    "        f\".vector_cache/glove.6B.{embedding_dim}d.txt\",\n",
    "        f\"Week 2/.vector_cache/glove.6B.{embedding_dim}d.txt\",\n",
    "        f\"week 2/.vector_cache/glove.6B.{embedding_dim}d.txt\",\n",
    "    ]\n",
    "    for path in candidates:\n",
    "        if os.path.exists(path):\n",
    "            return path\n",
    "    return None\n",
    "\n",
    "def load_glove_as_matrix(vocab, embedding_dim=300):\n",
    "    glove_path = _find_glove_file(embedding_dim)\n",
    "    if glove_path is None:\n",
    "        print(f\"GloVe file not found. Proceeding without pretrained embeddings.\")\n",
    "        return None\n",
    "    print(f\"Loading GloVe from: {glove_path}\")\n",
    "    embeddings = torch.randn(len(vocab), embedding_dim) * 0.01\n",
    "    # Initialize pad and unk to zeros\n",
    "    if \"<pad>\" in vocab.stoi:\n",
    "        embeddings[vocab[\"<pad>\"]] = torch.zeros(embedding_dim)\n",
    "    if \"<unk>\" in vocab.stoi:\n",
    "        embeddings[vocab[\"<unk>\"]] = torch.zeros(embedding_dim)\n",
    "    stoi = vocab.stoi\n",
    "    found = 0\n",
    "    with open(glove_path, \"r\", encoding=\"utf8\") as f:\n",
    "        for line in f:\n",
    "            parts = line.rstrip().split(\" \")\n",
    "            token = parts[0]\n",
    "            vec = parts[1:]\n",
    "            if len(vec) != embedding_dim:\n",
    "                continue\n",
    "            if token in stoi:\n",
    "                embeddings[stoi[token]] = torch.tensor(list(map(float, vec)))\n",
    "                found += 1\n",
    "    print(f\"Initialized {found} / {len(vocab)} tokens from GloVe.\")\n",
    "    return embeddings"
   ],
   "outputs": [],
   "execution_count": 69
  },
  {
   "cell_type": "code",
   "id": "464211c9-4db4-4e77-8455-70f83212b0ba",
   "metadata": {
    "ExecuteTime": {
     "end_time": "2025-09-29T13:52:20.925644Z",
     "start_time": "2025-09-29T13:52:17.414770Z"
    }
   },
   "source": [
    "pretrained_embedding = load_glove_as_matrix(vocab, embedding_dim=embedding_dim)\n",
    "if pretrained_embedding is not None:\n",
    "    with torch.no_grad():\n",
    "        model.embedding.weight.data.copy_(pretrained_embedding)"
   ],
   "outputs": [
    {
     "name": "stdout",
     "output_type": "stream",
     "text": [
      "Loading GloVe from: .vector_cache/glove.6B.300d.txt\n",
      "Initialized 20731 / 21935 tokens from GloVe.\n"
     ]
    }
   ],
   "execution_count": 70
  },
  {
   "cell_type": "markdown",
   "id": "c5f737cf-b571-4e17-a6db-e1807380c98c",
   "metadata": {},
   "source": [
    "### Train function\n",
    "Next we need the functions to train and evaluate the model."
   ]
  },
  {
   "cell_type": "code",
   "id": "13e87cdf-4ee3-4afd-82aa-7f1f362c68f9",
   "metadata": {
    "ExecuteTime": {
     "end_time": "2025-09-29T14:00:55.224492Z",
     "start_time": "2025-09-29T14:00:55.219424Z"
    }
   },
   "source": [
    "def train(dataloader, model, criterion, optimizer, device):\n",
    "    model.train()\n",
    "    epoch_losses = []\n",
    "    epoch_accs = []\n",
    "    for batch in tqdm.tqdm(dataloader, desc=\"training...\"):\n",
    "        ids = batch[\"ids\"].to(device)\n",
    "        length = batch[\"length\"]\n",
    "        label = batch[\"label\"].to(device)\n",
    "        prediction = model(ids, length)\n",
    "        loss = criterion(prediction, label)\n",
    "        accuracy = get_accuracy(prediction, label)\n",
    "        optimizer.zero_grad()\n",
    "        loss.backward()\n",
    "        optimizer.step()\n",
    "        epoch_losses.append(loss.item())\n",
    "        epoch_accs.append(accuracy.item())\n",
    "    return np.mean(epoch_losses), np.mean(epoch_accs)\n",
    "\n",
    "def evaluate(dataloader, model, criterion, device):\n",
    "    model.eval()\n",
    "    epoch_losses = []\n",
    "    epoch_accs = []\n",
    "    with torch.no_grad():\n",
    "        for batch in tqdm.tqdm(dataloader, desc=\"evaluating...\"):\n",
    "            ids = batch[\"ids\"].to(device)\n",
    "            length = batch[\"length\"]\n",
    "            label = batch[\"label\"].to(device)\n",
    "            prediction = model(ids, length)\n",
    "            loss = criterion(prediction, label)\n",
    "            accuracy = get_accuracy(prediction, label)\n",
    "            epoch_losses.append(loss.item())\n",
    "            epoch_accs.append(accuracy.item())\n",
    "    return np.mean(epoch_losses), np.mean(epoch_accs)\n",
    "\n",
    "# calculate the accuracy, we could also use the metrics classes as in the last exercise\n",
    "def get_accuracy(prediction, label):\n",
    "    batch_size, _ = prediction.shape\n",
    "    predicted_classes = prediction.argmax(dim=-1)\n",
    "    correct_predictions = predicted_classes.eq(label).sum()\n",
    "    accuracy = correct_predictions / batch_size\n",
    "    return accuracy\n"
   ],
   "outputs": [],
   "execution_count": 96
  },
  {
   "cell_type": "markdown",
   "id": "eb4656ed-a0c0-4ee2-92fa-05149acff513",
   "metadata": {},
   "source": [
    "Construct model and train"
   ]
  },
  {
   "cell_type": "code",
   "id": "9b516650-0708-40ca-a084-28698ab1938b",
   "metadata": {
    "ExecuteTime": {
     "end_time": "2025-09-29T13:52:20.959717Z",
     "start_time": "2025-09-29T13:52:20.958439Z"
    }
   },
   "source": [
    "lr = 5e-4\n",
    "optimizer = optim.Adam(model.parameters(), lr=lr)\n",
    "criterion = nn.CrossEntropyLoss()"
   ],
   "outputs": [],
   "execution_count": 72
  },
  {
   "cell_type": "code",
   "id": "49c115c9-fd62-4a1d-99e4-dd183c7c43b1",
   "metadata": {
    "ExecuteTime": {
     "end_time": "2025-09-29T13:52:20.964974Z",
     "start_time": "2025-09-29T13:52:20.962886Z"
    }
   },
   "source": [
    "def get_device():\n",
    "    if torch.cuda.is_available():\n",
    "        device = torch.device('cuda')\n",
    "        # test if it worked\n",
    "        x = torch.ones(1, device=device)\n",
    "        print('Using CUDA device')\n",
    "\n",
    "    elif torch.backends.mps.is_available():\n",
    "        device = torch.device('mps')\n",
    "        x = torch.ones(1, device=device)\n",
    "        print('Using MPS device')\n",
    "    else:\n",
    "        print('Using CPU')\n",
    "        device = torch.device('cpu')\n",
    "    return device\n",
    "device = get_device()"
   ],
   "outputs": [
    {
     "name": "stdout",
     "output_type": "stream",
     "text": [
      "Using MPS device\n"
     ]
    }
   ],
   "execution_count": 73
  },
  {
   "cell_type": "code",
   "id": "d3eedbe0-9db9-424c-97e6-11ce731f3f53",
   "metadata": {
    "ExecuteTime": {
     "end_time": "2025-09-29T13:52:21.000117Z",
     "start_time": "2025-09-29T13:52:20.975341Z"
    }
   },
   "source": [
    "model = model.to(device)\n",
    "criterion = criterion.to(device)"
   ],
   "outputs": [],
   "execution_count": 74
  },
  {
   "cell_type": "code",
   "id": "127e8747-2c7e-4a0c-a01c-63d5d0e3ceb5",
   "metadata": {
    "ExecuteTime": {
     "end_time": "2025-09-29T12:07:20.381487Z",
     "start_time": "2025-09-29T11:43:42.916284Z"
    }
   },
   "source": [
    "n_epochs = 10\n",
    "best_valid_loss = float(\"inf\")\n",
    "\n",
    "metrics = collections.defaultdict(list)\n",
    "\n",
    "for epoch in range(n_epochs):\n",
    "    train_loss, train_acc = train(\n",
    "        train_data_loader, model, criterion, optimizer, device\n",
    "    )\n",
    "    valid_loss, valid_acc = evaluate(valid_data_loader, model, criterion, device)\n",
    "    metrics[\"train_losses\"].append(train_loss)\n",
    "    metrics[\"train_accs\"].append(train_acc)\n",
    "    metrics[\"valid_losses\"].append(valid_loss)\n",
    "    metrics[\"valid_accs\"].append(valid_acc)\n",
    "    if valid_loss < best_valid_loss:\n",
    "        best_valid_loss = valid_loss\n",
    "        torch.save(model.state_dict(), \"lstm.pt\")\n",
    "    print(f\"epoch: {epoch}\")\n",
    "    print(f\"train_loss: {train_loss:.3f}, train_acc: {train_acc:.3f}\")\n",
    "    print(f\"valid_loss: {valid_loss:.3f}, valid_acc: {valid_acc:.3f}\")"
   ],
   "outputs": [
    {
     "name": "stderr",
     "output_type": "stream",
     "text": [
      "training...: 100%|██████████| 37/37 [02:16<00:00,  3.69s/it]\n",
      "evaluating...: 100%|██████████| 13/13 [00:03<00:00,  3.30it/s]\n"
     ]
    },
    {
     "name": "stdout",
     "output_type": "stream",
     "text": [
      "epoch: 0\n",
      "train_loss: 0.688, train_acc: 0.555\n",
      "valid_loss: 0.616, valid_acc: 0.664\n"
     ]
    },
    {
     "name": "stderr",
     "output_type": "stream",
     "text": [
      "training...: 100%|██████████| 37/37 [02:16<00:00,  3.70s/it]\n",
      "evaluating...: 100%|██████████| 13/13 [00:04<00:00,  3.04it/s]\n"
     ]
    },
    {
     "name": "stdout",
     "output_type": "stream",
     "text": [
      "epoch: 1\n",
      "train_loss: 0.623, train_acc: 0.668\n",
      "valid_loss: 1.351, valid_acc: 0.494\n"
     ]
    },
    {
     "name": "stderr",
     "output_type": "stream",
     "text": [
      "training...: 100%|██████████| 37/37 [02:15<00:00,  3.65s/it]\n",
      "evaluating...: 100%|██████████| 13/13 [00:04<00:00,  3.21it/s]\n"
     ]
    },
    {
     "name": "stdout",
     "output_type": "stream",
     "text": [
      "epoch: 2\n",
      "train_loss: 0.737, train_acc: 0.538\n",
      "valid_loss: 0.658, valid_acc: 0.614\n"
     ]
    },
    {
     "name": "stderr",
     "output_type": "stream",
     "text": [
      "training...: 100%|██████████| 37/37 [02:18<00:00,  3.73s/it]\n",
      "evaluating...: 100%|██████████| 13/13 [00:04<00:00,  2.85it/s]\n"
     ]
    },
    {
     "name": "stdout",
     "output_type": "stream",
     "text": [
      "epoch: 3\n",
      "train_loss: 0.650, train_acc: 0.618\n",
      "valid_loss: 0.578, valid_acc: 0.708\n"
     ]
    },
    {
     "name": "stderr",
     "output_type": "stream",
     "text": [
      "training...: 100%|██████████| 37/37 [02:19<00:00,  3.76s/it]\n",
      "evaluating...: 100%|██████████| 13/13 [00:04<00:00,  3.02it/s]\n"
     ]
    },
    {
     "name": "stdout",
     "output_type": "stream",
     "text": [
      "epoch: 4\n",
      "train_loss: 0.635, train_acc: 0.644\n",
      "valid_loss: 0.626, valid_acc: 0.645\n"
     ]
    },
    {
     "name": "stderr",
     "output_type": "stream",
     "text": [
      "training...: 100%|██████████| 37/37 [02:17<00:00,  3.70s/it]\n",
      "evaluating...: 100%|██████████| 13/13 [00:04<00:00,  3.02it/s]\n"
     ]
    },
    {
     "name": "stdout",
     "output_type": "stream",
     "text": [
      "epoch: 5\n",
      "train_loss: 0.607, train_acc: 0.673\n",
      "valid_loss: 0.595, valid_acc: 0.680\n"
     ]
    },
    {
     "name": "stderr",
     "output_type": "stream",
     "text": [
      "training...: 100%|██████████| 37/37 [02:17<00:00,  3.72s/it]\n",
      "evaluating...: 100%|██████████| 13/13 [00:04<00:00,  3.16it/s]\n"
     ]
    },
    {
     "name": "stdout",
     "output_type": "stream",
     "text": [
      "epoch: 6\n",
      "train_loss: 0.567, train_acc: 0.715\n",
      "valid_loss: 0.686, valid_acc: 0.526\n"
     ]
    },
    {
     "name": "stderr",
     "output_type": "stream",
     "text": [
      "training...: 100%|██████████| 37/37 [02:17<00:00,  3.72s/it]\n",
      "evaluating...: 100%|██████████| 13/13 [00:04<00:00,  3.03it/s]\n"
     ]
    },
    {
     "name": "stdout",
     "output_type": "stream",
     "text": [
      "epoch: 7\n",
      "train_loss: 0.675, train_acc: 0.580\n",
      "valid_loss: 0.634, valid_acc: 0.632\n"
     ]
    },
    {
     "name": "stderr",
     "output_type": "stream",
     "text": [
      "training...: 100%|██████████| 37/37 [02:18<00:00,  3.75s/it]\n",
      "evaluating...: 100%|██████████| 13/13 [00:04<00:00,  3.03it/s]\n"
     ]
    },
    {
     "name": "stdout",
     "output_type": "stream",
     "text": [
      "epoch: 8\n",
      "train_loss: 0.620, train_acc: 0.659\n",
      "valid_loss: 0.706, valid_acc: 0.530\n"
     ]
    },
    {
     "name": "stderr",
     "output_type": "stream",
     "text": [
      "training...: 100%|██████████| 37/37 [02:17<00:00,  3.72s/it]\n",
      "evaluating...: 100%|██████████| 13/13 [00:04<00:00,  3.20it/s]"
     ]
    },
    {
     "name": "stdout",
     "output_type": "stream",
     "text": [
      "epoch: 9\n",
      "train_loss: 0.628, train_acc: 0.639\n",
      "valid_loss: 0.591, valid_acc: 0.674\n"
     ]
    },
    {
     "name": "stderr",
     "output_type": "stream",
     "text": [
      "\n"
     ]
    }
   ],
   "execution_count": 28
  },
  {
   "cell_type": "code",
   "id": "4c73619b-bd02-45e8-a118-5e24949f30ed",
   "metadata": {
    "ExecuteTime": {
     "end_time": "2025-09-29T13:42:25.689318Z",
     "start_time": "2025-09-29T13:42:25.594143Z"
    }
   },
   "source": [
    "fig = plt.figure(figsize=(10, 6))\n",
    "ax = fig.add_subplot(1, 1, 1)\n",
    "ax.plot(metrics[\"train_losses\"], label=\"train loss\")\n",
    "ax.plot(metrics[\"valid_losses\"], label=\"valid loss\")\n",
    "ax.set_xlabel(\"epoch\")\n",
    "ax.set_ylabel(\"loss\")\n",
    "ax.set_xticks(range(n_epochs))\n",
    "ax.legend()\n",
    "ax.grid()"
   ],
   "outputs": [
    {
     "data": {
      "text/plain": [
       "<Figure size 1000x600 with 1 Axes>"
      ],
      "image/png": "[encoded data removed]"
     },
     "metadata": {},
     "output_type": "display_data",
     "jetTransient": {
      "display_id": null
     }
    }
   ],
   "execution_count": 29
  },
  {
   "cell_type": "code",
   "id": "f0d253c2-2468-44c3-a19a-b2f16218302b",
   "metadata": {
    "ExecuteTime": {
     "end_time": "2025-09-29T13:42:32.423875Z",
     "start_time": "2025-09-29T13:42:32.365658Z"
    }
   },
   "source": [
    "fig = plt.figure(figsize=(10, 6))\n",
    "ax = fig.add_subplot(1, 1, 1)\n",
    "ax.plot(metrics[\"train_accs\"], label=\"train accuracy\")\n",
    "ax.plot(metrics[\"valid_accs\"], label=\"valid accuracy\")\n",
    "ax.set_xlabel(\"epoch\")\n",
    "ax.set_ylabel(\"loss\")\n",
    "ax.set_xticks(range(n_epochs))\n",
    "ax.legend()\n",
    "ax.grid()"
   ],
   "outputs": [
    {
     "data": {
      "text/plain": [
       "<Figure size 1000x600 with 1 Axes>"
      ],
      "image/png": "[encoded data removed]"
     },
     "metadata": {},
     "output_type": "display_data",
     "jetTransient": {
      "display_id": null
     }
    }
   ],
   "execution_count": 30
  },
  {
   "cell_type": "code",
   "id": "369ff282-e43d-4b8a-aadb-70f68889bb72",
   "metadata": {
    "ExecuteTime": {
     "end_time": "2025-09-29T13:42:35.631392Z",
     "start_time": "2025-09-29T13:42:35.628197Z"
    }
   },
   "source": [
    "def predict_sentiment(text, model, tokenizer, vocab, device):\n",
    "    tokens = tokenizer(text)\n",
    "    ids = vocab.lookup_indices(tokens)\n",
    "    length = torch.LongTensor([len(ids)])\n",
    "    tensor = torch.LongTensor(ids).unsqueeze(dim=0).to(device)\n",
    "    prediction = model(tensor, length).squeeze(dim=0)\n",
    "    probability = torch.softmax(prediction, dim=-1)\n",
    "    predicted_class = prediction.argmax(dim=-1).item()\n",
    "    predicted_probability = probability[predicted_class].item()\n",
    "    return predicted_class, predicted_probability"
   ],
   "outputs": [],
   "execution_count": 31
  },
  {
   "cell_type": "code",
   "id": "eb21eac8-0af8-4f7a-92b1-a79527efd3e2",
   "metadata": {
    "ExecuteTime": {
     "end_time": "2025-09-29T13:42:35.950628Z",
     "start_time": "2025-09-29T13:42:35.947736Z"
    }
   },
   "source": [
    "def predict_sentiment(text, model, tokenizer, vocab, device):\n",
    "    tokens = tokenizer(text)\n",
    "    ids = vocab.lookup_indices(tokens)\n",
    "    length = torch.LongTensor([len(ids)])\n",
    "    tensor = torch.LongTensor(ids).unsqueeze(dim=0).to(device)\n",
    "    prediction = model(tensor, length).squeeze(dim=0)\n",
    "    probability = torch.softmax(prediction, dim=-1)\n",
    "    predicted_class = prediction.argmax(dim=-1).item()\n",
    "    predicted_probability = probability[predicted_class].item()\n",
    "    return predicted_class, predicted_probability"
   ],
   "outputs": [],
   "execution_count": 32
  },
  {
   "cell_type": "code",
   "id": "ca8fc23a-b96e-4073-bbea-9198e5ec3e42",
   "metadata": {
    "ExecuteTime": {
     "end_time": "2025-09-29T13:42:36.824363Z",
     "start_time": "2025-09-29T13:42:36.661819Z"
    }
   },
   "source": [
    "text = \"This film is terrible!\"\n",
    "\n",
    "predict_sentiment(text, model, tokenizer, vocab, device)"
   ],
   "outputs": [
    {
     "data": {
      "text/plain": [
       "(0, 0.8335446119308472)"
      ]
     },
     "execution_count": 33,
     "metadata": {},
     "output_type": "execute_result"
    }
   ],
   "execution_count": 33
  },
  {
   "cell_type": "code",
   "id": "3a43b194-c04a-41c8-8f15-5cfd4669a389",
   "metadata": {
    "ExecuteTime": {
     "end_time": "2025-09-29T13:42:37.090903Z",
     "start_time": "2025-09-29T13:42:37.081426Z"
    }
   },
   "source": [
    "text = \"This film is great!\"\n",
    "\n",
    "predict_sentiment(text, model, tokenizer, vocab, device)"
   ],
   "outputs": [
    {
     "data": {
      "text/plain": [
       "(1, 0.9456885457038879)"
      ]
     },
     "execution_count": 34,
     "metadata": {},
     "output_type": "execute_result"
    }
   ],
   "execution_count": 34
  },
  {
   "cell_type": "code",
   "id": "88b1b32b-1368-48c9-9a3b-24fb4dca7bee",
   "metadata": {
    "ExecuteTime": {
     "end_time": "2025-09-29T13:42:37.976399Z",
     "start_time": "2025-09-29T13:42:37.954640Z"
    }
   },
   "source": [
    "text = \"This film is not terrible, it's great!\"\n",
    "\n",
    "predict_sentiment(text, model, tokenizer, vocab, device)"
   ],
   "outputs": [
    {
     "data": {
      "text/plain": [
       "(1, 0.7740905284881592)"
      ]
     },
     "execution_count": 35,
     "metadata": {},
     "output_type": "execute_result"
    }
   ],
   "execution_count": 35
  },
  {
   "cell_type": "code",
   "id": "9ff4b1e7-ca27-4931-b2e5-430c2b473ea8",
   "metadata": {
    "ExecuteTime": {
     "end_time": "2025-09-29T13:42:38.465900Z",
     "start_time": "2025-09-29T13:42:38.454683Z"
    }
   },
   "source": [
    "text = \"This film is not great, it's terrible!\"\n",
    "\n",
    "predict_sentiment(text, model, tokenizer, vocab, device)"
   ],
   "outputs": [
    {
     "data": {
      "text/plain": [
       "(1, 0.6323732733726501)"
      ]
     },
     "execution_count": 36,
     "metadata": {},
     "output_type": "execute_result"
    }
   ],
   "execution_count": 36
  },
  {
   "cell_type": "markdown",
   "id": "c1ca8f99-cc9a-4cdc-94ef-1cd5e0c01568",
   "metadata": {},
   "source": [
    "## Exercise 1: LSTM\n",
    "\n",
    "The model should not be bad yet (specially if pretrained embeddings are used). Can you replace the RNN with a LSTM and check the results."
   ]
  },
  {
   "cell_type": "code",
   "id": "3eeed48d-a061-4475-a01f-eb0503f191f0",
   "metadata": {
    "ExecuteTime": {
     "end_time": "2025-09-29T14:11:10.051083Z",
     "start_time": "2025-09-29T14:11:10.046028Z"
    }
   },
   "source": [
    "class LSTM(nn.Module):\n",
    "    def __init__(self, vocab_size, embedding_dim, hidden_dim, output_dim, n_layers,\n",
    "                 bidirectional, dropout, pad_idx):\n",
    "        super().__init__()\n",
    "\n",
    "        self.embedding = nn.Embedding(vocab_size, embedding_dim, padding_idx=pad_idx)\n",
    "        self.lstm = nn.LSTM(embedding_dim, hidden_dim, num_layers=n_layers,\n",
    "                            bidirectional=bidirectional, dropout=dropout, batch_first=True)\n",
    "        self.fc = nn.Linear(hidden_dim * 2 if bidirectional else hidden_dim, output_dim)\n",
    "        self.dropout = nn.Dropout(dropout)\n",
    "\n",
    "    def forward(self, ids, length):\n",
    "        # ids = [batch size, seq len]\n",
    "        # length = [batch size]\n",
    "        embedded = self.dropout(self.embedding(ids))\n",
    "        # embedded = [batch size, seq len, embedding dim]\n",
    "        packed_embedded = nn.utils.rnn.pack_padded_sequence(\n",
    "            embedded, length, batch_first=True, enforce_sorted=False\n",
    "        )\n",
    "        packed_output, (hidden, cell) = self.lstm(packed_embedded)\n",
    "        # hidden = [n layers * n directions, batch size, hidden dim]\n",
    "\n",
    "        output, output_length = nn.utils.rnn.pad_packed_sequence(packed_output, batch_first=True)\n",
    "        # output = [batch size, seq len, hidden dim * n directions]\n",
    "        if self.lstm.bidirectional:\n",
    "            # Take the last layer's forward and backward hidden states\n",
    "            h_fwd = hidden[-2]  # [batch size, hidden dim]\n",
    "            h_bwd = hidden[-1]  # [batch size, hidden dim]\n",
    "            hidden = torch.cat([h_fwd, h_bwd], dim=1)  # [batch size, hidden dim * 2]\n",
    "        else:\n",
    "            hidden = hidden[-1]  # [batch size, hidden dim]\n",
    "        hidden = self.dropout(hidden)\n",
    "        prediction = self.fc(hidden)\n",
    "        # prediction = [batch size, output dim]\n",
    "        return prediction\n"
   ],
   "outputs": [],
   "execution_count": 113
  },
  {
   "metadata": {
    "ExecuteTime": {
     "end_time": "2025-09-29T14:11:11.774978Z",
     "start_time": "2025-09-29T14:11:11.702701Z"
    }
   },
   "cell_type": "code",
   "source": [
    "vocab_size = len(vocab)\n",
    "embedding_dim = 300\n",
    "hidden_dim = 300\n",
    "output_dim = len(train_data.unique(\"label\"))\n",
    "n_layers = 2\n",
    "bidirectional = True\n",
    "dropout_rate = 0.5\n",
    "\n",
    "model = LSTM(\n",
    "    vocab_size,\n",
    "    embedding_dim,\n",
    "    hidden_dim,\n",
    "    output_dim,\n",
    "    n_layers,\n",
    "    bidirectional,\n",
    "    dropout_rate,\n",
    "    pad_index,\n",
    ")\n",
    "\n",
    "lr = 5e-4\n",
    "optimizer = optim.Adam(model.parameters(), lr=lr)\n",
    "criterion = nn.CrossEntropyLoss()"
   ],
   "id": "1a50f6461aab4360",
   "outputs": [],
   "execution_count": 114
  },
  {
   "metadata": {
    "ExecuteTime": {
     "end_time": "2025-09-29T14:11:12.437722Z",
     "start_time": "2025-09-29T14:11:12.389305Z"
    }
   },
   "cell_type": "code",
   "source": [
    "device = get_device()\n",
    "\n",
    "model.to(device)\n",
    "criterion.to(device)"
   ],
   "id": "be40ce34ffa78e7a",
   "outputs": [
    {
     "name": "stdout",
     "output_type": "stream",
     "text": [
      "Using MPS device\n"
     ]
    },
    {
     "data": {
      "text/plain": [
       "CrossEntropyLoss()"
      ]
     },
     "execution_count": 115,
     "metadata": {},
     "output_type": "execute_result"
    }
   ],
   "execution_count": 115
  },
  {
   "metadata": {
    "ExecuteTime": {
     "end_time": "2025-09-29T14:40:07.688086Z",
     "start_time": "2025-09-29T14:11:13.711822Z"
    }
   },
   "cell_type": "code",
   "source": [
    "n_epochs = 10\n",
    "best_valid_loss = float(\"inf\")\n",
    "\n",
    "metrics = collections.defaultdict(list)\n",
    "\n",
    "for epoch in range(n_epochs):\n",
    "    train_loss, train_acc = train(\n",
    "        train_data_loader, model, criterion, optimizer, device\n",
    "    )\n",
    "    valid_loss, valid_acc = evaluate(valid_data_loader, model, criterion, device)\n",
    "    metrics[\"train_losses\"].append(train_loss)\n",
    "    metrics[\"train_accs\"].append(train_acc)\n",
    "    metrics[\"valid_losses\"].append(valid_loss)\n",
    "    metrics[\"valid_accs\"].append(valid_acc)\n",
    "    if valid_loss < best_valid_loss:\n",
    "        best_valid_loss = valid_loss\n",
    "        torch.save(model.state_dict(), \"lstm.pt\")\n",
    "    print(f\"epoch: {epoch}\")\n",
    "    print(f\"train_loss: {train_loss:.3f}, train_acc: {train_acc:.3f}\")\n",
    "    print(f\"valid_loss: {valid_loss:.3f}, valid_acc: {valid_acc:.3f}\")"
   ],
   "id": "5a43bc3a9bc5e00",
   "outputs": [
    {
     "name": "stderr",
     "output_type": "stream",
     "text": [
      "training...: 100%|██████████| 37/37 [02:50<00:00,  4.60s/it]\n",
      "evaluating...: 100%|██████████| 13/13 [00:06<00:00,  2.06it/s]\n"
     ]
    },
    {
     "name": "stdout",
     "output_type": "stream",
     "text": [
      "epoch: 0\n",
      "train_loss: 0.683, train_acc: 0.553\n",
      "valid_loss: 0.654, valid_acc: 0.609\n"
     ]
    },
    {
     "name": "stderr",
     "output_type": "stream",
     "text": [
      "training...: 100%|██████████| 37/37 [02:46<00:00,  4.50s/it]\n",
      "evaluating...: 100%|██████████| 13/13 [00:05<00:00,  2.18it/s]\n"
     ]
    },
    {
     "name": "stdout",
     "output_type": "stream",
     "text": [
      "epoch: 1\n",
      "train_loss: 0.629, train_acc: 0.647\n",
      "valid_loss: 0.567, valid_acc: 0.704\n"
     ]
    },
    {
     "name": "stderr",
     "output_type": "stream",
     "text": [
      "training...: 100%|██████████| 37/37 [02:40<00:00,  4.34s/it]\n",
      "evaluating...: 100%|██████████| 13/13 [00:06<00:00,  2.14it/s]\n"
     ]
    },
    {
     "name": "stdout",
     "output_type": "stream",
     "text": [
      "epoch: 2\n",
      "train_loss: 0.550, train_acc: 0.724\n",
      "valid_loss: 0.513, valid_acc: 0.752\n"
     ]
    },
    {
     "name": "stderr",
     "output_type": "stream",
     "text": [
      "training...: 100%|██████████| 37/37 [02:42<00:00,  4.39s/it]\n",
      "evaluating...: 100%|██████████| 13/13 [00:05<00:00,  2.19it/s]\n"
     ]
    },
    {
     "name": "stdout",
     "output_type": "stream",
     "text": [
      "epoch: 3\n",
      "train_loss: 0.564, train_acc: 0.719\n",
      "valid_loss: 0.581, valid_acc: 0.700\n"
     ]
    },
    {
     "name": "stderr",
     "output_type": "stream",
     "text": [
      "training...: 100%|██████████| 37/37 [02:44<00:00,  4.44s/it]\n",
      "evaluating...: 100%|██████████| 13/13 [00:06<00:00,  2.08it/s]\n"
     ]
    },
    {
     "name": "stdout",
     "output_type": "stream",
     "text": [
      "epoch: 4\n",
      "train_loss: 0.579, train_acc: 0.696\n",
      "valid_loss: 0.533, valid_acc: 0.737\n"
     ]
    },
    {
     "name": "stderr",
     "output_type": "stream",
     "text": [
      "training...: 100%|██████████| 37/37 [02:46<00:00,  4.51s/it]\n",
      "evaluating...: 100%|██████████| 13/13 [00:06<00:00,  2.09it/s]\n"
     ]
    },
    {
     "name": "stdout",
     "output_type": "stream",
     "text": [
      "epoch: 5\n",
      "train_loss: 0.511, train_acc: 0.752\n",
      "valid_loss: 0.489, valid_acc: 0.770\n"
     ]
    },
    {
     "name": "stderr",
     "output_type": "stream",
     "text": [
      "training...: 100%|██████████| 37/37 [02:47<00:00,  4.52s/it]\n",
      "evaluating...: 100%|██████████| 13/13 [00:06<00:00,  2.13it/s]\n"
     ]
    },
    {
     "name": "stdout",
     "output_type": "stream",
     "text": [
      "epoch: 6\n",
      "train_loss: 0.487, train_acc: 0.769\n",
      "valid_loss: 0.473, valid_acc: 0.784\n"
     ]
    },
    {
     "name": "stderr",
     "output_type": "stream",
     "text": [
      "training...: 100%|██████████| 37/37 [02:47<00:00,  4.53s/it]\n",
      "evaluating...: 100%|██████████| 13/13 [00:06<00:00,  2.03it/s]\n"
     ]
    },
    {
     "name": "stdout",
     "output_type": "stream",
     "text": [
      "epoch: 7\n",
      "train_loss: 0.463, train_acc: 0.781\n",
      "valid_loss: 0.430, valid_acc: 0.812\n"
     ]
    },
    {
     "name": "stderr",
     "output_type": "stream",
     "text": [
      "training...: 100%|██████████| 37/37 [02:52<00:00,  4.66s/it]\n",
      "evaluating...: 100%|██████████| 13/13 [00:06<00:00,  2.02it/s]\n"
     ]
    },
    {
     "name": "stdout",
     "output_type": "stream",
     "text": [
      "epoch: 8\n",
      "train_loss: 0.489, train_acc: 0.769\n",
      "valid_loss: 0.514, valid_acc: 0.768\n"
     ]
    },
    {
     "name": "stderr",
     "output_type": "stream",
     "text": [
      "training...: 100%|██████████| 37/37 [02:53<00:00,  4.68s/it]\n",
      "evaluating...: 100%|██████████| 13/13 [00:06<00:00,  1.97it/s]"
     ]
    },
    {
     "name": "stdout",
     "output_type": "stream",
     "text": [
      "epoch: 9\n",
      "train_loss: 0.440, train_acc: 0.798\n",
      "valid_loss: 0.730, valid_acc: 0.723\n"
     ]
    },
    {
     "name": "stderr",
     "output_type": "stream",
     "text": [
      "\n"
     ]
    }
   ],
   "execution_count": 116
  },
  {
   "metadata": {
    "ExecuteTime": {
     "end_time": "2025-09-29T14:42:42.520230Z",
     "start_time": "2025-09-29T14:42:42.423808Z"
    }
   },
   "cell_type": "code",
   "source": [
    "fig = plt.figure(figsize=(10, 6))\n",
    "ax = fig.add_subplot(1, 1, 1)\n",
    "ax.plot(metrics[\"train_losses\"], label=\"train loss\")\n",
    "ax.plot(metrics[\"valid_losses\"], label=\"valid loss\")\n",
    "ax.set_xlabel(\"epoch\")\n",
    "ax.set_ylabel(\"loss\")\n",
    "ax.set_xticks(range(n_epochs))\n",
    "ax.legend()\n",
    "ax.grid()"
   ],
   "id": "c88eb5eaf1362c4d",
   "outputs": [
    {
     "data": {
      "text/plain": [
       "<Figure size 1000x600 with 1 Axes>"
      ],
      "image/png": "[encoded data removed]"
     },
     "metadata": {},
     "output_type": "display_data",
     "jetTransient": {
      "display_id": null
     }
    }
   ],
   "execution_count": 117
  },
  {
   "metadata": {
    "ExecuteTime": {
     "end_time": "2025-09-29T14:42:51.488273Z",
     "start_time": "2025-09-29T14:42:51.430828Z"
    }
   },
   "cell_type": "code",
   "source": [
    "fig = plt.figure(figsize=(10, 6))\n",
    "ax = fig.add_subplot(1, 1, 1)\n",
    "ax.plot(metrics[\"train_accs\"], label=\"train accuracy\")\n",
    "ax.plot(metrics[\"valid_accs\"], label=\"valid accuracy\")\n",
    "ax.set_xlabel(\"epoch\")\n",
    "ax.set_ylabel(\"loss\")\n",
    "ax.set_xticks(range(n_epochs))\n",
    "ax.legend()\n",
    "ax.grid()"
   ],
   "id": "107a6ffbc662218d",
   "outputs": [
    {
     "data": {
      "text/plain": [
       "<Figure size 1000x600 with 1 Axes>"
      ],
      "image/png": "[encoded data removed]"
     },
     "metadata": {},
     "output_type": "display_data",
     "jetTransient": {
      "display_id": null
     }
    }
   ],
   "execution_count": 118
  },
  {
   "metadata": {
    "ExecuteTime": {
     "end_time": "2025-09-29T14:42:55.571810Z",
     "start_time": "2025-09-29T14:42:55.491115Z"
    }
   },
   "cell_type": "code",
   "source": [
    "text = \"This film is terrible!\"\n",
    "print(predict_sentiment(text, model, tokenizer, vocab, device))\n",
    "\n",
    "text = \"This film is great!\"\n",
    "print(predict_sentiment(text, model, tokenizer, vocab, device))\n",
    "\n",
    "text = \"This film is not terrible, it's great!\"\n",
    "print(predict_sentiment(text, model, tokenizer, vocab, device))\n",
    "\n",
    "text = \"This film is not great, it's terrible!\"\n",
    "print(predict_sentiment(text, model, tokenizer, vocab, device))"
   ],
   "id": "f5bbbc189bfa8aaf",
   "outputs": [
    {
     "name": "stdout",
     "output_type": "stream",
     "text": [
      "(0, 0.5665736794471741)\n",
      "(1, 0.9871017932891846)\n",
      "(1, 0.8361363410949707)\n",
      "(1, 0.9214645624160767)\n"
     ]
    }
   ],
   "execution_count": 119
  },
  {
   "cell_type": "markdown",
   "id": "5f39a319-9f6d-4097-9ac9-6cbc253ae73e",
   "metadata": {},
   "source": [
    "## Exercise 2: Attention and Transformer (hard)\n",
    "\n",
    "Even as this is not a seq2seq tasks, it would be possible to use attention and transformer ideas here. For example the encoder part and then just use a more simple decoder. "
   ]
  },
  {
   "cell_type": "code",
   "execution_count": null,
   "id": "732dca43-15f0-4962-9d1d-d7738349505e",
   "metadata": {},
   "outputs": [],
   "source": []
  }
 ],
 "metadata": {
  "kernelspec": {
   "display_name": "Python 3 (ipykernel)",
   "language": "python",
   "name": "python3"
  },
  "language_info": {
   "codemirror_mode": {
    "name": "ipython",
    "version": 3
   },
   "file_extension": ".py",
   "mimetype": "text/x-python",
   "name": "python",
   "nbconvert_exporter": "python",
   "pygments_lexer": "ipython3",
   "version": "3.12.4"
  }
 },
 "nbformat": 4,
 "nbformat_minor": 5
}
