{
 "cells": [
  {
   "cell_type": "markdown",
   "id": "74715fdc-395b-476a-92cd-19dc5acc1c8b",
   "metadata": {},
   "source": [
    "# Exercises 1\n",
    "\n",
    "## Tutorial and Exercises\n",
    "\n",
    "We will look at some basic tabular methods for reinforcement learning in this tutorial, such as value prediction using Monte-Carlo and TD methods and the SARSA and Q-Learning control algorithms\n",
    "\n",
    "We will use the gym environment from OpenAI. This needs to be installed first."
   ]
  },
  {
   "cell_type": "code",
   "id": "38d84da3",
   "metadata": {
    "collapsed": false,
    "jupyter": {
     "outputs_hidden": false
    },
    "pycharm": {
     "name": "#%%\n"
    },
    "ExecuteTime": {
     "end_time": "2025-10-23T18:52:04.115314Z",
     "start_time": "2025-10-23T18:52:03.725648Z"
    }
   },
   "source": [
    "!pip install gymnasium"
   ],
   "outputs": [
    {
     "name": "stdout",
     "output_type": "stream",
     "text": [
      "Requirement already satisfied: gymnasium in /Users/marbetschar/miniconda3/envs/ZHAW-Advanced-Deep-Learning/lib/python3.13/site-packages (1.2.1)\r\n",
      "Requirement already satisfied: numpy>=1.21.0 in /Users/marbetschar/miniconda3/envs/ZHAW-Advanced-Deep-Learning/lib/python3.13/site-packages (from gymnasium) (2.3.3)\r\n",
      "Requirement already satisfied: cloudpickle>=1.2.0 in /Users/marbetschar/miniconda3/envs/ZHAW-Advanced-Deep-Learning/lib/python3.13/site-packages (from gymnasium) (3.1.1)\r\n",
      "Requirement already satisfied: typing-extensions>=4.3.0 in /Users/marbetschar/miniconda3/envs/ZHAW-Advanced-Deep-Learning/lib/python3.13/site-packages (from gymnasium) (4.15.0)\r\n",
      "Requirement already satisfied: farama-notifications>=0.0.1 in /Users/marbetschar/miniconda3/envs/ZHAW-Advanced-Deep-Learning/lib/python3.13/site-packages (from gymnasium) (0.0.4)\r\n",
      "\r\n",
      "\u001B[1m[\u001B[0m\u001B[34;49mnotice\u001B[0m\u001B[1;39;49m]\u001B[0m\u001B[39;49m A new release of pip is available: \u001B[0m\u001B[31;49m24.3.1\u001B[0m\u001B[39;49m -> \u001B[0m\u001B[32;49m25.2\u001B[0m\r\n",
      "\u001B[1m[\u001B[0m\u001B[34;49mnotice\u001B[0m\u001B[1;39;49m]\u001B[0m\u001B[39;49m To update, run: \u001B[0m\u001B[32;49mpip install --upgrade pip\u001B[0m\r\n"
     ]
    }
   ],
   "execution_count": 20
  },
  {
   "cell_type": "code",
   "id": "ea221fc2-ca39-42d3-acb6-f37e8906db23",
   "metadata": {
    "ExecuteTime": {
     "end_time": "2025-10-23T18:52:04.122227Z",
     "start_time": "2025-10-23T18:52:04.120271Z"
    }
   },
   "source": [
    "import numpy as np\n",
    "import math\n",
    "import matplotlib.pyplot as plt\n",
    "\n",
    "# progress bar, see https://github.com/tqdm/tqdm\n",
    "import tqdm\n",
    "import time\n",
    "\n",
    "\n",
    "import gymnasium as gym\n",
    "\n",
    "import sys\n",
    "\n",
    "sys.path.append('.')\n",
    "from mdp import MDPGridworld, max_arg_with_ties, plot_policy_values\n",
    "from mdp_env import MDPEnv\n"
   ],
   "outputs": [],
   "execution_count": 21
  },
  {
   "cell_type": "markdown",
   "id": "6c0063f5",
   "metadata": {
    "collapsed": false,
    "jupyter": {
     "outputs_hidden": false
    },
    "pycharm": {
     "name": "#%% md\n"
    }
   },
   "source": [
    "## Envs and gridworld\n",
    "\n",
    "We use an implementation of a gridworld, which in turn is implemented as a markov decision process (MDP). The dark blue state is a terminal state and we use the light green state as starting state. The 4 possible actions are N,E,S and W, if a wall is hit, the agent stays on the current cell. All actions have a reward of -1.\n",
    "\n",
    "The image shows the state ids which will be obtained from the environment."
   ]
  },
  {
   "cell_type": "code",
   "id": "c861b1d7",
   "metadata": {
    "collapsed": false,
    "jupyter": {
     "outputs_hidden": false
    },
    "pycharm": {
     "name": "#%%\n"
    },
    "ExecuteTime": {
     "end_time": "2025-10-23T18:52:04.162151Z",
     "start_time": "2025-10-23T18:52:04.126120Z"
    }
   },
   "source": [
    "gw = MDPGridworld(height=4, width=3)\n",
    "gw.state(0,0).is_terminal = True\n",
    "gw.state(3,2).color = 'lightgreen'\n",
    "\n",
    "fig, ax = plt.subplots()\n",
    "gw.render(gw.all_state_ids(), ax)"
   ],
   "outputs": [
    {
     "data": {
      "text/plain": [
       "<Figure size 640x480 with 1 Axes>"
      ],
      "image/png": "[encoded data removed]"
     },
     "metadata": {},
     "output_type": "display_data",
     "jetTransient": {
      "display_id": null
     }
    }
   ],
   "execution_count": 22
  },
  {
   "cell_type": "markdown",
   "id": "cf7578e1",
   "metadata": {
    "collapsed": false,
    "jupyter": {
     "outputs_hidden": false
    },
    "pycharm": {
     "name": "#%% md\n"
    }
   },
   "source": [
    "## Open AI gym (now farama gymnasium)\n",
    "In order to make algorithms work with any environment, OpenAI has designed a gym.Env class, which defines the environment for any simulation. This has been extended and taken over by farama, who maintain the open source reinforcement learning tools\n",
    "\n",
    "https://gymnasium.farama.org/index.html\n",
    "\n",
    "https://gymnasium.farama.org/api/env/\n",
    "\n",
    "It allows to step through the environment by specifying an action and returns the observation and reward of the step, as well as a bool if a terminal state has been reached and a bool if the episode should be truncated.\n",
    "\n",
    "Our gridworld is wrapped in the gym environment. The observation returned by the environment is the state id where the agent is after performing an action."
   ]
  },
  {
   "cell_type": "markdown",
   "id": "7077e213",
   "metadata": {
    "collapsed": false,
    "jupyter": {
     "outputs_hidden": false
    },
    "pycharm": {
     "name": "#%% md\n"
    }
   },
   "source": [
    "## Monte Carlo (MC) Prediction\n",
    "\n",
    "We will first see how we can solve MC perdiction. Given a policy, we want to calculate the action-value function for all state/action pairs.\n",
    "\n",
    "With MC, this means we step through the environment until we reach the end of an episode (a terminal state). Then we calculate the return for each visited state/action pair."
   ]
  },
  {
   "cell_type": "code",
   "id": "0fc6714f",
   "metadata": {
    "collapsed": false,
    "jupyter": {
     "outputs_hidden": false
    },
    "pycharm": {
     "name": "#%%\n"
    },
    "ExecuteTime": {
     "end_time": "2025-10-23T18:52:04.169199Z",
     "start_time": "2025-10-23T18:52:04.165928Z"
    }
   },
   "source": [
    "def monte_carlo_prediction(action_space, state_space,\n",
    "                           policy: np.ndarray,\n",
    "                           gamma: float,\n",
    "                           num_repetitions: int) -> np.ndarray:\n",
    "    \"\"\"\n",
    "    Estimate the value function for the environment for the given policy p\n",
    "    Args:\n",
    "        action_space: the action space of the environment\n",
    "        state_space: the state space of the environment\n",
    "        policy: the policy to evaluate\n",
    "        gamma: the discount factor\n",
    "        num_repetitions: The number of repetitions for training\n",
    "\n",
    "    Returns:\n",
    "        the state-value function for the policy\n",
    "    \"\"\"\n",
    "    # we keep all returns for a state/action pair and initialize them to an empty list so that we can\n",
    "    # calculate the averages (we could also do the implementation incrementally)\n",
    "    nr_actions = action_space.n\n",
    "    returns = np.empty((state_space.n, nr_actions), dtype=object)\n",
    "    for s_id in range(state_space.n):\n",
    "        for a in range(action_space.n):\n",
    "            returns[s_id, a] = []\n",
    "\n",
    "    for _ in range(num_repetitions):\n",
    "        # generate a full episode and add the states and rewards\n",
    "        states = []\n",
    "        rewards = []\n",
    "        actions = []\n",
    "\n",
    "        obs, _ = env.reset()\n",
    "        states.append(obs)\n",
    "        action = np.random.choice(policy.shape[1], p=policy[obs, :])\n",
    "        actions.append(action)\n",
    "\n",
    "        while True:\n",
    "            obs, reward, done, _, _ = env.step(action)\n",
    "            rewards.append(reward)\n",
    "\n",
    "            if done:\n",
    "                break\n",
    "\n",
    "            states.append(obs)\n",
    "            action = np.random.choice(policy.shape[1], p=policy[obs, :])\n",
    "            actions.append(action)\n",
    "\n",
    "        # calculate the returns for each visited state/action (Q-Function)\n",
    "        g = 0.0\n",
    "        for step in reversed(range(len(states))):\n",
    "            s = states[step]\n",
    "            a = actions[step]\n",
    "            r = rewards[step]\n",
    "            g = gamma * g + r\n",
    "\n",
    "            # check that s/a does not appear in rest of sequence (first visit MC)\n",
    "            found = False\n",
    "            step_seq = step - 1\n",
    "            while not found and step_seq >= 0:\n",
    "                found = (states[step_seq] == s) and (actions[step_seq] == a)\n",
    "                step_seq -= 1\n",
    "\n",
    "            if not found:\n",
    "                returns[s, a].append(g)\n",
    "\n",
    "        # end of episode processing\n",
    "    # end of number of episodes\n",
    "\n",
    "    # it is sufficient here to calculate q at the end, as we do not use it in the algorithm\n",
    "    q = np.zeros(returns.shape)\n",
    "    # calculate q as mean value of all returns at each state\n",
    "\n",
    "    for s_id in range(state_space.n):\n",
    "        for a in range(nr_actions):\n",
    "            # check for empty list\n",
    "            if returns[s_id, a]:\n",
    "                q[s_id, a] = np.mean(returns[s_id, a])\n",
    "            else:\n",
    "                # for illustration\n",
    "                q[s_id, a] = -10000\n",
    "    return q"
   ],
   "outputs": [],
   "execution_count": 23
  },
  {
   "cell_type": "markdown",
   "id": "1e9a7baa",
   "metadata": {
    "collapsed": false,
    "jupyter": {
     "outputs_hidden": false
    }
   },
   "source": [
    "The policy needs to be given as a probability for each action. We will evaluate a random policy first."
   ]
  },
  {
   "cell_type": "code",
   "id": "dd094b0c",
   "metadata": {
    "collapsed": false,
    "jupyter": {
     "outputs_hidden": false
    },
    "pycharm": {
     "name": "#%%\n"
    },
    "ExecuteTime": {
     "end_time": "2025-10-23T18:52:04.178902Z",
     "start_time": "2025-10-23T18:52:04.177358Z"
    }
   },
   "source": [
    "env = MDPEnv(gw.states, gw.NR_ACTIONS, 11)\n",
    "\n",
    "# random policy\n",
    "p = np.zeros((len(gw.states), gw.NR_ACTIONS))\n",
    "p.fill(1.0/gw.NR_ACTIONS)"
   ],
   "outputs": [],
   "execution_count": 24
  },
  {
   "cell_type": "code",
   "id": "9643f735",
   "metadata": {
    "collapsed": false,
    "jupyter": {
     "outputs_hidden": false
    },
    "pycharm": {
     "name": "#%%\n"
    },
    "ExecuteTime": {
     "end_time": "2025-10-23T18:52:04.544615Z",
     "start_time": "2025-10-23T18:52:04.183990Z"
    }
   },
   "source": [
    "np.random.seed(1)\n",
    "q = monte_carlo_prediction(env.action_space, env.observation_space, p, 1.0, 1000)\n",
    "print(q)"
   ],
   "outputs": [
    {
     "name": "stdout",
     "output_type": "stream",
     "text": [
      "[[-1.00000000e+04 -1.00000000e+04 -1.00000000e+04 -1.00000000e+04]\n",
      " [-2.22771536e+01 -3.36428571e+01 -3.17659574e+01 -1.00000000e+00]\n",
      " [-3.09501779e+01 -3.07216117e+01 -3.82662722e+01 -2.20534351e+01]\n",
      " [-1.00000000e+00 -2.92619718e+01 -3.37383178e+01 -2.32135231e+01]\n",
      " [-2.26213152e+01 -3.44812030e+01 -3.88581907e+01 -2.24371002e+01]\n",
      " [-3.05000000e+01 -3.57091837e+01 -4.13539604e+01 -2.92112676e+01]\n",
      " [-2.21981308e+01 -3.70491453e+01 -3.91612150e+01 -3.44145729e+01]\n",
      " [-3.19838129e+01 -3.92560748e+01 -4.19775051e+01 -3.48074766e+01]\n",
      " [-3.38743961e+01 -3.93431953e+01 -4.33881453e+01 -3.75813953e+01]\n",
      " [-3.45150943e+01 -4.14589474e+01 -3.91702638e+01 -3.95922078e+01]\n",
      " [-3.76715928e+01 -4.18915009e+01 -4.02750491e+01 -3.96648936e+01]\n",
      " [-3.92432083e+01 -4.24306452e+01 -4.25479675e+01 -4.03036649e+01]]\n"
     ]
    }
   ],
   "execution_count": 25
  },
  {
   "cell_type": "code",
   "id": "61ffd6b4",
   "metadata": {
    "collapsed": false,
    "jupyter": {
     "outputs_hidden": false
    },
    "pycharm": {
     "name": "#%%\n"
    },
    "ExecuteTime": {
     "end_time": "2025-10-23T18:52:04.596358Z",
     "start_time": "2025-10-23T18:52:04.562730Z"
    }
   },
   "source": [
    "fig, ax = plt.subplots()\n",
    "gw.render(q.sum(axis=1)/4,ax)"
   ],
   "outputs": [
    {
     "data": {
      "text/plain": [
       "<Figure size 640x480 with 1 Axes>"
      ],
      "image/png": "[encoded data removed]"
     },
     "metadata": {},
     "output_type": "display_data",
     "jetTransient": {
      "display_id": null
     }
    }
   ],
   "execution_count": 26
  },
  {
   "cell_type": "code",
   "id": "45c760a7",
   "metadata": {
    "collapsed": false,
    "jupyter": {
     "outputs_hidden": false
    },
    "pycharm": {
     "name": "#%%\n"
    },
    "ExecuteTime": {
     "end_time": "2025-10-23T18:52:04.649317Z",
     "start_time": "2025-10-23T18:52:04.612424Z"
    }
   },
   "source": [
    "fig, ax = plt.subplots()\n",
    "gw.render(q.max(axis=1),ax)"
   ],
   "outputs": [
    {
     "data": {
      "text/plain": [
       "<Figure size 640x480 with 1 Axes>"
      ],
      "image/png": "[encoded data removed]"
     },
     "metadata": {},
     "output_type": "display_data",
     "jetTransient": {
      "display_id": null
     }
    }
   ],
   "execution_count": 27
  },
  {
   "cell_type": "markdown",
   "id": "cd2cbf00",
   "metadata": {
    "collapsed": false,
    "jupyter": {
     "outputs_hidden": false
    },
    "pycharm": {
     "name": "#%% md\n"
    }
   },
   "source": [
    "### Policy Improvement\n",
    "\n",
    "We can now get a better policy by taking the greedy actions with respect to the found q function."
   ]
  },
  {
   "cell_type": "code",
   "id": "37e5b7f6",
   "metadata": {
    "collapsed": false,
    "jupyter": {
     "outputs_hidden": false
    },
    "pycharm": {
     "name": "#%%\n"
    },
    "ExecuteTime": {
     "end_time": "2025-10-23T18:52:04.656561Z",
     "start_time": "2025-10-23T18:52:04.654883Z"
    }
   },
   "source": [
    "def greedy_from_action_values(q) -> np.ndarray:\n",
    "    \"\"\"\n",
    "    Calculate a greedy policy from the action values.\n",
    "    Args:\n",
    "        q: the action values\n",
    "    Returns:\n",
    "        the greedy policy\n",
    "\n",
    "    \"\"\"\n",
    "    p = np.zeros(q.shape)\n",
    "    best_action = q.argmax(axis=1)\n",
    "    for a in range(q.shape[1]):\n",
    "        p[:, a] = (best_action == a).astype(float)\n",
    "    return p"
   ],
   "outputs": [],
   "execution_count": 28
  },
  {
   "cell_type": "code",
   "id": "e2edb546",
   "metadata": {
    "collapsed": false,
    "jupyter": {
     "outputs_hidden": false
    },
    "pycharm": {
     "name": "#%%\n"
    },
    "ExecuteTime": {
     "end_time": "2025-10-23T18:52:04.670630Z",
     "start_time": "2025-10-23T18:52:04.668836Z"
    }
   },
   "source": [
    "p_greedy = greedy_from_action_values(q)\n",
    "print(p_greedy)"
   ],
   "outputs": [
    {
     "name": "stdout",
     "output_type": "stream",
     "text": [
      "[[1. 0. 0. 0.]\n",
      " [0. 0. 0. 1.]\n",
      " [0. 0. 0. 1.]\n",
      " [1. 0. 0. 0.]\n",
      " [0. 0. 0. 1.]\n",
      " [0. 0. 0. 1.]\n",
      " [1. 0. 0. 0.]\n",
      " [1. 0. 0. 0.]\n",
      " [1. 0. 0. 0.]\n",
      " [1. 0. 0. 0.]\n",
      " [1. 0. 0. 0.]\n",
      " [1. 0. 0. 0.]]\n"
     ]
    }
   ],
   "execution_count": 29
  },
  {
   "cell_type": "markdown",
   "id": "8756ea5c",
   "metadata": {
    "collapsed": false,
    "jupyter": {
     "outputs_hidden": false
    }
   },
   "source": [
    "## Policy Iteration\n",
    "\n",
    "Using the new policy, we can again estimate the q function.\n",
    "\n",
    "(In practice we will need to do a policy that does some exploring, otherwise we will not visit all state/actions pairs, see result below)\n",
    "\n"
   ]
  },
  {
   "cell_type": "code",
   "id": "a6f46381",
   "metadata": {
    "collapsed": false,
    "jupyter": {
     "outputs_hidden": false
    },
    "pycharm": {
     "name": "#%%\n"
    },
    "ExecuteTime": {
     "end_time": "2025-10-23T18:52:04.771678Z",
     "start_time": "2025-10-23T18:52:04.684906Z"
    }
   },
   "source": [
    "q = monte_carlo_prediction(env.action_space, env.observation_space, p_greedy, 1.0, 1000)\n",
    "print(q)\n",
    "fig, ax = plt.subplots()\n",
    "gw.render(q.max(axis=1),ax)"
   ],
   "outputs": [
    {
     "name": "stdout",
     "output_type": "stream",
     "text": [
      "[[-1.e+04 -1.e+04 -1.e+04 -1.e+04]\n",
      " [-1.e+04 -1.e+04 -1.e+04 -1.e+04]\n",
      " [-1.e+04 -1.e+04 -1.e+04 -1.e+04]\n",
      " [-1.e+00 -1.e+04 -1.e+04 -1.e+04]\n",
      " [-1.e+04 -1.e+04 -1.e+04 -2.e+00]\n",
      " [-1.e+04 -1.e+04 -1.e+04 -3.e+00]\n",
      " [-1.e+04 -1.e+04 -1.e+04 -1.e+04]\n",
      " [-1.e+04 -1.e+04 -1.e+04 -1.e+04]\n",
      " [-4.e+00 -1.e+04 -1.e+04 -1.e+04]\n",
      " [-1.e+04 -1.e+04 -1.e+04 -1.e+04]\n",
      " [-1.e+04 -1.e+04 -1.e+04 -1.e+04]\n",
      " [-5.e+00 -1.e+04 -1.e+04 -1.e+04]]\n"
     ]
    },
    {
     "data": {
      "text/plain": [
       "<Figure size 640x480 with 1 Axes>"
      ],
      "image/png": "[encoded data removed]"
     },
     "metadata": {},
     "output_type": "display_data",
     "jetTransient": {
      "display_id": null
     }
    }
   ],
   "execution_count": 30
  },
  {
   "cell_type": "markdown",
   "id": "1d47bfda",
   "metadata": {
    "collapsed": false,
    "jupyter": {
     "outputs_hidden": false
    }
   },
   "source": [
    "## TD Prediction\n",
    "\n",
    "Instead of the MC algorithm, we would like to use the time difference (TD) algorithm now to calculate the prediction. This has the advantage of updating the q values right away and generally converges faster to the correct values."
   ]
  },
  {
   "cell_type": "code",
   "id": "95ec57ea",
   "metadata": {
    "collapsed": false,
    "jupyter": {
     "outputs_hidden": false
    },
    "pycharm": {
     "name": "#%%\n"
    },
    "ExecuteTime": {
     "end_time": "2025-10-23T18:52:04.816977Z",
     "start_time": "2025-10-23T18:52:04.814216Z"
    }
   },
   "source": [
    "def td_prediction(action_space, state_space,\n",
    "                  policy: np.ndarray,\n",
    "                  gamma: float,\n",
    "                  step_size: float,\n",
    "                  num_repetitions: int) -> np.ndarray:\n",
    "    \"\"\"\n",
    "    Estimate the value function for the environment for the given policy p\n",
    "    Args:\n",
    "        action_space: the action space of the environment\n",
    "        state_space: the state space of the environment\n",
    "        policy: the policy to evaluate\n",
    "        gamma: the discount factor\n",
    "        num_repetitions: The number of repetitions for training\n",
    "\n",
    "    Returns:\n",
    "        the state-value function for the policy\n",
    "    \"\"\"\n",
    "    # we directly keep the q values\n",
    "    q = np.zeros((state_space.n, action_space.n))\n",
    "\n",
    "    for _ in range(num_repetitions):\n",
    "        # initialize episode\n",
    "        obs, _ = env.reset()\n",
    "\n",
    "        # our observations are the state ids\n",
    "        state_id = obs\n",
    "        action = np.random.choice(policy.shape[1], p=policy[obs, :])\n",
    "\n",
    "        done = False\n",
    "        while not done:\n",
    "            last_state_id = state_id\n",
    "            last_action = action\n",
    "\n",
    "            # get reward and next state (observation) from the action\n",
    "            obs, reward, done, _, _ = env.step(action)\n",
    "            state_id = obs\n",
    "\n",
    "            # get the next action (needed to update q values)\n",
    "            action = np.random.choice(policy.shape[1], p=policy[obs, :])\n",
    "\n",
    "            if not done:\n",
    "                delta = reward + \\\n",
    "                    gamma * q[state_id, action] - \\\n",
    "                    q[last_state_id, last_action]\n",
    "                q[last_state_id, last_action] += step_size * delta\n",
    "            else:\n",
    "                # terminal state reached, we still need to update the last q value\n",
    "                delta = reward - q[last_state_id, last_action]\n",
    "                q[last_state_id, last_action] += step_size * delta\n",
    "                break\n",
    "    return q"
   ],
   "outputs": [],
   "execution_count": 31
  },
  {
   "cell_type": "code",
   "id": "ca30a934",
   "metadata": {
    "collapsed": false,
    "jupyter": {
     "outputs_hidden": false
    },
    "pycharm": {
     "name": "#%%\n"
    },
    "ExecuteTime": {
     "end_time": "2025-10-23T18:52:05.216319Z",
     "start_time": "2025-10-23T18:52:04.827914Z"
    }
   },
   "source": [
    "np.random.seed(1)\n",
    "# random policy\n",
    "p = np.zeros((len(gw.states), gw.NR_ACTIONS))\n",
    "p.fill(1.0/gw.NR_ACTIONS)\n",
    "q = td_prediction(env.action_space, env.observation_space, p, 1.0, 0.1, 1000)\n",
    "print(q)\n",
    "fig, ax = plt.subplots()\n",
    "gw.render(q.max(axis=1),ax)"
   ],
   "outputs": [
    {
     "name": "stdout",
     "output_type": "stream",
     "text": [
      "[[  0.           0.           0.           0.        ]\n",
      " [-13.32259057 -27.99507277 -25.81154642  -1.        ]\n",
      " [-29.86587661 -27.29775599 -30.57034471 -20.51824582]\n",
      " [ -1.         -27.90283484 -32.99029697 -17.30923357]\n",
      " [-15.16431608 -31.20615022 -30.20664459 -21.18333051]\n",
      " [-28.95142809 -29.98171418 -33.72410795 -24.39805334]\n",
      " [-19.16672716 -31.34084229 -36.43290227 -32.71368064]\n",
      " [-26.28177974 -35.24768117 -37.62954236 -30.91005722]\n",
      " [-29.53336734 -35.83350055 -38.2108591  -31.3100452 ]\n",
      " [-30.90222621 -36.60721612 -36.44362282 -35.0462491 ]\n",
      " [-33.91693767 -38.35031484 -37.37699957 -36.15947379]\n",
      " [-34.22236449 -37.77264868 -37.82039224 -36.82635184]]\n"
     ]
    },
    {
     "data": {
      "text/plain": [
       "<Figure size 640x480 with 1 Axes>"
      ],
      "image/png": "[encoded data removed]"
     },
     "metadata": {},
     "output_type": "display_data",
     "jetTransient": {
      "display_id": null
     }
    }
   ],
   "execution_count": 32
  },
  {
   "cell_type": "markdown",
   "id": "320dc6c1",
   "metadata": {
    "collapsed": false,
    "jupyter": {
     "outputs_hidden": false
    }
   },
   "source": []
  },
  {
   "cell_type": "markdown",
   "id": "11dd7262",
   "metadata": {
    "collapsed": false,
    "jupyter": {
     "outputs_hidden": false
    },
    "pycharm": {
     "name": "#%% md\n"
    }
   },
   "source": [
    "## Agent Implementation\n",
    "\n",
    "Next, we want to implement control algorithms that calculate the action-value function q and select a policy according to the current q function. This will result in better policies over time and ultimately calculate the optimal policy.\n",
    "\n",
    "We will use an Agent base class to be able to implement different control algorithms."
   ]
  },
  {
   "cell_type": "code",
   "id": "5f73c582",
   "metadata": {
    "collapsed": false,
    "jupyter": {
     "outputs_hidden": false
    },
    "pycharm": {
     "name": "#%%\n"
    },
    "ExecuteTime": {
     "end_time": "2025-10-23T18:52:05.224093Z",
     "start_time": "2025-10-23T18:52:05.222178Z"
    }
   },
   "source": [
    "class Agent:\n",
    "    \"\"\"\n",
    "    Class for an agent in our env.\n",
    "    \"\"\"\n",
    "\n",
    "    def __init__(self, action_space, state_space):\n",
    "        self._action_space = action_space\n",
    "        self._state_space = state_space\n",
    "\n",
    "    def reset(self) -> (int, int):\n",
    "        \"\"\"\n",
    "        Reset the learning of the agent to an initial condition, so it can be used again, for example to\n",
    "        compare different runs.\n",
    "        \"\"\"\n",
    "        raise NotImplementedError\n",
    "\n",
    "    def step(self, observation, reward: float, done: bool):\n",
    "        \"\"\"\n",
    "        Step in the environment. The reward given is the returned reward from the last action, if it is None, then this is the first step in the environment\n",
    "        Args:\n",
    "            observation: the current position of the agent\n",
    "            reward: the reward obtained from the last action\n",
    "            done: the done returned from the last action on the environment (signals the end of an episode)\n",
    "        Returns:\n",
    "            the action\n",
    "        \"\"\"\n",
    "        raise NotImplementedError\n",
    "\n",
    "    def train(self, env: gym.Env, nr_episodes: int):\n",
    "        \"\"\"\n",
    "        Train the agent in the given environment\n",
    "        Args:\n",
    "            env: the env to train the agent on\n",
    "            nr_episodes: number of episodes to train.\n",
    "        \"\"\"\n",
    "        raise NotImplementedError"
   ],
   "outputs": [],
   "execution_count": 33
  },
  {
   "cell_type": "markdown",
   "id": "ace4816e",
   "metadata": {
    "collapsed": false,
    "jupyter": {
     "outputs_hidden": false
    },
    "pycharm": {
     "name": "#%% md\n"
    }
   },
   "source": [
    "## SARSA Agent\n",
    "\n",
    "First, we implement a SARSA agent. This calculates the q-values in the same way than in the prediction above. It uses a epsilon-greedy policy for choosing the actions."
   ]
  },
  {
   "cell_type": "code",
   "id": "b4c7904e",
   "metadata": {
    "collapsed": false,
    "jupyter": {
     "outputs_hidden": false
    },
    "pycharm": {
     "name": "#%%\n"
    },
    "ExecuteTime": {
     "end_time": "2025-10-23T18:52:05.235667Z",
     "start_time": "2025-10-23T18:52:05.232768Z"
    }
   },
   "source": [
    "class SarsaAgent(Agent):\n",
    "    \"\"\"\n",
    "    Sarsa Agent\n",
    "    \"\"\"\n",
    "    def __init__(self, action_space, state_space, gamma: float, step_size: float, epsilon: float):\n",
    "        \"\"\"\n",
    "        Initialize Sarsa\n",
    "\n",
    "        Args:\n",
    "            action_space: the action space\n",
    "            state_space: the state space\n",
    "            gamma: the discount factor\n",
    "            step_size: the step size for the update\n",
    "            epsilon: the epsilon for the epsilon greedy policy\n",
    "        \"\"\"\n",
    "        super().__init__(action_space, state_space)\n",
    "        self._epsilon = epsilon\n",
    "        self._gamma = gamma\n",
    "        self._step_size = step_size\n",
    "\n",
    "        # We want to estimate the state-action value function\n",
    "        self._q = np.zeros((state_space.n, self._action_space.n))\n",
    "\n",
    "        # we need to remember the last state and action\n",
    "        self._last_state_id = None\n",
    "        self._last_action = None\n",
    "\n",
    "    @property\n",
    "    def q(self):\n",
    "        return self._q\n",
    "\n",
    "    def reset(self):\n",
    "        \"\"\"\n",
    "        Reset the learning of the agent to an initial condition, so it can be used in a new env.\n",
    "        \"\"\"\n",
    "        self._q.fill(0.0)\n",
    "\n",
    "    def get_eps_greedy_action(self, state) -> int:\n",
    "        \"\"\"\n",
    "        Helper function to get the epsilon greedy action from the indicated state as we do\n",
    "        not need to specify a policy explicitely. Use max_arg_with_ties for the greedy case, which is a\n",
    "        helper function that randomly selects an action in case of a tie\n",
    "\n",
    "        Return the taken action.\n",
    "        \"\"\"\n",
    "        if np.random.random() < self._epsilon:\n",
    "            action = np.random.randint(self._action_space.n)\n",
    "        else:\n",
    "            action = max_arg_with_ties(self._q[state, :])\n",
    "        return action\n",
    "\n",
    "    def step(self, observation, reward, done) -> int or None:\n",
    "        \"\"\"\n",
    "        Step in the environment. The reward is the returned reward from the last action and the\n",
    "        observation contains the state after performing the last action.\n",
    "        Args:\n",
    "            observation: the observation from the environment (here the state_id)\n",
    "            reward: the reward from the last action\n",
    "            done: true if the episode is finished as a terminal state has been reached\n",
    "        Returns:\n",
    "            the action to take next or None if the episode is finished\n",
    "        \"\"\"\n",
    "        # During the episodes you will need to\n",
    "        # - determine the next action\n",
    "        # - update the action-state estimates\n",
    "        # - save the state and action\n",
    "        # - return the action\n",
    "\n",
    "        state_id = observation\n",
    "\n",
    "        # select the next action\n",
    "        action = self.get_eps_greedy_action(state_id)\n",
    "\n",
    "        # first step in the environment, where we did not get a reward yet, we just need to remember the values\n",
    "        # and return the action\n",
    "        if not reward:\n",
    "            self._last_state_id = state_id\n",
    "            self._last_action = action\n",
    "            return action\n",
    "\n",
    "        if not done:\n",
    "\n",
    "            # update q from last action\n",
    "            # calculate error term first\n",
    "            delta = reward + \\\n",
    "                    self._gamma * self._q[state_id, action] - \\\n",
    "                    self._q[self._last_state_id, self._last_action]\n",
    "\n",
    "            self._q[self._last_state_id, self._last_action] += self._step_size * delta\n",
    "\n",
    "            self._last_state_id = state_id\n",
    "            self._last_action = action\n",
    "\n",
    "            return action\n",
    "        else:\n",
    "            # episode is done, but we still need to calculate the last update,\n",
    "\n",
    "            # all action values from the terminal state are considered zero\n",
    "\n",
    "            delta = reward - self._q[self._last_state_id, self._last_action]\n",
    "            self._q[self._last_state_id, self._last_action] += self._step_size * delta\n",
    "\n",
    "            # we return None as there is no action from a terminal state\n",
    "            return None\n",
    "\n",
    "    def train(self, env, nr_episodes):\n",
    "        for _ in range(nr_episodes):\n",
    "            obs, _ = env.reset()\n",
    "            a = self.step(obs, None, False)\n",
    "            done = False\n",
    "            while not done:\n",
    "                obs, reward, done, _, _ = env.step(a)\n",
    "                a = self.step(obs, reward, done)"
   ],
   "outputs": [],
   "execution_count": 34
  },
  {
   "cell_type": "code",
   "id": "a98d7fb5",
   "metadata": {
    "collapsed": false,
    "jupyter": {
     "outputs_hidden": false
    },
    "pycharm": {
     "name": "#%%\n"
    },
    "ExecuteTime": {
     "end_time": "2025-10-23T18:52:05.240016Z",
     "start_time": "2025-10-23T18:52:05.238570Z"
    }
   },
   "source": [
    "env = MDPEnv(gw.states, gw.NR_ACTIONS, 11)\n",
    "agent = SarsaAgent(env.action_space, env.observation_space, gamma=1.0, step_size=0.05, epsilon=0.05)\n",
    "agent.reset()\n"
   ],
   "outputs": [],
   "execution_count": 35
  },
  {
   "cell_type": "code",
   "id": "febe2562",
   "metadata": {
    "collapsed": false,
    "jupyter": {
     "outputs_hidden": false
    },
    "pycharm": {
     "name": "#%%\n"
    },
    "ExecuteTime": {
     "end_time": "2025-10-23T18:52:05.710855Z",
     "start_time": "2025-10-23T18:52:05.245309Z"
    }
   },
   "source": [
    "agent.train(env, 10000)\n",
    "fig, ax = plt.subplots()\n",
    "gw.render(agent.q.max(axis=1),ax)"
   ],
   "outputs": [
    {
     "data": {
      "text/plain": [
       "<Figure size 640x480 with 1 Axes>"
      ],
      "image/png": "[encoded data removed]"
     },
     "metadata": {},
     "output_type": "display_data",
     "jetTransient": {
      "display_id": null
     }
    }
   ],
   "execution_count": 36
  },
  {
   "cell_type": "markdown",
   "id": "3928ddb5",
   "metadata": {
    "collapsed": false,
    "jupyter": {
     "outputs_hidden": false
    },
    "pycharm": {
     "name": "#%% md\n"
    }
   },
   "source": [
    "## Q-Learning Agent\n",
    "\n",
    "The implementation of the q-learning agent is left as an exercise :-). You will have to implement the step function, the other functions are the same as in SARSA."
   ]
  },
  {
   "cell_type": "code",
   "id": "25e6a397",
   "metadata": {
    "collapsed": false,
    "jupyter": {
     "outputs_hidden": false
    },
    "pycharm": {
     "name": "#%%\n"
    },
    "ExecuteTime": {
     "end_time": "2025-10-23T18:52:05.723646Z",
     "start_time": "2025-10-23T18:52:05.720255Z"
    }
   },
   "source": [
    "class QLearningAgent(Agent):\n",
    "    \"\"\"\n",
    "    Q-Learning Agent\n",
    "    \"\"\"\n",
    "\n",
    "    def __init__(self, action_space, state_space, gamma: float, step_size: float, epsilon: float):\n",
    "        \"\"\"\n",
    "        Args:\n",
    "            action_space: the action space\n",
    "            state_space: the state space\n",
    "            gamma: the discount factor\n",
    "            step_size: the step size for the update\n",
    "            epsilon: the epsilon for the epsilon greedy policy\n",
    "        \"\"\"\n",
    "        super().__init__(action_space, state_space)\n",
    "        self._epsilon = epsilon\n",
    "        self._gamma = gamma\n",
    "        self._step_size = step_size\n",
    "\n",
    "        # We want to estimate the state-action value function\n",
    "        self._q = np.zeros((state_space.n, self._action_space.n))\n",
    "\n",
    "        # we need to remember the last state and action\n",
    "        self._last_state_id = None\n",
    "        self._last_action = None\n",
    "\n",
    "    @property\n",
    "    def q(self):\n",
    "        return self._q\n",
    "\n",
    "    def reset(self):\n",
    "        \"\"\"\n",
    "        Reset the learning of the agent to an initial condition, so it can be used in a new env.\n",
    "        \"\"\"\n",
    "        self._q.fill(0.0)\n",
    "\n",
    "    def get_eps_greedy_action(self, state):\n",
    "        \"\"\"\n",
    "        Helper function to get the epsilon greedy action from the indicated state\n",
    "        \"\"\"\n",
    "\n",
    "        # this is the same as in SARSA\n",
    "\n",
    "        ### BEGIN SOLUTION\n",
    "        if np.random.random() < self._epsilon:\n",
    "            action = np.random.randint(self._action_space.n)\n",
    "        else:\n",
    "            action = max_arg_with_ties(self._q[state, :])\n",
    "        return action\n",
    "        ### END SOLUTION\n",
    "\n",
    "\n",
    "    def step(self, observation, reward, done) -> int or None:\n",
    "        \"\"\"\n",
    "        Step in the environment. The reward is the returned reward from the last action or None if that was the first step\n",
    "        \"\"\"\n",
    "        state_id = observation\n",
    "\n",
    "        # select the next action\n",
    "        action = self.get_eps_greedy_action(state_id)\n",
    "\n",
    "        # first step in the environment, where we did not get a reward yet, we just need to remember the values\n",
    "        # and return the action\n",
    "        if not reward:\n",
    "            self._last_state_id = state_id\n",
    "            self._last_action = action\n",
    "            return action\n",
    "\n",
    "        if not done:\n",
    "\n",
    "            # update q from last action\n",
    "            # calculate error term first\n",
    "            delta = reward + \\\n",
    "                    self._gamma * self._q[state_id, action] - \\\n",
    "                    self._q[self._last_state_id, self._last_action]\n",
    "\n",
    "            self._q[self._last_state_id, self._last_action] += self._step_size * delta\n",
    "\n",
    "            self._last_state_id = state_id\n",
    "            self._last_action = action\n",
    "\n",
    "            return action\n",
    "        else:\n",
    "            # episode is done, but we still need to calculate the last update,\n",
    "\n",
    "            # all action values from the terminal state are considered zero\n",
    "\n",
    "            delta = reward - self._q[self._last_state_id, self._last_action]\n",
    "            self._q[self._last_state_id, self._last_action] += self._step_size * delta\n",
    "\n",
    "            # we return None as there is no action from a terminal state\n",
    "            return None\n",
    "        \n",
    "\n",
    "    def train(self, env, nr_episodes):\n",
    "        for e in range(nr_episodes):\n",
    "            obs, _ = env.reset()\n",
    "            a = self.step(obs, None, False)\n",
    "            done = False\n",
    "            while not done:\n",
    "                obs, reward, done, _, _ = env.step(a)\n",
    "                a = self.step(obs, reward, done)"
   ],
   "outputs": [],
   "execution_count": 37
  },
  {
   "cell_type": "code",
   "id": "e5d0cac9",
   "metadata": {
    "collapsed": false,
    "jupyter": {
     "outputs_hidden": false
    },
    "pycharm": {
     "name": "#%%\n"
    },
    "ExecuteTime": {
     "end_time": "2025-10-23T18:52:06.193627Z",
     "start_time": "2025-10-23T18:52:05.728080Z"
    }
   },
   "source": [
    "env = MDPEnv(gw.states, gw.NR_ACTIONS, 11)\n",
    "agent = QLearningAgent(env.action_space, env.observation_space, gamma=1.0, step_size=0.05, epsilon=0.05)\n",
    "agent.reset()\n",
    "agent.train(env, 10000)\n",
    "fig, ax = plt.subplots()\n",
    "gw.render(agent.q.max(axis=1),ax)"
   ],
   "outputs": [
    {
     "data": {
      "text/plain": [
       "<Figure size 640x480 with 1 Axes>"
      ],
      "image/png": "[encoded data removed]"
     },
     "metadata": {},
     "output_type": "display_data",
     "jetTransient": {
      "display_id": null
     }
    }
   ],
   "execution_count": 38
  },
  {
   "cell_type": "code",
   "id": "f8b88b6d",
   "metadata": {
    "collapsed": false,
    "jupyter": {
     "outputs_hidden": false
    },
    "pycharm": {
     "name": "#%%\n"
    },
    "ExecuteTime": {
     "end_time": "2025-10-23T18:52:06.237240Z",
     "start_time": "2025-10-23T18:52:06.203081Z"
    }
   },
   "source": [
    "p_greedy = greedy_from_action_values(agent.q)\n",
    "plot_policy_values(p_greedy, agent.q.max(axis=1), gw)"
   ],
   "outputs": [
    {
     "data": {
      "text/plain": [
       "<Figure size 640x480 with 1 Axes>"
      ],
      "image/png": "[encoded data removed]"
     },
     "metadata": {},
     "output_type": "display_data",
     "jetTransient": {
      "display_id": null
     }
    }
   ],
   "execution_count": 39
  }
 ],
 "metadata": {
  "kernelspec": {
   "display_name": "Python 3 (ipykernel)",
   "language": "python",
   "name": "python3"
  },
  "language_info": {
   "codemirror_mode": {
    "name": "ipython",
    "version": 3
   },
   "file_extension": ".py",
   "mimetype": "text/x-python",
   "name": "python",
   "nbconvert_exporter": "python",
   "pygments_lexer": "ipython3",
   "version": "3.12.4"
  }
 },
 "nbformat": 4,
 "nbformat_minor": 5
}
