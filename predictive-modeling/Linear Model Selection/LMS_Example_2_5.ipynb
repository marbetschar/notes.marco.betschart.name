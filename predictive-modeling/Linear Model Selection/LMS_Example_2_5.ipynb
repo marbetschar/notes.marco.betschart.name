{
 "cells": [
  {
   "cell_type": "markdown",
   "metadata": {},
   "source": [
    "### Linear Model Selection Example 2.5\n",
    "\n",
    "If we want to find the best among all models  produced by stepwise forward selection, that is, if we want to identify the most appropriate number of predictors on the basis of the AIC, we only have to repeat the known procedure, for the number of Predictors. Note that the parameter *scoreby* is now set to AIC."
   ]
  },
  {
   "cell_type": "code",
   "execution_count": 1,
   "metadata": {},
   "outputs": [
    {
     "name": "stdout",
     "output_type": "stream",
     "text": [
      "Best Predictors and corresponding AIC:\n",
      "                Best_Pred          AIC\n",
      "0                 Rating  5494.781548\n",
      "1                 Income  5212.557085\n",
      "2           Student__Yes  4849.386992\n",
      "3                  Limit  4832.524008\n",
      "4                  Cards  4817.666820\n",
      "5                    Age  4815.038963\n",
      "6         Gender__Female  4815.900560\n",
      "7             Unnamed: 0  4817.004037\n",
      "8       Ethnicity__Asian  4818.286694\n",
      "9           Married__Yes  4819.562597\n",
      "10  Ethnicity__Caucasian  4820.935924\n",
      "11             Education  4822.448073 \n",
      "\n",
      "The best model thus contains 6  predictors\n"
     ]
    }
   ],
   "source": [
    "import pandas as pd\n",
    "import numpy as np\n",
    "from LMS_def import *\n",
    "\n",
    "# Load data\n",
    "df = pd.read_csv('./data/Credit.csv')\n",
    "\n",
    "# Convert Categorical variables\n",
    "df = pd.get_dummies(data=df, drop_first=True, \n",
    "                    prefix=('Gender_', 'Student_', \n",
    "                            'Married_', 'Ethnicity_'))\n",
    "\n",
    "x_full = df.drop(columns='Balance')\n",
    "y = df['Balance']\n",
    "\n",
    "results = pd.DataFrame(data={'Best_Pred': [], 'AIC':[]})\n",
    "\n",
    "# Define the empty predictor\n",
    "x0 = [np.zeros(len(y))]\n",
    "\n",
    "x = x0\n",
    "x_red = x_full.copy()\n",
    "\n",
    "for i in range(x_full.shape[1]):\n",
    "    results_i, best_i = add_one(x_red, x, y, scoreby='AIC')\n",
    "    \n",
    "    # Update the empty predictor with the best predictor\n",
    "    x = np.concatenate((x, [df[best_i]]))\n",
    "\n",
    "    # Remove the chosen predictor from the list of options\n",
    "    x_red = x_red.drop(columns=best_i)\n",
    "\n",
    "    # Save results \n",
    "    results.loc[i, 'Best_Pred'] = best_i\n",
    "    results.loc[i, 'AIC'] = results_i['AIC'].min()\n",
    "    \n",
    "print('Best Predictors and corresponding AIC:\\n', results, \n",
    "      '\\n\\nThe best model thus contains', \n",
    "      results['AIC'].argmin() + 1, ' predictors')"
   ]
  }
 ],
 "metadata": {
  "kernelspec": {
   "display_name": "Python 3",
   "language": "python",
   "name": "python3"
  },
  "language_info": {
   "codemirror_mode": {
    "name": "ipython",
    "version": 3
   },
   "file_extension": ".py",
   "mimetype": "text/x-python",
   "name": "python",
   "nbconvert_exporter": "python",
   "pygments_lexer": "ipython3",
   "version": "3.7.6"
  },
  "widgets": {
   "application/vnd.jupyter.widget-state+json": {
    "state": {},
    "version_major": 2,
    "version_minor": 0
   }
  }
 },
 "nbformat": 4,
 "nbformat_minor": 5
}
