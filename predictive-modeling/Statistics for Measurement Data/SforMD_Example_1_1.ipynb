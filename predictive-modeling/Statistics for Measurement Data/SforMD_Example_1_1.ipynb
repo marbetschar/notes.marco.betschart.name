{
 "cells": [
  {
   "cell_type": "markdown",
   "metadata": {},
   "source": [
    "### Statistics for Measurement Data Example 1.1\n",
    "Measurements of the concrete compression strength were carried out on \\(n=20\\) different samples. We want to check how well the data can be described with a normal distribution. \n",
    "\n",
    "The values are given, listed according to their size. $\\alpha_k=\\frac{k-0.5}{n}$ is calculated for each measurement. The first value thus corresponds to the empirical 2.5% quantile, the $k=11$th measurement corresponds approximately to the median and the $k=16$th measurement corresponds to the 75% quantile. \n",
    "\n",
    "We assume that these measurements are normally distributed. We estimate the parameter $\\mu$ of the normal distribution by means of the empirical mean value and the parameter $\\sigma$ by means of the empirical standard deviation and find \n",
    "\\begin{equation}\n",
    "\\widehat{\\mu}=32.7 \n",
    "\\quad \\text{and}\\quad \n",
    "\\widehat{\\sigma}=4.15 \n",
    "\\end{equation}\n",
    "We next calculate the corresponding $\\alpha_k$-quantile for every $\\alpha_k$ , that is, $\\Phi^{-1}(\\alpha_k)$ for the normal distribution\n",
    "\\begin{equation}\n",
    "\\mathcal{N}(32.7,4.15^{2}) \n",
    "\\end{equation}\n",
    "If our data set actually follows a normal distribution, then we would expect that the empirical quantiles of our data set and the quantiles of the normal \n",
    "distribution are approximately equal and thus should lie on the bisector $y=x$. \n",
    "\n",
    "In **Python**, we generate a Q-Q plot as follows:"
   ]
  },
  {
   "cell_type": "code",
   "execution_count": 1,
   "metadata": {},
   "outputs": [
    {
     "data": {
      "image/png": "[encoded data removed]",
      "text/plain": [
       "<Figure size 432x432 with 1 Axes>"
      ]
     },
     "metadata": {
      "needs_background": "light"
     },
     "output_type": "display_data"
    }
   ],
   "source": [
    "import matplotlib.pyplot as plt\n",
    "import numpy as np\n",
    "from pandas import Series\n",
    "from scipy.stats import norm\n",
    "\n",
    "# Concrete compression strength, data order by size\n",
    "x = Series([24.4, 27.6, 27.8, 27.9, 28.5,\n",
    "30.1, 30.3, 31.7, 32.2, 32.8,\n",
    "33.3, 33.5, 34.1, 34.6, 35.8,\n",
    "35.9, 36.8, 37.1, 39.2, 39.7])\n",
    "\n",
    "# Quentiles\n",
    "alphak = (np.arange(1, x.size + 1) - 0.5) / x.size\n",
    "quantile_theor = norm.ppf(q=alphak, loc=x.mean(), scale=x.std())\n",
    "quantile_empir = np.sort(x)\n",
    "\n",
    "# Plot figure\n",
    "plt.figure(figsize=(6, 6))\n",
    "plt.plot(quantile_theor, quantile_empir, \"o\")\n",
    "plt.xlabel(\"Theoretical Quantile\")\n",
    "plt.ylabel(\"Empirical Quantile\")\n",
    "\n",
    "plt.show()"
   ]
  },
  {
   "cell_type": "markdown",
   "metadata": {},
   "source": [
    "We consider quantiles of the presumed model and the empirical quantiles of our data set. If they are similar to each other, then we conclude that our data set follows the presumed model distribution. "
   ]
  },
  {
   "cell_type": "code",
   "execution_count": null,
   "metadata": {},
   "outputs": [],
   "source": []
  }
 ],
 "metadata": {
  "kernelspec": {
   "display_name": "Python 3",
   "language": "python",
   "name": "python3"
  },
  "language_info": {
   "codemirror_mode": {
    "name": "ipython",
    "version": 3
   },
   "file_extension": ".py",
   "mimetype": "text/x-python",
   "name": "python",
   "nbconvert_exporter": "python",
   "pygments_lexer": "ipython3",
   "version": "3.7.6"
  }
 },
 "nbformat": 4,
 "nbformat_minor": 4
}
