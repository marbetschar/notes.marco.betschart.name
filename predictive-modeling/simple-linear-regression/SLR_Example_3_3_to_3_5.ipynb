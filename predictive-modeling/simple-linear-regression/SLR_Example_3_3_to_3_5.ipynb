{
 "cells": [
  {
   "cell_type": "markdown",
   "metadata": {},
   "source": [
    "### Simple Linear Regression Example 3.3:\n",
    "For the **Advertising** data we can determine the standard errors of the estimated coefficients with the help of **Python**:"
   ]
  },
  {
   "cell_type": "code",
   "execution_count": 1,
   "metadata": {},
   "outputs": [
    {
     "name": "stdout",
     "output_type": "stream",
     "text": [
      "                            OLS Regression Results                            \n",
      "==============================================================================\n",
      "Dep. Variable:                  sales   R-squared:                       0.612\n",
      "Model:                            OLS   Adj. R-squared:                  0.610\n",
      "Method:                 Least Squares   F-statistic:                     312.1\n",
      "Date:                Fri, 25 Feb 2022   Prob (F-statistic):           1.47e-42\n",
      "Time:                        17:56:43   Log-Likelihood:                -519.05\n",
      "No. Observations:                 200   AIC:                             1042.\n",
      "Df Residuals:                     198   BIC:                             1049.\n",
      "Df Model:                           1                                         \n",
      "Covariance Type:            nonrobust                                         \n",
      "==============================================================================\n",
      "                 coef    std err          t      P>|t|      [0.025      0.975]\n",
      "------------------------------------------------------------------------------\n",
      "const          7.0326      0.458     15.360      0.000       6.130       7.935\n",
      "TV             0.0475      0.003     17.668      0.000       0.042       0.053\n",
      "==============================================================================\n",
      "Omnibus:                        0.531   Durbin-Watson:                   1.935\n",
      "Prob(Omnibus):                  0.767   Jarque-Bera (JB):                0.669\n",
      "Skew:                          -0.089   Prob(JB):                        0.716\n",
      "Kurtosis:                       2.779   Cond. No.                         338.\n",
      "==============================================================================\n",
      "\n",
      "Notes:\n",
      "[1] Standard Errors assume that the covariance matrix of the errors is correctly specified.\n"
     ]
    }
   ],
   "source": [
    "import pandas as pd\n",
    "import statsmodels.api as sm\n",
    "\n",
    "# Load data\n",
    "df = pd.read_csv('./data/Advertising.csv')\n",
    "x = df['TV']\n",
    "y = df['sales']\n",
    "\n",
    "# Linear Regression using statsmodels.api\n",
    "x_sm = sm.add_constant(x)\n",
    "model = sm.OLS(y, x_sm).fit()\n",
    "\n",
    "# Now we can print a summary, \n",
    "print(model.summary())"
   ]
  },
  {
   "cell_type": "markdown",
   "metadata": {},
   "source": [
    "In the table under **coef**, the listed values are $\\hat{\\beta}_{0} $ and $ \\hat{\\beta}_{1} $. In the column **Std.\\,Error** we find the values $ 0.457843 $  and $ 0.002691 $ for the two standard errors $ se (\\hat{\\beta}_{0}) $ and  $ se (\\hat{\\beta}_{1}) $. They correspond to the average deviations of the estimated values of $\\hat{\\beta}_{0} $ and $ \\hat{\\beta}_{1} $ which are $ 7.0326 $ and $ 0.04754 $.\n",
    "In the right top part, we find some constants describing the fit, for example **R-squared** which is the portion of variance explained by the fit. "
   ]
  },
  {
   "cell_type": "markdown",
   "metadata": {},
   "source": [
    "### Simple Linear Regression Example 3.4\n",
    "For the **Advertising** data, we want to compute the p-value of  $\\beta_1$  of the least squares model for the regression of number of units sold on TV advertising budget.\n",
    "\n",
    "The least squares estimate for $\\beta_1$ is 0.047537 and the standard error of $\\hat{\\beta}_1$.\n",
    "\n",
    "Hence, we find for the realization of the statistic $T$\n",
    "\\begin{equation*}\n",
    "t\n",
    "=\\dfrac{\\hat{\\beta}_{1}-0}{se (\\hat{\\beta}_{1})}\n",
    "=\\dfrac{0.047537-0}{0.002691}\n",
    "=17.66518\n",
    "\\end{equation*}\n",
    "\n",
    "\n",
    "Furthermore, we find in the **Python**-output, that the number of degrees of freedom is $198$, which is listed under **Df Residuals**. The number of degrees of freedom is given by  $n-2$, it follows that in total there are $n=200$ data points. This number corresponds to the number of markets in the data set **Advertising**.\n",
    "\n",
    "Since the coefficient for $\\hat{\\beta}_1$ is very large relative to its standard error, so the t-statistic is also large. The probability of seeing such a value if $H_{0}$ is true is virtually zero. Hence we can conclude that $\\beta_{1}\\neq 0$. \n",
    "\n",
    "We now will compute the p-value, that is, the probability of observing a value of the t-statistic larger than $|t|=17.66518$. Assuming $\\beta_1=0$, $T$ will follow a t-distribution with  $n-2=198$ degrees of freedom. Then the (two-sided) p-value can be determined with the help of **Python**"
   ]
  },
  {
   "cell_type": "code",
   "execution_count": 5,
   "metadata": {},
   "outputs": [
    {
     "name": "stdout",
     "output_type": "stream",
     "text": [
      "0.0\n"
     ]
    }
   ],
   "source": [
    "from scipy.stats import t\n",
    "\n",
    "p_two_sided = 2 * (1 - t.cdf(17.66518, 198))\n",
    "print(p_two_sided)"
   ]
  },
  {
   "cell_type": "markdown",
   "metadata": {},
   "source": [
    "Since the alternative hypothesis is two-sided, we need to multiply the one-sided p-value by two in order to obtain the two-sided p-value. \n",
    "The corresponding  p-value : $0.000$ is listed under **P(>|t|)**. Since it is zero, hence smaller than a siginificance level of $ 0.05 $ , we *reject* the null hypothesis  $\\beta_{1}=0$ in favor of the alternative hypothesis $\\beta_{1}\\neq 0 $. We therefore find that there clearly is a relationship between **TV** and **sales**."
   ]
  },
  {
   "cell_type": "markdown",
   "metadata": {},
   "source": [
    "### Simple Linear Regression Example 3.5\n",
    "In the case of the **Advertising** data, the 95% confidence interval can be found with the help of the **conf\\_int**-function: "
   ]
  },
  {
   "cell_type": "code",
   "execution_count": 6,
   "metadata": {},
   "outputs": [
    {
     "name": "stdout",
     "output_type": "stream",
     "text": [
      "            0       1\n",
      "const  6.1297  7.9355\n",
      "TV     0.0422  0.0528\n"
     ]
    }
   ],
   "source": [
    "import numpy as np\n",
    "# Confidence interval found using conf_int method\n",
    "print(np.round(model.conf_int(alpha=0.05), 4))"
   ]
  },
  {
   "cell_type": "markdown",
   "metadata": {},
   "source": [
    "The 95%-confidence interval for $\\beta_{0}$ thus is\n",
    "\\begin{equation*}\n",
    "[6.130,7.935]\n",
    "\\end{equation*}\n",
    "and the 95%-confidence interval for $\\beta_{1}$\n",
    "\\begin{equation*}\n",
    "[0.042,0.053]\n",
    "\\end{equation*}\n",
    "Therefore, we can conclude that in the absence of any advertising, sales will, on average, fall somewhere between $ 6130 $ and $ 7935 $ units. Furthermore, for each  CHF 1000 increase in television advertising, there will be an average increase in sales of between 42 and 53 units. "
   ]
  },
  {
   "cell_type": "markdown",
   "metadata": {},
   "source": [
    "1. The exact formula for the 95% confidence interval for the regression coefficient $\\beta_i$ is\n",
    "\n",
    "\\begin{equation*}\n",
    "\\left [\n",
    "\\hat{\\beta}_i- t_{0.975;n-2}\\cdot se (\\hat{\\beta}_{i}),\\hat{\\beta}_{i}+ t_{0.975;n-2}\\cdot se (\\hat{\\beta}_{i})\n",
    "\\right ]\n",
    "\\end{equation*}\n",
    "\n",
    "where $t_{0.975;n-1}$ is the 97.5% quantile of a t-distribution with  $n-2$ degrees of freedom. \n",
    "\n",
    "2. With **Python** we determine the  97.5% quantile of a t-distribution as follows"
   ]
  },
  {
   "cell_type": "code",
   "execution_count": 7,
   "metadata": {},
   "outputs": [
    {
     "name": "stdout",
     "output_type": "stream",
     "text": [
      "2.1009\n"
     ]
    }
   ],
   "source": [
    "# the 97.5% quantile of a t-distribution:\n",
    "q_975 = t.ppf(0.975, 18)\n",
    "print(np.round(q_975, 4))"
   ]
  },
  {
   "cell_type": "markdown",
   "metadata": {},
   "source": [
    "which is approximately 2."
   ]
  }
 ],
 "metadata": {
  "kernelspec": {
   "display_name": "Python 3",
   "language": "python",
   "name": "python3"
  },
  "language_info": {
   "codemirror_mode": {
    "name": "ipython",
    "version": 3
   },
   "file_extension": ".py",
   "mimetype": "text/x-python",
   "name": "python",
   "nbconvert_exporter": "python",
   "pygments_lexer": "ipython3",
   "version": "3.7.6"
  }
 },
 "nbformat": 4,
 "nbformat_minor": 4
}
