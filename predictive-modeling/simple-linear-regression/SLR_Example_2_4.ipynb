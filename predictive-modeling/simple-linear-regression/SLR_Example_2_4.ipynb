{
 "cells": [
  {
   "cell_type": "markdown",
   "metadata": {},
   "source": [
    "### Simple Linear Regression Example 2.4\n",
    "\n",
    "We are interested in the values of $ \\hat{\\beta}_{0} $ and $ \\hat{\\beta}_{1} $ for the **Advertising** data. By means of the **Python**-function **OLS()**, we can easily determine those values:"
   ]
  },
  {
   "cell_type": "code",
   "execution_count": 6,
   "metadata": {},
   "outputs": [
    {
     "name": "stdout",
     "output_type": "stream",
     "text": [
      "                            OLS Regression Results                            \n",
      "==============================================================================\n",
      "Dep. Variable:                  sales   R-squared:                       0.612\n",
      "Model:                            OLS   Adj. R-squared:                  0.610\n",
      "Method:                 Least Squares   F-statistic:                     312.1\n",
      "Date:                Wed, 02 Mar 2022   Prob (F-statistic):           1.47e-42\n",
      "Time:                        08:34:12   Log-Likelihood:                -519.05\n",
      "No. Observations:                 200   AIC:                             1042.\n",
      "Df Residuals:                     198   BIC:                             1049.\n",
      "Df Model:                           1                                         \n",
      "Covariance Type:            nonrobust                                         \n",
      "==============================================================================\n",
      "                 coef    std err          t      P>|t|      [0.025      0.975]\n",
      "------------------------------------------------------------------------------\n",
      "const          7.0326      0.458     15.360      0.000       6.130       7.935\n",
      "TV             0.0475      0.003     17.668      0.000       0.042       0.053\n",
      "==============================================================================\n",
      "Omnibus:                        0.531   Durbin-Watson:                   1.935\n",
      "Prob(Omnibus):                  0.767   Jarque-Bera (JB):                0.669\n",
      "Skew:                          -0.089   Prob(JB):                        0.716\n",
      "Kurtosis:                       2.779   Cond. No.                         338.\n",
      "==============================================================================\n",
      "\n",
      "Notes:\n",
      "[1] Standard Errors assume that the covariance matrix of the errors is correctly specified.\n"
     ]
    }
   ],
   "source": [
    "import pandas as pd\n",
    "import statsmodels.api as sm\n",
    "\n",
    "# Load data\n",
    "df = pd.read_csv('./data/Advertising.csv')\n",
    "x = df['TV']\n",
    "y = df['sales']\n",
    "\n",
    "# Linear Regression using statsmodels.api\n",
    "x_sm = sm.add_constant(x)\n",
    "model = sm.OLS(y, x_sm).fit()\n",
    "\n",
    "# Now we can print a summary, \n",
    "print(model.summary())"
   ]
  },
  {
   "cell_type": "markdown",
   "metadata": {},
   "source": [
    "The coefficients are listed under **(coef)**. Here **const** corresponds to $ \\hat{\\beta}_{0} $, thus to the intercept with the $ y $-axis, and the **TV** corresponds to the slope of the regression line, thus to $ \\hat{\\beta}_{1} $."
   ]
  },
  {
   "cell_type": "markdown",
   "metadata": {},
   "source": [
    "###  Alternative solution using sklearn.linear_model:"
   ]
  },
  {
   "cell_type": "code",
   "execution_count": 2,
   "metadata": {},
   "outputs": [
    {
     "name": "stdout",
     "output_type": "stream",
     "text": [
      "Coefficients: \n",
      " [0.0475] \n",
      "Intercept: \n",
      " 7.0326\n"
     ]
    }
   ],
   "source": [
    "import numpy as np\n",
    "from sklearn.linear_model import LinearRegression\n",
    "\n",
    "x = [[x[i]] for i in range(len(x))]\n",
    "\n",
    "# Linear Regression using sklearn\n",
    "linreg = LinearRegression()\n",
    "linreg.fit(x, y)\n",
    "\n",
    "print('Coefficients: \\n', np.round(linreg.coef_, 4),\n",
    "      '\\nIntercept: \\n', np.round(linreg.intercept_, 4))"
   ]
  },
  {
   "cell_type": "markdown",
   "metadata": {},
   "source": [
    "Our regression model then is given by\n",
    "\\begin{equation*}\n",
    "Y\n",
    "\\approx 7.03+0.0475X\n",
    "\\end{equation*}\n",
    "According to this approximation, an additional CHF 1000 spent on TV advertising is associated with selling approximately 47.5 additional units of the product. \n"
   ]
  },
  {
   "cell_type": "code",
   "execution_count": 3,
   "metadata": {},
   "outputs": [
    {
     "data": {
      "image/png": "[encoded data removed]",
      "text/plain": [
       "<Figure size 432x432 with 1 Axes>"
      ]
     },
     "metadata": {
      "needs_background": "light"
     },
     "output_type": "display_data"
    }
   ],
   "source": [
    "import matplotlib.pyplot as plt\n",
    "\n",
    "# Predicted y\n",
    "y_pred = model.predict(x_sm)\n",
    "\n",
    "# Create figure and plot\n",
    "fig = plt.figure(figsize=(6, 6))\n",
    "ax = fig.add_subplot(1, 1, 1)\n",
    "plt.plot(df['TV'], y, marker='o', linestyle='None', \n",
    "         color='darkcyan', markersize='3', label=\"Data\")\n",
    "plt.plot(df['TV'], y_pred, 'b-', label=\"Predction\")\n",
    "# Set labels and Legend\n",
    "ax.set_xlabel('TV')\n",
    "ax.set_ylabel('Sales')\n",
    "plt.legend()\n",
    "plt.show()"
   ]
  },
  {
   "cell_type": "markdown",
   "metadata": {},
   "source": [
    "1. The **Python**-function **statsmodels.api.OLS()** uses Ordinary Least Squares to fit the *linear model*.\n",
    "1. Be aware of the (default) order of the function parameters **x** and **y** in **sm.OLS(y, x)**.\n",
    "1. If **x** is a one-dimensional vector, it needs to be preprocessed using **sm.add\\_constant(x)**."
   ]
  },
  {
   "cell_type": "code",
   "execution_count": 5,
   "metadata": {},
   "outputs": [
    {
     "data": {
      "text/plain": [
       "3.258656368650463"
      ]
     },
     "execution_count": 5,
     "metadata": {},
     "output_type": "execute_result"
    }
   ],
   "source": [
    "np.sqrt(model.mse_resid)"
   ]
  },
  {
   "cell_type": "code",
   "execution_count": null,
   "metadata": {},
   "outputs": [],
   "source": []
  },
  {
   "cell_type": "code",
   "execution_count": null,
   "metadata": {},
   "outputs": [],
   "source": []
  }
 ],
 "metadata": {
  "kernelspec": {
   "display_name": "Python 3",
   "language": "python",
   "name": "python3"
  },
  "language_info": {
   "codemirror_mode": {
    "name": "ipython",
    "version": 3
   },
   "file_extension": ".py",
   "mimetype": "text/x-python",
   "name": "python",
   "nbconvert_exporter": "python",
   "pygments_lexer": "ipython3",
   "version": "3.7.6"
  }
 },
 "nbformat": 4,
 "nbformat_minor": 4
}
