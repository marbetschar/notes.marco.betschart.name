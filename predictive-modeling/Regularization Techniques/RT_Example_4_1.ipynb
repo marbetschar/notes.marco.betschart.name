{
 "cells": [
  {
   "cell_type": "markdown",
   "metadata": {},
   "source": [
    "### Regularization Methods Example 4.1:\n",
    "Here we use **GradientBoostingRegressor()** from **sklearn.ensemble**, to fit a boosted regression trees model to the Boston data set. The argument **n\\_estimators=5000** indicates that we want $5000$ trees, the option **max\\_depth=4** limits the depth of each tree, and **learning\\_rate=0.001** shrinks the contribution of each tree."
   ]
  },
  {
   "cell_type": "code",
   "execution_count": 1,
   "metadata": {},
   "outputs": [],
   "source": [
    "import pandas as pd\n",
    "import numpy as np\n",
    "from sklearn.model_selection import train_test_split\n",
    "from sklearn.ensemble import GradientBoostingRegressor\n",
    "\n",
    "# Load data\n",
    "df = pd.read_csv('./data/Boston.csv', index_col=0)\n",
    "\n",
    "# Define target and predictors\n",
    "x = df.drop(columns='medv') \n",
    "y = df['medv']\n",
    "\n",
    "# Split in test and train set\n",
    "np.random.seed(1)\n",
    "x_train, x_test, y_train, y_test = train_test_split(x, y, \n",
    "                                                    test_size=0.5)\n",
    "\n",
    "# Fit model:\n",
    "reg = GradientBoostingRegressor(n_estimators=5000, max_depth=4, \n",
    "                                learning_rate=0.001)\n",
    "reg = reg.fit(x_train, y_train)"
   ]
  },
  {
   "cell_type": "code",
   "execution_count": 2,
   "metadata": {},
   "outputs": [
    {
     "data": {
      "image/png": "[encoded data removed]",
      "text/plain": [
       "<Figure size 576x432 with 1 Axes>"
      ]
     },
     "metadata": {
      "needs_background": "light"
     },
     "output_type": "display_data"
    }
   ],
   "source": [
    "import matplotlib.pyplot as plt\n",
    "\n",
    "# Feature Importances based on the impurity decrease\n",
    "importance = reg.feature_importances_\n",
    "features = x_train.columns.values\n",
    "\n",
    "# Sort by importance\n",
    "features = features[np.argsort(importance)]\n",
    "importance = importance[np.argsort(importance)]\n",
    "\n",
    "# plot\n",
    "fig = plt.figure(figsize=(8, 6))\n",
    "ax = fig.add_subplot(1, 1, 1)\n",
    "ax.barh(features, importance)\n",
    "ax.set_xlabel(\"relative importance\")\n",
    "plt.show()"
   ]
  },
  {
   "cell_type": "markdown",
   "metadata": {},
   "source": [
    "We see that **lstat** and **rm** are by far the most important variables. "
   ]
  },
  {
   "cell_type": "markdown",
   "metadata": {},
   "source": [
    "We now use the boosted model to predict **medv** on the test set:"
   ]
  },
  {
   "cell_type": "code",
   "execution_count": 4,
   "metadata": {},
   "outputs": [
    {
     "name": "stdout",
     "output_type": "stream",
     "text": [
      "MSE: 10.675\n"
     ]
    }
   ],
   "source": [
    "from sklearn.metrics import mean_squared_error\n",
    "\n",
    "# Predict\n",
    "pred = reg.predict(x_test)\n",
    "\n",
    "# MSE\n",
    "MSE = mean_squared_error(y_test, pred)\n",
    "print(\"MSE:\", np.round(MSE, 3))"
   ]
  },
  {
   "cell_type": "markdown",
   "metadata": {},
   "source": [
    "The test MSE obtained is $10.361$; similar to the test MSE for random forests and superior to that for bagging. If we want to, we can perform boosting with a different value of the shrinkage parameter $\\lambda$. The default value is $0.1$, but this is easily modified. Here we take $\\lambda = 0.2$."
   ]
  },
  {
   "cell_type": "code",
   "execution_count": 5,
   "metadata": {},
   "outputs": [
    {
     "name": "stdout",
     "output_type": "stream",
     "text": [
      "MSE: 10.228\n"
     ]
    }
   ],
   "source": [
    "# Fit model with higher learning rate:\n",
    "reg = GradientBoostingRegressor(n_estimators=5000, max_depth=4, learning_rate=0.2)\n",
    "reg = reg.fit(x_train, y_train)\n",
    "\n",
    "# Predict\n",
    "pred = reg.predict(x_test)\n",
    "\n",
    "# MSE\n",
    "MSE = mean_squared_error(y_test, pred)\n",
    "print(\"MSE:\", np.round(MSE, 3))"
   ]
  },
  {
   "cell_type": "markdown",
   "metadata": {},
   "source": [
    "In this case, using $\\lambda = 0.2$ leads to a slightly lower test MSE than $\\lambda = 0.001$."
   ]
  }
 ],
 "metadata": {
  "kernelspec": {
   "display_name": "Python 3",
   "language": "python",
   "name": "python3"
  },
  "language_info": {
   "codemirror_mode": {
    "name": "ipython",
    "version": 3
   },
   "file_extension": ".py",
   "mimetype": "text/x-python",
   "name": "python",
   "nbconvert_exporter": "python",
   "pygments_lexer": "ipython3",
   "version": "3.7.6"
  },
  "widgets": {
   "application/vnd.jupyter.widget-state+json": {
    "state": {},
    "version_major": 2,
    "version_minor": 0
   }
  }
 },
 "nbformat": 4,
 "nbformat_minor": 5
}
