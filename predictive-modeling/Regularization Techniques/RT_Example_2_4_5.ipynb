{
 "cells": [
  {
   "cell_type": "markdown",
   "metadata": {},
   "source": [
    "### Regularization Methods Example 2.4:\n",
    "We now split the samples of the **Credit** data set into a training set and a test set in order to estimate the test error of ridge regression and the lasso. The splitting can be easily achieved using the **train\\_test\\_split()** function from **sklearn.model\\_selection**. \n",
    "We first set a random seed so that the results obtained will be reproducible."
   ],
   "id": "5e99b88ba008da33"
  },
  {
   "cell_type": "code",
   "metadata": {
    "ExecuteTime": {
     "end_time": "2025-10-23T08:16:29.123731Z",
     "start_time": "2025-10-23T08:16:28.272212Z"
    }
   },
   "source": [
    "import pandas as pd\n",
    "import numpy as np\n",
    "from sklearn.linear_model import Ridge\n",
    "from sklearn.model_selection import train_test_split\n",
    "\n",
    "# Load data\n",
    "df = pd.read_csv('./data/Credit.csv', index_col=\"Unnamed: 0\")\n",
    "\n",
    "# Convert Categorical variables\n",
    "df = pd.get_dummies(data=df, drop_first=True, \n",
    "                    prefix=('Gender_', 'Student_', \n",
    "                            'Married_', 'Ethnicity_'))\n",
    "\n",
    "# Define target and predictors\n",
    "x = df.drop(columns='Balance') \n",
    "y = df['Balance']\n",
    "\n",
    "# Split in test and train set\n",
    "np.random.seed(10)\n",
    "x_train, x_test, y_train, y_test = train_test_split(x, y, \n",
    "                                                    test_size=0.5)"
   ],
   "id": "cbe4bf6ff1086ced",
   "outputs": [],
   "execution_count": 1
  },
  {
   "cell_type": "markdown",
   "metadata": {},
   "source": [
    "We now split the samples of the **Credit** data set into a training set and a test set in order to estimate the test error of ridge regression and the lasso. \n",
    "The splitting can be easily achieved using the **train\\_test\\_split()** function from **sklearn.model\\_selection**. We first set a random seed so that the results obtained will be reproducible."
   ],
   "id": "d05da57330b2eba7"
  },
  {
   "cell_type": "code",
   "metadata": {
    "ExecuteTime": {
     "end_time": "2025-10-23T08:17:19.465354Z",
     "start_time": "2025-10-23T08:17:19.457492Z"
    }
   },
   "source": [
    "import warnings\n",
    "warnings.filterwarnings(\"ignore\")\n",
    "\n",
    "\n",
    "# Model for lambda=4\n",
    "params = pd.DataFrame(columns=x.columns)\n",
    "lambda_ = 4\n",
    "\n",
    "# Fit model:\n",
    "reg = Ridge(alpha=lambda_) #, normalize=True)\n",
    "reg = reg.fit(x_train, y_train)\n",
    "\n",
    "# Coeficient and coresponding predictors\n",
    "coef = np.round(reg.coef_, 3)\n",
    "x_cols = x.columns.values\n",
    "\n",
    "print(pd.DataFrame(data={'Feature': x_cols,\n",
    "                         'Coefficient':coef}))\n",
    "\n",
    "# Predict and calculate MSE on test-set\n",
    "y_pred = reg.predict(x_test)\n",
    "MSE = np.mean((y_pred - y_test)**2)\n",
    "print(\"\\nMSE:\", np.round(MSE, 1))"
   ],
   "id": "6317969a281a88d3",
   "outputs": [
    {
     "name": "stdout",
     "output_type": "stream",
     "text": [
      "                 Feature  Coefficient\n",
      "0                 Income       -7.693\n",
      "1                  Limit        0.147\n",
      "2                 Rating        1.755\n",
      "3                  Cards       17.409\n",
      "4                    Age       -0.380\n",
      "5              Education        2.132\n",
      "6           Gender__Male       -6.890\n",
      "7           Student__Yes      351.056\n",
      "8           Married__Yes      -14.036\n",
      "9       Ethnicity__Asian       16.452\n",
      "10  Ethnicity__Caucasian       15.534\n",
      "\n",
      "MSE: 10474.3\n"
     ]
    }
   ],
   "execution_count": 2
  },
  {
   "cell_type": "markdown",
   "metadata": {},
   "source": [
    "The test MSE is $116077.3$. Note that if we had instead simply fit a model with just an intercept, we would have predicted each test observation using the mean of the training observations. In that case, we could compute the test set MSE like this:"
   ],
   "id": "92a93002241f95b7"
  },
  {
   "cell_type": "code",
   "metadata": {
    "ExecuteTime": {
     "end_time": "2025-10-23T08:17:50.689830Z",
     "start_time": "2025-10-23T08:17:50.686877Z"
    }
   },
   "source": [
    "MSE = np.mean((np.mean(y_train) - y_test)**2)\n",
    "print(\"MSE:\", np.round(MSE, 1))"
   ],
   "id": "b5b996eec0cbdedf",
   "outputs": [
    {
     "name": "stdout",
     "output_type": "stream",
     "text": [
      "MSE: 214872.8\n"
     ]
    }
   ],
   "execution_count": 3
  },
  {
   "cell_type": "markdown",
   "metadata": {},
   "source": [
    "We could also get the same result by fitting a ridge regression model with a very large value of $\\lambda$. "
   ],
   "id": "992b9c57c524e0ed"
  },
  {
   "cell_type": "code",
   "metadata": {
    "ExecuteTime": {
     "end_time": "2025-10-23T08:22:16.576652Z",
     "start_time": "2025-10-23T08:22:16.568007Z"
    }
   },
   "source": [
    "# Model for lambda=inf\n",
    "lambda_ = 1e10\n",
    "\n",
    "# Fit model:\n",
    "reg = Ridge(alpha=lambda_) #, normalize=True)\n",
    "reg = reg.fit(x_train, y_train)\n",
    "\n",
    "# Coeficient and coresponding predictors\n",
    "coef = np.round(reg.coef_, 3)\n",
    "x_cols = x.columns.values\n",
    "\n",
    "print(pd.DataFrame(data={'Feature': x_cols,\n",
    "                         'Coefficient':coef}))\n",
    "\n",
    "# Predict and calculate MSE on test-set\n",
    "y_pred = reg.predict(x_test)\n",
    "MSE = np.mean((y_pred - y_test)**2)\n",
    "print(\"\\nMSE:\", np.round(MSE, 1))"
   ],
   "id": "e8dad645b67942ad",
   "outputs": [
    {
     "name": "stdout",
     "output_type": "stream",
     "text": [
      "                 Feature  Coefficient\n",
      "0                 Income        0.000\n",
      "1                  Limit        0.016\n",
      "2                 Rating        0.001\n",
      "3                  Cards        0.000\n",
      "4                    Age       -0.000\n",
      "5              Education       -0.000\n",
      "6           Gender__Male       -0.000\n",
      "7           Student__Yes        0.000\n",
      "8           Married__Yes        0.000\n",
      "9       Ethnicity__Asian       -0.000\n",
      "10  Ethnicity__Caucasian        0.000\n",
      "\n",
      "MSE: 185977.1\n"
     ]
    }
   ],
   "execution_count": 4
  },
  {
   "cell_type": "markdown",
   "metadata": {},
   "source": [
    "So fitting a ridge regression model with $\\lambda = 4$ leads to a much lower test MSE than fitting a model with just an intercept. We now check whether there is any benefit to performing ridge regression with $\\lambda = 4$ instead of just performing least squares regression. Recall that least squares is simply ridge regression with $\\lambda=0$."
   ],
   "id": "5e89d6beb9c8c323"
  },
  {
   "cell_type": "code",
   "metadata": {
    "ExecuteTime": {
     "end_time": "2025-10-23T08:23:06.110137Z",
     "start_time": "2025-10-23T08:23:06.104453Z"
    }
   },
   "source": [
    "# Model for lambda=0\n",
    "lambda_ = 0\n",
    "\n",
    "# Fit model:\n",
    "reg = Ridge(alpha=lambda_) #, normalize=True)\n",
    "reg = reg.fit(x_train, y_train)\n",
    "\n",
    "# Coeficient and coresponding predictors\n",
    "coef = np.round(reg.coef_, 3)\n",
    "x_cols = x.columns.values\n",
    "\n",
    "print(pd.DataFrame(data={'Feature': x_cols,\n",
    "                         'Coefficient':coef}))\n",
    "\n",
    "# Predict and calculate MSE on test-set\n",
    "y_pred = reg.predict(x_test)\n",
    "MSE = np.mean((y_pred - y_test)**2)\n",
    "print(\"\\nMSE:\", np.round(MSE, 1))"
   ],
   "id": "3dedfa6d8f196cb5",
   "outputs": [
    {
     "name": "stdout",
     "output_type": "stream",
     "text": [
      "                 Feature  Coefficient\n",
      "0                 Income       -7.666\n",
      "1                  Limit        0.168\n",
      "2                 Rating        1.421\n",
      "3                  Cards       20.156\n",
      "4                    Age       -0.333\n",
      "5              Education        0.942\n",
      "6           Gender__Male      -13.405\n",
      "7           Student__Yes      455.791\n",
      "8           Married__Yes      -10.613\n",
      "9       Ethnicity__Asian       18.956\n",
      "10  Ethnicity__Caucasian       27.706\n",
      "\n",
      "MSE: 10730.6\n"
     ]
    }
   ],
   "execution_count": 5
  },
  {
   "cell_type": "markdown",
   "metadata": {},
   "source": [
    "The MSE resulting form Ridge regression with $\\lambda=4$ is larger than the MSE resulting from least squares which is not surprising since we have arbitrarily chosen $\\lambda=4$.\n",
    "\n",
    "In general, instead of arbitrarily choosing $\\lambda=4$, it would be better to use cross-validation to choose the tuning parameter $\\lambda$."
   ],
   "id": "742957484c7993da"
  },
  {
   "cell_type": "markdown",
   "metadata": {},
   "source": [
    "### Regularization Methods Example 2.5:\n",
    "We can do this using the **RidgeCV()** function. By default, the number of folds equals the number of observations (*leave-one-out*), but this can be changed using the **cv** setting. "
   ],
   "id": "f1aa5947b657d5e9"
  },
  {
   "cell_type": "code",
   "metadata": {
    "ExecuteTime": {
     "end_time": "2025-10-23T08:24:36.785908Z",
     "start_time": "2025-10-23T08:24:36.720650Z"
    }
   },
   "source": [
    "from sklearn.linear_model import RidgeCV\n",
    "import matplotlib.pyplot as plt\n",
    "\n",
    "n=100\n",
    "lambda_ = np.exp(np.linspace(-5, 6, n))\n",
    "\n",
    "# Fit model - CV for \"CrossValidation\":\n",
    "reg = RidgeCV(alphas=lambda_, store_cv_results=True) #, normalize=True)\n",
    "reg = reg.fit(x_train, y_train)\n",
    "\n",
    "# Plot\n",
    "fig = plt.figure(figsize=(10, 5))\n",
    "ax = fig.add_subplot(1, 1, 1)\n",
    "ax.plot(np.log(lambda_), np.mean(reg.cv_results_, axis=0))\n",
    "plt.xlabel(\"log Lambda\")\n",
    "plt.ylabel(\"MSE\")\n",
    "plt.show()"
   ],
   "id": "d63de9e2a7bcb565",
   "outputs": [
    {
     "data": {
      "text/plain": [
       "<Figure size 1000x500 with 1 Axes>"
      ],
      "image/png": "[encoded data removed]"
     },
     "metadata": {},
     "output_type": "display_data",
     "jetTransient": {
      "display_id": null
     }
    }
   ],
   "execution_count": 7
  },
  {
   "cell_type": "code",
   "metadata": {
    "ExecuteTime": {
     "end_time": "2025-10-23T08:24:54.855520Z",
     "start_time": "2025-10-23T08:24:54.853388Z"
    }
   },
   "source": [
    "print(\"Best Lambda:\", np.round(reg.alpha_, 3))"
   ],
   "id": "762b6fe07d29a226",
   "outputs": [
    {
     "name": "stdout",
     "output_type": "stream",
     "text": [
      "Best Lambda: 0.135\n"
     ]
    }
   ],
   "execution_count": 8
  },
  {
   "cell_type": "markdown",
   "metadata": {},
   "source": [
    "Therefore, we see that the value of $\\lambda$ that results in the smallest cross-validation error is $0.007$. What is the test MSE associated with this value of\n",
    "$\\lambda$?\n"
   ],
   "id": "52bbf44764bb06c6"
  },
  {
   "cell_type": "code",
   "metadata": {
    "ExecuteTime": {
     "end_time": "2025-10-23T08:27:36.512531Z",
     "start_time": "2025-10-23T08:27:36.507704Z"
    }
   },
   "source": [
    "# Predict and calculate MSE on test-set\n",
    "y_pred = reg.predict(x_test)\n",
    "MSE = np.mean((y_pred - y_test)**2)\n",
    "print(\"MSE:\", np.round(MSE, 1))"
   ],
   "id": "422c2a62365824da",
   "outputs": [
    {
     "name": "stdout",
     "output_type": "stream",
     "text": [
      "MSE: 10664.6\n"
     ]
    }
   ],
   "execution_count": 9
  },
  {
   "cell_type": "markdown",
   "metadata": {},
   "source": [
    "Note that the best model is already returned by **RidgeCV**, we dont need to fit it again. The test MSE does represent an improvement over the test MSE we got using $\\lambda=4$. Now we can also find the coefficients of the model. "
   ],
   "id": "7adcc179d8b0719a"
  },
  {
   "cell_type": "code",
   "execution_count": 11,
   "metadata": {},
   "outputs": [
    {
     "name": "stdout",
     "output_type": "stream",
     "text": [
      "                 Feature  Coefficient\n",
      "0                 Income       -7.406\n",
      "1                  Limit        0.139\n",
      "2                 Rating        1.803\n",
      "3                  Cards       18.373\n",
      "4                    Age       -0.382\n",
      "5              Education        0.984\n",
      "6           Gender__Male      -13.514\n",
      "7           Student__Yes      451.436\n",
      "8           Married__Yes      -10.541\n",
      "9       Ethnicity__Asian       20.025\n",
      "10  Ethnicity__Caucasian       28.396\n"
     ]
    }
   ],
   "source": [
    "# Coeficient and coresponding predictors\n",
    "coef = np.round(reg.coef_, 3)\n",
    "x_cols = x.columns.values\n",
    "\n",
    "print(pd.DataFrame(data={'Feature': x_cols,\n",
    "                         'Coefficient':coef}))"
   ],
   "id": "d8b40344fea2bb05"
  },
  {
   "cell_type": "markdown",
   "metadata": {},
   "source": [
    "### Regularization Methods Example 2.6\n",
    "We now ask whether the lasso can yield either a more accurate or a more interpretable model than ridge regression."
   ],
   "id": "1705c405048eb017"
  },
  {
   "cell_type": "code",
   "metadata": {
    "ExecuteTime": {
     "end_time": "2025-10-23T08:34:56.504764Z",
     "start_time": "2025-10-23T08:34:56.387Z"
    }
   },
   "source": [
    "from sklearn.linear_model import LassoCV\n",
    "\n",
    "lambda_ = np.exp(np.linspace(-2, 4, n))\n",
    "\n",
    "# Fit model:\n",
    "reg = LassoCV(alphas=lambda_) #, normalize=True)\n",
    "reg = reg.fit(x_train, y_train)\n",
    "\n",
    "# Plot\n",
    "fig = plt.figure(figsize=(10, 5))\n",
    "ax = fig.add_subplot(1, 1, 1)\n",
    "ax.plot(np.log(reg.alphas_), np.mean(reg.mse_path_, axis=1))\n",
    "plt.xlabel(\"log Lambda\")\n",
    "plt.ylabel(\"MSE\")\n",
    "plt.show()"
   ],
   "id": "f7730742b6f3d2e4",
   "outputs": [
    {
     "data": {
      "text/plain": [
       "<Figure size 1000x500 with 1 Axes>"
      ],
      "image/png": "[encoded data removed]"
     },
     "metadata": {},
     "output_type": "display_data",
     "jetTransient": {
      "display_id": null
     }
    }
   ],
   "execution_count": 10
  },
  {
   "cell_type": "markdown",
   "metadata": {},
   "source": [
    "We can see from the coefficient plot that depending on the choice of tuning parameter, some of the coefficients will be exactly equal to zero. We now compute the associated test error."
   ],
   "id": "b59aa7e940ef3793"
  },
  {
   "cell_type": "code",
   "metadata": {
    "ExecuteTime": {
     "end_time": "2025-10-23T08:35:19.263797Z",
     "start_time": "2025-10-23T08:35:19.259258Z"
    }
   },
   "source": [
    "# Predict and calculate MSE on test-set\n",
    "y_pred = reg.predict(x_test)\n",
    "MSE = np.mean((y_pred - y_test)**2)\n",
    "print(\"Best Lambda:\", np.round(reg.alpha_, 3), \"\\nMSE:\", np.round(MSE, 1))"
   ],
   "id": "1cf8b97450c2f4b6",
   "outputs": [
    {
     "name": "stdout",
     "output_type": "stream",
     "text": [
      "Best Lambda: 2.336 \n",
      "MSE: 9970.9\n"
     ]
    }
   ],
   "execution_count": 11
  },
  {
   "cell_type": "markdown",
   "metadata": {},
   "source": [
    "This is substantially lower than the test set MSE of the null model, the test MSE of ridge regression with $\\lambda$ chosen by cross-validation, and very similar to least squares. Finally, we will have a look at the corresponding coefficients."
   ],
   "id": "cc85e841fd13ec06"
  },
  {
   "cell_type": "code",
   "metadata": {
    "ExecuteTime": {
     "end_time": "2025-10-23T08:35:27.380950Z",
     "start_time": "2025-10-23T08:35:27.376641Z"
    }
   },
   "source": [
    "# Coeficient and coresponding predictors\n",
    "coef = np.round(reg.coef_,  3)\n",
    "x_cols = x.columns.values\n",
    "\n",
    "print(pd.DataFrame(data={'Feature': x_cols,\n",
    "                         'Coefficient':coef}))"
   ],
   "id": "7b4748fda94f0687",
   "outputs": [
    {
     "name": "stdout",
     "output_type": "stream",
     "text": [
      "                 Feature  Coefficient\n",
      "0                 Income       -7.672\n",
      "1                  Limit        0.165\n",
      "2                 Rating        1.468\n",
      "3                  Cards       17.940\n",
      "4                    Age       -0.365\n",
      "5              Education        0.696\n",
      "6           Gender__Male       -0.310\n",
      "7           Student__Yes      417.889\n",
      "8           Married__Yes       -0.269\n",
      "9       Ethnicity__Asian        0.000\n",
      "10  Ethnicity__Caucasian        4.032\n"
     ]
    }
   ],
   "execution_count": 12
  },
  {
   "cell_type": "markdown",
   "metadata": {},
   "source": [
    "In this example, all coefficients are different from zero."
   ],
   "id": "de14b6c5ea808831"
  }
 ],
 "metadata": {
  "kernelspec": {
   "display_name": "Python 3",
   "language": "python",
   "name": "python3"
  },
  "language_info": {
   "codemirror_mode": {
    "name": "ipython",
    "version": 3
   },
   "file_extension": ".py",
   "mimetype": "text/x-python",
   "name": "python",
   "nbconvert_exporter": "python",
   "pygments_lexer": "ipython3",
   "version": "3.7.6"
  },
  "widgets": {
   "application/vnd.jupyter.widget-state+json": {
    "state": {},
    "version_major": 2,
    "version_minor": 0
   }
  }
 },
 "nbformat": 4,
 "nbformat_minor": 5
}
