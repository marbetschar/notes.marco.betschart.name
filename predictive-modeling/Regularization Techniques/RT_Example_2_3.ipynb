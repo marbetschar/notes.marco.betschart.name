{
 "cells": [
  {
   "cell_type": "markdown",
   "metadata": {},
   "source": [
    "## Regularization Methods Example 2.3:\n",
    "In order to fit a lasso model, we use the **sklearn.linear\\_model.Lasso()** function, which behaves very similar to the **Ridge()** function. "
   ],
   "id": "392b93a8647d101c"
  },
  {
   "cell_type": "code",
   "metadata": {
    "ExecuteTime": {
     "end_time": "2025-10-23T07:44:28.509771Z",
     "start_time": "2025-10-23T07:44:27.755004Z"
    }
   },
   "source": [
    "import pandas as pd\n",
    "import numpy as np\n",
    "from sklearn.linear_model import Lasso\n",
    "import warnings\n",
    "warnings.filterwarnings(\"ignore\")\n",
    "\n",
    "# Load data\n",
    "df = pd.read_csv('./data/Credit.csv', index_col=\"Unnamed: 0\")\n",
    "\n",
    "# Convert Categorical variables\n",
    "df = pd.get_dummies(data=df, drop_first=True, \n",
    "                    prefix=('Gender_', 'Student_', \n",
    "                            'Married_', 'Ethnicity_'))\n",
    "\n",
    "# Define target and predictors\n",
    "x = df.drop(columns='Balance') \n",
    "y = df['Balance']\n",
    "\n",
    "# Fit model:\n",
    "lambda_ = 5\n",
    "reg = Lasso(alpha=lambda_) #, normalize=True)\n",
    "reg = reg.fit(x, y)\n",
    "\n",
    "# Coefficient and corresponding predictors\n",
    "coef = np.round(reg.coef_, 3)\n",
    "x_cols = x.columns.values"
   ],
   "id": "8d32674e5d6ac7ab",
   "outputs": [],
   "execution_count": 1
  },
  {
   "cell_type": "markdown",
   "metadata": {},
   "source": [
    "We expect the coefficient estimates to be much smaller, in terms of $\\ell_2$ norm, when a large value of $\\lambda$ is used, as compared to when a small value of $\\lambda$ is used. These are the coefficients when $\\lambda = 5$, along with their $\\ell_2$ norm:"
   ],
   "id": "ac61f30f518ec71a"
  },
  {
   "cell_type": "code",
   "metadata": {
    "ExecuteTime": {
     "end_time": "2025-10-23T07:44:32.995834Z",
     "start_time": "2025-10-23T07:44:32.992547Z"
    }
   },
   "source": [
    "print(pd.DataFrame(data={'Feature': x_cols,\n",
    "                         'Coefficient':coef}),\n",
    "      '\\n\\nl2-norm:', np.sqrt(np.sum(coef**2)))"
   ],
   "id": "588a0c690b5c081c",
   "outputs": [
    {
     "name": "stdout",
     "output_type": "stream",
     "text": [
      "                 Feature  Coefficient\n",
      "0                 Income       -7.771\n",
      "1                  Limit        0.174\n",
      "2                 Rating        1.380\n",
      "3                  Cards       13.813\n",
      "4                    Age       -0.633\n",
      "5              Education       -0.248\n",
      "6           Gender__Male        0.000\n",
      "7           Student__Yes      369.040\n",
      "8           Married__Yes       -0.000\n",
      "9       Ethnicity__Asian        0.000\n",
      "10  Ethnicity__Caucasian       -0.000 \n",
      "\n",
      "l2-norm: 369.3834131075731\n"
     ]
    }
   ],
   "execution_count": 2
  },
  {
   "cell_type": "markdown",
   "metadata": {},
   "source": [
    "In contrast, here are the coefficients when $\\lambda = 0.5$, along with their $\\ell_2$ norm. Note the much higher $\\ell_2$ norm of the coefficients associated with this lower value of $\\lambda$."
   ],
   "id": "b11950b4ab7093"
  },
  {
   "cell_type": "code",
   "metadata": {
    "ExecuteTime": {
     "end_time": "2025-10-23T07:44:38.097482Z",
     "start_time": "2025-10-23T07:44:38.090650Z"
    }
   },
   "source": [
    "# Fit model:\n",
    "lambda_ = 0.5\n",
    "reg = Lasso(alpha=lambda_) #, normalize=True)\n",
    "reg = reg.fit(x, y)\n",
    "\n",
    "# Coefficient and corresponding predictors\n",
    "coef = np.round(reg.coef_, 3)\n",
    "x_cols = x.columns.values\n",
    "\n",
    "print(pd.DataFrame(data={'Feature': x_cols,\n",
    "                         'Coefficient':coef}),\n",
    "      '\\n\\nl2-norm:', np.sqrt(np.sum(coef**2)))"
   ],
   "id": "16873d502a01555e",
   "outputs": [
    {
     "name": "stdout",
     "output_type": "stream",
     "text": [
      "                 Feature  Coefficient\n",
      "0                 Income       -7.801\n",
      "1                  Limit        0.191\n",
      "2                 Rating        1.135\n",
      "3                  Cards       17.475\n",
      "4                    Age       -0.619\n",
      "5              Education       -1.039\n",
      "6           Gender__Male        8.417\n",
      "7           Student__Yes      420.253\n",
      "8           Married__Yes       -6.179\n",
      "9       Ethnicity__Asian       10.455\n",
      "10  Ethnicity__Caucasian        4.735 \n",
      "\n",
      "l2-norm: 420.9778566658821\n"
     ]
    }
   ],
   "execution_count": 3
  },
  {
   "cell_type": "markdown",
   "metadata": {},
   "source": [
    "As we can observe, several coefficients have become zero. The larger the value of $\\lambda$ the more coefficients become zero. Variable selection thus is generically implemented in the lasso."
   ],
   "id": "fc3cfc340b8e11c"
  },
  {
   "cell_type": "markdown",
   "metadata": {},
   "source": [
    "### Figure"
   ],
   "id": "594c10908c55aff7"
  },
  {
   "cell_type": "code",
   "metadata": {
    "ExecuteTime": {
     "end_time": "2025-10-23T07:44:45.500329Z",
     "start_time": "2025-10-23T07:44:45.075506Z"
    }
   },
   "source": [
    "import matplotlib.pyplot as plt\n",
    "\n",
    "# Model for different lambda\n",
    "n = 100\n",
    "lambda_ = np.exp(np.linspace(-5, 5, n))\n",
    "\n",
    "params = pd.DataFrame(columns=x.columns)\n",
    "for i in range(n):\n",
    "    reg = Lasso(alpha=lambda_[i]) #, normalize=True)\n",
    "    reg = reg.fit(x, y)\n",
    "    params.loc[np.log(lambda_[i]), :] = reg.coef_\n",
    "    \n",
    "# Plot\n",
    "fig = plt.figure(figsize=(8, 5))\n",
    "ax = fig.add_subplot(1, 1, 1)\n",
    "params.plot(ax=ax)\n",
    "plt.xlabel(\"log Lambda\")\n",
    "plt.ylabel(\"Coefficient\")\n",
    "plt.legend()\n",
    "plt.show()"
   ],
   "id": "575bc02e3da23801",
   "outputs": [
    {
     "data": {
      "text/plain": [
       "<Figure size 800x500 with 1 Axes>"
      ],
      "image/png": "[encoded data removed]"
     },
     "metadata": {},
     "output_type": "display_data",
     "jetTransient": {
      "display_id": null
     }
    }
   ],
   "execution_count": 4
  },
  {
   "cell_type": "code",
   "execution_count": null,
   "metadata": {},
   "outputs": [],
   "source": [],
   "id": "65c519d87f43dc70"
  }
 ],
 "metadata": {
  "kernelspec": {
   "display_name": "Python 3",
   "language": "python",
   "name": "python3"
  },
  "language_info": {
   "codemirror_mode": {
    "name": "ipython",
    "version": 3
   },
   "file_extension": ".py",
   "mimetype": "text/x-python",
   "name": "python",
   "nbconvert_exporter": "python",
   "pygments_lexer": "ipython3",
   "version": "3.7.6"
  },
  "widgets": {
   "application/vnd.jupyter.widget-state+json": {
    "state": {},
    "version_major": 2,
    "version_minor": 0
   }
  }
 },
 "nbformat": 4,
 "nbformat_minor": 5
}
