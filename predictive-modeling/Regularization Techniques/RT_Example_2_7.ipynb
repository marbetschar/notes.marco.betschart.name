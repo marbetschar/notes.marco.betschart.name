{
 "cells": [
  {
   "cell_type": "markdown",
   "metadata": {},
   "source": [
    "### Regularization Methods Example 2.7\n",
    "Finally, we will discuss the **Advertising** data set."
   ],
   "id": "b0efe2170f429480"
  },
  {
   "cell_type": "code",
   "metadata": {
    "ExecuteTime": {
     "end_time": "2025-10-23T08:33:40.775814Z",
     "start_time": "2025-10-23T08:33:40.032284Z"
    }
   },
   "source": [
    "import pandas as pd\n",
    "import numpy as np\n",
    "from sklearn.linear_model import LassoCV\n",
    "from sklearn.model_selection import train_test_split\n",
    "import warnings\n",
    "warnings.filterwarnings(\"ignore\")\n",
    "\n",
    "# Load data\n",
    "df = pd.read_csv('./data/Advertising.csv', index_col=\"Unnamed: 0\")\n",
    "\n",
    "# Define target and predictors\n",
    "x = df.drop(columns='sales') \n",
    "y = df['sales']\n",
    "\n",
    "# Split in test and train set\n",
    "np.random.seed(3)\n",
    "x_train, x_test, y_train, y_test = train_test_split(x, y, \n",
    "                                                    test_size=0.5)\n",
    "\n",
    "# Fit model:\n",
    "clf = LassoCV() # normalize=True)\n",
    "clf = clf.fit(x_train, y_train)\n",
    "\n",
    "# Predict and calculate MSE on test-set\n",
    "y_pred = clf.predict(x_test)\n",
    "MSE = np.mean((y_pred - y_test)**2)\n",
    "print(\"Best Lambda:\", np.round(clf.alpha_, 3), \"\\nMSE:\", np.round(MSE, 1))\n",
    "\n",
    "# Coeficient and coresponding predictors\n",
    "coef = np.round(clf.coef_,  3)\n",
    "x_cols = x.columns.values\n",
    "\n",
    "print(pd.DataFrame(data={'Feature': x_cols,\n",
    "                         'Coefficient':coef}))"
   ],
   "id": "187225b9cf50489f",
   "outputs": [
    {
     "name": "stdout",
     "output_type": "stream",
     "text": [
      "Best Lambda: 1.923 \n",
      "MSE: 3.5\n",
      "     Feature  Coefficient\n",
      "0         TV        0.042\n",
      "1      radio        0.182\n",
      "2  newspaper       -0.000\n"
     ]
    }
   ],
   "execution_count": 1
  },
  {
   "cell_type": "markdown",
   "metadata": {},
   "source": [
    "In this case, the lasso automatically omits the predictor variable **newspaper**."
   ],
   "id": "d5a7011b6936877f"
  },
  {
   "cell_type": "code",
   "execution_count": null,
   "metadata": {},
   "outputs": [],
   "source": [],
   "id": "d35a890558f72d26"
  }
 ],
 "metadata": {
  "kernelspec": {
   "display_name": "Python 3",
   "language": "python",
   "name": "python3"
  },
  "language_info": {
   "codemirror_mode": {
    "name": "ipython",
    "version": 3
   },
   "file_extension": ".py",
   "mimetype": "text/x-python",
   "name": "python",
   "nbconvert_exporter": "python",
   "pygments_lexer": "ipython3",
   "version": "3.7.6"
  },
  "widgets": {
   "application/vnd.jupyter.widget-state+json": {
    "state": {},
    "version_major": 2,
    "version_minor": 0
   }
  }
 },
 "nbformat": 4,
 "nbformat_minor": 5
}
