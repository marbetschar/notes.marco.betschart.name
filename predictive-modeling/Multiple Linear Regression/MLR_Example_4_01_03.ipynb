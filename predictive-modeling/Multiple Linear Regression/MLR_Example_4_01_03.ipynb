{
 "cells": [
  {
   "cell_type": "markdown",
   "metadata": {},
   "source": [
    "### Example Multiple Linear Regression 4.1"
   ]
  },
  {
   "cell_type": "markdown",
   "metadata": {},
   "source": [
    "For the **Advertising** data we had the following multiple linear regression model\n",
    "\\begin{equation}\n",
    "sales\n",
    "=\\beta_{0}+\\beta_{1}\\cdot TV+\\beta_{2}\\cdot radio +\\beta_{3}\\cdot newspaper + \\epsilon\n",
    "\\end{equation}\n",
    "For instance, as we discussed earlier, the p-values associated with this model indicate that **TV** and \n",
    "**radio** are related to **sales**, but that there is no evidence that \n",
    "**newspaper** is associated with **sales**, in the presence of these two.\n",
    "\n",
    "We now compare the **large** model $ \\mathcal{M}_{2} $ \n",
    "defined by the equation above with the **small** model \n",
    "$ \\mathcal{M}_{1} $ (without **newspaper**)\n",
    "\\begin{equation*}\n",
    "sales\n",
    "=\\beta_{0}+\\beta_{1}\\cdot TV+\\beta_{2}\\cdot radio + \\epsilon\n",
    "\\end{equation*} \n",
    "\n",
    "We use the **anova\\_lm()** method function, which performs an *analysis of variance* (ANOVA, using an F-test) in order to test the null hypothesis that the small model $ \\mathcal{M}_{1} $ is sufficient to explain the data against the alternative hypothesis that the (more complex) model $ \\mathcal{M}_{2} $ is required. In order to use the **anova()** function, $ \\mathcal{M}_{1} $ and $ \\mathcal{M}_{2} $ must be *nested* models: the predictors in $ \\mathcal{M}_{1} $ must be a subset of the predictors in $ \\mathcal{M}_{2} $.  This corresponds to the null hypothesis $ \\beta_{3}=0 $, that is, that there is no relationship between **newspaper** and **sales**.\n",
    "\n",
    "\n",
    "The **Python**-output provides us with the information that the residual sum of squares (**RSS**) in the **small** model is given by\n",
    "\\begin{equation*}\n",
    "\\text{RSS}_{0}= 556.91\\\\\n",
    "\\end{equation*}\n",
    "\n",
    "whereas the residual sum of squares for the **large** model $ \\mathcal{M}_{2} $ \n",
    "is\n",
    "\\begin{equation*}\n",
    "\\text{RSS}= 556.83\n",
    "\\end{equation*}\n"
   ]
  },
  {
   "cell_type": "code",
   "execution_count": 2,
   "metadata": {},
   "outputs": [
    {
     "name": "stdout",
     "output_type": "stream",
     "text": [
      "   df_resid         ssr  df_diff   ss_diff         F    Pr(>F)\n",
      "0     197.0  556.913980      0.0       NaN       NaN       NaN\n",
      "1     196.0  556.825263      1.0  0.088717  0.031228  0.859915\n"
     ]
    }
   ],
   "source": [
    "import pandas as pd\n",
    "import statsmodels.api as sm\n",
    "\n",
    "# Load data\n",
    "df = pd.read_csv('./data/Advertising.csv')\n",
    "x1 = df[['TV', 'radio']]\n",
    "x2 = df[['TV', 'radio', 'newspaper']]\n",
    "y = df['sales']\n",
    "\n",
    "# Fit model\n",
    "x1_sm = sm.add_constant(x1)\n",
    "x2_sm = sm.add_constant(x2)\n",
    "model1 = sm.OLS(y, x1_sm).fit()\n",
    "model2 = sm.OLS(y, x2_sm).fit()\n",
    "\n",
    "# Table and print results\n",
    "table = sm.stats.anova_lm(model1, model2)\n",
    "print(table)"
   ]
  },
  {
   "cell_type": "markdown",
   "metadata": {},
   "source": [
    "The difference between $\\text{RSS}$ and $\\text{RSS}_{0}$ can be found in the **Python**-output under **ss\\_diff**  and is  $0.088717$. The value of $q$ is displayed under $Df$ and is given here by $1$. For the **large** model, we have\n",
    "\\begin{equation*}\n",
    "n-p-1=200-3-1=196\n",
    "\\end{equation*}\n",
    "degrees of freedom (**df\\_resid**), contrary to the **small** model that has \n",
    "\\begin{equation*}\n",
    "n-p-1=200-2-1=197\n",
    "\\end{equation*}\n",
    "degrees of freedom. Thus, the value of the F-statistic is (**F**)\n",
    "\\begin{align*}\n",
    "F\n",
    "&=\\dfrac{(\\text{RSS}_{0}-\\text{RSS})/q}{\\text{RSS}/(n-p-1)}\\\\\n",
    "&=\\frac{(556.91-556.83)/1}{556.83/(200-3-1)}\\\\\n",
    "&=\\frac{0.088717}{556.83/196}\\\\\n",
    "&=0.0312\n",
    "\\end{align*}\n",
    "\n",
    "The one-sided p-value in upwards direction for the $ F $-statistic assuming the null hypothesis is true, that is $\\beta_3=0$, is displayed in the **Python**-output under **Pr($>$F)** : 0.8599. \n",
    "\n",
    "Since this p-value is significantly larger than the significance level $\\alpha=0.05$, there is no evidence to reject the null hypothesis. We conclude that the predictor  **newspaper** is redundant, and we therefore can omit it. "
   ]
  },
  {
   "cell_type": "markdown",
   "metadata": {},
   "source": [
    "### Example Multiple Linear Regression 4.3"
   ]
  },
  {
   "cell_type": "markdown",
   "metadata": {},
   "source": [
    "If we compare the **large** model $\\mathcal{M}_{2}$ with the **small** model (**TV** is omitted) $ \\mathcal{M}_{1} $\n",
    "\\begin{equation*}\n",
    "sales\n",
    "=\\beta_{0}+\\beta_{1}\\cdot radio +\\beta_{2}\\cdot newspaper+\\epsilon\n",
    "\\end{equation*}\n",
    "then we come to a very different conclusion:\n"
   ]
  },
  {
   "cell_type": "code",
   "execution_count": 3,
   "metadata": {},
   "outputs": [
    {
     "name": "stdout",
     "output_type": "stream",
     "text": [
      "   df_resid          ssr  df_diff      ss_diff            F        Pr(>F)\n",
      "0     197.0  3614.835279      0.0          NaN          NaN           NaN\n",
      "1     196.0   556.825263      1.0  3058.010016  1076.405837  1.509960e-81\n"
     ]
    }
   ],
   "source": [
    "# Load data\n",
    "x3 = df[['radio', 'newspaper']]\n",
    "\n",
    "# Fit model\n",
    "x3_sm = sm.add_constant(x3)\n",
    "model3  = sm.OLS(y, x3_sm).fit()\n",
    "\n",
    "# Table and print results\n",
    "table = sm.stats.anova_lm(model3, model2)\n",
    "print(table)\n"
   ]
  },
  {
   "cell_type": "markdown",
   "metadata": {},
   "source": [
    "In this case the p-value is approximately zero, hence we have to reject the null hypothesis $ \\beta_{1}=0 $. There is a significant difference in how well the two models $ \\mathcal{M}_{1} $ and $ \\mathcal{M}_{2} $ fit the data. Omitting **TV** leads to a model that shows a significant deterioration with respect to the quality of the model.\n",
    " \n",
    "In order to get an \"overview\" about how the quality of a model changes when one predictor variable is omitted, we can use the **anova\\_lm()** method on the one model only. However, this only works, when the model is defined using a formula instead of columns of data.    "
   ]
  },
  {
   "cell_type": "code",
   "execution_count": 4,
   "metadata": {},
   "outputs": [
    {
     "name": "stdout",
     "output_type": "stream",
     "text": [
      "                sum_sq     df            F        PR(>F)\n",
      "TV         3058.010016    1.0  1076.405837  1.509960e-81\n",
      "radio      1361.736549    1.0   479.325170  1.505339e-54\n",
      "newspaper     0.088717    1.0     0.031228  8.599151e-01\n",
      "Residual    556.825263  196.0          NaN           NaN\n"
     ]
    }
   ],
   "source": [
    "import statsmodels.formula.api as smf\n",
    "\n",
    "# Load data\n",
    "TV = df[['TV']]\n",
    "radio = df[['radio']]\n",
    "newspaper = df[['newspaper']]\n",
    "sales = df['sales']\n",
    "\n",
    "# Fit model using formula:\n",
    "model_f = smf.ols(formula='sales ~ TV + radio + newspaper', data=df).fit()\n",
    "\n",
    "# Table and print results\n",
    "table_f = sm.stats.anova_lm(model_f, typ=2)\n",
    "print(table_f)"
   ]
  },
  {
   "cell_type": "code",
   "execution_count": null,
   "metadata": {},
   "outputs": [],
   "source": []
  }
 ],
 "metadata": {
  "kernelspec": {
   "display_name": "Python 3",
   "language": "python",
   "name": "python3"
  },
  "language_info": {
   "codemirror_mode": {
    "name": "ipython",
    "version": 3
   },
   "file_extension": ".py",
   "mimetype": "text/x-python",
   "name": "python",
   "nbconvert_exporter": "python",
   "pygments_lexer": "ipython3",
   "version": "3.7.6"
  }
 },
 "nbformat": 4,
 "nbformat_minor": 4
}
