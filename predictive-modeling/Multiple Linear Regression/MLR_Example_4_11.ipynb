{
 "cells": [
  {
   "cell_type": "markdown",
   "metadata": {},
   "source": [
    "### Example Multiple Linear Regression 4.11\n",
    "We now return to the **Advertising** example. A linear model that uses **radio**, **TV**, and an interaction between the two to predict **sales** takes the form\n",
    "\\begin{align*}\n",
    "\\text{ sales }\n",
    "&=\\beta_{0}+\\beta_{1}\\cdot\\text{ TV }+\\beta_{2}\\cdot\\text{ radio }+\\beta_{3}\\cdot(\\text{ TV }\\cdot\\text{ radio })+\\epsilon\\\\\n",
    "&=\\beta_{0}+(\\beta_{1}+\\beta_{3}\\cdot\\text{ radio })\\cdot\\text{ TV }+\\beta_{2}\\cdot\\text{ radio }+\\epsilon\n",
    "\\end{align*}\n",
    "We can interpret $ \\beta_{3} $ as the increase in the effectiveness of **TV** advertising for a one unit increase in **radio** advertising (or vice-versa). The coefficients that result from fitting this model can be found in the following **Python**-output:"
   ]
  },
  {
   "cell_type": "code",
   "execution_count": 1,
   "metadata": {},
   "outputs": [
    {
     "name": "stdout",
     "output_type": "stream",
     "text": [
      "                            OLS Regression Results                            \n",
      "==============================================================================\n",
      "Dep. Variable:                  sales   R-squared:                       0.968\n",
      "Model:                            OLS   Adj. R-squared:                  0.967\n",
      "Method:                 Least Squares   F-statistic:                     1963.\n",
      "Date:                Fri, 11 Mar 2022   Prob (F-statistic):          6.68e-146\n",
      "Time:                        18:27:43   Log-Likelihood:                -270.14\n",
      "No. Observations:                 200   AIC:                             548.3\n",
      "Df Residuals:                     196   BIC:                             561.5\n",
      "Df Model:                           3                                         \n",
      "Covariance Type:            nonrobust                                         \n",
      "==============================================================================\n",
      "                 coef    std err          t      P>|t|      [0.025      0.975]\n",
      "------------------------------------------------------------------------------\n",
      "const          6.7502      0.248     27.233      0.000       6.261       7.239\n",
      "TV             0.0191      0.002     12.699      0.000       0.016       0.022\n",
      "radio          0.0289      0.009      3.241      0.001       0.011       0.046\n",
      "TV*radio       0.0011   5.24e-05     20.727      0.000       0.001       0.001\n",
      "==============================================================================\n",
      "Omnibus:                      128.132   Durbin-Watson:                   2.224\n",
      "Prob(Omnibus):                  0.000   Jarque-Bera (JB):             1183.719\n",
      "Skew:                          -2.323   Prob(JB):                    9.09e-258\n",
      "Kurtosis:                      13.975   Cond. No.                     1.80e+04\n",
      "==============================================================================\n",
      "\n",
      "Notes:\n",
      "[1] Standard Errors assume that the covariance matrix of the errors is correctly specified.\n",
      "[2] The condition number is large, 1.8e+04. This might indicate that there are\n",
      "strong multicollinearity or other numerical problems.\n"
     ]
    }
   ],
   "source": [
    "import pandas as pd\n",
    "import statsmodels.api as sm\n",
    "\n",
    "# Load data\n",
    "df = pd.read_csv('./data/Advertising.csv')\n",
    "\n",
    "# Define the linear model:\n",
    "x = pd.DataFrame({\n",
    "    'TV' : df['TV'],\n",
    "    'radio' : df['radio'],\n",
    "    'TV*radio' : df['TV'] * df['radio']})\n",
    "y = df['sales']\n",
    "\n",
    "# Fit model\n",
    "x_sm = sm.add_constant(x)\n",
    "model =sm.OLS(y, x_sm).fit()\n",
    "\n",
    "# Print summary:\n",
    "print(model.summary())"
   ]
  },
  {
   "cell_type": "markdown",
   "metadata": {},
   "source": [
    "The results strongly suggest that the model that includes the interaction term is superior to the model that contains only *main effects*. The p-value for the interaction term, $ \\text{TV}\\cdot\\text{radio} $, is extremely low, indicating that there is a strong evidence for $ H_{A}:\\;\\beta_{3}\\neq 0 $. In other words it is clear, that the true relationship is not additive. \n",
    "\n",
    "The $ R^{2} $ for the model, that includes in addition to the predictors **TV** and **radio** as well the interaction term $\\text{TV}\\cdot\\text{radio}$, is $0.968$; compared to only \n",
    "$0.897$ for the model that predicts **sales** using **TV** and **radio** without an interaction term. This means, that\n",
    "\\begin{equation*}\n",
    "\\dfrac{0.968-0.897}{1-0.897}\n",
    "=0.69\n",
    "=69\\%\n",
    "\\end{equation*} \n",
    "of the variability in **sales** that remains after fitting the additive model has been explained by the interaction term. \n",
    "**Python**-output suggest that an increase in **TV** advertising of CHF 1000 is associated with increased\n",
    "**sales** of \n",
    "\\begin{equation*}\n",
    "(\\hat{\\beta}_{1}+\\hat{\\beta}_{3}\\cdot\\text{radio})\\cdot 1.000\n",
    "=19+1.1\\cdot\\text{radio}\n",
    "\\end{equation*}\n",
    "units. And an increase in **radio** advertising of CHF 1000 will \n",
    "be associated with an increase in **sales** of \n",
    "\\begin{equation*}\n",
    "(\\hat{\\beta}_{2}+\\hat{\\beta}_{3}\\cdot\\text{TV})\\cdot 1.000\n",
    "=29+1.1\\cdot\\text{TV}\n",
    "\\end{equation*}\n",
    "units."
   ]
  }
 ],
 "metadata": {
  "kernelspec": {
   "display_name": "Python 3",
   "language": "python",
   "name": "python3"
  },
  "language_info": {
   "codemirror_mode": {
    "name": "ipython",
    "version": 3
   },
   "file_extension": ".py",
   "mimetype": "text/x-python",
   "name": "python",
   "nbconvert_exporter": "python",
   "pygments_lexer": "ipython3",
   "version": "3.7.6"
  }
 },
 "nbformat": 4,
 "nbformat_minor": 4
}
