{
 "cells": [
  {
   "cell_type": "markdown",
   "metadata": {},
   "source": [
    "### Example Multiple Linear Regression 3.5"
   ]
  },
  {
   "cell_type": "markdown",
   "metadata": {},
   "source": [
    "We use a *confidence interval* to quantify the uncertainty surrounding the *average* **sales** over a large number of cities. We restrict ourselves to the regression of **sales** on **TV** and **radio** since **newspaper** can be neglected as followed from the previous discussion. \n",
    "\n",
    "For example, given that CHF 100000 is spent on **TV** advertising and CHF 20000 is spent on **radio** advertising in each city, the $95\\%$ confidence interval is \n",
    "\\begin{equation*}\n",
    "[10'985,11'528]\n",
    "\\end{equation*}"
   ]
  },
  {
   "cell_type": "code",
   "execution_count": 2,
   "metadata": {},
   "outputs": [
    {
     "name": "stdout",
     "output_type": "stream",
     "text": [
      "        mean   mean_se  mean_ci_lower  mean_ci_upper  obs_ci_lower  \\\n",
      "0  11.256466  0.137526      10.985254      11.527677      7.929616   \n",
      "\n",
      "   obs_ci_upper  \n",
      "0     14.583316  \n"
     ]
    }
   ],
   "source": [
    "import pandas as pd\n",
    "import statsmodels.api as sm\n",
    "\n",
    "# Load data\n",
    "df = pd.read_csv('./data/Advertising.csv')\n",
    "x = df[['TV', 'radio']]\n",
    "y = df['sales']\n",
    "\n",
    "# Fit Model:\n",
    "x_sm = sm.add_constant(x)\n",
    "model = sm.OLS(y, x_sm).fit()\n",
    "\n",
    "# Get prediction and confidence interval at x = [100, 20]\n",
    "x0 = [[100, 20]]\n",
    "x0 = sm.add_constant(x0, has_constant='add')\n",
    "\n",
    "predictionsx0 = model.get_prediction(x0)\n",
    "predictionsx0 = predictionsx0.summary_frame(alpha=0.05)\n",
    "\n",
    "# Print the results. mean_ci_ corresponds to the confidence interval\n",
    "# whereas obs_ci corresponds to the prediction interval\n",
    "print(predictionsx0)\n"
   ]
  },
  {
   "cell_type": "markdown",
   "metadata": {},
   "source": [
    "We interpret this to mean that $95\\%$ of intervals of this form will contain the true value of $ f(X_{1},X_{2}) $ . In other words, if we collect a large number of data sets like the **Advertising** data set, and we construct a confidence interval for the average **sales** on the basis of each data set - given CHF 100000 in **TV** and CHF 20000 in **radio** advertising - then $95\\%$ of these confidence intervals will contain the true value of average **sales**. \n",
    "\n",
    "On the other hand, a *prediction interval* can be used to quantify the uncertainty surrounding **sales** for a *particular* city. Given that CHF 100000 is spent on **TV** and CHF 20000 is spent on **radio** advertising in that city the $95\\%$ *prediction interval* is\n",
    "\n",
    "\\begin{equation*}\n",
    "[7'930,14'583]\n",
    "\\end{equation*}"
   ]
  },
  {
   "cell_type": "markdown",
   "metadata": {},
   "source": [
    "We interpret this to mean that $95\\%$ of intervals of this form will contain the true value of $ Y $ for this city. \n",
    "\n",
    "Note that both intervals are centered at 11256, but that the prediction interval is substantially wider than the confidence interval, reflecting the increased uncertainty about **sales** for a given city in comparison to the average **sales** over many locations.\n",
    "\n"
   ]
  }
 ],
 "metadata": {
  "kernelspec": {
   "display_name": "Python 3",
   "language": "python",
   "name": "python3"
  },
  "language_info": {
   "codemirror_mode": {
    "name": "ipython",
    "version": 3
   },
   "file_extension": ".py",
   "mimetype": "text/x-python",
   "name": "python",
   "nbconvert_exporter": "python",
   "pygments_lexer": "ipython3",
   "version": "3.7.6"
  }
 },
 "nbformat": 4,
 "nbformat_minor": 4
}
