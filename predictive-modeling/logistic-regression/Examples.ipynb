{
 "cells": [
  {
   "cell_type": "markdown",
   "id": "7d9a174a-c080-4f23-8e8c-84f56a34d49e",
   "metadata": {},
   "source": [
    "# Logistic Regression Examples"
   ]
  },
  {
   "cell_type": "markdown",
   "id": "66a451d4",
   "metadata": {},
   "source": [
    "### Example 1.1\n",
    "The approach results in a model for $P(default=Yes \\,|\\, balance )$ as depicted(blue line). The probability  \n",
    "\n",
    "\\begin{equation}\n",
    "P( default=Yes | balance ) = p(Y = 1|X)\n",
    "\\end{equation}\n",
    "is plotted against the monthly credit card bill (**balance**) $X$. The probabilities of the observed values are given by \n",
    "the $0/1$-Coding of the **default** variable: if **default=Yes** we have $p(X)=1$ (green dots) and in case **default=No** we have $p(X)=0$ (red dots).\n"
   ]
  },
  {
   "cell_type": "code",
   "execution_count": 1,
   "id": "e0511648",
   "metadata": {},
   "outputs": [],
   "source": [
    "import numpy as np\n",
    "import pandas as pd\n",
    "import matplotlib.pyplot as plt\n",
    "import statsmodels.api as sm\n",
    "\n",
    "# Load data\n",
    "df = pd.read_csv('./data/Default.csv', sep=';')\n",
    "\n",
    "# Add a numerical column for default\n",
    "df = df.join(pd.get_dummies(df['default'], \n",
    "                            prefix='default', \n",
    "                            drop_first=True))\n",
    "\n",
    "# Index of Yes:\n",
    "i_yes = df.loc[df['default_Yes'] == 1, :].index\n",
    "\n",
    "# Random set of No:\n",
    "i_no = df.loc[df['default_Yes'] == 0, :].index\n",
    "i_no = np.random.choice(i_no, replace=False, size=333)\n",
    "\n",
    "# Fit Linear Model, only including the selection of no\n",
    "i_ = np.concatenate((i_no, i_yes))\n",
    "x = df.iloc[i_]['balance']\n",
    "y = df.iloc[i_]['default_Yes']\n",
    "\n",
    "x_sm = sm.add_constant(x)\n",
    "model = sm.OLS(y, x_sm).fit()\n",
    "\n",
    "# Find the predicted values\n",
    "x_pred = x.sort_values()\n",
    "y_pred = model.predict(sm.add_constant(x_pred))"
   ]
  },
  {
   "cell_type": "code",
   "execution_count": 2,
   "id": "8db1e6dc",
   "metadata": {},
   "outputs": [
    {
     "data": {
      "image/png": "[encoded data removed]",
      "text/plain": [
       "<Figure size 504x288 with 1 Axes>"
      ]
     },
     "metadata": {
      "needs_background": "light"
     },
     "output_type": "display_data"
    }
   ],
   "source": [
    "\"\"\" Plot \"\"\"\n",
    "# Create Figure and subplots\n",
    "fig = plt.figure(figsize=(7, 4))\n",
    "ax = fig.add_subplot(111)\n",
    "# Plot datapoints\n",
    "plt.plot(df.iloc[i_yes]['balance'], df.iloc[i_yes]['default_Yes'],\n",
    "         'or', alpha=0.5, label='Default=Yes')\n",
    "plt.plot(df.iloc[i_no]['balance'], df.iloc[i_no]['default_Yes'], \n",
    "         'og', alpha=0.5, label='Default=No')\n",
    "# Plot fit\n",
    "plt.plot(x_pred, y_pred, 'b-', label='Linear Regression')\n",
    "# Labels and limits\n",
    "ax.set_xlabel('Balance')\n",
    "ax.set_ylabel('Probability for Default')\n",
    "ax.set_ylim(-0.1, 1.1)\n",
    "plt.legend()\n",
    "\n",
    "plt.show()               "
   ]
  },
  {
   "cell_type": "code",
   "execution_count": 3,
   "id": "da90bd48",
   "metadata": {},
   "outputs": [
    {
     "data": {
      "image/png": "[encoded data removed]",
      "text/plain": [
       "<Figure size 504x288 with 1 Axes>"
      ]
     },
     "metadata": {
      "needs_background": "light"
     },
     "output_type": "display_data"
    }
   ],
   "source": [
    "# Define t and p\n",
    "t = np.arange(-7, 7, 0.1)\n",
    "p = []\n",
    "for i in range(len(t)):\n",
    "    p.append(np.exp(t[i]) / (1 + np.exp(t[i])))\n",
    "\n",
    "# Plot graph\n",
    "# Create Figure and subplots\n",
    "fig = plt.figure(figsize=(7, 4))\n",
    "ax = fig.add_subplot(111)\n",
    "plt.plot(t, p, 'r-')\n",
    "plt.grid(True)\n",
    "plt.xlabel('t')\n",
    "plt.ylabel('p')\n",
    "plt.show()"
   ]
  },
  {
   "cell_type": "markdown",
   "id": "d7db1d16",
   "metadata": {},
   "source": [
    "Note that the linear function of the model returns negative values for low **balance** and values greater than $1$ for high **balance**. These values are not interpretable as probabilities, since those are bounded between $0$ and $1$. \n",
    "\n",
    "Also note that only a part of the **data** was included. The full data contains many more **default = No** entries, which would result in a much lower probability for default. \n"
   ]
  },
  {
   "cell_type": "markdown",
   "id": "b3c93aa83251fbad",
   "metadata": {},
   "source": [
    "### Example 1.2\n",
    "A simple logistic regression model for the **Default** data is plotted. "
   ]
  },
  {
   "cell_type": "code",
   "execution_count": 7,
   "id": "6b6b50f20a734682",
   "metadata": {
    "ExecuteTime": {
     "end_time": "2025-10-16T07:37:54.398668Z",
     "start_time": "2025-10-16T07:37:54.346661Z"
    }
   },
   "outputs": [],
   "source": [
    "import numpy as np\n",
    "import pandas as pd\n",
    "import matplotlib.pyplot as plt\n",
    "import statsmodels.api as sm\n",
    "\n",
    "# Load data\n",
    "df = pd.read_csv('./data/Default.csv', sep=';')\n",
    "\n",
    "# Add a numerical column for default\n",
    "df = df.join(pd.get_dummies(df['default'], \n",
    "                            prefix='default', \n",
    "                            drop_first=True))\n",
    "\n",
    "# Index of Yes:\n",
    "i_yes = df.loc[df['default_Yes'] == 1, :].index\n",
    "\n",
    "# Random set of No:\n",
    "i_no = df.loc[df['default_Yes'] == 0, :].index\n",
    "i_no = np.random.choice(i_no, replace=False, size=333)\n",
    "\n",
    "# Fit Linear Model, only including the selection of no\n",
    "i_ = np.concatenate((i_no, i_yes))\n",
    "x = df.iloc[i_]['balance']\n",
    "y = df.iloc[i_]['default_Yes']\n",
    "\n",
    "x_sm = sm.add_constant(x)\n",
    "\n",
    "# GLM := Generalized Linear Model\n",
    "model = sm.GLM(y, x_sm, family=sm.families.Binomial())\n",
    "model = model.fit()\n",
    "\n",
    "# Find the predicted values\n",
    "x_pred = x.sort_values()\n",
    "y_pred = model.predict(sm.add_constant(x_pred))"
   ]
  },
  {
   "cell_type": "code",
   "execution_count": 8,
   "id": "dd8b532884264486",
   "metadata": {
    "ExecuteTime": {
     "end_time": "2025-10-16T07:37:54.472360Z",
     "start_time": "2025-10-16T07:37:54.402669Z"
    }
   },
   "outputs": [
    {
     "data": {
      "image/png": "[encoded data removed]",
      "text/plain": [
       "<Figure size 700x400 with 1 Axes>"
      ]
     },
     "jetTransient": {
      "display_id": null
     },
     "metadata": {},
     "output_type": "display_data"
    }
   ],
   "source": [
    "\"\"\" Plot \"\"\"\n",
    "# Create Figure and subplots\n",
    "fig = plt.figure(figsize=(7, 4))\n",
    "ax = fig.add_subplot(111)\n",
    "# Plot datapoints\n",
    "plt.plot(df.iloc[i_yes]['balance'], df.iloc[i_yes]['default_Yes'],\n",
    "         'or', alpha=0.5, label='Default=Yes')\n",
    "plt.plot(df.iloc[i_no]['balance'], df.iloc[i_no]['default_Yes'], \n",
    "         'og', alpha=0.5, label='Default=No')\n",
    "# Plot fit\n",
    "plt.plot(x_pred, y_pred, 'b-', label='Logistic Regression')\n",
    "# Labels and limits\n",
    "ax.set_xlabel('Balance')\n",
    "ax.set_ylabel('Probability for Default')\n",
    "ax.set_ylim(-0.1, 1.1)\n",
    "plt.legend()\n",
    "plt.show()"
   ]
  },
  {
   "cell_type": "code",
   "execution_count": 9,
   "id": "1adf07ab9c586d94",
   "metadata": {
    "ExecuteTime": {
     "end_time": "2025-10-16T07:37:54.490505Z",
     "start_time": "2025-10-16T07:37:54.484177Z"
    }
   },
   "outputs": [
    {
     "data": {
      "text/html": [
       "<table class=\"simpletable\">\n",
       "<caption>Generalized Linear Model Regression Results</caption>\n",
       "<tr>\n",
       "  <th>Dep. Variable:</th>      <td>default_Yes</td>   <th>  No. Observations:  </th>  <td>   666</td> \n",
       "</tr>\n",
       "<tr>\n",
       "  <th>Model:</th>                  <td>GLM</td>       <th>  Df Residuals:      </th>  <td>   664</td> \n",
       "</tr>\n",
       "<tr>\n",
       "  <th>Model Family:</th>        <td>Binomial</td>     <th>  Df Model:          </th>  <td>     1</td> \n",
       "</tr>\n",
       "<tr>\n",
       "  <th>Link Function:</th>         <td>Logit</td>      <th>  Scale:             </th> <td>  1.0000</td>\n",
       "</tr>\n",
       "<tr>\n",
       "  <th>Method:</th>                <td>IRLS</td>       <th>  Log-Likelihood:    </th> <td> -192.89</td>\n",
       "</tr>\n",
       "<tr>\n",
       "  <th>Date:</th>            <td>Thu, 16 Oct 2025</td> <th>  Deviance:          </th> <td>  385.78</td>\n",
       "</tr>\n",
       "<tr>\n",
       "  <th>Time:</th>                <td>09:37:54</td>     <th>  Pearson chi2:      </th>  <td>  632.</td> \n",
       "</tr>\n",
       "<tr>\n",
       "  <th>No. Iterations:</th>          <td>7</td>        <th>  Pseudo R-squ. (CS):</th>  <td>0.5538</td> \n",
       "</tr>\n",
       "<tr>\n",
       "  <th>Covariance Type:</th>     <td>nonrobust</td>    <th>                     </th>     <td> </td>   \n",
       "</tr>\n",
       "</table>\n",
       "<table class=\"simpletable\">\n",
       "<tr>\n",
       "     <td></td>        <th>coef</th>     <th>std err</th>      <th>z</th>      <th>P>|z|</th>  <th>[0.025</th>    <th>0.975]</th>  \n",
       "</tr>\n",
       "<tr>\n",
       "  <th>const</th>   <td>   -7.3707</td> <td>    0.600</td> <td>  -12.290</td> <td> 0.000</td> <td>   -8.546</td> <td>   -6.195</td>\n",
       "</tr>\n",
       "<tr>\n",
       "  <th>balance</th> <td>    0.0056</td> <td>    0.000</td> <td>   12.926</td> <td> 0.000</td> <td>    0.005</td> <td>    0.006</td>\n",
       "</tr>\n",
       "</table>"
      ],
      "text/latex": [
       "\\begin{center}\n",
       "\\begin{tabular}{lclc}\n",
       "\\toprule\n",
       "\\textbf{Dep. Variable:}   &   default\\_Yes   & \\textbf{  No. Observations:  } &      666    \\\\\n",
       "\\textbf{Model:}           &       GLM        & \\textbf{  Df Residuals:      } &      664    \\\\\n",
       "\\textbf{Model Family:}    &     Binomial     & \\textbf{  Df Model:          } &        1    \\\\\n",
       "\\textbf{Link Function:}   &      Logit       & \\textbf{  Scale:             } &    1.0000   \\\\\n",
       "\\textbf{Method:}          &       IRLS       & \\textbf{  Log-Likelihood:    } &   -192.89   \\\\\n",
       "\\textbf{Date:}            & Thu, 16 Oct 2025 & \\textbf{  Deviance:          } &    385.78   \\\\\n",
       "\\textbf{Time:}            &     09:37:54     & \\textbf{  Pearson chi2:      } &     632.    \\\\\n",
       "\\textbf{No. Iterations:}  &        7         & \\textbf{  Pseudo R-squ. (CS):} &   0.5538    \\\\\n",
       "\\textbf{Covariance Type:} &    nonrobust     & \\textbf{                     } &             \\\\\n",
       "\\bottomrule\n",
       "\\end{tabular}\n",
       "\\begin{tabular}{lcccccc}\n",
       "                 & \\textbf{coef} & \\textbf{std err} & \\textbf{z} & \\textbf{P$> |$z$|$} & \\textbf{[0.025} & \\textbf{0.975]}  \\\\\n",
       "\\midrule\n",
       "\\textbf{const}   &      -7.3707  &        0.600     &   -12.290  &         0.000        &       -8.546    &       -6.195     \\\\\n",
       "\\textbf{balance} &       0.0056  &        0.000     &    12.926  &         0.000        &        0.005    &        0.006     \\\\\n",
       "\\bottomrule\n",
       "\\end{tabular}\n",
       "%\\caption{Generalized Linear Model Regression Results}\n",
       "\\end{center}"
      ],
      "text/plain": [
       "<class 'statsmodels.iolib.summary.Summary'>\n",
       "\"\"\"\n",
       "                 Generalized Linear Model Regression Results                  \n",
       "==============================================================================\n",
       "Dep. Variable:            default_Yes   No. Observations:                  666\n",
       "Model:                            GLM   Df Residuals:                      664\n",
       "Model Family:                Binomial   Df Model:                            1\n",
       "Link Function:                  Logit   Scale:                          1.0000\n",
       "Method:                          IRLS   Log-Likelihood:                -192.89\n",
       "Date:                Thu, 16 Oct 2025   Deviance:                       385.78\n",
       "Time:                        09:37:54   Pearson chi2:                     632.\n",
       "No. Iterations:                     7   Pseudo R-squ. (CS):             0.5538\n",
       "Covariance Type:            nonrobust                                         \n",
       "==============================================================================\n",
       "                 coef    std err          z      P>|z|      [0.025      0.975]\n",
       "------------------------------------------------------------------------------\n",
       "const         -7.3707      0.600    -12.290      0.000      -8.546      -6.195\n",
       "balance        0.0056      0.000     12.926      0.000       0.005       0.006\n",
       "==============================================================================\n",
       "\"\"\""
      ]
     },
     "execution_count": 9,
     "metadata": {},
     "output_type": "execute_result"
    }
   ],
   "source": [
    "model.summary()"
   ]
  },
  {
   "cell_type": "markdown",
   "id": "d8dbb4cbbbb694e3",
   "metadata": {},
   "source": [
    "For small values of **balance** the predicted values for $p(X)$ \n",
    "tend to $0$. Likewise, the predictions tend to $1$ for large \n",
    "**balance** values. All values of the model are within the \n",
    "interval $[0,1]$ and thus interpretable as probabilities. "
   ]
  },
  {
   "cell_type": "markdown",
   "id": "f686f63d2ebfcd05",
   "metadata": {},
   "source": [
    "### Extra info: \n",
    "The graph would look rather different if the complete data would be included:"
   ]
  },
  {
   "cell_type": "code",
   "execution_count": 10,
   "id": "5976f8eda15be979",
   "metadata": {
    "ExecuteTime": {
     "end_time": "2025-10-16T07:37:54.513388Z",
     "start_time": "2025-10-16T07:37:54.503448Z"
    }
   },
   "outputs": [],
   "source": [
    "# Fit logistic model, using all no\n",
    "x = df['balance']\n",
    "y = df['default_Yes']\n",
    "\n",
    "x_sm = sm.add_constant(x)\n",
    "\n",
    "model = sm.GLM(y, x_sm, family=sm.families.Binomial())\n",
    "model = model.fit()\n",
    "\n",
    "# Find the predicted values\n",
    "x_pred = x.sort_values()\n",
    "y_pred = model.predict(sm.add_constant(x_pred))"
   ]
  },
  {
   "cell_type": "code",
   "execution_count": 11,
   "id": "6a6559651792ca86",
   "metadata": {
    "ExecuteTime": {
     "end_time": "2025-10-16T07:37:54.565197Z",
     "start_time": "2025-10-16T07:37:54.516668Z"
    }
   },
   "outputs": [
    {
     "data": {
      "image/png": "[encoded data removed]",
      "text/plain": [
       "<Figure size 700x400 with 1 Axes>"
      ]
     },
     "jetTransient": {
      "display_id": null
     },
     "metadata": {},
     "output_type": "display_data"
    }
   ],
   "source": [
    "\"\"\" Plot \"\"\"\n",
    "# Create Figure and subplots\n",
    "fig = plt.figure(figsize=(7, 4))\n",
    "ax = fig.add_subplot(111)\n",
    "# Plot datapoints\n",
    "plt.plot(df.iloc[i_yes]['balance'], df.iloc[i_yes]['default_Yes'],\n",
    "         'or', alpha=0.5, label='Default=Yes')\n",
    "plt.plot(df.iloc[i_no]['balance'], df.iloc[i_no]['default_Yes'], \n",
    "         'og', alpha=0.5, label='Default=No')\n",
    "# Plot fit\n",
    "plt.plot(x_pred, y_pred, 'b-', label='Logistic Regression')\n",
    "# Labels and limits\n",
    "ax.set_xlabel('Balance')\n",
    "ax.set_ylabel('Probability for Default')\n",
    "ax.set_ylim(-0.1, 1.1)\n",
    "plt.legend()\n",
    "plt.show()"
   ]
  },
  {
   "cell_type": "code",
   "execution_count": 12,
   "id": "9852a9e4ac5f7b98",
   "metadata": {
    "ExecuteTime": {
     "end_time": "2025-10-16T07:37:54.575655Z",
     "start_time": "2025-10-16T07:37:54.569298Z"
    }
   },
   "outputs": [
    {
     "data": {
      "text/html": [
       "<table class=\"simpletable\">\n",
       "<caption>Generalized Linear Model Regression Results</caption>\n",
       "<tr>\n",
       "  <th>Dep. Variable:</th>      <td>default_Yes</td>   <th>  No. Observations:  </th>  <td> 10000</td> \n",
       "</tr>\n",
       "<tr>\n",
       "  <th>Model:</th>                  <td>GLM</td>       <th>  Df Residuals:      </th>  <td>  9998</td> \n",
       "</tr>\n",
       "<tr>\n",
       "  <th>Model Family:</th>        <td>Binomial</td>     <th>  Df Model:          </th>  <td>     1</td> \n",
       "</tr>\n",
       "<tr>\n",
       "  <th>Link Function:</th>         <td>Logit</td>      <th>  Scale:             </th> <td>  1.0000</td>\n",
       "</tr>\n",
       "<tr>\n",
       "  <th>Method:</th>                <td>IRLS</td>       <th>  Log-Likelihood:    </th> <td> -798.23</td>\n",
       "</tr>\n",
       "<tr>\n",
       "  <th>Date:</th>            <td>Thu, 16 Oct 2025</td> <th>  Deviance:          </th> <td>  1596.5</td>\n",
       "</tr>\n",
       "<tr>\n",
       "  <th>Time:</th>                <td>09:37:54</td>     <th>  Pearson chi2:      </th> <td>7.15e+03</td>\n",
       "</tr>\n",
       "<tr>\n",
       "  <th>No. Iterations:</th>          <td>9</td>        <th>  Pseudo R-squ. (CS):</th>  <td>0.1240</td> \n",
       "</tr>\n",
       "<tr>\n",
       "  <th>Covariance Type:</th>     <td>nonrobust</td>    <th>                     </th>     <td> </td>   \n",
       "</tr>\n",
       "</table>\n",
       "<table class=\"simpletable\">\n",
       "<tr>\n",
       "     <td></td>        <th>coef</th>     <th>std err</th>      <th>z</th>      <th>P>|z|</th>  <th>[0.025</th>    <th>0.975]</th>  \n",
       "</tr>\n",
       "<tr>\n",
       "  <th>const</th>   <td>  -10.6513</td> <td>    0.361</td> <td>  -29.491</td> <td> 0.000</td> <td>  -11.359</td> <td>   -9.943</td>\n",
       "</tr>\n",
       "<tr>\n",
       "  <th>balance</th> <td>    0.0055</td> <td>    0.000</td> <td>   24.952</td> <td> 0.000</td> <td>    0.005</td> <td>    0.006</td>\n",
       "</tr>\n",
       "</table>"
      ],
      "text/latex": [
       "\\begin{center}\n",
       "\\begin{tabular}{lclc}\n",
       "\\toprule\n",
       "\\textbf{Dep. Variable:}   &   default\\_Yes   & \\textbf{  No. Observations:  } &    10000    \\\\\n",
       "\\textbf{Model:}           &       GLM        & \\textbf{  Df Residuals:      } &     9998    \\\\\n",
       "\\textbf{Model Family:}    &     Binomial     & \\textbf{  Df Model:          } &        1    \\\\\n",
       "\\textbf{Link Function:}   &      Logit       & \\textbf{  Scale:             } &    1.0000   \\\\\n",
       "\\textbf{Method:}          &       IRLS       & \\textbf{  Log-Likelihood:    } &   -798.23   \\\\\n",
       "\\textbf{Date:}            & Thu, 16 Oct 2025 & \\textbf{  Deviance:          } &    1596.5   \\\\\n",
       "\\textbf{Time:}            &     09:37:54     & \\textbf{  Pearson chi2:      } &  7.15e+03   \\\\\n",
       "\\textbf{No. Iterations:}  &        9         & \\textbf{  Pseudo R-squ. (CS):} &   0.1240    \\\\\n",
       "\\textbf{Covariance Type:} &    nonrobust     & \\textbf{                     } &             \\\\\n",
       "\\bottomrule\n",
       "\\end{tabular}\n",
       "\\begin{tabular}{lcccccc}\n",
       "                 & \\textbf{coef} & \\textbf{std err} & \\textbf{z} & \\textbf{P$> |$z$|$} & \\textbf{[0.025} & \\textbf{0.975]}  \\\\\n",
       "\\midrule\n",
       "\\textbf{const}   &     -10.6513  &        0.361     &   -29.491  &         0.000        &      -11.359    &       -9.943     \\\\\n",
       "\\textbf{balance} &       0.0055  &        0.000     &    24.952  &         0.000        &        0.005    &        0.006     \\\\\n",
       "\\bottomrule\n",
       "\\end{tabular}\n",
       "%\\caption{Generalized Linear Model Regression Results}\n",
       "\\end{center}"
      ],
      "text/plain": [
       "<class 'statsmodels.iolib.summary.Summary'>\n",
       "\"\"\"\n",
       "                 Generalized Linear Model Regression Results                  \n",
       "==============================================================================\n",
       "Dep. Variable:            default_Yes   No. Observations:                10000\n",
       "Model:                            GLM   Df Residuals:                     9998\n",
       "Model Family:                Binomial   Df Model:                            1\n",
       "Link Function:                  Logit   Scale:                          1.0000\n",
       "Method:                          IRLS   Log-Likelihood:                -798.23\n",
       "Date:                Thu, 16 Oct 2025   Deviance:                       1596.5\n",
       "Time:                        09:37:54   Pearson chi2:                 7.15e+03\n",
       "No. Iterations:                     9   Pseudo R-squ. (CS):             0.1240\n",
       "Covariance Type:            nonrobust                                         \n",
       "==============================================================================\n",
       "                 coef    std err          z      P>|z|      [0.025      0.975]\n",
       "------------------------------------------------------------------------------\n",
       "const        -10.6513      0.361    -29.491      0.000     -11.359      -9.943\n",
       "balance        0.0055      0.000     24.952      0.000       0.005       0.006\n",
       "==============================================================================\n",
       "\"\"\""
      ]
     },
     "execution_count": 12,
     "metadata": {},
     "output_type": "execute_result"
    }
   ],
   "source": [
    "model.summary()"
   ]
  },
  {
   "cell_type": "markdown",
   "id": "a33aec09fee9a9a5",
   "metadata": {},
   "source": [
    "The lower value for $const$ causes the horizontal shift to the right."
   ]
  },
  {
   "cell_type": "code",
   "execution_count": null,
   "id": "a6696757c1585950",
   "metadata": {},
   "outputs": [],
   "source": []
  },
  {
   "cell_type": "markdown",
   "id": "20567093",
   "metadata": {},
   "source": [
    "### Example 2.2\n",
    "The **Python**-output below shows the estimates for the parameters in the logistic regression model. "
   ]
  },
  {
   "cell_type": "code",
   "execution_count": 1,
   "id": "09cc81b2",
   "metadata": {},
   "outputs": [
    {
     "name": "stdout",
     "output_type": "stream",
     "text": [
      "                 Generalized Linear Model Regression Results                  \n",
      "==============================================================================\n",
      "Dep. Variable:            default_Yes   No. Observations:                10000\n",
      "Model:                            GLM   Df Residuals:                     9998\n",
      "Model Family:                Binomial   Df Model:                            1\n",
      "Link Function:                  logit   Scale:                          1.0000\n",
      "Method:                          IRLS   Log-Likelihood:                -798.23\n",
      "Date:                Tue, 21 Mar 2023   Deviance:                       1596.5\n",
      "Time:                        09:01:21   Pearson chi2:                 7.15e+03\n",
      "No. Iterations:                     9                                         \n",
      "Covariance Type:            nonrobust                                         \n",
      "==============================================================================\n",
      "                 coef    std err          z      P>|z|      [0.025      0.975]\n",
      "------------------------------------------------------------------------------\n",
      "const        -10.6513      0.361    -29.491      0.000     -11.359      -9.943\n",
      "balance        0.0055      0.000     24.952      0.000       0.005       0.006\n",
      "==============================================================================\n"
     ]
    }
   ],
   "source": [
    "import numpy as np\n",
    "import pandas as pd\n",
    "import statsmodels.api as sm\n",
    "\n",
    "# Load data\n",
    "df = pd.read_csv('./data/Default.csv', sep=';')\n",
    "\n",
    "# Add a numerical column for default\n",
    "df = df.join(pd.get_dummies(df['default'], \n",
    "                            prefix='default', \n",
    "                            drop_first=True))\n",
    "\n",
    "# Fit logistic model\n",
    "x = df['balance']\n",
    "y = df['default_Yes']\n",
    "\n",
    "x_sm = sm.add_constant(x)\n",
    "\n",
    "model = sm.GLM(y, x_sm, family=sm.families.Binomial())\n",
    "model = model.fit()\n",
    "\n",
    "# Print summary\n",
    "print(model.summary())"
   ]
  },
  {
   "cell_type": "code",
   "execution_count": 2,
   "id": "49599588",
   "metadata": {},
   "outputs": [
    {
     "name": "stdout",
     "output_type": "stream",
     "text": [
      "                 0         1\n",
      "const   -11.359208 -9.943453\n",
      "balance   0.005067  0.005931\n"
     ]
    }
   ],
   "source": [
    "# Find confidence interval\n",
    "print(model.conf_int(alpha=0.05))"
   ]
  },
  {
   "cell_type": "markdown",
   "id": "9eb001a2",
   "metadata": {},
   "source": [
    "The two-sided $95\\%$-interval for $\\beta_1$ is well seperated from \n",
    "$0$ which is equivalent to rejecting $\\text{H}_0$ with a type I error of $\\alpha = 5\\%$. \n"
   ]
  },
  {
   "cell_type": "markdown",
   "id": "4b42aa144ce204a6",
   "metadata": {},
   "source": [
    "### Logistic Regression Example 3.1\n",
    "The estimated coefficients are\n",
    "$\\hat{\\beta}_{0} = -10.6513$ \n",
    "\n",
    "$\\hat{\\beta}_{1} = 0.0055$\n",
    "\n",
    "Thus, if an individual has **balance = 1000**, then the model yields\n",
    "\\begin{equation}\n",
    "\\hat{p}(1000)\n",
    "=\\dfrac{e^{-10.65+ 0.0055\\cdot 1000}}{1+e^{-10.65+ 0.0055\\cdot 1000}}\n",
    "\\approx 0.00577\n",
    "\\end{equation}"
   ]
  },
  {
   "cell_type": "code",
   "execution_count": 19,
   "id": "c206e481dfccd9f3",
   "metadata": {
    "ExecuteTime": {
     "end_time": "2025-10-20T12:22:34.368821Z",
     "start_time": "2025-10-20T12:22:34.357017Z"
    }
   },
   "outputs": [
    {
     "name": "stdout",
     "output_type": "stream",
     "text": [
      "[0.00575215]\n"
     ]
    }
   ],
   "source": [
    "import numpy as np\n",
    "import pandas as pd\n",
    "import statsmodels.api as sm\n",
    "\n",
    "# Load data\n",
    "df = pd.read_csv('./data/Default.csv', sep=';')\n",
    "\n",
    "# Add a numerical column for default\n",
    "df = df.join(pd.get_dummies(df['default'], \n",
    "                            prefix='default', \n",
    "                            drop_first=True))\n",
    "\n",
    "# Fit logistic model\n",
    "x = df['balance']\n",
    "y = df['default_Yes']\n",
    "\n",
    "x_sm = sm.add_constant(x)\n",
    "\n",
    "model = sm.GLM(y, x_sm, family=sm.families.Binomial())\n",
    "model = model.fit()\n",
    "\n",
    "# Predict for balance = 1000\n",
    "x_pred = [1, 1000]\n",
    "y_pred = model.predict(x_pred)\n",
    "\n",
    "print(y_pred)"
   ]
  },
  {
   "cell_type": "markdown",
   "id": "ad0aab0f8cf8161f",
   "metadata": {},
   "source": [
    "This probability of default is well below $1\\%$, which is very low. However, a different individual with **balance = 2000** has a default probability\n",
    "of approximately $59\\%$."
   ]
  },
  {
   "cell_type": "code",
   "execution_count": 20,
   "id": "49e0d2d1ef9affe8",
   "metadata": {
    "ExecuteTime": {
     "end_time": "2025-10-20T12:22:34.378819Z",
     "start_time": "2025-10-20T12:22:34.376991Z"
    }
   },
   "outputs": [
    {
     "name": "stdout",
     "output_type": "stream",
     "text": [
      "[0.58576937]\n"
     ]
    }
   ],
   "source": [
    "# Predict for balance = 2000\n",
    "x_pred = [1, 2000]\n",
    "y_pred = model.predict(x_pred)\n",
    "\n",
    "print(y_pred)"
   ]
  },
  {
   "cell_type": "markdown",
   "id": "2c2a863a2fb6cec3",
   "metadata": {},
   "source": [
    "### Logistic Regression Example 3.2\n",
    "For the **Default** data the following **Python**-code computes the training classification error. "
   ]
  },
  {
   "cell_type": "code",
   "execution_count": 21,
   "id": "e9920c98677a8c6e",
   "metadata": {
    "ExecuteTime": {
     "end_time": "2025-10-20T12:22:34.394679Z",
     "start_time": "2025-10-20T12:22:34.391898Z"
    }
   },
   "outputs": [
    {
     "name": "stdout",
     "output_type": "stream",
     "text": [
      "2.3668765516963094e-05\n",
      "0.0\n",
      "0.0275\n"
     ]
    }
   ],
   "source": [
    "\"\"\" Follows Example 3.1 \"\"\"\n",
    "# Predict for training data\n",
    "x_pred = x_sm\n",
    "y_pred = model.predict(x_pred)\n",
    "print(y_pred[10])\n",
    "\n",
    "# Round to 0 or 1\n",
    "y_pred = y_pred.round()\n",
    "print(y_pred[10])\n",
    "\n",
    "# Compute training error\n",
    "e_train = abs(y - y_pred)\n",
    "e_train = e_train.mean()\n",
    "\n",
    "print(e_train)"
   ]
  },
  {
   "cell_type": "markdown",
   "id": "777e2764b7e7e9c4",
   "metadata": {},
   "source": [
    "The value of the training error in this example is 0.0275, which is to say that approximately 97.25%  of the cases in the training set are classified correctly. "
   ]
  },
  {
   "cell_type": "markdown",
   "id": "3defc94f1e60033c",
   "metadata": {},
   "source": [
    "### Logistic Regression Example 3.3\n",
    "The following **Python**-code produces the confusion matrix for the **Default** data set and the logistic regression model."
   ]
  },
  {
   "cell_type": "code",
   "execution_count": 22,
   "id": "2fb208f14e697ade",
   "metadata": {
    "ExecuteTime": {
     "end_time": "2025-10-20T12:22:34.410855Z",
     "start_time": "2025-10-20T12:22:34.403019Z"
    }
   },
   "outputs": [
    {
     "name": "stdout",
     "output_type": "stream",
     "text": [
      "true       False  True    Sum\n",
      "predicted                    \n",
      "0.0         9625   233   9858\n",
      "1.0           42   100    142\n",
      "Sum         9667   333  10000\n"
     ]
    }
   ],
   "source": [
    "\"\"\" Follows Example 3.2 \"\"\"\n",
    "# Create confusion matrix\n",
    "confusion = pd.DataFrame({'predicted': y_pred,\n",
    "                          'true': y})\n",
    "confusion = pd.crosstab(confusion.predicted, confusion.true, \n",
    "                        margins=True, margins_name=\"Sum\")\n",
    "\n",
    "print(confusion)"
   ]
  },
  {
   "cell_type": "markdown",
   "id": "8868cb4d44dbc6c3",
   "metadata": {},
   "source": [
    "It can be seen that out of $9667$ cases with **default=No**, the vast majority of $9625$ are classified correctly. On the other hand, only approximately $1/3$\n",
    "of the **default=Yes** cases are classified correctly. The confusion matrix shows that the present classification scheme is by no means useful, in particular,\n",
    "if you want to predict the case of **default=Yes**.\n",
    "\n",
    "The reason for this bad result is the *imbalance* of the two classes. The training data only contains $333$ out of $ 10000$ cases with **default=Yes**.\n",
    "Therefore, the likelihood function is dominated by the factors corresponding to **default=No**, so the parameters are chosen as to match mainly those \n",
    "cases. Note also that the trivial classifier predicting all observations $x$ to $\\hat{f}(x)=0$ has a classification error of $333/10000=0.0333$ which \n",
    "is not much worse than that of our logistic model.\n",
    "\n",
    "The situation can also be visualized by the histograms of the estimated probabilities of **default=Yes** separated by true class.\n",
    "\n",
    "It is striking that the **default=No** group has a high concentration of probabilities near $0$ which is reasonable for this group. On the other hand, though,\n",
    "the estimated probabilities for the **default=Yes** cases do not exhibit high mass at $1$. Instead, the maximal probability is attained close to $0$ as well!"
   ]
  },
  {
   "cell_type": "markdown",
   "id": "77ba7e5f7dfdfa04",
   "metadata": {},
   "source": [
    "### Logistic Regression Example 3.8\n",
    "We can compute the F1 score by means of the"
   ]
  },
  {
   "cell_type": "code",
   "execution_count": 23,
   "id": "57f273337dd8cd2f",
   "metadata": {
    "ExecuteTime": {
     "end_time": "2025-10-20T12:22:37.796587Z",
     "start_time": "2025-10-20T12:22:34.418784Z"
    }
   },
   "outputs": [
    {
     "name": "stdout",
     "output_type": "stream",
     "text": [
      "0.42105263157894735\n"
     ]
    }
   ],
   "source": [
    "\"\"\" Follows Example 3.3 \"\"\"\n",
    "from sklearn.metrics import f1_score\n",
    "\n",
    "# Find F1-score\n",
    "f1 = f1_score(y, y_pred, pos_label=1, average='binary')\n",
    "print(f1)\n"
   ]
  },
  {
   "cell_type": "markdown",
   "id": "7d3aac02feb1bfb6",
   "metadata": {},
   "source": [
    "**pos\\_label**  is an optional character string for the factor level that corresponds to a *positive* result."
   ]
  },
  {
   "cell_type": "markdown",
   "id": "8514fd6f99d4de35",
   "metadata": {},
   "source": [
    "### Example 3.9\n",
    "If we consider the case **default=No** as positive, then the F1 score changes to"
   ]
  },
  {
   "cell_type": "code",
   "execution_count": 24,
   "id": "e5d2dfcd33aa39e5",
   "metadata": {
    "ExecuteTime": {
     "end_time": "2025-10-20T12:22:37.824462Z",
     "start_time": "2025-10-20T12:22:37.819933Z"
    }
   },
   "outputs": [
    {
     "name": "stdout",
     "output_type": "stream",
     "text": [
      "0.9859154929577465\n"
     ]
    }
   ],
   "source": [
    "\"\"\" Follows Example 3.8 \"\"\"\n",
    "# Find F1-score\n",
    "f1 = f1_score(y, y_pred, pos_label=0, average='binary')\n",
    "print(f1)\n"
   ]
  },
  {
   "cell_type": "markdown",
   "id": "7f41623684898c95",
   "metadata": {},
   "source": [
    "### Example 3.10\n",
    "We analyze the **Default** data set and fit a logistic regression model by downsampling the **default=No** class to the same size as the **default=yes** case. "
   ]
  },
  {
   "cell_type": "code",
   "execution_count": 25,
   "id": "ea0c0a9f22150158",
   "metadata": {
    "ExecuteTime": {
     "end_time": "2025-10-20T12:22:37.835509Z",
     "start_time": "2025-10-20T12:22:37.829046Z"
    }
   },
   "outputs": [
    {
     "name": "stdout",
     "output_type": "stream",
     "text": [
      "0.1171\n"
     ]
    }
   ],
   "source": [
    "\"\"\" Follows Example 3.9 \"\"\"\n",
    "# Set ramdom seed\n",
    "np.random.seed(1)\n",
    "# Index of Yes:\n",
    "i_yes = df.loc[df['default_Yes'] == 1, :].index\n",
    "\n",
    "# Random set of No:\n",
    "i_no = df.loc[df['default_Yes'] == 0, :].index\n",
    "i_no = np.random.choice(i_no, replace=False, size=333)\n",
    "\n",
    "# Fit Linear Model on downsampled data\n",
    "i_ds = np.concatenate((i_no, i_yes))\n",
    "x_ds = df.iloc[i_ds]['balance']\n",
    "y_ds = df.iloc[i_ds]['default_Yes']\n",
    "\n",
    "x_sm = sm.add_constant(x_ds)\n",
    "\n",
    "model_ds = sm.GLM(y_ds, x_sm, family=sm.families.Binomial())\n",
    "model_ds = model_ds.fit()\n",
    "\n",
    "# Predict for downsampled data\n",
    "x_pred_ds = x_sm\n",
    "y_pred_ds = model_ds.predict(x_pred_ds)\n",
    "\n",
    "# Round to 0 or 1\n",
    "y_pred_ds = y_pred_ds.round()\n",
    "\n",
    "# Classification error on training data:\n",
    "e_train = abs(y_ds- y_pred_ds)\n",
    "e_train = e_train.mean()\n",
    "\n",
    "print(np.round(e_train, 4))"
   ]
  },
  {
   "cell_type": "code",
   "execution_count": 26,
   "id": "8e145d8b58a7d164",
   "metadata": {
    "ExecuteTime": {
     "end_time": "2025-10-20T12:22:37.856970Z",
     "start_time": "2025-10-20T12:22:37.847823Z"
    }
   },
   "outputs": [
    {
     "name": "stdout",
     "output_type": "stream",
     "text": [
      "true       False  True  Sum\n",
      "predicted                  \n",
      "0.0          293    38  331\n",
      "1.0           40   295  335\n",
      "Sum          333   333  666\n"
     ]
    }
   ],
   "source": [
    "# Create confusion matrix\n",
    "confusion = pd.DataFrame({'predicted': y_pred_ds,\n",
    "                          'true': y_ds})\n",
    "confusion = pd.crosstab(confusion.predicted, confusion.true, \n",
    "                        margins=True, margins_name=\"Sum\")\n",
    "\n",
    "print(confusion)"
   ]
  },
  {
   "cell_type": "code",
   "execution_count": 27,
   "id": "52df8d75541a1166",
   "metadata": {
    "ExecuteTime": {
     "end_time": "2025-10-20T12:22:37.867076Z",
     "start_time": "2025-10-20T12:22:37.862545Z"
    }
   },
   "outputs": [
    {
     "name": "stdout",
     "output_type": "stream",
     "text": [
      "\n",
      "F1-Score (positive = default) = \n",
      " 0.8832335329341318 \n",
      "F1-Score (positive = not-default) = \n",
      " 0.8825301204819277\n"
     ]
    }
   ],
   "source": [
    "# Print F1-scores\n",
    "f1_pos = f1_score(y_ds, y_pred_ds, pos_label=1, average='binary')\n",
    "f1_neg = f1_score(y_ds, y_pred_ds, pos_label=0, average='binary')\n",
    "\n",
    "print('\\nF1-Score (positive = default) = \\n', f1_pos,\n",
    "      '\\nF1-Score (positive = not-default) = \\n', f1_neg)"
   ]
  },
  {
   "cell_type": "markdown",
   "id": "cdfd8ddcce5891ff",
   "metadata": {},
   "source": [
    "On the downsampled training set, the confusion matrix is balanced, and the classification error is 0.1171, which amounts to 88.29% correctly classified samples. As we observe now, the F1 score for **default=Yes** as positive case has now considerably improved.\n",
    "\n",
    "Furthermore, the histograms of the predicted probabilities have a complete different shape than before. The separation of the two classes becomes clearly visible."
   ]
  },
  {
   "cell_type": "markdown",
   "id": "aef7545d",
   "metadata": {},
   "source": [
    "### Logistic Regression Example 4.1\n",
    "In order to use the cross validation, we need to use sklearn instead of statsmodels.\n",
    "\n",
    "The logistic model for the **Default** data set will now be evaluated with $k$-fold cross validation. We use the **cross\\_val\\_score()**-function from **sklearn.model\\_selection** for computing the estimated error. We choose $k = 5$ and use the downsampled version of the training data."
   ]
  },
  {
   "cell_type": "code",
   "execution_count": 1,
   "id": "66300993",
   "metadata": {},
   "outputs": [
    {
     "name": "stdout",
     "output_type": "stream",
     "text": [
      "[0.93283582 0.84962406 0.85714286 0.90225564 0.87218045]\n",
      "0.8828077656828638\n"
     ]
    }
   ],
   "source": [
    "import numpy as np\n",
    "import pandas as pd\n",
    "from sklearn.linear_model import LogisticRegression\n",
    "from sklearn.model_selection import cross_val_score\n",
    "\n",
    "# Load data\n",
    "df = pd.read_csv('./data/Default.csv', sep=';')\n",
    "\n",
    "# Add a numerical column for default\n",
    "df = df.join(pd.get_dummies(df['default'], \n",
    "                            prefix='default', \n",
    "                            drop_first=True))\n",
    "\n",
    "# Set ramdom seed\n",
    "np.random.seed(1)\n",
    "# Index of Yes:\n",
    "i_yes = df.loc[df['default_Yes'] == 1, :].index\n",
    "\n",
    "# Random set of No:\n",
    "i_no = df.loc[df['default_Yes'] == 0, :].index\n",
    "i_no = np.random.choice(i_no, replace=False, size=333)\n",
    "\n",
    "# Fit Linear Model on downsampled data\n",
    "i_ds = np.concatenate((i_no, i_yes))\n",
    "x_ds = df.iloc[i_ds][['balance']]\n",
    "y_ds = df.iloc[i_ds]['default_Yes']\n",
    "\n",
    "model = LogisticRegression()\n",
    "\n",
    "# Calculate cross validation scores:\n",
    "scores = cross_val_score(model, x_ds, y_ds, cv=5)\n",
    "print(scores)\n",
    "print(np.mean(scores))"
   ]
  },
  {
   "cell_type": "markdown",
   "id": "2fe89fb7e0f29465",
   "metadata": {},
   "source": [
    "### Example 5.1"
   ]
  },
  {
   "cell_type": "markdown",
   "id": "8ce2b541cfd684e3",
   "metadata": {},
   "source": [
    "We fit a multiple logistic regression model to the **Default** data set using **balance**, **income**, and **student** as predictor variables. Note that the latter is a *qualitative* predictor with levels **Yes** and **No**. In order to use it in the regession model, we define a *dummy variable* with value $1$ if **student=Yes** and $0$ if **student=No**.\n"
   ]
  },
  {
   "cell_type": "code",
   "execution_count": 6,
   "id": "87fb2024a91c03c",
   "metadata": {
    "ExecuteTime": {
     "end_time": "2025-10-20T14:18:38.576477Z",
     "start_time": "2025-10-20T14:18:38.558817Z"
    }
   },
   "outputs": [
    {
     "name": "stdout",
     "output_type": "stream",
     "text": [
      "                 Generalized Linear Model Regression Results                  \n",
      "==============================================================================\n",
      "Dep. Variable:            default_Yes   No. Observations:                  666\n",
      "Model:                            GLM   Df Residuals:                      662\n",
      "Model Family:                Binomial   Df Model:                            3\n",
      "Link Function:                  Logit   Scale:                          1.0000\n",
      "Method:                          IRLS   Log-Likelihood:                -186.21\n",
      "Date:                Mon, 20 Oct 2025   Deviance:                       372.42\n",
      "Time:                        16:18:38   Pearson chi2:                     571.\n",
      "No. Iterations:                     7   Pseudo R-squ. (CS):             0.5627\n",
      "Covariance Type:            nonrobust                                         \n",
      "===============================================================================\n",
      "                  coef    std err          z      P>|z|      [0.025      0.975]\n",
      "-------------------------------------------------------------------------------\n",
      "const          -7.1303      0.869     -8.205      0.000      -8.833      -5.427\n",
      "balance         0.0060      0.000     12.928      0.000       0.005       0.007\n",
      "income      -1.454e-05    1.6e-05     -0.909      0.363   -4.59e-05    1.68e-05\n",
      "student_Yes    -0.8278      0.465     -1.780      0.075      -1.739       0.084\n",
      "===============================================================================\n"
     ]
    }
   ],
   "source": [
    "import numpy as np\n",
    "import pandas as pd\n",
    "import statsmodels.api as sm\n",
    "\n",
    "# Load data\n",
    "df = pd.read_csv('./data/Default.csv', sep=';')\n",
    "\n",
    "# Add a numerical column for default\n",
    "df = df.join(pd.get_dummies(df[['default', 'student']], \n",
    "                            prefix={'default': 'default', \n",
    "                                    'student': 'student'},\n",
    "                            drop_first=True))\n",
    "# Set ramdom seed\n",
    "np.random.seed(1)\n",
    "# Index of Yes:\n",
    "i_yes = df.loc[df['default_Yes'] == 1, :].index\n",
    "\n",
    "# Random set of No:\n",
    "i_no = df.loc[df['default_Yes'] == 0, :].index\n",
    "i_no = np.random.choice(i_no, replace=False, size=333)\n",
    "\n",
    "# Fit Linear Model on downsampled data\n",
    "i_ds = np.concatenate((i_no, i_yes))\n",
    "x_ds = df.iloc[i_ds][['balance', 'income', 'student_Yes']]\n",
    "y_ds = df.iloc[i_ds]['default_Yes']\n",
    "\n",
    "# Model using statsmodels.api\n",
    "x_sm = sm.add_constant(x_ds.astype('float'))\n",
    "model_sm = sm.GLM(y_ds, x_sm, family=sm.families.Binomial())\n",
    "model_sm = model_sm.fit()\n",
    "\n",
    "print(model_sm.summary())"
   ]
  },
  {
   "cell_type": "code",
   "execution_count": 7,
   "id": "18582b01e9662a99",
   "metadata": {
    "ExecuteTime": {
     "end_time": "2025-10-20T14:18:38.597009Z",
     "start_time": "2025-10-20T14:18:38.585714Z"
    }
   },
   "outputs": [
    {
     "name": "stdout",
     "output_type": "stream",
     "text": [
      "true       False  True  Sum\n",
      "predicted                  \n",
      "0.0          293    36  329\n",
      "1.0           40   297  337\n",
      "Sum          333   333  666\n"
     ]
    }
   ],
   "source": [
    "# Predict training data\n",
    "x_pred = x_sm\n",
    "y_pred = model_sm.predict(x_pred)\n",
    "\n",
    "# Round to 0 or 1\n",
    "y_pred = y_pred.round()\n",
    "\n",
    "# Create confusion matrix\n",
    "confusion = pd.DataFrame({'predicted': y_pred,\n",
    "                          'true': y_ds})\n",
    "confusion = pd.crosstab(confusion.predicted, confusion.true, \n",
    "                        margins=True, margins_name=\"Sum\")\n",
    "\n",
    "print(confusion)"
   ]
  },
  {
   "cell_type": "code",
   "execution_count": 8,
   "id": "53a93a9f5308e0c2",
   "metadata": {
    "ExecuteTime": {
     "end_time": "2025-10-20T14:18:40.245229Z",
     "start_time": "2025-10-20T14:18:38.605026Z"
    }
   },
   "outputs": [
    {
     "name": "stdout",
     "output_type": "stream",
     "text": [
      "0.8827965435978005\n"
     ]
    }
   ],
   "source": [
    "from sklearn.linear_model import LogisticRegression\n",
    "from sklearn.model_selection import cross_val_score\n",
    "\n",
    "# Model using sklearn\n",
    "model_sk = LogisticRegression(solver='liblinear', penalty='l1')\n",
    "\n",
    "# Calculate cross validation scores:\n",
    "scores = cross_val_score(model_sk, x_ds, y_ds, cv=5)\n",
    "print(np.mean(scores))"
   ]
  },
  {
   "cell_type": "markdown",
   "id": "48f6405071adaefb",
   "metadata": {},
   "source": [
    "First we find that the predictors **balance** and **student** are significant, i.e. they contribute substantially to the model for **default**. The coefficient of **student** is negative, i.e. the student status means a *decrease* in probability for default for a fixed value of **balance** and **income**.\n",
    "\n",
    "Further we find a cross-validated score of 0.8828, which amounts to say that the model classifies correctly 88.28% of the cases. This is not much an increase compared with the single logistic regression model. Also the confusion matrix is very similar to the simple regression case. \n",
    "\n",
    "We will now use the coefficients above in order to predict the probability for default for new observations. For example, if a student has a credit card bill of CHF 1500 and an income of CHF 40000, so the estimated probability for **default** is\n",
    "\\begin{equation}\n",
    "\\hat{p}(1500,40,1)\n",
    "=\\dfrac{e^{-6.679+0.00529\\cdot 1500 -0.0043\\cdot 40-0.6468\\cdot 1}}{1+e^{-6.679+0.00529\\cdot 1500-0.0043\\cdot 40-0.6468\\cdot 1}}\n",
    "=0.564\n",
    "\\end{equation}\n",
    "\n",
    "For a non-student with the same balance and income the estimated probability for default is\n",
    "\\begin{equation}\n",
    "\\hat{p}(1500,40,0)\n",
    "=\\dfrac{e^{-6.679+0.00529\\cdot 1500-0.0043\\cdot 40-0.6468\\cdot 0}}{1+e^{-6.679+0.00529\\cdot 1500-0.0043\\cdot 40-0.6468\\cdot 0}}\n",
    "=0.747\n",
    "\\end{equation}\n",
    "The coefficient for **income** is multiplied by $1000$ for lucidity. Thus we insert $40$ instead of $40000$ into the model. \n"
   ]
  }
 ],
 "metadata": {
  "kernelspec": {
   "display_name": "Python 3 (ipykernel)",
   "language": "python",
   "name": "python3"
  },
  "language_info": {
   "codemirror_mode": {
    "name": "ipython",
    "version": 3
   },
   "file_extension": ".py",
   "mimetype": "text/x-python",
   "name": "python",
   "nbconvert_exporter": "python",
   "pygments_lexer": "ipython3",
   "version": "3.9.6"
  },
  "widgets": {
   "application/vnd.jupyter.widget-state+json": {
    "state": {},
    "version_major": 2,
    "version_minor": 0
   }
  }
 },
 "nbformat": 4,
 "nbformat_minor": 5
}
