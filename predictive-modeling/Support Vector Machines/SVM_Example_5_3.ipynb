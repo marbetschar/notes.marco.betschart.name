{
 "cells": [
  {
   "cell_type": "markdown",
   "metadata": {},
   "source": [
    "### Support Vector Machines Example 5.3\n",
    "We now examine the **Khan** data set, which consists of a number of tissue samples corresponding to four distinct types of small round blue cell tumors.\n",
    "For each tissue sample, gene expression measurements are available. The data set consists of training data, **xtrain** and **ytrain**, and testing data, **xtest** and **ytest**.\n",
    "\n",
    "We examine the dimension of the data: \n"
   ]
  },
  {
   "cell_type": "markdown",
   "metadata": {},
   "source": [
    "**NOTE**\n",
    "To get files from LFS, open a terminal and type:\n",
    "`git lfs pull -I notebooks*`"
   ]
  },
  {
   "cell_type": "code",
   "execution_count": 1,
   "metadata": {},
   "outputs": [
    {
     "name": "stdout",
     "output_type": "stream",
     "text": [
      "Shapes training set:  (63, 2309) (63, 2)\n",
      "Shapes test set:  (20, 2309) (20, 2)\n"
     ]
    }
   ],
   "source": [
    "import numpy as np\n",
    "import pandas as pd\n",
    "import matplotlib.pyplot as plt\n",
    "from sklearn import svm\n",
    "from SVM_def import SVM_def\n",
    "\n",
    "# SVM_def is a class containing definitions used throughout this Chapter\n",
    "svm_def = SVM_def()\n",
    "X_train = pd.read_csv('./data/Khan_xtrain.csv')\n",
    "y_train = pd.read_csv('./data/Khan_ytrain.csv')\n",
    "X_test = pd.read_csv('./data/Khan_xtest.csv')\n",
    "y_test = pd.read_csv('./data/Khan_ytest.csv')\n",
    "\n",
    "print(\"Shapes training set: \", X_train.shape, y_train.shape)\n",
    "print(\"Shapes test set: \", X_test.shape, y_test.shape)"
   ]
  },
  {
   "cell_type": "code",
   "execution_count": 2,
   "metadata": {},
   "outputs": [
    {
     "data": {
      "text/html": [
       "<div>\n",
       "<style scoped>\n",
       "    .dataframe tbody tr th:only-of-type {\n",
       "        vertical-align: middle;\n",
       "    }\n",
       "\n",
       "    .dataframe tbody tr th {\n",
       "        vertical-align: top;\n",
       "    }\n",
       "\n",
       "    .dataframe thead th {\n",
       "        text-align: right;\n",
       "    }\n",
       "</style>\n",
       "<table border=\"1\" class=\"dataframe\">\n",
       "  <thead>\n",
       "    <tr style=\"text-align: right;\">\n",
       "      <th></th>\n",
       "      <th>Unnamed: 0</th>\n",
       "      <th>V1</th>\n",
       "      <th>V2</th>\n",
       "      <th>V3</th>\n",
       "      <th>V4</th>\n",
       "      <th>V5</th>\n",
       "      <th>V6</th>\n",
       "      <th>V7</th>\n",
       "      <th>V8</th>\n",
       "      <th>V9</th>\n",
       "      <th>...</th>\n",
       "      <th>V2299</th>\n",
       "      <th>V2300</th>\n",
       "      <th>V2301</th>\n",
       "      <th>V2302</th>\n",
       "      <th>V2303</th>\n",
       "      <th>V2304</th>\n",
       "      <th>V2305</th>\n",
       "      <th>V2306</th>\n",
       "      <th>V2307</th>\n",
       "      <th>V2308</th>\n",
       "    </tr>\n",
       "  </thead>\n",
       "  <tbody>\n",
       "    <tr>\n",
       "      <th>0</th>\n",
       "      <td>V1</td>\n",
       "      <td>0.773344</td>\n",
       "      <td>-2.438405</td>\n",
       "      <td>-0.482562</td>\n",
       "      <td>-2.721135</td>\n",
       "      <td>-1.217058</td>\n",
       "      <td>0.827809</td>\n",
       "      <td>1.342604</td>\n",
       "      <td>0.057042</td>\n",
       "      <td>0.133569</td>\n",
       "      <td>...</td>\n",
       "      <td>-0.238511</td>\n",
       "      <td>-0.027474</td>\n",
       "      <td>-1.660205</td>\n",
       "      <td>0.588231</td>\n",
       "      <td>-0.463624</td>\n",
       "      <td>-3.952845</td>\n",
       "      <td>-5.496768</td>\n",
       "      <td>-1.414282</td>\n",
       "      <td>-0.647600</td>\n",
       "      <td>-1.763172</td>\n",
       "    </tr>\n",
       "    <tr>\n",
       "      <th>1</th>\n",
       "      <td>V2</td>\n",
       "      <td>-0.078178</td>\n",
       "      <td>-2.415754</td>\n",
       "      <td>0.412772</td>\n",
       "      <td>-2.825146</td>\n",
       "      <td>-0.626236</td>\n",
       "      <td>0.054488</td>\n",
       "      <td>1.429498</td>\n",
       "      <td>-0.120249</td>\n",
       "      <td>0.456792</td>\n",
       "      <td>...</td>\n",
       "      <td>-0.657394</td>\n",
       "      <td>-0.246284</td>\n",
       "      <td>-0.836325</td>\n",
       "      <td>-0.571284</td>\n",
       "      <td>0.034788</td>\n",
       "      <td>-2.478130</td>\n",
       "      <td>-3.661264</td>\n",
       "      <td>-1.093923</td>\n",
       "      <td>-1.209320</td>\n",
       "      <td>-0.824395</td>\n",
       "    </tr>\n",
       "    <tr>\n",
       "      <th>2</th>\n",
       "      <td>V3</td>\n",
       "      <td>-0.084469</td>\n",
       "      <td>-1.649739</td>\n",
       "      <td>-0.241307</td>\n",
       "      <td>-2.875286</td>\n",
       "      <td>-0.889405</td>\n",
       "      <td>-0.027474</td>\n",
       "      <td>1.159300</td>\n",
       "      <td>0.015676</td>\n",
       "      <td>0.191942</td>\n",
       "      <td>...</td>\n",
       "      <td>-0.696352</td>\n",
       "      <td>0.024985</td>\n",
       "      <td>-1.059872</td>\n",
       "      <td>-0.403767</td>\n",
       "      <td>-0.678653</td>\n",
       "      <td>-2.939352</td>\n",
       "      <td>-2.736450</td>\n",
       "      <td>-1.965399</td>\n",
       "      <td>-0.805868</td>\n",
       "      <td>-1.139434</td>\n",
       "    </tr>\n",
       "    <tr>\n",
       "      <th>3</th>\n",
       "      <td>V4</td>\n",
       "      <td>0.965614</td>\n",
       "      <td>-2.380547</td>\n",
       "      <td>0.625297</td>\n",
       "      <td>-1.741256</td>\n",
       "      <td>-0.845366</td>\n",
       "      <td>0.949687</td>\n",
       "      <td>1.093801</td>\n",
       "      <td>0.819736</td>\n",
       "      <td>-0.284620</td>\n",
       "      <td>...</td>\n",
       "      <td>0.259746</td>\n",
       "      <td>0.357115</td>\n",
       "      <td>-1.893128</td>\n",
       "      <td>0.255107</td>\n",
       "      <td>0.163309</td>\n",
       "      <td>-1.021929</td>\n",
       "      <td>-2.077843</td>\n",
       "      <td>-1.127629</td>\n",
       "      <td>0.331531</td>\n",
       "      <td>-2.179483</td>\n",
       "    </tr>\n",
       "    <tr>\n",
       "      <th>4</th>\n",
       "      <td>V5</td>\n",
       "      <td>0.075664</td>\n",
       "      <td>-1.728785</td>\n",
       "      <td>0.852626</td>\n",
       "      <td>0.272695</td>\n",
       "      <td>-1.841370</td>\n",
       "      <td>0.327936</td>\n",
       "      <td>1.251219</td>\n",
       "      <td>0.771450</td>\n",
       "      <td>0.030917</td>\n",
       "      <td>...</td>\n",
       "      <td>-0.200404</td>\n",
       "      <td>0.061753</td>\n",
       "      <td>-2.273998</td>\n",
       "      <td>-0.039365</td>\n",
       "      <td>0.368801</td>\n",
       "      <td>-2.566551</td>\n",
       "      <td>-1.675044</td>\n",
       "      <td>-1.082050</td>\n",
       "      <td>-0.965218</td>\n",
       "      <td>-1.836966</td>\n",
       "    </tr>\n",
       "  </tbody>\n",
       "</table>\n",
       "<p>5 rows × 2309 columns</p>\n",
       "</div>"
      ],
      "text/plain": [
       "  Unnamed: 0        V1        V2        V3        V4        V5        V6  \\\n",
       "0         V1  0.773344 -2.438405 -0.482562 -2.721135 -1.217058  0.827809   \n",
       "1         V2 -0.078178 -2.415754  0.412772 -2.825146 -0.626236  0.054488   \n",
       "2         V3 -0.084469 -1.649739 -0.241307 -2.875286 -0.889405 -0.027474   \n",
       "3         V4  0.965614 -2.380547  0.625297 -1.741256 -0.845366  0.949687   \n",
       "4         V5  0.075664 -1.728785  0.852626  0.272695 -1.841370  0.327936   \n",
       "\n",
       "         V7        V8        V9  ...     V2299     V2300     V2301     V2302  \\\n",
       "0  1.342604  0.057042  0.133569  ... -0.238511 -0.027474 -1.660205  0.588231   \n",
       "1  1.429498 -0.120249  0.456792  ... -0.657394 -0.246284 -0.836325 -0.571284   \n",
       "2  1.159300  0.015676  0.191942  ... -0.696352  0.024985 -1.059872 -0.403767   \n",
       "3  1.093801  0.819736 -0.284620  ...  0.259746  0.357115 -1.893128  0.255107   \n",
       "4  1.251219  0.771450  0.030917  ... -0.200404  0.061753 -2.273998 -0.039365   \n",
       "\n",
       "      V2303     V2304     V2305     V2306     V2307     V2308  \n",
       "0 -0.463624 -3.952845 -5.496768 -1.414282 -0.647600 -1.763172  \n",
       "1  0.034788 -2.478130 -3.661264 -1.093923 -1.209320 -0.824395  \n",
       "2 -0.678653 -2.939352 -2.736450 -1.965399 -0.805868 -1.139434  \n",
       "3  0.163309 -1.021929 -2.077843 -1.127629  0.331531 -2.179483  \n",
       "4  0.368801 -2.566551 -1.675044 -1.082050 -0.965218 -1.836966  \n",
       "\n",
       "[5 rows x 2309 columns]"
      ]
     },
     "execution_count": 2,
     "metadata": {},
     "output_type": "execute_result"
    }
   ],
   "source": [
    "X_train.head()"
   ]
  },
  {
   "cell_type": "markdown",
   "metadata": {},
   "source": [
    "We need to delete the first column."
   ]
  },
  {
   "cell_type": "code",
   "execution_count": 3,
   "metadata": {},
   "outputs": [
    {
     "name": "stdout",
     "output_type": "stream",
     "text": [
      "(63, 2308)\n",
      "(20, 2308)\n"
     ]
    }
   ],
   "source": [
    "X_train = X_train.drop(['Unnamed: 0'], axis=1)\n",
    "print(X_train.shape)\n",
    "X_test = X_test.drop(['Unnamed: 0'], axis=1)\n",
    "print(X_test.shape)"
   ]
  },
  {
   "cell_type": "markdown",
   "metadata": {},
   "source": [
    "This data set consists of expression measurements for $2308$ genes. The training and test sets consist of 63 and 20 observations respectively."
   ]
  },
  {
   "cell_type": "code",
   "execution_count": 4,
   "metadata": {},
   "outputs": [
    {
     "name": "stdout",
     "output_type": "stream",
     "text": [
      "Results training set:  x\n",
      "2    23\n",
      "4    20\n",
      "3    12\n",
      "1     8\n",
      "dtype: int64\n",
      "Results test set:  x\n",
      "3    6\n",
      "2    6\n",
      "4    5\n",
      "1    3\n",
      "dtype: int64\n"
     ]
    }
   ],
   "source": [
    "y_train = y_train.drop(['Unnamed: 0'], axis=1)\n",
    "y_test = y_test.drop(['Unnamed: 0'], axis=1)\n",
    "print(\"Results training set: \", y_train.value_counts())\n",
    "print(\"Results test set: \", y_test.value_counts())"
   ]
  },
  {
   "cell_type": "code",
   "execution_count": 5,
   "metadata": {},
   "outputs": [],
   "source": [
    "# Convert to np array\n",
    "y_test = np.array(y_test).T[0, :]\n",
    "y_train = np.array(y_train).T[0, :]"
   ]
  },
  {
   "cell_type": "markdown",
   "metadata": {},
   "source": [
    "We will use a support vector approach to predict cancer subtype using gene expression measurements. In this data set, there are a very large number of \n",
    "features relative to the number of observations. This suggests that we should use a linear kernel, because the additional flexibility that will result from using a polynomial or radial kernel is unnecessary."
   ]
  },
  {
   "cell_type": "code",
   "execution_count": 6,
   "metadata": {},
   "outputs": [
    {
     "name": "stdout",
     "output_type": "stream",
     "text": [
      "Training scores:\n",
      "         Pred 1  Pred 2  Pred 3  Pred 4\n",
      "True 1     8.0     0.0     0.0     0.0\n",
      "True 2     0.0    23.0     0.0     0.0\n",
      "True 3     0.0     0.0    12.0     0.0\n",
      "True 4     0.0     0.0     0.0    20.0\n"
     ]
    }
   ],
   "source": [
    "\"\"\" First fit Linear kernel on 4 classes \"\"\"\n",
    "c = 10\n",
    "clf = svm.SVC(kernel='linear', C=c, probability=True)\n",
    "clf.fit(X_train, y_train)\n",
    "\n",
    "ypred_train = clf.predict(X_train)   \n",
    "tab_scores_train = svm_def.table_scores(ypred_train, y_train)\n",
    "print(\"Training scores:\\n\", tab_scores_train)"
   ]
  },
  {
   "cell_type": "markdown",
   "metadata": {},
   "source": [
    "We see that there are no training errors. In fact, this is not surprising, because the large number of variables relative to the number of observations\n",
    "implies that it is easy to find hyperplanes that fully separate the classes. We are most interested not in the support vector classifier’s performance on the\n",
    "training observations, but rather its performance on the test observations."
   ]
  },
  {
   "cell_type": "code",
   "execution_count": 7,
   "metadata": {},
   "outputs": [
    {
     "name": "stdout",
     "output_type": "stream",
     "text": [
      "Testing scores:\n",
      "         Pred 1  Pred 2  Pred 3  Pred 4\n",
      "True 1     3.0     0.0     0.0     0.0\n",
      "True 2     0.0     6.0     0.0     0.0\n",
      "True 3     0.0     2.0     4.0     0.0\n",
      "True 4     0.0     0.0     0.0     5.0\n"
     ]
    }
   ],
   "source": [
    "ypred_test = clf.predict(X_test)\n",
    "tab_scores_test = svm_def.table_scores(ypred_test, y_test)\n",
    "print(\"Testing scores:\\n\", tab_scores_test)"
   ]
  },
  {
   "cell_type": "markdown",
   "metadata": {},
   "source": [
    "We see that using **cost=10** yields two test set errors on this data."
   ]
  }
 ],
 "metadata": {
  "kernelspec": {
   "display_name": "Python 3",
   "language": "python",
   "name": "python3"
  },
  "language_info": {
   "codemirror_mode": {
    "name": "ipython",
    "version": 3
   },
   "file_extension": ".py",
   "mimetype": "text/x-python",
   "name": "python",
   "nbconvert_exporter": "python",
   "pygments_lexer": "ipython3",
   "version": "3.7.6"
  }
 },
 "nbformat": 4,
 "nbformat_minor": 4
}
