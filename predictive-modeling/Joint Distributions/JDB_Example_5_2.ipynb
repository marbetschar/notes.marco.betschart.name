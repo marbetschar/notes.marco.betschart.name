{
 "cells": [
  {
   "cell_type": "markdown",
   "metadata": {},
   "source": [
    "### Joint Distributions Example 5.2\n",
    "In the **USArrests** data, the first principal component explains 99.9% of the variance in the data, and the next principal component explains 0.1% of the variance, as can directly be figured out in **Python**"
   ]
  },
  {
   "cell_type": "code",
   "execution_count": 1,
   "metadata": {},
   "outputs": [
    {
     "name": "stdout",
     "output_type": "stream",
     "text": [
      "Proportion of Variance Explained =\n",
      " [0.999 0.001]\n"
     ]
    }
   ],
   "source": [
    "import pandas as pd\n",
    "from sklearn.decomposition import PCA\n",
    "\n",
    "# Read Data\n",
    "arrests = pd.read_csv('./data/USArrests.csv')\n",
    "states = arrests.iloc[:,0]\n",
    "features = ['Murder', 'Assault']\n",
    "# keep only arrests on Murder and Assault\n",
    "arrests = arrests.loc[:, features]\n",
    "\n",
    "# Create PCA instance and fit the data\n",
    "pca = PCA()\n",
    "pca.fit(arrests)\n",
    "\n",
    "pve = pca.explained_variance_ratio_\n",
    "\n",
    "print(\"Proportion of Variance Explained =\\n\", pve.round(4))"
   ]
  },
  {
   "cell_type": "markdown",
   "metadata": {},
   "source": [
    "Most of the information of the data about the arrests for $Murder$ and $Assault$ is contained in the first principal component."
   ]
  }
 ],
 "metadata": {
  "kernelspec": {
   "display_name": "Python 3",
   "language": "python",
   "name": "python3"
  },
  "language_info": {
   "codemirror_mode": {
    "name": "ipython",
    "version": 3
   },
   "file_extension": ".py",
   "mimetype": "text/x-python",
   "name": "python",
   "nbconvert_exporter": "python",
   "pygments_lexer": "ipython3",
   "version": "3.7.6"
  }
 },
 "nbformat": 4,
 "nbformat_minor": 4
}
