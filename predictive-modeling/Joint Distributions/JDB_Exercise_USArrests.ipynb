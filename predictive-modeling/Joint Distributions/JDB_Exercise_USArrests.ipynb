{
 "cells": [
  {
   "cell_type": "markdown",
   "id": "infrared-accused",
   "metadata": {},
   "source": [
    "### Joint Distributions Exercise US Arrests"
   ]
  },
  {
   "cell_type": "markdown",
   "id": "passing-today",
   "metadata": {},
   "source": [
    "#### Solution to a)\n",
    "Import and inspect the data set."
   ]
  },
  {
   "cell_type": "code",
   "execution_count": 1,
   "id": "informational-length",
   "metadata": {},
   "outputs": [
    {
     "name": "stdout",
     "output_type": "stream",
     "text": [
      "   Unnamed: 0  Murder  Assault  UrbanPop  Rape\n",
      "0     Alabama    13.2      236        58  21.2\n",
      "1      Alaska    10.0      263        48  44.5\n",
      "2     Arizona     8.1      294        80  31.0\n",
      "3    Arkansas     8.8      190        50  19.5\n",
      "4  California     9.0      276        91  40.6\n",
      "\n",
      "Size of USA Arrests =\n",
      " (50, 5)\n"
     ]
    }
   ],
   "source": [
    "import pandas as pd\n",
    "import numpy as np\n",
    "\n",
    "# Read Data: make sure you have downloaded the datafile and placed it in \n",
    "# a folder named data, in the same directory as this notebook\n",
    "arrests = pd.read_csv('./data/USArrests.csv')\n",
    "\n",
    "# As a first inspeaction, print the first rows of the data:\n",
    "print(arrests.head())\n",
    "# As well as the dimensions of the set:\n",
    "print('\\nSize of USA Arrests =\\n', arrests.shape)"
   ]
  },
  {
   "cell_type": "markdown",
   "id": "recovered-gabriel",
   "metadata": {},
   "source": [
    "We can thus see, this dataset has 50 entries, corresponding to the 50 states. Furthermore, there are 4 features: Murder, Assault, Urban Population and Rape. "
   ]
  },
  {
   "cell_type": "markdown",
   "id": "considerable-partition",
   "metadata": {},
   "source": [
    "#### Solution to b)\n",
    "Create a new data set that contains only the variables Murder, Assault and\n",
    "Rape for each state.\n",
    "\n",
    "We can see from the above output that the column states is not labeled, we will thus have to acces this collumn by its location instead (**DataFrame.iloc[]**). The other columns can be acces by their label, using **DataFrame.loc[]**."
   ]
  },
  {
   "cell_type": "code",
   "execution_count": 2,
   "id": "lovely-immune",
   "metadata": {},
   "outputs": [],
   "source": [
    "states = arrests.iloc[:,0]\n",
    "features = ['Murder', 'Assault', 'Rape']\n",
    "# keep only arrests on Murder, Assault and Rape\n",
    "arrests = arrests.loc[:, features]"
   ]
  },
  {
   "cell_type": "markdown",
   "id": "christian-straight",
   "metadata": {},
   "source": [
    "#### Solution to c)\n",
    "Examine the new data set by plotting each state in a 3-Dimensional graph, where\n",
    "the x-, y-, and z-axis correspond to the numbers of Murder, Assault and\n",
    "Rape respectively. Write the name of each state at the corresponding point.\n",
    " What can you say about Rhode Island? Which is the state with the lowest numbers\n",
    "of crimes?"
   ]
  },
  {
   "cell_type": "code",
   "execution_count": 3,
   "id": "radical-recall",
   "metadata": {},
   "outputs": [
    {
     "name": "stdout",
     "output_type": "stream",
     "text": [
      "Using matplotlib backend: Qt5Agg\n"
     ]
    }
   ],
   "source": [
    "\"\"\" Hints: \"\"\"\n",
    "import matplotlib.pyplot as plt\n",
    "%matplotlib \n",
    "# with this magic function, a seperate window will open, \n",
    "# showing the plot. Here you can scroll and rotate the plot. \n",
    "\n",
    "# Create figure and 3d plot\n",
    "fig = plt.figure(figsize=(12, 12))\n",
    "ax = fig.gca(projection='3d')\n",
    "\n",
    "x, y, z = 1, 1, 1\n",
    "# Plot point\n",
    "ax.plot(x, y, z, '.b')\n",
    "# Plot state name\n",
    "ax.text(x, y, z, 'Example')\n",
    "\n",
    "# Layout and show plot\n",
    "plt.tight_layout()\n",
    "plt.show()"
   ]
  },
  {
   "cell_type": "code",
   "execution_count": 4,
   "id": "pediatric-hamburg",
   "metadata": {},
   "outputs": [
    {
     "name": "stdout",
     "output_type": "stream",
     "text": [
      "Using matplotlib backend: Qt5Agg\n"
     ]
    }
   ],
   "source": [
    "import matplotlib.pyplot as plt\n",
    "\n",
    "%matplotlib \n",
    "# with this magic function, a seperate window will open, showing the plot. Here you can scroll and rotate the plot. \n",
    "\n",
    "# Create figure and 3d plot\n",
    "fig = plt.figure(figsize=(12, 12))\n",
    "ax = fig.gca(projection='3d')\n",
    "\n",
    "# Plot points \n",
    "ax.plot(arrests.iloc[:, 0], arrests.iloc[:, 1], arrests.iloc[:, 2], '.b')\n",
    "# Plot state names\n",
    "for i in range(arrests.shape[0]):\n",
    "    ax.text(arrests.iloc[i, 0], arrests.iloc[i, 1], arrests.iloc[i, 2], str(states[i]))\n",
    "# Add labels\n",
    "ax.set_xlabel(arrests.columns.values[0])\n",
    "ax.set_ylabel(arrests.columns.values[1])\n",
    "ax.set_zlabel(arrests.columns.values[2])\n",
    "\n",
    "plt.tight_layout()\n",
    "plt.show()"
   ]
  },
  {
   "cell_type": "markdown",
   "id": "responsible-danger",
   "metadata": {},
   "source": [
    "#### Solution to d)\n",
    "Compare the ranges and spread of the three variables. Which variable do you\n",
    "expect to get the largest loadings for PC1 if you apply PCA to the unscaled data?\n",
    "\n",
    "The required output is directly given by **arrests.describe()**, but could ofcourse also be obtained by other methods, such as **Dataframe.mean()**, **Dataframe.max()**, **Dataframe.std()** etc.."
   ]
  },
  {
   "cell_type": "code",
   "execution_count": 4,
   "id": "another-notice",
   "metadata": {},
   "outputs": [
    {
     "name": "stdout",
     "output_type": "stream",
     "text": [
      "         Murder     Assault       Rape\n",
      "count  50.00000   50.000000  50.000000\n",
      "mean    7.78800  170.760000  21.232000\n",
      "std     4.35551   83.337661   9.366385\n",
      "min     0.80000   45.000000   7.300000\n",
      "25%     4.07500  109.000000  15.075000\n",
      "50%     7.25000  159.000000  20.100000\n",
      "75%    11.25000  249.000000  26.175000\n",
      "max    17.40000  337.000000  46.000000\n"
     ]
    }
   ],
   "source": [
    "print(arrests.describe())"
   ]
  },
  {
   "cell_type": "markdown",
   "id": "developed-aviation",
   "metadata": {},
   "source": [
    "### Solution to e)\n",
    "Compute PC1 on the unscaled data set. Do the loadings for PC1 match\n",
    "your expectation from **d)**?\n",
    "\n",
    "The Principle Components can be found using **sklearn.decomposition.PCA()**. After fitting the arrests data to a **...PCA()** instance, we can access the Principle components through the attribute **.components_**"
   ]
  },
  {
   "cell_type": "code",
   "execution_count": 5,
   "id": "planned-mother",
   "metadata": {},
   "outputs": [
    {
     "name": "stdout",
     "output_type": "stream",
     "text": [
      "Principle Components are:\n",
      " [[ 0.04180743  0.99630506  0.07502247]\n",
      " [ 0.02555358 -0.0761298   0.99677042]\n",
      " [ 0.99879886 -0.03975532 -0.02864195]]\n"
     ]
    }
   ],
   "source": [
    "from sklearn.decomposition import PCA\n",
    "\n",
    "# find the Principle components by creating a pca instance:\n",
    "pca = PCA()\n",
    "pca.fit(arrests)\n",
    "\n",
    "# Acces the principle components through the attribute components_ \n",
    "print('Principle Components are:\\n', pca.components_ )"
   ]
  },
  {
   "cell_type": "code",
   "execution_count": 6,
   "id": "hydraulic-attempt",
   "metadata": {},
   "outputs": [
    {
     "name": "stdout",
     "output_type": "stream",
     "text": [
      "1st Principle Component is:\n",
      " ['Murder' 'Assault' 'Rape'] \n",
      " [0.04181 0.99631 0.07502]\n"
     ]
    }
   ],
   "source": [
    "print('1st Principle Component is:\\n', arrests.columns.values, \n",
    "      '\\n', np.round(pca.components_[0], 5))"
   ]
  },
  {
   "cell_type": "markdown",
   "id": "tough-qatar",
   "metadata": {},
   "source": [
    "### Solution to f)\n",
    "Compute the PCA on the basis of the scaled data. How does the\n",
    "interpretation of PC1 change?\n",
    "\n",
    "There are several good ways of normalizing your data, in practise depending on which packages you preffer to use and what functionality you need. Here we will used sklearn, as we also use sklearn for the PCA analysis. "
   ]
  },
  {
   "cell_type": "code",
   "execution_count": 7,
   "id": "dental-automation",
   "metadata": {},
   "outputs": [
    {
     "name": "stdout",
     "output_type": "stream",
     "text": [
      "Principle Components are:\n",
      " [[ 0.58260056  0.60798182  0.53938362]\n",
      " [ 0.53395322  0.21402358 -0.81797791]\n",
      " [ 0.61275652 -0.76456001  0.19994359]]\n"
     ]
    }
   ],
   "source": [
    "from sklearn.preprocessing import StandardScaler\n",
    "\n",
    "# Create a Scaler Instance\n",
    "scaler  = StandardScaler()\n",
    "scaler.fit(arrests)\n",
    "# Normalize the data\n",
    "arrests_nor = scaler.transform(arrests)\n",
    "pca.fit(arrests_nor)\n",
    "\n",
    "# Acces the principle components through the attribute components_ \n",
    "print('Principle Components are:\\n', pca.components_ )"
   ]
  },
  {
   "cell_type": "code",
   "execution_count": 8,
   "id": "chubby-skill",
   "metadata": {},
   "outputs": [
    {
     "name": "stdout",
     "output_type": "stream",
     "text": [
      "1st Principle Component is:\n",
      " ['Murder' 'Assault' 'Rape'] \n",
      " [0.5826  0.60798 0.53938]\n"
     ]
    }
   ],
   "source": [
    "print('1st Principle Component is:\\n', arrests.columns.values, \n",
    "      '\\n', np.round(pca.components_[0], 5))"
   ]
  },
  {
   "cell_type": "markdown",
   "id": "organized-constant",
   "metadata": {},
   "source": [
    "### Solution to g)\n",
    "We now consider the second principal component (PC2). Describe the violence\n",
    "profile of states that have a high PC2 score."
   ]
  },
  {
   "cell_type": "code",
   "execution_count": 9,
   "id": "accepted-queue",
   "metadata": {},
   "outputs": [
    {
     "name": "stdout",
     "output_type": "stream",
     "text": [
      "2nd Principle Component is:\n",
      " ['Murder' 'Assault' 'Rape'] \n",
      " [ 0.53395  0.21402 -0.81798]\n"
     ]
    }
   ],
   "source": [
    "print('2nd Principle Component is:\\n', arrests.columns.values, \n",
    "      '\\n', np.round(pca.components_[1], 5))"
   ]
  },
  {
   "cell_type": "markdown",
   "id": "extensive-period",
   "metadata": {},
   "source": [
    "### Solution to h)\n",
    "What percentage of the total variance is explained by the first two principal components?\n",
    "\n"
   ]
  },
  {
   "cell_type": "code",
   "execution_count": 10,
   "id": "recent-insight",
   "metadata": {},
   "outputs": [
    {
     "name": "stdout",
     "output_type": "stream",
     "text": [
      "Variance explained by each PC:\n",
      " [0.78619 0.15268 0.06112]\n",
      "\n",
      "Total Variance explained when including n PCs:\n",
      " [0.78619 0.93888 1.     ]\n"
     ]
    }
   ],
   "source": [
    "print('Variance explained by each PC:\\n', \n",
    "      np.round(pca.explained_variance_ratio_, 5))\n",
    "print('\\nTotal Variance explained when including n PCs:\\n', \n",
    "      np.cumsum(pca.explained_variance_ratio_).round(5))"
   ]
  },
  {
   "cell_type": "markdown",
   "id": "pleasant-vietnam",
   "metadata": {},
   "source": [
    "### Solution i)\n",
    "Consider the PC2 scores. Verify that the PC1 and PC2 scores are uncorrelated. Then make a plot of PC2 versus PC1, using abbreviated state names instead of plotting symbols.\n",
    "\n"
   ]
  },
  {
   "cell_type": "code",
   "execution_count": 11,
   "id": "assured-forge",
   "metadata": {},
   "outputs": [
    {
     "name": "stdout",
     "output_type": "stream",
     "text": [
      "Correlation between first two PC:\n",
      " [0.]\n"
     ]
    }
   ],
   "source": [
    "# Check correlations with numpy:\n",
    "corr_np = np.correlate(pca.components_[0], pca.components_[1])\n",
    "\n",
    "print('Correlation between first two PC:\\n', corr_np)"
   ]
  },
  {
   "cell_type": "code",
   "execution_count": 13,
   "id": "powered-cleanup",
   "metadata": {},
   "outputs": [],
   "source": [
    "\"\"\" Hints: \"\"\"\n",
    "# Create figure and plot\n",
    "fig = plt.figure(figsize=(12, 12))\n",
    "ax = fig.add_subplot(111)\n",
    "\n",
    "x, y = 1, 1\n",
    "# Plot point\n",
    "ax.plot(x, y, 'k.')\n",
    "# Plot state name\n",
    "ax.text(x, y, 'Example')\n",
    "# or \n",
    "ax.annotate('Example', (x, y))\n",
    "\n",
    "# Layout and show plot\n",
    "plt.tight_layout()\n",
    "plt.show()"
   ]
  },
  {
   "cell_type": "code",
   "execution_count": 13,
   "id": "aggressive-ottawa",
   "metadata": {},
   "outputs": [
    {
     "data": {
      "image/png": "[encoded data removed]",
      "text/plain": [
       "<Figure size 864x864 with 1 Axes>"
      ]
     },
     "metadata": {
      "needs_background": "light"
     },
     "output_type": "display_data"
    }
   ],
   "source": [
    "import matplotlib.pyplot as plt\n",
    "# First find the principle component loadings for all states\n",
    "pcl0 = np.dot(arrests_nor, pca.components_[0])\n",
    "pcl1 = np.dot(arrests_nor, pca.components_[1])\n",
    "\n",
    "# Create figure and plot\n",
    "fig = plt.figure(figsize=(12, 12))\n",
    "ax = fig.add_subplot(111)\n",
    "# Plot points \n",
    "ax.plot(pcl0, pcl1, 'k.')\n",
    "# Plot labels\n",
    "for i in range(arrests.shape[0]):\n",
    "    ax.annotate(str(states[i]), (pcl0[i], pcl1[i]))\n",
    "# Labels\n",
    "ax.set_xlabel('First PC')\n",
    "ax.set_ylabel('Second PC') \n",
    "    \n",
    "plt.show()"
   ]
  }
 ],
 "metadata": {
  "kernelspec": {
   "display_name": "Python [conda env:tensorflow] *",
   "language": "python",
   "name": "conda-env-tensorflow-py"
  },
  "language_info": {
   "codemirror_mode": {
    "name": "ipython",
    "version": 3
   },
   "file_extension": ".py",
   "mimetype": "text/x-python",
   "name": "python",
   "nbconvert_exporter": "python",
   "pygments_lexer": "ipython3",
   "version": "3.7.7"
  },
  "widgets": {
   "application/vnd.jupyter.widget-state+json": {
    "state": {},
    "version_major": 2,
    "version_minor": 0
   }
  }
 },
 "nbformat": 4,
 "nbformat_minor": 5
}
