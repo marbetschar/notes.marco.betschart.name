{
 "cells": [
  {
   "cell_type": "markdown",
   "metadata": {},
   "source": [
    "### Logistic Regression Example 4.1\n",
    "In order to use the cross validation, we need to use sklearn instead of statsmodels.\n",
    "\n",
    "The logistic model for the **Default** data set will now be evaluated with $k$-fold cross validation. We use the **cross\\_val\\_score()**-function from **sklearn.model\\_selection** for computing the estimated error. We choose $k = 5$ and use the downsampled version of the training data."
   ]
  },
  {
   "cell_type": "code",
   "execution_count": 1,
   "metadata": {},
   "outputs": [
    {
     "name": "stdout",
     "output_type": "stream",
     "text": [
      "[0.93283582 0.84962406 0.85714286 0.90225564 0.87218045]\n",
      "0.8828077656828638\n"
     ]
    }
   ],
   "source": [
    "import numpy as np\n",
    "import pandas as pd\n",
    "from sklearn.linear_model import LogisticRegression\n",
    "from sklearn.model_selection import cross_val_score\n",
    "\n",
    "# Load data\n",
    "df = pd.read_csv('./data/Default.csv', sep=';')\n",
    "\n",
    "# Add a numerical column for default\n",
    "df = df.join(pd.get_dummies(df['default'], \n",
    "                            prefix='default', \n",
    "                            drop_first=True))\n",
    "\n",
    "# Set ramdom seed\n",
    "np.random.seed(1)\n",
    "# Index of Yes:\n",
    "i_yes = df.loc[df['default_Yes'] == 1, :].index\n",
    "\n",
    "# Random set of No:\n",
    "i_no = df.loc[df['default_Yes'] == 0, :].index\n",
    "i_no = np.random.choice(i_no, replace=False, size=333)\n",
    "\n",
    "# Fit Linear Model on downsampled data\n",
    "i_ds = np.concatenate((i_no, i_yes))\n",
    "x_ds = df.iloc[i_ds][['balance']]\n",
    "y_ds = df.iloc[i_ds]['default_Yes']\n",
    "\n",
    "model = LogisticRegression()\n",
    "\n",
    "# Calculate cross validation scores:\n",
    "scores = cross_val_score(model, x_ds, y_ds, cv=5)\n",
    "print(scores)\n",
    "print(np.mean(scores))"
   ]
  }
 ],
 "metadata": {
  "kernelspec": {
   "display_name": "Python 3",
   "language": "python",
   "name": "python3"
  },
  "language_info": {
   "codemirror_mode": {
    "name": "ipython",
    "version": 3
   },
   "file_extension": ".py",
   "mimetype": "text/x-python",
   "name": "python",
   "nbconvert_exporter": "python",
   "pygments_lexer": "ipython3",
   "version": "3.7.6"
  },
  "widgets": {
   "application/vnd.jupyter.widget-state+json": {
    "state": {},
    "version_major": 2,
    "version_minor": 0
   }
  }
 },
 "nbformat": 4,
 "nbformat_minor": 5
}
