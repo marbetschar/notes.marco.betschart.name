{
 "cells": [
  {
   "cell_type": "markdown",
   "metadata": {},
   "source": [
    "### Testing model Assumptions Example 2.3 \n",
    "We find the $ R^{2} $-value for the example 1.2."
   ]
  },
  {
   "cell_type": "code",
   "execution_count": 2,
   "metadata": {},
   "outputs": [
    {
     "name": "stdout",
     "output_type": "stream",
     "text": [
      "                            OLS Regression Results                            \n",
      "==============================================================================\n",
      "Dep. Variable:                      y   R-squared:                       0.516\n",
      "Model:                            OLS   Adj. R-squared:                  0.481\n",
      "Method:                 Least Squares   F-statistic:                     14.91\n",
      "Date:                Fri, 04 Mar 2022   Prob (F-statistic):            0.00173\n",
      "Time:                        17:21:04   Log-Likelihood:                -40.363\n",
      "No. Observations:                  16   AIC:                             84.73\n",
      "Df Residuals:                      14   BIC:                             86.27\n",
      "Df Model:                           1                                         \n",
      "Covariance Type:            nonrobust                                         \n",
      "==============================================================================\n",
      "                 coef    std err          t      P>|t|      [0.025      0.975]\n",
      "------------------------------------------------------------------------------\n",
      "const          2.6174      0.917      2.855      0.013       0.651       4.584\n",
      "x1             1.6876      0.437      3.861      0.002       0.750       2.625\n",
      "==============================================================================\n",
      "Omnibus:                        3.331   Durbin-Watson:                   0.690\n",
      "Prob(Omnibus):                  0.189   Jarque-Bera (JB):                1.592\n",
      "Skew:                          -0.447   Prob(JB):                        0.451\n",
      "Kurtosis:                       1.740   Cond. No.                         2.53\n",
      "==============================================================================\n",
      "\n",
      "Notes:\n",
      "[1] Standard Errors assume that the covariance matrix of the errors is correctly specified.\n"
     ]
    },
    {
     "name": "stderr",
     "output_type": "stream",
     "text": [
      "/opt/conda/lib/python3.7/site-packages/scipy/stats/stats.py:1604: UserWarning: kurtosistest only valid for n>=20 ... continuing anyway, n=16\n",
      "  \"anyway, n=%i\" % int(n))\n"
     ]
    }
   ],
   "source": [
    "import numpy as np\n",
    "import statsmodels.api as sm\n",
    "\n",
    "# Set random seed\n",
    "np.random.seed(0)\n",
    "# Create Random data allong y = x^2 + 4 \n",
    "x = np.arange(-4, 2.4, .4)\n",
    "y = -(x * x) + 4 + np.random.normal(0, 2, len(x))\n",
    "\n",
    "# Fit Linear Model\n",
    "x_sm = sm.add_constant(x)\n",
    "model = sm.OLS(y,x_sm).fit()\n",
    "\n",
    "# Print Model Summary\n",
    "print(model.summary())"
   ]
  },
  {
   "cell_type": "markdown",
   "metadata": {},
   "source": [
    "The $ R^{2} $ value is  $ 0.516 $. "
   ]
  }
 ],
 "metadata": {
  "kernelspec": {
   "display_name": "Python 3",
   "language": "python",
   "name": "python3"
  },
  "language_info": {
   "codemirror_mode": {
    "name": "ipython",
    "version": 3
   },
   "file_extension": ".py",
   "mimetype": "text/x-python",
   "name": "python",
   "nbconvert_exporter": "python",
   "pygments_lexer": "ipython3",
   "version": "3.7.6"
  }
 },
 "nbformat": 4,
 "nbformat_minor": 4
}
