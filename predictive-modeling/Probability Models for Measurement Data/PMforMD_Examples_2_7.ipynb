{
 "cells": [
  {
   "cell_type": "markdown",
   "metadata": {},
   "source": [
    "### Probality Models for Measurement Data Example 2.7\n",
    "\n",
    "The intelligence quotient (IQ) is usually measured by means of intelligence tests. The results of an IQ test follow approximately a normal distribution with a mean value of 100 and standard deviation of 15. In general, a person is regarded as highly gifted if his/her IQ constitutes two or more standard deviations to the right of the mean value. We aim at determining the probability that someone is highly gifted, that is having an IQ higher than 130. \n",
    "This is the probability $P(X>130)$, where\n",
    "\n",
    "\\begin{equation}\n",
    "X\\sim\\mathcal{N}(100,15^2) \n",
    "\\end{equation}\n",
    "\n",
    "In **Python** we compute this probability by rewriting $P(X>130)$ as\n",
    "\n",
    "\\begin{equation}\n",
    "1-P(X\\leq 130) \n",
    "\\end{equation}\n",
    "\n",
    "Thus, \n"
   ]
  },
  {
   "cell_type": "code",
   "execution_count": 3,
   "metadata": {},
   "outputs": [
    {
     "name": "stdout",
     "output_type": "stream",
     "text": [
      "0.02275013194817921\n"
     ]
    }
   ],
   "source": [
    "from scipy.stats import norm\n",
    "\n",
    "p_130 = 1-norm.cdf(x=130, loc=100, scale=15)\n",
    "print(p_130)"
   ]
  },
  {
   "cell_type": "markdown",
   "metadata": {},
   "source": [
    "Therefore around 2% of the population is highly gifted. \n",
    "      \n",
    "We could also ask  which percentage of the population's IQ lies within a standard deviation of the mean value. Therefore we are interested in the probability \n",
    "\\begin{equation}\n",
    "P(85\\le X\\le 115) \n",
    "\\end{equation}\n"
   ]
  },
  {
   "cell_type": "code",
   "execution_count": 4,
   "metadata": {},
   "outputs": [
    {
     "name": "stdout",
     "output_type": "stream",
     "text": [
      "0.6826894921370859\n"
     ]
    }
   ],
   "source": [
    "p_85_115 = norm.cdf(x=115, loc=100, scale=15) - norm.cdf(x=85, loc=100, scale=15)\n",
    "print(p_85_115)"
   ]
  },
  {
   "cell_type": "markdown",
   "metadata": {},
   "source": [
    "I.e. approximately $2/3$ of the population have an IQ between 85 and 115. "
   ]
  }
 ],
 "metadata": {
  "kernelspec": {
   "display_name": "Python 3",
   "language": "python",
   "name": "python3"
  },
  "language_info": {
   "codemirror_mode": {
    "name": "ipython",
    "version": 3
   },
   "file_extension": ".py",
   "mimetype": "text/x-python",
   "name": "python",
   "nbconvert_exporter": "python",
   "pygments_lexer": "ipython3",
   "version": "3.7.6"
  },
  "widgets": {
   "application/vnd.jupyter.widget-state+json": {
    "state": {},
    "version_major": 2,
    "version_minor": 0
   }
  }
 },
 "nbformat": 4,
 "nbformat_minor": 4
}
