{
 "cells": [
  {
   "cell_type": "markdown",
   "metadata": {},
   "source": [
    "### Decision Trees Example 4.2\n",
    "We perform cost-complexity pruning to the **heart** data set. The function **cv.tree* in the **tree**-package provides the implementation of cross-validation for choosing an optimal value of $\\alpha$. The function returns a list that contains the vectors\n",
    "\n",
    "-  **path** is the vector of those $\\alpha$ values, where changes in $T_\\alpha$ occur\n",
    "-  **score** contains the corresponding averaged classification accuracies\n",
    "-  **node** is the vector containing the corresponding tree sizes. \n",
    "\n",
    "The following code computes a large tree and performs cost-complexity pruning where the parameter $\\alpha$ is chosen by $10$-fold cross-validation."
   ]
  },
  {
   "cell_type": "code",
   "execution_count": 1,
   "metadata": {},
   "outputs": [],
   "source": [
    "import numpy as np\n",
    "import pandas as pd\n",
    "import matplotlib.pyplot as plt\n",
    "from sklearn import tree\n",
    "\n",
    "# Load data\n",
    "df = pd.read_csv('./data/Heart.csv')\n",
    "\n",
    "# Replace Categorical Variable with dummies\n",
    "df = pd.get_dummies(data=df, columns=['AHD'], drop_first=True)\n",
    "df['ChestPain'], ChestPain_codes = pd.factorize(df['ChestPain'])\n",
    "df['Thal'], Thal_codes = pd.factorize(df['Thal'])\n",
    "# Drop NA rows:\n",
    "df.dropna(inplace=True)\n",
    "df.reset_index(inplace=True) # After removing NA\n",
    "\n",
    "# Split in test-train\n",
    "np.random.seed(2)\n",
    "i = df.index\n",
    "# Index of train\n",
    "i_train = np.random.choice(i, replace=False, size=int(250))\n",
    "\n",
    "# Save DataFrames\n",
    "df_train = df.iloc[i_train]\n",
    "df_test = df.drop(i_train)\n",
    "\n",
    "# Define x and y\n",
    "y_train = df_train['AHD_Yes']\n",
    "y_test = df_test['AHD_Yes']\n",
    "X_train = df_train.drop(columns=['AHD_Yes'])\n",
    "X_test = df_test.drop(columns=['AHD_Yes'])\n",
    "\n",
    "# Create and fit Decision tree classifier\n",
    "clf = tree.DecisionTreeClassifier(criterion='entropy',\n",
    "                                  min_samples_split=10, \n",
    "                                  min_samples_leaf=5, \n",
    "                                  min_impurity_decrease=0.005)\n",
    "\n",
    "path = clf.cost_complexity_pruning_path(X_train, y_train)"
   ]
  },
  {
   "cell_type": "markdown",
   "metadata": {},
   "source": [
    "We finally compare the classification error rate of the training set with the cross-validated error. Below these two errors are plotted against the number of nodes in the tree (tree size). It becomes obvious that the training error shrinks to zero as the complexity of the tree increases whereas the cross-validated value has a minimum for the tree above with $12$ terminal nodes."
   ]
  },
  {
   "cell_type": "code",
   "execution_count": 2,
   "metadata": {},
   "outputs": [
    {
     "data": {
      "image/png": "[encoded data removed]",
      "text/plain": [
       "<Figure size 576x360 with 1 Axes>"
      ]
     },
     "metadata": {
      "needs_background": "light"
     },
     "output_type": "display_data"
    }
   ],
   "source": [
    "# Find misclasses and size of respective Trees T(alpha)\n",
    "# Train:\n",
    "node = []\n",
    "score_train, score_test = [], []\n",
    "\n",
    "for alpha in path.ccp_alphas:\n",
    "    # Create and fit Decision tree classifier\n",
    "    clf = tree.DecisionTreeClassifier(criterion='entropy', \n",
    "                                      min_samples_split=10, \n",
    "                                      min_samples_leaf=5, \n",
    "                                      min_impurity_decrease=0.005, \n",
    "                                      ccp_alpha=alpha)\n",
    "    clf = clf.fit(X_train, y_train) \n",
    "    # Save node count:\n",
    "    node.append(clf.tree_.node_count)\n",
    "    # Save Scores\n",
    "    score_train.append(clf.score(X_train, y_train))\n",
    "    score_test.append(clf.score(X_test, y_test))\n",
    "    \n",
    "# Plot Score vs Size\n",
    "fig, ax = plt.subplots(figsize=(8, 5))\n",
    "ax.plot(node, score_train, \n",
    "        'r-o', drawstyle=\"steps-post\", label='train')\n",
    "ax.plot(node, score_test, \n",
    "        'g-o', drawstyle=\"steps-post\", label='test')\n",
    "ax.set_xlabel(\"Size\")\n",
    "ax.set_ylabel(\"Accuracy\")\n",
    "ax.set_title(\"Accuracy vs Tree Size\")\n",
    "plt.legend()\n",
    "plt.show()"
   ]
  }
 ],
 "metadata": {
  "kernelspec": {
   "display_name": "Python 3",
   "language": "python",
   "name": "python3"
  },
  "language_info": {
   "codemirror_mode": {
    "name": "ipython",
    "version": 3
   },
   "file_extension": ".py",
   "mimetype": "text/x-python",
   "name": "python",
   "nbconvert_exporter": "python",
   "pygments_lexer": "ipython3",
   "version": "3.7.6"
  },
  "widgets": {
   "application/vnd.jupyter.widget-state+json": {
    "state": {},
    "version_major": 2,
    "version_minor": 0
   }
  }
 },
 "nbformat": 4,
 "nbformat_minor": 5
}
