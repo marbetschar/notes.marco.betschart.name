{
 "cells": [
  {
   "cell_type": "markdown",
   "id": "4bb940c2-adfe-48e5-a465-7d6c0752048b",
   "metadata": {},
   "source": [
    "# Model Selection"
   ]
  },
  {
   "metadata": {
    "tags": [
     "remove-cell"
    ],
    "ExecuteTime": {
     "end_time": "2025-10-26T13:33:47.372031Z",
     "start_time": "2025-10-26T13:33:46.912906Z"
    }
   },
   "cell_type": "code",
   "source": "%pip install numpy arviz matplotlib pandas seaborn scipy preliz tqdm pymc",
   "id": "331c202c24db122a",
   "outputs": [
    {
     "name": "stdout",
     "output_type": "stream",
     "text": [
      "Requirement already satisfied: numpy in /Users/marbetschar/Development/marbetschar/notes/.venv/lib/python3.9/site-packages (1.26.4)\r\n",
      "Requirement already satisfied: arviz in /Users/marbetschar/Development/marbetschar/notes/.venv/lib/python3.9/site-packages (0.17.1)\r\n",
      "Requirement already satisfied: matplotlib in /Users/marbetschar/Development/marbetschar/notes/.venv/lib/python3.9/site-packages (3.9.4)\r\n",
      "Requirement already satisfied: pandas in /Users/marbetschar/Development/marbetschar/notes/.venv/lib/python3.9/site-packages (2.3.3)\r\n",
      "Requirement already satisfied: seaborn in /Users/marbetschar/Development/marbetschar/notes/.venv/lib/python3.9/site-packages (0.13.2)\r\n",
      "Requirement already satisfied: scipy in /Users/marbetschar/Development/marbetschar/notes/.venv/lib/python3.9/site-packages (1.12.0)\r\n",
      "Requirement already satisfied: preliz in /Users/marbetschar/Development/marbetschar/notes/.venv/lib/python3.9/site-packages (0.6.1)\r\n",
      "Requirement already satisfied: tqdm in /Users/marbetschar/Development/marbetschar/notes/.venv/lib/python3.9/site-packages (4.67.1)\r\n",
      "Requirement already satisfied: pymc in /Users/marbetschar/Development/marbetschar/notes/.venv/lib/python3.9/site-packages (5.12.0)\r\n",
      "Requirement already satisfied: setuptools>=60.0.0 in /Users/marbetschar/Development/marbetschar/notes/.venv/lib/python3.9/site-packages (from arviz) (80.9.0)\r\n",
      "Requirement already satisfied: packaging in /Users/marbetschar/Development/marbetschar/notes/.venv/lib/python3.9/site-packages (from arviz) (25.0)\r\n",
      "Requirement already satisfied: xarray>=0.21.0 in /Users/marbetschar/Development/marbetschar/notes/.venv/lib/python3.9/site-packages (from arviz) (2024.7.0)\r\n",
      "Requirement already satisfied: h5netcdf>=1.0.2 in /Users/marbetschar/Development/marbetschar/notes/.venv/lib/python3.9/site-packages (from arviz) (1.7.3)\r\n",
      "Requirement already satisfied: typing-extensions>=4.1.0 in /Users/marbetschar/Development/marbetschar/notes/.venv/lib/python3.9/site-packages (from arviz) (4.15.0)\r\n",
      "Requirement already satisfied: xarray-einstats>=0.3 in /Users/marbetschar/Development/marbetschar/notes/.venv/lib/python3.9/site-packages (from arviz) (0.7.0)\r\n",
      "Requirement already satisfied: contourpy>=1.0.1 in /Users/marbetschar/Development/marbetschar/notes/.venv/lib/python3.9/site-packages (from matplotlib) (1.3.0)\r\n",
      "Requirement already satisfied: cycler>=0.10 in /Users/marbetschar/Development/marbetschar/notes/.venv/lib/python3.9/site-packages (from matplotlib) (0.12.1)\r\n",
      "Requirement already satisfied: fonttools>=4.22.0 in /Users/marbetschar/Development/marbetschar/notes/.venv/lib/python3.9/site-packages (from matplotlib) (4.60.1)\r\n",
      "Requirement already satisfied: kiwisolver>=1.3.1 in /Users/marbetschar/Development/marbetschar/notes/.venv/lib/python3.9/site-packages (from matplotlib) (1.4.7)\r\n",
      "Requirement already satisfied: pillow>=8 in /Users/marbetschar/Development/marbetschar/notes/.venv/lib/python3.9/site-packages (from matplotlib) (11.3.0)\r\n",
      "Requirement already satisfied: pyparsing>=2.3.1 in /Users/marbetschar/Development/marbetschar/notes/.venv/lib/python3.9/site-packages (from matplotlib) (3.2.5)\r\n",
      "Requirement already satisfied: python-dateutil>=2.7 in /Users/marbetschar/Development/marbetschar/notes/.venv/lib/python3.9/site-packages (from matplotlib) (2.9.0.post0)\r\n",
      "Requirement already satisfied: importlib-resources>=3.2.0 in /Users/marbetschar/Development/marbetschar/notes/.venv/lib/python3.9/site-packages (from matplotlib) (6.5.2)\r\n",
      "Requirement already satisfied: pytz>=2020.1 in /Users/marbetschar/Development/marbetschar/notes/.venv/lib/python3.9/site-packages (from pandas) (2025.2)\r\n",
      "Requirement already satisfied: tzdata>=2022.7 in /Users/marbetschar/Development/marbetschar/notes/.venv/lib/python3.9/site-packages (from pandas) (2025.2)\r\n",
      "Requirement already satisfied: numba>=0.59 in /Users/marbetschar/Development/marbetschar/notes/.venv/lib/python3.9/site-packages (from preliz) (0.60.0)\r\n",
      "Requirement already satisfied: cachetools>=4.2.1 in /Users/marbetschar/Development/marbetschar/notes/.venv/lib/python3.9/site-packages (from pymc) (6.2.1)\r\n",
      "Requirement already satisfied: cloudpickle in /Users/marbetschar/Development/marbetschar/notes/.venv/lib/python3.9/site-packages (from pymc) (3.1.1)\r\n",
      "Requirement already satisfied: fastprogress>=0.2.0 in /Users/marbetschar/Development/marbetschar/notes/.venv/lib/python3.9/site-packages (from pymc) (1.0.3)\r\n",
      "Requirement already satisfied: pytensor<2.20,>=2.19 in /Users/marbetschar/Development/marbetschar/notes/.venv/lib/python3.9/site-packages (from pymc) (2.19.0)\r\n",
      "Requirement already satisfied: filelock in /Users/marbetschar/Development/marbetschar/notes/.venv/lib/python3.9/site-packages (from pytensor<2.20,>=2.19->pymc) (3.19.1)\r\n",
      "Requirement already satisfied: etuples in /Users/marbetschar/Development/marbetschar/notes/.venv/lib/python3.9/site-packages (from pytensor<2.20,>=2.19->pymc) (0.3.10)\r\n",
      "Requirement already satisfied: logical-unification in /Users/marbetschar/Development/marbetschar/notes/.venv/lib/python3.9/site-packages (from pytensor<2.20,>=2.19->pymc) (0.4.7)\r\n",
      "Requirement already satisfied: miniKanren in /Users/marbetschar/Development/marbetschar/notes/.venv/lib/python3.9/site-packages (from pytensor<2.20,>=2.19->pymc) (1.0.5)\r\n",
      "Requirement already satisfied: cons in /Users/marbetschar/Development/marbetschar/notes/.venv/lib/python3.9/site-packages (from pytensor<2.20,>=2.19->pymc) (0.4.7)\r\n",
      "Requirement already satisfied: h5py in /Users/marbetschar/Development/marbetschar/notes/.venv/lib/python3.9/site-packages (from h5netcdf>=1.0.2->arviz) (3.14.0)\r\n",
      "Requirement already satisfied: zipp>=3.1.0 in /Users/marbetschar/Development/marbetschar/notes/.venv/lib/python3.9/site-packages (from importlib-resources>=3.2.0->matplotlib) (3.23.0)\r\n",
      "Requirement already satisfied: llvmlite<0.44,>=0.43.0dev0 in /Users/marbetschar/Development/marbetschar/notes/.venv/lib/python3.9/site-packages (from numba>=0.59->preliz) (0.43.0)\r\n",
      "Requirement already satisfied: six>=1.5 in /Users/marbetschar/Development/marbetschar/notes/.venv/lib/python3.9/site-packages (from python-dateutil>=2.7->matplotlib) (1.17.0)\r\n",
      "Requirement already satisfied: toolz in /Users/marbetschar/Development/marbetschar/notes/.venv/lib/python3.9/site-packages (from logical-unification->pytensor<2.20,>=2.19->pymc) (1.1.0)\r\n",
      "Requirement already satisfied: multipledispatch in /Users/marbetschar/Development/marbetschar/notes/.venv/lib/python3.9/site-packages (from logical-unification->pytensor<2.20,>=2.19->pymc) (1.0.0)\r\n",
      "Note: you may need to restart the kernel to use updated packages.\n"
     ]
    }
   ],
   "execution_count": 1
  },
  {
   "cell_type": "markdown",
   "id": "df1dddf3-e5f9-4a1f-8a2d-8a6c88d22d6b",
   "metadata": {
    "tags": []
   },
   "source": [
    "Import necessary modules:"
   ]
  },
  {
   "cell_type": "code",
   "id": "c87c5605-5d5f-4491-8854-73c80a73954c",
   "metadata": {
    "ExecuteTime": {
     "end_time": "2025-10-26T13:33:47.772607Z",
     "start_time": "2025-10-26T13:33:47.377671Z"
    }
   },
   "source": [
    "import numpy as np\n",
    "import arviz as az\n",
    "import matplotlib.pyplot as plt\n",
    "import pandas as pd\n",
    "import seaborn as sns\n",
    "from scipy import stats\n",
    "from scipy.special import gamma\n",
    "import preliz as pz\n",
    "from tqdm.auto import tqdm\n",
    "import matplotlib as mpl\n",
    "import pymc as pm\n",
    "\n",
    "# Disable C compilation by using the Python-only mode:\n",
    "import pytensor\n",
    "pytensor.config.cxx = \"\"\n",
    "\n",
    "import os\n",
    "os.environ['PYTENSOR_FLAGS'] = 'cxx='"
   ],
   "outputs": [
    {
     "name": "stderr",
     "output_type": "stream",
     "text": [
      "WARNING (pytensor.tensor.blas): Using NumPy C-API based implementation for BLAS functions.\n",
      "/Users/marbetschar/Development/marbetschar/notes/.venv/lib/python3.9/site-packages/tqdm/auto.py:21: TqdmWarning: IProgress not found. Please update jupyter and ipywidgets. See https://ipywidgets.readthedocs.io/en/stable/user_install.html\n",
      "  from .autonotebook import tqdm as notebook_tqdm\n"
     ]
    }
   ],
   "execution_count": 2
  },
  {
   "cell_type": "code",
   "id": "13747b24-7ef3-434d-98ea-b72d66b519d6",
   "metadata": {
    "ExecuteTime": {
     "end_time": "2025-10-26T13:33:47.777404Z",
     "start_time": "2025-10-26T13:33:47.775757Z"
    }
   },
   "source": [
    "plt.style.use('ggplot')\n",
    "plt.rcParams[\"figure.figsize\"] = (12,3)"
   ],
   "outputs": [],
   "execution_count": 3
  },
  {
   "cell_type": "markdown",
   "id": "5112df57-f17b-49d2-84be-cd6b3f001fe9",
   "metadata": {},
   "source": [
    "Data (from maternity ward example used in the lecture):"
   ]
  },
  {
   "cell_type": "code",
   "id": "4f209ceb-1601-4c99-bb1e-8df8a9403e44",
   "metadata": {
    "ExecuteTime": {
     "end_time": "2025-10-26T13:33:47.781287Z",
     "start_time": "2025-10-26T13:33:47.779755Z"
    }
   },
   "source": [
    "y = np.array([ 7,  8,  3,  7, 11,  7,  9, 19,  7, 15,  9,  5, 12,  3,  7,  6,  5, 3, 11,  5])"
   ],
   "outputs": [],
   "execution_count": 4
  },
  {
   "cell_type": "markdown",
   "id": "85f3c4a9-e7ae-4137-96d1-860d58fc8931",
   "metadata": {},
   "source": [
    "## Compute Bayes factor"
   ]
  },
  {
   "cell_type": "markdown",
   "id": "ab11745b-0dcd-428e-ab7d-21b0504b272b",
   "metadata": {},
   "source": [
    "Simulate posteriors with SMC (sequential Monte Carlo). This algorithm (that wasn't introduced) computes the log-predictive density along the way, as introduced [here](https://www.pymc.io/projects/examples/en/latest/diagnostics_and_criticism/Bayes_factor.html)."
   ]
  },
  {
   "cell_type": "code",
   "id": "097bb725-cdb3-408f-8004-29e6ad60c3f3",
   "metadata": {
    "ExecuteTime": {
     "end_time": "2025-10-26T13:33:51.958488Z",
     "start_time": "2025-10-26T13:33:47.784186Z"
    }
   },
   "source": [
    "with pm.Model() as maternity_ward_model:\n",
    "    lbd = pm.Gamma( 'lbd', alpha=37.5, beta=2.5 )\n",
    "    y_obs = pm.Poisson( 'y_obs', mu=lbd, observed=y )\n",
    "    trace = pm.sample_smc( 1000, chains=4 )"
   ],
   "outputs": [
    {
     "name": "stderr",
     "output_type": "stream",
     "text": [
      "Initializing SMC sampler...\n",
      "Sampling 4 chains in 4 jobs\n"
     ]
    },
    {
     "name": "stdout",
     "output_type": "stream",
     "text": [
      " |----------------------------------------| 0.00% [0/100 00:00<?]\r"
     ]
    },
    {
     "name": "stderr",
     "output_type": "stream",
     "text": [
      "WARNING (pytensor.tensor.blas): Using NumPy C-API based implementation for BLAS functions.\n",
      "WARNING (pytensor.tensor.blas): Using NumPy C-API based implementation for BLAS functions.\n",
      "WARNING (pytensor.tensor.blas): Using NumPy C-API based implementation for BLAS functions.\n",
      "WARNING (pytensor.tensor.blas): Using NumPy C-API based implementation for BLAS functions.\n"
     ]
    },
    {
     "name": "stdout",
     "output_type": "stream",
     "text": [
      " |████████████████████████████████████████| 100.00% [100/100 00:00<?  Stage: 4 Beta: 1.000]\r"
     ]
    }
   ],
   "execution_count": 5
  },
  {
   "cell_type": "code",
   "id": "b307c7b0-d6e6-43ea-afb9-437deba722fe",
   "metadata": {
    "ExecuteTime": {
     "end_time": "2025-10-26T13:33:58.679481Z",
     "start_time": "2025-10-26T13:33:51.987003Z"
    }
   },
   "source": [
    "with pm.Model() as maternity_ward_model2:\n",
    "    lbd = pm.Gamma( 'lbd', alpha=37.5, beta=2.5 )\n",
    "    alpha = pm.Gamma( 'alpha', alpha=2, beta=0.1 )\n",
    "    y_obs = pm.NegativeBinomial( 'y_obs', mu=lbd, alpha=alpha, observed=y )\n",
    "    trace2 = pm.sample_smc( 1000, chains=4 )"
   ],
   "outputs": [
    {
     "name": "stderr",
     "output_type": "stream",
     "text": [
      "Initializing SMC sampler...\n",
      "Sampling 4 chains in 4 jobs\n"
     ]
    },
    {
     "name": "stdout",
     "output_type": "stream",
     "text": [
      " |----------------------------------------| 0.00% [0/100 00:00<?]\r"
     ]
    },
    {
     "name": "stderr",
     "output_type": "stream",
     "text": [
      "WARNING (pytensor.tensor.blas): Using NumPy C-API based implementation for BLAS functions.\n",
      "WARNING (pytensor.tensor.blas): Using NumPy C-API based implementation for BLAS functions.\n",
      "WARNING (pytensor.tensor.blas): Using NumPy C-API based implementation for BLAS functions.\n",
      "WARNING (pytensor.tensor.blas): Using NumPy C-API based implementation for BLAS functions.\n"
     ]
    },
    {
     "name": "stdout",
     "output_type": "stream",
     "text": [
      " |████████████████████████████████████████| 100.00% [100/100 00:00<?  Stage: 3 Beta: 1.000]\r"
     ]
    }
   ],
   "execution_count": 6
  },
  {
   "cell_type": "markdown",
   "id": "61746c09-8e4f-4983-8adf-e10de7b7721e",
   "metadata": {},
   "source": [
    "Compute Bayes factor:"
   ]
  },
  {
   "cell_type": "code",
   "id": "9484cc1f-1cd7-4bf1-b3ce-57f09a7dfcaf",
   "metadata": {
    "ExecuteTime": {
     "end_time": "2025-10-26T13:33:58.692353Z",
     "start_time": "2025-10-26T13:33:58.688405Z"
    }
   },
   "source": [
    "lpd1 = trace.sample_stats.log_marginal_likelihood.mean().values\n",
    "lpd2 = trace2.sample_stats.log_marginal_likelihood.mean().values\n",
    "BF = np.exp( lpd2 - lpd1 )\n",
    "BF"
   ],
   "outputs": [
    {
     "data": {
      "text/plain": [
       "18.892503933615128"
      ]
     },
     "execution_count": 7,
     "metadata": {},
     "output_type": "execute_result"
    }
   ],
   "execution_count": 7
  },
  {
   "cell_type": "markdown",
   "id": "7d2a7b62-480c-4577-9a4c-883fa3b6e387",
   "metadata": {},
   "source": [
    "## Expected Log Predictive Density (ELPD)"
   ]
  },
  {
   "cell_type": "markdown",
   "id": "22dc9f91-75fd-4af5-a94b-4b970ee8ac9c",
   "metadata": {},
   "source": [
    "Compute log-likelihoods and leave-one-out (LOO) cross validation estimates:"
   ]
  },
  {
   "cell_type": "code",
   "id": "6e3b864d-487b-4713-b3e7-2c5afeddc813",
   "metadata": {
    "ExecuteTime": {
     "end_time": "2025-10-26T13:33:59.258891Z",
     "start_time": "2025-10-26T13:33:58.699177Z"
    }
   },
   "source": [
    "with maternity_ward_model:\n",
    "    pm.compute_log_likelihood(trace)\n",
    "loo1 = pm.loo( trace )"
   ],
   "outputs": [
    {
     "data": {
      "text/plain": [
       "<IPython.core.display.HTML object>"
      ],
      "text/html": [
       "\n",
       "<style>\n",
       "    /* Turns off some styling */\n",
       "    progress {\n",
       "        /* gets rid of default border in Firefox and Opera. */\n",
       "        border: none;\n",
       "        /* Needs to be in here for Safari polyfill so background images work as expected. */\n",
       "        background-size: auto;\n",
       "    }\n",
       "    progress:not([value]), progress:not([value])::-webkit-progress-bar {\n",
       "        background: repeating-linear-gradient(45deg, #7e7e7e, #7e7e7e 10px, #5c5c5c 10px, #5c5c5c 20px);\n",
       "    }\n",
       "    .progress-bar-interrupted, .progress-bar-interrupted::-webkit-progress-bar {\n",
       "        background: #F44336;\n",
       "    }\n",
       "</style>\n"
      ]
     },
     "metadata": {},
     "output_type": "display_data",
     "jetTransient": {
      "display_id": null
     }
    },
    {
     "data": {
      "text/plain": [
       "<IPython.core.display.HTML object>"
      ],
      "text/html": [
       "\n",
       "    <div>\n",
       "      <progress value='4000' class='' max='4000' style='width:300px; height:20px; vertical-align: middle;'></progress>\n",
       "      100.00% [4000/4000 00:00&lt;00:00]\n",
       "    </div>\n",
       "    "
      ]
     },
     "metadata": {},
     "output_type": "display_data",
     "jetTransient": {
      "display_id": "c4da51c77a23ce92cd203e387f17e3d1"
     }
    }
   ],
   "execution_count": 8
  },
  {
   "cell_type": "code",
   "id": "f089e843-f837-4186-8e9e-ba4dbb231077",
   "metadata": {
    "ExecuteTime": {
     "end_time": "2025-10-26T13:34:00.398842Z",
     "start_time": "2025-10-26T13:33:59.267096Z"
    }
   },
   "source": [
    "with maternity_ward_model2:\n",
    "    pm.compute_log_likelihood(trace2)\n",
    "loo2 = pm.loo( trace2 )"
   ],
   "outputs": [
    {
     "data": {
      "text/plain": [
       "<IPython.core.display.HTML object>"
      ],
      "text/html": [
       "\n",
       "<style>\n",
       "    /* Turns off some styling */\n",
       "    progress {\n",
       "        /* gets rid of default border in Firefox and Opera. */\n",
       "        border: none;\n",
       "        /* Needs to be in here for Safari polyfill so background images work as expected. */\n",
       "        background-size: auto;\n",
       "    }\n",
       "    progress:not([value]), progress:not([value])::-webkit-progress-bar {\n",
       "        background: repeating-linear-gradient(45deg, #7e7e7e, #7e7e7e 10px, #5c5c5c 10px, #5c5c5c 20px);\n",
       "    }\n",
       "    .progress-bar-interrupted, .progress-bar-interrupted::-webkit-progress-bar {\n",
       "        background: #F44336;\n",
       "    }\n",
       "</style>\n"
      ]
     },
     "metadata": {},
     "output_type": "display_data",
     "jetTransient": {
      "display_id": null
     }
    },
    {
     "data": {
      "text/plain": [
       "<IPython.core.display.HTML object>"
      ],
      "text/html": [
       "\n",
       "    <div>\n",
       "      <progress value='4000' class='' max='4000' style='width:300px; height:20px; vertical-align: middle;'></progress>\n",
       "      100.00% [4000/4000 00:01&lt;00:00]\n",
       "    </div>\n",
       "    "
      ]
     },
     "metadata": {},
     "output_type": "display_data",
     "jetTransient": {
      "display_id": "329e7f2c42e0550e174d096244ca023a"
     }
    }
   ],
   "execution_count": 9
  },
  {
   "cell_type": "markdown",
   "id": "b5c6cebe-56de-456a-8173-8ce087cf73e7",
   "metadata": {},
   "source": [
    "Compare:"
   ]
  },
  {
   "cell_type": "code",
   "id": "9108c4f6-9d17-4673-82c5-391e5a31ad28",
   "metadata": {
    "ExecuteTime": {
     "end_time": "2025-10-26T13:34:00.430300Z",
     "start_time": "2025-10-26T13:34:00.418827Z"
    }
   },
   "source": [
    "df_comp_loo = pm.compare({'Poisson Likelihood': loo1, 'Negative Binomial Likelihood': loo2})\n",
    "df_comp_loo"
   ],
   "outputs": [
    {
     "data": {
      "text/plain": [
       "                              rank   elpd_loo     p_loo  elpd_diff    weight  \\\n",
       "Negative Binomial Likelihood     0 -56.765097  1.489979   0.000000  0.902029   \n",
       "Poisson Likelihood               1 -58.816273  1.715883   2.051176  0.097971   \n",
       "\n",
       "                                    se       dse  warning scale  \n",
       "Negative Binomial Likelihood  3.010696  0.000000    False   log  \n",
       "Poisson Likelihood            5.569997  2.567354    False   log  "
      ],
      "text/html": [
       "<div>\n",
       "<style scoped>\n",
       "    .dataframe tbody tr th:only-of-type {\n",
       "        vertical-align: middle;\n",
       "    }\n",
       "\n",
       "    .dataframe tbody tr th {\n",
       "        vertical-align: top;\n",
       "    }\n",
       "\n",
       "    .dataframe thead th {\n",
       "        text-align: right;\n",
       "    }\n",
       "</style>\n",
       "<table border=\"1\" class=\"dataframe\">\n",
       "  <thead>\n",
       "    <tr style=\"text-align: right;\">\n",
       "      <th></th>\n",
       "      <th>rank</th>\n",
       "      <th>elpd_loo</th>\n",
       "      <th>p_loo</th>\n",
       "      <th>elpd_diff</th>\n",
       "      <th>weight</th>\n",
       "      <th>se</th>\n",
       "      <th>dse</th>\n",
       "      <th>warning</th>\n",
       "      <th>scale</th>\n",
       "    </tr>\n",
       "  </thead>\n",
       "  <tbody>\n",
       "    <tr>\n",
       "      <th>Negative Binomial Likelihood</th>\n",
       "      <td>0</td>\n",
       "      <td>-56.765097</td>\n",
       "      <td>1.489979</td>\n",
       "      <td>0.000000</td>\n",
       "      <td>0.902029</td>\n",
       "      <td>3.010696</td>\n",
       "      <td>0.000000</td>\n",
       "      <td>False</td>\n",
       "      <td>log</td>\n",
       "    </tr>\n",
       "    <tr>\n",
       "      <th>Poisson Likelihood</th>\n",
       "      <td>1</td>\n",
       "      <td>-58.816273</td>\n",
       "      <td>1.715883</td>\n",
       "      <td>2.051176</td>\n",
       "      <td>0.097971</td>\n",
       "      <td>5.569997</td>\n",
       "      <td>2.567354</td>\n",
       "      <td>False</td>\n",
       "      <td>log</td>\n",
       "    </tr>\n",
       "  </tbody>\n",
       "</table>\n",
       "</div>"
      ]
     },
     "execution_count": 10,
     "metadata": {},
     "output_type": "execute_result"
    }
   ],
   "execution_count": 10
  },
  {
   "cell_type": "markdown",
   "id": "1f39bab9-0d33-4fc8-981c-81b6d467da4a",
   "metadata": {},
   "source": [
    "Plot:"
   ]
  },
  {
   "cell_type": "code",
   "id": "c80de8d5-a013-4d4d-8c8d-588b1da60da1",
   "metadata": {
    "ExecuteTime": {
     "end_time": "2025-10-26T13:34:00.546235Z",
     "start_time": "2025-10-26T13:34:00.453122Z"
    }
   },
   "source": [
    "pm.plot_compare(df_comp_loo);"
   ],
   "outputs": [
    {
     "data": {
      "text/plain": [
       "<Figure size 600x200 with 1 Axes>"
      ],
      "image/png": "[encoded data removed]"
     },
     "metadata": {},
     "output_type": "display_data",
     "jetTransient": {
      "display_id": null
     }
    }
   ],
   "execution_count": 11
  },
  {
   "cell_type": "markdown",
   "id": "e8ddb82f-cefa-42e3-92ca-3a54ea4a0ef4",
   "metadata": {},
   "source": [
    "The computed ELPDs overlap strongly! By the one-standard-error rule, we should settle for the simpler Poisson model that only contains one parameter, even though the assumptions it makes are worse."
   ]
  },
  {
   "cell_type": "markdown",
   "id": "26289928-971d-4eaf-a87e-c7efc37b95b0",
   "metadata": {},
   "source": [
    "## Compute classical predictive metrics"
   ]
  },
  {
   "cell_type": "markdown",
   "id": "0fbfb247-f35c-4621-8a77-b00fa5036e56",
   "metadata": {},
   "source": [
    "Sample predictions:"
   ]
  },
  {
   "cell_type": "code",
   "id": "8718b5c1-bdca-40ad-ba21-64193549767b",
   "metadata": {
    "ExecuteTime": {
     "end_time": "2025-10-26T13:34:00.950633Z",
     "start_time": "2025-10-26T13:34:00.597420Z"
    }
   },
   "source": [
    "with maternity_ward_model:\n",
    "    ppc = pm.sample_posterior_predictive(trace)\n",
    "\n",
    "with maternity_ward_model2:\n",
    "    ppc2 = pm.sample_posterior_predictive(trace2)"
   ],
   "outputs": [
    {
     "name": "stderr",
     "output_type": "stream",
     "text": [
      "Sampling: [y_obs]\n"
     ]
    },
    {
     "data": {
      "text/plain": [
       "<IPython.core.display.HTML object>"
      ],
      "text/html": [
       "\n",
       "<style>\n",
       "    /* Turns off some styling */\n",
       "    progress {\n",
       "        /* gets rid of default border in Firefox and Opera. */\n",
       "        border: none;\n",
       "        /* Needs to be in here for Safari polyfill so background images work as expected. */\n",
       "        background-size: auto;\n",
       "    }\n",
       "    progress:not([value]), progress:not([value])::-webkit-progress-bar {\n",
       "        background: repeating-linear-gradient(45deg, #7e7e7e, #7e7e7e 10px, #5c5c5c 10px, #5c5c5c 20px);\n",
       "    }\n",
       "    .progress-bar-interrupted, .progress-bar-interrupted::-webkit-progress-bar {\n",
       "        background: #F44336;\n",
       "    }\n",
       "</style>\n"
      ]
     },
     "metadata": {},
     "output_type": "display_data",
     "jetTransient": {
      "display_id": null
     }
    },
    {
     "data": {
      "text/plain": [
       "<IPython.core.display.HTML object>"
      ],
      "text/html": [
       "\n",
       "    <div>\n",
       "      <progress value='4000' class='' max='4000' style='width:300px; height:20px; vertical-align: middle;'></progress>\n",
       "      100.00% [4000/4000 00:00&lt;00:00]\n",
       "    </div>\n",
       "    "
      ]
     },
     "metadata": {},
     "output_type": "display_data",
     "jetTransient": {
      "display_id": "a93cfb1355d8ed26a8849ee46fb24938"
     }
    },
    {
     "name": "stderr",
     "output_type": "stream",
     "text": [
      "Sampling: [y_obs]\n"
     ]
    },
    {
     "data": {
      "text/plain": [
       "<IPython.core.display.HTML object>"
      ],
      "text/html": [
       "\n",
       "<style>\n",
       "    /* Turns off some styling */\n",
       "    progress {\n",
       "        /* gets rid of default border in Firefox and Opera. */\n",
       "        border: none;\n",
       "        /* Needs to be in here for Safari polyfill so background images work as expected. */\n",
       "        background-size: auto;\n",
       "    }\n",
       "    progress:not([value]), progress:not([value])::-webkit-progress-bar {\n",
       "        background: repeating-linear-gradient(45deg, #7e7e7e, #7e7e7e 10px, #5c5c5c 10px, #5c5c5c 20px);\n",
       "    }\n",
       "    .progress-bar-interrupted, .progress-bar-interrupted::-webkit-progress-bar {\n",
       "        background: #F44336;\n",
       "    }\n",
       "</style>\n"
      ]
     },
     "metadata": {},
     "output_type": "display_data",
     "jetTransient": {
      "display_id": null
     }
    },
    {
     "data": {
      "text/plain": [
       "<IPython.core.display.HTML object>"
      ],
      "text/html": [
       "\n",
       "    <div>\n",
       "      <progress value='4000' class='' max='4000' style='width:300px; height:20px; vertical-align: middle;'></progress>\n",
       "      100.00% [4000/4000 00:00&lt;00:00]\n",
       "    </div>\n",
       "    "
      ]
     },
     "metadata": {},
     "output_type": "display_data",
     "jetTransient": {
      "display_id": "d3740b6f4fadd1bb83088477f7194aaa"
     }
    }
   ],
   "execution_count": 12
  },
  {
   "cell_type": "markdown",
   "id": "a47fc698-6a2d-4111-a962-a9bd08bf9f31",
   "metadata": {},
   "source": [
    "Reshape predictions such that broadcasted difference with $y$ is possible:"
   ]
  },
  {
   "cell_type": "code",
   "id": "1cc44b46-f904-4e6b-938b-e4644754c9ab",
   "metadata": {
    "ExecuteTime": {
     "end_time": "2025-10-26T13:34:00.956398Z",
     "start_time": "2025-10-26T13:34:00.953897Z"
    }
   },
   "source": [
    "ypred1 = ppc.posterior_predictive.y_obs.values.reshape(-1,20)\n",
    "ypred2 = ppc2.posterior_predictive.y_obs.values.reshape(-1,20)\n",
    "ypred1.shape, ypred2.shape"
   ],
   "outputs": [
    {
     "data": {
      "text/plain": [
       "((4000, 20), (4000, 20))"
      ]
     },
     "execution_count": 13,
     "metadata": {},
     "output_type": "execute_result"
    }
   ],
   "execution_count": 13
  },
  {
   "cell_type": "markdown",
   "id": "1847d938-c8f6-4d86-a921-2742dd0b459b",
   "metadata": {},
   "source": [
    "Compute differences:"
   ]
  },
  {
   "cell_type": "code",
   "id": "f625986a-1b5f-4a1e-a2be-01cb7685272f",
   "metadata": {
    "ExecuteTime": {
     "end_time": "2025-10-26T13:34:00.963559Z",
     "start_time": "2025-10-26T13:34:00.961929Z"
    }
   },
   "source": [
    "eps1 = ypred1-y\n",
    "eps2 = ypred2-y"
   ],
   "outputs": [],
   "execution_count": 14
  },
  {
   "cell_type": "markdown",
   "id": "0faceb42-eef1-42a0-a11b-c45d58ce316d",
   "metadata": {},
   "source": [
    "RMSE:"
   ]
  },
  {
   "cell_type": "code",
   "id": "fda24ee5-d6ac-4c1c-9b5e-fb37975c27a8",
   "metadata": {
    "ExecuteTime": {
     "end_time": "2025-10-26T13:34:00.974996Z",
     "start_time": "2025-10-26T13:34:00.972130Z"
    }
   },
   "source": [
    "rmse1 = np.sqrt(np.mean( eps1**2 ))\n",
    "rmse2 = np.sqrt(np.mean( eps2**2 ))\n",
    "rmse1, rmse2"
   ],
   "outputs": [
    {
     "data": {
      "text/plain": [
       "(5.052799966355288, 6.235363862678745)"
      ]
     },
     "execution_count": 15,
     "metadata": {},
     "output_type": "execute_result"
    }
   ],
   "execution_count": 15
  },
  {
   "cell_type": "markdown",
   "id": "5595e651-e136-4ff0-9d8f-16bb0f8a6170",
   "metadata": {},
   "source": [
    "MAE:"
   ]
  },
  {
   "cell_type": "code",
   "id": "c3207e78-dc43-42a4-b52b-1bfef516b118",
   "metadata": {
    "ExecuteTime": {
     "end_time": "2025-10-26T13:34:00.982703Z",
     "start_time": "2025-10-26T13:34:00.980354Z"
    }
   },
   "source": [
    "mae1 = np.mean( np.abs(eps1) )\n",
    "mae2 = np.mean( np.abs(eps2) )\n",
    "mae1, mae2"
   ],
   "outputs": [
    {
     "data": {
      "text/plain": [
       "(3.9885125, 4.8146875)"
      ]
     },
     "execution_count": 16,
     "metadata": {},
     "output_type": "execute_result"
    }
   ],
   "execution_count": 16
  },
  {
   "cell_type": "markdown",
   "id": "3b129b32-9fdc-4554-8c67-8d828a6b508c",
   "metadata": {},
   "source": [
    "The predictions of the Poisson model are closer to the data!"
   ]
  }
 ],
 "metadata": {
  "kernelspec": {
   "display_name": "Python 3 (ipykernel)",
   "language": "python",
   "name": "python3"
  },
  "language_info": {
   "codemirror_mode": {
    "name": "ipython",
    "version": 3
   },
   "file_extension": ".py",
   "mimetype": "text/x-python",
   "name": "python",
   "nbconvert_exporter": "python",
   "pygments_lexer": "ipython3",
   "version": "3.10.12"
  }
 },
 "nbformat": 4,
 "nbformat_minor": 5
}
