{
 "cells": [
  {
   "metadata": {},
   "cell_type": "markdown",
   "source": "# Exercises",
   "id": "b3d719e20fc1d947"
  },
  {
   "cell_type": "code",
   "id": "initial_id",
   "metadata": {
    "collapsed": true,
    "ExecuteTime": {
     "end_time": "2025-10-26T13:13:11.911110Z",
     "start_time": "2025-10-26T13:13:11.178351Z"
    }
   },
   "source": [
    "import pandas\n",
    "import numpy as np\n",
    "from scipy import stats\n",
    "import matplotlib.pyplot as plt\n",
    "plt.rcParams[\"figure.figsize\"] = (15,3)"
   ],
   "outputs": [],
   "execution_count": 1
  },
  {
   "metadata": {},
   "cell_type": "markdown",
   "source": [
    "# Exercise 1: What view of probability is more appropriate?\n",
    "\n",
    "Decide whether you would rather use a frequentist or a Bayesian understanding of probability\n",
    "to answer the following problems:"
   ],
   "id": "f17239aff1a366bf"
  },
  {
   "metadata": {},
   "cell_type": "markdown",
   "source": [
    "**a) A medical researcher wants to determine the exact rate of prostate cancer for males between 50 and 60 in Switzerland.**\n",
    "\n",
    "To answer this we use the Frequentist understanding of probability because we want to predict a rate for a group of people - not a specific individual."
   ],
   "id": "9bfa4469633392ac"
  },
  {
   "metadata": {},
   "cell_type": "markdown",
   "source": [
    "**b) A gambler goes into a casino and looks for the game with the highest probability of winning money.**\n",
    "\n",
    "For this we want to use the Frequentist understanding of probability because we are interested in the likeliness of different outcomes of the repeatable games."
   ],
   "id": "67afb0484d768a54"
  },
  {
   "metadata": {},
   "cell_type": "markdown",
   "source": [
    "**c) A poker player wants to create a mathematical model that predicts the moves of his opponents. He knows the strategies of most of his opponents quite well.**\n",
    "\n",
    "We need to use the Bayesian understanding of probability because we want to predict the moves of individual for which we already have some prior knowledge."
   ],
   "id": "5460875829859384"
  },
  {
   "metadata": {},
   "cell_type": "markdown",
   "source": [
    "**d) A particle physicist has run an interesting experiment. Now she wants to assess whether the collected data puts the standard model of particle physics into question. From her education she knows that a long series of experiments have confirmed the standard model.**\n",
    "\n",
    "Because we don't have a lot of data, we should use the Bayesian approach to figure out if the collected data might put the standard model of particle physics into question."
   ],
   "id": "999d22a052c17a56"
  },
  {
   "metadata": {},
   "cell_type": "markdown",
   "source": [
    "**e) An insurance company wants to estimate the number of car accidents per year in their portfolio to guess what reserves that they have to put aside.**\n",
    "\n",
    "We use the Frequentist approach because we are interested in probabilities of historical events."
   ],
   "id": "4ef8be8255e8a8f9"
  },
  {
   "metadata": {},
   "cell_type": "markdown",
   "source": [
    "**f) An economist predicts inflation rates in different countries for next year.**\n",
    "\n",
    "We should use Bayesian probability to do this estimation - because we can incorporate existing prior knowledge about the countries in question. Also, we can't run experiments to establish probability distribution."
   ],
   "id": "2546d32129134030"
  },
  {
   "metadata": {},
   "cell_type": "markdown",
   "source": [
    "**g) A doctor is asking himself whether you could have scabies.**\n",
    "\n",
    "We use the Bayesian approach because we want to say something about an individual using existing beliefs of the doctor."
   ],
   "id": "c5260ac764b23b8a"
  },
  {
   "metadata": {},
   "cell_type": "markdown",
   "source": [
    "**h) An engineer is in charge of a production process producing thousands of special screws throughout a day. Her boss asks her to give an estimate of the rate of defective screws.**\n",
    "\n",
    "We use the Frequentist approach using historical data to estimate the future likeliness of screws which are defective."
   ],
   "id": "e37c49bced11897b"
  },
  {
   "metadata": {},
   "cell_type": "markdown",
   "source": [
    "# Exercise 2: The law of large numbers\n",
    "The law of large numbers states that a relative frequency will stabilize in the limit of large\n",
    "numbers (respectively infnitely). Write a short numpy code that simulates N coin tosses and\n",
    "computes the cumulative relative frequency at each subsequent coin toss. Visualize this cumulative relative frequency. Does your simulation stably reach 0.5 in the limit of large N? How\n",
    "large does N approximately need to be to reach at least three zeros behind the 0.5? (or three\n",
    "nines behind the 0.4)"
   ],
   "id": "9d4184df8a5df7e8"
  },
  {
   "metadata": {
    "ExecuteTime": {
     "end_time": "2025-10-26T13:13:12.091279Z",
     "start_time": "2025-10-26T13:13:11.916859Z"
    }
   },
   "cell_type": "code",
   "source": [
    "N = 25_000\n",
    "\n",
    "heads = 0\n",
    "converged_after_n = None\n",
    "converged_lower_bound = 0.4999\n",
    "converged_upper_bound = 0.5\n",
    "\n",
    "cumulative_relative_frequencies = []\n",
    "\n",
    "for i in range(N):\n",
    "    toss = np.random.randint(2)\n",
    "\n",
    "    if toss == 0:\n",
    "        heads += 1\n",
    "\n",
    "    p = heads / (i + 1)\n",
    "    p_prev = 0\n",
    "\n",
    "    if len(cumulative_relative_frequencies) > 0:\n",
    "        p_prev = cumulative_relative_frequencies[-1]\n",
    "\n",
    "    if converged_after_n is None and p <= converged_upper_bound and p >= converged_lower_bound and abs(p - p_prev) <= converged_upper_bound - converged_lower_bound:\n",
    "        converged_after_n = i\n",
    "    cumulative_relative_frequencies.append(p)\n",
    "\n",
    "plt.title(f\"P(heads), Converged after {converged_after_n} coin tosses\")\n",
    "plt.axhline(0.5, color='red', linestyle='dotted')\n",
    "plt.plot(cumulative_relative_frequencies)"
   ],
   "id": "cd8cd729d1fb2d02",
   "outputs": [
    {
     "data": {
      "text/plain": [
       "[<matplotlib.lines.Line2D at 0x32ef5cc70>]"
      ]
     },
     "execution_count": 2,
     "metadata": {},
     "output_type": "execute_result"
    },
    {
     "data": {
      "text/plain": [
       "<Figure size 1500x300 with 1 Axes>"
      ],
      "image/png": "[encoded data removed]"
     },
     "metadata": {},
     "output_type": "display_data",
     "jetTransient": {
      "display_id": null
     }
    }
   ],
   "execution_count": 2
  },
  {
   "metadata": {},
   "cell_type": "markdown",
   "source": [
    "# Exercise 3: Binomially distributed random variables\n",
    "\n",
    "A manufacturing company produces small pumps that go into ship motors. Your boss claims\n",
    "that they have estimated the rate of defect pumps to be π = 5%. The company produces 20\n",
    "pumps per day. To compute probabilities of different daily outcomes for the number of broken\n",
    "pumps Y, you may use the binomial distribution:\n",
    "\n",
    "$$\n",
    "P(Y = k|\\pi) = {n \\choose k} \\pi^{k} (1 - \\pi)^{n-k}\n",
    "$$\n",
    "\n",
    "You may use Python to give your answers! (e.g. with scipy.stats.binom)."
   ],
   "id": "d78f99b8a26035d2"
  },
  {
   "metadata": {},
   "cell_type": "markdown",
   "source": [
    "a) What is the probability that exactly 5% of the pumps are defective on a production day?\n",
    "Try to compute your answer also in plain Python (using math.comb() for the binomial\n",
    "coefficient)."
   ],
   "id": "52f8fa895480ce56"
  },
  {
   "metadata": {},
   "cell_type": "markdown",
   "source": [
    "$$\n",
    "\\pi = 0.05, \\quad n = 20, \\quad k = \\pi \\cdot n = 0.05 \\cdot 20 = 1\n",
    "$$\n",
    "\n",
    "$$\n",
    "\\begin{align}\n",
    "P(Y = 1 | 0.05) &= \\binom{20}{1} \\cdot 0.05^{1} \\cdot (1-0.05)^{20-1} \\\\\n",
    "&= \\frac{20!}{1! (20-1)!} \\cdot 0.05^{1} \\cdot (1-0.05)^{20-1} \\\\\n",
    "&= 20 \\cdot 0.05 \\cdot 0.95^{19} \\\\\n",
    "&= 0.3774\n",
    "\\end{align}\n",
    "$$"
   ],
   "id": "17c9b5a1e98d35f9"
  },
  {
   "metadata": {
    "ExecuteTime": {
     "end_time": "2025-10-26T13:13:12.140966Z",
     "start_time": "2025-10-26T13:13:12.110594Z"
    }
   },
   "cell_type": "code",
   "source": [
    "import math\n",
    "\n",
    "n = 20\n",
    "k = 1\n",
    "p = 0.05\n",
    "\n",
    "p1 = math.comb(n, k) * p ** k * (1 - p) ** (n - k)\n",
    "p2 = stats.binom.pmf(k, n, p)\n",
    "\n",
    "print(f\"python: {p1}, scipy: {p2}\")"
   ],
   "id": "b79a274946be9cd7",
   "outputs": [
    {
     "name": "stdout",
     "output_type": "stream",
     "text": [
      "python: 0.37735360253530725, scipy: 0.37735360253530764\n"
     ]
    }
   ],
   "execution_count": 3
  },
  {
   "metadata": {},
   "cell_type": "markdown",
   "source": [
    "b) Draw the probability mass function for the number of defective pumps per day with a\n",
    "bar plot."
   ],
   "id": "1745e280f61751a6"
  },
  {
   "metadata": {
    "ExecuteTime": {
     "end_time": "2025-10-26T13:13:12.222737Z",
     "start_time": "2025-10-26T13:13:12.153098Z"
    }
   },
   "cell_type": "code",
   "source": [
    "x = np.arange(0, 20)\n",
    "pmf = stats.binom.pmf(x, n, p)\n",
    "plt.bar(x, pmf)\n",
    "pmf"
   ],
   "id": "137c08a9ff635e35",
   "outputs": [
    {
     "data": {
      "text/plain": [
       "array([3.58485922e-01, 3.77353603e-01, 1.88676801e-01, 5.95821478e-02,\n",
       "       1.33275857e-02, 2.24464601e-03, 2.95348159e-04, 3.10892799e-05,\n",
       "       2.65895157e-06, 1.86593093e-07, 1.08027580e-08, 5.16878373e-10,\n",
       "       2.04030937e-11, 6.60828945e-13, 1.73902354e-14, 3.66110219e-16,\n",
       "       6.02154965e-18, 7.45702744e-20, 6.54125214e-22, 3.62396240e-24])"
      ]
     },
     "execution_count": 4,
     "metadata": {},
     "output_type": "execute_result"
    },
    {
     "data": {
      "text/plain": [
       "<Figure size 1500x300 with 1 Axes>"
      ],
      "image/png": "[encoded data removed]"
     },
     "metadata": {},
     "output_type": "display_data",
     "jetTransient": {
      "display_id": null
     }
    }
   ],
   "execution_count": 4
  },
  {
   "metadata": {},
   "cell_type": "markdown",
   "source": [
    "c) What is the probability that more than 3 pumps are defective on a production day? Use\n",
    "the cumulative distribution function (CDF)."
   ],
   "id": "8d7a4dff49f4f610"
  },
  {
   "metadata": {
    "ExecuteTime": {
     "end_time": "2025-10-26T13:13:12.283657Z",
     "start_time": "2025-10-26T13:13:12.236595Z"
    }
   },
   "cell_type": "code",
   "source": [
    "n = 20\n",
    "k = 3\n",
    "p = 0.05\n",
    "x = np.arange(0, n)\n",
    "\n",
    "p_k_or_less_defective = stats.binom.cdf(n = n, k = k, p = p)\n",
    "p_more_than_k_defective = 1 - p_k_or_less_defective\n",
    "\n",
    "print(f\"P(defective <= {k}) = {p_k_or_less_defective}\")\n",
    "print(f\"P(defective > {k}) = {p_more_than_k_defective}\")\n",
    "\n",
    "plt.plot(x, stats.binom.cdf(n = n, k = x, p = p))\n",
    "plt.axvline(k, color='red', linestyle='dotted')\n",
    "plt.axhline(1 - p_more_than_k_defective, color='red', linestyle='dotted')"
   ],
   "id": "413b13e0a1154341",
   "outputs": [
    {
     "name": "stdout",
     "output_type": "stream",
     "text": [
      "P(defective <= 3) = 0.9840984739802364\n",
      "P(defective > 3) = 0.01590152601976358\n"
     ]
    },
    {
     "data": {
      "text/plain": [
       "<matplotlib.lines.Line2D at 0x32f82ebe0>"
      ]
     },
     "execution_count": 5,
     "metadata": {},
     "output_type": "execute_result"
    },
    {
     "data": {
      "text/plain": [
       "<Figure size 1500x300 with 1 Axes>"
      ],
      "image/png": "[encoded data removed]"
     },
     "metadata": {},
     "output_type": "display_data",
     "jetTransient": {
      "display_id": null
     }
    }
   ],
   "execution_count": 5
  },
  {
   "metadata": {},
   "cell_type": "markdown",
   "source": "ad) On one day, 10 pumps are defective. What is the probability for this event and what do you suspect happened?",
   "id": "2ee82ab14ab26606"
  },
  {
   "metadata": {
    "ExecuteTime": {
     "end_time": "2025-10-26T13:13:12.290305Z",
     "start_time": "2025-10-26T13:13:12.288375Z"
    }
   },
   "cell_type": "code",
   "source": [
    "n = 20\n",
    "k = 10\n",
    "p = 0.05\n",
    "\n",
    "p_k_defective = stats.binom.pmf(k, n, p)\n",
    "print(f\"P(defective = {k}) = {p_k_defective}\")"
   ],
   "id": "ab3ac22017521cb6",
   "outputs": [
    {
     "name": "stdout",
     "output_type": "stream",
     "text": [
      "P(defective = 10) = 1.0802758002531833e-08\n"
     ]
    }
   ],
   "execution_count": 6
  },
  {
   "metadata": {},
   "cell_type": "markdown",
   "source": "Probably the machine is broken!",
   "id": "def0019ce4996ad2"
  },
  {
   "metadata": {},
   "cell_type": "markdown",
   "source": [
    "# Exercise 4: Expectation of a PMF\n",
    "\n",
    "Many count variables follow a Poisson distribution. The PMF of the Poisson distribution is:\n",
    "\n",
    "$$\n",
    "p(k) = P(X = k) = \\frac{\\lambda^{k} e^{-\\lambda}}{k!},\n",
    "$$\n",
    "\n",
    "where k ∈ N (including 0) and λ ∈ R is a parameter. Show that the expectation of the Poisson distribution is λ.\n",
    "\n",
    "**Hints:**\n",
    "\n",
    "- Use $E[X] = \\sum_{k=0}^{\\infty} k p(k) = \\sum_{k=1}^{\\infty} k p(k)$\n",
    "- and introduce $l = k - 1$ at an appropriate time.\n",
    "- Finally, remember that $e^{\\lambda} = \\sum_{l=0}^{\\infty} \\frac{\\lambda^{l}}{l!}$"
   ],
   "id": "417b5ec7f61ac86b"
  },
  {
   "metadata": {},
   "cell_type": "markdown",
   "source": [
    "$$\n",
    "E[X] = \\sum_{k=0}^{\\infty} k \\cdot p(k) = \\sum_{k=1}^{\\infty} k \\cdot p(k)\n",
    "$$\n",
    "\n",
    "for $l = k - 1$, use $k = l +1$\n",
    "\n",
    "$$\n",
    "\\begin{align}\n",
    "E[X] &= \\sum_{l=0}^{\\infty} (l + 1) \\cdot p(l + 1) \\\\\n",
    "     &= \\sum_{l=0}^{\\infty} (l + 1) \\cdot \\frac{\\lambda^{(l+1)} \\cdot e^{-\\lambda}}{(l+1)!} \\\\\n",
    "     &= \\sum_{l=0}^{\\infty} \\frac{(l + 1) \\cdot \\lambda^{(l+1)} \\cdot e^{-\\lambda}}{(l+1)!} \\\\\n",
    "     &= \\sum_{l=0}^{\\infty} \\frac{\\lambda^{l+1} \\cdot e^{-\\lambda}}{l!} \\\\\n",
    "     &= \\sum_{l=0}^{\\infty} \\frac{\\lambda^{l} \\cdot \\lambda \\cdot e^{-\\lambda}}{l!} \\\\\n",
    "     &= \\sum_{l=0}^{\\infty} \\frac{\\lambda^{l}}{l!} \\cdot \\lambda \\cdot e^{-\\lambda}\n",
    "\\end{align}\n",
    "$$\n",
    "\n",
    "for $e^{\\lambda} = \\sum_{l=0}^{\\infty} \\frac{\\lambda^{l}}{l!}$\n",
    "\n",
    "$$\n",
    "\\begin{align}\n",
    "E[X] &= e^{\\lambda} \\cdot \\lambda \\cdot e^{-\\lambda} \\\\\n",
    "     &= \\lambda \\cdot e^{\\lambda - \\lambda} \\\\\n",
    "     &= \\lambda \\cdot 1 \\\\\n",
    "     &= \\lambda\n",
    "\\end{align}\n",
    "$$"
   ],
   "id": "573b483031ec6945"
  },
  {
   "metadata": {},
   "cell_type": "markdown",
   "source": [
    "# TODO: Exercise 5: Maximum Likelihood Estimator\n",
    "\n",
    "This exercise anticipates what we will be studying in next week's lecture and is a repetition of\n",
    "the frequentist maximum likelihood principle. Let's consider the following problem: A coin has been tossed $n = 10$ times, out of which it\n",
    "came up with heads $k = 8$ times. What is a likely value for the coin's probability of head $\\pi$ ?\n",
    "\n",
    "In your frequentist education, you have learnt that $\\hat{\\pi} = \\frac{k}{n}$ is a good estimator. In fact, it is the\n",
    "so-called maximum likelihood estimator for the binomial distribution that we want to derive in this exercise, in order\n",
    "to be better able to distinguish between frequentist and Bayesian inference.\n",
    "\n",
    "The probability to measure a particular outcome (number of heads) can be computed with the\n",
    "binomial distribution:\n",
    "\n",
    "$$\n",
    "P(Y = k \\mid \\pi) = {n \\choose k} \\pi^{k} (1 - \\pi)^{n-k}\n",
    "$$\n",
    "\n",
    "In the maximum likelihood method, we look for the value of π that is most likely to have\n",
    "produced our observation. In other words, we are looking for the value of $\\pi$ that yields the\n",
    "maximum value for $P(Y = 8|\\pi)$. To this end, one typically defines the _likelihood_ function\n",
    "\n",
    "$$\n",
    "L(\\pi \\mid Y = k) \\equiv P(Y = k \\mid \\pi)\n",
    "$$\n",
    "\n",
    "in the domain of $\\pi \\in [0,1]$. Note that $L$ is not a probability distribution over $\\pi$ (as it does not\n",
    "integrate to 1), for this reason Sir Ronald Fisher called it likelihood, as he needed another word\n",
    "than probability. In maximum likelihood, $L$ is maximized."
   ],
   "id": "8e8d71c917c409e5"
  },
  {
   "metadata": {},
   "cell_type": "markdown",
   "source": [
    "a) Use the first derivative by $\\pi$ to show that the estimator $\\hat{\\pi} = \\frac{k}{n}$ maximizes $L$ for a given $k$ and $n$:\n",
    "\n",
    "$$\n",
    "\\frac{d}{d \\pi} L(\\pi \\mid Y = k) \\stackrel{!}{=} 0\n",
    "$$\n",
    "\n",
    "For simplicity, assume that $\\pi \\in (0,1)$, i.e. $\\pi \\notin \\{0,1\\}$."
   ],
   "id": "5752e47d905720a4"
  },
  {
   "metadata": {},
   "cell_type": "markdown",
   "source": [
    "b) Use Numpy and Matplotlib to plot $L(\\pi|Y = 8)$ for different values of $\\pi$ and verify that the maximum is at $\\hat{\\pi}$.\n",
    "\n",
    "Hint: Use `scipy.stats.binom.pmf()` to compute $L(\\pi|Y = 8)$."
   ],
   "id": "c995ade0859dda9d"
  },
  {
   "metadata": {},
   "cell_type": "markdown",
   "source": [
    "# Exercise 6: Fighting Terrorism\n",
    "\n",
    "You work for the Swiss government and are in discussions with a security contractor who offers\n",
    "you a face detection software that could be installed at Zurich mainstation. The following are\n",
    "its performance measures:\n",
    "\n",
    "- Given that a person is registered as a terrorist, it finds them with a probability of 95%.\n",
    "- Innocent citizens are only recognized as terrorists with a probability of 0.01%.\n",
    "\n",
    "Would you buy their system and employ it?"
   ],
   "id": "4f1a7ab64f731dde"
  },
  {
   "metadata": {},
   "cell_type": "markdown",
   "source": [
    "> Zürich Hauptbahnhof (kurz Zürich HB, auch Zürcher Hauptbahnhof, bis 1893 Bahnhof Zürich) in Zürich ist der grösste Bahnhof der Schweiz. Er ist ein bedeutender Eisenbahnknoten für Züge aus dem In- und Ausland. Mit durchschnittlich 405'300 Fahrgästen an Werktagen (Stand: 2024)\n",
    "\n",
    "Sources:\n",
    "- https://de.wikipedia.org/wiki/Z%C3%BCrich_Hauptbahnhof\n",
    "- https://reporting.sbb.ch/bahnhoefe?highlighted=9c366c8827f930ca4246e20299c13d28&years=1,4,5,6,7&scroll=2952.949951171875"
   ],
   "id": "2a93cbe4afadf3aa"
  },
  {
   "metadata": {
    "ExecuteTime": {
     "end_time": "2025-10-26T13:13:12.307932Z",
     "start_time": "2025-10-26T13:13:12.306049Z"
    }
   },
   "cell_type": "code",
   "source": [
    "passengers = 405_300\n",
    "p_innocent = 0.0001\n",
    "\n",
    "passengers_to_check = passengers * p_innocent\n",
    "print(f\"Falsely flagged passengers to check manually every day = {passengers_to_check}\")"
   ],
   "id": "a57b132f9630e008",
   "outputs": [
    {
     "name": "stdout",
     "output_type": "stream",
     "text": [
      "Falsely flagged passengers to check manually every day = 40.53\n"
     ]
    }
   ],
   "execution_count": 7
  },
  {
   "metadata": {},
   "cell_type": "markdown",
   "source": [
    "The system is not good enough; having to check at least 40 people every day is too much given the fact that in Switzerland is pretty much zero terrorism. This can severly harm the reputation of the Swiss government as well as the Zurich main station.\n",
    "\n",
    "Don't buy."
   ],
   "id": "c11cdfae5746b070"
  },
  {
   "metadata": {},
   "cell_type": "markdown",
   "source": [
    "# Exercise 7: Prison populations in Switzerland\n",
    "\n",
    "In 2024, 70.1% of all prison inmates in Switzerland were not of Swiss nationality. One might\n",
    "be inclined to conclude that the majority of Switzerland's inhabitants not holding the Swiss\n",
    "passport are criminal. Using Bayes' theorem, show that this is not a correct interpretation and\n",
    "needs to be put into perspective. In particular, use the the following additional numbers:\n",
    "\n",
    "- There are 8.74 Million inhabitants in Switzerland.\n",
    "- About 27% of these 8.74 Million inhabitants are not of Swiss nationality.\n",
    "- About 6400 of these 8.74 Million inhabitants are currently in prison.\n",
    "\n",
    "Given events $P$ (person is in prison) and $S$ (person is of Swiss nationality) compute, compare\n",
    "and interpret the probabilities $P(P|S)$ and $P(P|\\overline{S})$."
   ],
   "id": "d7b26de67201b839"
  },
  {
   "metadata": {},
   "cell_type": "markdown",
   "source": [
    "Given:\n",
    "\n",
    "$$\n",
    "\\begin{align}\n",
    "P(\\overline{S}) &= 27\\% \\\\\n",
    "P(S) &= 100\\% - P(\\overline{S}) = 73\\% \\\\\n",
    "P(P) &= \\frac{6400}{8,74 Mio} = \\frac{32}{437}\\% \\approx 0.073\\% \\\\\n",
    "P(\\overline{S} | P) &= 70.1\\% \\\\\n",
    "P(S|P) &= 100\\% - P(\\overline{S} | P) = 29.9\\% \\\\\n",
    "\\end{align}\n",
    "$$"
   ],
   "id": "a1c0ceb72ed7ab91"
  },
  {
   "metadata": {},
   "cell_type": "markdown",
   "source": [
    "Using Bayes' Theorem:\n",
    "\n",
    "$$\n",
    "\\begin{align}\n",
    "P(P|S) &= \\frac{P(P) \\cdot P(S|P)}{P(S)} = \\frac{\\frac{32}{437}\\% \\cdot 29.9\\%}{73\\%} = \\frac{208}{6935}\\% \\approx 0.03\\% \\\\\n",
    "\\\\\n",
    "P(P|\\overline{S}) &= \\frac{P(P) \\cdot P(\\overline{S}|P)}{P(\\overline{S})} = \\frac{\\frac{32}{437}\\% \\cdot 70.1\\%}{27\\%} = 0.19002\\%\\\\\n",
    "\\end{align}\n",
    "$$"
   ],
   "id": "20c33b35d101a9ba"
  },
  {
   "metadata": {},
   "cell_type": "markdown",
   "source": [
    "Interpretation:\n",
    "\n",
    "Only about 0.2% of people _not_ holding the swiss passport are criminal. This is still a tiny amount."
   ],
   "id": "7d44ae6cafdd25f4"
  },
  {
   "metadata": {},
   "cell_type": "markdown",
   "source": [
    "# Exercise 8: Non-Invasive Prenatal Testing\n",
    "\n",
    "Non-invasive prenatal testing (NIPT) is a blood test to determine the risk for a fetus to be born\n",
    "with trisomy 21, 18 or 13. The test has to be conducted between week 5 and 7 of pregnancy and\n",
    "is typically only applied when the first trimester screening (FTS - or Ersttrimestertest ETT in\n",
    "German) is conspicuous.\n",
    "\n",
    "In this exercise, we focus on NIPT's abilities to detect the presence of the down syndrome\n",
    "(trisomy 21). The literature indicates a sensitivity of 99.2% and a specificity of 99.91% . The\n",
    "prevalence of trisomy 21 depends on age: at age 20 it's around 0.1% or less, at age 40 it increases\n",
    "significantly towards 1.4%.\n",
    "\n",
    "You have just administered such a test and want to be prepared what it means to have a\n",
    "positive or negative test result."
   ],
   "id": "c93f6fa3997d6b52"
  },
  {
   "metadata": {},
   "cell_type": "markdown",
   "source": [
    "a) Given the events D: Down syndrome present and T: test result is positive, formulate\n",
    "and compute the following probabilities of interest for a 40 year old woman:\n",
    "\n",
    "1. that the Down syndrome is present given that the test turns out positive,\n",
    "2. that the Down syndrome is present given that the test turns out negative,\n"
   ],
   "id": "f9ad2a82099f20f2"
  },
  {
   "metadata": {
    "ExecuteTime": {
     "end_time": "2025-10-26T13:13:12.322600Z",
     "start_time": "2025-10-26T13:13:12.320537Z"
    }
   },
   "cell_type": "code",
   "source": [
    "from IPython.display import IFrame\n",
    "IFrame(\"./Exercise-8a.pdf\", width=600, height=750)"
   ],
   "id": "db82bcedd659acf3",
   "outputs": [
    {
     "data": {
      "text/plain": [
       "<IPython.lib.display.IFrame at 0x32f8ff2e0>"
      ],
      "text/html": [
       "\n",
       "        <iframe\n",
       "            width=\"600\"\n",
       "            height=\"750\"\n",
       "            src=\"./Exercise-8a.pdf\"\n",
       "            frameborder=\"0\"\n",
       "            allowfullscreen\n",
       "            \n",
       "        ></iframe>\n",
       "        "
      ]
     },
     "execution_count": 8,
     "metadata": {},
     "output_type": "execute_result"
    }
   ],
   "execution_count": 8
  },
  {
   "metadata": {},
   "cell_type": "markdown",
   "source": [
    "b) Answer the same questions for a 20 year old woman and explain the principal reason\n",
    "behind why NIPT is typically not used on 20 year old women."
   ],
   "id": "e281ba68bc16bb74"
  },
  {
   "metadata": {
    "ExecuteTime": {
     "end_time": "2025-10-26T13:13:12.344871Z",
     "start_time": "2025-10-26T13:13:12.340609Z"
    }
   },
   "cell_type": "code",
   "source": [
    "# When\n",
    "pD = 0.001\n",
    "pT_D = 0.992\n",
    "pNotT_NotD = 0.9991\n",
    "print(f\"P(D) = {pD}\")\n",
    "print(f\"P(T|D) = {pT_D}\")\n",
    "print(f\"P(!T|!D) = {pNotT_NotD}\")\n",
    "print(\"-----------------------------------\")\n",
    "\n",
    "# Then\n",
    "pNotD = 1. - pD\n",
    "pNotT_D = 1. - pT_D\n",
    "pT_NotD = 1. - pNotT_NotD\n",
    "print(f\"P(!D) = {pNotD}\")\n",
    "print(f\"P(!T|D) = {pNotT_D}\")\n",
    "print(f\"P(T|!D) = {pT_NotD}\")\n",
    "print(\"-----------------------------------\")\n",
    "\n",
    "# And\n",
    "pT = pNotD * pT_NotD + pD * pT_D\n",
    "pNotT = 1. - pT\n",
    "print(f\"P(T) = {pT}\")\n",
    "print(f\"P(!T) = {pNotT}\")\n",
    "print(\"-----------------------------------\")\n",
    "\n",
    "pD_T = pD * pT_D / pT\n",
    "pD_NotT = pD * pNotT_D / pNotT\n",
    "print(f\"P(D|T) = {pD_T}\")\n",
    "print(f\"P(D|!T) = {pD_NotT}\")"
   ],
   "id": "767dd52b17352d28",
   "outputs": [
    {
     "name": "stdout",
     "output_type": "stream",
     "text": [
      "P(D) = 0.001\n",
      "P(T|D) = 0.992\n",
      "P(!T|!D) = 0.9991\n",
      "-----------------------------------\n",
      "P(!D) = 0.999\n",
      "P(!T|D) = 0.008000000000000007\n",
      "P(T|!D) = 0.0009000000000000119\n",
      "-----------------------------------\n",
      "P(T) = 0.0018911000000000119\n",
      "P(!T) = 0.9981089\n",
      "-----------------------------------\n",
      "P(D|T) = 0.5245624239860366\n",
      "P(D|!T) = 8.01515746428071e-06\n"
     ]
    }
   ],
   "execution_count": 9
  },
  {
   "metadata": {},
   "cell_type": "markdown",
   "source": "The probability that the down syndrom is present in case the test turns out negative is only $52.46\\%$. So there is a high chance that the test worries the gonna-be parents - but its still wrong.",
   "id": "13eb70480c2dacf6"
  },
  {
   "metadata": {},
   "cell_type": "markdown",
   "source": [
    "c) Using the same argument as in b), argue that the probability that you actually have\n",
    "Covid-19 given a positive Covid-19 self test was a time varying function between 2020-\n",
    "2022. What causes the variability in time?"
   ],
   "id": "42e3fe00510e8dad"
  },
  {
   "metadata": {},
   "cell_type": "markdown",
   "source": "The chances to get infected increased dramatically during these two years. So the higher the risk of infection, the higher the probability that you'd actually have Covid-19 if the test signifies a positive result.",
   "id": "5d377f1fdd8f461f"
  },
  {
   "metadata": {},
   "cell_type": "markdown",
   "source": [
    "# Exercise 9: Magic Coin\n",
    "\n",
    "You bought a magic coin from a wizard shop. Unfortunately, you have thrown away the\n",
    "instruction manual and cannot remember whether the coin is biased towards heads or towards\n",
    "tails. This is important, since you have to perform a magic trick in a few minutes. You call the\n",
    "company and they tell you that the coin comes in two models:\n",
    "\n",
    "- model 1 with $\\pi = 0.2$ (probability to show heads is 20% in the long run) is sold in 10% of the cases\n",
    "- model 2 with $\\pi = 0.8$ is sold in 90% of the cases"
   ],
   "id": "36dd361c7c63bed0"
  },
  {
   "metadata": {},
   "cell_type": "markdown",
   "source": [
    "a) You throw the coin 5 times and it shows heads twice. What model do you think it is with\n",
    "your limited amount of data?\n",
    "\n",
    "**Hint:** Compute the ratio of\n",
    "\n",
    "$$\n",
    "\\frac{P(\\pi = 0.8 | d)}{P(\\pi = 0.2 | d)}\n",
    "$$\n",
    "\n",
    "where $d$ stands for your collected coin toss data, and use Bayes' theorem and the binomial distribution."
   ],
   "id": "7feec6274480c5d0"
  },
  {
   "metadata": {},
   "cell_type": "markdown",
   "source": [
    "**Bayes theorem, the geometry of changing beliefs:**\n",
    "\n",
    "- $P(H)$ := Probability that the **Hypothesis** is true\n",
    "- $P(E)$ := Probability of the total **Evidence**\n",
    "\n",
    "![Bayes Theorem 1](./Bayes-Theorem-1.png)\n",
    "\n",
    "![Bayes Theorem 2](./Bayes-Theorem-2.png)"
   ],
   "id": "3b9ee61f63cbfd5c"
  },
  {
   "metadata": {},
   "cell_type": "markdown",
   "source": [
    "Given:\n",
    "\n",
    "$$\n",
    "\\begin{align}\n",
    "P(d) &= \\frac{2}{5} = 0.4\\\\\n",
    "P(M1) &= 0.1\\\\\n",
    "P(M2) &= 0.9\\\\\n",
    "\\end{align}\n",
    "$$"
   ],
   "id": "806452d52b7a05d7"
  },
  {
   "metadata": {},
   "cell_type": "markdown",
   "source": [
    "Then we can calculate for Model 1:\n",
    "\n",
    "$$\n",
    "\\begin{align}\n",
    "P(d | M1) &= {5 \\choose 2} \\cdot 0.2^2 \\cdot (1-0.2)^{5-2} = \\frac{5!}{2!(5-2)!} \\cdot \\frac{1}{25} \\cdot \\frac{64}{125} = 0.2048\\\\\n",
    "P(M1 | d) &= \\frac{P(M1) \\cdot P(d | M1)}{P(d)} = \\frac{0.1 \\cdot 0.6144}{0.4} = 0.1536\\\\\n",
    "\\end{align}\n",
    "$$"
   ],
   "id": "507f24a3bb5026f9"
  },
  {
   "metadata": {},
   "cell_type": "markdown",
   "source": [
    "And similar for Model 2:\n",
    "\n",
    "$$\n",
    "\\begin{align}\n",
    "P(d | M2) &= {5 \\choose 2} \\cdot 0.8^2 \\cdot (1-0.8)^{5-2} = 0.1536\\\\\n",
    "P(M2 | d) &= \\frac{P(M2) \\cdot P(d | M2)}{P(d)} = \\frac{0.9 \\cdot 0.1536}{0.4} = 0.3456\\\\\n",
    "\\end{align}\n",
    "$$"
   ],
   "id": "9937826267dd2249"
  },
  {
   "metadata": {},
   "cell_type": "markdown",
   "source": [
    "So we can conclude:\n",
    "\n",
    "$$\n",
    "\\begin{align}\n",
    "P(M2 | d) &> P(M1 | d)\\\\\n",
    "0.3456 &> 0.1536\n",
    "\\end{align}\n",
    "$$\n",
    "\n",
    "Its $\\frac{0.3456}{0.1536} = 2.25$ times more likely that we are using Model 2."
   ],
   "id": "5838846cbf073bda"
  },
  {
   "metadata": {},
   "cell_type": "markdown",
   "source": [
    "b) Luckily, your magic trick worked and the coin showed heads as you predicted. At home,\n",
    "you have time for more ips. Interestingly, you ip the same ratio, just with ten times\n",
    "higher numbers: Out of 50 ips, you get heads 20 times. How much do you believe now\n",
    "that you have model 2?"
   ],
   "id": "bc0eaeeac6205937"
  },
  {
   "metadata": {
    "ExecuteTime": {
     "end_time": "2025-10-26T13:13:12.371905Z",
     "start_time": "2025-10-26T13:13:12.369124Z"
    }
   },
   "cell_type": "code",
   "source": [
    "n = 50.\n",
    "k = 20.\n",
    "pd = n/k\n",
    "\n",
    "pM1 = 0.1\n",
    "pM2 = 0.9\n",
    "\n",
    "pH_M1 = 0.2\n",
    "pH_M2 = 0.8\n",
    "\n",
    "pd_M1 = stats.binom.pmf(k = k, n = n, p = pH_M1)\n",
    "pd_M2 = stats.binom.pmf(k = k, n = n, p = pH_M2)\n",
    "print(f\"P(d|M1) = {pd_M1}\")\n",
    "print(f\"P(d|M2) = {pd_M2}\")\n",
    "\n",
    "print(\"--------------------------\")\n",
    "\n",
    "pM1_d = pM1 * pd_M1 / pd\n",
    "pM2_d = pM2 * pd_M2 / pd\n",
    "print(f\"P(M1|d) = {pM1_d}\")\n",
    "print(f\"P(M2|d) = {pM2_d}\")\n",
    "\n",
    "print(\"--------------------------\")\n",
    "print(f\"P(M1|d) > P(M2|d): {pM1_d / pM2_d} times smaller\")"
   ],
   "id": "8c85f8728524c334",
   "outputs": [
    {
     "name": "stdout",
     "output_type": "stream",
     "text": [
      "P(d|M1) = 0.0006117721516988407\n",
      "P(d|M2) = 5.834313885677662e-10\n",
      "--------------------------\n",
      "P(M1|d) = 2.4470886067953626e-05\n",
      "P(M2|d) = 2.1003529988439586e-10\n",
      "--------------------------\n",
      "P(M1|d) > P(M2|d): 116508.4444444457 times smaller\n"
     ]
    }
   ],
   "execution_count": 10
  },
  {
   "metadata": {},
   "cell_type": "markdown",
   "source": "The probability that I do indeed have Model 2 is very low now. In fact, its $116'508$ times smaller than M1.",
   "id": "d9e698199e5640e6"
  },
  {
   "metadata": {},
   "cell_type": "markdown",
   "source": "c) Argue why a frequentist magician would have failed at this task.",
   "id": "f0a2e68c25213fef"
  },
  {
   "metadata": {},
   "cell_type": "markdown",
   "source": "Because the frequentist magician cannot incorporate knowledge from outside the experiment. So they would only know that we tossed 2 times head out of 5 - and the tossing probabilities of the individual coins; but not how often they were sold (10% vs 90%).",
   "id": "ac7566504e47eeb5"
  },
  {
   "metadata": {},
   "cell_type": "markdown",
   "source": [
    "d) Under what circumstance would you (the Bayesian magician) and the Frequentist magician have come to the same conclusion?\n",
    "Hint: The frequentist cannot use the above ratio for decision making, but only\n",
    "P(d|π= 0.8)\n",
    "P(d|π= 0.2).\n",
    "When are these two ratios the same?"
   ],
   "id": "8c0becccd0bb2c89"
  },
  {
   "metadata": {},
   "cell_type": "markdown",
   "source": "If the same amount of both coins would have been sold.",
   "id": "707ca02e137cfaf6"
  },
  {
   "metadata": {},
   "cell_type": "markdown",
   "source": [
    "# Exercise 10: Covid symptons\n",
    "\n",
    "In 2021, the Israeli Ministry of Health has publicly released data of all individuals who were\n",
    "tested for SARS-CoV-2 via PCR nasopharyngeal swab (see 'covid_tests.csv' in the exercise\n",
    "material on Moodle). The dataset lists the result of the covid test and the symptoms of the test\n",
    "subject. You are a data scientist (from 2021) and want to create a simple rule how individuals\n",
    "are to be prioritized for a test according to their symptoms (anticipating a shortage of the\n",
    "available covid tests)."
   ],
   "id": "46dd442f2937e63d"
  },
  {
   "metadata": {},
   "cell_type": "markdown",
   "source": [
    "a) Read the data from the CSV with pandas and perform the following additional actions:\n",
    "- select only the columns 'corona_result' (result of the test) and the symptoms 'cough', 'fever', 'sore_throat', 'shortness_of_breath' and 'head_ache',\n",
    "- filter out only 'positive' and 'negative' test results\n",
    "- replace 'positive' test results with 1 and 'negative' with 0"
   ],
   "id": "8582e6cfb47f618"
  },
  {
   "metadata": {
    "ExecuteTime": {
     "end_time": "2025-10-26T13:13:12.538245Z",
     "start_time": "2025-10-26T13:13:12.389729Z"
    }
   },
   "cell_type": "code",
   "source": [
    "df = pandas.read_csv('./covid_tests.csv', low_memory=False)\n",
    "\n",
    "# select only the columns corona_result, cough, fever, sore_throat, shortness_of_breath and head_ache:\n",
    "df = df[['corona_result','cough','sore_throat','shortness_of_breath','head_ache']]\n",
    "\n",
    "# filter out only positive and negative test results:\n",
    "df = df[(df['corona_result'] == 'positive') | (df['corona_result'] == 'negative')]\n",
    "\n",
    "# replace positive with 1 and negative with 0:\n",
    "df.loc[df['corona_result'] == 'positive', 'corona_result'] = 1\n",
    "df.loc[df['corona_result'] == 'negative', 'corona_result'] = 0\n",
    "\n",
    "df"
   ],
   "id": "5bb898e48652beb6",
   "outputs": [
    {
     "data": {
      "text/plain": [
       "       corona_result  cough  sore_throat  shortness_of_breath  head_ache\n",
       "0                  0    0.0          0.0                  0.0        0.0\n",
       "1                  0    1.0          0.0                  0.0        0.0\n",
       "2                  0    0.0          0.0                  0.0        0.0\n",
       "3                  0    1.0          0.0                  0.0        0.0\n",
       "4                  0    1.0          0.0                  0.0        0.0\n",
       "...              ...    ...          ...                  ...        ...\n",
       "278842             0    0.0          0.0                  0.0        0.0\n",
       "278843             0    0.0          0.0                  0.0        0.0\n",
       "278844             0    0.0          0.0                  0.0        0.0\n",
       "278845             1    0.0          0.0                  0.0        0.0\n",
       "278847             0    0.0          0.0                  0.0        0.0\n",
       "\n",
       "[274956 rows x 5 columns]"
      ],
      "text/html": [
       "<div>\n",
       "<style scoped>\n",
       "    .dataframe tbody tr th:only-of-type {\n",
       "        vertical-align: middle;\n",
       "    }\n",
       "\n",
       "    .dataframe tbody tr th {\n",
       "        vertical-align: top;\n",
       "    }\n",
       "\n",
       "    .dataframe thead th {\n",
       "        text-align: right;\n",
       "    }\n",
       "</style>\n",
       "<table border=\"1\" class=\"dataframe\">\n",
       "  <thead>\n",
       "    <tr style=\"text-align: right;\">\n",
       "      <th></th>\n",
       "      <th>corona_result</th>\n",
       "      <th>cough</th>\n",
       "      <th>sore_throat</th>\n",
       "      <th>shortness_of_breath</th>\n",
       "      <th>head_ache</th>\n",
       "    </tr>\n",
       "  </thead>\n",
       "  <tbody>\n",
       "    <tr>\n",
       "      <th>0</th>\n",
       "      <td>0</td>\n",
       "      <td>0.0</td>\n",
       "      <td>0.0</td>\n",
       "      <td>0.0</td>\n",
       "      <td>0.0</td>\n",
       "    </tr>\n",
       "    <tr>\n",
       "      <th>1</th>\n",
       "      <td>0</td>\n",
       "      <td>1.0</td>\n",
       "      <td>0.0</td>\n",
       "      <td>0.0</td>\n",
       "      <td>0.0</td>\n",
       "    </tr>\n",
       "    <tr>\n",
       "      <th>2</th>\n",
       "      <td>0</td>\n",
       "      <td>0.0</td>\n",
       "      <td>0.0</td>\n",
       "      <td>0.0</td>\n",
       "      <td>0.0</td>\n",
       "    </tr>\n",
       "    <tr>\n",
       "      <th>3</th>\n",
       "      <td>0</td>\n",
       "      <td>1.0</td>\n",
       "      <td>0.0</td>\n",
       "      <td>0.0</td>\n",
       "      <td>0.0</td>\n",
       "    </tr>\n",
       "    <tr>\n",
       "      <th>4</th>\n",
       "      <td>0</td>\n",
       "      <td>1.0</td>\n",
       "      <td>0.0</td>\n",
       "      <td>0.0</td>\n",
       "      <td>0.0</td>\n",
       "    </tr>\n",
       "    <tr>\n",
       "      <th>...</th>\n",
       "      <td>...</td>\n",
       "      <td>...</td>\n",
       "      <td>...</td>\n",
       "      <td>...</td>\n",
       "      <td>...</td>\n",
       "    </tr>\n",
       "    <tr>\n",
       "      <th>278842</th>\n",
       "      <td>0</td>\n",
       "      <td>0.0</td>\n",
       "      <td>0.0</td>\n",
       "      <td>0.0</td>\n",
       "      <td>0.0</td>\n",
       "    </tr>\n",
       "    <tr>\n",
       "      <th>278843</th>\n",
       "      <td>0</td>\n",
       "      <td>0.0</td>\n",
       "      <td>0.0</td>\n",
       "      <td>0.0</td>\n",
       "      <td>0.0</td>\n",
       "    </tr>\n",
       "    <tr>\n",
       "      <th>278844</th>\n",
       "      <td>0</td>\n",
       "      <td>0.0</td>\n",
       "      <td>0.0</td>\n",
       "      <td>0.0</td>\n",
       "      <td>0.0</td>\n",
       "    </tr>\n",
       "    <tr>\n",
       "      <th>278845</th>\n",
       "      <td>1</td>\n",
       "      <td>0.0</td>\n",
       "      <td>0.0</td>\n",
       "      <td>0.0</td>\n",
       "      <td>0.0</td>\n",
       "    </tr>\n",
       "    <tr>\n",
       "      <th>278847</th>\n",
       "      <td>0</td>\n",
       "      <td>0.0</td>\n",
       "      <td>0.0</td>\n",
       "      <td>0.0</td>\n",
       "      <td>0.0</td>\n",
       "    </tr>\n",
       "  </tbody>\n",
       "</table>\n",
       "<p>274956 rows × 5 columns</p>\n",
       "</div>"
      ]
     },
     "execution_count": 11,
     "metadata": {},
     "output_type": "execute_result"
    }
   ],
   "execution_count": 11
  },
  {
   "metadata": {},
   "cell_type": "markdown",
   "source": "b) Using the dataset, compute the conditional probabilities P(covid|cough) and P(cough|covid).",
   "id": "11aafebe09a0bf84"
  },
  {
   "metadata": {
    "ExecuteTime": {
     "end_time": "2025-10-26T13:13:12.637850Z",
     "start_time": "2025-10-26T13:13:12.612936Z"
    }
   },
   "cell_type": "code",
   "source": [
    "pCough = df.groupby('cough').mean()\n",
    "pCovid = df.groupby('corona_result').mean()\n",
    "\n",
    "print(str(pCough) + \"\\n\")\n",
    "print(str(pCovid) + \"\\n\")"
   ],
   "id": "77923082f2052d09",
   "outputs": [
    {
     "name": "stdout",
     "output_type": "stream",
     "text": [
      "      corona_result  sore_throat  shortness_of_breath  head_ache\n",
      "cough                                                           \n",
      "0.0        0.034796     0.002840             0.002269   0.004088\n",
      "1.0         0.15838     0.029492             0.024464   0.034303\n",
      "\n",
      "                  cough  sore_throat  shortness_of_breath  head_ache\n",
      "corona_result                                                       \n",
      "0              0.134561     0.001406             0.001479   0.000569\n",
      "1              0.448013     0.103612             0.079033   0.151752\n",
      "\n"
     ]
    }
   ],
   "execution_count": 12
  },
  {
   "metadata": {},
   "cell_type": "markdown",
   "source": [
    "pCoughc) Use your pandas skills to compute all values for P(symptom|covid) and P(covid|symptom).\n",
    "Hint: P(symptom|covid) is easy to compute in a vectorized way using groupby(). The\n",
    "inverse probability is more dicult to do in a vectorized way, but it works if you com-\n",
    "pute the marginal probabilities (P(symptom),P(covid)) and multiply / divide them with\n",
    "P(symptom|covid) according to Bayes' theorem."
   ],
   "id": "7fefac3cef529f35"
  },
  {
   "metadata": {
    "ExecuteTime": {
     "end_time": "2025-10-26T13:13:12.690788Z",
     "start_time": "2025-10-26T13:13:12.680469Z"
    }
   },
   "cell_type": "code",
   "source": [
    "pSympton_Covid = df[df.corona_result == 1].drop('corona_result', axis=1).mean()\n",
    "pSympton_Covid"
   ],
   "id": "a58aed94ebe0d0c7",
   "outputs": [
    {
     "data": {
      "text/plain": [
       "cough                  0.448013\n",
       "sore_throat            0.103612\n",
       "shortness_of_breath    0.079033\n",
       "head_ache              0.151752\n",
       "dtype: float64"
      ]
     },
     "execution_count": 13,
     "metadata": {},
     "output_type": "execute_result"
    }
   ],
   "execution_count": 13
  },
  {
   "metadata": {
    "ExecuteTime": {
     "end_time": "2025-10-26T13:13:12.849842Z",
     "start_time": "2025-10-26T13:13:12.843055Z"
    }
   },
   "cell_type": "code",
   "source": [
    "pSymptom = df.drop('corona_result', axis=1).mean()\n",
    "pSymptom"
   ],
   "id": "933350cdc2dfcf8d",
   "outputs": [
    {
     "data": {
      "text/plain": [
       "cough                  0.151330\n",
       "sore_throat            0.006881\n",
       "shortness_of_breath    0.005634\n",
       "head_ache              0.008667\n",
       "dtype: float64"
      ]
     },
     "execution_count": 14,
     "metadata": {},
     "output_type": "execute_result"
    }
   ],
   "execution_count": 14
  },
  {
   "metadata": {
    "ExecuteTime": {
     "end_time": "2025-10-26T13:13:12.912579Z",
     "start_time": "2025-10-26T13:13:12.903857Z"
    }
   },
   "cell_type": "code",
   "source": [
    "pCovid = df.corona_result.mean()\n",
    "pCovid"
   ],
   "id": "4e8a8475681acc96",
   "outputs": [
    {
     "data": {
      "text/plain": [
       "0.053568570971355416"
      ]
     },
     "execution_count": 15,
     "metadata": {},
     "output_type": "execute_result"
    }
   ],
   "execution_count": 15
  },
  {
   "metadata": {
    "ExecuteTime": {
     "end_time": "2025-10-26T13:13:13.111259Z",
     "start_time": "2025-10-26T13:13:13.108404Z"
    }
   },
   "cell_type": "code",
   "source": [
    "pCovid_Symptom = pSympton_Covid * pCovid / pSymptom\n",
    "pCovid_Symptom"
   ],
   "id": "37f96fe762bd65f4",
   "outputs": [
    {
     "data": {
      "text/plain": [
       "cough                  0.158590\n",
       "sore_throat            0.806606\n",
       "shortness_of_breath    0.751501\n",
       "head_ache              0.937954\n",
       "dtype: float64"
      ]
     },
     "execution_count": 16,
     "metadata": {},
     "output_type": "execute_result"
    }
   ],
   "execution_count": 16
  },
  {
   "metadata": {},
   "cell_type": "markdown",
   "source": [
    "d) Which one would you rather use to prioritize individuals for covid tests, P(symptom|covid)\n",
    "or P(covid|symptom) ? List the symptoms from highest to lowest priority and argue that\n",
    "it makes a big dierence what conditional probability you use."
   ],
   "id": "e3c46ca27fbcb02e"
  },
  {
   "metadata": {},
   "cell_type": "markdown",
   "source": [
    "Of course we want to sort out the invidiuals with the highest risk of suffering from Covid-19 and are therefore interested in P(covid|symptom). The order of priority is, from highest to lowest:\n",
    "\n",
    "1. head ache\n",
    "2. sore throat\n",
    "3. shortness of breath\n",
    "4. fever\n",
    "5. cough\n",
    "\n",
    "The other probability P(symptom|covid) gives an almost inverted order and is not relevant for this problem!"
   ],
   "id": "989ccf2fe1136726"
  },
  {
   "metadata": {},
   "cell_type": "markdown",
   "source": [
    "# Exercise 11: Sick trees\n",
    "\n",
    "This is an exercise borrowed from the book Bayes rules!\n",
    "\n",
    "A local arboretum contains a variety of tree species, including elms, maples, and others. Unfortunately, 18% of all trees in the arboretum are infected with mold. Among the infected trees,\n",
    "15% are elms, 80% are maples, and 5% are other species. Among the uninfected trees, 20%\n",
    "are elms, 10% are maples, and 70% are other species. In monitoring the spread of mold, an\n",
    "arboretum employee randomly selects a tree to test."
   ],
   "id": "dbbed259afb8ab6f"
  },
  {
   "metadata": {},
   "cell_type": "markdown",
   "source": "![Exercise 11 Probability Tree](Exercise-11.png)",
   "id": "c86f5ecf63e77f97"
  },
  {
   "metadata": {},
   "cell_type": "markdown",
   "source": [
    "a) What's the prior probability that the selected tree has mold?\n",
    "\n",
    "18%"
   ],
   "id": "af77c252fa3b9d1b"
  },
  {
   "metadata": {},
   "cell_type": "markdown",
   "source": [
    "b) The tree happens to be a maple. What's the probability that the employee would have selected a maple?\n",
    "\n",
    "$$\n",
    "\\begin{align}\n",
    "P(Maple) &= P(Mold) * P(Maple | Mold) + P(NoMold) * P(Maple | NoMold)\\\\\n",
    "         &= 0.18 * 0.8 + 0.82 * 0.1\\\\\n",
    "         &= 0.226\n",
    "\\end{align}\n",
    "$$"
   ],
   "id": "60ce25c9f1f587ee"
  },
  {
   "metadata": {},
   "cell_type": "markdown",
   "source": "c) What's the posterior probability that the selected maple tree has mold?\n",
   "id": "b4032081a63b55ea"
  },
  {
   "metadata": {},
   "cell_type": "markdown",
   "source": [
    "$$\n",
    "P(Mold | Maple) = \\frac{P(Mold) \\cdot P(Maple | Mold)}{P(Maple)} = \\frac{18\\% \\cdot 80\\%}{22.6\\%} = 63.717\\%\n",
    "$$"
   ],
   "id": "699f0232497a70c8"
  },
  {
   "metadata": {},
   "cell_type": "markdown",
   "source": [
    "d) Compare the prior and posterior probability of the tree having mold. How did your\n",
    "understanding change in light of the fact that the tree is a maple?\n"
   ],
   "id": "bd558beb0be657c7"
  },
  {
   "metadata": {},
   "cell_type": "markdown",
   "source": [
    "Prior probability:\n",
    "\n",
    "$$\n",
    "P(Mold) = 18\\%\n",
    "$$\n",
    "\n",
    "Posterior probability:\n",
    "\n",
    "$$\n",
    "P(Mold | Maple) = 63.717\\%\n",
    "$$\n",
    "\n",
    "Knowing that it's a maple raised the prior probability of mold from 18% to 63.7%. This makes sense, as maples are over-represented in infected trees and under-represented in healthy trees."
   ],
   "id": "17936339543a30af"
  },
  {
   "metadata": {},
   "cell_type": "markdown",
   "source": [
    "e) There is another way to compute the posterior probability using a simulation! Proceed\n",
    "in the following way:\n",
    "\n",
    "1. Simulate 10'000 random trees and whether they have mold with np.random.choice()\n",
    "according to the prior probability P(mold) and store your result in a data frame.\n",
    "2. Assign a maple probability ($P(maple|mold)$ or $P(maple|\\overline{mold})$) from the description\n",
    "above to each tree according to whether the tree has mold or not.\n",
    "3. For each tree, randomly sample whether it's a maple using np.random.choice()\n",
    "and $P(maple|mold)$.\n",
    "4. Compute P(mold|maple) by ltering out only maple trees and computing the ratio\n",
    "of them that has mold.\n",
    "\n",
    "How close is the simulated posterior probability to the one computed in d) with Bayes'\n",
    "theorem? Take some time and ponder why this simulation works. In the literature, this\n",
    "type of simulation is often called ancestral sampling, since it samples from two hierarchical\n",
    "levels."
   ],
   "id": "a77a19c9adaf203a"
  },
  {
   "metadata": {
    "ExecuteTime": {
     "end_time": "2025-10-26T13:13:13.226607Z",
     "start_time": "2025-10-26T13:13:13.171127Z"
    }
   },
   "cell_type": "code",
   "source": [
    "n = 10_000\n",
    "\n",
    "pMold = 0.18\n",
    "pMaple_Mold = 0.8\n",
    "pMaple_NotMold = 0.1\n",
    "\n",
    "df = pandas.DataFrame({ 'mold': np.random.choice([False, True], p = [1. - pMold, pMold], size = n) })\n",
    "\n",
    "df['pMaple'] = df.mold.map({ False: pMaple_NotMold, True: pMaple_Mold })\n",
    "df['maple'] = df.pMaple.apply(lambda pMaple : np.random.choice([False, True], p = [1. - pMaple, pMaple]))\n",
    "\n",
    "df"
   ],
   "id": "50e769133074ff29",
   "outputs": [
    {
     "data": {
      "text/plain": [
       "       mold  pMaple  maple\n",
       "0     False     0.1  False\n",
       "1      True     0.8  False\n",
       "2     False     0.1  False\n",
       "3     False     0.1  False\n",
       "4     False     0.1  False\n",
       "...     ...     ...    ...\n",
       "9995   True     0.8   True\n",
       "9996   True     0.8   True\n",
       "9997   True     0.8   True\n",
       "9998  False     0.1  False\n",
       "9999  False     0.1  False\n",
       "\n",
       "[10000 rows x 3 columns]"
      ],
      "text/html": [
       "<div>\n",
       "<style scoped>\n",
       "    .dataframe tbody tr th:only-of-type {\n",
       "        vertical-align: middle;\n",
       "    }\n",
       "\n",
       "    .dataframe tbody tr th {\n",
       "        vertical-align: top;\n",
       "    }\n",
       "\n",
       "    .dataframe thead th {\n",
       "        text-align: right;\n",
       "    }\n",
       "</style>\n",
       "<table border=\"1\" class=\"dataframe\">\n",
       "  <thead>\n",
       "    <tr style=\"text-align: right;\">\n",
       "      <th></th>\n",
       "      <th>mold</th>\n",
       "      <th>pMaple</th>\n",
       "      <th>maple</th>\n",
       "    </tr>\n",
       "  </thead>\n",
       "  <tbody>\n",
       "    <tr>\n",
       "      <th>0</th>\n",
       "      <td>False</td>\n",
       "      <td>0.1</td>\n",
       "      <td>False</td>\n",
       "    </tr>\n",
       "    <tr>\n",
       "      <th>1</th>\n",
       "      <td>True</td>\n",
       "      <td>0.8</td>\n",
       "      <td>False</td>\n",
       "    </tr>\n",
       "    <tr>\n",
       "      <th>2</th>\n",
       "      <td>False</td>\n",
       "      <td>0.1</td>\n",
       "      <td>False</td>\n",
       "    </tr>\n",
       "    <tr>\n",
       "      <th>3</th>\n",
       "      <td>False</td>\n",
       "      <td>0.1</td>\n",
       "      <td>False</td>\n",
       "    </tr>\n",
       "    <tr>\n",
       "      <th>4</th>\n",
       "      <td>False</td>\n",
       "      <td>0.1</td>\n",
       "      <td>False</td>\n",
       "    </tr>\n",
       "    <tr>\n",
       "      <th>...</th>\n",
       "      <td>...</td>\n",
       "      <td>...</td>\n",
       "      <td>...</td>\n",
       "    </tr>\n",
       "    <tr>\n",
       "      <th>9995</th>\n",
       "      <td>True</td>\n",
       "      <td>0.8</td>\n",
       "      <td>True</td>\n",
       "    </tr>\n",
       "    <tr>\n",
       "      <th>9996</th>\n",
       "      <td>True</td>\n",
       "      <td>0.8</td>\n",
       "      <td>True</td>\n",
       "    </tr>\n",
       "    <tr>\n",
       "      <th>9997</th>\n",
       "      <td>True</td>\n",
       "      <td>0.8</td>\n",
       "      <td>True</td>\n",
       "    </tr>\n",
       "    <tr>\n",
       "      <th>9998</th>\n",
       "      <td>False</td>\n",
       "      <td>0.1</td>\n",
       "      <td>False</td>\n",
       "    </tr>\n",
       "    <tr>\n",
       "      <th>9999</th>\n",
       "      <td>False</td>\n",
       "      <td>0.1</td>\n",
       "      <td>False</td>\n",
       "    </tr>\n",
       "  </tbody>\n",
       "</table>\n",
       "<p>10000 rows × 3 columns</p>\n",
       "</div>"
      ]
     },
     "execution_count": 17,
     "metadata": {},
     "output_type": "execute_result"
    }
   ],
   "execution_count": 17
  },
  {
   "metadata": {
    "ExecuteTime": {
     "end_time": "2025-10-26T13:13:14.090688Z",
     "start_time": "2025-10-26T13:13:14.087750Z"
    }
   },
   "cell_type": "code",
   "source": [
    "pMold_Maple = df[df.maple == True].mold.mean()\n",
    "pMold_Maple"
   ],
   "id": "5b5186e1abdc1cc8",
   "outputs": [
    {
     "data": {
      "text/plain": [
       "0.6255545696539485"
      ]
     },
     "execution_count": 18,
     "metadata": {},
     "output_type": "execute_result"
    }
   ],
   "execution_count": 18
  },
  {
   "metadata": {},
   "cell_type": "markdown",
   "source": "The simulated value is $64.29\\%$ wherelse the calculated one using Bayes' Theorem is $63.72\\%$. That said, the simulation is pretty accurate. It works because its the frequentist' way of calculating the probability - so it relies on the law of large numbers.",
   "id": "8ecf26fd92a4a178"
  }
 ],
 "metadata": {
  "kernelspec": {
   "display_name": "Python 3",
   "language": "python",
   "name": "python3"
  },
  "language_info": {
   "codemirror_mode": {
    "name": "ipython",
    "version": 2
   },
   "file_extension": ".py",
   "mimetype": "text/x-python",
   "name": "python",
   "nbconvert_exporter": "python",
   "pygments_lexer": "ipython2",
   "version": "2.7.6"
  }
 },
 "nbformat": 4,
 "nbformat_minor": 5
}
