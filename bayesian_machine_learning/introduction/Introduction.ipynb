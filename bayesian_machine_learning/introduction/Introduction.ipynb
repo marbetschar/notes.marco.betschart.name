{
 "cells": [
  {
   "cell_type": "markdown",
   "id": "dd29ab11a4e84ac3",
   "metadata": {},
   "source": [
    "# Introduction"
   ]
  },
  {
   "cell_type": "markdown",
   "id": "3fda16914e6c2438",
   "metadata": {},
   "source": [
    "## Probability Fundamentals\n",
    "\n",
    "### Random Experiment\n",
    "Produces outcomes from a **sample space** Ω.\n",
    "An **event** is a subset of Ω.\n",
    "\n",
    "Example:\n",
    "Ω = {1,2,3,4,5,6}, E = {4,5,6} → “number > 3”.\n",
    "\n",
    "### Random Variable\n",
    "A numerical quantity depending on the experiment’s outcome.\n",
    "Examples:\n",
    "- Dice roll → X = number of eyes\n",
    "- Coin toss → Y = 0 (Tails), 1 (Heads)\n",
    "\n",
    "### Probability\n",
    "Quantifies how likely an event E is to occur:\n",
    "\n",
    "$$0 \\le P(E) \\le 1$$\n",
    "\n",
    "### Laplace Model (Principle of Indifference)\n",
    "If all outcomes are equally likely:\n",
    "\n",
    "$$P(E) = \\frac{|E|}{|\\Omega|}$$"
   ]
  },
  {
   "cell_type": "markdown",
   "id": "c739c533a719e5",
   "metadata": {},
   "source": [
    "## Sampling and Inference\n",
    "\n",
    "### Sampling\n",
    "Given $p = P(\\text{heads})$, probability of 8 heads in 10 tosses:\n",
    "\n",
    "$$P(k=8|n=10,p) = \\binom{10}{8} p^8 (1-p)^2$$\n",
    "\n",
    "### Inference\n",
    "Given observed data (8 heads in 10 tosses), infer $p$:\n",
    "\n",
    "- **Frequentist:** $\\hat{p} = 0.8$\n",
    "- **Bayesian:** Treat $p$ as random, update belief based on data and prior"
   ]
  },
  {
   "cell_type": "markdown",
   "id": "8f1db8ec48a9aa1d",
   "metadata": {},
   "source": [
    "## Two Views of Probability\n",
    "\n",
    "| Aspect | Frequentist | Bayesian |\n",
    "|--------|--------------|----------|\n",
    "| Interpretation | Probability = long-run frequency | Probability = degree of belief |\n",
    "| Uncertainty | In the object | In the observer |\n",
    "| Probability statements about | Data only | Data and parameters |\n",
    "| Prior knowledge | Ignored | Explicitly modeled |\n",
    "| Inference method | Maximum Likelihood | Bayes’ theorem |\n",
    "\n",
    "> “Probability does not exist. It is only a model of the world.” – *Bruno de Finetti*"
   ]
  },
  {
   "cell_type": "markdown",
   "id": "f0e6b09444b26811",
   "metadata": {},
   "source": [
    "## Conditional Probability\n",
    "\n",
    "$$P(A|B) = \\frac{P(A \\cap B)}{P(B)}$$\n",
    "\n",
    "### Inverse Conditional Probability\n",
    "$$P(B|A) = \\frac{P(A|B)P(B)}{P(A)}$$\n",
    "\n",
    "→ This is **Bayes’ theorem**."
   ]
  },
  {
   "cell_type": "markdown",
   "id": "785809b8f54d1bc8",
   "metadata": {},
   "source": [
    "## Bayes’ Theorem\n",
    "\n",
    "$$P(A|B) = \\frac{P(B|A)P(A)}{P(B)}$$\n",
    "\n",
    "Where:\n",
    "- $P(A)$: **Prior**\n",
    "- $P(B|A)$: **Likelihood**\n",
    "- $P(B)$: **Evidence**\n",
    "- $P(A|B)$: **Posterior**\n",
    "\n",
    "### Law of Total Probability\n",
    "$$P(B) = \\sum_i P(B|A_i) P(A_i)$$"
   ]
  },
  {
   "cell_type": "markdown",
   "id": "e746bee9349366ed",
   "metadata": {},
   "source": [
    "## Bayes’ Theorem as a Belief Updater\n",
    "\n",
    "$$\\text{Posterior} \\propto \\text{Likelihood} \\times \\text{Prior}$$\n",
    "\n",
    "> “Today’s posterior is tomorrow’s prior.” – *Dennis Lindley (1970)*"
   ]
  },
  {
   "cell_type": "markdown",
   "id": "cdb27b22119cd7ae",
   "metadata": {},
   "source": [
    "## Key Formulas\n",
    "\n",
    "- Conditional Probability:  \n",
    "  $$P(A|B) = \\frac{P(A \\cap B)}{P(B)}$$\n",
    "\n",
    "- Bayes’ Theorem:  \n",
    "  $$P(A|B) = \\frac{P(B|A) P(A)}{P(B)}$$\n",
    "\n",
    "- Law of Total Probability:  \n",
    "  $$P(B) = \\sum_i P(B|A_i) P(A_i)$$\n",
    "\n",
    "- Binomial Distribution:  \n",
    "  $$P(k|n,p) = \\binom{n}{k} p^k (1-p)^{n-k}$$\n"
   ]
  },
  {
   "cell_type": "markdown",
   "id": "2b17e7141b847378",
   "metadata": {},
   "source": [
    "## Applications\n",
    "\n",
    "### Breast Cancer Test Example\n",
    "\n",
    "Given:\n",
    "- Prevalence $P(B) = 0.01$\n",
    "- Sensitivity $P(T|B) = 0.9$\n",
    "- Specificity $P(\\neg T|\\neg B) = 0.91$\n",
    "\n",
    "Then:\n",
    "\n",
    "$$P(B|T) = \\frac{P(T|B) P(B)}{P(T|B) P(B) + P(T|\\neg B) P(\\neg B)} \\approx 0.092$$\n",
    "\n",
    "A positive test raises belief from 1% to 9.2%."
   ]
  },
  {
   "cell_type": "markdown",
   "id": "b1245ad0",
   "metadata": {},
   "source": [
    "## Example Calculation in Python"
   ]
  },
  {
   "cell_type": "code",
   "execution_count": 1,
   "id": "0dd64345",
   "metadata": {
    "ExecuteTime": {
     "end_time": "2025-10-26T20:53:35.476099Z",
     "start_time": "2025-10-26T20:53:35.470648Z"
    }
   },
   "outputs": [
    {
     "data": {
      "text/plain": [
       "0.09174311926605509"
      ]
     },
     "execution_count": 1,
     "metadata": {},
     "output_type": "execute_result"
    }
   ],
   "source": [
    "# Example: Breast cancer test probability\n",
    "\n",
    "P_B = 0.01             # prior: prevalence\n",
    "P_T_given_B = 0.9      # sensitivity\n",
    "P_T_given_notB = 1 - 0.91  # 1 - specificity\n",
    "\n",
    "# Bayes’ theorem\n",
    "P_B_given_T = (P_T_given_B * P_B) / ((P_T_given_B * P_B) + (P_T_given_notB * (1 - P_B)))\n",
    "P_B_given_T"
   ]
  },
  {
   "cell_type": "markdown",
   "id": "b3d719e20fc1d947",
   "metadata": {},
   "source": [
    "# Exercises"
   ]
  },
  {
   "cell_type": "code",
   "execution_count": 1,
   "id": "initial_id",
   "metadata": {
    "ExecuteTime": {
     "end_time": "2025-10-26T13:13:11.911110Z",
     "start_time": "2025-10-26T13:13:11.178351Z"
    },
    "collapsed": true,
    "jupyter": {
     "outputs_hidden": true
    }
   },
   "outputs": [],
   "source": [
    "import pandas\n",
    "import numpy as np\n",
    "from scipy import stats\n",
    "import matplotlib.pyplot as plt\n",
    "plt.rcParams[\"figure.figsize\"] = (15,3)"
   ]
  },
  {
   "cell_type": "markdown",
   "id": "f17239aff1a366bf",
   "metadata": {},
   "source": [
    "## Exercise 1: What view of probability is more appropriate?\n",
    "\n",
    "Decide whether you would rather use a frequentist or a Bayesian understanding of probability\n",
    "to answer the following problems:"
   ]
  },
  {
   "cell_type": "markdown",
   "id": "9bfa4469633392ac",
   "metadata": {},
   "source": [
    "**a) A medical researcher wants to determine the exact rate of prostate cancer for males between 50 and 60 in Switzerland.**\n",
    "\n",
    "To answer this we use the Frequentist understanding of probability because we want to predict a rate for a group of people - not a specific individual."
   ]
  },
  {
   "cell_type": "markdown",
   "id": "67afb0484d768a54",
   "metadata": {},
   "source": [
    "**b) A gambler goes into a casino and looks for the game with the highest probability of winning money.**\n",
    "\n",
    "For this we want to use the Frequentist understanding of probability because we are interested in the likeliness of different outcomes of the repeatable games."
   ]
  },
  {
   "cell_type": "markdown",
   "id": "5460875829859384",
   "metadata": {},
   "source": [
    "**c) A poker player wants to create a mathematical model that predicts the moves of his opponents. He knows the strategies of most of his opponents quite well.**\n",
    "\n",
    "We need to use the Bayesian understanding of probability because we want to predict the moves of individual for which we already have some prior knowledge."
   ]
  },
  {
   "cell_type": "markdown",
   "id": "999d22a052c17a56",
   "metadata": {},
   "source": [
    "**d) A particle physicist has run an interesting experiment. Now she wants to assess whether the collected data puts the standard model of particle physics into question. From her education she knows that a long series of experiments have confirmed the standard model.**\n",
    "\n",
    "Because we don't have a lot of data, we should use the Bayesian approach to figure out if the collected data might put the standard model of particle physics into question."
   ]
  },
  {
   "cell_type": "markdown",
   "id": "4ef8be8255e8a8f9",
   "metadata": {},
   "source": [
    "**e) An insurance company wants to estimate the number of car accidents per year in their portfolio to guess what reserves that they have to put aside.**\n",
    "\n",
    "We use the Frequentist approach because we are interested in probabilities of historical events."
   ]
  },
  {
   "cell_type": "markdown",
   "id": "2546d32129134030",
   "metadata": {},
   "source": [
    "**f) An economist predicts inflation rates in different countries for next year.**\n",
    "\n",
    "We should use Bayesian probability to do this estimation - because we can incorporate existing prior knowledge about the countries in question. Also, we can't run experiments to establish probability distribution."
   ]
  },
  {
   "cell_type": "markdown",
   "id": "c5260ac764b23b8a",
   "metadata": {},
   "source": [
    "**g) A doctor is asking himself whether you could have scabies.**\n",
    "\n",
    "We use the Bayesian approach because we want to say something about an individual using existing beliefs of the doctor."
   ]
  },
  {
   "cell_type": "markdown",
   "id": "e37c49bced11897b",
   "metadata": {},
   "source": [
    "**h) An engineer is in charge of a production process producing thousands of special screws throughout a day. Her boss asks her to give an estimate of the rate of defective screws.**\n",
    "\n",
    "We use the Frequentist approach using historical data to estimate the future likeliness of screws which are defective."
   ]
  },
  {
   "cell_type": "markdown",
   "id": "9d4184df8a5df7e8",
   "metadata": {},
   "source": [
    "## Exercise 2: The law of large numbers\n",
    "The law of large numbers states that a relative frequency will stabilize in the limit of large\n",
    "numbers (respectively infnitely). Write a short numpy code that simulates N coin tosses and\n",
    "computes the cumulative relative frequency at each subsequent coin toss. Visualize this cumulative relative frequency. Does your simulation stably reach 0.5 in the limit of large N? How\n",
    "large does N approximately need to be to reach at least three zeros behind the 0.5? (or three\n",
    "nines behind the 0.4)"
   ]
  },
  {
   "cell_type": "code",
   "execution_count": 2,
   "id": "cd8cd729d1fb2d02",
   "metadata": {
    "ExecuteTime": {
     "end_time": "2025-10-26T13:13:12.091279Z",
     "start_time": "2025-10-26T13:13:11.916859Z"
    }
   },
   "outputs": [
    {
     "data": {
      "text/plain": [
       "[<matplotlib.lines.Line2D at 0x32ef5cc70>]"
      ]
     },
     "execution_count": 2,
     "metadata": {},
     "output_type": "execute_result"
    },
    {
     "data": {
      "image/png": "[encoded data removed]",
      "text/plain": [
       "<Figure size 1500x300 with 1 Axes>"
      ]
     },
     "jetTransient": {
      "display_id": null
     },
     "metadata": {},
     "output_type": "display_data"
    }
   ],
   "source": [
    "N = 25_000\n",
    "\n",
    "heads = 0\n",
    "converged_after_n = None\n",
    "converged_lower_bound = 0.4999\n",
    "converged_upper_bound = 0.5\n",
    "\n",
    "cumulative_relative_frequencies = []\n",
    "\n",
    "for i in range(N):\n",
    "    toss = np.random.randint(2)\n",
    "\n",
    "    if toss == 0:\n",
    "        heads += 1\n",
    "\n",
    "    p = heads / (i + 1)\n",
    "    p_prev = 0\n",
    "\n",
    "    if len(cumulative_relative_frequencies) > 0:\n",
    "        p_prev = cumulative_relative_frequencies[-1]\n",
    "\n",
    "    if converged_after_n is None and p <= converged_upper_bound and p >= converged_lower_bound and abs(p - p_prev) <= converged_upper_bound - converged_lower_bound:\n",
    "        converged_after_n = i\n",
    "    cumulative_relative_frequencies.append(p)\n",
    "\n",
    "plt.title(f\"P(heads), Converged after {converged_after_n} coin tosses\")\n",
    "plt.axhline(0.5, color='red', linestyle='dotted')\n",
    "plt.plot(cumulative_relative_frequencies)"
   ]
  },
  {
   "cell_type": "markdown",
   "id": "d78f99b8a26035d2",
   "metadata": {},
   "source": [
    "## Exercise 3: Binomially distributed random variables\n",
    "\n",
    "A manufacturing company produces small pumps that go into ship motors. Your boss claims\n",
    "that they have estimated the rate of defect pumps to be π = 5%. The company produces 20\n",
    "pumps per day. To compute probabilities of different daily outcomes for the number of broken\n",
    "pumps Y, you may use the binomial distribution:\n",
    "\n",
    "$$\n",
    "P(Y = k|\\pi) = {n \\choose k} \\pi^{k} (1 - \\pi)^{n-k}\n",
    "$$\n",
    "\n",
    "You may use Python to give your answers! (e.g. with scipy.stats.binom)."
   ]
  },
  {
   "cell_type": "markdown",
   "id": "52f8fa895480ce56",
   "metadata": {},
   "source": [
    "a) What is the probability that exactly 5% of the pumps are defective on a production day?\n",
    "Try to compute your answer also in plain Python (using math.comb() for the binomial\n",
    "coefficient)."
   ]
  },
  {
   "cell_type": "markdown",
   "id": "17c9b5a1e98d35f9",
   "metadata": {},
   "source": [
    "$$\n",
    "\\pi = 0.05, \\quad n = 20, \\quad k = \\pi \\cdot n = 0.05 \\cdot 20 = 1\n",
    "$$\n",
    "\n",
    "$$\n",
    "\\begin{align}\n",
    "P(Y = 1 | 0.05) &= \\binom{20}{1} \\cdot 0.05^{1} \\cdot (1-0.05)^{20-1} \\\\\n",
    "&= \\frac{20!}{1! (20-1)!} \\cdot 0.05^{1} \\cdot (1-0.05)^{20-1} \\\\\n",
    "&= 20 \\cdot 0.05 \\cdot 0.95^{19} \\\\\n",
    "&= 0.3774\n",
    "\\end{align}\n",
    "$$"
   ]
  },
  {
   "cell_type": "code",
   "execution_count": 3,
   "id": "b79a274946be9cd7",
   "metadata": {
    "ExecuteTime": {
     "end_time": "2025-10-26T13:13:12.140966Z",
     "start_time": "2025-10-26T13:13:12.110594Z"
    }
   },
   "outputs": [
    {
     "name": "stdout",
     "output_type": "stream",
     "text": [
      "python: 0.37735360253530725, scipy: 0.37735360253530764\n"
     ]
    }
   ],
   "source": [
    "import math\n",
    "\n",
    "n = 20\n",
    "k = 1\n",
    "p = 0.05\n",
    "\n",
    "p1 = math.comb(n, k) * p ** k * (1 - p) ** (n - k)\n",
    "p2 = stats.binom.pmf(k, n, p)\n",
    "\n",
    "print(f\"python: {p1}, scipy: {p2}\")"
   ]
  },
  {
   "cell_type": "markdown",
   "id": "1745e280f61751a6",
   "metadata": {},
   "source": [
    "b) Draw the probability mass function for the number of defective pumps per day with a\n",
    "bar plot."
   ]
  },
  {
   "cell_type": "code",
   "execution_count": 4,
   "id": "137c08a9ff635e35",
   "metadata": {
    "ExecuteTime": {
     "end_time": "2025-10-26T13:13:12.222737Z",
     "start_time": "2025-10-26T13:13:12.153098Z"
    }
   },
   "outputs": [
    {
     "data": {
      "text/plain": [
       "array([3.58485922e-01, 3.77353603e-01, 1.88676801e-01, 5.95821478e-02,\n",
       "       1.33275857e-02, 2.24464601e-03, 2.95348159e-04, 3.10892799e-05,\n",
       "       2.65895157e-06, 1.86593093e-07, 1.08027580e-08, 5.16878373e-10,\n",
       "       2.04030937e-11, 6.60828945e-13, 1.73902354e-14, 3.66110219e-16,\n",
       "       6.02154965e-18, 7.45702744e-20, 6.54125214e-22, 3.62396240e-24])"
      ]
     },
     "execution_count": 4,
     "metadata": {},
     "output_type": "execute_result"
    },
    {
     "data": {
      "image/png": "[encoded data removed]",
      "text/plain": [
       "<Figure size 1500x300 with 1 Axes>"
      ]
     },
     "jetTransient": {
      "display_id": null
     },
     "metadata": {},
     "output_type": "display_data"
    }
   ],
   "source": [
    "x = np.arange(0, 20)\n",
    "pmf = stats.binom.pmf(x, n, p)\n",
    "plt.bar(x, pmf)\n",
    "pmf"
   ]
  },
  {
   "cell_type": "markdown",
   "id": "8d7a4dff49f4f610",
   "metadata": {},
   "source": [
    "c) What is the probability that more than 3 pumps are defective on a production day? Use\n",
    "the cumulative distribution function (CDF)."
   ]
  },
  {
   "cell_type": "code",
   "execution_count": 5,
   "id": "413b13e0a1154341",
   "metadata": {
    "ExecuteTime": {
     "end_time": "2025-10-26T13:13:12.283657Z",
     "start_time": "2025-10-26T13:13:12.236595Z"
    }
   },
   "outputs": [
    {
     "name": "stdout",
     "output_type": "stream",
     "text": [
      "P(defective <= 3) = 0.9840984739802364\n",
      "P(defective > 3) = 0.01590152601976358\n"
     ]
    },
    {
     "data": {
      "text/plain": [
       "<matplotlib.lines.Line2D at 0x32f82ebe0>"
      ]
     },
     "execution_count": 5,
     "metadata": {},
     "output_type": "execute_result"
    },
    {
     "data": {
      "image/png": "[encoded data removed]",
      "text/plain": [
       "<Figure size 1500x300 with 1 Axes>"
      ]
     },
     "jetTransient": {
      "display_id": null
     },
     "metadata": {},
     "output_type": "display_data"
    }
   ],
   "source": [
    "n = 20\n",
    "k = 3\n",
    "p = 0.05\n",
    "x = np.arange(0, n)\n",
    "\n",
    "p_k_or_less_defective = stats.binom.cdf(n = n, k = k, p = p)\n",
    "p_more_than_k_defective = 1 - p_k_or_less_defective\n",
    "\n",
    "print(f\"P(defective <= {k}) = {p_k_or_less_defective}\")\n",
    "print(f\"P(defective > {k}) = {p_more_than_k_defective}\")\n",
    "\n",
    "plt.plot(x, stats.binom.cdf(n = n, k = x, p = p))\n",
    "plt.axvline(k, color='red', linestyle='dotted')\n",
    "plt.axhline(1 - p_more_than_k_defective, color='red', linestyle='dotted')"
   ]
  },
  {
   "cell_type": "markdown",
   "id": "2ee82ab14ab26606",
   "metadata": {},
   "source": [
    "ad) On one day, 10 pumps are defective. What is the probability for this event and what do you suspect happened?"
   ]
  },
  {
   "cell_type": "code",
   "execution_count": 6,
   "id": "ab3ac22017521cb6",
   "metadata": {
    "ExecuteTime": {
     "end_time": "2025-10-26T13:13:12.290305Z",
     "start_time": "2025-10-26T13:13:12.288375Z"
    }
   },
   "outputs": [
    {
     "name": "stdout",
     "output_type": "stream",
     "text": [
      "P(defective = 10) = 1.0802758002531833e-08\n"
     ]
    }
   ],
   "source": [
    "n = 20\n",
    "k = 10\n",
    "p = 0.05\n",
    "\n",
    "p_k_defective = stats.binom.pmf(k, n, p)\n",
    "print(f\"P(defective = {k}) = {p_k_defective}\")"
   ]
  },
  {
   "cell_type": "markdown",
   "id": "def0019ce4996ad2",
   "metadata": {},
   "source": [
    "Probably the machine is broken!"
   ]
  },
  {
   "cell_type": "markdown",
   "id": "417b5ec7f61ac86b",
   "metadata": {},
   "source": [
    "## Exercise 4: Expectation of a PMF\n",
    "\n",
    "Many count variables follow a Poisson distribution. The PMF of the Poisson distribution is:\n",
    "\n",
    "$$\n",
    "p(k) = P(X = k) = \\frac{\\lambda^{k} e^{-\\lambda}}{k!},\n",
    "$$\n",
    "\n",
    "where k ∈ N (including 0) and λ ∈ R is a parameter. Show that the expectation of the Poisson distribution is λ.\n",
    "\n",
    "**Hints:**\n",
    "\n",
    "- Use $E[X] = \\sum_{k=0}^{\\infty} k p(k) = \\sum_{k=1}^{\\infty} k p(k)$\n",
    "- and introduce $l = k - 1$ at an appropriate time.\n",
    "- Finally, remember that $e^{\\lambda} = \\sum_{l=0}^{\\infty} \\frac{\\lambda^{l}}{l!}$"
   ]
  },
  {
   "cell_type": "markdown",
   "id": "573b483031ec6945",
   "metadata": {},
   "source": [
    "$$\n",
    "E[X] = \\sum_{k=0}^{\\infty} k \\cdot p(k) = \\sum_{k=1}^{\\infty} k \\cdot p(k)\n",
    "$$\n",
    "\n",
    "for $l = k - 1$, use $k = l +1$\n",
    "\n",
    "$$\n",
    "\\begin{align}\n",
    "E[X] &= \\sum_{l=0}^{\\infty} (l + 1) \\cdot p(l + 1) \\\\\n",
    "     &= \\sum_{l=0}^{\\infty} (l + 1) \\cdot \\frac{\\lambda^{(l+1)} \\cdot e^{-\\lambda}}{(l+1)!} \\\\\n",
    "     &= \\sum_{l=0}^{\\infty} \\frac{(l + 1) \\cdot \\lambda^{(l+1)} \\cdot e^{-\\lambda}}{(l+1)!} \\\\\n",
    "     &= \\sum_{l=0}^{\\infty} \\frac{\\lambda^{l+1} \\cdot e^{-\\lambda}}{l!} \\\\\n",
    "     &= \\sum_{l=0}^{\\infty} \\frac{\\lambda^{l} \\cdot \\lambda \\cdot e^{-\\lambda}}{l!} \\\\\n",
    "     &= \\sum_{l=0}^{\\infty} \\frac{\\lambda^{l}}{l!} \\cdot \\lambda \\cdot e^{-\\lambda}\n",
    "\\end{align}\n",
    "$$\n",
    "\n",
    "for $e^{\\lambda} = \\sum_{l=0}^{\\infty} \\frac{\\lambda^{l}}{l!}$\n",
    "\n",
    "$$\n",
    "\\begin{align}\n",
    "E[X] &= e^{\\lambda} \\cdot \\lambda \\cdot e^{-\\lambda} \\\\\n",
    "     &= \\lambda \\cdot e^{\\lambda - \\lambda} \\\\\n",
    "     &= \\lambda \\cdot 1 \\\\\n",
    "     &= \\lambda\n",
    "\\end{align}\n",
    "$$"
   ]
  },
  {
   "cell_type": "markdown",
   "id": "8e8d71c917c409e5",
   "metadata": {},
   "source": [
    "## Exercise 5: Maximum Likelihood Estimator\n",
    "\n",
    "This exercise anticipates what we will be studying in next week's lecture and is a repetition of\n",
    "the frequentist maximum likelihood principle. Let's consider the following problem: A coin has been tossed $n = 10$ times, out of which it\n",
    "came up with heads $k = 8$ times. What is a likely value for the coin's probability of head $\\pi$ ?\n",
    "\n",
    "In your frequentist education, you have learnt that $\\hat{\\pi} = \\frac{k}{n}$ is a good estimator. In fact, it is the\n",
    "so-called maximum likelihood estimator for the binomial distribution that we want to derive in this exercise, in order\n",
    "to be better able to distinguish between frequentist and Bayesian inference.\n",
    "\n",
    "The probability to measure a particular outcome (number of heads) can be computed with the\n",
    "binomial distribution:\n",
    "\n",
    "$$\n",
    "P(Y = k \\mid \\pi) = {n \\choose k} \\pi^{k} (1 - \\pi)^{n-k}\n",
    "$$\n",
    "\n",
    "In the maximum likelihood method, we look for the value of π that is most likely to have\n",
    "produced our observation. In other words, we are looking for the value of $\\pi$ that yields the\n",
    "maximum value for $P(Y = 8|\\pi)$. To this end, one typically defines the _likelihood_ function\n",
    "\n",
    "$$\n",
    "L(\\pi \\mid Y = k) \\equiv P(Y = k \\mid \\pi)\n",
    "$$\n",
    "\n",
    "in the domain of $\\pi \\in [0,1]$. Note that $L$ is not a probability distribution over $\\pi$ (as it does not\n",
    "integrate to 1), for this reason Sir Ronald Fisher called it likelihood, as he needed another word\n",
    "than probability. In maximum likelihood, $L$ is maximized."
   ]
  },
  {
   "cell_type": "markdown",
   "id": "5752e47d905720a4",
   "metadata": {},
   "source": [
    "a) Use the first derivative by $\\pi$ to show that the estimator $\\hat{\\pi} = \\frac{k}{n}$ maximizes $L$ for a given $k$ and $n$:\n",
    "\n",
    "$$\n",
    "\\frac{d}{d \\pi} L(\\pi \\mid Y = k) \\stackrel{!}{=} 0\n",
    "$$\n",
    "\n",
    "For simplicity, assume that $\\pi \\in (0,1)$, i.e. $\\pi \\notin \\{0,1\\}$."
   ]
  },
  {
   "cell_type": "markdown",
   "id": "c995ade0859dda9d",
   "metadata": {},
   "source": [
    "b) Use Numpy and Matplotlib to plot $L(\\pi|Y = 8)$ for different values of $\\pi$ and verify that the maximum is at $\\hat{\\pi}$.\n",
    "\n",
    "Hint: Use `scipy.stats.binom.pmf()` to compute $L(\\pi|Y = 8)$."
   ]
  },
  {
   "cell_type": "markdown",
   "id": "4f1a7ab64f731dde",
   "metadata": {},
   "source": [
    "## Exercise 6: Fighting Terrorism\n",
    "\n",
    "You work for the Swiss government and are in discussions with a security contractor who offers\n",
    "you a face detection software that could be installed at Zurich mainstation. The following are\n",
    "its performance measures:\n",
    "\n",
    "- Given that a person is registered as a terrorist, it finds them with a probability of 95%.\n",
    "- Innocent citizens are only recognized as terrorists with a probability of 0.01%.\n",
    "\n",
    "Would you buy their system and employ it?"
   ]
  },
  {
   "cell_type": "markdown",
   "id": "2a93cbe4afadf3aa",
   "metadata": {},
   "source": [
    "> Zürich Hauptbahnhof (kurz Zürich HB, auch Zürcher Hauptbahnhof, bis 1893 Bahnhof Zürich) in Zürich ist der grösste Bahnhof der Schweiz. Er ist ein bedeutender Eisenbahnknoten für Züge aus dem In- und Ausland. Mit durchschnittlich 405'300 Fahrgästen an Werktagen (Stand: 2024)\n",
    "\n",
    "Sources:\n",
    "- https://de.wikipedia.org/wiki/Z%C3%BCrich_Hauptbahnhof\n",
    "- https://reporting.sbb.ch/bahnhoefe?highlighted=9c366c8827f930ca4246e20299c13d28&years=1,4,5,6,7&scroll=2952.949951171875"
   ]
  },
  {
   "cell_type": "code",
   "execution_count": 7,
   "id": "a57b132f9630e008",
   "metadata": {
    "ExecuteTime": {
     "end_time": "2025-10-26T13:13:12.307932Z",
     "start_time": "2025-10-26T13:13:12.306049Z"
    }
   },
   "outputs": [
    {
     "name": "stdout",
     "output_type": "stream",
     "text": [
      "Falsely flagged passengers to check manually every day = 40.53\n"
     ]
    }
   ],
   "source": [
    "passengers = 405_300\n",
    "p_innocent = 0.0001\n",
    "\n",
    "passengers_to_check = passengers * p_innocent\n",
    "print(f\"Falsely flagged passengers to check manually every day = {passengers_to_check}\")"
   ]
  },
  {
   "cell_type": "markdown",
   "id": "c11cdfae5746b070",
   "metadata": {},
   "source": [
    "The system is not good enough; having to check at least 40 people every day is too much given the fact that in Switzerland is pretty much zero terrorism. This can severly harm the reputation of the Swiss government as well as the Zurich main station.\n",
    "\n",
    "Don't buy."
   ]
  },
  {
   "cell_type": "markdown",
   "id": "d7b26de67201b839",
   "metadata": {},
   "source": [
    "## Exercise 7: Prison populations in Switzerland\n",
    "\n",
    "In 2024, 70.1% of all prison inmates in Switzerland were not of Swiss nationality. One might\n",
    "be inclined to conclude that the majority of Switzerland's inhabitants not holding the Swiss\n",
    "passport are criminal. Using Bayes' theorem, show that this is not a correct interpretation and\n",
    "needs to be put into perspective. In particular, use the the following additional numbers:\n",
    "\n",
    "- There are 8.74 Million inhabitants in Switzerland.\n",
    "- About 27% of these 8.74 Million inhabitants are not of Swiss nationality.\n",
    "- About 6400 of these 8.74 Million inhabitants are currently in prison.\n",
    "\n",
    "Given events $P$ (person is in prison) and $S$ (person is of Swiss nationality) compute, compare\n",
    "and interpret the probabilities $P(P|S)$ and $P(P|\\overline{S})$."
   ]
  },
  {
   "cell_type": "markdown",
   "id": "a1c0ceb72ed7ab91",
   "metadata": {},
   "source": [
    "Given:\n",
    "\n",
    "$$\n",
    "\\begin{align}\n",
    "P(\\overline{S}) &= 27\\% \\\\\n",
    "P(S) &= 100\\% - P(\\overline{S}) = 73\\% \\\\\n",
    "P(P) &= \\frac{6400}{8,74 Mio} = \\frac{32}{437}\\% \\approx 0.073\\% \\\\\n",
    "P(\\overline{S} | P) &= 70.1\\% \\\\\n",
    "P(S|P) &= 100\\% - P(\\overline{S} | P) = 29.9\\% \\\\\n",
    "\\end{align}\n",
    "$$"
   ]
  },
  {
   "cell_type": "markdown",
   "id": "20c33b35d101a9ba",
   "metadata": {},
   "source": [
    "Using Bayes' Theorem:\n",
    "\n",
    "$$\n",
    "\\begin{align}\n",
    "P(P|S) &= \\frac{P(P) \\cdot P(S|P)}{P(S)} = \\frac{\\frac{32}{437}\\% \\cdot 29.9\\%}{73\\%} = \\frac{208}{6935}\\% \\approx 0.03\\% \\\\\n",
    "\\\\\n",
    "P(P|\\overline{S}) &= \\frac{P(P) \\cdot P(\\overline{S}|P)}{P(\\overline{S})} = \\frac{\\frac{32}{437}\\% \\cdot 70.1\\%}{27\\%} = 0.19002\\%\\\\\n",
    "\\end{align}\n",
    "$$"
   ]
  },
  {
   "cell_type": "markdown",
   "id": "7d44ae6cafdd25f4",
   "metadata": {},
   "source": [
    "Interpretation:\n",
    "\n",
    "Only about 0.2% of people _not_ holding the swiss passport are criminal. This is still a tiny amount."
   ]
  },
  {
   "cell_type": "markdown",
   "id": "c93f6fa3997d6b52",
   "metadata": {},
   "source": [
    "## Exercise 8: Non-Invasive Prenatal Testing\n",
    "\n",
    "Non-invasive prenatal testing (NIPT) is a blood test to determine the risk for a fetus to be born\n",
    "with trisomy 21, 18 or 13. The test has to be conducted between week 5 and 7 of pregnancy and\n",
    "is typically only applied when the first trimester screening (FTS - or Ersttrimestertest ETT in\n",
    "German) is conspicuous.\n",
    "\n",
    "In this exercise, we focus on NIPT's abilities to detect the presence of the down syndrome\n",
    "(trisomy 21). The literature indicates a sensitivity of 99.2% and a specificity of 99.91% . The\n",
    "prevalence of trisomy 21 depends on age: at age 20 it's around 0.1% or less, at age 40 it increases\n",
    "significantly towards 1.4%.\n",
    "\n",
    "You have just administered such a test and want to be prepared what it means to have a\n",
    "positive or negative test result."
   ]
  },
  {
   "cell_type": "markdown",
   "id": "f9ad2a82099f20f2",
   "metadata": {},
   "source": [
    "a) Given the events D: Down syndrome present and T: test result is positive, formulate\n",
    "and compute the following probabilities of interest for a 40 year old woman:\n",
    "\n",
    "1. that the Down syndrome is present given that the test turns out positive,\n",
    "2. that the Down syndrome is present given that the test turns out negative,\n"
   ]
  },
  {
   "cell_type": "code",
   "execution_count": 8,
   "id": "db82bcedd659acf3",
   "metadata": {
    "ExecuteTime": {
     "end_time": "2025-10-26T13:13:12.322600Z",
     "start_time": "2025-10-26T13:13:12.320537Z"
    }
   },
   "outputs": [
    {
     "data": {
      "text/html": [
       "\n",
       "        <iframe\n",
       "            width=\"600\"\n",
       "            height=\"750\"\n",
       "            src=\"./Exercise-8a.pdf\"\n",
       "            frameborder=\"0\"\n",
       "            allowfullscreen\n",
       "            \n",
       "        ></iframe>\n",
       "        "
      ],
      "text/plain": [
       "<IPython.lib.display.IFrame at 0x32f8ff2e0>"
      ]
     },
     "execution_count": 8,
     "metadata": {},
     "output_type": "execute_result"
    }
   ],
   "source": [
    "from IPython.display import IFrame\n",
    "IFrame(\"./Exercise-8a.pdf\", width=600, height=750)"
   ]
  },
  {
   "cell_type": "markdown",
   "id": "e281ba68bc16bb74",
   "metadata": {},
   "source": [
    "b) Answer the same questions for a 20 year old woman and explain the principal reason\n",
    "behind why NIPT is typically not used on 20 year old women."
   ]
  },
  {
   "cell_type": "code",
   "execution_count": 9,
   "id": "767dd52b17352d28",
   "metadata": {
    "ExecuteTime": {
     "end_time": "2025-10-26T13:13:12.344871Z",
     "start_time": "2025-10-26T13:13:12.340609Z"
    }
   },
   "outputs": [
    {
     "name": "stdout",
     "output_type": "stream",
     "text": [
      "P(D) = 0.001\n",
      "P(T|D) = 0.992\n",
      "P(!T|!D) = 0.9991\n",
      "-----------------------------------\n",
      "P(!D) = 0.999\n",
      "P(!T|D) = 0.008000000000000007\n",
      "P(T|!D) = 0.0009000000000000119\n",
      "-----------------------------------\n",
      "P(T) = 0.0018911000000000119\n",
      "P(!T) = 0.9981089\n",
      "-----------------------------------\n",
      "P(D|T) = 0.5245624239860366\n",
      "P(D|!T) = 8.01515746428071e-06\n"
     ]
    }
   ],
   "source": [
    "# When\n",
    "pD = 0.001\n",
    "pT_D = 0.992\n",
    "pNotT_NotD = 0.9991\n",
    "print(f\"P(D) = {pD}\")\n",
    "print(f\"P(T|D) = {pT_D}\")\n",
    "print(f\"P(!T|!D) = {pNotT_NotD}\")\n",
    "print(\"-----------------------------------\")\n",
    "\n",
    "# Then\n",
    "pNotD = 1. - pD\n",
    "pNotT_D = 1. - pT_D\n",
    "pT_NotD = 1. - pNotT_NotD\n",
    "print(f\"P(!D) = {pNotD}\")\n",
    "print(f\"P(!T|D) = {pNotT_D}\")\n",
    "print(f\"P(T|!D) = {pT_NotD}\")\n",
    "print(\"-----------------------------------\")\n",
    "\n",
    "# And\n",
    "pT = pNotD * pT_NotD + pD * pT_D\n",
    "pNotT = 1. - pT\n",
    "print(f\"P(T) = {pT}\")\n",
    "print(f\"P(!T) = {pNotT}\")\n",
    "print(\"-----------------------------------\")\n",
    "\n",
    "pD_T = pD * pT_D / pT\n",
    "pD_NotT = pD * pNotT_D / pNotT\n",
    "print(f\"P(D|T) = {pD_T}\")\n",
    "print(f\"P(D|!T) = {pD_NotT}\")"
   ]
  },
  {
   "cell_type": "markdown",
   "id": "13eb70480c2dacf6",
   "metadata": {},
   "source": [
    "The probability that the down syndrom is present in case the test turns out negative is only $52.46\\%$. So there is a high chance that the test worries the gonna-be parents - but its still wrong."
   ]
  },
  {
   "cell_type": "markdown",
   "id": "42e3fe00510e8dad",
   "metadata": {},
   "source": [
    "c) Using the same argument as in b), argue that the probability that you actually have\n",
    "Covid-19 given a positive Covid-19 self test was a time varying function between 2020-\n",
    "2022. What causes the variability in time?"
   ]
  },
  {
   "cell_type": "markdown",
   "id": "5d377f1fdd8f461f",
   "metadata": {},
   "source": [
    "The chances to get infected increased dramatically during these two years. So the higher the risk of infection, the higher the probability that you'd actually have Covid-19 if the test signifies a positive result."
   ]
  },
  {
   "cell_type": "markdown",
   "id": "36dd361c7c63bed0",
   "metadata": {},
   "source": [
    "## Exercise 9: Magic Coin\n",
    "\n",
    "You bought a magic coin from a wizard shop. Unfortunately, you have thrown away the\n",
    "instruction manual and cannot remember whether the coin is biased towards heads or towards\n",
    "tails. This is important, since you have to perform a magic trick in a few minutes. You call the\n",
    "company and they tell you that the coin comes in two models:\n",
    "\n",
    "- model 1 with $\\pi = 0.2$ (probability to show heads is 20% in the long run) is sold in 10% of the cases\n",
    "- model 2 with $\\pi = 0.8$ is sold in 90% of the cases"
   ]
  },
  {
   "cell_type": "markdown",
   "id": "7feec6274480c5d0",
   "metadata": {},
   "source": [
    "a) You throw the coin 5 times and it shows heads twice. What model do you think it is with\n",
    "your limited amount of data?\n",
    "\n",
    "**Hint:** Compute the ratio of\n",
    "\n",
    "$$\n",
    "\\frac{P(\\pi = 0.8 | d)}{P(\\pi = 0.2 | d)}\n",
    "$$\n",
    "\n",
    "where $d$ stands for your collected coin toss data, and use Bayes' theorem and the binomial distribution."
   ]
  },
  {
   "cell_type": "markdown",
   "id": "3b9ee61f63cbfd5c",
   "metadata": {},
   "source": [
    "**Bayes theorem, the geometry of changing beliefs:**\n",
    "\n",
    "- $P(H)$ := Probability that the **Hypothesis** is true\n",
    "- $P(E)$ := Probability of the total **Evidence**\n",
    "\n",
    "![Bayes Theorem 1](./Bayes-Theorem-1.png)\n",
    "\n",
    "![Bayes Theorem 2](./Bayes-Theorem-2.png)"
   ]
  },
  {
   "cell_type": "markdown",
   "id": "806452d52b7a05d7",
   "metadata": {},
   "source": [
    "Given:\n",
    "\n",
    "$$\n",
    "\\begin{align}\n",
    "P(d) &= \\frac{2}{5} = 0.4\\\\\n",
    "P(M1) &= 0.1\\\\\n",
    "P(M2) &= 0.9\\\\\n",
    "\\end{align}\n",
    "$$"
   ]
  },
  {
   "cell_type": "markdown",
   "id": "507f24a3bb5026f9",
   "metadata": {},
   "source": [
    "Then we can calculate for Model 1:\n",
    "\n",
    "$$\n",
    "\\begin{align}\n",
    "P(d | M1) &= {5 \\choose 2} \\cdot 0.2^2 \\cdot (1-0.2)^{5-2} = \\frac{5!}{2!(5-2)!} \\cdot \\frac{1}{25} \\cdot \\frac{64}{125} = 0.2048\\\\\n",
    "P(M1 | d) &= \\frac{P(M1) \\cdot P(d | M1)}{P(d)} = \\frac{0.1 \\cdot 0.6144}{0.4} = 0.1536\\\\\n",
    "\\end{align}\n",
    "$$"
   ]
  },
  {
   "cell_type": "markdown",
   "id": "9937826267dd2249",
   "metadata": {},
   "source": [
    "And similar for Model 2:\n",
    "\n",
    "$$\n",
    "\\begin{align}\n",
    "P(d | M2) &= {5 \\choose 2} \\cdot 0.8^2 \\cdot (1-0.8)^{5-2} = 0.1536\\\\\n",
    "P(M2 | d) &= \\frac{P(M2) \\cdot P(d | M2)}{P(d)} = \\frac{0.9 \\cdot 0.1536}{0.4} = 0.3456\\\\\n",
    "\\end{align}\n",
    "$$"
   ]
  },
  {
   "cell_type": "markdown",
   "id": "5838846cbf073bda",
   "metadata": {},
   "source": [
    "So we can conclude:\n",
    "\n",
    "$$\n",
    "\\begin{align}\n",
    "P(M2 | d) &> P(M1 | d)\\\\\n",
    "0.3456 &> 0.1536\n",
    "\\end{align}\n",
    "$$\n",
    "\n",
    "Its $\\frac{0.3456}{0.1536} = 2.25$ times more likely that we are using Model 2."
   ]
  },
  {
   "cell_type": "markdown",
   "id": "bc0eaeeac6205937",
   "metadata": {},
   "source": [
    "b) Luckily, your magic trick worked and the coin showed heads as you predicted. At home,\n",
    "you have time for more ips. Interestingly, you ip the same ratio, just with ten times\n",
    "higher numbers: Out of 50 ips, you get heads 20 times. How much do you believe now\n",
    "that you have model 2?"
   ]
  },
  {
   "cell_type": "code",
   "execution_count": 10,
   "id": "8c85f8728524c334",
   "metadata": {
    "ExecuteTime": {
     "end_time": "2025-10-26T13:13:12.371905Z",
     "start_time": "2025-10-26T13:13:12.369124Z"
    }
   },
   "outputs": [
    {
     "name": "stdout",
     "output_type": "stream",
     "text": [
      "P(d|M1) = 0.0006117721516988407\n",
      "P(d|M2) = 5.834313885677662e-10\n",
      "--------------------------\n",
      "P(M1|d) = 2.4470886067953626e-05\n",
      "P(M2|d) = 2.1003529988439586e-10\n",
      "--------------------------\n",
      "P(M1|d) > P(M2|d): 116508.4444444457 times smaller\n"
     ]
    }
   ],
   "source": [
    "n = 50.\n",
    "k = 20.\n",
    "pd = n/k\n",
    "\n",
    "pM1 = 0.1\n",
    "pM2 = 0.9\n",
    "\n",
    "pH_M1 = 0.2\n",
    "pH_M2 = 0.8\n",
    "\n",
    "pd_M1 = stats.binom.pmf(k = k, n = n, p = pH_M1)\n",
    "pd_M2 = stats.binom.pmf(k = k, n = n, p = pH_M2)\n",
    "print(f\"P(d|M1) = {pd_M1}\")\n",
    "print(f\"P(d|M2) = {pd_M2}\")\n",
    "\n",
    "print(\"--------------------------\")\n",
    "\n",
    "pM1_d = pM1 * pd_M1 / pd\n",
    "pM2_d = pM2 * pd_M2 / pd\n",
    "print(f\"P(M1|d) = {pM1_d}\")\n",
    "print(f\"P(M2|d) = {pM2_d}\")\n",
    "\n",
    "print(\"--------------------------\")\n",
    "print(f\"P(M1|d) > P(M2|d): {pM1_d / pM2_d} times smaller\")"
   ]
  },
  {
   "cell_type": "markdown",
   "id": "d9e698199e5640e6",
   "metadata": {},
   "source": [
    "The probability that I do indeed have Model 2 is very low now. In fact, its $116'508$ times smaller than M1."
   ]
  },
  {
   "cell_type": "markdown",
   "id": "f0a2e68c25213fef",
   "metadata": {},
   "source": [
    "c) Argue why a frequentist magician would have failed at this task."
   ]
  },
  {
   "cell_type": "markdown",
   "id": "ac7566504e47eeb5",
   "metadata": {},
   "source": [
    "Because the frequentist magician cannot incorporate knowledge from outside the experiment. So they would only know that we tossed 2 times head out of 5 - and the tossing probabilities of the individual coins; but not how often they were sold (10% vs 90%)."
   ]
  },
  {
   "cell_type": "markdown",
   "id": "8c0becccd0bb2c89",
   "metadata": {},
   "source": [
    "d) Under what circumstance would you (the Bayesian magician) and the Frequentist magician have come to the same conclusion?\n",
    "Hint: The frequentist cannot use the above ratio for decision making, but only\n",
    "P(d|π= 0.8)\n",
    "P(d|π= 0.2).\n",
    "When are these two ratios the same?"
   ]
  },
  {
   "cell_type": "markdown",
   "id": "707ca02e137cfaf6",
   "metadata": {},
   "source": [
    "If the same amount of both coins would have been sold."
   ]
  },
  {
   "cell_type": "markdown",
   "id": "46dd442f2937e63d",
   "metadata": {},
   "source": [
    "## Exercise 10: Covid symptons\n",
    "\n",
    "In 2021, the Israeli Ministry of Health has publicly released data of all individuals who were\n",
    "tested for SARS-CoV-2 via PCR nasopharyngeal swab (see 'covid_tests.csv' in the exercise\n",
    "material on Moodle). The dataset lists the result of the covid test and the symptoms of the test\n",
    "subject. You are a data scientist (from 2021) and want to create a simple rule how individuals\n",
    "are to be prioritized for a test according to their symptoms (anticipating a shortage of the\n",
    "available covid tests)."
   ]
  },
  {
   "cell_type": "markdown",
   "id": "8582e6cfb47f618",
   "metadata": {},
   "source": [
    "a) Read the data from the CSV with pandas and perform the following additional actions:\n",
    "- select only the columns 'corona_result' (result of the test) and the symptoms 'cough', 'fever', 'sore_throat', 'shortness_of_breath' and 'head_ache',\n",
    "- filter out only 'positive' and 'negative' test results\n",
    "- replace 'positive' test results with 1 and 'negative' with 0"
   ]
  },
  {
   "cell_type": "code",
   "execution_count": 11,
   "id": "5bb898e48652beb6",
   "metadata": {
    "ExecuteTime": {
     "end_time": "2025-10-26T13:13:12.538245Z",
     "start_time": "2025-10-26T13:13:12.389729Z"
    }
   },
   "outputs": [
    {
     "data": {
      "text/html": [
       "<div>\n",
       "<style scoped>\n",
       "    .dataframe tbody tr th:only-of-type {\n",
       "        vertical-align: middle;\n",
       "    }\n",
       "\n",
       "    .dataframe tbody tr th {\n",
       "        vertical-align: top;\n",
       "    }\n",
       "\n",
       "    .dataframe thead th {\n",
       "        text-align: right;\n",
       "    }\n",
       "</style>\n",
       "<table border=\"1\" class=\"dataframe\">\n",
       "  <thead>\n",
       "    <tr style=\"text-align: right;\">\n",
       "      <th></th>\n",
       "      <th>corona_result</th>\n",
       "      <th>cough</th>\n",
       "      <th>sore_throat</th>\n",
       "      <th>shortness_of_breath</th>\n",
       "      <th>head_ache</th>\n",
       "    </tr>\n",
       "  </thead>\n",
       "  <tbody>\n",
       "    <tr>\n",
       "      <th>0</th>\n",
       "      <td>0</td>\n",
       "      <td>0.0</td>\n",
       "      <td>0.0</td>\n",
       "      <td>0.0</td>\n",
       "      <td>0.0</td>\n",
       "    </tr>\n",
       "    <tr>\n",
       "      <th>1</th>\n",
       "      <td>0</td>\n",
       "      <td>1.0</td>\n",
       "      <td>0.0</td>\n",
       "      <td>0.0</td>\n",
       "      <td>0.0</td>\n",
       "    </tr>\n",
       "    <tr>\n",
       "      <th>2</th>\n",
       "      <td>0</td>\n",
       "      <td>0.0</td>\n",
       "      <td>0.0</td>\n",
       "      <td>0.0</td>\n",
       "      <td>0.0</td>\n",
       "    </tr>\n",
       "    <tr>\n",
       "      <th>3</th>\n",
       "      <td>0</td>\n",
       "      <td>1.0</td>\n",
       "      <td>0.0</td>\n",
       "      <td>0.0</td>\n",
       "      <td>0.0</td>\n",
       "    </tr>\n",
       "    <tr>\n",
       "      <th>4</th>\n",
       "      <td>0</td>\n",
       "      <td>1.0</td>\n",
       "      <td>0.0</td>\n",
       "      <td>0.0</td>\n",
       "      <td>0.0</td>\n",
       "    </tr>\n",
       "    <tr>\n",
       "      <th>...</th>\n",
       "      <td>...</td>\n",
       "      <td>...</td>\n",
       "      <td>...</td>\n",
       "      <td>...</td>\n",
       "      <td>...</td>\n",
       "    </tr>\n",
       "    <tr>\n",
       "      <th>278842</th>\n",
       "      <td>0</td>\n",
       "      <td>0.0</td>\n",
       "      <td>0.0</td>\n",
       "      <td>0.0</td>\n",
       "      <td>0.0</td>\n",
       "    </tr>\n",
       "    <tr>\n",
       "      <th>278843</th>\n",
       "      <td>0</td>\n",
       "      <td>0.0</td>\n",
       "      <td>0.0</td>\n",
       "      <td>0.0</td>\n",
       "      <td>0.0</td>\n",
       "    </tr>\n",
       "    <tr>\n",
       "      <th>278844</th>\n",
       "      <td>0</td>\n",
       "      <td>0.0</td>\n",
       "      <td>0.0</td>\n",
       "      <td>0.0</td>\n",
       "      <td>0.0</td>\n",
       "    </tr>\n",
       "    <tr>\n",
       "      <th>278845</th>\n",
       "      <td>1</td>\n",
       "      <td>0.0</td>\n",
       "      <td>0.0</td>\n",
       "      <td>0.0</td>\n",
       "      <td>0.0</td>\n",
       "    </tr>\n",
       "    <tr>\n",
       "      <th>278847</th>\n",
       "      <td>0</td>\n",
       "      <td>0.0</td>\n",
       "      <td>0.0</td>\n",
       "      <td>0.0</td>\n",
       "      <td>0.0</td>\n",
       "    </tr>\n",
       "  </tbody>\n",
       "</table>\n",
       "<p>274956 rows × 5 columns</p>\n",
       "</div>"
      ],
      "text/plain": [
       "       corona_result  cough  sore_throat  shortness_of_breath  head_ache\n",
       "0                  0    0.0          0.0                  0.0        0.0\n",
       "1                  0    1.0          0.0                  0.0        0.0\n",
       "2                  0    0.0          0.0                  0.0        0.0\n",
       "3                  0    1.0          0.0                  0.0        0.0\n",
       "4                  0    1.0          0.0                  0.0        0.0\n",
       "...              ...    ...          ...                  ...        ...\n",
       "278842             0    0.0          0.0                  0.0        0.0\n",
       "278843             0    0.0          0.0                  0.0        0.0\n",
       "278844             0    0.0          0.0                  0.0        0.0\n",
       "278845             1    0.0          0.0                  0.0        0.0\n",
       "278847             0    0.0          0.0                  0.0        0.0\n",
       "\n",
       "[274956 rows x 5 columns]"
      ]
     },
     "execution_count": 11,
     "metadata": {},
     "output_type": "execute_result"
    }
   ],
   "source": [
    "df = pandas.read_csv('./covid_tests.csv', low_memory=False)\n",
    "\n",
    "# select only the columns corona_result, cough, fever, sore_throat, shortness_of_breath and head_ache:\n",
    "df = df[['corona_result','cough','sore_throat','shortness_of_breath','head_ache']]\n",
    "\n",
    "# filter out only positive and negative test results:\n",
    "df = df[(df['corona_result'] == 'positive') | (df['corona_result'] == 'negative')]\n",
    "\n",
    "# replace positive with 1 and negative with 0:\n",
    "df.loc[df['corona_result'] == 'positive', 'corona_result'] = 1\n",
    "df.loc[df['corona_result'] == 'negative', 'corona_result'] = 0\n",
    "\n",
    "df"
   ]
  },
  {
   "cell_type": "markdown",
   "id": "11aafebe09a0bf84",
   "metadata": {},
   "source": [
    "b) Using the dataset, compute the conditional probabilities P(covid|cough) and P(cough|covid)."
   ]
  },
  {
   "cell_type": "code",
   "execution_count": 12,
   "id": "77923082f2052d09",
   "metadata": {
    "ExecuteTime": {
     "end_time": "2025-10-26T13:13:12.637850Z",
     "start_time": "2025-10-26T13:13:12.612936Z"
    }
   },
   "outputs": [
    {
     "name": "stdout",
     "output_type": "stream",
     "text": [
      "      corona_result  sore_throat  shortness_of_breath  head_ache\n",
      "cough                                                           \n",
      "0.0        0.034796     0.002840             0.002269   0.004088\n",
      "1.0         0.15838     0.029492             0.024464   0.034303\n",
      "\n",
      "                  cough  sore_throat  shortness_of_breath  head_ache\n",
      "corona_result                                                       \n",
      "0              0.134561     0.001406             0.001479   0.000569\n",
      "1              0.448013     0.103612             0.079033   0.151752\n",
      "\n"
     ]
    }
   ],
   "source": [
    "pCough = df.groupby('cough').mean()\n",
    "pCovid = df.groupby('corona_result').mean()\n",
    "\n",
    "print(str(pCough) + \"\\n\")\n",
    "print(str(pCovid) + \"\\n\")"
   ]
  },
  {
   "cell_type": "markdown",
   "id": "7fefac3cef529f35",
   "metadata": {},
   "source": [
    "pCoughc) Use your pandas skills to compute all values for P(symptom|covid) and P(covid|symptom).\n",
    "Hint: P(symptom|covid) is easy to compute in a vectorized way using groupby(). The\n",
    "inverse probability is more dicult to do in a vectorized way, but it works if you com-\n",
    "pute the marginal probabilities (P(symptom),P(covid)) and multiply / divide them with\n",
    "P(symptom|covid) according to Bayes' theorem."
   ]
  },
  {
   "cell_type": "code",
   "execution_count": 13,
   "id": "a58aed94ebe0d0c7",
   "metadata": {
    "ExecuteTime": {
     "end_time": "2025-10-26T13:13:12.690788Z",
     "start_time": "2025-10-26T13:13:12.680469Z"
    }
   },
   "outputs": [
    {
     "data": {
      "text/plain": [
       "cough                  0.448013\n",
       "sore_throat            0.103612\n",
       "shortness_of_breath    0.079033\n",
       "head_ache              0.151752\n",
       "dtype: float64"
      ]
     },
     "execution_count": 13,
     "metadata": {},
     "output_type": "execute_result"
    }
   ],
   "source": [
    "pSympton_Covid = df[df.corona_result == 1].drop('corona_result', axis=1).mean()\n",
    "pSympton_Covid"
   ]
  },
  {
   "cell_type": "code",
   "execution_count": 14,
   "id": "933350cdc2dfcf8d",
   "metadata": {
    "ExecuteTime": {
     "end_time": "2025-10-26T13:13:12.849842Z",
     "start_time": "2025-10-26T13:13:12.843055Z"
    }
   },
   "outputs": [
    {
     "data": {
      "text/plain": [
       "cough                  0.151330\n",
       "sore_throat            0.006881\n",
       "shortness_of_breath    0.005634\n",
       "head_ache              0.008667\n",
       "dtype: float64"
      ]
     },
     "execution_count": 14,
     "metadata": {},
     "output_type": "execute_result"
    }
   ],
   "source": [
    "pSymptom = df.drop('corona_result', axis=1).mean()\n",
    "pSymptom"
   ]
  },
  {
   "cell_type": "code",
   "execution_count": 15,
   "id": "4e8a8475681acc96",
   "metadata": {
    "ExecuteTime": {
     "end_time": "2025-10-26T13:13:12.912579Z",
     "start_time": "2025-10-26T13:13:12.903857Z"
    }
   },
   "outputs": [
    {
     "data": {
      "text/plain": [
       "0.053568570971355416"
      ]
     },
     "execution_count": 15,
     "metadata": {},
     "output_type": "execute_result"
    }
   ],
   "source": [
    "pCovid = df.corona_result.mean()\n",
    "pCovid"
   ]
  },
  {
   "cell_type": "code",
   "execution_count": 16,
   "id": "37f96fe762bd65f4",
   "metadata": {
    "ExecuteTime": {
     "end_time": "2025-10-26T13:13:13.111259Z",
     "start_time": "2025-10-26T13:13:13.108404Z"
    }
   },
   "outputs": [
    {
     "data": {
      "text/plain": [
       "cough                  0.158590\n",
       "sore_throat            0.806606\n",
       "shortness_of_breath    0.751501\n",
       "head_ache              0.937954\n",
       "dtype: float64"
      ]
     },
     "execution_count": 16,
     "metadata": {},
     "output_type": "execute_result"
    }
   ],
   "source": [
    "pCovid_Symptom = pSympton_Covid * pCovid / pSymptom\n",
    "pCovid_Symptom"
   ]
  },
  {
   "cell_type": "markdown",
   "id": "e3c46ca27fbcb02e",
   "metadata": {},
   "source": [
    "d) Which one would you rather use to prioritize individuals for covid tests, P(symptom|covid)\n",
    "or P(covid|symptom) ? List the symptoms from highest to lowest priority and argue that\n",
    "it makes a big dierence what conditional probability you use."
   ]
  },
  {
   "cell_type": "markdown",
   "id": "989ccf2fe1136726",
   "metadata": {},
   "source": [
    "Of course we want to sort out the invidiuals with the highest risk of suffering from Covid-19 and are therefore interested in P(covid|symptom). The order of priority is, from highest to lowest:\n",
    "\n",
    "1. head ache\n",
    "2. sore throat\n",
    "3. shortness of breath\n",
    "4. fever\n",
    "5. cough\n",
    "\n",
    "The other probability P(symptom|covid) gives an almost inverted order and is not relevant for this problem!"
   ]
  },
  {
   "cell_type": "markdown",
   "id": "dbbed259afb8ab6f",
   "metadata": {},
   "source": [
    "## Exercise 11: Sick trees\n",
    "\n",
    "This is an exercise borrowed from the book Bayes rules!\n",
    "\n",
    "A local arboretum contains a variety of tree species, including elms, maples, and others. Unfortunately, 18% of all trees in the arboretum are infected with mold. Among the infected trees,\n",
    "15% are elms, 80% are maples, and 5% are other species. Among the uninfected trees, 20%\n",
    "are elms, 10% are maples, and 70% are other species. In monitoring the spread of mold, an\n",
    "arboretum employee randomly selects a tree to test."
   ]
  },
  {
   "cell_type": "markdown",
   "id": "c86f5ecf63e77f97",
   "metadata": {},
   "source": [
    "![Exercise 11 Probability Tree](Exercise-11.png)"
   ]
  },
  {
   "cell_type": "markdown",
   "id": "af77c252fa3b9d1b",
   "metadata": {},
   "source": [
    "a) What's the prior probability that the selected tree has mold?\n",
    "\n",
    "18%"
   ]
  },
  {
   "cell_type": "markdown",
   "id": "60ce25c9f1f587ee",
   "metadata": {},
   "source": [
    "b) The tree happens to be a maple. What's the probability that the employee would have selected a maple?\n",
    "\n",
    "$$\n",
    "\\begin{align}\n",
    "P(Maple) &= P(Mold) * P(Maple | Mold) + P(NoMold) * P(Maple | NoMold)\\\\\n",
    "         &= 0.18 * 0.8 + 0.82 * 0.1\\\\\n",
    "         &= 0.226\n",
    "\\end{align}\n",
    "$$"
   ]
  },
  {
   "cell_type": "markdown",
   "id": "b4032081a63b55ea",
   "metadata": {},
   "source": [
    "c) What's the posterior probability that the selected maple tree has mold?\n"
   ]
  },
  {
   "cell_type": "markdown",
   "id": "699f0232497a70c8",
   "metadata": {},
   "source": [
    "$$\n",
    "P(Mold | Maple) = \\frac{P(Mold) \\cdot P(Maple | Mold)}{P(Maple)} = \\frac{18\\% \\cdot 80\\%}{22.6\\%} = 63.717\\%\n",
    "$$"
   ]
  },
  {
   "cell_type": "markdown",
   "id": "bd558beb0be657c7",
   "metadata": {},
   "source": [
    "d) Compare the prior and posterior probability of the tree having mold. How did your\n",
    "understanding change in light of the fact that the tree is a maple?\n"
   ]
  },
  {
   "cell_type": "markdown",
   "id": "17936339543a30af",
   "metadata": {},
   "source": [
    "Prior probability:\n",
    "\n",
    "$$\n",
    "P(Mold) = 18\\%\n",
    "$$\n",
    "\n",
    "Posterior probability:\n",
    "\n",
    "$$\n",
    "P(Mold | Maple) = 63.717\\%\n",
    "$$\n",
    "\n",
    "Knowing that it's a maple raised the prior probability of mold from 18% to 63.7%. This makes sense, as maples are over-represented in infected trees and under-represented in healthy trees."
   ]
  },
  {
   "cell_type": "markdown",
   "id": "a77a19c9adaf203a",
   "metadata": {},
   "source": [
    "e) There is another way to compute the posterior probability using a simulation! Proceed\n",
    "in the following way:\n",
    "\n",
    "1. Simulate 10'000 random trees and whether they have mold with np.random.choice()\n",
    "according to the prior probability P(mold) and store your result in a data frame.\n",
    "2. Assign a maple probability ($P(maple|mold)$ or $P(maple|\\overline{mold})$) from the description\n",
    "above to each tree according to whether the tree has mold or not.\n",
    "3. For each tree, randomly sample whether it's a maple using np.random.choice()\n",
    "and $P(maple|mold)$.\n",
    "4. Compute P(mold|maple) by ltering out only maple trees and computing the ratio\n",
    "of them that has mold.\n",
    "\n",
    "How close is the simulated posterior probability to the one computed in d) with Bayes'\n",
    "theorem? Take some time and ponder why this simulation works. In the literature, this\n",
    "type of simulation is often called ancestral sampling, since it samples from two hierarchical\n",
    "levels."
   ]
  },
  {
   "cell_type": "code",
   "execution_count": 17,
   "id": "50e769133074ff29",
   "metadata": {
    "ExecuteTime": {
     "end_time": "2025-10-26T13:13:13.226607Z",
     "start_time": "2025-10-26T13:13:13.171127Z"
    }
   },
   "outputs": [
    {
     "data": {
      "text/html": [
       "<div>\n",
       "<style scoped>\n",
       "    .dataframe tbody tr th:only-of-type {\n",
       "        vertical-align: middle;\n",
       "    }\n",
       "\n",
       "    .dataframe tbody tr th {\n",
       "        vertical-align: top;\n",
       "    }\n",
       "\n",
       "    .dataframe thead th {\n",
       "        text-align: right;\n",
       "    }\n",
       "</style>\n",
       "<table border=\"1\" class=\"dataframe\">\n",
       "  <thead>\n",
       "    <tr style=\"text-align: right;\">\n",
       "      <th></th>\n",
       "      <th>mold</th>\n",
       "      <th>pMaple</th>\n",
       "      <th>maple</th>\n",
       "    </tr>\n",
       "  </thead>\n",
       "  <tbody>\n",
       "    <tr>\n",
       "      <th>0</th>\n",
       "      <td>False</td>\n",
       "      <td>0.1</td>\n",
       "      <td>False</td>\n",
       "    </tr>\n",
       "    <tr>\n",
       "      <th>1</th>\n",
       "      <td>True</td>\n",
       "      <td>0.8</td>\n",
       "      <td>False</td>\n",
       "    </tr>\n",
       "    <tr>\n",
       "      <th>2</th>\n",
       "      <td>False</td>\n",
       "      <td>0.1</td>\n",
       "      <td>False</td>\n",
       "    </tr>\n",
       "    <tr>\n",
       "      <th>3</th>\n",
       "      <td>False</td>\n",
       "      <td>0.1</td>\n",
       "      <td>False</td>\n",
       "    </tr>\n",
       "    <tr>\n",
       "      <th>4</th>\n",
       "      <td>False</td>\n",
       "      <td>0.1</td>\n",
       "      <td>False</td>\n",
       "    </tr>\n",
       "    <tr>\n",
       "      <th>...</th>\n",
       "      <td>...</td>\n",
       "      <td>...</td>\n",
       "      <td>...</td>\n",
       "    </tr>\n",
       "    <tr>\n",
       "      <th>9995</th>\n",
       "      <td>True</td>\n",
       "      <td>0.8</td>\n",
       "      <td>True</td>\n",
       "    </tr>\n",
       "    <tr>\n",
       "      <th>9996</th>\n",
       "      <td>True</td>\n",
       "      <td>0.8</td>\n",
       "      <td>True</td>\n",
       "    </tr>\n",
       "    <tr>\n",
       "      <th>9997</th>\n",
       "      <td>True</td>\n",
       "      <td>0.8</td>\n",
       "      <td>True</td>\n",
       "    </tr>\n",
       "    <tr>\n",
       "      <th>9998</th>\n",
       "      <td>False</td>\n",
       "      <td>0.1</td>\n",
       "      <td>False</td>\n",
       "    </tr>\n",
       "    <tr>\n",
       "      <th>9999</th>\n",
       "      <td>False</td>\n",
       "      <td>0.1</td>\n",
       "      <td>False</td>\n",
       "    </tr>\n",
       "  </tbody>\n",
       "</table>\n",
       "<p>10000 rows × 3 columns</p>\n",
       "</div>"
      ],
      "text/plain": [
       "       mold  pMaple  maple\n",
       "0     False     0.1  False\n",
       "1      True     0.8  False\n",
       "2     False     0.1  False\n",
       "3     False     0.1  False\n",
       "4     False     0.1  False\n",
       "...     ...     ...    ...\n",
       "9995   True     0.8   True\n",
       "9996   True     0.8   True\n",
       "9997   True     0.8   True\n",
       "9998  False     0.1  False\n",
       "9999  False     0.1  False\n",
       "\n",
       "[10000 rows x 3 columns]"
      ]
     },
     "execution_count": 17,
     "metadata": {},
     "output_type": "execute_result"
    }
   ],
   "source": [
    "n = 10_000\n",
    "\n",
    "pMold = 0.18\n",
    "pMaple_Mold = 0.8\n",
    "pMaple_NotMold = 0.1\n",
    "\n",
    "df = pandas.DataFrame({ 'mold': np.random.choice([False, True], p = [1. - pMold, pMold], size = n) })\n",
    "\n",
    "df['pMaple'] = df.mold.map({ False: pMaple_NotMold, True: pMaple_Mold })\n",
    "df['maple'] = df.pMaple.apply(lambda pMaple : np.random.choice([False, True], p = [1. - pMaple, pMaple]))\n",
    "\n",
    "df"
   ]
  },
  {
   "cell_type": "code",
   "execution_count": 18,
   "id": "5b5186e1abdc1cc8",
   "metadata": {
    "ExecuteTime": {
     "end_time": "2025-10-26T13:13:14.090688Z",
     "start_time": "2025-10-26T13:13:14.087750Z"
    }
   },
   "outputs": [
    {
     "data": {
      "text/plain": [
       "0.6255545696539485"
      ]
     },
     "execution_count": 18,
     "metadata": {},
     "output_type": "execute_result"
    }
   ],
   "source": [
    "pMold_Maple = df[df.maple == True].mold.mean()\n",
    "pMold_Maple"
   ]
  },
  {
   "cell_type": "markdown",
   "id": "8ecf26fd92a4a178",
   "metadata": {},
   "source": [
    "The simulated value is $64.29\\%$ wherelse the calculated one using Bayes' Theorem is $63.72\\%$. That said, the simulation is pretty accurate. It works because its the frequentist' way of calculating the probability - so it relies on the law of large numbers."
   ]
  },
  {
   "attachments": {
    "1c24aaae-c419-44eb-851d-cc39f08bf742.png": {
     "image/png": "[encoded data removed]"
    }
   },
   "cell_type": "markdown",
   "id": "c72a199a-9937-4360-8d20-6d6ac141ed41",
   "metadata": {},
   "source": [
    "![image.png](attachment:1c24aaae-c419-44eb-851d-cc39f08bf742.png)"
   ]
  },
  {
   "cell_type": "markdown",
   "id": "beb7ab32-a9df-4a7b-bb8f-38b1a288fdac",
   "metadata": {},
   "source": [
    "# Solutions"
   ]
  },
  {
   "cell_type": "markdown",
   "id": "c2a5f75b-bb33-4026-923f-9e289f67c1ca",
   "metadata": {},
   "source": [
    "Import necessary libraries:"
   ]
  },
  {
   "cell_type": "code",
   "execution_count": 1,
   "id": "b9f2fcfa-4497-4791-9953-c8e825b2b423",
   "metadata": {
    "ExecuteTime": {
     "end_time": "2025-09-21T07:19:45.071509Z",
     "start_time": "2025-09-21T07:19:44.226713Z"
    }
   },
   "outputs": [],
   "source": [
    "import pandas as pd\n",
    "import numpy as np\n",
    "from scipy import stats\n",
    "import matplotlib.pyplot as plt\n",
    "plt.rcParams[\"figure.figsize\"] = (15,3)"
   ]
  },
  {
   "cell_type": "markdown",
   "id": "10ee1c75-ec58-4e73-a7e2-2864fa418e7f",
   "metadata": {},
   "source": [
    "## Exercise 1: What view of probability is more appropriate?"
   ]
  },
  {
   "cell_type": "markdown",
   "id": "f6dcb483-afcd-4b11-a829-8dbbac43d2aa",
   "metadata": {},
   "source": [
    "### a)\n",
    "\n",
    "Frequentist approach could be used here, divide the number of cancer cases by the male Swiss population between 50 and 60, seeing cancer as a Bernoulli experiment and treating all individuals equally. We will see next week that this can also be formulated as a continuous problem from a Bayesian viewpoint."
   ]
  },
  {
   "cell_type": "markdown",
   "id": "426a3e7b-e1be-41de-9141-0f67336e927e",
   "metadata": {},
   "source": [
    "###  b)\n",
    "\n",
    "There is not much subjectivity in games and games are highly repeatable experiments, so a Frequentist view can be preferred. This would of course be different if the rules of the games were not known beforehand."
   ]
  },
  {
   "cell_type": "markdown",
   "id": "64dc1461-28da-42d4-995c-178765714d97",
   "metadata": {},
   "source": [
    "### c)\n",
    "\n",
    "Frequentist statistics cannot incorporate prior information, so a Bayesian view is preferred here."
   ]
  },
  {
   "cell_type": "markdown",
   "id": "b9aef6a8-f370-4a85-a89e-1f311ebbae7b",
   "metadata": {},
   "source": [
    "### d)\n",
    "\n",
    "Frequentist models can only be used to assess the probability of data under a hypothesis. In principle, the physicist could check how probable her data are under the assumption of the standard model and reject this null hypothesis when a sufficiently small p-value is reached. This can be dangerously misleading, as unlikely data could also have been produced by a faulty experiment. It's better to choose a Bayesian viewpoint and to assess the probability (plausibility, degree of belief in) of the standard model or an alternative hypothesis and take into account the prior belief that her small experiment might not be enough to challenge an established and well-tested theory."
   ]
  },
  {
   "cell_type": "markdown",
   "id": "154a775a-0dbc-4299-8f9c-16b56eb8781b",
   "metadata": {},
   "source": [
    "### e)\n",
    "\n",
    "Car accidents can be seen as a repeatable random experiment and a Frequentist view can be assumed. However a Frequentist approach can only take into account historical data (e.g. observing and modelling a trend in car accidents) and not other expert-level data, such as the introduction of new laws (e.g. stronger tests of older people)."
   ]
  },
  {
   "cell_type": "markdown",
   "id": "b87b8165-d3e9-409b-81c9-0edac507a653",
   "metadata": {},
   "source": [
    "### f)\n",
    "\n",
    "While historical data might be of some use in the prediction of inflation rates, they are probably mostly driven by expert knowledge about markets, conflicts, etc, so a Bayesian approach might be preferred. "
   ]
  },
  {
   "cell_type": "markdown",
   "id": "cc525c03-8273-4717-9ae3-2d79a66e056e",
   "metadata": {},
   "source": [
    "### g)\n",
    "\n",
    "The doctor has assessed your symptoms (data) and can ask himself two different questions: What is the probability P(symptoms|scabies) that wou would have these symptoms given you have scabies? Are there infections or diseases with a higher probability for this symptoms? (Frequentist view) Under a Bayesian view, he could directly evaluate P(scabies|symptoms), a degree of belief in that you have scabies. The latter is much more straightforward."
   ]
  },
  {
   "cell_type": "markdown",
   "id": "5157751f-40bb-4550-ab9c-a72b5fec0356",
   "metadata": {},
   "source": [
    "### h)\n",
    "\n",
    "Producing a large amount of screws is a highly repeatable experiment, so a Frequentist view (uncertainty is in the object) could be preferred. However, if only an extremely small number of screws is actually defective (say one in a million), then the Bayesian viewpoint might perform better because its abilities to deal better with few-sample situations."
   ]
  },
  {
   "cell_type": "markdown",
   "id": "6c1b6933-a42c-4c3a-8605-38d4698b2f0c",
   "metadata": {},
   "source": [
    "## Exercise 2: The law of large numbers"
   ]
  },
  {
   "cell_type": "markdown",
   "id": "36464576-7e07-4cac-937d-cea42f20e6e4",
   "metadata": {},
   "source": [
    "Simulate coin tosses:"
   ]
  },
  {
   "cell_type": "code",
   "execution_count": 2,
   "id": "5bdfb0ee-5755-40ef-b014-589533e2a7d8",
   "metadata": {},
   "outputs": [
    {
     "data": {
      "text/plain": [
       "array([1, 0, 0, 0, 0, 0, 0, 1, 0, 1, 0, 0, 1, 1, 1, 0, 1, 1, 0, 1])"
      ]
     },
     "execution_count": 2,
     "metadata": {},
     "output_type": "execute_result"
    }
   ],
   "source": [
    "N_tosses = 1000\n",
    "tosses = np.random.randint(2, size=N_tosses)\n",
    "tosses[:20]"
   ]
  },
  {
   "cell_type": "markdown",
   "id": "dba8b9c7-73c8-496f-9b25-e503824cdf61",
   "metadata": {},
   "source": [
    "Compute cumulative relative frequencies (aka frequentist probabilities):"
   ]
  },
  {
   "cell_type": "code",
   "execution_count": 3,
   "id": "1b6491ac-132f-4fbc-ab3d-793dce59bbfb",
   "metadata": {},
   "outputs": [
    {
     "data": {
      "text/plain": [
       "array([1.        , 0.5       , 0.33333333, 0.25      , 0.2       ,\n",
       "       0.16666667, 0.14285714, 0.25      , 0.22222222, 0.3       ,\n",
       "       0.27272727, 0.25      , 0.30769231, 0.35714286, 0.4       ,\n",
       "       0.375     , 0.41176471, 0.44444444, 0.42105263, 0.45      ])"
      ]
     },
     "execution_count": 3,
     "metadata": {},
     "output_type": "execute_result"
    }
   ],
   "source": [
    "cum_tosses = np.arange( 1, N_tosses+1, 1)\n",
    "probs = np.cumsum( tosses ) / cum_tosses\n",
    "probs[:20]"
   ]
  },
  {
   "cell_type": "markdown",
   "id": "19b7be86-e8de-413a-9f33-2cf40ce079d2",
   "metadata": {},
   "source": [
    "Final probability:"
   ]
  },
  {
   "cell_type": "code",
   "execution_count": 4,
   "id": "b6ba26f5-b372-47b9-9e32-0986acf67abb",
   "metadata": {},
   "outputs": [
    {
     "data": {
      "text/plain": [
       "0.514"
      ]
     },
     "execution_count": 4,
     "metadata": {},
     "output_type": "execute_result"
    }
   ],
   "source": [
    "probs[-1]"
   ]
  },
  {
   "cell_type": "markdown",
   "id": "f51f4977-a7f7-4b34-93df-1b52301df7ee",
   "metadata": {},
   "source": [
    "Visualize:"
   ]
  },
  {
   "cell_type": "code",
   "execution_count": 5,
   "id": "65a5faab-9c40-46da-af0d-9214f50a53c9",
   "metadata": {},
   "outputs": [
    {
     "data": {
      "text/plain": [
       "<matplotlib.lines.Line2D at 0x7f98fc057a60>"
      ]
     },
     "execution_count": 5,
     "metadata": {},
     "output_type": "execute_result"
    },
    {
     "data": {
      "image/png": "[encoded data removed]",
      "text/plain": [
       "<Figure size 1500x300 with 1 Axes>"
      ]
     },
     "metadata": {},
     "output_type": "display_data"
    }
   ],
   "source": [
    "plt.figure( figsize=(15,3) )\n",
    "plt.plot( cum_tosses, probs, lw=2 )\n",
    "plt.xlabel(\"tosses\", fontsize=20)\n",
    "plt.ylabel(\"P(heads)\", fontsize=20)\n",
    "plt.axhline(0.5, c=\"black\", lw=1, ls=\"--\")"
   ]
  },
  {
   "cell_type": "code",
   "execution_count": 6,
   "id": "6e835673-5b80-4006-b532-b89b972bee19",
   "metadata": {},
   "outputs": [
    {
     "data": {
      "text/plain": [
       "0.514"
      ]
     },
     "execution_count": 6,
     "metadata": {},
     "output_type": "execute_result"
    }
   ],
   "source": [
    "probs[-1]"
   ]
  },
  {
   "cell_type": "markdown",
   "id": "d49d625a-e552-44c3-8ca4-a3f73241cae1",
   "metadata": {},
   "source": [
    "To reach more or less stably a 0.5000 or 0.4999, around 100 Million coin tosses are needed! Next week we will discuss a way to do this without trial and error with - guess- Bayes' theorem!"
   ]
  },
  {
   "cell_type": "markdown",
   "id": "0e501883-e077-4da1-9430-3e73578260f5",
   "metadata": {},
   "source": [
    "## Exercise 3: Binomially distributed random variables"
   ]
  },
  {
   "cell_type": "markdown",
   "id": "3cb3a320-6230-41b3-aa73-f8f1f5f5e3f2",
   "metadata": {},
   "source": [
    "### a)"
   ]
  },
  {
   "cell_type": "code",
   "execution_count": 7,
   "id": "254ec44f-9c0a-4dfb-9cc5-2718995b933d",
   "metadata": {},
   "outputs": [
    {
     "data": {
      "text/plain": [
       "0.37735360253530753"
      ]
     },
     "execution_count": 7,
     "metadata": {},
     "output_type": "execute_result"
    }
   ],
   "source": [
    "stats.binom.pmf(n=20, k=1, p=0.05)"
   ]
  },
  {
   "cell_type": "markdown",
   "id": "73597b62-e9e8-40b4-9cc2-ebd4c4813280",
   "metadata": {},
   "source": [
    "37.7%!"
   ]
  },
  {
   "cell_type": "markdown",
   "id": "bb94283c-e5f8-4b3f-8e7f-a13ae5b244c7",
   "metadata": {},
   "source": [
    "### b)"
   ]
  },
  {
   "cell_type": "code",
   "execution_count": 8,
   "id": "d3d82a10-5a0c-432c-8079-d49c9a0fa7cc",
   "metadata": {},
   "outputs": [
    {
     "data": {
      "text/plain": [
       "[0.35848592240854216,\n",
       " 0.37735360253530753,\n",
       " 0.18867680126765404,\n",
       " 0.05958214776873281,\n",
       " 0.013327585685111266,\n",
       " 0.002244646010124003,\n",
       " 0.000295348159226843,\n",
       " 3.108927991861506e-05,\n",
       " 2.65895157198681e-06,\n",
       " 1.865930927710043e-07,\n",
       " 1.0802758002531826e-08,\n",
       " 5.168783733268815e-10,\n",
       " 2.0403093683955847e-11,\n",
       " 6.608289452293395e-13,\n",
       " 1.7390235400772084e-14,\n",
       " 3.6611021896362295e-16,\n",
       " 6.021549654006963e-18,\n",
       " 7.457027435302746e-20,\n",
       " 6.541252136230482e-22,\n",
       " 3.623962402343752e-24,\n",
       " 9.536743164062511e-27]"
      ]
     },
     "execution_count": 8,
     "metadata": {},
     "output_type": "execute_result"
    }
   ],
   "source": [
    "krange = range(21)\n",
    "pmf = [stats.binom.pmf(n=20, k=k, p=0.05) for k in krange]\n",
    "pmf"
   ]
  },
  {
   "cell_type": "code",
   "execution_count": 9,
   "id": "993d7991-75d4-483c-8f16-345b4bc1c220",
   "metadata": {},
   "outputs": [
    {
     "data": {
      "text/plain": [
       "Text(0, 0.5, 'p(k)')"
      ]
     },
     "execution_count": 9,
     "metadata": {},
     "output_type": "execute_result"
    },
    {
     "data": {
      "image/png": "[encoded data removed]",
      "text/plain": [
       "<Figure size 1500x300 with 1 Axes>"
      ]
     },
     "metadata": {},
     "output_type": "display_data"
    }
   ],
   "source": [
    "plt.bar( krange, pmf, width=0.3 )\n",
    "plt.xlabel(\"k\")\n",
    "plt.ylabel(\"p(k)\")"
   ]
  },
  {
   "cell_type": "markdown",
   "id": "367be00a-c745-4316-839f-15c9299d9de2",
   "metadata": {},
   "source": [
    "### c)"
   ]
  },
  {
   "cell_type": "markdown",
   "id": "998f9b04-3a48-4687-a972-556fd3b55b6d",
   "metadata": {},
   "source": [
    "3 or less pumps faulty:"
   ]
  },
  {
   "cell_type": "code",
   "execution_count": 10,
   "id": "4e2ecb15-2dd3-420d-9581-7fc6dc37da17",
   "metadata": {},
   "outputs": [
    {
     "data": {
      "text/plain": [
       "0.9840984739802364"
      ]
     },
     "execution_count": 10,
     "metadata": {},
     "output_type": "execute_result"
    }
   ],
   "source": [
    "stats.binom.cdf(n=20, k=3, p=0.05)"
   ]
  },
  {
   "cell_type": "markdown",
   "id": "3967cfef-10d2-4c64-8d43-beabc1bfb2ca",
   "metadata": {},
   "source": [
    "3 or more pumps faulty:"
   ]
  },
  {
   "cell_type": "code",
   "execution_count": 11,
   "id": "4e3e7bdc-6b5c-4cb3-b583-c4b48a855501",
   "metadata": {},
   "outputs": [
    {
     "data": {
      "text/plain": [
       "0.01590152601976358"
      ]
     },
     "execution_count": 11,
     "metadata": {},
     "output_type": "execute_result"
    }
   ],
   "source": [
    "1-stats.binom.cdf(n=20, k=3, p=0.05)"
   ]
  },
  {
   "cell_type": "markdown",
   "id": "6fcfdf98-cacd-409b-b57e-e950c573651d",
   "metadata": {},
   "source": [
    "1.6%!"
   ]
  },
  {
   "cell_type": "markdown",
   "id": "1049c189-de5c-40a7-9afe-46b88e375e62",
   "metadata": {},
   "source": [
    "### d)"
   ]
  },
  {
   "cell_type": "markdown",
   "id": "c7439219-701f-4ba1-95ef-9ba46dd29395",
   "metadata": {},
   "source": [
    "The probably for 10 pumps to be faulty is extremely small (one in every 100 million days..):"
   ]
  },
  {
   "cell_type": "code",
   "execution_count": 12,
   "id": "e4b53ea1-50ed-4d0c-b7fa-c93e1d698d24",
   "metadata": {},
   "outputs": [
    {
     "data": {
      "text/plain": [
       "1.0802758002531826e-08"
      ]
     },
     "execution_count": 12,
     "metadata": {},
     "output_type": "execute_result"
    }
   ],
   "source": [
    "stats.binom.pmf(n=20, k=10, p=0.05)"
   ]
  },
  {
   "cell_type": "markdown",
   "id": "a667ff57-4055-4fb9-b0da-8330523c23f5",
   "metadata": {},
   "source": [
    "Probably the machine is broken or a bad batch of input materials was used!"
   ]
  },
  {
   "cell_type": "markdown",
   "id": "9d254c8b-91da-4f0f-aabe-05abc395b69f",
   "metadata": {},
   "source": [
    "## Exercise 4: Expectation of a PMF"
   ]
  },
  {
   "cell_type": "markdown",
   "id": "f1122c09-c1a4-4e7c-86c6-18ebe160171e",
   "metadata": {},
   "source": [
    "$$\n",
    "\\begin{eqnarray}\n",
    "E[X] &=& \\sum_{k=0}^\\infty k \\; p(k) \\\\\n",
    " &=& \\sum_{k=1}^\\infty k \\; \\frac{\\lambda^k \\; e^{-\\lambda}}{k!} \\quad\\quad \\text{term with $k=0$ drops anyway} \\\\\n",
    "     &=& e^{-\\lambda} \\sum_{k=1}^\\infty k \\; \\frac{\\lambda^k}{k!} \\quad\\quad \\text{take $e^{-\\lambda}$ out of the sum} \\\\\n",
    "     &=& e^{-\\lambda} \\sum_{k=1}^\\infty \\frac{\\lambda^k}{(k-1)!} \\quad\\quad \\text{take $k$ into the factorial} \\\\\n",
    "     &=& e^{-\\lambda} \\sum_{l=0}^\\infty \\frac{\\lambda^{l+1}}{l!} \\quad\\quad l \\equiv k-1 \\\\\n",
    "     &=& e^{-\\lambda} \\; \\lambda \\; \\underbrace{\\sum_{l=0}^\\infty \\frac{\\lambda^l}{l!}}_{e^\\lambda} \\quad\\quad \\lambda^{l+1} = \\lambda^l \\cdot \\lambda\\\\\n",
    "     &=& e^{-\\lambda} \\; e^\\lambda \\; \\lambda \\quad\\quad e^{-\\lambda} \\; e^{\\lambda} = 1\\\\\n",
    "     &=& \\lambda\n",
    "\\end{eqnarray}\n",
    "$$"
   ]
  },
  {
   "cell_type": "markdown",
   "id": "5364e4e5-8d83-49fb-98dd-ac27b8b33398",
   "metadata": {},
   "source": [
    "## Exercise 5: Maximum likelihood estimator"
   ]
  },
  {
   "cell_type": "markdown",
   "id": "84d7d34678bd8df6",
   "metadata": {},
   "source": []
  },
  {
   "cell_type": "markdown",
   "id": "0b6fbbf9-daee-4760-9da2-6cb648120a4e",
   "metadata": {},
   "source": [
    "### a)"
   ]
  },
  {
   "cell_type": "markdown",
   "id": "a4cee98f-079a-4488-85bf-4a1dca543eb7",
   "metadata": {},
   "source": [
    "$$\n",
    "\\begin{eqnarray}\n",
    " \\frac{\\text{d}}{\\text{d}\\pi} L(\\pi \\; | \\; Y=k) &=& \\begin{pmatrix} n \\\\ k \\end{pmatrix} \\frac{\\text{d}}{\\text{d}\\pi} \\left[\\pi^k \\; (1-\\pi)^{n-k} \\right] \\\\\n",
    "  &=& \\begin{pmatrix} n \\\\ k \\end{pmatrix} \\left[k \\; \\pi^{k-1} \\; (1-\\pi)^{n-k} + \\pi^k \\; (1-\\pi)^{n-k-1} \\; (-1) \\right] \\\\\n",
    "  &=& \\begin{pmatrix} n \\\\ k \\end{pmatrix} \\pi^{k-1} \\; (1-\\pi)^{n-k-1} \\underbrace{\\left[ k\\;(1-\\pi) - (n-k)\\;\\pi\\right]}_{=0}  = 0\n",
    "\\end{eqnarray}\n",
    "$$\n",
    "\n",
    "$$\n",
    "k\\;(1-\\pi) - (n-k)\\;\\pi = k - n\\;\\pi = 0 \\quad \\Rightarrow \\quad \\hat{\\pi} = \\frac{k}{n}\n",
    "$$"
   ]
  },
  {
   "cell_type": "markdown",
   "id": "ca598fdc-900c-45df-b461-be81d16d5eef",
   "metadata": {},
   "source": [
    "### b)"
   ]
  },
  {
   "cell_type": "markdown",
   "id": "c9afae46-b8a2-49ae-85b8-893a0e30fff3",
   "metadata": {},
   "source": [
    "Compute likelihood values:"
   ]
  },
  {
   "cell_type": "code",
   "execution_count": 13,
   "id": "810a36a2-4cb7-45ec-91e9-86d7512f419b",
   "metadata": {},
   "outputs": [],
   "source": [
    "from scipy.stats import binom\n",
    "pi_values = np.arange(0,1.1,0.05)\n",
    "probs = [binom.pmf(k=8, n=10, p=pi) for pi in pi_values]"
   ]
  },
  {
   "cell_type": "markdown",
   "id": "d74f6883-a716-4e12-aa4c-53e9fab97524",
   "metadata": {},
   "source": [
    "Plot:"
   ]
  },
  {
   "cell_type": "code",
   "execution_count": 14,
   "id": "5e730882-fc9a-44df-b241-261d1a132939",
   "metadata": {},
   "outputs": [
    {
     "data": {
      "text/plain": [
       "Text(0, 0.5, '$L(\\\\pi|k=8)$')"
      ]
     },
     "execution_count": 14,
     "metadata": {},
     "output_type": "execute_result"
    },
    {
     "data": {
      "image/png": "[encoded data removed]",
      "text/plain": [
       "<Figure size 1500x300 with 1 Axes>"
      ]
     },
     "metadata": {},
     "output_type": "display_data"
    }
   ],
   "source": [
    "plt.figure( figsize=(15,3) )\n",
    "plt.plot( pi_values, probs, marker=\"o\" )\n",
    "plt.xlabel(\"$\\pi$\", fontsize=20)\n",
    "plt.ylabel(\"$L(\\pi|k=8)$\", fontsize=20)"
   ]
  },
  {
   "cell_type": "markdown",
   "id": "ddef1bbc-0fa3-4fe6-99f9-cc31a38356b0",
   "metadata": {},
   "source": [
    "## Exercise 6: Fighting terrorism"
   ]
  },
  {
   "cell_type": "markdown",
   "id": "749e6c5c-612d-43f7-8a44-4b4380720956",
   "metadata": {},
   "source": [
    "According to Wikipedia, 471'300 people walk through Zurich mainstation every day. Your system would flag 47 people as terrorists every day that would need to be arrested and investigated. With the very small rate of potential terrorists in Switzerland, almost all of the arrested people will be innocent. This would firstly be extremely expensive and secondly result in unpleasant consequences for the arrested people. Better not buy the system!"
   ]
  },
  {
   "cell_type": "markdown",
   "id": "d4190054-affc-4eeb-be1c-54c8823c3ad9",
   "metadata": {},
   "source": [
    "## Exercise 7: Prison populations in Switzerland"
   ]
  },
  {
   "cell_type": "markdown",
   "id": "0ee40aba-2335-4a64-ba63-352d0e6a3d23",
   "metadata": {},
   "source": [
    "### $P(P|S)$:"
   ]
  },
  {
   "attachments": {},
   "cell_type": "markdown",
   "id": "33ba5a41-d9af-45e8-9e09-d1ac3835c972",
   "metadata": {},
   "source": [
    "We need to employ Bayes' theorem here:\n",
    "\n",
    "$P(P|S) = \\frac{P(S|P) \\; P(P)}{P(S)}.$\n",
    "\n",
    "Let's go through the individual quantities bit by bit.\n",
    "\n",
    "$P(P)$:"
   ]
  },
  {
   "cell_type": "code",
   "execution_count": 15,
   "id": "5d6f90f6-0204-4a92-8a7c-0a0cd47f09cb",
   "metadata": {},
   "outputs": [
    {
     "data": {
      "text/plain": [
       "0.0007322654462242563"
      ]
     },
     "execution_count": 15,
     "metadata": {},
     "output_type": "execute_result"
    }
   ],
   "source": [
    "PP = 6400 / 8740000\n",
    "PP"
   ]
  },
  {
   "attachments": {},
   "cell_type": "markdown",
   "id": "8f4c09eb-8385-4f8a-b6cb-1651b76a6d3c",
   "metadata": {},
   "source": [
    "The probability that a randomly selected inhabitant is in prison is 0.073%! (one in 1366 people)."
   ]
  },
  {
   "cell_type": "markdown",
   "id": "650fce9d-8cdc-4f8b-af3c-29f1a73e018d",
   "metadata": {},
   "source": [
    "$P(S), P(\\overline{S})$:"
   ]
  },
  {
   "cell_type": "code",
   "execution_count": 16,
   "id": "c7ca5b0a-fa31-4aaa-b8be-dd0059c15e99",
   "metadata": {},
   "outputs": [
    {
     "data": {
      "text/plain": [
       "0.73"
      ]
     },
     "execution_count": 16,
     "metadata": {},
     "output_type": "execute_result"
    }
   ],
   "source": [
    "PnotS = 0.27\n",
    "PS = 1-PnotS\n",
    "PS"
   ]
  },
  {
   "cell_type": "markdown",
   "id": "0d6a5a9d-94bf-4f99-ab77-f2d98477290a",
   "metadata": {},
   "source": [
    "$P(S|P)$:"
   ]
  },
  {
   "cell_type": "code",
   "execution_count": 17,
   "id": "ce895ea3-964f-47a5-b2e7-e4444e40b16d",
   "metadata": {},
   "outputs": [
    {
     "data": {
      "text/plain": [
       "0.30000000000000004"
      ]
     },
     "execution_count": 17,
     "metadata": {},
     "output_type": "execute_result"
    }
   ],
   "source": [
    "PnotSgivenP = 0.7\n",
    "PSgivenP = 1 - PnotSgivenP\n",
    "PSgivenP"
   ]
  },
  {
   "cell_type": "markdown",
   "id": "fd58713d-1b03-4912-9ad3-460c9be0a88d",
   "metadata": {},
   "source": [
    "Compute result for $P(P|S)$ via Bayes' theorem:"
   ]
  },
  {
   "cell_type": "code",
   "execution_count": 18,
   "id": "69cd57b8-ccf7-4c4c-888e-b33c761b6c93",
   "metadata": {},
   "outputs": [
    {
     "data": {
      "text/plain": [
       "0.0003009310052976396"
      ]
     },
     "execution_count": 18,
     "metadata": {},
     "output_type": "execute_result"
    }
   ],
   "source": [
    "PPgivenS = PSgivenP * PP / PS\n",
    "PPgivenS"
   ]
  },
  {
   "cell_type": "markdown",
   "id": "0f84db10-e98b-483c-9d8e-7ad3b8fb1cb3",
   "metadata": {},
   "source": [
    "The probability that a person with Swiss nationality is in prison is 0.03% (one person in 3300)."
   ]
  },
  {
   "cell_type": "markdown",
   "id": "97235417-cba7-4e1e-a95b-55090d07c635",
   "metadata": {},
   "source": [
    "### $P(P|\\overline{S})$:"
   ]
  },
  {
   "cell_type": "markdown",
   "id": "af87e78e-2bde-482a-95a8-dcd59a859a10",
   "metadata": {},
   "source": [
    "$\\displaystyle{P(P|\\overline{S}) = \\frac{P(\\overline{S}|P) \\; P(P)}{P(\\overline{S})}}$"
   ]
  },
  {
   "cell_type": "markdown",
   "id": "225c502c-9561-4f80-a66e-af29059d0ef5",
   "metadata": {},
   "source": [
    "$P(\\overline{S}|P) = 1- P(S|P)$:"
   ]
  },
  {
   "cell_type": "code",
   "execution_count": 19,
   "id": "a456bb93-c409-4bb7-a138-69ecee5c6807",
   "metadata": {},
   "outputs": [
    {
     "data": {
      "text/plain": [
       "0.7"
      ]
     },
     "execution_count": 19,
     "metadata": {},
     "output_type": "execute_result"
    }
   ],
   "source": [
    "PnotSgivenP = 1 - PSgivenP\n",
    "PnotSgivenP"
   ]
  },
  {
   "cell_type": "markdown",
   "id": "aced6f87-1dad-4b6e-9a24-b917e53af3c3",
   "metadata": {},
   "source": [
    "Compute result for $P(P|\\overline{S})$:"
   ]
  },
  {
   "cell_type": "code",
   "execution_count": 20,
   "id": "38b28c01-ce64-482d-a1f6-89d936a08bd2",
   "metadata": {},
   "outputs": [
    {
     "data": {
      "text/plain": [
       "0.0018984659716925162"
      ]
     },
     "execution_count": 20,
     "metadata": {},
     "output_type": "execute_result"
    }
   ],
   "source": [
    "PPgivennotS = PnotSgivenP * PP / PnotS\n",
    "PPgivennotS"
   ]
  },
  {
   "cell_type": "markdown",
   "id": "5dd5afc1-82d4-4520-87ea-8eec2b4fcb6f",
   "metadata": {},
   "source": [
    "The probability that a person without Swiss nationality is in prison is 0.2% (one out 500). It is substantially higher than the probability for a Swiss national to be in prison (more than 6 times likely), but certainly still extremely small."
   ]
  },
  {
   "cell_type": "markdown",
   "id": "24c73a8c-80b3-462f-a8ae-1ba39878fa8c",
   "metadata": {},
   "source": [
    "## Exercise 8: Non-Invasive Prenatal Testing"
   ]
  },
  {
   "cell_type": "markdown",
   "id": "ccac6bc2-50f8-475e-ab97-a0134d7ee146",
   "metadata": {},
   "source": [
    "### a)"
   ]
  },
  {
   "cell_type": "markdown",
   "id": "a9ffcb44-2ea3-4e76-803f-60580b2a14b5",
   "metadata": {},
   "source": [
    "Important probabilities:\n",
    "\n",
    "* $P(D) = 0.014$ (prevalence)\n",
    "* $P(T|D) = 0.992$ (sensitivity)\n",
    "* $P(\\overline{T}|\\overline{D}) = 0.9991$ (specificity)\n",
    "* $P(T|\\overline{D}) = 1 - P(\\overline{T}|\\overline{D})$ (false positive rate)"
   ]
  },
  {
   "cell_type": "code",
   "execution_count": 21,
   "id": "499d6a20-b1dc-4d46-918c-29f69294f9c4",
   "metadata": {},
   "outputs": [],
   "source": [
    "preval = 0.014\n",
    "sens = 0.992\n",
    "spec = 0.9991"
   ]
  },
  {
   "cell_type": "markdown",
   "id": "34ba84f9-a61e-4b0f-a2ca-a47606f11475",
   "metadata": {},
   "source": [
    "$P(T)$ over marginalization:\n",
    "\n",
    "$$\n",
    "\\begin{eqnarray}\n",
    "P(T) &=& P(T|D) \\; P(D) + P(T|\\overline{D}) \\; P(\\overline{D}) \\\\\n",
    "     &=& P(T|D) \\; P(D) + (1-P(\\overline{T}|\\overline{D})) \\; (1-P(D))\n",
    "\\end{eqnarray}\n",
    "$$"
   ]
  },
  {
   "cell_type": "code",
   "execution_count": 22,
   "id": "6abd1673-0137-4830-a36e-cc89dccf6b35",
   "metadata": {},
   "outputs": [
    {
     "data": {
      "text/plain": [
       "0.014775400000000013"
      ]
     },
     "execution_count": 22,
     "metadata": {},
     "output_type": "execute_result"
    }
   ],
   "source": [
    "PT = sens * preval + (1-l) * (1-preval)\n",
    "PT"
   ]
  },
  {
   "cell_type": "markdown",
   "id": "a7a25d83-68de-4664-97ae-063f71bd6992",
   "metadata": {},
   "source": [
    "Probability that Down syndrom is present given test is positive:"
   ]
  },
  {
   "cell_type": "markdown",
   "id": "b5c890fa-421c-470c-a4ec-6ee29fbf216d",
   "metadata": {},
   "source": [
    "$$P(D|T) = \\frac{P(T|D) P(D)}{P(T)}$$"
   ]
  },
  {
   "cell_type": "code",
   "execution_count": 23,
   "id": "d2deb678-b6a1-4345-81d0-98925d4fb33b",
   "metadata": {},
   "outputs": [
    {
     "data": {
      "text/plain": [
       "0.9399407122649802"
      ]
     },
     "execution_count": 23,
     "metadata": {},
     "output_type": "execute_result"
    }
   ],
   "source": [
    "PDT = sens * preval / PT\n",
    "PDT"
   ]
  },
  {
   "cell_type": "markdown",
   "id": "780e4600-060c-4ba6-9a63-3bae4e5f39e8",
   "metadata": {},
   "source": [
    "If the test is positive, then in 93% the Down syndrome will actually be present. Compared to other examples, this is quite high!"
   ]
  },
  {
   "cell_type": "markdown",
   "id": "f359fc4a-31ee-4e56-8dae-3661eccecda8",
   "metadata": {},
   "source": [
    "Probability that Down syndrom is present given test is negative:"
   ]
  },
  {
   "cell_type": "markdown",
   "id": "fbaf221c-8af2-4f02-99c3-3b4a3ac36ca2",
   "metadata": {},
   "source": [
    "$$P(D|\\overline{T}) = \\frac{P(\\overline{T}|D) P(D)}{P(\\overline{T})} = \\frac{(1-P(T|D))\\;P(D)}{1-P(T)}$$"
   ]
  },
  {
   "cell_type": "code",
   "execution_count": 24,
   "id": "5f1a7b5a-003c-44e4-94eb-efd4edf281ab",
   "metadata": {},
   "outputs": [
    {
     "data": {
      "text/plain": [
       "0.0001136796624850822"
      ]
     },
     "execution_count": 24,
     "metadata": {},
     "output_type": "execute_result"
    }
   ],
   "source": [
    "PDnotT = (1-sens) * preval / (1-PT)\n",
    "PDnotT"
   ]
  },
  {
   "cell_type": "markdown",
   "id": "a8d78aa2-60f1-4474-a402-6bb5911190ba",
   "metadata": {},
   "source": [
    "If the test is negative, then chances that the Down syndrome is present nevertheless are extremely small, with a probability of 0.001%."
   ]
  },
  {
   "cell_type": "markdown",
   "id": "ed8a90b1-58ed-4a72-9382-0372b7b62468",
   "metadata": {},
   "source": [
    "### b)"
   ]
  },
  {
   "cell_type": "markdown",
   "id": "3741bcd3-41f3-40ae-92a9-99b3c745b189",
   "metadata": {},
   "source": [
    "Change prevalence and do the same computations again:"
   ]
  },
  {
   "cell_type": "code",
   "execution_count": 25,
   "id": "01939fe6-5961-4c07-9980-c2d70553738e",
   "metadata": {},
   "outputs": [],
   "source": [
    "preval = 0.001"
   ]
  },
  {
   "cell_type": "code",
   "execution_count": 26,
   "id": "7fe1088d-8238-4d72-9e25-36a078e22fad",
   "metadata": {},
   "outputs": [
    {
     "data": {
      "text/plain": [
       "(0.5245624239860366, 9.017052147315909e-07)"
      ]
     },
     "execution_count": 26,
     "metadata": {},
     "output_type": "execute_result"
    }
   ],
   "source": [
    "PT = sens * preval + (1-spec) * (1-preval)\n",
    "PDT = sens * preval / PT\n",
    "PDnotT = (1-spec) * preval / (1-PT)\n",
    "PDT, PDnotT"
   ]
  },
  {
   "cell_type": "markdown",
   "id": "46b884c8-63dc-4e97-914c-a1fa6f36bc5e",
   "metadata": {},
   "source": [
    "The probabilities have changed significantly! Now the probability is only 52% that the Down syndrom is actually present given that the test is positive. This is extremely large, every second fetus would be a false positive in this test, possibly unsettling its future parents and leading them to administer further risky invasive tests, such as puncture of the amnion. **The reason for this discrepancy has nothing to do with the test! Sensitivity and specificity stayed the same, but the reduced prevalence significantly increases the chance of false positives!**"
   ]
  },
  {
   "cell_type": "markdown",
   "id": "3475a1d9-2734-4b34-a31b-eff620d55f47",
   "metadata": {},
   "source": [
    "### c)"
   ]
  },
  {
   "cell_type": "markdown",
   "id": "2e882b7c-78f6-4f62-8a14-125d74bad41e",
   "metadata": {},
   "source": [
    "The prevalence of Covid-19 changed throughout the pandemic (see e.g. [here](https://sjes.springeropen.com/articles/10.1186/s41937-022-00083-7/figures/1) ) while sensitivity and specificity of the tests stayed roughly constant."
   ]
  },
  {
   "cell_type": "markdown",
   "id": "5b61bb44-aab7-41d1-ae68-421c2135d8c5",
   "metadata": {},
   "source": [
    "## Exercise 9: Magic coin"
   ]
  },
  {
   "cell_type": "markdown",
   "id": "2aef9dec-6e3a-4411-b00e-53a2ec381930",
   "metadata": {},
   "source": [
    "### a)"
   ]
  },
  {
   "cell_type": "markdown",
   "id": "1ba556ff-77a0-48d9-b68b-69fd3632c870",
   "metadata": {},
   "source": [
    "$$\n",
    "\\begin{eqnarray}\n",
    "\\frac{P(\\pi=0.8 \\; | \\; d)}{P(\\pi=0.2 \\; | \\; d)} &=& \\frac{P(d \\; | \\; \\pi=0.8) \\; P(\\pi=0.8)}{P(d \\; | \\; \\pi=0.2) \\; P(\\pi=0.2)} \\\\\n",
    "&=& \\frac{\\begin{pmatrix} 5\\\\ 2 \\end{pmatrix} \\; 0.8^2 \\; 0.2^3 \\; \\cdot \\; 0.9}{\\begin{pmatrix} 5\\\\ 2 \\end{pmatrix} \\; 0.2^2 \\; 0.8^3 \\; \\cdot \\; 0.1} \\\\\n",
    "&=& 2.25\n",
    "\\end{eqnarray}\n",
    "$$"
   ]
  },
  {
   "cell_type": "markdown",
   "id": "87f311c2-ffe5-4899-85be-6eb059116d42",
   "metadata": {},
   "source": [
    "With Python:"
   ]
  },
  {
   "cell_type": "code",
   "execution_count": 27,
   "id": "dde3f53e-c644-46ba-bb48-258a2bbf0f2a",
   "metadata": {},
   "outputs": [
    {
     "data": {
      "text/plain": [
       "2.25"
      ]
     },
     "execution_count": 27,
     "metadata": {},
     "output_type": "execute_result"
    }
   ],
   "source": [
    "(binom.pmf(k=2, n=5, p=0.8) * 0.9) / (binom.pmf(k=2, n=5, p=0.2) * 0.1)"
   ]
  },
  {
   "cell_type": "markdown",
   "id": "fc3e0bc3-c78f-451d-b30b-70cb234e16f6",
   "metadata": {},
   "source": [
    "You believe more than twice as much in the hypothesis that it's model number 2!"
   ]
  },
  {
   "cell_type": "markdown",
   "id": "1c03a149-15fa-43ab-a328-bb9133c905b4",
   "metadata": {},
   "source": [
    "### b)"
   ]
  },
  {
   "cell_type": "code",
   "execution_count": 28,
   "id": "fac207d8-b3ba-429c-8ead-bf1ee86d13c8",
   "metadata": {},
   "outputs": [
    {
     "data": {
      "text/plain": [
       "8.583068847656157e-06"
      ]
     },
     "execution_count": 28,
     "metadata": {},
     "output_type": "execute_result"
    }
   ],
   "source": [
    "ratio = (binom.pmf(k=20, n=50, p=0.8) * 0.9) / (binom.pmf(k=20, n=50, p=0.2) * 0.1)\n",
    "ratio"
   ]
  },
  {
   "cell_type": "code",
   "execution_count": 29,
   "id": "28b59586-dc9a-4302-b089-d0e1eaa9a892",
   "metadata": {},
   "outputs": [
    {
     "data": {
      "text/plain": [
       "116508.4444444457"
      ]
     },
     "execution_count": 29,
     "metadata": {},
     "output_type": "execute_result"
    }
   ],
   "source": [
    "1/ratio"
   ]
  },
  {
   "cell_type": "markdown",
   "id": "2742fef9-9665-46c6-88b6-0adba5941141",
   "metadata": {},
   "source": [
    "You believe over 100'000 times more in model 1 than in model 2 now! The collected data have overruled your prior!"
   ]
  },
  {
   "cell_type": "markdown",
   "id": "f6a31828-88d0-4a63-867f-cc9e02bca312",
   "metadata": {},
   "source": [
    "### c)"
   ]
  },
  {
   "cell_type": "markdown",
   "id": "93e47dbb-41ab-4dab-bf90-e85acb27f492",
   "metadata": {},
   "source": [
    "The frequentist magician would have estimated $\\pi \\approx 0.4$ and favoured model 1. In his methods he has no way to introduce prior knowledge. On stage he would later have failed terribly!"
   ]
  },
  {
   "cell_type": "markdown",
   "id": "6fb07ec1-fdec-4388-8679-dc43d8dccd5e",
   "metadata": {},
   "source": [
    "### d)"
   ]
  },
  {
   "cell_type": "markdown",
   "id": "b6731022-9828-473c-bc70-8057a90eeb07",
   "metadata": {},
   "source": [
    "If both coins would have been sold equally often, i.e. $P(\\pi=0.2) = P(\\pi=0.8) = 0.5$. Then \n",
    "\n",
    "$$\n",
    "\\frac{P(\\pi=0.8 \\; | \\; d)}{P(\\pi=0.2 \\; | \\; d)} = \\frac{P(d \\; | \\; \\pi=0.8)}{P(d \\; | \\; \\pi=0.2)}.\n",
    "$$"
   ]
  },
  {
   "cell_type": "markdown",
   "id": "630045c2-bfe0-47ea-ae2f-20d3a15f85f7",
   "metadata": {},
   "source": [
    "## Exercise 10: Covid symptoms"
   ]
  },
  {
   "cell_type": "markdown",
   "id": "d2a23223-ba8e-49bf-aa4d-2e95d1a25e07",
   "metadata": {},
   "source": [
    "### a)"
   ]
  },
  {
   "cell_type": "markdown",
   "id": "f5bd7360-97ce-43c7-bfa3-bd11141b1421",
   "metadata": {},
   "source": [
    "Read CSV file:"
   ]
  },
  {
   "cell_type": "code",
   "execution_count": 30,
   "id": "fc799ec7-3479-4f8e-9213-b3808102786c",
   "metadata": {},
   "outputs": [
    {
     "name": "stderr",
     "output_type": "stream",
     "text": [
      "/tmp/ipykernel_160372/3744092636.py:1: DtypeWarning: Columns (7) have mixed types. Specify dtype option on import or set low_memory=False.\n",
      "  df = pd.read_csv(\"covid_tests.csv\")\n"
     ]
    },
    {
     "data": {
      "text/html": [
       "<div>\n",
       "<style scoped>\n",
       "    .dataframe tbody tr th:only-of-type {\n",
       "        vertical-align: middle;\n",
       "    }\n",
       "\n",
       "    .dataframe tbody tr th {\n",
       "        vertical-align: top;\n",
       "    }\n",
       "\n",
       "    .dataframe thead th {\n",
       "        text-align: right;\n",
       "    }\n",
       "</style>\n",
       "<table border=\"1\" class=\"dataframe\">\n",
       "  <thead>\n",
       "    <tr style=\"text-align: right;\">\n",
       "      <th></th>\n",
       "      <th>test_date</th>\n",
       "      <th>cough</th>\n",
       "      <th>fever</th>\n",
       "      <th>sore_throat</th>\n",
       "      <th>shortness_of_breath</th>\n",
       "      <th>head_ache</th>\n",
       "      <th>corona_result</th>\n",
       "      <th>age_60_and_above</th>\n",
       "      <th>gender</th>\n",
       "      <th>test_indication</th>\n",
       "    </tr>\n",
       "  </thead>\n",
       "  <tbody>\n",
       "    <tr>\n",
       "      <th>210620</th>\n",
       "      <td>2020-04-01</td>\n",
       "      <td>0.0</td>\n",
       "      <td>0.0</td>\n",
       "      <td>0.0</td>\n",
       "      <td>0.0</td>\n",
       "      <td>0.0</td>\n",
       "      <td>negative</td>\n",
       "      <td>No</td>\n",
       "      <td>female</td>\n",
       "      <td>Other</td>\n",
       "    </tr>\n",
       "    <tr>\n",
       "      <th>140295</th>\n",
       "      <td>2020-04-12</td>\n",
       "      <td>0.0</td>\n",
       "      <td>0.0</td>\n",
       "      <td>0.0</td>\n",
       "      <td>0.0</td>\n",
       "      <td>0.0</td>\n",
       "      <td>negative</td>\n",
       "      <td>Yes</td>\n",
       "      <td>female</td>\n",
       "      <td>Other</td>\n",
       "    </tr>\n",
       "    <tr>\n",
       "      <th>267411</th>\n",
       "      <td>2020-03-20</td>\n",
       "      <td>0.0</td>\n",
       "      <td>0.0</td>\n",
       "      <td>0.0</td>\n",
       "      <td>0.0</td>\n",
       "      <td>0.0</td>\n",
       "      <td>negative</td>\n",
       "      <td>No</td>\n",
       "      <td>NaN</td>\n",
       "      <td>Contact with confirmed</td>\n",
       "    </tr>\n",
       "    <tr>\n",
       "      <th>198230</th>\n",
       "      <td>2020-04-02</td>\n",
       "      <td>0.0</td>\n",
       "      <td>0.0</td>\n",
       "      <td>0.0</td>\n",
       "      <td>0.0</td>\n",
       "      <td>0.0</td>\n",
       "      <td>negative</td>\n",
       "      <td>Yes</td>\n",
       "      <td>female</td>\n",
       "      <td>Other</td>\n",
       "    </tr>\n",
       "    <tr>\n",
       "      <th>204489</th>\n",
       "      <td>2020-04-01</td>\n",
       "      <td>0.0</td>\n",
       "      <td>0.0</td>\n",
       "      <td>0.0</td>\n",
       "      <td>0.0</td>\n",
       "      <td>0.0</td>\n",
       "      <td>negative</td>\n",
       "      <td>No</td>\n",
       "      <td>female</td>\n",
       "      <td>Other</td>\n",
       "    </tr>\n",
       "  </tbody>\n",
       "</table>\n",
       "</div>"
      ],
      "text/plain": [
       "         test_date  cough  fever  sore_throat  shortness_of_breath  head_ache  \\\n",
       "210620  2020-04-01    0.0    0.0          0.0                  0.0        0.0   \n",
       "140295  2020-04-12    0.0    0.0          0.0                  0.0        0.0   \n",
       "267411  2020-03-20    0.0    0.0          0.0                  0.0        0.0   \n",
       "198230  2020-04-02    0.0    0.0          0.0                  0.0        0.0   \n",
       "204489  2020-04-01    0.0    0.0          0.0                  0.0        0.0   \n",
       "\n",
       "       corona_result age_60_and_above  gender         test_indication  \n",
       "210620      negative               No  female                   Other  \n",
       "140295      negative              Yes  female                   Other  \n",
       "267411      negative               No     NaN  Contact with confirmed  \n",
       "198230      negative              Yes  female                   Other  \n",
       "204489      negative               No  female                   Other  "
      ]
     },
     "execution_count": 30,
     "metadata": {},
     "output_type": "execute_result"
    }
   ],
   "source": [
    "df = pd.read_csv(\"covid_tests.csv\")\n",
    "df.sample(5)"
   ]
  },
  {
   "cell_type": "markdown",
   "id": "935afdeb-3a42-4210-a4fd-c3cd5b407f00",
   "metadata": {},
   "source": [
    "Drop irrelevant columns, filter only positive and negative results and map them to 1 and 0 respectively:"
   ]
  },
  {
   "cell_type": "code",
   "execution_count": 31,
   "id": "7d26da4b-5d2a-4295-8cff-49aff6d73f15",
   "metadata": {},
   "outputs": [
    {
     "name": "stderr",
     "output_type": "stream",
     "text": [
      "/tmp/ipykernel_160372/1360240837.py:3: FutureWarning: Downcasting behavior in `replace` is deprecated and will be removed in a future version. To retain the old behavior, explicitly call `result.infer_objects(copy=False)`. To opt-in to the future behavior, set `pd.set_option('future.no_silent_downcasting', True)`\n",
      "  df.corona_result = df.corona_result.replace({'positive': 1.0, 'negative': 0.0})\n"
     ]
    },
    {
     "data": {
      "text/html": [
       "<div>\n",
       "<style scoped>\n",
       "    .dataframe tbody tr th:only-of-type {\n",
       "        vertical-align: middle;\n",
       "    }\n",
       "\n",
       "    .dataframe tbody tr th {\n",
       "        vertical-align: top;\n",
       "    }\n",
       "\n",
       "    .dataframe thead th {\n",
       "        text-align: right;\n",
       "    }\n",
       "</style>\n",
       "<table border=\"1\" class=\"dataframe\">\n",
       "  <thead>\n",
       "    <tr style=\"text-align: right;\">\n",
       "      <th></th>\n",
       "      <th>cough</th>\n",
       "      <th>fever</th>\n",
       "      <th>sore_throat</th>\n",
       "      <th>shortness_of_breath</th>\n",
       "      <th>head_ache</th>\n",
       "      <th>corona_result</th>\n",
       "    </tr>\n",
       "  </thead>\n",
       "  <tbody>\n",
       "    <tr>\n",
       "      <th>84979</th>\n",
       "      <td>0.0</td>\n",
       "      <td>0.0</td>\n",
       "      <td>0.0</td>\n",
       "      <td>0.0</td>\n",
       "      <td>0.0</td>\n",
       "      <td>0.0</td>\n",
       "    </tr>\n",
       "    <tr>\n",
       "      <th>167471</th>\n",
       "      <td>0.0</td>\n",
       "      <td>0.0</td>\n",
       "      <td>0.0</td>\n",
       "      <td>0.0</td>\n",
       "      <td>0.0</td>\n",
       "      <td>1.0</td>\n",
       "    </tr>\n",
       "    <tr>\n",
       "      <th>38165</th>\n",
       "      <td>0.0</td>\n",
       "      <td>0.0</td>\n",
       "      <td>0.0</td>\n",
       "      <td>0.0</td>\n",
       "      <td>0.0</td>\n",
       "      <td>0.0</td>\n",
       "    </tr>\n",
       "    <tr>\n",
       "      <th>208811</th>\n",
       "      <td>0.0</td>\n",
       "      <td>0.0</td>\n",
       "      <td>0.0</td>\n",
       "      <td>0.0</td>\n",
       "      <td>0.0</td>\n",
       "      <td>0.0</td>\n",
       "    </tr>\n",
       "    <tr>\n",
       "      <th>99499</th>\n",
       "      <td>1.0</td>\n",
       "      <td>0.0</td>\n",
       "      <td>0.0</td>\n",
       "      <td>0.0</td>\n",
       "      <td>0.0</td>\n",
       "      <td>0.0</td>\n",
       "    </tr>\n",
       "  </tbody>\n",
       "</table>\n",
       "</div>"
      ],
      "text/plain": [
       "        cough  fever  sore_throat  shortness_of_breath  head_ache  \\\n",
       "84979     0.0    0.0          0.0                  0.0        0.0   \n",
       "167471    0.0    0.0          0.0                  0.0        0.0   \n",
       "38165     0.0    0.0          0.0                  0.0        0.0   \n",
       "208811    0.0    0.0          0.0                  0.0        0.0   \n",
       "99499     1.0    0.0          0.0                  0.0        0.0   \n",
       "\n",
       "        corona_result  \n",
       "84979             0.0  \n",
       "167471            1.0  \n",
       "38165             0.0  \n",
       "208811            0.0  \n",
       "99499             0.0  "
      ]
     },
     "execution_count": 31,
     "metadata": {},
     "output_type": "execute_result"
    }
   ],
   "source": [
    "df = df.drop([\"test_date\", \"age_60_and_above\", \"gender\", \"test_indication\"], axis=1 )\n",
    "df = df[df.corona_result.isin([\"positive\", \"negative\"])]\n",
    "df.corona_result = df.corona_result.replace({'positive': 1.0, 'negative': 0.0})\n",
    "df.sample(5)"
   ]
  },
  {
   "cell_type": "markdown",
   "id": "8c21ae32-f55f-4191-a4b8-e38f7c602541",
   "metadata": {},
   "source": [
    "(ignore the future warnings..)"
   ]
  },
  {
   "cell_type": "markdown",
   "id": "ed9fc7a9-55ec-48f5-8fd4-bb50c54d4551",
   "metadata": {},
   "source": [
    "### b)"
   ]
  },
  {
   "cell_type": "markdown",
   "id": "eae707f1-5966-4ca3-8290-3bbd93d72bfa",
   "metadata": {},
   "source": [
    "P(covid|cough):"
   ]
  },
  {
   "cell_type": "code",
   "execution_count": 32,
   "id": "c3a15886-a644-4b30-ab4e-98f731c0b255",
   "metadata": {},
   "outputs": [
    {
     "data": {
      "text/plain": [
       "0.15837963965264246"
      ]
     },
     "execution_count": 32,
     "metadata": {},
     "output_type": "execute_result"
    }
   ],
   "source": [
    "df[df.cough==1].corona_result.mean()"
   ]
  },
  {
   "cell_type": "markdown",
   "id": "9924fc88-e1df-4621-9e1a-ba9ae092aa72",
   "metadata": {},
   "source": [
    "P(cough|covid):"
   ]
  },
  {
   "cell_type": "code",
   "execution_count": 33,
   "id": "a1c4c54c-bb8c-4573-95f0-142ffa0ab4c5",
   "metadata": {},
   "outputs": [
    {
     "data": {
      "text/plain": [
       "0.44801306477953184"
      ]
     },
     "execution_count": 33,
     "metadata": {},
     "output_type": "execute_result"
    }
   ],
   "source": [
    "df[df.corona_result==1].cough.mean()"
   ]
  },
  {
   "cell_type": "markdown",
   "id": "9d35348d-b157-427c-a481-98145c0a227e",
   "metadata": {},
   "source": [
    "### c)"
   ]
  },
  {
   "cell_type": "markdown",
   "id": "e7ac2c3c-ae8a-4a14-8bbb-226688bc482e",
   "metadata": {},
   "source": [
    "P(symptom|covid):"
   ]
  },
  {
   "cell_type": "code",
   "execution_count": 34,
   "id": "cba812ca-2a70-4bcf-a466-84fe4f4489eb",
   "metadata": {},
   "outputs": [
    {
     "data": {
      "text/plain": [
       "cough                  0.448013\n",
       "fever                  0.378266\n",
       "sore_throat            0.103612\n",
       "shortness_of_breath    0.079033\n",
       "head_ache              0.151752\n",
       "dtype: float64"
      ]
     },
     "execution_count": 34,
     "metadata": {},
     "output_type": "execute_result"
    }
   ],
   "source": [
    "P_symptoms_given_covid = df[df.corona_result==1].drop('corona_result', axis=1).mean()\n",
    "P_symptoms_given_covid"
   ]
  },
  {
   "cell_type": "markdown",
   "id": "9eb344d6-1501-4356-9520-bd07f1374a52",
   "metadata": {},
   "source": [
    "Marginal probabilities:"
   ]
  },
  {
   "cell_type": "markdown",
   "id": "ce0aae24-4bf0-4f03-b790-d50f87983bac",
   "metadata": {},
   "source": [
    "P(symptom):"
   ]
  },
  {
   "cell_type": "code",
   "execution_count": 35,
   "id": "54023343-8ee1-4958-a4f6-9efcedb12a43",
   "metadata": {},
   "outputs": [
    {
     "data": {
      "text/plain": [
       "cough                  0.151330\n",
       "fever                  0.077811\n",
       "sore_throat            0.006881\n",
       "shortness_of_breath    0.005634\n",
       "head_ache              0.008667\n",
       "dtype: float64"
      ]
     },
     "execution_count": 35,
     "metadata": {},
     "output_type": "execute_result"
    }
   ],
   "source": [
    "P_symptoms = df.drop('corona_result', axis=1).mean()\n",
    "P_symptoms"
   ]
  },
  {
   "cell_type": "markdown",
   "id": "2da8e8a4-f77d-4a01-ad89-5f05ce5962ac",
   "metadata": {},
   "source": [
    "P(covid):"
   ]
  },
  {
   "cell_type": "code",
   "execution_count": 36,
   "id": "1bf71d46-1809-477a-a2e6-eb02e309719b",
   "metadata": {},
   "outputs": [
    {
     "data": {
      "text/plain": [
       "0.053568570971355416"
      ]
     },
     "execution_count": 36,
     "metadata": {},
     "output_type": "execute_result"
    }
   ],
   "source": [
    "P_covid = df.corona_result.mean()\n",
    "P_covid"
   ]
  },
  {
   "cell_type": "markdown",
   "id": "8ac6c4b3-728c-4014-968b-a902a015117e",
   "metadata": {},
   "source": [
    "Apply Bayes' theorem to get P(covid|symptom):"
   ]
  },
  {
   "cell_type": "code",
   "execution_count": 37,
   "id": "aff1d92f-b854-4fe6-b0e9-47c04040c462",
   "metadata": {},
   "outputs": [
    {
     "data": {
      "text/plain": [
       "cough                  0.158590\n",
       "fever                  0.260415\n",
       "sore_throat            0.806606\n",
       "shortness_of_breath    0.751501\n",
       "head_ache              0.937954\n",
       "dtype: float64"
      ]
     },
     "execution_count": 37,
     "metadata": {},
     "output_type": "execute_result"
    }
   ],
   "source": [
    "P_covid_given_symptoms = P_symptoms_given_covid / P_symptoms * P_covid \n",
    "P_covid_given_symptoms"
   ]
  },
  {
   "cell_type": "markdown",
   "id": "6516c2d2-3862-4a6f-8457-3bf0b07a3797",
   "metadata": {},
   "source": [
    "(the value for cough is the same one as we computed in b))"
   ]
  },
  {
   "cell_type": "markdown",
   "id": "09f99bfb-e02e-4c60-b4b3-1d41fe253739",
   "metadata": {},
   "source": [
    "Of course we want to sort out the invidiuals with the highest risk of suffering from Covid-19 and are therefore interested in P(covid|symptom). The order of priority is, from highest to lowest: head ache, sore throat, shortness of breath, fever and finally cough. The other probability P(symptom|covid) gives an almost inverted order and is not relevant for this problem!"
   ]
  },
  {
   "cell_type": "markdown",
   "id": "106ecbe4-165c-4d2c-af78-f5ef0848a88a",
   "metadata": {},
   "source": [
    "## Exercise 11: Sick trees"
   ]
  },
  {
   "cell_type": "markdown",
   "id": "a97367d6-406d-4d91-8422-9c93a3b59f20",
   "metadata": {},
   "source": [
    "### a)"
   ]
  },
  {
   "cell_type": "markdown",
   "id": "357d1caa-b948-49e1-b55b-bb90e8d82f1b",
   "metadata": {},
   "source": [
    "$P(\\text{mold}) = 18\\%$"
   ]
  },
  {
   "cell_type": "markdown",
   "id": "29c2f1b8-0044-47eb-863a-80ae41f29ef0",
   "metadata": {},
   "source": [
    "### b)"
   ]
  },
  {
   "cell_type": "markdown",
   "id": "3068a9cb-e32a-429b-b63d-1c26790589db",
   "metadata": {},
   "source": [
    "Use marginalisation:"
   ]
  },
  {
   "cell_type": "markdown",
   "id": "7b35855d-0938-421f-96d3-8b7c1b97f0d7",
   "metadata": {},
   "source": [
    "$$\n",
    "\\begin{eqnarray}\n",
    "P(\\text{maple}) &=& P(\\text{maple} | \\text{mold}) \\; P(\\text{mold}) + P(\\text{maple} | \\overline{\\text{mold}}) \\; P(\\overline{\\text{mold}}) &=& 0.8 \\cdot 0.18 + 0.1 \\cdot 0.82 = 0.226\n",
    "\\end{eqnarray}\n",
    "$$"
   ]
  },
  {
   "cell_type": "code",
   "execution_count": 38,
   "id": "61b7d0f8-513b-4ab2-a4d1-908d7c89593e",
   "metadata": {},
   "outputs": [
    {
     "data": {
      "text/plain": [
       "0.22599999999999998"
      ]
     },
     "execution_count": 38,
     "metadata": {},
     "output_type": "execute_result"
    }
   ],
   "source": [
    "Pmaple = 0.8 * 0.18 + 0.1 * 0.82\n",
    "Pmaple"
   ]
  },
  {
   "cell_type": "markdown",
   "id": "953fcdcb-befa-407a-ade6-90271f2abc04",
   "metadata": {},
   "source": [
    "The probability to select a maple is 22.6%!"
   ]
  },
  {
   "cell_type": "markdown",
   "id": "0f595ca0-b208-4ba5-9ac7-d84c6d0aeec7",
   "metadata": {},
   "source": [
    "### c)"
   ]
  },
  {
   "cell_type": "markdown",
   "id": "d0f541a6-c966-442e-b080-9a0049ad69be",
   "metadata": {},
   "source": [
    "$$P(\\text{mold}|\\text{maple}) = \\frac{P(\\text{maple} | \\text{mold}) \\; P(\\text{mold})}{P(\\text{maple})} \\approx 63.7% $$"
   ]
  },
  {
   "cell_type": "code",
   "execution_count": 39,
   "id": "2316c7e9-59bf-4afb-855f-eff9640708b7",
   "metadata": {},
   "outputs": [
    {
     "data": {
      "text/plain": [
       "0.6371681415929203"
      ]
     },
     "execution_count": 39,
     "metadata": {},
     "output_type": "execute_result"
    }
   ],
   "source": [
    "Pmold_given_maple = 0.8 * 0.18 / Pmaple\n",
    "Pmold_given_maple"
   ]
  },
  {
   "cell_type": "markdown",
   "id": "1f190968-5ec9-4d98-b6d1-4feaa933517e",
   "metadata": {},
   "source": [
    "### d)"
   ]
  },
  {
   "cell_type": "markdown",
   "id": "975d6374-94ce-46ef-9e03-27a16ae3c3a8",
   "metadata": {},
   "source": [
    "Knowing that it's a maple raised the prior probability of mold from 18% to 63.7%. This makes sense, as maples are over-represented in infected trees and under-represented in healthy trees."
   ]
  },
  {
   "cell_type": "markdown",
   "id": "d3a219d2-974d-40b9-b937-36f56cb5f1ae",
   "metadata": {},
   "source": [
    "### e)"
   ]
  },
  {
   "cell_type": "markdown",
   "id": "24553547-c348-486f-aebf-1e58fdd55ec6",
   "metadata": {},
   "source": [
    "Simulate 10'000 random trees and decide whether they have mold using P(mold):"
   ]
  },
  {
   "cell_type": "code",
   "execution_count": 2,
   "id": "34d973dd-bcd2-4c3a-8698-eea2e7d63da1",
   "metadata": {
    "ExecuteTime": {
     "end_time": "2025-09-21T07:19:51.755599Z",
     "start_time": "2025-09-21T07:19:51.747054Z"
    }
   },
   "outputs": [
    {
     "data": {
      "text/html": [
       "<div>\n",
       "<style scoped>\n",
       "    .dataframe tbody tr th:only-of-type {\n",
       "        vertical-align: middle;\n",
       "    }\n",
       "\n",
       "    .dataframe tbody tr th {\n",
       "        vertical-align: top;\n",
       "    }\n",
       "\n",
       "    .dataframe thead th {\n",
       "        text-align: right;\n",
       "    }\n",
       "</style>\n",
       "<table border=\"1\" class=\"dataframe\">\n",
       "  <thead>\n",
       "    <tr style=\"text-align: right;\">\n",
       "      <th></th>\n",
       "      <th>mold</th>\n",
       "    </tr>\n",
       "  </thead>\n",
       "  <tbody>\n",
       "    <tr>\n",
       "      <th>0</th>\n",
       "      <td>0</td>\n",
       "    </tr>\n",
       "    <tr>\n",
       "      <th>1</th>\n",
       "      <td>1</td>\n",
       "    </tr>\n",
       "    <tr>\n",
       "      <th>2</th>\n",
       "      <td>0</td>\n",
       "    </tr>\n",
       "    <tr>\n",
       "      <th>3</th>\n",
       "      <td>0</td>\n",
       "    </tr>\n",
       "    <tr>\n",
       "      <th>4</th>\n",
       "      <td>0</td>\n",
       "    </tr>\n",
       "  </tbody>\n",
       "</table>\n",
       "</div>"
      ],
      "text/plain": [
       "   mold\n",
       "0     0\n",
       "1     1\n",
       "2     0\n",
       "3     0\n",
       "4     0"
      ]
     },
     "execution_count": 2,
     "metadata": {},
     "output_type": "execute_result"
    }
   ],
   "source": [
    "sim = pd.DataFrame( {'mold': np.random.choice([0,1], p=[0.82, 0.18], size=10000)} )\n",
    "sim.head()"
   ]
  },
  {
   "cell_type": "markdown",
   "id": "439c4a65-5836-43f8-a806-7a78e348dbbc",
   "metadata": {},
   "source": [
    "Assign the probability that it's a maple using P(maple|mold):"
   ]
  },
  {
   "cell_type": "code",
   "execution_count": 3,
   "id": "3320b968-e06c-493d-8510-8b0d104799ed",
   "metadata": {
    "ExecuteTime": {
     "end_time": "2025-09-21T07:19:53.852412Z",
     "start_time": "2025-09-21T07:19:53.845955Z"
    }
   },
   "outputs": [
    {
     "data": {
      "text/html": [
       "<div>\n",
       "<style scoped>\n",
       "    .dataframe tbody tr th:only-of-type {\n",
       "        vertical-align: middle;\n",
       "    }\n",
       "\n",
       "    .dataframe tbody tr th {\n",
       "        vertical-align: top;\n",
       "    }\n",
       "\n",
       "    .dataframe thead th {\n",
       "        text-align: right;\n",
       "    }\n",
       "</style>\n",
       "<table border=\"1\" class=\"dataframe\">\n",
       "  <thead>\n",
       "    <tr style=\"text-align: right;\">\n",
       "      <th></th>\n",
       "      <th>mold</th>\n",
       "      <th>p_maple</th>\n",
       "    </tr>\n",
       "  </thead>\n",
       "  <tbody>\n",
       "    <tr>\n",
       "      <th>0</th>\n",
       "      <td>0</td>\n",
       "      <td>0.1</td>\n",
       "    </tr>\n",
       "    <tr>\n",
       "      <th>1</th>\n",
       "      <td>1</td>\n",
       "      <td>0.8</td>\n",
       "    </tr>\n",
       "    <tr>\n",
       "      <th>2</th>\n",
       "      <td>0</td>\n",
       "      <td>0.1</td>\n",
       "    </tr>\n",
       "    <tr>\n",
       "      <th>3</th>\n",
       "      <td>0</td>\n",
       "      <td>0.1</td>\n",
       "    </tr>\n",
       "    <tr>\n",
       "      <th>4</th>\n",
       "      <td>0</td>\n",
       "      <td>0.1</td>\n",
       "    </tr>\n",
       "    <tr>\n",
       "      <th>...</th>\n",
       "      <td>...</td>\n",
       "      <td>...</td>\n",
       "    </tr>\n",
       "    <tr>\n",
       "      <th>9995</th>\n",
       "      <td>0</td>\n",
       "      <td>0.1</td>\n",
       "    </tr>\n",
       "    <tr>\n",
       "      <th>9996</th>\n",
       "      <td>1</td>\n",
       "      <td>0.8</td>\n",
       "    </tr>\n",
       "    <tr>\n",
       "      <th>9997</th>\n",
       "      <td>0</td>\n",
       "      <td>0.1</td>\n",
       "    </tr>\n",
       "    <tr>\n",
       "      <th>9998</th>\n",
       "      <td>1</td>\n",
       "      <td>0.8</td>\n",
       "    </tr>\n",
       "    <tr>\n",
       "      <th>9999</th>\n",
       "      <td>0</td>\n",
       "      <td>0.1</td>\n",
       "    </tr>\n",
       "  </tbody>\n",
       "</table>\n",
       "<p>10000 rows × 2 columns</p>\n",
       "</div>"
      ],
      "text/plain": [
       "      mold  p_maple\n",
       "0        0      0.1\n",
       "1        1      0.8\n",
       "2        0      0.1\n",
       "3        0      0.1\n",
       "4        0      0.1\n",
       "...    ...      ...\n",
       "9995     0      0.1\n",
       "9996     1      0.8\n",
       "9997     0      0.1\n",
       "9998     1      0.8\n",
       "9999     0      0.1\n",
       "\n",
       "[10000 rows x 2 columns]"
      ]
     },
     "execution_count": 3,
     "metadata": {},
     "output_type": "execute_result"
    }
   ],
   "source": [
    "sim['p_maple'] = sim.mold.map({0: 0.1, 1: 0.8})\n",
    "sim"
   ]
  },
  {
   "cell_type": "markdown",
   "id": "5f51fe62-5580-44d0-a7cb-435ccbb8e22d",
   "metadata": {},
   "source": [
    "Sample whether it's a maple:"
   ]
  },
  {
   "cell_type": "code",
   "execution_count": 4,
   "id": "7a19f532-a7b0-4d38-982f-2333401338dd",
   "metadata": {
    "ExecuteTime": {
     "end_time": "2025-09-21T07:19:56.047335Z",
     "start_time": "2025-09-21T07:19:55.986561Z"
    }
   },
   "outputs": [
    {
     "data": {
      "text/html": [
       "<div>\n",
       "<style scoped>\n",
       "    .dataframe tbody tr th:only-of-type {\n",
       "        vertical-align: middle;\n",
       "    }\n",
       "\n",
       "    .dataframe tbody tr th {\n",
       "        vertical-align: top;\n",
       "    }\n",
       "\n",
       "    .dataframe thead th {\n",
       "        text-align: right;\n",
       "    }\n",
       "</style>\n",
       "<table border=\"1\" class=\"dataframe\">\n",
       "  <thead>\n",
       "    <tr style=\"text-align: right;\">\n",
       "      <th></th>\n",
       "      <th>mold</th>\n",
       "      <th>p_maple</th>\n",
       "      <th>maple</th>\n",
       "    </tr>\n",
       "  </thead>\n",
       "  <tbody>\n",
       "    <tr>\n",
       "      <th>0</th>\n",
       "      <td>0</td>\n",
       "      <td>0.1</td>\n",
       "      <td>1</td>\n",
       "    </tr>\n",
       "    <tr>\n",
       "      <th>1</th>\n",
       "      <td>1</td>\n",
       "      <td>0.8</td>\n",
       "      <td>0</td>\n",
       "    </tr>\n",
       "    <tr>\n",
       "      <th>2</th>\n",
       "      <td>0</td>\n",
       "      <td>0.1</td>\n",
       "      <td>0</td>\n",
       "    </tr>\n",
       "    <tr>\n",
       "      <th>3</th>\n",
       "      <td>0</td>\n",
       "      <td>0.1</td>\n",
       "      <td>0</td>\n",
       "    </tr>\n",
       "    <tr>\n",
       "      <th>4</th>\n",
       "      <td>0</td>\n",
       "      <td>0.1</td>\n",
       "      <td>0</td>\n",
       "    </tr>\n",
       "  </tbody>\n",
       "</table>\n",
       "</div>"
      ],
      "text/plain": [
       "   mold  p_maple  maple\n",
       "0     0      0.1      1\n",
       "1     1      0.8      0\n",
       "2     0      0.1      0\n",
       "3     0      0.1      0\n",
       "4     0      0.1      0"
      ]
     },
     "execution_count": 4,
     "metadata": {},
     "output_type": "execute_result"
    }
   ],
   "source": [
    "sim['maple'] = sim.p_maple.apply( lambda x: np.random.choice([0,1], p=[1-x,x]) )\n",
    "sim.head()"
   ]
  },
  {
   "cell_type": "markdown",
   "id": "d4932c38-f111-4967-a3a6-7e9a96e4f883",
   "metadata": {},
   "source": [
    "Compute posterior probability P(mold|maple):"
   ]
  },
  {
   "cell_type": "code",
   "execution_count": 5,
   "id": "71080385-1111-4fd0-944d-2ec9241541e9",
   "metadata": {
    "ExecuteTime": {
     "end_time": "2025-09-21T07:19:58.521844Z",
     "start_time": "2025-09-21T07:19:58.518463Z"
    }
   },
   "outputs": [
    {
     "data": {
      "text/plain": [
       "np.float64(0.6217777777777778)"
      ]
     },
     "execution_count": 5,
     "metadata": {},
     "output_type": "execute_result"
    }
   ],
   "source": [
    "sim[sim.maple==1].mold.mean()"
   ]
  },
  {
   "cell_type": "code",
   "execution_count": null,
   "id": "8e4492edfa922025",
   "metadata": {},
   "outputs": [],
   "source": []
  }
 ],
 "metadata": {
  "kernelspec": {
   "display_name": "Python 3 (ipykernel)",
   "language": "python",
   "name": "python3"
  },
  "language_info": {
   "codemirror_mode": {
    "name": "ipython",
    "version": 3
   },
   "file_extension": ".py",
   "mimetype": "text/x-python",
   "name": "python",
   "nbconvert_exporter": "python",
   "pygments_lexer": "ipython3",
   "version": "3.9.6"
  }
 },
 "nbformat": 4,
 "nbformat_minor": 5
}
