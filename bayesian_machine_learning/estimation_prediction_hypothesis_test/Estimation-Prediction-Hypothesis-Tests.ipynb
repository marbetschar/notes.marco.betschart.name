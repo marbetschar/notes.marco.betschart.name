{
 "cells": [
  {
   "cell_type": "markdown",
   "id": "07bed881",
   "metadata": {},
   "source": [
    "\n",
    "# Estimation, Prediction, and Hypothesis Tests\n",
    "\n",
    "This notebook mirrors the Week 4 slides and adds runnable examples and visualizations.\n"
   ]
  },
  {
   "cell_type": "markdown",
   "id": "878e56f6",
   "metadata": {},
   "source": [
    "\n",
    "## Utilities\n"
   ]
  },
  {
   "cell_type": "code",
   "id": "fa192d69",
   "metadata": {
    "ExecuteTime": {
     "end_time": "2025-10-27T16:39:24.507892Z",
     "start_time": "2025-10-27T16:39:24.503616Z"
    }
   },
   "source": [
    "\n",
    "import math\n",
    "import numpy as np\n",
    "import matplotlib.pyplot as plt\n",
    "\n",
    "rng = np.random.default_rng(0)\n",
    "\n",
    "def with_ax(title=None, xlabel=None, ylabel=None):\n",
    "    fig, ax = plt.subplots(figsize=(6,4))\n",
    "    if title: ax.set_title(title)\n",
    "    if xlabel: ax.set_xlabel(xlabel)\n",
    "    if ylabel: ax.set_ylabel(ylabel)\n",
    "    ax.grid(True, alpha=0.3)\n",
    "    return fig, ax\n",
    "\n",
    "def beta_pdf(x, a, b):\n",
    "    from math import lgamma\n",
    "    x = np.asarray(x)\n",
    "    out = np.zeros_like(x, dtype=float)\n",
    "    m = (x>=0) & (x<=1)\n",
    "    xm = x[m]\n",
    "    logB = lgamma(a)+lgamma(b)-lgamma(a+b)\n",
    "    out[m] = np.exp((a-1)*np.log(xm+1e-15) + (b-1)*np.log(1-xm+1e-15) - logB)\n",
    "    return out\n",
    "\n",
    "def hdi_interval(samples, prob=0.8):\n",
    "    # Smallest interval containing 'prob' mass (HDI) for 1D samples.\n",
    "    x = np.sort(np.asarray(samples))\n",
    "    n = len(x)\n",
    "    if n == 0:\n",
    "        return (np.nan, np.nan)\n",
    "    m = max(1, int(np.floor(prob * n)))\n",
    "    widths = x[m:] - x[:n-m]\n",
    "    j = np.argmin(widths)\n",
    "    return float(x[j]), float(x[j+m])\n",
    "\n",
    "def middle_interval(samples, prob=0.8):\n",
    "    # Central credible interval by quantiles.\n",
    "    lo = (1-prob)/2\n",
    "    hi = 1-lo\n",
    "    x = np.asarray(samples)\n",
    "    q = np.quantile(x, [lo, hi])\n",
    "    return float(q[0]), float(q[1])\n"
   ],
   "outputs": [],
   "execution_count": 7
  },
  {
   "cell_type": "markdown",
   "id": "d0e19299",
   "metadata": {},
   "source": [
    "\n",
    "## Estimation: summarizing posteriors\n",
    "\n",
    "We'll use the tongue-rolling example from class. Prior $\\mathrm{Beta}(\\alpha,\\beta)$ with $\\alpha=\\beta=1$ (flat).  \n",
    "Observed $n=28$ people, with $k=26$ rolling their tongue.\n",
    "\n",
    "Key summaries:\n",
    "- **Mean** of $\\pi$: $\\mathbb{E}[\\pi\\mid d]$\n",
    "- **Mode (MAP)**: $\\operatorname{argmax}_\\pi\\, p(\\pi\\mid d)$ (for Beta posteriors and $\\alpha,\\beta>1$, the mode is $(\\alpha-1)/(\\alpha+\\beta-2)$ after updating)\n",
    "- **Variance / standard deviation**\n",
    "- **Credible intervals**: middle interval vs **highest density interval (HDI)** (we'll compute both from samples)\n"
   ]
  },
  {
   "cell_type": "code",
   "id": "1b006d40",
   "metadata": {
    "ExecuteTime": {
     "end_time": "2025-10-27T16:39:24.515369Z",
     "start_time": "2025-10-27T16:39:24.512859Z"
    }
   },
   "source": [
    "\n",
    "# Posterior for Beta-Binomial: Beta(alpha+k, beta+n-k)\n",
    "alpha0, beta0 = 1, 1\n",
    "n, k = 28, 26\n",
    "alpha_post, beta_post = alpha0 + k, beta0 + (n - k)\n",
    "alpha_post, beta_post\n"
   ],
   "outputs": [
    {
     "data": {
      "text/plain": [
       "(27, 3)"
      ]
     },
     "execution_count": 8,
     "metadata": {},
     "output_type": "execute_result"
    }
   ],
   "execution_count": 8
  },
  {
   "cell_type": "code",
   "id": "6460b828",
   "metadata": {
    "ExecuteTime": {
     "end_time": "2025-10-27T16:39:24.541048Z",
     "start_time": "2025-10-27T16:39:24.525398Z"
    }
   },
   "source": [
    "\n",
    "# Summaries by sampling\n",
    "samps = rng.beta(alpha_post, beta_post, size=100_000)\n",
    "mean_post = samps.mean()\n",
    "var_post = samps.var(ddof=1)\n",
    "sd_post = math.sqrt(var_post)\n",
    "\n",
    "# MAP (only valid when alpha_post, beta_post > 1)\n",
    "if alpha_post>1 and beta_post>1:\n",
    "    map_post = (alpha_post - 1) / (alpha_post + beta_post - 2)\n",
    "else:\n",
    "    map_post = np.nan\n",
    "\n",
    "hdi80 = hdi_interval(samps, 0.80)\n",
    "hdi95 = hdi_interval(samps, 0.95)\n",
    "mid80 = middle_interval(samps, 0.80)\n",
    "\n",
    "mean_post, sd_post, map_post, hdi80, hdi95, mid80\n"
   ],
   "outputs": [
    {
     "data": {
      "text/plain": [
       "(0.899713219767197,\n",
       " 0.0538537939972254,\n",
       " 0.9285714285714286,\n",
       " (0.8489856526075209, 0.9753942134777118),\n",
       " (0.7940241261748362, 0.9875601421183857),\n",
       " (0.826614653111004, 0.9613200648304874))"
      ]
     },
     "execution_count": 9,
     "metadata": {},
     "output_type": "execute_result"
    }
   ],
   "execution_count": 9
  },
  {
   "cell_type": "code",
   "id": "2c1053f0",
   "metadata": {
    "ExecuteTime": {
     "end_time": "2025-10-27T16:39:24.605350Z",
     "start_time": "2025-10-27T16:39:24.552757Z"
    }
   },
   "source": [
    "\n",
    "# Visualize posterior density and intervals\n",
    "xs = np.linspace(0,1,600)\n",
    "pdf = beta_pdf(xs, alpha_post, beta_post)\n",
    "pdf /= np.trapz(pdf, xs)\n",
    "\n",
    "fig, ax = with_ax(title=\"Posterior for π | Beta–Binomial\", xlabel=\"π\", ylabel=\"density\")\n",
    "ax.plot(xs, pdf, label=f\"Beta({alpha_post},{beta_post})\")\n",
    "ax.axvline(mean_post, linestyle=\"--\", label=\"mean\")\n",
    "if not np.isnan(map_post):\n",
    "    ax.axvline(map_post, linestyle=\":\", label=\"MAP\")\n",
    "ax.axvspan(*hdi80, alpha=0.2, label=\"80% HDI\")\n",
    "ax.legend(); plt.show()\n"
   ],
   "outputs": [
    {
     "data": {
      "text/plain": [
       "<Figure size 600x400 with 1 Axes>"
      ],
      "image/png": "[encoded data removed]"
     },
     "metadata": {},
     "output_type": "display_data",
     "jetTransient": {
      "display_id": null
     }
    }
   ],
   "execution_count": 10
  },
  {
   "cell_type": "markdown",
   "id": "8ed30004",
   "metadata": {},
   "source": [
    "\n",
    "## Prediction: posterior predictive for counts\n",
    "\n",
    "Back to tongue rolling: with posterior over $\\pi$, predict the number $Y_{\\text{new}}$ who can roll their tongue in a new class of size $m=40$.\n",
    "\n",
    "Two approaches:\n",
    "- **Analytic Beta–Binomial predictive** (not coded here)\n",
    "- **Sampling**: draw $\\pi^{(i)}\\sim p(\\pi\\mid \\text{data})$, then $y^{(i)}\\sim \\mathrm{Binomial}(m,\\pi^{(i)})$\n"
   ]
  },
  {
   "cell_type": "code",
   "id": "0039017b",
   "metadata": {
    "ExecuteTime": {
     "end_time": "2025-10-27T16:39:24.628929Z",
     "start_time": "2025-10-27T16:39:24.620903Z"
    }
   },
   "source": [
    "\n",
    "m = 40\n",
    "pis = rng.beta(alpha_post, beta_post, size=50_000)\n",
    "y_new = rng.binomial(m, pis)\n",
    "y_mean = y_new.mean()\n",
    "y_sd = y_new.std(ddof=1)\n",
    "y_hdi80 = hdi_interval(y_new, 0.80)\n",
    "y_hdi95 = hdi_interval(y_new, 0.95)\n",
    "\n",
    "y_mean, y_sd, y_hdi80, y_hdi95\n"
   ],
   "outputs": [
    {
     "data": {
      "text/plain": [
       "(35.96896, 2.854995540870558, (33.0, 39.0), (31.0, 40.0))"
      ]
     },
     "execution_count": 11,
     "metadata": {},
     "output_type": "execute_result"
    }
   ],
   "execution_count": 11
  },
  {
   "cell_type": "code",
   "id": "381e96f7",
   "metadata": {
    "ExecuteTime": {
     "end_time": "2025-10-27T16:39:24.680580Z",
     "start_time": "2025-10-27T16:39:24.634594Z"
    }
   },
   "source": [
    "\n",
    "# Visualize posterior predictive\n",
    "vals, counts = np.unique(y_new, return_counts=True)\n",
    "pmf = counts / counts.sum()\n",
    "\n",
    "fig, ax = with_ax(title=\"Posterior Predictive for new class (m=40)\", xlabel=\"y_new\", ylabel=\"probability\")\n",
    "ax.stem(vals, pmf) #, use_line_collection=True)\n",
    "ax.axvspan(*y_hdi80, alpha=0.2, label=\"80% HDI\")\n",
    "ax.legend(); plt.show()\n"
   ],
   "outputs": [
    {
     "data": {
      "text/plain": [
       "<Figure size 600x400 with 1 Axes>"
      ],
      "image/png": "[encoded data removed]"
     },
     "metadata": {},
     "output_type": "display_data",
     "jetTransient": {
      "display_id": null
     }
    }
   ],
   "execution_count": 12
  },
  {
   "cell_type": "markdown",
   "id": "075269a5",
   "metadata": {},
   "source": [
    "\n",
    "### Decomposing predictive uncertainty\n",
    "\n",
    "Variance decomposition:\n",
    "$$\n",
    "\\operatorname{Var}(Y_{\\text{new}})=\\mathbb{E}[\\operatorname{Var}(Y_{\\text{new}}\\mid \\pi)]\\;+\\;\\operatorname{Var}(\\mathbb{E}[Y_{\\text{new}}\\mid \\pi]).\n",
    "$$\n",
    "- **Aleatoric**: $\\mathbb{E}[m\\,\\pi(1-\\pi)]$  \n",
    "- **Epistemic**: $\\operatorname{Var}(m\\,\\pi)$\n"
   ]
  },
  {
   "cell_type": "code",
   "id": "e3ce6c07",
   "metadata": {
    "ExecuteTime": {
     "end_time": "2025-10-27T16:39:24.704294Z",
     "start_time": "2025-10-27T16:39:24.701068Z"
    }
   },
   "source": [
    "\n",
    "aleatoric = np.mean(m * pis * (1 - pis))\n",
    "epistemic = np.var(m * pis, ddof=1)\n",
    "total_est = aleatoric + epistemic\n",
    "empirical = np.var(y_new, ddof=1)\n",
    "aleatoric, epistemic, total_est, empirical\n"
   ],
   "outputs": [
    {
     "data": {
      "text/plain": [
       "(3.501436183241799, 4.661498933347135, 8.162935116588933, 8.150999538390769)"
      ]
     },
     "execution_count": 13,
     "metadata": {},
     "output_type": "execute_result"
    }
   ],
   "execution_count": 13
  },
  {
   "cell_type": "markdown",
   "id": "6581b090",
   "metadata": {},
   "source": [
    "\n",
    "## Hypothesis testing: Bayesian versions\n",
    "\n",
    "We illustrate both one-sided and two-sided tests for the tongue-rolling scenario ($n=28, k=26$).\n"
   ]
  },
  {
   "cell_type": "markdown",
   "id": "c64adbcc",
   "metadata": {},
   "source": [
    "\n",
    "### One-sided hypothesis: is $\\pi > 0.8$?\n",
    "\n",
    "Posterior probability:\n",
    "$$\n",
    "P(\\pi>0.8\\mid \\text{data}) \\approx \\frac{1}{N}\\sum_{i=1}^N \\mathbf{1}\\{\\pi^{(i)}>0.8\\}.\n",
    "$$\n",
    "\n",
    "For a simple Bayes factor with **truncated uniform** priors:\n",
    "$$\n",
    "\\text{BF}_{10}=\\frac{\\int_{0.8}^{1} \\pi^k(1-\\pi)^{n-k}\\, d\\pi}{\\int_{0}^{0.8} \\pi^k(1-\\pi)^{n-k}\\, d\\pi}\\cdot\\frac{0.8}{0.2}.\n",
    "$$\n"
   ]
  },
  {
   "cell_type": "code",
   "id": "871158cb",
   "metadata": {
    "ExecuteTime": {
     "end_time": "2025-10-27T16:39:24.730287Z",
     "start_time": "2025-10-27T16:39:24.726092Z"
    }
   },
   "source": [
    "\n",
    "p_gt_08 = np.mean(samps > 0.8)\n",
    "\n",
    "def incomplete_beta_like(a,b, lo, hi, m=20000):\n",
    "    xs = np.linspace(lo, hi, m)\n",
    "    f = xs**(a-1) * (1-xs)**(b-1)\n",
    "    return np.trapz(f, xs)\n",
    "\n",
    "k, n = 26, 28\n",
    "num = incomplete_beta_like(k+1, n-k+1, 0.8, 1.0)\n",
    "den = incomplete_beta_like(k+1, n-k+1, 0.0, 0.8)\n",
    "BF10 = (num/den) * (1.0/0.2)  # uniform density factor\n",
    "BF10, p_gt_08\n"
   ],
   "outputs": [
    {
     "data": {
      "text/plain": [
       "(91.09439503100275, 0.94776)"
      ]
     },
     "execution_count": 14,
     "metadata": {},
     "output_type": "execute_result"
    }
   ],
   "execution_count": 14
  },
  {
   "cell_type": "markdown",
   "id": "14e50429",
   "metadata": {},
   "source": [
    "\n",
    "### Two-sided hypothesis via ROPE\n",
    "\n",
    "Take $\\pi_0=0.93$ and $\\delta=0.03$; ROPE $=[0.90, 0.96]$.\n",
    "Compute posterior mass inside vs outside the ROPE.\n"
   ]
  },
  {
   "cell_type": "code",
   "id": "e8c1a2ff",
   "metadata": {
    "ExecuteTime": {
     "end_time": "2025-10-27T16:39:24.745881Z",
     "start_time": "2025-10-27T16:39:24.743179Z"
    }
   },
   "source": [
    "\n",
    "pi0, delta = 0.93, 0.03\n",
    "rope = (pi0-delta, pi0+delta)\n",
    "p_inside = np.mean((samps >= rope[0]) & (samps <= rope[1]))\n",
    "p_outside = 1 - p_inside\n",
    "rope, p_inside, p_outside\n"
   ],
   "outputs": [
    {
     "data": {
      "text/plain": [
       "((0.9, 0.9600000000000001), 0.45524, 0.54476)"
      ]
     },
     "execution_count": 15,
     "metadata": {},
     "output_type": "execute_result"
    }
   ],
   "execution_count": 15
  },
  {
   "cell_type": "markdown",
   "id": "4a73d604",
   "metadata": {},
   "source": [
    "\n",
    "## Practical example: A/B testing on queue lengths\n",
    "\n",
    "Daily average queue sizes (15 days each):\n",
    "- Before: $y_b = [13,10,9,5,8,10,9,8,11,9,7,9,9,8,12]$\n",
    "- After: $y_a = [3,8,8,10,6,5,3,5,2,9,3,10,4,2,8]$\n",
    "\n",
    "Use a Normal likelihood with **Normal–Inverse-Gamma** prior for each group.\n"
   ]
  },
  {
   "cell_type": "code",
   "id": "10449eda",
   "metadata": {
    "ExecuteTime": {
     "end_time": "2025-10-27T16:39:24.764933Z",
     "start_time": "2025-10-27T16:39:24.755625Z"
    }
   },
   "source": [
    "\n",
    "y_b = np.array([13,10,9,5,8,10,9,8,11,9,7,9,9,8,12], dtype=float)\n",
    "y_a = np.array([3,8,8,10,6,5,3,5,2,9,3,10,4,2,8], dtype=float)\n",
    "\n",
    "def nig_update(y, m0=10.0, k0=1.0, a0=3.0, b0=18.0):\n",
    "    n = len(y)\n",
    "    ybar = y.mean()\n",
    "    s2 = np.sum((y - ybar)**2)\n",
    "    kn = k0 + n\n",
    "    mn = (k0*m0 + n*ybar) / kn\n",
    "    an = a0 + n/2\n",
    "    bn = b0 + 0.5*s2 + 0.5*(k0*n/kn)*(ybar - m0)**2\n",
    "    return mn, kn, an, bn\n",
    "\n",
    "def sample_nig(mn, kn, an, bn, size=1, rng=None):\n",
    "    if rng is None:\n",
    "        rng = np.random.default_rng()\n",
    "    sigma2 = 1.0 / rng.gamma(shape=an, scale=1.0/bn, size=size)  # InvGamma\n",
    "    mu = rng.normal(loc=mn, scale=np.sqrt(sigma2/kn), size=size)\n",
    "    return mu, sigma2\n",
    "\n",
    "mn_b, kn_b, an_b, bn_b = nig_update(y_b)\n",
    "mn_a, kn_a, an_a, bn_a = nig_update(y_a)\n",
    "\n",
    "mu_b, s2_b = sample_nig(mn_b, kn_b, an_b, bn_b, size=50_000, rng=rng)\n",
    "mu_a, s2_a = sample_nig(mn_a, kn_a, an_a, bn_a, size=50_000, rng=rng)\n",
    "\n",
    "delta = mu_b - mu_a\n",
    "delta_mean = delta.mean()\n",
    "delta_hdi90 = hdi_interval(delta, 0.90)\n",
    "p_reduction = np.mean(delta > 0)  # positive => before > after\n",
    "\n",
    "delta_mean, delta_hdi90, p_reduction\n"
   ],
   "outputs": [
    {
     "data": {
      "text/plain": [
       "(3.1871809149306607, (1.6593628098555513, 4.69291432651692), 0.99954)"
      ]
     },
     "execution_count": 16,
     "metadata": {},
     "output_type": "execute_result"
    }
   ],
   "execution_count": 16
  },
  {
   "cell_type": "code",
   "id": "1bfd62a2",
   "metadata": {
    "ExecuteTime": {
     "end_time": "2025-10-27T16:39:24.837455Z",
     "start_time": "2025-10-27T16:39:24.775107Z"
    }
   },
   "source": [
    "\n",
    "# Visualize the posterior of the difference\n",
    "fig, ax = with_ax(title=\"Posterior for Δ = μ_before − μ_after\", xlabel=\"Δ (people)\", ylabel=\"density\")\n",
    "ax.hist(delta, bins=60, density=True, alpha=0.85)\n",
    "ax.axvspan(*delta_hdi90, alpha=0.25, label=\"90% HDI\")\n",
    "ax.axvline(delta_mean, linestyle=\"--\", label=\"mean\")\n",
    "ax.legend(); plt.show()\n"
   ],
   "outputs": [
    {
     "data": {
      "text/plain": [
       "<Figure size 600x400 with 1 Axes>"
      ],
      "image/png": "[encoded data removed]"
     },
     "metadata": {},
     "output_type": "display_data",
     "jetTransient": {
      "display_id": null
     }
    }
   ],
   "execution_count": 17
  },
  {
   "cell_type": "code",
   "id": "02ead633",
   "metadata": {
    "ExecuteTime": {
     "end_time": "2025-10-27T16:39:24.855677Z",
     "start_time": "2025-10-27T16:39:24.849424Z"
    }
   },
   "source": [
    "\n",
    "# Posterior predictive for tomorrow after the feature: y_new ~ N(μ, σ)\n",
    "y_new_a = rng.normal(mu_a, np.sqrt(s2_a))\n",
    "pred_mean = y_new_a.mean()\n",
    "pred_sd = y_new_a.std(ddof=1)\n",
    "pred_hdi90 = hdi_interval(y_new_a, 0.90)\n",
    "\n",
    "pred_mean, pred_sd, pred_hdi90\n"
   ],
   "outputs": [
    {
     "data": {
      "text/plain": [
       "(5.992620674275512,\n",
       " 3.0761236687852938,\n",
       " (1.0711360775809826, 11.15549545845544))"
      ]
     },
     "execution_count": 18,
     "metadata": {},
     "output_type": "execute_result"
    }
   ],
   "execution_count": 18
  },
  {
   "cell_type": "code",
   "id": "0c36dc40",
   "metadata": {
    "ExecuteTime": {
     "end_time": "2025-10-27T16:39:24.931061Z",
     "start_time": "2025-10-27T16:39:24.865608Z"
    }
   },
   "source": [
    "\n",
    "# Visualize predictive\n",
    "fig, ax = with_ax(title=\"Posterior predictive — after feature\", xlabel=\"y_new (people)\", ylabel=\"density\")\n",
    "ax.hist(y_new_a, bins=60, density=True, alpha=0.85)\n",
    "ax.axvspan(*pred_hdi90, alpha=0.25, label=\"90% HDI\")\n",
    "ax.axvline(pred_mean, linestyle=\"--\", label=\"mean\")\n",
    "ax.legend(); plt.show()\n"
   ],
   "outputs": [
    {
     "data": {
      "text/plain": [
       "<Figure size 600x400 with 1 Axes>"
      ],
      "image/png": "[encoded data removed]"
     },
     "metadata": {},
     "output_type": "display_data",
     "jetTransient": {
      "display_id": null
     }
    }
   ],
   "execution_count": 19
  },
  {
   "cell_type": "markdown",
   "id": "18cf277d",
   "metadata": {},
   "source": [
    "\n",
    "## Key takeaways\n",
    "- Summarize posteriors with **mean/MAP/SD** and **credible intervals** (HDI or middle).  \n",
    "- Posterior predictive integrates over parameter uncertainty; predictive variance decomposes into **aleatoric + epistemic** parts.  \n",
    "- Bayesian hypothesis tests yield **posterior probabilities** for hypotheses; one-sided via truncated priors and two-sided via **ROPE**.  \n",
    "- Conjugate **Normal–Inverse-Gamma** makes A/B comparisons and prediction straightforward without external libraries.\n"
   ]
  }
 ],
 "metadata": {
  "kernelspec": {
   "name": "python3",
   "language": "python",
   "display_name": "Python 3 (ipykernel)"
  }
 },
 "nbformat": 4,
 "nbformat_minor": 5
}
